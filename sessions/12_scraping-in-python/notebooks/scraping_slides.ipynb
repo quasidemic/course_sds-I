{
 "cells": [
  {
   "cell_type": "markdown",
   "id": "f27c7743-ac00-4dd5-b9ca-6fb6f30ae453",
   "metadata": {
    "slideshow": {
     "slide_type": "slide"
    },
    "tags": []
   },
   "source": [
    "# Scraping og API-kald i Python"
   ]
  },
  {
   "cell_type": "markdown",
   "id": "16afcb9b-2267-4719-bf62-bcdb7f46292c",
   "metadata": {
    "editable": true,
    "jp-MarkdownHeadingCollapsed": true,
    "slideshow": {
     "slide_type": "slide"
    },
    "tags": []
   },
   "source": [
    "## Program\n",
    "\n",
    "- Opfølgning fra sidste undervisningsgang\n",
    "- Introduktion til web scraping\n",
    "- Lidt om internettet og HTML\n",
    "- At tilgå internettet med Python (\"requests\" i Python)\n",
    "- API-kald i Python\n",
    "- Scraping af HTML med `BeautifulSoup`\n",
    "- Introduktion til crawlers med `scrapy`"
   ]
  },
  {
   "cell_type": "markdown",
   "id": "1ffaa63a-1549-4572-897e-78ec89457ef7",
   "metadata": {
    "editable": true,
    "slideshow": {
     "slide_type": "slide"
    },
    "tags": []
   },
   "source": [
    "# Opfølgning fra sidste undervisningsgang"
   ]
  },
  {
   "cell_type": "markdown",
   "id": "a98f2c2b-8841-440e-9ffa-f1f605c9ceff",
   "metadata": {
    "editable": true,
    "slideshow": {
     "slide_type": "slide"
    },
    "tags": []
   },
   "source": [
    "## Hvad er web scraping?\n",
    "\n",
    "\"Web scraping\" er en paraplybetegnelse for (primært) automatiserede måder at indsamle information fra internettet (\"the web\"). Typisk er der tale om indsamling, som *ikke* er foregået manuelt via browser.\n",
    "\n",
    "\"Crawling\", \"scraping\" og \"spiders\" er alle former for scraping. Programmer og scripts til scraping omtale også som \"(ro)bots\".\n",
    "\n",
    "At arbejde med web scraping involverer både indsamling af rådata fra internettet og håndtering og konvertering af rådata til en håndterbar datastruktur."
   ]
  },
  {
   "cell_type": "markdown",
   "id": "f0adc765-b0af-4404-8eda-5ce9db75c885",
   "metadata": {
    "editable": true,
    "slideshow": {
     "slide_type": "slide"
    },
    "tags": []
   },
   "source": [
    "## En kort introduktion til internettet\n",
    "\n",
    "På dansk bruges ordet \"internettet\" typisk til at dække over flere ting: både infrastrukturen, der skaber koblingen mellem maskinerne (\"har du internet?\") samt indholdet på hjemmesider, som tilgås via browser (\"jeg fandt det her på internettet\"). På den måde kan man nemt glemme, at internettet består af mange komponenter:\n",
    "\n",
    "**\"The internet\"**: Et globalt system af forbundne computere, server og andre maskiner.\n",
    "- \"Internet\" er en sammentrækning af \"interconnected network\"\n",
    "\n",
    "**(World Wide) Web (WWW)**: En samling af ressourcer og materiale, som er gjort tilgængeligt via internettet.\n",
    "- \"The web\" kan betragtes som de \"navigérbare\" og offentlige dele af internettet. \n",
    "\n",
    "**IP**: \"internet protocol\" - en unik adresse på internettet\n",
    "- Hver maskine på internettet har et unikt id i form af en IP-addresse (fx 127.28.115.253)\n",
    "\n",
    "**URL**: Unik og menneskelig læsbar adresse til en server på internettet. \n",
    "- Forkortelse for \"uniform ressource locators\"\n",
    "\n",
    "**Trafik på internettet**\n",
    "- Når man tilgår internettet via \"the web\", skaber man forbindelse til andre maskiner/servere for at hente information.\n",
    "- Koblinger mellem IP-adresser og URL'er håndteres af DNS servere (DNS: Domain Name System)"
   ]
  },
  {
   "cell_type": "markdown",
   "id": "484140fb-d868-4e64-8aa0-aa127495dd81",
   "metadata": {
    "editable": true,
    "slideshow": {
     "slide_type": "slide"
    },
    "tags": []
   },
   "source": [
    "<img src=\"../img/internet.png\" alt=\"opte\" width=\"600\"/>\n",
    "\n",
    "*Opte Project 2005*\n",
    "\n",
    "- Internettet er ikke en forbindelse mellem én computer og én central server. Det er et netværk med mange forbindelser og afhængigheder."
   ]
  },
  {
   "cell_type": "markdown",
   "id": "3b01d93f-b8ec-4a18-8d0f-c76831df736f",
   "metadata": {
    "editable": true,
    "slideshow": {
     "slide_type": "slide"
    },
    "tags": []
   },
   "source": [
    "![dns](../img/dns.png)\n",
    "\n",
    "*Konsekvens*: Ingen fælles \"telefonbog\" for internettet."
   ]
  },
  {
   "cell_type": "markdown",
   "id": "968d7947-89ad-4fb1-809f-5bbf7d7031f9",
   "metadata": {
    "editable": true,
    "slideshow": {
     "slide_type": "slide"
    },
    "tags": []
   },
   "source": [
    "## Legaliteten af web scraping\n",
    "\n",
    "### Web scraping og copyright\n",
    "\n",
    "- Information og materials, som virksomheder, organisationer, privatpersoner mm. lægger på offentligt tilgængelige hjemmesider er stadig ejet af disse entiteter!\n",
    "- Mange hjemmesider har brugsbetingelser, der frabeder eller forbyder sig web scraping (da man nemt kan stjæle andres materiale på denne måde)\n",
    "\n",
    "### Web scraping og persondata\n",
    "\n",
    "- Data på sociale medier er en gevaldig gråzone ift. persondata\n",
    "- Som udgangspunkt har man hjemmel til at behandle data, som personer har frivilligt har gjort offentligt tilgængeligt\n",
    "- *MEN:* Hvornår kan noget siges at være \"offentligt\" på sociale medier, og er personen opmærksom på, at de har gjort det offentligt?\n",
    "- Offentliggjort persondata er i øvrigt stadig persondata, så krav til opbevaring og oplysningspligt gælder i princippet stadig\n",
    "\n",
    "Hjemmesider som Facebook, X, Instagram og Twitter har i øvrigt brugsbetingelser (og sikkerhedsforanstaltninger i øvrigt), der forhindrer og forbyder automatisk indsamling af deres data."
   ]
  },
  {
   "cell_type": "markdown",
   "id": "809713bf-0323-444a-bdd0-30604a5b3888",
   "metadata": {
    "editable": true,
    "slideshow": {
     "slide_type": "slide"
    },
    "tags": []
   },
   "source": [
    "## Legaliteten af web scraping\n",
    "\n",
    "### Web scraping og \"hacking\"\n",
    "\n",
    "- Indholdet fra en hjemmeside befinder sig altid på en server, som er ejet af nogen.\n",
    "- Hver gang man besøger en hjemmeside, sender man en henvendelse, som skal bearbejdes af serveren\n",
    "- Jo flere henvendelser, jo mere belastet bliver serveren (tænk på når der er årsopgørelse)\n",
    "- Python gør det nemt for os at skrive kommandoer, som sender ufatteligt mange henvendelser på meget kort tid.\n",
    "\n",
    "***Dette kan betragtes som et angreb og et forsøg på at overbelaste serveren, hvilket er ulovligt!!***"
   ]
  },
  {
   "cell_type": "markdown",
   "id": "12f9e384-d428-445b-82cb-3d819682f694",
   "metadata": {
    "editable": true,
    "slideshow": {
     "slide_type": "slide"
    },
    "tags": []
   },
   "source": [
    "## robots.txt\n",
    "\n",
    "\"robots.txt\" er en gammel konvention til at sætte betingelser for, hvad en bot (altså en scraper) må på hjemmesiden.\n",
    "\n",
    "Den skrives i blokke med følgende:\n",
    "- \"User-agent\": Hvem gælder betingelserne for? (typisk navnet på en bestemt bot, en type browser eller andet)\n",
    "    - \"*\" betyder alle\n",
    "- \"Disallow\": Hvilke dele af hjemmesiden, må bots ikke tilgå?\n",
    "    - \"/\" betyder hele hjemmesiden\n",
    "    - \"Disallow\" vægter højere end \"Allow\"\n",
    "- \"Allow\": Hvilke dele af hjemmesiden, må bots gerne tilgå? (hvis ikke angivet, er alt ikke listet under \"Disallow\" tilladt)\n",
    "\n",
    "Det er ikke et juridisk dokument, så man kan ikke retsforfølges på nogen måde for ikke at følge robots.txt, men typisk hænger robots.txt sammen med brugsbetingelserne (som man i nogen tilfælde kan retsforfølges på baggrund af)."
   ]
  },
  {
   "cell_type": "markdown",
   "id": "4ab0fc58-3a0c-4864-a9b5-41334d1f5bd0",
   "metadata": {
    "editable": true,
    "slideshow": {
     "slide_type": "slide"
    },
    "tags": []
   },
   "source": [
    "### Eksempel på robots.txt\n",
    "\n",
    "```\r\n",
    "User-agent: *\r\n",
    "Disallow: /lyricsdb/\r\n",
    "Disallow: /song/\r\n",
    "Allow: /\r\n",
    "\r\n",
    "User-agent: 008\r\n",
    "Disallow: /\r\n",
    "```"
   ]
  },
  {
   "cell_type": "markdown",
   "id": "7b98b43d-3b40-47b1-a3a2-76bad08d7b77",
   "metadata": {
    "editable": true,
    "slideshow": {
     "slide_type": "slide"
    },
    "tags": []
   },
   "source": [
    "## At tilgå internettet i Python\n",
    "\n",
    "To skridt involveret i at samle data fra internettet:\n",
    "\n",
    "**1. Send (http) request (GET eller POST)**\n",
    "\n",
    "**2. Behandl indhold**\n",
    "- For scraping: Kildekode (HTML)\n",
    "- For API'er: Afhænger af API (ofte i JSON format)\n",
    "    \n",
    "Ved API'er bruger man længst tid på 1 (hvordan virker API'en, og hvordan formulerer jeg den rigtige forespørgsel?)\n",
    "\n",
    "Ved scraping bruger man længst tid på 2 (hvordan sorterer jeg i hjemmesidens kildekode?)"
   ]
  },
  {
   "cell_type": "markdown",
   "id": "cde2f724-7505-493a-9654-5b20ba0c59af",
   "metadata": {
    "editable": true,
    "slideshow": {
     "slide_type": "slide"
    },
    "tags": []
   },
   "source": [
    "## HTTP requests\n",
    "\n",
    "<img src=\"https://developer.mozilla.org/en-US/docs/Learn/Getting_started_with_the_web/How_the_Web_works/simple-client-server.png\" style=\"width:50.0%\" />\n",
    "\n",
    "**Request**\n",
    "- Det, som vi afsender\n",
    "- GET requests: Typisk brugt for at *anmode* om information (API og browser)\n",
    "- POST requests: Typisk brugt for at *tilføje* noget\n",
    "    - Grundet begrænsninger ved GET requests, bruges POST requests også nogen gange til at hente information fra API'er\n",
    "\n",
    "**Response**\n",
    "- Det, som returneres\n",
    "- Data af en eller anden form - afhænger af modtagende server"
   ]
  },
  {
   "cell_type": "markdown",
   "id": "9403f788-2273-48a5-bac3-8e3d3076872c",
   "metadata": {
    "editable": true,
    "slideshow": {
     "slide_type": "slide"
    },
    "tags": []
   },
   "source": [
    "## Statuskoder\n",
    "\n",
    "En HTTP request returnerer altid en statuskode.\n",
    "\n",
    "- Statuskode der starter med 2 eller 3: Request successful\n",
    "    - 200 = \"OK\"\n",
    "- Statuskode der starter med 4: Request har fejlet (\"client-side\", fx 404).\n",
    "- Statuskode der starter med 5: Request har fejlet (server-side)"
   ]
  },
  {
   "cell_type": "markdown",
   "id": "45fcf50d-35f7-45fa-9242-64e476f4540b",
   "metadata": {
    "slideshow": {
     "slide_type": "slide"
    },
    "tags": []
   },
   "source": [
    "## Requests med `requests`\n",
    "\n",
    "`requests` indeholder funktioner til at sende HTTP requests.\n",
    "\n",
    "En browser sender en GET request, når den skal \"hente\" en hjemmeside:"
   ]
  },
  {
   "cell_type": "code",
   "execution_count": 1,
   "id": "0cdb006a-4059-4830-8348-ef39ba64b4c4",
   "metadata": {
    "slideshow": {
     "slide_type": "fragment"
    },
    "tags": []
   },
   "outputs": [],
   "source": [
    "import requests\n",
    "\n",
    "r = requests.get(\"https://www.aau.dk\")"
   ]
  },
  {
   "cell_type": "markdown",
   "id": "5eb0338f-1112-44c0-9b2d-d42978e30b2b",
   "metadata": {
    "slideshow": {
     "slide_type": "fragment"
    },
    "tags": []
   },
   "source": [
    "`r` er nu en \"response\" class med forskellige attributter; fx `.status_code`:"
   ]
  },
  {
   "cell_type": "code",
   "execution_count": 2,
   "id": "729ce1e7-0726-460f-bd9c-a45be2261311",
   "metadata": {
    "tags": []
   },
   "outputs": [
    {
     "data": {
      "text/plain": [
       "200"
      ]
     },
     "execution_count": 2,
     "metadata": {},
     "output_type": "execute_result"
    }
   ],
   "source": [
    "r.status_code"
   ]
  },
  {
   "cell_type": "markdown",
   "id": "7c4dd45c-6c53-44c9-b762-d7ed3daa5949",
   "metadata": {
    "slideshow": {
     "slide_type": "fragment"
    },
    "tags": []
   },
   "source": [
    "`.content` giver indholdet (her HTML kildekode):"
   ]
  },
  {
   "cell_type": "code",
   "execution_count": 3,
   "id": "5616b111-6a7c-411f-b294-b425b757005f",
   "metadata": {},
   "outputs": [
    {
     "data": {
      "text/plain": [
       "b'<!DOCTYPE html><html><head><link rel=\"stylesheet\" data-href=\"https://fonts.googleapis.com/css2?family=Barlow:ital,wght@0,100;0,200;0,300;0,400;0,500;0,600;0,700;0,800;0,900;1,100;1,200;1,300;1,400;1,500;1,600;1,700;1,800;1,900&amp;family=Montserrat:ital,wght@0,100;0,200;0,300;0,400;0,500;0,600;0,700;0,800;0,900;1,100;1,200;1,300;1,400;1,500;1,600;1,700;1,800;1,900&amp;family=Space+Mono:ital,wght@0,400;0,700;1,400&amp;display=swap\"/><link rel=\"preconnect\" href=\"https://fonts.gstatic.com\" crossorigin /><meta name=\"viewport\" content=\"width=device-width\"/><meta charSet=\"utf-8\"/><title>AAU - Viden for verden - Aalborg Universitet</title><meta name=\"description\" content=\"Aalborg Universitet - Problem- og projektbaseret forskning og uddannelse, der i samspil mellem AAU og omverdenen skaber viden, der forandrer verden.\"/><meta name=\"robots\" content=\"follow, index\"/><link rel=\"canonical\" href=\"https://www.aau.dk/\"/><meta property=\"og:url\" content=\"https://www.aau.dk/\"/><meta property=\"og:type\" '"
      ]
     },
     "execution_count": 3,
     "metadata": {},
     "output_type": "execute_result"
    }
   ],
   "source": [
    "r.content[0:1000]"
   ]
  },
  {
   "cell_type": "markdown",
   "id": "3206d6ca-8e87-4d96-babc-3711e00db843",
   "metadata": {
    "slideshow": {
     "slide_type": "slide"
    },
    "tags": []
   },
   "source": [
    "## API-kald i Python\n",
    "\n",
    "API: Application Programming Interface - henviser generelt til system-til-system \"sprog\" (ikke kun databaser).\n",
    "\n",
    "API'er er forskellige men indeholder typisk de samme delkomponenter:\n",
    "\n",
    "**Request:** Brug af API involverer at sende HTTP request (GET eller POST).\n",
    "\n",
    "**Endpoint:** API'er består typisk af flere *endpoints*. Disse er blot URL'er.\n",
    "\n",
    "**Parametre:** Parametre er de *argumetnter*, som endpointet accepterer. Via disse formuleres, hvad der efterspørges af API'en. \n",
    "\n",
    "**Autentificeirng:** Mange API'er kræver autentificering. Dette kan være HTTPS autentificering (brugernavn og kodeord) eller autentificering via *tokens*. Tokens er unikke nøgler, der identificerer, hvem eller hvad der laver request/henvendelse via API'en."
   ]
  },
  {
   "cell_type": "markdown",
   "id": "91fec287-0289-41b2-956e-d773ac5790ba",
   "metadata": {
    "slideshow": {
     "slide_type": "slide"
    },
    "tags": []
   },
   "source": [
    "## API-kald i Python (fiktivt eksempel)\n",
    "\n",
    "```python\n",
    "endpoint = \"https://api.database.com/search\" # hvilken URL har API'en endpoint?\n",
    "\n",
    "authentication = (\"myuser123\", \"!mypass123\") # autentificering - her via brugernavn og adgangskode\n",
    "\n",
    "parameters = {\"date_from\": \"2022-07-10\", # parametre - hvilke oplysninger skal hentes\n",
    "              \"date_to\": \"2022-08-10\",\n",
    "              \"q\": \"popsicles\"\n",
    "             }\n",
    "\n",
    "r = requests.get(endpoint, auth = authentication, params = parameters) # send get request (bemærk at \"auth\" og \"params\" er argumenter til requests.get())\n",
    "```"
   ]
  },
  {
   "cell_type": "markdown",
   "id": "8cfe17cf-ddc3-4b02-ab01-14357534400b",
   "metadata": {
    "slideshow": {
     "slide_type": "slide"
    },
    "tags": []
   },
   "source": [
    "# API-kald i Python (live-coding)"
   ]
  },
  {
   "cell_type": "markdown",
   "id": "55917625-c9da-4d7c-94bf-e59756fabfd8",
   "metadata": {
    "editable": true,
    "slideshow": {
     "slide_type": "slide"
    },
    "tags": []
   },
   "source": [
    "## ØVELSE: API-kald med DAWA\n",
    "\n",
    "Brug DAWA til at finde ud af, hvor mange kommuner der har en vej med navn \"Østergade\"."
   ]
  },
  {
   "cell_type": "markdown",
   "id": "eb3f62c1-cf16-4915-8ca5-fcb13f9470ac",
   "metadata": {
    "editable": true,
    "slideshow": {
     "slide_type": "slide"
    },
    "tags": []
   },
   "source": [
    "## (Kort) Introduktion til HTML\n",
    "\n",
    "Når man arbejder med \"rå\" web scraping, er materialet man får tilbage i form af rå kildekode.\n",
    "\n",
    "Det ville være meget besværligt at sortere i rå kildekode, som det ser ud. \n",
    "\n",
    "HTML har en struktur, som kan \"udnyttes\" til at filtrere unødvendig information fra."
   ]
  },
  {
   "cell_type": "markdown",
   "id": "4e39b98d-3ec7-409d-857e-160b5c3f3ffd",
   "metadata": {
    "slideshow": {
     "slide_type": "slide"
    },
    "tags": []
   },
   "source": [
    "## (Kort) Introduktion til HTML\n",
    "\n",
    "**Rå HTML**\n",
    "\n",
    "```\n",
    "    <html>\n",
    "        <body>\n",
    "            <div id=\"convo1\">\n",
    "                <p class=\"kenobi\">Hello There!</p>\n",
    "            </div>\n",
    "            <div id=\"convo2\">\n",
    "                <p class=\"grievous\">General Kenobi!</p>\n",
    "            </div>\n",
    "            <div id=\"convo3\">\n",
    "                <p class=\"kenobi\">So Uncivilized!</p>\n",
    "            </div>\n",
    "        </body>\n",
    "    </html>\n",
    "```    \n",
    "\n",
    "**Rendered (som vist på hjemmeside)**\n",
    "\n",
    "```\n",
    "Hello There!\n",
    "\n",
    "General Kenobi!\n",
    "\n",
    "So Uncivilized!\n",
    "```\n",
    "\n",
    "*Hvilken datastruktur minder rå HTML jer om?*"
   ]
  },
  {
   "cell_type": "markdown",
   "id": "5dcdbc78-dc27-4c12-9ad8-629070eb10ae",
   "metadata": {
    "slideshow": {
     "slide_type": "slide"
    },
    "tags": []
   },
   "source": [
    "## (Kort) Introduktion til HTML - Tags\n",
    "\n",
    "HTML står for \"Hyper-Text Markup Language\". Det bruges til at strukturere indhold på hjemmesider. \n",
    "\n",
    "HTML er opbygget af \"tags\" angivet med `<>` og `</>`. Disse fortæller hvilken type indhold, der er tale om. `<p>` er for eksempel \"paragraph\" (tekstafnit).\n",
    "- Typiske tags: `h1` for overskrifter (og `h2`, `h3` osv.), `a` for links og `div` for \"division\" eller adskillelse.\n",
    "\n",
    "HTML har en træ-lignende struktur. Tags befinder sig inde i andre tags. \n",
    "- \"Siblings\"/\"Søskende\": Tags på samme niveau \n",
    "- \"Children\"/\"Børn\": Tags under/inden i et andet tag\n",
    "- \"Parents\"/\"Forældre\": Tags over/uden for et andet tag"
   ]
  },
  {
   "cell_type": "markdown",
   "id": "a0bb9d6a-349b-4608-9dc8-90e18d332f70",
   "metadata": {
    "slideshow": {
     "slide_type": "slide"
    },
    "tags": []
   },
   "source": [
    "## (Kort) Introduktion til HTML - Attributes\n",
    "\n",
    "HTML bruger \"attributes\" til både at differentiere mellem den samme type tag og til at tilføje yderligere information til et tag.\n",
    "\n",
    "Opbyggeren af en hjemmeside kan selv navngive attributes, men visse standarder går igen:\n",
    "- `id` attribute: Giver tags unikt id (ideelt set) \n",
    "- `class` attribute: Differentierer typisk mellem forskellige tags af samme type - fx for at give forskellig styling/formatering\n",
    "- `href` attribute: Indeholder URL som hyperlink refererer til (typisk en del af et `a` tag)"
   ]
  },
  {
   "cell_type": "markdown",
   "id": "8894dbe2-3de5-4f08-b0f7-00172dc4e1ab",
   "metadata": {
    "slideshow": {
     "slide_type": "slide"
    },
    "tags": []
   },
   "source": [
    "## (Kort) Introduktion til HTML - Fælles øvelse\n",
    "\n",
    "*Uden at søge på tekstindholdet, hvordan kan vi så udlede teksten \"General Kenobi\" af nedenstående HTML-kode?*"
   ]
  },
  {
   "cell_type": "markdown",
   "id": "f40dd396-967e-4dab-a249-0a938c99b04b",
   "metadata": {},
   "source": [
    "```\n",
    "    <html>\n",
    "        <body>\n",
    "            <div id=\"convo1\">\n",
    "                <p class=\"kenobi\">Hello There!</p>\n",
    "            </div>\n",
    "            <div id=\"convo2\">\n",
    "                <p class=\"grievous\">General Kenobi!</p>\n",
    "            </div>\n",
    "            <div id=\"convo3\">\n",
    "                <p class=\"kenobi\">So Uncivilized!</p>\n",
    "            </div>\n",
    "        </body>\n",
    "    </html>\n",
    "``` "
   ]
  },
  {
   "cell_type": "markdown",
   "id": "41f85790-656b-4592-9431-56de30083857",
   "metadata": {
    "slideshow": {
     "slide_type": "slide"
    },
    "tags": []
   },
   "source": [
    "## Håndtering af HTML med `BeautifulSoup`\n",
    "\n",
    "Pakken `BeautifulSoup` gør det nemmere at håndtere og navigere i HTML kode.\n",
    "\n",
    "Pakkens funktioner er bygget op omkring et `soup` objekt.\n",
    "\n",
    "Pakken fungerer ved at konvertere kildekode/HTML fra en hjemmeside (en string) til et `soup` objekt.\n",
    "\n",
    "Man kan bruge HTML tags og attributes til at navigere i et `soup` objekt - blandt andet med metoderne `.find()` og `.find_all()`"
   ]
  },
  {
   "cell_type": "markdown",
   "id": "5b476582-fc8d-49da-8719-007fc412f556",
   "metadata": {
    "slideshow": {
     "slide_type": "slide"
    },
    "tags": []
   },
   "source": [
    "## Håndtering af HTML med `BeautifulSoup`\n",
    "\n",
    "`BeautifulSoup` fungerer ved at konvertere HTML til et `soup` objekt."
   ]
  },
  {
   "cell_type": "code",
   "execution_count": 4,
   "id": "08496943-6a0b-45ed-a9ae-436515c07003",
   "metadata": {
    "slideshow": {
     "slide_type": "fragment"
    },
    "tags": []
   },
   "outputs": [],
   "source": [
    "from bs4 import BeautifulSoup as bs\n",
    "\n",
    "soup = bs(r.content, \"html.parser\") # bruger indholdet fra aau.dk - se tidligere slide"
   ]
  },
  {
   "cell_type": "markdown",
   "id": "2295becd-959f-4fd8-a281-a4476faa7744",
   "metadata": {
    "slideshow": {
     "slide_type": "fragment"
    },
    "tags": []
   },
   "source": [
    "Derefter kan man bruge HTML strukturen til at navigere i kildekoden:"
   ]
  },
  {
   "cell_type": "code",
   "execution_count": 5,
   "id": "e790bf2d-c3a9-47d1-847b-f4637e596167",
   "metadata": {},
   "outputs": [
    {
     "data": {
      "text/plain": [
       "<h1 class=\"Heading_Heading__p89D6 Heading_Heading___display__24rOw Hero_Hero_heading__1w40w Hero_Hero_heading___small__1fNfP\" title=\"\"><span class=\"Hero_Hero_headingLine__3eOZd\">Aalborg Univer­sitet </span><span class=\"Hero_Hero_headingLine__3eOZd\">åbner nyt iværksætter- </span><span class=\"Hero_Hero_headingLine__3eOZd\">og innova­tionsmiljø</span></h1>"
      ]
     },
     "execution_count": 5,
     "metadata": {},
     "output_type": "execute_result"
    }
   ],
   "source": [
    "soup.find('h1')"
   ]
  },
  {
   "cell_type": "markdown",
   "id": "064b6cbe-33aa-4a21-8930-1aff068e6167",
   "metadata": {
    "slideshow": {
     "slide_type": "fragment"
    },
    "tags": []
   },
   "source": [
    "Selve teksten udledes med `.get_text()`: "
   ]
  },
  {
   "cell_type": "code",
   "execution_count": 6,
   "id": "77964d8d-f9f2-4fbc-ac6c-1e250fa9b9ea",
   "metadata": {},
   "outputs": [
    {
     "data": {
      "text/plain": [
       "'Aalborg Univer\\xadsitet åbner nyt iværksætter- og innova\\xadtionsmiljø'"
      ]
     },
     "execution_count": 6,
     "metadata": {},
     "output_type": "execute_result"
    }
   ],
   "source": [
    "soup.find('h1').get_text()"
   ]
  },
  {
   "cell_type": "markdown",
   "id": "8423dcc1-c87b-4298-80ab-400b5f976c7a",
   "metadata": {
    "slideshow": {
     "slide_type": "slide"
    },
    "tags": []
   },
   "source": [
    "## Håndtering af HTML med `BeautifulSoup`\n",
    "\n",
    "Metoderne `.find()` og `.find_all()` bruges til at navigere i HTML.\n",
    "\n",
    "- `.find()`: Returnerer første match som et nyt soup objekt\n",
    "- `.find_all()`: Returnerer alle matches som en liste af soup objekter"
   ]
  },
  {
   "cell_type": "markdown",
   "id": "2f688ffe-57a1-49d5-ae5f-cb15960c4426",
   "metadata": {
    "slideshow": {
     "slide_type": "fragment"
    },
    "tags": []
   },
   "source": [
    "Fordi metoderne returnerer nye soup objekter, kan man navigere i HTML'ens træstruktur:"
   ]
  },
  {
   "cell_type": "code",
   "execution_count": 7,
   "id": "51cc284c-735f-4d78-b1b0-289759e1ab7e",
   "metadata": {},
   "outputs": [
    {
     "data": {
      "text/plain": [
       "'Aalborg Univer\\xadsitet '"
      ]
     },
     "execution_count": 7,
     "metadata": {},
     "output_type": "execute_result"
    }
   ],
   "source": [
    "h1_soup = soup.find('h1')\n",
    "\n",
    "span_soup = h1_soup.find('span') # span er et \"barn\" til h1\n",
    "\n",
    "span_soup.get_text()"
   ]
  },
  {
   "cell_type": "markdown",
   "id": "d98fe1a2-8001-4478-a589-df726a0061a9",
   "metadata": {
    "slideshow": {
     "slide_type": "slide"
    },
    "tags": []
   },
   "source": [
    "## Håndtering af HTML med `BeautifulSoup` - Attributes\n",
    "\n",
    "`BeautifulSoup` understøtter at søge efter attributes. Attributes som `id` og `class` har sine egne argumenter:\n",
    "\n",
    "```python\n",
    "soup.find('div', class_ = 'classname')\n",
    "\n",
    "soup.find('div', id = 'idname')\n",
    "```"
   ]
  },
  {
   "cell_type": "markdown",
   "id": "893c9f5e-62a0-4a62-b6b0-56f2c81f975c",
   "metadata": {
    "editable": true,
    "slideshow": {
     "slide_type": "fragment"
    },
    "tags": []
   },
   "source": [
    "Da attributter kan være kaldt alt muligt, kan man selv specificere attribut-navnet med `attrs`-argumentet (dictionary):\n",
    "\n",
    "```python\n",
    "soup.find('div', attrs = {'some_attribute': 'attribute_value'})\n",
    "```"
   ]
  },
  {
   "cell_type": "markdown",
   "id": "4c6e0973-9906-4f7f-b455-88fc5e5e2a89",
   "metadata": {
    "editable": true,
    "slideshow": {
     "slide_type": "subslide"
    },
    "tags": []
   },
   "source": [
    "*Bemærk!:* Søgning efter attributes understøtter regular expression:"
   ]
  },
  {
   "cell_type": "code",
   "execution_count": 8,
   "id": "420e90a9-afef-4214-aa99-654ff87f17a9",
   "metadata": {
    "editable": true,
    "slideshow": {
     "slide_type": "fragment"
    },
    "tags": []
   },
   "outputs": [
    {
     "data": {
      "text/plain": [
       "'Ekspertliste: FolketingsvalgRygtet svirrer om et snarligt folketingsvalg. Vi har samlet en liste over en række eksperter, som kan udtale sig om emner, der kunne blive centrale i en kommende valgkamp.Folketingsvalg'"
      ]
     },
     "execution_count": 8,
     "metadata": {},
     "output_type": "execute_result"
    }
   ],
   "source": [
    "import re\n",
    "\n",
    "soup.find('div', class_ = re.compile(r'TeaserCard')).get_text()"
   ]
  },
  {
   "cell_type": "markdown",
   "id": "a5e2e095-39db-43cc-bd8a-ad542805b1d0",
   "metadata": {
    "slideshow": {
     "slide_type": "slide"
    },
    "tags": []
   },
   "source": [
    "## Håndtering af HTML med `BeautifulSoup` - \"Familietræet\"\n",
    "\n",
    "`BeautifulSoup` har forskellige metoder til at navigere i HTML'ens træstruktur.\n",
    "\n",
    "- `soup.next_sibling`/`soup.previous_sibling`: Returnerer hhv. næste eller forrige tag, som er på samme niveau som nuværende \n",
    "- `soup.parent`: Returnerer tag over tag for nuværende soup objekt\n",
    "- `soup.parents`: Itererer over \"stamtræet\""
   ]
  },
  {
   "cell_type": "markdown",
   "id": "6459190f-d107-48ca-85e2-3431233d6de7",
   "metadata": {
    "slideshow": {
     "slide_type": "slide"
    },
    "tags": []
   },
   "source": [
    "# Web scraping i Python (live-coding)"
   ]
  },
  {
   "cell_type": "markdown",
   "id": "25dea8be-4d1e-4263-95af-b783d99e636d",
   "metadata": {
    "slideshow": {
     "slide_type": "slide"
    },
    "tags": []
   },
   "source": [
    "## Introduktion til crawling\n",
    "\n",
    "\"Crawlers\" eller \"spiders\" refererer typisk til programmer eller bots, der er bygget til at bevæge sig rundt på flere hjemmesider.\n",
    "\n",
    "**En crawler består typisk af følgende:**\n",
    "- Startbetingelser: Hvor skal crawleren starte?\n",
    "- Parsing funktioner: Hvad skal crawleren gøre? (typisk en eller flere web scraping funktioner)\n",
    "- Undtagelser: Hvad skal crawleren undgå?\n",
    "- Slutbetingelser: Hvornår skal crawleren stoppe?\n",
    "\n",
    "Grundet internettets opbygning, kan crawlere, der går på tværs af hjemmeider, være meget vanskelige at sætte op."
   ]
  },
  {
   "cell_type": "markdown",
   "id": "c2baba07-8473-4a3e-b303-a59ad94117c7",
   "metadata": {
    "slideshow": {
     "slide_type": "slide"
    },
    "tags": []
   },
   "source": [
    "## Introduktion til crawling\n",
    "\n",
    "*Crawlers bevæger sig altid mod overfladen!*\n",
    "\n",
    "<img src=\"../img/web_sea.png\" style=\"width:90.0% \"/>\n"
   ]
  },
  {
   "cell_type": "markdown",
   "id": "0bb2cd26-5599-43a3-b9a8-88d2090e929b",
   "metadata": {
    "slideshow": {
     "slide_type": "slide"
    },
    "tags": []
   },
   "source": [
    "## Introduktion til crawling\n",
    "\n",
    "En crawler kan sagtens sættes op med basis Python kommandoer:\n",
    "- Definere scraping-funktion (`def`)\n",
    "- Brug `requests` og `BeautifulSoup` til at skaffe og behandle hjemmesideindhold\n",
    "- Gentag scraping, så længe der er flere links (fx med et `while` loop) \n",
    "\n",
    "En crawler kræver dog en del fejlhåndtering:\n",
    "- Hvad skal der ske, hvis der ikke er flere links?\n",
    "- Hvad skal der ske, hvis request fejler?\n",
    "- Hvad skal der ske, hvis hjemmeside ikke indeholder det indhold, som scraper leder efter?\n",
    "- Osv.\n",
    "\n",
    "Derfor kan det ofte svare sig at bruge pakker til at bygge crawlers ud fra (fx `scrapy`)."
   ]
  },
  {
   "cell_type": "markdown",
   "id": "7cce2215-958c-47a7-919a-c15a037da8ec",
   "metadata": {
    "slideshow": {
     "slide_type": "slide"
    },
    "tags": []
   },
   "source": [
    "## Introduktion til crawling - Advarsel!\n",
    "\n",
    "*HUSK!:*\n",
    "\n",
    "<img src=\"https://developer.mozilla.org/en-US/docs/Learn/Getting_started_with_the_web/How_the_Web_works/simple-client-server.png\" style=\"width:50.0%\" />\n",
    "\n",
    "**Dette sker for *hver* henvendelse!**\n",
    "- Scraping af enkelt hjemmeside: én request én gang\n",
    "- Crawler: ??? requests inden for ??? tid\n",
    "\n",
    "En crawler *skal* have forsinkelser indbygget mellem requests - ellers kan det betragtes som et angreb på server (robots.txt vil også nogen gange specificere et \"crawl-delay\")"
   ]
  },
  {
   "cell_type": "markdown",
   "id": "ef7e9625-9d0a-4497-b87f-a54beeb95379",
   "metadata": {
    "slideshow": {
     "slide_type": "slide"
    },
    "tags": []
   },
   "source": [
    "## Introduktion til crawling\n",
    "\n",
    "En simpel måde at skabe forsinkelser er fx med `time.sleep()`"
   ]
  },
  {
   "cell_type": "code",
   "execution_count": 9,
   "id": "4f61cda4-7798-46a4-886c-fd3ff1342e5e",
   "metadata": {},
   "outputs": [
    {
     "name": "stdout",
     "output_type": "stream",
     "text": [
      "Jeg ventede i 5 sekunder!\n"
     ]
    }
   ],
   "source": [
    "from datetime import datetime\n",
    "import time\n",
    "\n",
    "start = datetime.now()\n",
    "\n",
    "time.sleep(5)\n",
    "\n",
    "end = datetime.now()\n",
    "\n",
    "print(f\"Jeg ventede i {(end-start).seconds} sekunder!\")"
   ]
  },
  {
   "cell_type": "markdown",
   "id": "46287660-beff-48f7-a3c6-83095451fd09",
   "metadata": {
    "slideshow": {
     "slide_type": "fragment"
    },
    "tags": []
   },
   "source": [
    "Scrapere fra `scrapy` vil dog have forsinkelse indbygget."
   ]
  },
  {
   "cell_type": "markdown",
   "id": "5cbc1153-1639-49e4-bd08-7d78ffce1b45",
   "metadata": {
    "slideshow": {
     "slide_type": "slide"
    },
    "tags": []
   },
   "source": [
    "# Crawling i Python (live-coding)"
   ]
  }
 ],
 "metadata": {
  "kernelspec": {
   "display_name": "Python 3 (ipykernel)",
   "language": "python",
   "name": "python3"
  },
  "language_info": {
   "codemirror_mode": {
    "name": "ipython",
    "version": 3
   },
   "file_extension": ".py",
   "mimetype": "text/x-python",
   "name": "python",
   "nbconvert_exporter": "python",
   "pygments_lexer": "ipython3",
   "version": "3.8.17"
  }
 },
 "nbformat": 4,
 "nbformat_minor": 5
}
