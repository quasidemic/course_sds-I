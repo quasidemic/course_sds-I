{
 "cells": [
  {
   "cell_type": "markdown",
   "id": "9f86c135-826b-43c6-b952-129fc35de05f",
   "metadata": {},
   "source": [
    "## API-kald i Python\n",
    "\n",
    "### Hvordan bruges API'er?\n",
    "\n",
    "API'er (til databaser) er meget forskellige, men indeholder typisk de samme følgende grundkomponenter:\n",
    "\n",
    "**Request:** Ligesom al anden kommunikation med internettet, involverer brug af API at sende en *request* (GET eller POST) til en server. \n",
    "\n",
    "**Endpoint:** API'er indeholder typisk flere forskellige *endpoints*. Tænk på disse som \"haner\", man kan koble sig på, for at udtrække data. Endpoints er URL'er, som en request skal sendes til.\n",
    "\n",
    "**Parameters:** Parametre er de argumenter eller indstillinger, som endpoint accepterer eller forventer. Nogle er krævet for overhovedet at få data tilbage, andre er valgfrie.\n",
    "\n",
    "**Authentication:** De fleste API'er kræver en eller anden form for autentificering. Man ser typisk to former for autentificering: HTTPS autentificering (brugernavn og adgangskode) og autentificering via \"tokens\". Tokens er unikke \"nøgler\" - en samling af tekst, tegn og tal, som for serveren unikt identificerer, hvem der sender henvendelsen."
   ]
  },
  {
   "cell_type": "markdown",
   "id": "f810dd0a-3531-4b4d-9348-56994c4eb388",
   "metadata": {},
   "source": [
    "## Ekesempel 1: Brug af Statistikbankens API\n",
    "\n",
    "Link til API dokumentation: https://www.dst.dk/en/Statistik/brug-statistikken/muligheder-i-statistikbanken/api\n",
    "\n",
    "Man kan tilgå data i Statistikbanken via API.\n",
    "\n",
    "I det følgende ses nogle eksempler på at bruge API'en via Python.\n",
    "\n",
    "*Bemærk*: Denne API kræver ikke autentificering"
   ]
  },
  {
   "cell_type": "markdown",
   "id": "41ef74b0-fd24-45ff-92f7-20da71b79970",
   "metadata": {},
   "source": [
    "### Udtræk data fra Statistikbankens API"
   ]
  },
  {
   "cell_type": "code",
   "execution_count": 5,
   "id": "ffa8dd46-5eae-470b-b410-8bae415ca331",
   "metadata": {},
   "outputs": [
    {
     "name": "stdout",
     "output_type": "stream",
     "text": [
      "﻿OMRÅDE;ALDER;TID;INDHOLD\n",
      "København;20-24 år;2023K3;64226\n",
      "København;25-29 år;2023K3;91941\n",
      "Aalborg;20-24 år;2023K3;22223\n",
      "Aalborg;25-29 år;2023K3;22098\n",
      "\n"
     ]
    }
   ],
   "source": [
    "import requests\n",
    "\n",
    "statbank_api = \"https://api.statbank.dk/v1/data\"  #Endpoint of the data API\n",
    "\n",
    "param = {'table': 'folk1c',\n",
    "            'format': 'CSV',\n",
    "            'variables': [{'code': 'OMRÅDE', 'values': ['101', '851']},  #Request in JSON/dictionary\n",
    "                                                            {'code': 'ALDER', 'values': ['20-24', '25-29']}]\n",
    "           }\n",
    "\n",
    "data_req = requests.post(statbank_api, json=param)  #Sending requests\n",
    "\n",
    "print(data_req.text)  #Printing the raw text output"
   ]
  },
  {
   "cell_type": "markdown",
   "id": "3997c303-54c7-483a-aec1-6c0ebb59a781",
   "metadata": {},
   "source": [
    "Data endpointet returnerer komma-separerede værdier som standard (csv).\n",
    "\n",
    "Dette format er kompatibelt med `pandas` dataframes (`pd.read_csv`):"
   ]
  },
  {
   "cell_type": "code",
   "execution_count": 2,
   "id": "ff66a65c-4e16-48db-8135-e477a21a378a",
   "metadata": {},
   "outputs": [
    {
     "data": {
      "text/html": [
       "<div>\n",
       "<style scoped>\n",
       "    .dataframe tbody tr th:only-of-type {\n",
       "        vertical-align: middle;\n",
       "    }\n",
       "\n",
       "    .dataframe tbody tr th {\n",
       "        vertical-align: top;\n",
       "    }\n",
       "\n",
       "    .dataframe thead th {\n",
       "        text-align: right;\n",
       "    }\n",
       "</style>\n",
       "<table border=\"1\" class=\"dataframe\">\n",
       "  <thead>\n",
       "    <tr style=\"text-align: right;\">\n",
       "      <th></th>\n",
       "      <th>OMRÅDE</th>\n",
       "      <th>ALDER</th>\n",
       "      <th>TID</th>\n",
       "      <th>INDHOLD</th>\n",
       "    </tr>\n",
       "  </thead>\n",
       "  <tbody>\n",
       "    <tr>\n",
       "      <th>0</th>\n",
       "      <td>København</td>\n",
       "      <td>20-24 år</td>\n",
       "      <td>2023K3</td>\n",
       "      <td>64226</td>\n",
       "    </tr>\n",
       "    <tr>\n",
       "      <th>1</th>\n",
       "      <td>København</td>\n",
       "      <td>25-29 år</td>\n",
       "      <td>2023K3</td>\n",
       "      <td>91941</td>\n",
       "    </tr>\n",
       "    <tr>\n",
       "      <th>2</th>\n",
       "      <td>Aalborg</td>\n",
       "      <td>20-24 år</td>\n",
       "      <td>2023K3</td>\n",
       "      <td>22223</td>\n",
       "    </tr>\n",
       "    <tr>\n",
       "      <th>3</th>\n",
       "      <td>Aalborg</td>\n",
       "      <td>25-29 år</td>\n",
       "      <td>2023K3</td>\n",
       "      <td>22098</td>\n",
       "    </tr>\n",
       "  </tbody>\n",
       "</table>\n",
       "</div>"
      ],
      "text/plain": [
       "      OMRÅDE     ALDER     TID  INDHOLD\n",
       "0  København  20-24 år  2023K3    64226\n",
       "1  København  25-29 år  2023K3    91941\n",
       "2    Aalborg  20-24 år  2023K3    22223\n",
       "3    Aalborg  25-29 år  2023K3    22098"
      ]
     },
     "execution_count": 2,
     "metadata": {},
     "output_type": "execute_result"
    }
   ],
   "source": [
    "from io import StringIO\n",
    "import pandas as pd\n",
    "\n",
    "dstdata = StringIO(data_req.text)  #Read the data output as raw text\n",
    "dstdf = pd.read_csv(dstdata, sep=\";\")  #Read text as csv\n",
    "dstdf  #Print data"
   ]
  },
  {
   "cell_type": "code",
   "execution_count": 3,
   "id": "ca1016f2-3144-4098-a2d0-e863d3a656f3",
   "metadata": {},
   "outputs": [
    {
     "data": {
      "text/html": [
       "<div>\n",
       "<style scoped>\n",
       "    .dataframe tbody tr th:only-of-type {\n",
       "        vertical-align: middle;\n",
       "    }\n",
       "\n",
       "    .dataframe tbody tr th {\n",
       "        vertical-align: top;\n",
       "    }\n",
       "\n",
       "    .dataframe thead th {\n",
       "        text-align: right;\n",
       "    }\n",
       "</style>\n",
       "<table border=\"1\" class=\"dataframe\">\n",
       "  <thead>\n",
       "    <tr style=\"text-align: right;\">\n",
       "      <th></th>\n",
       "      <th>ALDER</th>\n",
       "      <th>TID</th>\n",
       "      <th>INDHOLD</th>\n",
       "    </tr>\n",
       "    <tr>\n",
       "      <th>OMRÅDE</th>\n",
       "      <th></th>\n",
       "      <th></th>\n",
       "      <th></th>\n",
       "    </tr>\n",
       "  </thead>\n",
       "  <tbody>\n",
       "    <tr>\n",
       "      <th>Aalborg</th>\n",
       "      <td>20-24 år25-29 år</td>\n",
       "      <td>2023K32023K3</td>\n",
       "      <td>44321</td>\n",
       "    </tr>\n",
       "    <tr>\n",
       "      <th>København</th>\n",
       "      <td>20-24 år25-29 år</td>\n",
       "      <td>2023K32023K3</td>\n",
       "      <td>156167</td>\n",
       "    </tr>\n",
       "  </tbody>\n",
       "</table>\n",
       "</div>"
      ],
      "text/plain": [
       "                      ALDER           TID  INDHOLD\n",
       "OMRÅDE                                            \n",
       "Aalborg    20-24 år25-29 år  2023K32023K3    44321\n",
       "København  20-24 år25-29 år  2023K32023K3   156167"
      ]
     },
     "execution_count": 3,
     "metadata": {},
     "output_type": "execute_result"
    }
   ],
   "source": [
    "dstdf.groupby(['OMRÅDE']).sum()  #Group by municipality and count sum"
   ]
  },
  {
   "cell_type": "markdown",
   "id": "f81dd04e-7692-4167-81de-22627d2f4e3a",
   "metadata": {},
   "source": [
    "## Eksempel 2: Brug af Danmarks Adresser Web API (DAWA)\n",
    "\n",
    "Link til API dokumentation: https://dawadocs.dataforsyningen.dk/dok/api/\n",
    "\n",
    "Danmarks Adresser Web API (DAWA) kan bruges til at hente data om samt søge efter adresser i Danmark.\n",
    "\n",
    "*Bemærk:* Denne API kræver ikke autentificering."
   ]
  },
  {
   "cell_type": "code",
   "execution_count": 29,
   "id": "77c53374-fd1b-4a0b-bda8-4ca30ca54dcd",
   "metadata": {},
   "outputs": [],
   "source": [
    "import requests\n",
    "\n",
    "adress_end = 'https://api.dataforsyningen.dk/adresser' # endpoint til at søge på adresser (API'en har andre endpoints)\n",
    "\n",
    "# parametre/indstillinger til søgning (se dokumentation)\n",
    "parameters = {'q': 'Solsort*',  # søg efter adresser der indeholder Solsort\n",
    "              'kommunekode': '0851'} # søg i kommunekode 0851 (Aalborg)\n",
    "\n",
    "data_req = requests.get(adress_end, params = parameters)"
   ]
  },
  {
   "cell_type": "code",
   "execution_count": 30,
   "id": "67423a57-5b3e-4f28-9113-c6ff0d9e8b57",
   "metadata": {},
   "outputs": [
    {
     "data": {
      "text/plain": [
       "200"
      ]
     },
     "execution_count": 30,
     "metadata": {},
     "output_type": "execute_result"
    }
   ],
   "source": [
    "data_req.status_code # gik henvendelse igennem?"
   ]
  },
  {
   "cell_type": "code",
   "execution_count": 31,
   "id": "9b8967e1-355b-4048-8c67-d8c034dbf3f6",
   "metadata": {},
   "outputs": [],
   "source": [
    "data = data_req.json() # data returneres som standard som JSON (tages ud på denne måde)"
   ]
  },
  {
   "cell_type": "code",
   "execution_count": 34,
   "id": "57c08a97-7049-4d4d-a1fb-cc23af6a8fa6",
   "metadata": {},
   "outputs": [
    {
     "name": "stdout",
     "output_type": "stream",
     "text": [
      "[{'adgangsadresse': {'DDKN': {'km1': '1km_6321_556',\n",
      "                              'km10': '10km_632_55',\n",
      "                              'm100': '100m_63212_5565'},\n",
      "                     'adgangspunkt': {'højde': 17.1,\n",
      "                                      'id': '0a3f509c-b9d5-32b8-e044-0003ba298018',\n",
      "                                      'kilde': 5,\n",
      "                                      'koordinater': [9.93105827, 57.03094927],\n",
      "                                      'nøjagtighed': 'A',\n",
      "                                      'tekniskstandard': 'TN',\n",
      "                                      'tekstretning': 131.7,\n",
      "                                      'ændret': '2007-03-30T23:59:00.000'},\n",
      "                     'adressebetegnelse': 'Solsortvej 2, 9000 Aalborg',\n",
      "                     'afstemningsområde': {'href': 'https://api.dataforsyningen.dk/afstemningsomraader/851/36',\n",
      "                                           'navn': 'Aalborghus Gymnasium',\n",
      "                                           'nummer': '36'},\n",
      "                     'bebyggelser': [{'href': 'https://api.dataforsyningen.dk/bebyggelser/12337669-a13c-6b98-e053-d480220a5a3f',\n",
      "                                      'id': '12337669-a13c-6b98-e053-d480220a5a3f',\n",
      "                                      'kode': None,\n",
      "                                      'navn': 'Frydendal',\n",
      "                                      'type': 'bydel'},\n",
      "                                     {'href': 'https://api.dataforsyningen.dk/bebyggelser/12337669-a143-6b98-e053-d480220a5a3f',\n",
      "                                      'id': '12337669-a143-6b98-e053-d480220a5a3f',\n",
      "                                      'kode': 10938,\n",
      "                                      'navn': 'Aalborg',\n",
      "                                      'type': 'by'}],\n",
      "                     'brofast': True,\n",
      "                     'darstatus': 3,\n",
      "                     'ejerlav': {'kode': 2005058,\n",
      "                                 'navn': 'Sohngårdsholm Hgd., Aalborg Jorder'},\n",
      "                     'esrejendomsnr': '286209',\n",
      "                     'historik': {'ikrafttrædelse': '2000-02-05T21:22:49.000',\n",
      "                                  'nedlagt': None,\n",
      "                                  'oprettet': '2000-02-05T21:22:49.000',\n",
      "                                  'ændret': '2021-01-19T12:37:01.982'},\n",
      "                     'href': 'https://api.dataforsyningen.dk/adgangsadresser/0a3f509c-b9d5-32b8-e044-0003ba298018',\n",
      "                     'husnr': '2',\n",
      "                     'id': '0a3f509c-b9d5-32b8-e044-0003ba298018',\n",
      "                     'jordstykke': {'ejerlav': {'href': 'https://api.dataforsyningen.dk/ejerlav/2005058',\n",
      "                                                'kode': 2005058,\n",
      "                                                'navn': 'Sohngårdsholm Hgd., '\n",
      "                                                        'Aalborg Jorder'},\n",
      "                                    'esrejendomsnr': '286209',\n",
      "                                    'href': 'https://api.dataforsyningen.dk/jordstykker/2005058/14bh',\n",
      "                                    'matrikelnr': '14bh'},\n",
      "                     'kommune': {'href': 'https://api.dataforsyningen.dk/kommuner/0851',\n",
      "                                 'kode': '0851',\n",
      "                                 'navn': 'Aalborg'},\n",
      "                     'kvh': '08517688___2',\n",
      "                     'landsdel': {'href': 'https://api.dataforsyningen.dk/landsdele/DK050',\n",
      "                                  'navn': 'Nordjylland',\n",
      "                                  'nuts3': 'DK050'},\n",
      "                     'matrikelnr': '14bh',\n",
      "                     'navngivenvej': {'href': 'https://api.dataforsyningen.dk/navngivneveje/f2d548ba-4501-427d-8b28-089df535780c',\n",
      "                                      'id': 'f2d548ba-4501-427d-8b28-089df535780c'},\n",
      "                     'opstillingskreds': {'href': 'https://api.dataforsyningen.dk/opstillingskredse/0090',\n",
      "                                          'kode': '0090',\n",
      "                                          'navn': 'Aalborg Øst'},\n",
      "                     'politikreds': {'href': 'https://api.dataforsyningen.dk/politikredse/1460',\n",
      "                                     'kode': '1460',\n",
      "                                     'navn': 'Nordjyllands Politi'},\n",
      "                     'postnummer': {'href': 'https://api.dataforsyningen.dk/postnumre/9000',\n",
      "                                    'navn': 'Aalborg',\n",
      "                                    'nr': '9000'},\n",
      "                     'region': {'href': 'https://api.dataforsyningen.dk/regioner/1081',\n",
      "                                'kode': '1081',\n",
      "                                'navn': 'Region Nordjylland'},\n",
      "                     'retskreds': {'href': 'https://api.dataforsyningen.dk/retskredse/1178',\n",
      "                                   'kode': '1178',\n",
      "                                   'navn': 'Retten i Aalborg'},\n",
      "                     'sogn': {'href': 'https://api.dataforsyningen.dk/sogne/8373',\n",
      "                              'kode': '8373',\n",
      "                              'navn': 'Hans Egedes'},\n",
      "                     'status': 1,\n",
      "                     'storkreds': {'href': 'https://api.dataforsyningen.dk/storkredse/10',\n",
      "                                   'navn': 'Nordjylland',\n",
      "                                   'nummer': '10'},\n",
      "                     'stormodtagerpostnummer': None,\n",
      "                     'supplerendebynavn': None,\n",
      "                     'supplerendebynavn2': None,\n",
      "                     'valglandsdel': {'bogstav': 'C',\n",
      "                                      'href': 'https://api.dataforsyningen.dk/valglandsdele/C',\n",
      "                                      'navn': 'Midtjylland-Nordjylland'},\n",
      "                     'vejpunkt': {'id': '1f5d7019-af45-11e7-847e-066cff24d637',\n",
      "                                  'kilde': 'Ekstern',\n",
      "                                  'koordinater': [9.93077424, 57.03102865],\n",
      "                                  'nøjagtighed': 'B',\n",
      "                                  'tekniskstandard': 'V0',\n",
      "                                  'ændret': '2018-05-03T14:08:02.125'},\n",
      "                     'vejstykke': {'adresseringsnavn': 'Solsortvej',\n",
      "                                   'href': 'https://api.dataforsyningen.dk/vejstykker/851/7688',\n",
      "                                   'kode': '7688',\n",
      "                                   'navn': 'Solsortvej'},\n",
      "                     'zone': 'Byzone'},\n",
      "  'adressebetegnelse': 'Solsortvej 2, 9000 Aalborg',\n",
      "  'darstatus': 3,\n",
      "  'dør': None,\n",
      "  'etage': None,\n",
      "  'historik': {'ikrafttrædelse': '2000-02-05T21:22:49.000',\n",
      "               'nedlagt': None,\n",
      "               'oprettet': '2000-02-05T21:22:49.000',\n",
      "               'ændret': '2000-02-05T21:22:49.000'},\n",
      "  'href': 'https://api.dataforsyningen.dk/adresser/0a3f50ca-baff-32b8-e044-0003ba298018',\n",
      "  'id': '0a3f50ca-baff-32b8-e044-0003ba298018',\n",
      "  'kvhx': '08517688___2_______',\n",
      "  'status': 1}]\n"
     ]
    }
   ],
   "source": [
    "from pprint import pprint\n",
    "\n",
    "pprint(data[:1])"
   ]
  },
  {
   "cell_type": "code",
   "execution_count": 35,
   "id": "ab667a57-8796-4468-a2b8-981eb5f1e7c8",
   "metadata": {},
   "outputs": [
    {
     "data": {
      "text/plain": [
       "43"
      ]
     },
     "execution_count": 35,
     "metadata": {},
     "output_type": "execute_result"
    }
   ],
   "source": [
    "len(data) # hvor mange hits?"
   ]
  },
  {
   "cell_type": "code",
   "execution_count": 37,
   "id": "01f04e2e-f521-47eb-932b-6cc8c29f09dd",
   "metadata": {},
   "outputs": [
    {
     "data": {
      "text/plain": [
       "dict_keys(['id', 'kvhx', 'status', 'darstatus', 'href', 'historik', 'etage', 'dør', 'adressebetegnelse', 'adgangsadresse'])"
      ]
     },
     "execution_count": 37,
     "metadata": {},
     "output_type": "execute_result"
    }
   ],
   "source": [
    "data[0].keys() # hvilke oplysninger/variable?"
   ]
  },
  {
   "cell_type": "markdown",
   "id": "517fbd50-56ba-4126-a098-324bf91801fc",
   "metadata": {},
   "source": [
    "DAWA kan sende data tilbage i forskellige formater med parameter \"struktur\":"
   ]
  },
  {
   "cell_type": "code",
   "execution_count": 41,
   "id": "27250290-fa31-4121-a31d-59d92d32efe0",
   "metadata": {},
   "outputs": [],
   "source": [
    "adress_end = 'https://api.dataforsyningen.dk/adresser' # endpoint til at søge på adresser (API'en har andre endpoints)\n",
    "\n",
    "# parametre/indstillinger til søgning (se dokumentation)\n",
    "parameters = {'q': 'Solsort*', # søg efter adresser der indeholder Solsort\n",
    "              'kommunekode': '0851', # søg i kommunekode 0851 (Aalborg)\n",
    "              'struktur': 'flad'} # send data tilbage i \"flad\" struktur (data er ikke \"nestet\" og kan konverteres direkte til tabel)\n",
    "\n",
    "data_req = requests.get(adress_end, params = parameters)"
   ]
  },
  {
   "cell_type": "code",
   "execution_count": 44,
   "id": "bd830abd-ea98-4ad2-8320-6bfcf2edb33e",
   "metadata": {},
   "outputs": [],
   "source": [
    "data = data_req.json() # data tages stadig ud som JSON, nu er det blot et JSON records format"
   ]
  },
  {
   "cell_type": "code",
   "execution_count": 45,
   "id": "0347cc0a-9bb0-4d7a-b785-a9367502cb18",
   "metadata": {},
   "outputs": [],
   "source": [
    "data_df = pd.DataFrame(data)"
   ]
  },
  {
   "cell_type": "code",
   "execution_count": 48,
   "id": "1f6c3ebe-f5fa-4212-9c89-bac698901f61",
   "metadata": {},
   "outputs": [
    {
     "data": {
      "text/html": [
       "<div>\n",
       "<style scoped>\n",
       "    .dataframe tbody tr th:only-of-type {\n",
       "        vertical-align: middle;\n",
       "    }\n",
       "\n",
       "    .dataframe tbody tr th {\n",
       "        vertical-align: top;\n",
       "    }\n",
       "\n",
       "    .dataframe thead th {\n",
       "        text-align: right;\n",
       "    }\n",
       "</style>\n",
       "<table border=\"1\" class=\"dataframe\">\n",
       "  <thead>\n",
       "    <tr style=\"text-align: right;\">\n",
       "      <th></th>\n",
       "      <th>id</th>\n",
       "      <th>status</th>\n",
       "      <th>darstatus</th>\n",
       "      <th>oprettet</th>\n",
       "      <th>ændret</th>\n",
       "      <th>ikrafttrædelse</th>\n",
       "      <th>nedlagt</th>\n",
       "      <th>vejkode</th>\n",
       "      <th>vejnavn</th>\n",
       "      <th>adresseringsvejnavn</th>\n",
       "      <th>...</th>\n",
       "      <th>navngivenvej_id</th>\n",
       "      <th>storkredsnummer</th>\n",
       "      <th>storkredsnavn</th>\n",
       "      <th>valglandsdelsbogstav</th>\n",
       "      <th>valglandsdelsnavn</th>\n",
       "      <th>landsdelsnuts3</th>\n",
       "      <th>landsdelsnavn</th>\n",
       "      <th>kvhx</th>\n",
       "      <th>kvh</th>\n",
       "      <th>betegnelse</th>\n",
       "    </tr>\n",
       "  </thead>\n",
       "  <tbody>\n",
       "    <tr>\n",
       "      <th>0</th>\n",
       "      <td>0a3f50ca-baff-32b8-e044-0003ba298018</td>\n",
       "      <td>1</td>\n",
       "      <td>3</td>\n",
       "      <td>2000-02-05T21:22:49.000</td>\n",
       "      <td>2000-02-05T21:22:49.000</td>\n",
       "      <td>2000-02-05T21:22:49.000</td>\n",
       "      <td>None</td>\n",
       "      <td>7688</td>\n",
       "      <td>Solsortvej</td>\n",
       "      <td>Solsortvej</td>\n",
       "      <td>...</td>\n",
       "      <td>f2d548ba-4501-427d-8b28-089df535780c</td>\n",
       "      <td>10</td>\n",
       "      <td>Nordjylland</td>\n",
       "      <td>C</td>\n",
       "      <td>Midtjylland-Nordjylland</td>\n",
       "      <td>DK050</td>\n",
       "      <td>Nordjylland</td>\n",
       "      <td>08517688___2_______</td>\n",
       "      <td>08517688___2</td>\n",
       "      <td>Solsortvej 2, 9000 Aalborg</td>\n",
       "    </tr>\n",
       "    <tr>\n",
       "      <th>1</th>\n",
       "      <td>0a3f50ca-bb01-32b8-e044-0003ba298018</td>\n",
       "      <td>1</td>\n",
       "      <td>3</td>\n",
       "      <td>2000-02-05T21:22:49.000</td>\n",
       "      <td>2000-02-05T21:22:49.000</td>\n",
       "      <td>2000-02-05T21:22:49.000</td>\n",
       "      <td>None</td>\n",
       "      <td>7688</td>\n",
       "      <td>Solsortvej</td>\n",
       "      <td>Solsortvej</td>\n",
       "      <td>...</td>\n",
       "      <td>f2d548ba-4501-427d-8b28-089df535780c</td>\n",
       "      <td>10</td>\n",
       "      <td>Nordjylland</td>\n",
       "      <td>C</td>\n",
       "      <td>Midtjylland-Nordjylland</td>\n",
       "      <td>DK050</td>\n",
       "      <td>Nordjylland</td>\n",
       "      <td>08517688___4_______</td>\n",
       "      <td>08517688___4</td>\n",
       "      <td>Solsortvej 4, 9000 Aalborg</td>\n",
       "    </tr>\n",
       "    <tr>\n",
       "      <th>2</th>\n",
       "      <td>0a3f50ca-bb02-32b8-e044-0003ba298018</td>\n",
       "      <td>1</td>\n",
       "      <td>3</td>\n",
       "      <td>2000-02-05T21:25:36.000</td>\n",
       "      <td>2000-02-05T21:25:36.000</td>\n",
       "      <td>2000-02-05T21:25:36.000</td>\n",
       "      <td>None</td>\n",
       "      <td>7688</td>\n",
       "      <td>Solsortvej</td>\n",
       "      <td>Solsortvej</td>\n",
       "      <td>...</td>\n",
       "      <td>f2d548ba-4501-427d-8b28-089df535780c</td>\n",
       "      <td>10</td>\n",
       "      <td>Nordjylland</td>\n",
       "      <td>C</td>\n",
       "      <td>Midtjylland-Nordjylland</td>\n",
       "      <td>DK050</td>\n",
       "      <td>Nordjylland</td>\n",
       "      <td>08517688___5_______</td>\n",
       "      <td>08517688___5</td>\n",
       "      <td>Solsortvej 5, 9000 Aalborg</td>\n",
       "    </tr>\n",
       "    <tr>\n",
       "      <th>3</th>\n",
       "      <td>0a3f50ca-bb03-32b8-e044-0003ba298018</td>\n",
       "      <td>1</td>\n",
       "      <td>3</td>\n",
       "      <td>2000-02-05T21:22:49.000</td>\n",
       "      <td>2000-02-05T21:22:49.000</td>\n",
       "      <td>2000-02-05T21:22:49.000</td>\n",
       "      <td>None</td>\n",
       "      <td>7688</td>\n",
       "      <td>Solsortvej</td>\n",
       "      <td>Solsortvej</td>\n",
       "      <td>...</td>\n",
       "      <td>f2d548ba-4501-427d-8b28-089df535780c</td>\n",
       "      <td>10</td>\n",
       "      <td>Nordjylland</td>\n",
       "      <td>C</td>\n",
       "      <td>Midtjylland-Nordjylland</td>\n",
       "      <td>DK050</td>\n",
       "      <td>Nordjylland</td>\n",
       "      <td>08517688___6_______</td>\n",
       "      <td>08517688___6</td>\n",
       "      <td>Solsortvej 6, 9000 Aalborg</td>\n",
       "    </tr>\n",
       "    <tr>\n",
       "      <th>4</th>\n",
       "      <td>0a3f50ca-bb04-32b8-e044-0003ba298018</td>\n",
       "      <td>1</td>\n",
       "      <td>3</td>\n",
       "      <td>2000-02-05T21:22:49.000</td>\n",
       "      <td>2000-02-05T21:22:49.000</td>\n",
       "      <td>2000-02-05T21:22:49.000</td>\n",
       "      <td>None</td>\n",
       "      <td>7688</td>\n",
       "      <td>Solsortvej</td>\n",
       "      <td>Solsortvej</td>\n",
       "      <td>...</td>\n",
       "      <td>f2d548ba-4501-427d-8b28-089df535780c</td>\n",
       "      <td>10</td>\n",
       "      <td>Nordjylland</td>\n",
       "      <td>C</td>\n",
       "      <td>Midtjylland-Nordjylland</td>\n",
       "      <td>DK050</td>\n",
       "      <td>Nordjylland</td>\n",
       "      <td>08517688___7_______</td>\n",
       "      <td>08517688___7</td>\n",
       "      <td>Solsortvej 7, 9000 Aalborg</td>\n",
       "    </tr>\n",
       "  </tbody>\n",
       "</table>\n",
       "<p>5 rows × 83 columns</p>\n",
       "</div>"
      ],
      "text/plain": [
       "                                     id  status  darstatus  \\\n",
       "0  0a3f50ca-baff-32b8-e044-0003ba298018       1          3   \n",
       "1  0a3f50ca-bb01-32b8-e044-0003ba298018       1          3   \n",
       "2  0a3f50ca-bb02-32b8-e044-0003ba298018       1          3   \n",
       "3  0a3f50ca-bb03-32b8-e044-0003ba298018       1          3   \n",
       "4  0a3f50ca-bb04-32b8-e044-0003ba298018       1          3   \n",
       "\n",
       "                  oprettet                   ændret           ikrafttrædelse  \\\n",
       "0  2000-02-05T21:22:49.000  2000-02-05T21:22:49.000  2000-02-05T21:22:49.000   \n",
       "1  2000-02-05T21:22:49.000  2000-02-05T21:22:49.000  2000-02-05T21:22:49.000   \n",
       "2  2000-02-05T21:25:36.000  2000-02-05T21:25:36.000  2000-02-05T21:25:36.000   \n",
       "3  2000-02-05T21:22:49.000  2000-02-05T21:22:49.000  2000-02-05T21:22:49.000   \n",
       "4  2000-02-05T21:22:49.000  2000-02-05T21:22:49.000  2000-02-05T21:22:49.000   \n",
       "\n",
       "  nedlagt vejkode     vejnavn adresseringsvejnavn  ...  \\\n",
       "0    None    7688  Solsortvej          Solsortvej  ...   \n",
       "1    None    7688  Solsortvej          Solsortvej  ...   \n",
       "2    None    7688  Solsortvej          Solsortvej  ...   \n",
       "3    None    7688  Solsortvej          Solsortvej  ...   \n",
       "4    None    7688  Solsortvej          Solsortvej  ...   \n",
       "\n",
       "                        navngivenvej_id storkredsnummer storkredsnavn  \\\n",
       "0  f2d548ba-4501-427d-8b28-089df535780c              10   Nordjylland   \n",
       "1  f2d548ba-4501-427d-8b28-089df535780c              10   Nordjylland   \n",
       "2  f2d548ba-4501-427d-8b28-089df535780c              10   Nordjylland   \n",
       "3  f2d548ba-4501-427d-8b28-089df535780c              10   Nordjylland   \n",
       "4  f2d548ba-4501-427d-8b28-089df535780c              10   Nordjylland   \n",
       "\n",
       "  valglandsdelsbogstav        valglandsdelsnavn landsdelsnuts3 landsdelsnavn  \\\n",
       "0                    C  Midtjylland-Nordjylland          DK050   Nordjylland   \n",
       "1                    C  Midtjylland-Nordjylland          DK050   Nordjylland   \n",
       "2                    C  Midtjylland-Nordjylland          DK050   Nordjylland   \n",
       "3                    C  Midtjylland-Nordjylland          DK050   Nordjylland   \n",
       "4                    C  Midtjylland-Nordjylland          DK050   Nordjylland   \n",
       "\n",
       "                  kvhx           kvh                  betegnelse  \n",
       "0  08517688___2_______  08517688___2  Solsortvej 2, 9000 Aalborg  \n",
       "1  08517688___4_______  08517688___4  Solsortvej 4, 9000 Aalborg  \n",
       "2  08517688___5_______  08517688___5  Solsortvej 5, 9000 Aalborg  \n",
       "3  08517688___6_______  08517688___6  Solsortvej 6, 9000 Aalborg  \n",
       "4  08517688___7_______  08517688___7  Solsortvej 7, 9000 Aalborg  \n",
       "\n",
       "[5 rows x 83 columns]"
      ]
     },
     "execution_count": 48,
     "metadata": {},
     "output_type": "execute_result"
    }
   ],
   "source": [
    "data_df.head()"
   ]
  }
 ],
 "metadata": {
  "kernelspec": {
   "display_name": "Python 3 (ipykernel)",
   "language": "python",
   "name": "python3"
  },
  "language_info": {
   "codemirror_mode": {
    "name": "ipython",
    "version": 3
   },
   "file_extension": ".py",
   "mimetype": "text/x-python",
   "name": "python",
   "nbconvert_exporter": "python",
   "pygments_lexer": "ipython3",
   "version": "3.8.17"
  }
 },
 "nbformat": 4,
 "nbformat_minor": 5
}
