{
 "cells": [
  {
   "cell_type": "code",
   "execution_count": null,
   "id": "aec2ee57-42b5-417a-916d-20867be4da87",
   "metadata": {
    "slideshow": {
     "slide_type": "skip"
    },
    "tags": []
   },
   "outputs": [],
   "source": []
  },
  {
   "cell_type": "markdown",
   "id": "4c8db06d-1ba5-456b-a112-6051cbb52ae6",
   "metadata": {},
   "source": [
    "# ØVELSE: Tid og tekst i Python\n",
    "\n",
    "- Horesta data\n",
    "- Dan to sæt: posts fra februar 2020 og posts fra november 2020\n",
    "- Find hvor mange tekster, der diskuterer vaccine i hvert sæt"
   ]
  }
 ],
 "metadata": {
  "kernelspec": {
   "display_name": "Python 3",
   "language": "python",
   "name": "python3"
  },
  "language_info": {
   "codemirror_mode": {
    "name": "ipython",
    "version": 3
   },
   "file_extension": ".py",
   "mimetype": "text/x-python",
   "name": "python",
   "nbconvert_exporter": "python",
   "pygments_lexer": "ipython3",
   "version": "3.7.12"
  }
 },
 "nbformat": 4,
 "nbformat_minor": 5
}
