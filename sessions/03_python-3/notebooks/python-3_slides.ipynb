{
 "cells": [
  {
   "cell_type": "markdown",
   "id": "b9489f18-4b1e-4163-ac9a-ad661a91278e",
   "metadata": {
    "slideshow": {
     "slide_type": "slide"
    },
    "tags": []
   },
   "source": [
    "# Dataformater og datastrukturer"
   ]
  },
  {
   "cell_type": "markdown",
   "id": "8fd9c21b-616e-4843-a124-d59a43bdf974",
   "metadata": {
    "slideshow": {
     "slide_type": "slide"
    },
    "tags": []
   },
   "source": [
    "## Data -> Datasæt -> Datastruktur"
   ]
  },
  {
   "cell_type": "markdown",
   "id": "ac34c1cf-4a45-46dc-82f2-d0000c36cdf4",
   "metadata": {},
   "source": [
    "![data-structure](../img/data_set_structure.png)"
   ]
  },
  {
   "cell_type": "markdown",
   "id": "e66214cf-4ab2-44be-bf9c-2901fef5233f",
   "metadata": {},
   "source": [
    "## Relationel datastruktur\n",
    "\n",
    "- Data i tabeller\n",
    "- Hver tabel har kun 2 dimensioner (rækker og kolonner)\n",
    "\n",
    "![hierarch](../img/expanse_relational.png)"
   ]
  },
  {
   "cell_type": "markdown",
   "id": "ab418498-e6b0-4a43-bea6-4578f8d7ed55",
   "metadata": {},
   "source": [
    "## Hierarkisk datastruktur\n",
    "\n",
    "- Data i træ-lignende struktur\n",
    "- Ikke bundet til 2 dimensioner (hver gren kan have så mange undergrene, som  der er behov for)\n",
    "\n",
    "![hierarch](../img/expanse_hierarchical.png)"
   ]
  },
  {
   "cell_type": "markdown",
   "id": "04721997-f8a5-4407-a495-62b3ad0738cd",
   "metadata": {
    "slideshow": {
     "slide_type": "slide"
    },
    "tags": []
   },
   "source": [
    "## Liste af lister"
   ]
  },
  {
   "cell_type": "code",
   "execution_count": 33,
   "id": "d1497f41-c4ca-4d7a-8923-081ac91717a7",
   "metadata": {
    "slideshow": {
     "slide_type": "skip"
    },
    "tags": []
   },
   "outputs": [],
   "source": [
    "names = [\"James\", \"Naomi\", \"Alex\", \"Clarissa\"]\n",
    "ethnicities = [\"earther\", \"belter\", \"martian\", \"earter\"]\n",
    "vocation = [\"captain\", \"technician\", \"pilot\", \"mechanic\"]\n",
    "\n",
    "data = [names, ethnicities, vocation]"
   ]
  },
  {
   "cell_type": "code",
   "execution_count": 34,
   "id": "09ce287d-b7ad-46e1-9506-8ca4c410b9c1",
   "metadata": {
    "tags": []
   },
   "outputs": [
    {
     "data": {
      "text/plain": [
       "[['James', 'Naomi', 'Alex', 'Clarissa'],\n",
       " ['earther', 'belter', 'martian', 'earter'],\n",
       " ['captain', 'technician', 'pilot', 'mechanic']]"
      ]
     },
     "execution_count": 34,
     "metadata": {},
     "output_type": "execute_result"
    }
   ],
   "source": [
    "data"
   ]
  },
  {
   "cell_type": "code",
   "execution_count": 35,
   "id": "01b18729-ef50-4bce-a3dc-e9a7fc5a24b4",
   "metadata": {
    "tags": []
   },
   "outputs": [
    {
     "data": {
      "text/plain": [
       "['James', 'earther', 'captain']"
      ]
     },
     "execution_count": 35,
     "metadata": {},
     "output_type": "execute_result"
    }
   ],
   "source": [
    "[items[0] for items in data]"
   ]
  },
  {
   "cell_type": "markdown",
   "id": "268ac4ac-9d1b-4b27-a668-93fba302fa73",
   "metadata": {
    "slideshow": {
     "slide_type": "slide"
    },
    "tags": []
   },
   "source": [
    "## Dictionary (JSON)"
   ]
  },
  {
   "cell_type": "code",
   "execution_count": 36,
   "id": "94aa9668-f21d-4036-87a3-1d57d1157c1e",
   "metadata": {
    "slideshow": {
     "slide_type": "skip"
    },
    "tags": []
   },
   "outputs": [],
   "source": [
    "data = {\n",
    "    \"James\": {\"ethnicity\": \"earther\", \"vocation\": \"captain\"},\n",
    "    \"Naomi\": {\"ethnicity\": \"belter\", \"vocation\": \"technician\"},\n",
    "    \"Alex\": {\"ethnicity\": \"martian\", \"vocation\": \"pilot\"},\n",
    "    \"Clarissa\": {\"ethnicity\": \"earther\", \"vocation\": \"mechanic\"},\n",
    "}"
   ]
  },
  {
   "cell_type": "code",
   "execution_count": 37,
   "id": "82b3ec91-06cf-44fb-96f2-f7c336e105cf",
   "metadata": {
    "tags": []
   },
   "outputs": [
    {
     "data": {
      "text/plain": [
       "{'James': {'ethnicity': 'earther', 'vocation': 'captain'},\n",
       " 'Naomi': {'ethnicity': 'belter', 'vocation': 'technician'},\n",
       " 'Alex': {'ethnicity': 'martian', 'vocation': 'pilot'},\n",
       " 'Clarissa': {'ethnicity': 'earther', 'vocation': 'mechanic'}}"
      ]
     },
     "execution_count": 37,
     "metadata": {},
     "output_type": "execute_result"
    }
   ],
   "source": [
    "data"
   ]
  },
  {
   "cell_type": "code",
   "execution_count": 38,
   "id": "089cab4d-bb02-430d-ac01-444edcd22bd1",
   "metadata": {},
   "outputs": [
    {
     "data": {
      "text/plain": [
       "{'ethnicity': 'earther', 'vocation': 'captain'}"
      ]
     },
     "execution_count": 38,
     "metadata": {},
     "output_type": "execute_result"
    }
   ],
   "source": [
    "data[\"James\"]"
   ]
  },
  {
   "cell_type": "markdown",
   "id": "21396b5f-78b2-4b12-8965-c5610787dbdb",
   "metadata": {
    "slideshow": {
     "slide_type": "slide"
    },
    "tags": []
   },
   "source": [
    "## Liste af dictionaries (JSON records)"
   ]
  },
  {
   "cell_type": "code",
   "execution_count": 45,
   "id": "770081aa-dfac-40d9-bcb3-2e66081e03d9",
   "metadata": {
    "slideshow": {
     "slide_type": "skip"
    },
    "tags": []
   },
   "outputs": [],
   "source": [
    "data = [\n",
    "    {\"name\": \"James\", \"ethnicity\": \"earther\", \"vocation\": \"captain\"},\n",
    "    {\"name\": \"Naomi\", \"ethnicity\": \"belter\", \"vocation\": \"technician\"},\n",
    "    {\"name\": \"Alex\", \"ethnicity\": \"martian\", \"vocation\": \"pilot\"},\n",
    "    {\"name\": \"Clarissa\", \"ethnicity\": \"earther\", \"vocation\": \"mechanic\"},\n",
    "]"
   ]
  },
  {
   "cell_type": "code",
   "execution_count": 46,
   "id": "6aef5236-d4a8-4479-875e-5acc99b89430",
   "metadata": {},
   "outputs": [
    {
     "data": {
      "text/plain": [
       "[{'name': 'James', 'ethnicity': 'earther', 'vocation': 'captain'},\n",
       " {'name': 'Naomi', 'ethnicity': 'belter', 'vocation': 'technician'},\n",
       " {'name': 'Alex', 'ethnicity': 'martian', 'vocation': 'pilot'},\n",
       " {'name': 'Clarissa', 'ethnicity': 'earther', 'vocation': 'mechanic'}]"
      ]
     },
     "execution_count": 46,
     "metadata": {},
     "output_type": "execute_result"
    }
   ],
   "source": [
    "data"
   ]
  },
  {
   "cell_type": "code",
   "execution_count": 40,
   "id": "d1c737a3-1b81-4e15-b399-6a5699439d0b",
   "metadata": {},
   "outputs": [
    {
     "data": {
      "text/plain": [
       "{'name': 'James', 'ethnicity': 'earther', 'vocation': 'captain'}"
      ]
     },
     "execution_count": 40,
     "metadata": {},
     "output_type": "execute_result"
    }
   ],
   "source": [
    "data[0]"
   ]
  },
  {
   "cell_type": "markdown",
   "id": "443d991d-8cc8-4a69-bc87-4cf7c08e8880",
   "metadata": {
    "slideshow": {
     "slide_type": "slide"
    },
    "tags": []
   },
   "source": [
    "## Data frame"
   ]
  },
  {
   "cell_type": "code",
   "execution_count": 41,
   "id": "3493515d-937c-454f-bfd7-a112e36b3233",
   "metadata": {
    "slideshow": {
     "slide_type": "skip"
    },
    "tags": []
   },
   "outputs": [],
   "source": [
    "import pandas as pd\n",
    "\n",
    "data = pd.DataFrame.from_records(data)"
   ]
  },
  {
   "cell_type": "code",
   "execution_count": 42,
   "id": "1a611f4a-fcdb-46ec-b2bd-91216efd151e",
   "metadata": {
    "tags": []
   },
   "outputs": [
    {
     "data": {
      "text/html": [
       "<div>\n",
       "<style scoped>\n",
       "    .dataframe tbody tr th:only-of-type {\n",
       "        vertical-align: middle;\n",
       "    }\n",
       "\n",
       "    .dataframe tbody tr th {\n",
       "        vertical-align: top;\n",
       "    }\n",
       "\n",
       "    .dataframe thead th {\n",
       "        text-align: right;\n",
       "    }\n",
       "</style>\n",
       "<table border=\"1\" class=\"dataframe\">\n",
       "  <thead>\n",
       "    <tr style=\"text-align: right;\">\n",
       "      <th></th>\n",
       "      <th>name</th>\n",
       "      <th>ethnicity</th>\n",
       "      <th>vocation</th>\n",
       "    </tr>\n",
       "  </thead>\n",
       "  <tbody>\n",
       "    <tr>\n",
       "      <th>0</th>\n",
       "      <td>James</td>\n",
       "      <td>earther</td>\n",
       "      <td>captain</td>\n",
       "    </tr>\n",
       "    <tr>\n",
       "      <th>1</th>\n",
       "      <td>Naomi</td>\n",
       "      <td>belter</td>\n",
       "      <td>technician</td>\n",
       "    </tr>\n",
       "    <tr>\n",
       "      <th>2</th>\n",
       "      <td>Alex</td>\n",
       "      <td>martian</td>\n",
       "      <td>pilot</td>\n",
       "    </tr>\n",
       "    <tr>\n",
       "      <th>3</th>\n",
       "      <td>Clarissa</td>\n",
       "      <td>earther</td>\n",
       "      <td>mechanic</td>\n",
       "    </tr>\n",
       "  </tbody>\n",
       "</table>\n",
       "</div>"
      ],
      "text/plain": [
       "       name ethnicity    vocation\n",
       "0     James   earther     captain\n",
       "1     Naomi    belter  technician\n",
       "2      Alex   martian       pilot\n",
       "3  Clarissa   earther    mechanic"
      ]
     },
     "execution_count": 42,
     "metadata": {},
     "output_type": "execute_result"
    }
   ],
   "source": [
    "data"
   ]
  },
  {
   "cell_type": "code",
   "execution_count": 43,
   "id": "a92d9a25-562d-4695-a118-8f0c595e210d",
   "metadata": {},
   "outputs": [
    {
     "data": {
      "text/plain": [
       "name           James\n",
       "ethnicity    earther\n",
       "vocation     captain\n",
       "Name: 0, dtype: object"
      ]
     },
     "execution_count": 43,
     "metadata": {},
     "output_type": "execute_result"
    }
   ],
   "source": [
    "data.loc[0, :]"
   ]
  },
  {
   "cell_type": "markdown",
   "id": "9f2f1208-e036-4af3-b8bb-08dd0eef8241",
   "metadata": {
    "slideshow": {
     "slide_type": "slide"
    },
    "tags": []
   },
   "source": [
    "## Hyppige dataformater: .csv\n",
    "\n",
    "- csv: \"Comma-separated values\"\n",
    "- Én række per observation\n",
    "- Værdier adskilt med kommaer\n",
    "- To-dimensionel datastruktur\n",
    "\n",
    "```\n",
    "name,ethnicity,vocation\n",
    "James,earther,captain\n",
    "Naomi,belter,technician\n",
    "Alex,martian,pilot\n",
    "Clarissa,earther,mechanic\n",
    "```"
   ]
  },
  {
   "cell_type": "markdown",
   "id": "666dffea-0699-46f2-be6c-770144e761bc",
   "metadata": {
    "slideshow": {
     "slide_type": "slide"
    },
    "tags": []
   },
   "source": [
    "## Hyppige dataformater: .json\n",
    "\n",
    "- Hierarkisk dataformat\n",
    "- Værdier i nøgle-værdi par\n",
    "- Flere \"grene\" kan tilføjes\n",
    "\n",
    "```\n",
    "{'Nemesis Games': {\n",
    "    \"Characters\": {\n",
    "        \"James Holden\": {\n",
    "            \"Occupation\": \"Captain\", \n",
    "            \"Ethnicity\": \"Earther\", \n",
    "            \"Ship\": {\n",
    "                \"Name\": \"Rocinante\",\n",
    "                \"Class\": \"Corvette\",\n",
    "                \"Owner\": \"James Holden\",\n",
    "                \"Crew-size\": 6\n",
    "            }\n",
    "        },\n",
    "        \"Naomi Nagata\": {\n",
    "            \"Occupation\": \"Technician\", \n",
    "            \"Ethnicity\": \"Belter\",\n",
    "            \"Children\": {\n",
    "                \"Filip Nagata\": {\n",
    "                    \"Name\": \"Filip Nagata\",\n",
    "                    \"Occupation\": \"Unknown\"\n",
    "                }\n",
    "            }\n",
    "        }\n",
    "    }\n",
    "}\n",
    "```"
   ]
  },
  {
   "cell_type": "markdown",
   "id": "0acb3b60-8aee-48f5-8b78-98573e94f2a7",
   "metadata": {},
   "source": [
    "# Opsummering\n",
    "\n",
    "- Data kan struktureres i forskellige formater og strukturer\n",
    "- *Relationel* datastruktur er data i tabeller, som er begrænset til to dimensioner\n",
    "- *Hierarkisk* datastruktur er data i træ-lignende struktur"
   ]
  },
  {
   "cell_type": "code",
   "execution_count": null,
   "id": "713528fe-045e-4154-a59d-25ba92205cd4",
   "metadata": {},
   "outputs": [],
   "source": []
  }
 ],
 "metadata": {
  "kernelspec": {
   "display_name": "Python 3 ",
   "language": "python",
   "name": "python3"
  },
  "language_info": {
   "codemirror_mode": {
    "name": "ipython",
    "version": 3
   },
   "file_extension": ".py",
   "mimetype": "text/x-python",
   "name": "python",
   "nbconvert_exporter": "python",
   "pygments_lexer": "ipython3",
   "version": "3.10.12"
  }
 },
 "nbformat": 4,
 "nbformat_minor": 5
}
