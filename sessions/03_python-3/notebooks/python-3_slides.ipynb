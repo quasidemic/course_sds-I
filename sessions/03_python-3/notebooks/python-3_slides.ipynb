{
 "cells": [
  {
   "cell_type": "code",
   "execution_count": 1,
   "id": "227cc89a-1a9d-48ad-99c7-90421822b9ec",
   "metadata": {
    "editable": true,
    "slideshow": {
     "slide_type": "skip"
    },
    "tags": []
   },
   "outputs": [],
   "source": [
    "# prep"
   ]
  },
  {
   "cell_type": "markdown",
   "id": "7bcdede1-81f0-4269-a05e-5d327e071335",
   "metadata": {
    "editable": true,
    "slideshow": {
     "slide_type": "slide"
    },
    "tags": []
   },
   "source": [
    "# Introduktion til Python III"
   ]
  },
  {
   "cell_type": "markdown",
   "id": "ee4735b7-0265-438b-bbb4-7285149c7dd9",
   "metadata": {
    "editable": true,
    "slideshow": {
     "slide_type": "slide"
    },
    "tags": []
   },
   "source": [
    "## Program\n",
    "\n",
    "- Opfølgning fra sidste undervisningsgang\n",
    "- Dataformater og datastrukturer\n",
    "- Brug af egne funktioner i Python"
   ]
  },
  {
   "cell_type": "markdown",
   "id": "b9489f18-4b1e-4163-ac9a-ad661a91278e",
   "metadata": {
    "editable": true,
    "slideshow": {
     "slide_type": "slide"
    },
    "tags": []
   },
   "source": [
    "# Dataformater og datastrukturer"
   ]
  },
  {
   "cell_type": "markdown",
   "id": "8fd9c21b-616e-4843-a124-d59a43bdf974",
   "metadata": {
    "editable": true,
    "slideshow": {
     "slide_type": "slide"
    },
    "tags": []
   },
   "source": [
    "## Data -> Datasæt -> Datastruktur"
   ]
  },
  {
   "cell_type": "markdown",
   "id": "ac34c1cf-4a45-46dc-82f2-d0000c36cdf4",
   "metadata": {
    "editable": true,
    "slideshow": {
     "slide_type": ""
    },
    "tags": []
   },
   "source": [
    "![data-structure](../img/data_set_structure.png)"
   ]
  },
  {
   "cell_type": "markdown",
   "id": "e66214cf-4ab2-44be-bf9c-2901fef5233f",
   "metadata": {
    "editable": true,
    "slideshow": {
     "slide_type": "slide"
    },
    "tags": []
   },
   "source": [
    "## Relationel datastruktur\n",
    "\n",
    "- Data i tabeller\n",
    "- Hver tabel har kun 2 dimensioner (rækker og kolonner)\n",
    "\n",
    "![hierarch](../img/expanse_relational.png)"
   ]
  },
  {
   "cell_type": "markdown",
   "id": "ab418498-e6b0-4a43-bea6-4578f8d7ed55",
   "metadata": {
    "editable": true,
    "slideshow": {
     "slide_type": "slide"
    },
    "tags": []
   },
   "source": [
    "## Hierarkisk datastruktur\n",
    "\n",
    "- Data i træ-lignende struktur\n",
    "- Ikke bundet til 2 dimensioner (hver gren kan have så mange undergrene, som  der er behov for)\n",
    "\n",
    "![hierarch](../img/expanse_hierarchical.png)"
   ]
  },
  {
   "cell_type": "markdown",
   "id": "04721997-f8a5-4407-a495-62b3ad0738cd",
   "metadata": {
    "editable": true,
    "slideshow": {
     "slide_type": "slide"
    },
    "tags": []
   },
   "source": [
    "## Liste af lister"
   ]
  },
  {
   "cell_type": "code",
   "execution_count": 33,
   "id": "d1497f41-c4ca-4d7a-8923-081ac91717a7",
   "metadata": {
    "editable": true,
    "slideshow": {
     "slide_type": "skip"
    },
    "tags": []
   },
   "outputs": [],
   "source": [
    "names = [\"James\", \"Naomi\", \"Alex\", \"Clarissa\"]\n",
    "ethnicities = [\"earther\", \"belter\", \"martian\", \"earter\"]\n",
    "vocation = [\"captain\", \"technician\", \"pilot\", \"mechanic\"]\n",
    "\n",
    "data = [names, ethnicities, vocation]"
   ]
  },
  {
   "cell_type": "code",
   "execution_count": 34,
   "id": "09ce287d-b7ad-46e1-9506-8ca4c410b9c1",
   "metadata": {
    "editable": true,
    "slideshow": {
     "slide_type": ""
    },
    "tags": []
   },
   "outputs": [
    {
     "data": {
      "text/plain": [
       "[['James', 'Naomi', 'Alex', 'Clarissa'],\n",
       " ['earther', 'belter', 'martian', 'earter'],\n",
       " ['captain', 'technician', 'pilot', 'mechanic']]"
      ]
     },
     "execution_count": 34,
     "metadata": {},
     "output_type": "execute_result"
    }
   ],
   "source": [
    "data"
   ]
  },
  {
   "cell_type": "code",
   "execution_count": 35,
   "id": "01b18729-ef50-4bce-a3dc-e9a7fc5a24b4",
   "metadata": {
    "editable": true,
    "slideshow": {
     "slide_type": ""
    },
    "tags": []
   },
   "outputs": [
    {
     "data": {
      "text/plain": [
       "['James', 'earther', 'captain']"
      ]
     },
     "execution_count": 35,
     "metadata": {},
     "output_type": "execute_result"
    }
   ],
   "source": [
    "[items[0] for items in data]"
   ]
  },
  {
   "cell_type": "markdown",
   "id": "268ac4ac-9d1b-4b27-a668-93fba302fa73",
   "metadata": {
    "editable": true,
    "slideshow": {
     "slide_type": "slide"
    },
    "tags": []
   },
   "source": [
    "## Dictionary (JSON)"
   ]
  },
  {
   "cell_type": "code",
   "execution_count": 36,
   "id": "94aa9668-f21d-4036-87a3-1d57d1157c1e",
   "metadata": {
    "editable": true,
    "slideshow": {
     "slide_type": "skip"
    },
    "tags": []
   },
   "outputs": [],
   "source": [
    "data = {\n",
    "    \"James\": {\"ethnicity\": \"earther\", \"vocation\": \"captain\"},\n",
    "    \"Naomi\": {\"ethnicity\": \"belter\", \"vocation\": \"technician\"},\n",
    "    \"Alex\": {\"ethnicity\": \"martian\", \"vocation\": \"pilot\"},\n",
    "    \"Clarissa\": {\"ethnicity\": \"earther\", \"vocation\": \"mechanic\"},\n",
    "}"
   ]
  },
  {
   "cell_type": "code",
   "execution_count": 37,
   "id": "82b3ec91-06cf-44fb-96f2-f7c336e105cf",
   "metadata": {
    "editable": true,
    "slideshow": {
     "slide_type": ""
    },
    "tags": []
   },
   "outputs": [
    {
     "data": {
      "text/plain": [
       "{'James': {'ethnicity': 'earther', 'vocation': 'captain'},\n",
       " 'Naomi': {'ethnicity': 'belter', 'vocation': 'technician'},\n",
       " 'Alex': {'ethnicity': 'martian', 'vocation': 'pilot'},\n",
       " 'Clarissa': {'ethnicity': 'earther', 'vocation': 'mechanic'}}"
      ]
     },
     "execution_count": 37,
     "metadata": {},
     "output_type": "execute_result"
    }
   ],
   "source": [
    "data"
   ]
  },
  {
   "cell_type": "code",
   "execution_count": 38,
   "id": "089cab4d-bb02-430d-ac01-444edcd22bd1",
   "metadata": {
    "editable": true,
    "slideshow": {
     "slide_type": ""
    },
    "tags": []
   },
   "outputs": [
    {
     "data": {
      "text/plain": [
       "{'ethnicity': 'earther', 'vocation': 'captain'}"
      ]
     },
     "execution_count": 38,
     "metadata": {},
     "output_type": "execute_result"
    }
   ],
   "source": [
    "data[\"James\"]"
   ]
  },
  {
   "cell_type": "markdown",
   "id": "21396b5f-78b2-4b12-8965-c5610787dbdb",
   "metadata": {
    "editable": true,
    "slideshow": {
     "slide_type": "slide"
    },
    "tags": []
   },
   "source": [
    "## Liste af dictionaries (JSON records)"
   ]
  },
  {
   "cell_type": "code",
   "execution_count": 45,
   "id": "770081aa-dfac-40d9-bcb3-2e66081e03d9",
   "metadata": {
    "editable": true,
    "slideshow": {
     "slide_type": "skip"
    },
    "tags": []
   },
   "outputs": [],
   "source": [
    "data = [\n",
    "    {\"name\": \"James\", \"ethnicity\": \"earther\", \"vocation\": \"captain\"},\n",
    "    {\"name\": \"Naomi\", \"ethnicity\": \"belter\", \"vocation\": \"technician\"},\n",
    "    {\"name\": \"Alex\", \"ethnicity\": \"martian\", \"vocation\": \"pilot\"},\n",
    "    {\"name\": \"Clarissa\", \"ethnicity\": \"earther\", \"vocation\": \"mechanic\"},\n",
    "]"
   ]
  },
  {
   "cell_type": "code",
   "execution_count": 46,
   "id": "6aef5236-d4a8-4479-875e-5acc99b89430",
   "metadata": {
    "editable": true,
    "slideshow": {
     "slide_type": ""
    },
    "tags": []
   },
   "outputs": [
    {
     "data": {
      "text/plain": [
       "[{'name': 'James', 'ethnicity': 'earther', 'vocation': 'captain'},\n",
       " {'name': 'Naomi', 'ethnicity': 'belter', 'vocation': 'technician'},\n",
       " {'name': 'Alex', 'ethnicity': 'martian', 'vocation': 'pilot'},\n",
       " {'name': 'Clarissa', 'ethnicity': 'earther', 'vocation': 'mechanic'}]"
      ]
     },
     "execution_count": 46,
     "metadata": {},
     "output_type": "execute_result"
    }
   ],
   "source": [
    "data"
   ]
  },
  {
   "cell_type": "code",
   "execution_count": 40,
   "id": "d1c737a3-1b81-4e15-b399-6a5699439d0b",
   "metadata": {
    "editable": true,
    "slideshow": {
     "slide_type": ""
    },
    "tags": []
   },
   "outputs": [
    {
     "data": {
      "text/plain": [
       "{'name': 'James', 'ethnicity': 'earther', 'vocation': 'captain'}"
      ]
     },
     "execution_count": 40,
     "metadata": {},
     "output_type": "execute_result"
    }
   ],
   "source": [
    "data[0]"
   ]
  },
  {
   "cell_type": "markdown",
   "id": "443d991d-8cc8-4a69-bc87-4cf7c08e8880",
   "metadata": {
    "editable": true,
    "slideshow": {
     "slide_type": "slide"
    },
    "tags": []
   },
   "source": [
    "## Data frame"
   ]
  },
  {
   "cell_type": "code",
   "execution_count": 41,
   "id": "3493515d-937c-454f-bfd7-a112e36b3233",
   "metadata": {
    "editable": true,
    "slideshow": {
     "slide_type": "skip"
    },
    "tags": []
   },
   "outputs": [],
   "source": [
    "import pandas as pd\n",
    "\n",
    "data = pd.DataFrame.from_records(data)"
   ]
  },
  {
   "cell_type": "code",
   "execution_count": 42,
   "id": "1a611f4a-fcdb-46ec-b2bd-91216efd151e",
   "metadata": {
    "editable": true,
    "slideshow": {
     "slide_type": ""
    },
    "tags": []
   },
   "outputs": [
    {
     "data": {
      "text/html": [
       "<div>\n",
       "<style scoped>\n",
       "    .dataframe tbody tr th:only-of-type {\n",
       "        vertical-align: middle;\n",
       "    }\n",
       "\n",
       "    .dataframe tbody tr th {\n",
       "        vertical-align: top;\n",
       "    }\n",
       "\n",
       "    .dataframe thead th {\n",
       "        text-align: right;\n",
       "    }\n",
       "</style>\n",
       "<table border=\"1\" class=\"dataframe\">\n",
       "  <thead>\n",
       "    <tr style=\"text-align: right;\">\n",
       "      <th></th>\n",
       "      <th>name</th>\n",
       "      <th>ethnicity</th>\n",
       "      <th>vocation</th>\n",
       "    </tr>\n",
       "  </thead>\n",
       "  <tbody>\n",
       "    <tr>\n",
       "      <th>0</th>\n",
       "      <td>James</td>\n",
       "      <td>earther</td>\n",
       "      <td>captain</td>\n",
       "    </tr>\n",
       "    <tr>\n",
       "      <th>1</th>\n",
       "      <td>Naomi</td>\n",
       "      <td>belter</td>\n",
       "      <td>technician</td>\n",
       "    </tr>\n",
       "    <tr>\n",
       "      <th>2</th>\n",
       "      <td>Alex</td>\n",
       "      <td>martian</td>\n",
       "      <td>pilot</td>\n",
       "    </tr>\n",
       "    <tr>\n",
       "      <th>3</th>\n",
       "      <td>Clarissa</td>\n",
       "      <td>earther</td>\n",
       "      <td>mechanic</td>\n",
       "    </tr>\n",
       "  </tbody>\n",
       "</table>\n",
       "</div>"
      ],
      "text/plain": [
       "       name ethnicity    vocation\n",
       "0     James   earther     captain\n",
       "1     Naomi    belter  technician\n",
       "2      Alex   martian       pilot\n",
       "3  Clarissa   earther    mechanic"
      ]
     },
     "execution_count": 42,
     "metadata": {},
     "output_type": "execute_result"
    }
   ],
   "source": [
    "data"
   ]
  },
  {
   "cell_type": "code",
   "execution_count": 43,
   "id": "a92d9a25-562d-4695-a118-8f0c595e210d",
   "metadata": {
    "editable": true,
    "slideshow": {
     "slide_type": ""
    },
    "tags": []
   },
   "outputs": [
    {
     "data": {
      "text/plain": [
       "name           James\n",
       "ethnicity    earther\n",
       "vocation     captain\n",
       "Name: 0, dtype: object"
      ]
     },
     "execution_count": 43,
     "metadata": {},
     "output_type": "execute_result"
    }
   ],
   "source": [
    "data.loc[0, :]"
   ]
  },
  {
   "cell_type": "markdown",
   "id": "9f2f1208-e036-4af3-b8bb-08dd0eef8241",
   "metadata": {
    "editable": true,
    "slideshow": {
     "slide_type": "slide"
    },
    "tags": []
   },
   "source": [
    "## Hyppige dataformater: .csv\n",
    "\n",
    "- csv: \"Comma-separated values\"\n",
    "- Én række per observation\n",
    "- Værdier adskilt med kommaer\n",
    "- To-dimensionel datastruktur\n",
    "\n",
    "```\n",
    "name,ethnicity,vocation\n",
    "James,earther,captain\n",
    "Naomi,belter,technician\n",
    "Alex,martian,pilot\n",
    "Clarissa,earther,mechanic\n",
    "```"
   ]
  },
  {
   "cell_type": "markdown",
   "id": "666dffea-0699-46f2-be6c-770144e761bc",
   "metadata": {
    "editable": true,
    "slideshow": {
     "slide_type": "slide"
    },
    "tags": []
   },
   "source": [
    "## Hyppige dataformater: .json\n",
    "\n",
    "- Hierarkisk dataformat\n",
    "- Værdier i nøgle-værdi par\n",
    "- Flere \"grene\" kan tilføjes\n",
    "\n",
    "```\n",
    "{'Nemesis Games': {\n",
    "    \"Characters\": {\n",
    "        \"James Holden\": {\n",
    "            \"Occupation\": \"Captain\", \n",
    "            \"Ethnicity\": \"Earther\", \n",
    "            \"Ship\": {\n",
    "                \"Name\": \"Rocinante\",\n",
    "                \"Class\": \"Corvette\",\n",
    "                \"Owner\": \"James Holden\",\n",
    "                \"Crew-size\": 6\n",
    "            }\n",
    "        },\n",
    "        \"Naomi Nagata\": {\n",
    "            \"Occupation\": \"Technician\", \n",
    "            \"Ethnicity\": \"Belter\",\n",
    "            \"Children\": {\n",
    "                \"Filip Nagata\": {\n",
    "                    \"Name\": \"Filip Nagata\",\n",
    "                    \"Occupation\": \"Unknown\"\n",
    "                }\n",
    "            }\n",
    "        }\n",
    "    }\n",
    "}\n",
    "```"
   ]
  },
  {
   "cell_type": "markdown",
   "id": "9b7b07b5-f3bb-403a-9e9f-8c5f339d286f",
   "metadata": {
    "editable": true,
    "slideshow": {
     "slide_type": "slide"
    },
    "tags": []
   },
   "source": [
    "## ØVELSE: Datastrukturer i Python\n",
    "\n",
    "Udled relevante oplysninger af nedenstående sætninger og sæt dem i en datastruktur, som du selv synes giver mening. Man skal kunne kalde alle oplysninger frem ved at kalde èn variabel.\n",
    "\n",
    "    For at blive klogere på deres kundebase, har SuperGroce ansat en konsulent til at observere, hvad kunderne køber i deres supermarked. Der blev observeret følgende:\n",
    "\n",
    "    Emily, en 32-årig grafisk designer, fyldte sin kurv med avocadoer, mandelmælk, grønkål, quinoa og mørk chokolade, mens hendes loyale golden retriever, Max, tålmodigt ventede ved hendes side.\n",
    "\n",
    "    Anders, en 45-årig arkæolog, købte fin-spidsede penne, kaffebønner, pitabrød og hummus, mens han forestillede sig sin aften med forskning sammen med sin nysgerrige papegøje, Luna.\n",
    "\n",
    "    Liam, en 28-årig fitness-træner, greb hurtigt kyllingebryster, spinat, proteinbarer, bananer og græsk yoghurt. Han kunne ikke vente med at komme i træningscenteret efter at have taget sin energiske australske hyrdehund, Bella, med på en løbetur.\n",
    "\n",
    "    60-årig pensionist Eleanor samlede i sin kurv tomater, mozzarella, basilikum, olivenolie og baguetter for at skabe hendes signaturret, caprese-salat, alt imens hendes kat, Whiskers, slappede af i hendes indkøbsvogn.\n",
    "\n",
    "    Pavel, en 42-årig børnelæge, valgte omhyggeligt babymad, bleer, æblemos, gulerødder og fuldkornskiks og forventede en weekend sammen med familien.\n",
    "\n",
    "    Alex, en 19-årig universitetsstuderende, fyldte op med instant nudler, energidrikke, mikrobølgepopcorn, peanutbutter og brød. Sene studie-sessioner og hans stille guldfisk, Bubbles, ventede hjemme på kollegieværelset.\n",
    "\n",
    "    Kokken Ramirez, en 50-årig kulinarisk ekspert, gik gennem gangene og valgte frisk basilikum, modne tomater, hvidløg, pasta og olivenolie for at tilberede en skøn pastaret, alt imens hans frække kæledyrsilder, Tango, kiggede ud fra hans skuldertaske.\n",
    "\n",
    "    35-årig astronaut Thomas tog astronaut-is, tørret frugt, proteinbarer, vakuum-pakket kylling og tortillas i sin kurv.\n",
    "\n",
    "    Sarah, en 25-årig romanforfatter, overvejede sine plot-ideer, mens hun valgte sort te, honning, mandler, blåbær og mørk chokolade, forestillede sig en hyggelig skrive-session forude, med hendes pjuskede kæledyrskat, Oliver, puttet op tæt ved."
   ]
  },
  {
   "cell_type": "markdown",
   "id": "eeb446e0-9c60-418c-b078-e3f134288dd2",
   "metadata": {
    "editable": true,
    "slideshow": {
     "slide_type": "slide"
    },
    "tags": []
   },
   "source": [
    "## ØVELSE: Datastrukturer i Python\n",
    "\n",
    "Udled af data hvilke kæledyr personerne over 40 år har."
   ]
  },
  {
   "cell_type": "markdown",
   "id": "360a4683-40c2-4541-a453-642634d5c7f0",
   "metadata": {
    "editable": true,
    "slideshow": {
     "slide_type": "slide"
    },
    "tags": []
   },
   "source": [
    "# Brug af egne funktioner (live-coding)"
   ]
  },
  {
   "cell_type": "markdown",
   "id": "0acb3b60-8aee-48f5-8b78-98573e94f2a7",
   "metadata": {
    "editable": true,
    "slideshow": {
     "slide_type": "slide"
    },
    "tags": []
   },
   "source": [
    "# Opsummering\n",
    "\n",
    "- Data kan struktureres i forskellige formater og strukturer\n",
    "- *Relationel* datastruktur er data i tabeller, som er begrænset til to dimensioner\n",
    "- *Hierarkisk* datastruktur er data i træ-lignende struktur\n",
    "- Valg af datastruktur hænger sammen med, hvad data skal bruges til\n",
    "- Man kan lave egne funktioner i Python, som er skræddersyet til de data og de problemstillinger, som man sidder med"
   ]
  }
 ],
 "metadata": {
  "kernelspec": {
   "display_name": "Python 3 (ipykernel)",
   "language": "python",
   "name": "python3"
  },
  "language_info": {
   "codemirror_mode": {
    "name": "ipython",
    "version": 3
   },
   "file_extension": ".py",
   "mimetype": "text/x-python",
   "name": "python",
   "nbconvert_exporter": "python",
   "pygments_lexer": "ipython3",
   "version": "3.8.17"
  }
 },
 "nbformat": 4,
 "nbformat_minor": 5
}
