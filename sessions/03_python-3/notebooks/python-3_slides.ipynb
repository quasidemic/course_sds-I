{
 "cells": [
  {
   "cell_type": "code",
   "execution_count": 1,
   "id": "5127b4c1-738f-424f-a491-cb724fdde262",
   "metadata": {},
   "outputs": [],
   "source": [
    "# Prep\n",
    "import pandas as pd\n",
    "from datetime import datetime\n",
    "import re\n",
    "\n",
    "eurob_path = 'C:/Users/kgk/OneDrive - Aalborg Universitet/Undervisning/E22/sds/datasets/eurobarometer-96_dk_subset.csv'\n",
    "eurob = pd.read_csv(eurob_path)"
   ]
  },
  {
   "cell_type": "markdown",
   "id": "86e960be-e484-4a55-91ed-ece9675fa8a7",
   "metadata": {
    "slideshow": {
     "slide_type": "slide"
    },
    "tags": []
   },
   "source": [
    "# Introduktion til Python III"
   ]
  },
  {
   "cell_type": "markdown",
   "id": "58fbfad2-39d1-4501-8493-49bdb641c659",
   "metadata": {
    "slideshow": {
     "slide_type": "slide"
    },
    "tags": []
   },
   "source": [
    "## Program\n",
    "\n",
    "- Opfølgning fra sidste undervisningsgang\n",
    "- Datoer i Python (materiale fra session 2)\n",
    "- Simpel udforskning af data (materiale fra session 1)\n",
    "- Split-apply-combine (materiale fra session 1)\n",
    "- Brug af egne funktioner\n",
    "- (Sammensætning af data)\n",
    "- (Ændring af tabeldatastruktur)"
   ]
  },
  {
   "cell_type": "markdown",
   "id": "84389289-ce83-4f34-a76e-f02a78e2c7db",
   "metadata": {
    "slideshow": {
     "slide_type": "slide"
    },
    "tags": []
   },
   "source": [
    "# Opfølgning fra sidste undervisningsgang"
   ]
  },
  {
   "cell_type": "markdown",
   "id": "62607f02-db02-4458-b208-41229e47016d",
   "metadata": {},
   "source": [
    "# Datoer i Python (session 2)"
   ]
  },
  {
   "cell_type": "markdown",
   "id": "75384eac-e808-46d7-90d8-7d7834ac6b98",
   "metadata": {},
   "source": [
    "# Simpel udforskning af data (live-coding) (session 1)"
   ]
  },
  {
   "cell_type": "markdown",
   "id": "0341a711-ade9-4459-9476-706dccf5381f",
   "metadata": {},
   "source": [
    "# Split-apply-combine (session 1)"
   ]
  },
  {
   "cell_type": "markdown",
   "id": "2de1225d-acec-4442-8185-04a9901f960d",
   "metadata": {},
   "source": [
    "# Brug af egne funktioner (live-coding)"
   ]
  }
 ],
 "metadata": {
  "kernelspec": {
   "display_name": "Python 3",
   "language": "python",
   "name": "python3"
  },
  "language_info": {
   "codemirror_mode": {
    "name": "ipython",
    "version": 3
   },
   "file_extension": ".py",
   "mimetype": "text/x-python",
   "name": "python",
   "nbconvert_exporter": "python",
   "pygments_lexer": "ipython3",
   "version": "3.7.12"
  }
 },
 "nbformat": 4,
 "nbformat_minor": 5
}
