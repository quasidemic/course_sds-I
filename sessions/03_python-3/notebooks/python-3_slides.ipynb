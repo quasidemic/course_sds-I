{
 "cells": [
  {
   "cell_type": "code",
   "execution_count": 1,
   "id": "227cc89a-1a9d-48ad-99c7-90421822b9ec",
   "metadata": {
    "editable": true,
    "slideshow": {
     "slide_type": "skip"
    },
    "tags": []
   },
   "outputs": [],
   "source": [
    "# prep"
   ]
  },
  {
   "cell_type": "markdown",
   "id": "7bcdede1-81f0-4269-a05e-5d327e071335",
   "metadata": {
    "editable": true,
    "slideshow": {
     "slide_type": "slide"
    },
    "tags": []
   },
   "source": [
    "# Introduktion til Python III"
   ]
  },
  {
   "cell_type": "markdown",
   "id": "ee4735b7-0265-438b-bbb4-7285149c7dd9",
   "metadata": {
    "editable": true,
    "slideshow": {
     "slide_type": "slide"
    },
    "tags": []
   },
   "source": [
    "## Program\n",
    "\n",
    "- Brug af egne funktioner i Python\n",
    "- Dataformater og datastrukturer\n",
    "- Sammensætning af data (concatenation, joins)\n",
    "- Ændring af dataformat (wide, long)"
   ]
  },
  {
   "cell_type": "markdown",
   "id": "35d80eab-cda5-4e41-a2fd-abb03b656199",
   "metadata": {
    "editable": true,
    "slideshow": {
     "slide_type": "slide"
    },
    "tags": []
   },
   "source": [
    "# Brug af egne funktioner (live-coding)"
   ]
  },
  {
   "cell_type": "markdown",
   "id": "b9489f18-4b1e-4163-ac9a-ad661a91278e",
   "metadata": {
    "editable": true,
    "slideshow": {
     "slide_type": "slide"
    },
    "tags": []
   },
   "source": [
    "# Dataformater og datastrukturer"
   ]
  },
  {
   "cell_type": "markdown",
   "id": "8fd9c21b-616e-4843-a124-d59a43bdf974",
   "metadata": {
    "editable": true,
    "slideshow": {
     "slide_type": "slide"
    },
    "tags": []
   },
   "source": [
    "## Data -> Datasæt -> Datastruktur"
   ]
  },
  {
   "cell_type": "markdown",
   "id": "ac34c1cf-4a45-46dc-82f2-d0000c36cdf4",
   "metadata": {
    "editable": true,
    "slideshow": {
     "slide_type": ""
    },
    "tags": []
   },
   "source": [
    "![data-structure](../img/data_set_structure.png)"
   ]
  },
  {
   "cell_type": "markdown",
   "id": "e66214cf-4ab2-44be-bf9c-2901fef5233f",
   "metadata": {
    "editable": true,
    "slideshow": {
     "slide_type": "slide"
    },
    "tags": []
   },
   "source": [
    "## Relationel datastruktur\n",
    "\n",
    "- Data i tabeller\n",
    "- Hver tabel har kun 2 dimensioner (rækker og kolonner)\n",
    "\n",
    "![hierarch](../img/expanse_relational.png)"
   ]
  },
  {
   "cell_type": "markdown",
   "id": "ab418498-e6b0-4a43-bea6-4578f8d7ed55",
   "metadata": {
    "editable": true,
    "slideshow": {
     "slide_type": "slide"
    },
    "tags": []
   },
   "source": [
    "## Hierarkisk datastruktur\n",
    "\n",
    "- Data i træ-lignende struktur\n",
    "- Ikke bundet til 2 dimensioner (hver gren kan have så mange undergrene, som  der er behov for)\n",
    "\n",
    "![hierarch](../img/expanse_hierarchical.png)"
   ]
  },
  {
   "cell_type": "markdown",
   "id": "ee99b1e0-6f70-4c40-afe7-2ba345bbd430",
   "metadata": {
    "editable": true,
    "slideshow": {
     "slide_type": "slide"
    },
    "tags": []
   },
   "source": [
    "## Hyppige datafilformater: .csv\n",
    "\n",
    "- csv: \"Comma-separated values\"\n",
    "- Én række per observation\n",
    "- Værdier adskilt med kommaer\n",
    "- To-dimensionel datastruktur\n",
    "\n",
    "```\n",
    "name,ethnicity,vocation\n",
    "James,earther,captain\n",
    "Naomi,belter,technician\n",
    "Alex,martian,pilot\n",
    "Clarissa,earther,mechanic\n",
    "```"
   ]
  },
  {
   "cell_type": "markdown",
   "id": "0405fa17-b39d-4a8e-8e45-ea9909d7cfaa",
   "metadata": {
    "editable": true,
    "slideshow": {
     "slide_type": "slide"
    },
    "tags": []
   },
   "source": [
    "## Hyppige datafilformater: .json\n",
    "\n",
    "- Hierarkisk dataformat\n",
    "- Værdier i nøgle-værdi par\n",
    "- Flere \"grene\" kan tilføjes\n",
    "\n",
    "```\n",
    "{'Nemesis Games': {\n",
    "    \"Characters\": {\n",
    "        \"James Holden\": {\n",
    "            \"Occupation\": \"Captain\", \n",
    "            \"Ethnicity\": \"Earther\", \n",
    "            \"Ship\": {\n",
    "                \"Name\": \"Rocinante\",\n",
    "                \"Class\": \"Corvette\",\n",
    "                \"Owner\": \"James Holden\",\n",
    "                \"Crew-size\": 6\n",
    "            }\n",
    "        },\n",
    "        \"Naomi Nagata\": {\n",
    "            \"Occupation\": \"Technician\", \n",
    "            \"Ethnicity\": \"Belter\",\n",
    "            \"Children\": {\n",
    "                \"Filip Nagata\": {\n",
    "                    \"Name\": \"Filip Nagata\",\n",
    "                    \"Occupation\": \"Unknown\"\n",
    "                }\n",
    "            }\n",
    "        }\n",
    "    }\n",
    "}\n",
    "```"
   ]
  },
  {
   "cell_type": "markdown",
   "id": "04721997-f8a5-4407-a495-62b3ad0738cd",
   "metadata": {
    "editable": true,
    "slideshow": {
     "slide_type": "slide"
    },
    "tags": []
   },
   "source": [
    "## Datastruktur i Python: Liste af lister"
   ]
  },
  {
   "cell_type": "code",
   "execution_count": 2,
   "id": "d1497f41-c4ca-4d7a-8923-081ac91717a7",
   "metadata": {
    "editable": true,
    "slideshow": {
     "slide_type": "skip"
    },
    "tags": []
   },
   "outputs": [],
   "source": [
    "names = [\"James\", \"Naomi\", \"Alex\", \"Clarissa\"]\n",
    "ethnicities = [\"earther\", \"belter\", \"martian\", \"earter\"]\n",
    "vocation = [\"captain\", \"technician\", \"pilot\", \"mechanic\"]\n",
    "\n",
    "data = [names, ethnicities, vocation]"
   ]
  },
  {
   "cell_type": "code",
   "execution_count": 3,
   "id": "09ce287d-b7ad-46e1-9506-8ca4c410b9c1",
   "metadata": {
    "editable": true,
    "slideshow": {
     "slide_type": ""
    },
    "tags": []
   },
   "outputs": [
    {
     "data": {
      "text/plain": [
       "[['James', 'Naomi', 'Alex', 'Clarissa'],\n",
       " ['earther', 'belter', 'martian', 'earter'],\n",
       " ['captain', 'technician', 'pilot', 'mechanic']]"
      ]
     },
     "execution_count": 3,
     "metadata": {},
     "output_type": "execute_result"
    }
   ],
   "source": [
    "data"
   ]
  },
  {
   "cell_type": "code",
   "execution_count": 4,
   "id": "01b18729-ef50-4bce-a3dc-e9a7fc5a24b4",
   "metadata": {
    "editable": true,
    "slideshow": {
     "slide_type": ""
    },
    "tags": []
   },
   "outputs": [
    {
     "data": {
      "text/plain": [
       "['James', 'earther', 'captain']"
      ]
     },
     "execution_count": 4,
     "metadata": {},
     "output_type": "execute_result"
    }
   ],
   "source": [
    "[items[0] for items in data]"
   ]
  },
  {
   "cell_type": "markdown",
   "id": "268ac4ac-9d1b-4b27-a668-93fba302fa73",
   "metadata": {
    "editable": true,
    "slideshow": {
     "slide_type": "slide"
    },
    "tags": []
   },
   "source": [
    "## Datastruktur i Python: Dictionary (JSON)"
   ]
  },
  {
   "cell_type": "code",
   "execution_count": 5,
   "id": "94aa9668-f21d-4036-87a3-1d57d1157c1e",
   "metadata": {
    "editable": true,
    "slideshow": {
     "slide_type": "skip"
    },
    "tags": []
   },
   "outputs": [],
   "source": [
    "data = {\n",
    "    \"James\": {\"ethnicity\": \"earther\", \"vocation\": \"captain\"},\n",
    "    \"Naomi\": {\"ethnicity\": \"belter\", \"vocation\": \"technician\"},\n",
    "    \"Alex\": {\"ethnicity\": \"martian\", \"vocation\": \"pilot\"},\n",
    "    \"Clarissa\": {\"ethnicity\": \"earther\", \"vocation\": \"mechanic\"},\n",
    "}"
   ]
  },
  {
   "cell_type": "code",
   "execution_count": 6,
   "id": "82b3ec91-06cf-44fb-96f2-f7c336e105cf",
   "metadata": {
    "editable": true,
    "slideshow": {
     "slide_type": ""
    },
    "tags": []
   },
   "outputs": [
    {
     "data": {
      "text/plain": [
       "{'James': {'ethnicity': 'earther', 'vocation': 'captain'},\n",
       " 'Naomi': {'ethnicity': 'belter', 'vocation': 'technician'},\n",
       " 'Alex': {'ethnicity': 'martian', 'vocation': 'pilot'},\n",
       " 'Clarissa': {'ethnicity': 'earther', 'vocation': 'mechanic'}}"
      ]
     },
     "execution_count": 6,
     "metadata": {},
     "output_type": "execute_result"
    }
   ],
   "source": [
    "data"
   ]
  },
  {
   "cell_type": "code",
   "execution_count": 7,
   "id": "089cab4d-bb02-430d-ac01-444edcd22bd1",
   "metadata": {
    "editable": true,
    "slideshow": {
     "slide_type": ""
    },
    "tags": []
   },
   "outputs": [
    {
     "data": {
      "text/plain": [
       "{'ethnicity': 'earther', 'vocation': 'captain'}"
      ]
     },
     "execution_count": 7,
     "metadata": {},
     "output_type": "execute_result"
    }
   ],
   "source": [
    "data[\"James\"]"
   ]
  },
  {
   "cell_type": "markdown",
   "id": "21396b5f-78b2-4b12-8965-c5610787dbdb",
   "metadata": {
    "editable": true,
    "slideshow": {
     "slide_type": "slide"
    },
    "tags": []
   },
   "source": [
    "## Datastruktur i Python: Liste af dictionaries (JSON records)"
   ]
  },
  {
   "cell_type": "code",
   "execution_count": 8,
   "id": "770081aa-dfac-40d9-bcb3-2e66081e03d9",
   "metadata": {
    "editable": true,
    "slideshow": {
     "slide_type": "skip"
    },
    "tags": []
   },
   "outputs": [],
   "source": [
    "data = [\n",
    "    {\"name\": \"James\", \"ethnicity\": \"earther\", \"vocation\": \"captain\"},\n",
    "    {\"name\": \"Naomi\", \"ethnicity\": \"belter\", \"vocation\": \"technician\"},\n",
    "    {\"name\": \"Alex\", \"ethnicity\": \"martian\", \"vocation\": \"pilot\"},\n",
    "    {\"name\": \"Clarissa\", \"ethnicity\": \"earther\", \"vocation\": \"mechanic\"},\n",
    "]"
   ]
  },
  {
   "cell_type": "code",
   "execution_count": 9,
   "id": "6aef5236-d4a8-4479-875e-5acc99b89430",
   "metadata": {
    "editable": true,
    "slideshow": {
     "slide_type": ""
    },
    "tags": []
   },
   "outputs": [
    {
     "data": {
      "text/plain": [
       "[{'name': 'James', 'ethnicity': 'earther', 'vocation': 'captain'},\n",
       " {'name': 'Naomi', 'ethnicity': 'belter', 'vocation': 'technician'},\n",
       " {'name': 'Alex', 'ethnicity': 'martian', 'vocation': 'pilot'},\n",
       " {'name': 'Clarissa', 'ethnicity': 'earther', 'vocation': 'mechanic'}]"
      ]
     },
     "execution_count": 9,
     "metadata": {},
     "output_type": "execute_result"
    }
   ],
   "source": [
    "data"
   ]
  },
  {
   "cell_type": "code",
   "execution_count": 10,
   "id": "d1c737a3-1b81-4e15-b399-6a5699439d0b",
   "metadata": {
    "editable": true,
    "slideshow": {
     "slide_type": ""
    },
    "tags": []
   },
   "outputs": [
    {
     "data": {
      "text/plain": [
       "{'name': 'James', 'ethnicity': 'earther', 'vocation': 'captain'}"
      ]
     },
     "execution_count": 10,
     "metadata": {},
     "output_type": "execute_result"
    }
   ],
   "source": [
    "data[0]"
   ]
  },
  {
   "cell_type": "markdown",
   "id": "443d991d-8cc8-4a69-bc87-4cf7c08e8880",
   "metadata": {
    "editable": true,
    "slideshow": {
     "slide_type": "slide"
    },
    "tags": []
   },
   "source": [
    "## Datastruktur i Python: (pandas) Data frame"
   ]
  },
  {
   "cell_type": "code",
   "execution_count": 11,
   "id": "3493515d-937c-454f-bfd7-a112e36b3233",
   "metadata": {
    "editable": true,
    "slideshow": {
     "slide_type": "skip"
    },
    "tags": []
   },
   "outputs": [],
   "source": [
    "import pandas as pd\n",
    "\n",
    "data = pd.DataFrame.from_records(data)"
   ]
  },
  {
   "cell_type": "code",
   "execution_count": 12,
   "id": "1a611f4a-fcdb-46ec-b2bd-91216efd151e",
   "metadata": {
    "editable": true,
    "slideshow": {
     "slide_type": ""
    },
    "tags": []
   },
   "outputs": [
    {
     "data": {
      "text/html": [
       "<div>\n",
       "<style scoped>\n",
       "    .dataframe tbody tr th:only-of-type {\n",
       "        vertical-align: middle;\n",
       "    }\n",
       "\n",
       "    .dataframe tbody tr th {\n",
       "        vertical-align: top;\n",
       "    }\n",
       "\n",
       "    .dataframe thead th {\n",
       "        text-align: right;\n",
       "    }\n",
       "</style>\n",
       "<table border=\"1\" class=\"dataframe\">\n",
       "  <thead>\n",
       "    <tr style=\"text-align: right;\">\n",
       "      <th></th>\n",
       "      <th>name</th>\n",
       "      <th>ethnicity</th>\n",
       "      <th>vocation</th>\n",
       "    </tr>\n",
       "  </thead>\n",
       "  <tbody>\n",
       "    <tr>\n",
       "      <th>0</th>\n",
       "      <td>James</td>\n",
       "      <td>earther</td>\n",
       "      <td>captain</td>\n",
       "    </tr>\n",
       "    <tr>\n",
       "      <th>1</th>\n",
       "      <td>Naomi</td>\n",
       "      <td>belter</td>\n",
       "      <td>technician</td>\n",
       "    </tr>\n",
       "    <tr>\n",
       "      <th>2</th>\n",
       "      <td>Alex</td>\n",
       "      <td>martian</td>\n",
       "      <td>pilot</td>\n",
       "    </tr>\n",
       "    <tr>\n",
       "      <th>3</th>\n",
       "      <td>Clarissa</td>\n",
       "      <td>earther</td>\n",
       "      <td>mechanic</td>\n",
       "    </tr>\n",
       "  </tbody>\n",
       "</table>\n",
       "</div>"
      ],
      "text/plain": [
       "       name ethnicity    vocation\n",
       "0     James   earther     captain\n",
       "1     Naomi    belter  technician\n",
       "2      Alex   martian       pilot\n",
       "3  Clarissa   earther    mechanic"
      ]
     },
     "execution_count": 12,
     "metadata": {},
     "output_type": "execute_result"
    }
   ],
   "source": [
    "data"
   ]
  },
  {
   "cell_type": "code",
   "execution_count": 13,
   "id": "a92d9a25-562d-4695-a118-8f0c595e210d",
   "metadata": {
    "editable": true,
    "slideshow": {
     "slide_type": ""
    },
    "tags": []
   },
   "outputs": [
    {
     "data": {
      "text/plain": [
       "name           James\n",
       "ethnicity    earther\n",
       "vocation     captain\n",
       "Name: 0, dtype: object"
      ]
     },
     "execution_count": 13,
     "metadata": {},
     "output_type": "execute_result"
    }
   ],
   "source": [
    "data.loc[0, :]"
   ]
  },
  {
   "cell_type": "markdown",
   "id": "9b7b07b5-f3bb-403a-9e9f-8c5f339d286f",
   "metadata": {
    "editable": true,
    "slideshow": {
     "slide_type": "slide"
    },
    "tags": []
   },
   "source": [
    "## ØVELSE: Datastrukturer i Python\n",
    "\n",
    "Udled relevante oplysninger af nedenstående sætninger og sæt dem i en datastruktur, som du selv synes giver mening. Man skal kunne kalde alle oplysninger frem ved at kalde èn variabel.\n",
    "\n",
    "    For at blive klogere på deres kundebase, har SuperGroce ansat en konsulent til at observere, hvad kunderne køber i deres supermarked. Der blev observeret følgende:\n",
    "\n",
    "    Emily, en 32-årig grafisk designer, fyldte sin kurv med avocadoer, mandelmælk, grønkål, quinoa og mørk chokolade, mens hendes loyale golden retriever, Max, tålmodigt ventede ved hendes side.\n",
    "\n",
    "    Anders, en 45-årig arkæolog, købte fin-spidsede penne, kaffebønner, pitabrød og hummus, mens han forestillede sig sin aften med forskning sammen med sin nysgerrige papegøje, Luna.\n",
    "\n",
    "    Liam, en 28-årig fitness-træner, greb hurtigt kyllingebryster, spinat, proteinbarer, bananer og græsk yoghurt. Han kunne ikke vente med at komme i træningscenteret efter at have taget sin energiske australske hyrdehund, Bella, med på en løbetur.\n",
    "\n",
    "    60-årig pensionist Eleanor samlede i sin kurv tomater, mozzarella, basilikum, olivenolie og baguetter for at skabe hendes signaturret, caprese-salat, alt imens hendes kat, Whiskers, slappede af i hendes indkøbsvogn.\n",
    "\n",
    "    Pavel, en 42-årig børnelæge, valgte omhyggeligt babymad, bleer, æblemos, gulerødder og fuldkornskiks og forventede en weekend sammen med familien.\n",
    "\n",
    "    Alex, en 19-årig universitetsstuderende, fyldte op med instant nudler, energidrikke, mikrobølgepopcorn, peanutbutter og brød. Sene studie-sessioner og hans stille guldfisk, Bubbles, ventede hjemme på kollegieværelset.\n",
    "\n",
    "    Kokken Ramirez, en 50-årig kulinarisk ekspert, gik gennem gangene og valgte frisk basilikum, modne tomater, hvidløg, pasta og olivenolie for at tilberede en skøn pastaret, alt imens hans frække kæledyrsilder, Tango, kiggede ud fra hans skuldertaske.\n",
    "\n",
    "    35-årig astronaut Thomas tog astronaut-is, tørret frugt, proteinbarer, vakuum-pakket kylling og tortillas i sin kurv.\n",
    "\n",
    "    Sarah, en 25-årig romanforfatter, overvejede sine plot-ideer, mens hun valgte sort te, honning, mandler, blåbær og mørk chokolade, forestillede sig en hyggelig skrive-session forude, med hendes pjuskede kæledyrskat, Oliver, puttet op tæt ved."
   ]
  },
  {
   "cell_type": "markdown",
   "id": "eeb446e0-9c60-418c-b078-e3f134288dd2",
   "metadata": {
    "editable": true,
    "slideshow": {
     "slide_type": "slide"
    },
    "tags": []
   },
   "source": [
    "## ØVELSE: Datastrukturer i Python\n",
    "\n",
    "Udled af data hvilke kæledyr personerne over 40 år har."
   ]
  },
  {
   "cell_type": "markdown",
   "id": "4f02aee4-2142-452a-80ff-91df38979968",
   "metadata": {
    "editable": true,
    "slideshow": {
     "slide_type": "slide"
    },
    "tags": []
   },
   "source": [
    "# Sammensætning af data"
   ]
  },
  {
   "cell_type": "markdown",
   "id": "791c8b60-fdef-4e36-bc6d-a9f9067bb5f2",
   "metadata": {
    "editable": true,
    "slideshow": {
     "slide_type": "slide"
    },
    "tags": []
   },
   "source": [
    "## Sammensætning af data\n",
    "\n",
    "Man kan af forskellige årsager have behov for at sammensætte datasæt. \n",
    "\n",
    "Man adskiller typsik mellem at udvide med flere *observationer* eller med flere *variable/oplysninger*.\n",
    "\n",
    "**Udvide med flere observationer**\n",
    "- Data indsamlet over flere omgange\n",
    "- Løbende opdatering af data\n",
    "\n",
    "**Udvide med flere variable/oplysninger**\n",
    "- Data samles på tværs af flere kilder\n",
    "- Oplysninger på forskellige enhedsniveauer"
   ]
  },
  {
   "cell_type": "markdown",
   "id": "4672a2ec-2f29-4cca-87ff-bfc179e17259",
   "metadata": {
    "editable": true,
    "slideshow": {
     "slide_type": "slide"
    },
    "tags": []
   },
   "source": [
    "## Udvid med flere observationer - appending/concatenating\n",
    "\n",
    "At udvide data med flere observationer kaldes typisk *appending* eller *concatenating* (for tabulær data).\n",
    "\n",
    "Bruges typisk når datasæt har samme kolonner, men forskellige rækker.\n",
    "\n",
    "![concat](https://pandas.pydata.org/pandas-docs/stable/_images/merging_concat_basic.png)\n",
    "\n",
    "*Source: pandas.pydata.org/*"
   ]
  },
  {
   "cell_type": "markdown",
   "id": "b46d95ba-ec22-4ada-afb1-306cf2e5d719",
   "metadata": {
    "editable": true,
    "slideshow": {
     "slide_type": "slide"
    },
    "tags": []
   },
   "source": [
    "## Udvid med flere variable/oplysninger - join/merge\n",
    "\n",
    "At udvide data med flere variable/oplysninger kaldes typisk for *join* eller *merge* (for tabulær data).\n",
    "\n",
    "Bruges typisk når datasæt deler nogle af de samme observationer, men har forskellige variable/oplysninger.\n",
    "\n",
    "Man *joiner* typisk to datasæt ad gangen. De to datasæt, som joines, kaldes typisk *left* og *right* (terminologien kommer fra SQL - et databasesprog).\n",
    "\n",
    "Datasæt joines ud fra en eller flere *nøglevariable* - noget som unikt identificerer observationen/enheden.\n",
    "\n",
    "![join](https://pandas.pydata.org/pandas-docs/stable/_images/merging_merge_on_key.png)\n",
    "\n",
    "*Source: pandas.pydata.org/*"
   ]
  },
  {
   "cell_type": "markdown",
   "id": "28b48b86-d144-4d60-86bc-c7d309db6a63",
   "metadata": {
    "editable": true,
    "slideshow": {
     "slide_type": "slide"
    },
    "tags": []
   },
   "source": [
    "## Typer af joins\n",
    "\n",
    "![join-types](https://external-content.duckduckgo.com/iu/?u=https%3A%2F%2Fadaptabiz.com%2Fwp-content%2Fuploads%2F2020%2F10%2Fsql-joins.jpg)\n",
    "\n",
    "*Source: adaptabiz.com*"
   ]
  },
  {
   "cell_type": "markdown",
   "id": "c3429765-a1c9-44f1-bb0b-d49eeb155550",
   "metadata": {
    "editable": true,
    "slideshow": {
     "slide_type": "slide"
    },
    "tags": []
   },
   "source": [
    "# Dataformater (wide-long)"
   ]
  },
  {
   "cell_type": "markdown",
   "id": "5da7c1d6-8f9c-4d25-b6a4-05217db571b7",
   "metadata": {
    "editable": true,
    "slideshow": {
     "slide_type": "slide"
    },
    "tags": []
   },
   "source": [
    "## Dataformater (wide-long)\n",
    "\n",
    "Datasæt kan have forskellige formater og strukturer. Det kan ofte være nødvendigt at ændre på datas format - enten for at det passer med den metode/funktion/model, som det skal bruges i, eller fordi det skal sættes sammen med andre datasæt.\n",
    "\n",
    "For datasæt i en tabelstruktur (rækker og kolonner), kan man overordnet adskille mellem to formater:\n",
    "- wide: én række per observeret enhed (fx person), hvor hver oplysning/variabel har sin egen kolonne\n",
    "- long: en observeret enhed kan have flere rækker, hvor en variabel indikerer, hvilken oplysning der er tale om for enheden\n",
    "\n",
    "Man støder ofte på det ene eller andet format i forbindelse med tidsserier, hvor man har gentagne målinger for de samme enheder. "
   ]
  },
  {
   "cell_type": "code",
   "execution_count": 14,
   "id": "be040f9b-a14c-46fe-8f09-c5f193e377f4",
   "metadata": {
    "editable": true,
    "slideshow": {
     "slide_type": "skip"
    },
    "tags": []
   },
   "outputs": [],
   "source": [
    "import pandas as pd\n",
    "import random\n",
    "\n",
    "wide_df = pd.DataFrame({'person': ['A', 'B', 'C'],\n",
    "                        '2010': random.sample(range(0,100), 3),\n",
    "                        '2011': random.sample(range(0,100), 3),\n",
    "                        '2012': random.sample(range(0,100), 3),\n",
    "                       }\n",
    "                      )\n",
    "\n",
    "wide2_df = pd.DataFrame({'person': ['A', 'B', 'C', 'D'],\n",
    "                         'age': [22, 53, 36, 42],\n",
    "                         'car_colour': ['red', 'white', 'blue', 'orange']\n",
    "                        }\n",
    "                       )\n",
    "\n",
    "long_df = pd.melt(wide_df, id_vars = ['person'], var_name = 'year', value_name = 'train_rides')\n",
    "long2_df = pd.melt(wide2_df, id_vars = ['person'], var_name = 'variable', value_name = 'value')"
   ]
  },
  {
   "cell_type": "markdown",
   "id": "77164d90-1ca1-40ee-849b-a06ab79d47c6",
   "metadata": {
    "editable": true,
    "slideshow": {
     "slide_type": "slide"
    },
    "tags": []
   },
   "source": [
    "### Fra wide til long - eksempel 1"
   ]
  },
  {
   "cell_type": "code",
   "execution_count": 15,
   "id": "888f2366-57f3-4535-92d4-69adeae48a94",
   "metadata": {
    "editable": true,
    "slideshow": {
     "slide_type": "fragment"
    },
    "tags": []
   },
   "outputs": [
    {
     "data": {
      "text/html": [
       "<div>\n",
       "<style scoped>\n",
       "    .dataframe tbody tr th:only-of-type {\n",
       "        vertical-align: middle;\n",
       "    }\n",
       "\n",
       "    .dataframe tbody tr th {\n",
       "        vertical-align: top;\n",
       "    }\n",
       "\n",
       "    .dataframe thead th {\n",
       "        text-align: right;\n",
       "    }\n",
       "</style>\n",
       "<table border=\"1\" class=\"dataframe\">\n",
       "  <thead>\n",
       "    <tr style=\"text-align: right;\">\n",
       "      <th></th>\n",
       "      <th>person</th>\n",
       "      <th>2010</th>\n",
       "      <th>2011</th>\n",
       "      <th>2012</th>\n",
       "    </tr>\n",
       "  </thead>\n",
       "  <tbody>\n",
       "    <tr>\n",
       "      <th>0</th>\n",
       "      <td>A</td>\n",
       "      <td>32</td>\n",
       "      <td>16</td>\n",
       "      <td>30</td>\n",
       "    </tr>\n",
       "    <tr>\n",
       "      <th>1</th>\n",
       "      <td>B</td>\n",
       "      <td>83</td>\n",
       "      <td>37</td>\n",
       "      <td>8</td>\n",
       "    </tr>\n",
       "    <tr>\n",
       "      <th>2</th>\n",
       "      <td>C</td>\n",
       "      <td>8</td>\n",
       "      <td>55</td>\n",
       "      <td>55</td>\n",
       "    </tr>\n",
       "  </tbody>\n",
       "</table>\n",
       "</div>"
      ],
      "text/plain": [
       "  person  2010  2011  2012\n",
       "0      A    32    16    30\n",
       "1      B    83    37     8\n",
       "2      C     8    55    55"
      ]
     },
     "execution_count": 15,
     "metadata": {},
     "output_type": "execute_result"
    }
   ],
   "source": [
    "wide_df"
   ]
  },
  {
   "cell_type": "code",
   "execution_count": 16,
   "id": "6423d42e-221e-4a78-b842-c174de286974",
   "metadata": {
    "editable": true,
    "slideshow": {
     "slide_type": "fragment"
    },
    "tags": []
   },
   "outputs": [
    {
     "data": {
      "text/html": [
       "<div>\n",
       "<style scoped>\n",
       "    .dataframe tbody tr th:only-of-type {\n",
       "        vertical-align: middle;\n",
       "    }\n",
       "\n",
       "    .dataframe tbody tr th {\n",
       "        vertical-align: top;\n",
       "    }\n",
       "\n",
       "    .dataframe thead th {\n",
       "        text-align: right;\n",
       "    }\n",
       "</style>\n",
       "<table border=\"1\" class=\"dataframe\">\n",
       "  <thead>\n",
       "    <tr style=\"text-align: right;\">\n",
       "      <th></th>\n",
       "      <th>person</th>\n",
       "      <th>year</th>\n",
       "      <th>train_rides</th>\n",
       "    </tr>\n",
       "  </thead>\n",
       "  <tbody>\n",
       "    <tr>\n",
       "      <th>0</th>\n",
       "      <td>A</td>\n",
       "      <td>2010</td>\n",
       "      <td>32</td>\n",
       "    </tr>\n",
       "    <tr>\n",
       "      <th>1</th>\n",
       "      <td>B</td>\n",
       "      <td>2010</td>\n",
       "      <td>83</td>\n",
       "    </tr>\n",
       "    <tr>\n",
       "      <th>2</th>\n",
       "      <td>C</td>\n",
       "      <td>2010</td>\n",
       "      <td>8</td>\n",
       "    </tr>\n",
       "    <tr>\n",
       "      <th>3</th>\n",
       "      <td>A</td>\n",
       "      <td>2011</td>\n",
       "      <td>16</td>\n",
       "    </tr>\n",
       "    <tr>\n",
       "      <th>4</th>\n",
       "      <td>B</td>\n",
       "      <td>2011</td>\n",
       "      <td>37</td>\n",
       "    </tr>\n",
       "    <tr>\n",
       "      <th>5</th>\n",
       "      <td>C</td>\n",
       "      <td>2011</td>\n",
       "      <td>55</td>\n",
       "    </tr>\n",
       "    <tr>\n",
       "      <th>6</th>\n",
       "      <td>A</td>\n",
       "      <td>2012</td>\n",
       "      <td>30</td>\n",
       "    </tr>\n",
       "    <tr>\n",
       "      <th>7</th>\n",
       "      <td>B</td>\n",
       "      <td>2012</td>\n",
       "      <td>8</td>\n",
       "    </tr>\n",
       "    <tr>\n",
       "      <th>8</th>\n",
       "      <td>C</td>\n",
       "      <td>2012</td>\n",
       "      <td>55</td>\n",
       "    </tr>\n",
       "  </tbody>\n",
       "</table>\n",
       "</div>"
      ],
      "text/plain": [
       "  person  year  train_rides\n",
       "0      A  2010           32\n",
       "1      B  2010           83\n",
       "2      C  2010            8\n",
       "3      A  2011           16\n",
       "4      B  2011           37\n",
       "5      C  2011           55\n",
       "6      A  2012           30\n",
       "7      B  2012            8\n",
       "8      C  2012           55"
      ]
     },
     "execution_count": 16,
     "metadata": {},
     "output_type": "execute_result"
    }
   ],
   "source": [
    "long_df"
   ]
  },
  {
   "cell_type": "markdown",
   "id": "cc29d549-baff-4355-9949-7fec90abd6ff",
   "metadata": {
    "editable": true,
    "slideshow": {
     "slide_type": "slide"
    },
    "tags": []
   },
   "source": [
    "### Fra wide til long - eksempel 2"
   ]
  },
  {
   "cell_type": "code",
   "execution_count": 17,
   "id": "fdc5fe75-5685-4a25-aa93-10a0cb0d91d1",
   "metadata": {
    "editable": true,
    "slideshow": {
     "slide_type": "fragment"
    },
    "tags": []
   },
   "outputs": [
    {
     "data": {
      "text/html": [
       "<div>\n",
       "<style scoped>\n",
       "    .dataframe tbody tr th:only-of-type {\n",
       "        vertical-align: middle;\n",
       "    }\n",
       "\n",
       "    .dataframe tbody tr th {\n",
       "        vertical-align: top;\n",
       "    }\n",
       "\n",
       "    .dataframe thead th {\n",
       "        text-align: right;\n",
       "    }\n",
       "</style>\n",
       "<table border=\"1\" class=\"dataframe\">\n",
       "  <thead>\n",
       "    <tr style=\"text-align: right;\">\n",
       "      <th></th>\n",
       "      <th>person</th>\n",
       "      <th>age</th>\n",
       "      <th>car_colour</th>\n",
       "    </tr>\n",
       "  </thead>\n",
       "  <tbody>\n",
       "    <tr>\n",
       "      <th>0</th>\n",
       "      <td>A</td>\n",
       "      <td>22</td>\n",
       "      <td>red</td>\n",
       "    </tr>\n",
       "    <tr>\n",
       "      <th>1</th>\n",
       "      <td>B</td>\n",
       "      <td>53</td>\n",
       "      <td>white</td>\n",
       "    </tr>\n",
       "    <tr>\n",
       "      <th>2</th>\n",
       "      <td>C</td>\n",
       "      <td>36</td>\n",
       "      <td>blue</td>\n",
       "    </tr>\n",
       "    <tr>\n",
       "      <th>3</th>\n",
       "      <td>D</td>\n",
       "      <td>42</td>\n",
       "      <td>orange</td>\n",
       "    </tr>\n",
       "  </tbody>\n",
       "</table>\n",
       "</div>"
      ],
      "text/plain": [
       "  person  age car_colour\n",
       "0      A   22        red\n",
       "1      B   53      white\n",
       "2      C   36       blue\n",
       "3      D   42     orange"
      ]
     },
     "execution_count": 17,
     "metadata": {},
     "output_type": "execute_result"
    }
   ],
   "source": [
    "wide2_df"
   ]
  },
  {
   "cell_type": "code",
   "execution_count": 18,
   "id": "7a4c53de-5d8c-4b19-80f8-c4242f0d185e",
   "metadata": {
    "editable": true,
    "slideshow": {
     "slide_type": "fragment"
    },
    "tags": []
   },
   "outputs": [
    {
     "data": {
      "text/html": [
       "<div>\n",
       "<style scoped>\n",
       "    .dataframe tbody tr th:only-of-type {\n",
       "        vertical-align: middle;\n",
       "    }\n",
       "\n",
       "    .dataframe tbody tr th {\n",
       "        vertical-align: top;\n",
       "    }\n",
       "\n",
       "    .dataframe thead th {\n",
       "        text-align: right;\n",
       "    }\n",
       "</style>\n",
       "<table border=\"1\" class=\"dataframe\">\n",
       "  <thead>\n",
       "    <tr style=\"text-align: right;\">\n",
       "      <th></th>\n",
       "      <th>person</th>\n",
       "      <th>variable</th>\n",
       "      <th>value</th>\n",
       "    </tr>\n",
       "  </thead>\n",
       "  <tbody>\n",
       "    <tr>\n",
       "      <th>0</th>\n",
       "      <td>A</td>\n",
       "      <td>age</td>\n",
       "      <td>22</td>\n",
       "    </tr>\n",
       "    <tr>\n",
       "      <th>1</th>\n",
       "      <td>B</td>\n",
       "      <td>age</td>\n",
       "      <td>53</td>\n",
       "    </tr>\n",
       "    <tr>\n",
       "      <th>2</th>\n",
       "      <td>C</td>\n",
       "      <td>age</td>\n",
       "      <td>36</td>\n",
       "    </tr>\n",
       "    <tr>\n",
       "      <th>3</th>\n",
       "      <td>D</td>\n",
       "      <td>age</td>\n",
       "      <td>42</td>\n",
       "    </tr>\n",
       "    <tr>\n",
       "      <th>4</th>\n",
       "      <td>A</td>\n",
       "      <td>car_colour</td>\n",
       "      <td>red</td>\n",
       "    </tr>\n",
       "    <tr>\n",
       "      <th>5</th>\n",
       "      <td>B</td>\n",
       "      <td>car_colour</td>\n",
       "      <td>white</td>\n",
       "    </tr>\n",
       "    <tr>\n",
       "      <th>6</th>\n",
       "      <td>C</td>\n",
       "      <td>car_colour</td>\n",
       "      <td>blue</td>\n",
       "    </tr>\n",
       "    <tr>\n",
       "      <th>7</th>\n",
       "      <td>D</td>\n",
       "      <td>car_colour</td>\n",
       "      <td>orange</td>\n",
       "    </tr>\n",
       "  </tbody>\n",
       "</table>\n",
       "</div>"
      ],
      "text/plain": [
       "  person    variable   value\n",
       "0      A         age      22\n",
       "1      B         age      53\n",
       "2      C         age      36\n",
       "3      D         age      42\n",
       "4      A  car_colour     red\n",
       "5      B  car_colour   white\n",
       "6      C  car_colour    blue\n",
       "7      D  car_colour  orange"
      ]
     },
     "execution_count": 18,
     "metadata": {},
     "output_type": "execute_result"
    }
   ],
   "source": [
    "long2_df"
   ]
  },
  {
   "cell_type": "markdown",
   "id": "159bea25-aae8-4b68-917d-34d555353433",
   "metadata": {
    "editable": true,
    "slideshow": {
     "slide_type": "slide"
    },
    "tags": []
   },
   "source": [
    "# Sammensætning af data og ændring af dataformat (live-coding)"
   ]
  },
  {
   "cell_type": "markdown",
   "id": "0acb3b60-8aee-48f5-8b78-98573e94f2a7",
   "metadata": {
    "editable": true,
    "slideshow": {
     "slide_type": "slide"
    },
    "tags": []
   },
   "source": [
    "# Opsummering\n",
    "\n",
    "- Man kan lave egne funktioner i Python, som er skræddersyet til de data og de problemstillinger, som man sidder med\n",
    "- Data kan struktureres i forskellige formater og strukturer\n",
    "    - *Relationel* datastruktur er data i tabeller, som er begrænset til to dimensioner\n",
    "    - *Hierarkisk* datastruktur er data i træ-lignende struktur\n",
    "    - Valg af datastruktur hænger sammen med, hvad data skal bruges til\n",
    "- Datasæt kan sammensættes på forskellig vis\n",
    "    - Sammensætning af *rækker* kaldes typisk *appending* eller *concatenating* for tabulær data\n",
    "    - Sammensætning af *varible* kaldes typisk *join* eller *merge* for tabulær data\n",
    "- Tabulær data kan være i forskellige formater\n",
    "    - Data i *wide* format indeholder én række per enhed\n",
    "    - Data i *long* format kan indeholde flere rækker per enhed (fx ved tidsserier)"
   ]
  }
 ],
 "metadata": {
  "kernelspec": {
   "display_name": "Python 3 (ipykernel)",
   "language": "python",
   "name": "python3"
  },
  "language_info": {
   "codemirror_mode": {
    "name": "ipython",
    "version": 3
   },
   "file_extension": ".py",
   "mimetype": "text/x-python",
   "name": "python",
   "nbconvert_exporter": "python",
   "pygments_lexer": "ipython3",
   "version": "3.8.17"
  }
 },
 "nbformat": 4,
 "nbformat_minor": 5
}
