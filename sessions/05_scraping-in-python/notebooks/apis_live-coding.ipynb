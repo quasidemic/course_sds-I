{
 "cells": [
  {
   "cell_type": "markdown",
   "id": "9f86c135-826b-43c6-b952-129fc35de05f",
   "metadata": {},
   "source": [
    "## API-kald i Python\n",
    "\n",
    "### Hvordan bruges API'er?\n",
    "\n",
    "API'er (til databaser) er meget forskellige, men indeholder typisk de samme følgende grundkomponenter:\n",
    "\n",
    "**Request:** Ligesom al anden kommunikation med internettet, involverer brug af API at sende en *request* (GET eller POST) til en server. \n",
    "\n",
    "**Endpoint:** API'er indeholder typisk flere forskellige *endpoints*. Tænk på disse som \"haner\", man kan koble sig på, for at udtrække data. Endpoints er URL'er, som en request skal sendes til.\n",
    "\n",
    "**Parameters:** Parametre er de argumenter eller indstillinger, som endpoint accepterer eller forventer. Nogle er krævet for overhovedet at få data tilbage, andre er valgfrie.\n",
    "\n",
    "**Authentication:** De fleste API'er kræver en eller anden form for autentificering. Man ser typisk to former for autentificering: HTTPS autentificering (brugernavn og adgangskode) og autentificering via \"tokens\". Tokens er unikke \"nøgler\" - en samling af tekst, tegn og tal, som for serveren unikt identificerer, hvem der sender henvendelsen."
   ]
  },
  {
   "cell_type": "markdown",
   "id": "f810dd0a-3531-4b4d-9348-56994c4eb388",
   "metadata": {},
   "source": [
    "## Ekesempel 1: Brug af Statistikbankens API\n",
    "\n",
    "Link til API dokumentation: https://www.dst.dk/en/Statistik/brug-statistikken/muligheder-i-statistikbanken/api\n",
    "\n",
    "Man kan tilgå data i Statistikbanken via API.\n",
    "\n",
    "I det følgende ses nogle eksempler på at bruge API'en via Python.\n",
    "\n",
    "*Bemærk*: Denne API kræver ikke autentificering"
   ]
  },
  {
   "cell_type": "markdown",
   "id": "41ef74b0-fd24-45ff-92f7-20da71b79970",
   "metadata": {},
   "source": [
    "### Udtræk data fra Statistikbankens API"
   ]
  },
  {
   "cell_type": "code",
   "execution_count": null,
   "id": "ffa8dd46-5eae-470b-b410-8bae415ca331",
   "metadata": {},
   "outputs": [],
   "source": [
    "import requests\n",
    "\n",
    "statbank_api = \"https://api.statbank.dk/v1/data\"  #Endpoint of the data API\n",
    "\n",
    "param = {'table': 'folk1c',\n",
    "            'format': 'CSV',\n",
    "            'variables': [{'code': 'OMRÅDE', 'values': ['101', '851']},  #Request in JSON/dictionary\n",
    "                                                            {'code': 'ALDER', 'values': ['20-24', '25-29']}]\n",
    "           }\n",
    "\n",
    "data_req = requests.post(statbank_api, json=param)  #Sending requests\n",
    "\n",
    "print(data_req.text)  #Printing the raw text output"
   ]
  },
  {
   "cell_type": "markdown",
   "id": "3997c303-54c7-483a-aec1-6c0ebb59a781",
   "metadata": {},
   "source": [
    "Data endpointet returnerer komma-separerede værdier som standard (csv).\n",
    "\n",
    "Dette format er kompatibelt med `pandas` dataframes (`pd.read_csv`):"
   ]
  },
  {
   "cell_type": "code",
   "execution_count": null,
   "id": "ff66a65c-4e16-48db-8135-e477a21a378a",
   "metadata": {},
   "outputs": [],
   "source": [
    "from io import StringIO\n",
    "import pandas as pd\n",
    "\n",
    "dstdata = StringIO(data_req.text)  #Read the data output as raw text\n",
    "dstdf = pd.read_csv(dstdata, sep=\";\")  #Read text as csv\n",
    "dstdf  #Print data"
   ]
  },
  {
   "cell_type": "code",
   "execution_count": null,
   "id": "ca1016f2-3144-4098-a2d0-e863d3a656f3",
   "metadata": {},
   "outputs": [],
   "source": [
    "dstdf.groupby(['OMRÅDE']).sum()  #Group by municipality and count sum"
   ]
  },
  {
   "cell_type": "markdown",
   "id": "f81dd04e-7692-4167-81de-22627d2f4e3a",
   "metadata": {},
   "source": [
    "## Eksempel 2: Brug af Danmarks Adresser Web API (DAWA)\n",
    "\n",
    "Link til API dokumentation: https://dawadocs.dataforsyningen.dk/dok/api/\n",
    "\n",
    "Danmarks Adresser Web API (DAWA) kan bruges til at hente data om samt søge efter adresser i Danmark.\n",
    "\n",
    "*Bemærk:* Denne API kræver ikke autentificering."
   ]
  },
  {
   "cell_type": "code",
   "execution_count": null,
   "id": "77c53374-fd1b-4a0b-bda8-4ca30ca54dcd",
   "metadata": {},
   "outputs": [],
   "source": [
    "import requests\n",
    "\n",
    "adress_end = 'https://api.dataforsyningen.dk/adresser' # endpoint til at søge på adresser (API'en har andre endpoints)\n",
    "\n",
    "# parametre/indstillinger til søgning (se dokumentation)\n",
    "parameters = {'q': 'Solsort*',  # søg efter adresser der indeholder Solsort\n",
    "              'kommunekode': '0851'} # søg i kommunekode 0851 (Aalborg)\n",
    "\n",
    "data_req = requests.get(adress_end, params = parameters)"
   ]
  },
  {
   "cell_type": "code",
   "execution_count": null,
   "id": "67423a57-5b3e-4f28-9113-c6ff0d9e8b57",
   "metadata": {},
   "outputs": [],
   "source": [
    "data_req.status_code # gik henvendelse igennem?"
   ]
  },
  {
   "cell_type": "code",
   "execution_count": null,
   "id": "9b8967e1-355b-4048-8c67-d8c034dbf3f6",
   "metadata": {},
   "outputs": [],
   "source": [
    "data = data_req.json() # data returneres som standard som JSON (tages ud på denne måde)"
   ]
  },
  {
   "cell_type": "code",
   "execution_count": null,
   "id": "57c08a97-7049-4d4d-a1fb-cc23af6a8fa6",
   "metadata": {},
   "outputs": [],
   "source": [
    "from pprint import pprint\n",
    "\n",
    "pprint(data[:1])"
   ]
  },
  {
   "cell_type": "code",
   "execution_count": null,
   "id": "ab667a57-8796-4468-a2b8-981eb5f1e7c8",
   "metadata": {},
   "outputs": [],
   "source": [
    "len(data) # hvor mange hits?"
   ]
  },
  {
   "cell_type": "code",
   "execution_count": null,
   "id": "01f04e2e-f521-47eb-932b-6cc8c29f09dd",
   "metadata": {},
   "outputs": [],
   "source": [
    "data[0].keys() # hvilke oplysninger/variable?"
   ]
  },
  {
   "cell_type": "markdown",
   "id": "517fbd50-56ba-4126-a098-324bf91801fc",
   "metadata": {},
   "source": [
    "DAWA kan sende data tilbage i forskellige formater med parameter \"struktur\":"
   ]
  },
  {
   "cell_type": "code",
   "execution_count": null,
   "id": "27250290-fa31-4121-a31d-59d92d32efe0",
   "metadata": {},
   "outputs": [],
   "source": [
    "adress_end = 'https://api.dataforsyningen.dk/adresser' # endpoint til at søge på adresser (API'en har andre endpoints)\n",
    "\n",
    "# parametre/indstillinger til søgning (se dokumentation)\n",
    "parameters = {'q': 'Solsort*', # søg efter adresser der indeholder Solsort\n",
    "              'kommunekode': '0851', # søg i kommunekode 0851 (Aalborg)\n",
    "              'struktur': 'flad'} # send data tilbage i \"flad\" struktur (data er ikke \"nestet\" og kan konverteres direkte til tabel)\n",
    "\n",
    "data_req = requests.get(adress_end, params = parameters)"
   ]
  },
  {
   "cell_type": "code",
   "execution_count": null,
   "id": "bd830abd-ea98-4ad2-8320-6bfcf2edb33e",
   "metadata": {},
   "outputs": [],
   "source": [
    "data = data_req.json() # data tages stadig ud som JSON, nu er det blot et JSON records format"
   ]
  },
  {
   "cell_type": "code",
   "execution_count": null,
   "id": "0347cc0a-9bb0-4d7a-b785-a9367502cb18",
   "metadata": {},
   "outputs": [],
   "source": [
    "data_df = pd.DataFrame(data)"
   ]
  },
  {
   "cell_type": "code",
   "execution_count": null,
   "id": "1f6c3ebe-f5fa-4212-9c89-bac698901f61",
   "metadata": {},
   "outputs": [],
   "source": [
    "data_df.head()"
   ]
  }
 ],
 "metadata": {
  "kernelspec": {
   "display_name": "Python 3 ",
   "language": "python",
   "name": "python3"
  },
  "language_info": {
   "codemirror_mode": {
    "name": "ipython",
    "version": 3
   },
   "file_extension": ".py",
   "mimetype": "text/x-python",
   "name": "python",
   "nbconvert_exporter": "python",
   "pygments_lexer": "ipython3",
   "version": "3.10.14"
  }
 },
 "nbformat": 4,
 "nbformat_minor": 5
}
