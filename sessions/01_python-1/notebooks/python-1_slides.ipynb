{
 "cells": [
  {
   "cell_type": "code",
   "execution_count": 1,
   "id": "58cd6bf5-285e-40d4-8a7b-fd37c4dfe6b0",
   "metadata": {
    "editable": true,
    "slideshow": {
     "slide_type": "skip"
    },
    "tags": []
   },
   "outputs": [],
   "source": [
    "# prep\n",
    "import pandas as pd\n",
    "import numpy as np\n",
    "\n",
    "data_path = \"/work/809805/data/eurobarometer-96_dk_subset.csv\"\n",
    "\n",
    "eurob = pd.read_csv(data_path)\n",
    "\n",
    "age_recode = {\"15 years\": 15, \"Refusal\": np.nan}\n",
    "\n",
    "eurob['d11'] = eurob['d11'].replace(age_recode)\n",
    "eurob['d11'] = eurob['d11'].astype('float') # float = floatpoint"
   ]
  },
  {
   "cell_type": "markdown",
   "id": "0a5251a1-0ded-4948-92a0-af8d9ca0066e",
   "metadata": {
    "editable": true,
    "slideshow": {
     "slide_type": "slide"
    },
    "tags": []
   },
   "source": [
    "# Introduktion til Python I"
   ]
  },
  {
   "cell_type": "markdown",
   "id": "7f51db9a-f86e-491d-8b91-2f6a8a750301",
   "metadata": {
    "editable": true,
    "slideshow": {
     "slide_type": "slide"
    },
    "tags": []
   },
   "source": [
    "## Program\n",
    "\n",
    "- Hvad er Python? (opfølgning fra e-kursus)\n",
    "- Brug af JupyterLab på UCloud\n",
    "- Introduktion til pandas dataframes\n",
    "- Datahåndtering med pandas\n",
    "- Opsummering af data med pandas"
   ]
  },
  {
   "cell_type": "markdown",
   "id": "dec523e7-5c22-4f68-8533-9b582df638c9",
   "metadata": {
    "editable": true,
    "slideshow": {
     "slide_type": "slide"
    },
    "tags": []
   },
   "source": [
    "## Hvad er Python?\n",
    "\n",
    "- Python som programmeringssprog \n",
    "- Python som fortolker\n",
    "- Man arbejder med Python gennem kommandoer, som evalueres\n",
    "- \"Objekt-orienteret\": Alt defineres som \"variable\", som kan bruges til forskellige formål afhængigt af typen/klassen"
   ]
  },
  {
   "cell_type": "markdown",
   "id": "060f0092-a9a0-4a87-9dd2-c5a08bb2c75f",
   "metadata": {
    "editable": true,
    "slideshow": {
     "slide_type": "slide"
    },
    "tags": []
   },
   "source": [
    "## Python som sprog\n",
    "\n",
    "Begrænset vokabular - resten \"opdigtes\"!\n",
    "\n",
    "```\n",
    "and       del       global     not    with\n",
    "as        elif      if         or    yield\n",
    "assert    else      import     pass\n",
    "break     except    in         raise\n",
    "class     finally   is         return\n",
    "continue  for       lambda     try\n",
    "def       from      nonlocal   while\n",
    "```\n"
   ]
  },
  {
   "cell_type": "markdown",
   "id": "b61ce702-c246-4b4e-9879-551ce1b3069a",
   "metadata": {
    "editable": true,
    "slideshow": {
     "slide_type": "slide"
    },
    "tags": []
   },
   "source": [
    "## Python som fortolker\n",
    "\n",
    "Kommandoer, som er skrevet i Python, evalueres af en \"Python-fortolker\".\n",
    "\n",
    "Meget bogstaveligt sprog: Der gives en fejl, hvis kommandoen ikke er forstået."
   ]
  },
  {
   "cell_type": "markdown",
   "id": "d047084f-58ed-4e1d-9894-02b3a563768b",
   "metadata": {
    "editable": true,
    "slideshow": {
     "slide_type": "slide"
    },
    "tags": []
   },
   "source": [
    "## Python som \"objekt-orienteret\"\n",
    "\n",
    "Man interagerer med Python ved at definere og redefinere *objekter*.\n",
    "\n",
    "*Objekter* defineres som *variable* - Blot et navn til at kalde objektet frem!\n",
    "\n",
    "Alle *variable* er en eller anden *class*.\n",
    "\n",
    "*Class* sætter betingelser for, hvad *variablen* kan."
   ]
  },
  {
   "cell_type": "markdown",
   "id": "d6720e43-12a3-4bd1-9847-7187ab350903",
   "metadata": {
    "editable": true,
    "slideshow": {
     "slide_type": "slide"
    },
    "tags": []
   },
   "source": [
    "![dog1](../img/python-dog.png)"
   ]
  },
  {
   "cell_type": "code",
   "execution_count": 2,
   "id": "6934255e-7108-409b-8cc0-51b0ac6e4cdb",
   "metadata": {
    "editable": true,
    "slideshow": {
     "slide_type": ""
    },
    "tags": []
   },
   "outputs": [],
   "source": [
    "bolden = [2, 4, 6, 10, 21]"
   ]
  },
  {
   "cell_type": "markdown",
   "id": "1879fab3-00cd-4c70-92c0-34709a646581",
   "metadata": {
    "editable": true,
    "slideshow": {
     "slide_type": "slide"
    },
    "tags": []
   },
   "source": [
    "![dog1](../img/conf-dog-text.png)"
   ]
  },
  {
   "cell_type": "code",
   "execution_count": 3,
   "id": "dd8b1eca-d0ed-41aa-b885-10235f733a09",
   "metadata": {
    "editable": true,
    "slideshow": {
     "slide_type": ""
    },
    "tags": []
   },
   "outputs": [
    {
     "ename": "NameError",
     "evalue": "name 'bold' is not defined",
     "output_type": "error",
     "traceback": [
      "\u001b[0;31m---------------------------------------------------------------------------\u001b[0m",
      "\u001b[0;31mNameError\u001b[0m                                 Traceback (most recent call last)",
      "Cell \u001b[0;32mIn[3], line 1\u001b[0m\n\u001b[0;32m----> 1\u001b[0m \u001b[38;5;28mprint\u001b[39m(\u001b[43mbold\u001b[49m)\n",
      "\u001b[0;31mNameError\u001b[0m: name 'bold' is not defined"
     ]
    }
   ],
   "source": [
    "print(bold)"
   ]
  },
  {
   "cell_type": "markdown",
   "id": "afec9b58-4250-45e2-a284-4565078a925c",
   "metadata": {
    "editable": true,
    "slideshow": {
     "slide_type": "slide"
    },
    "tags": []
   },
   "source": [
    "![dog1](../img/dog-happy-text.png)"
   ]
  },
  {
   "cell_type": "code",
   "execution_count": 4,
   "id": "392b6920-50d0-414c-8ca6-1e0f3eced7a0",
   "metadata": {
    "editable": true,
    "slideshow": {
     "slide_type": ""
    },
    "tags": []
   },
   "outputs": [
    {
     "name": "stdout",
     "output_type": "stream",
     "text": [
      "[2, 4, 6, 10, 21]\n"
     ]
    }
   ],
   "source": [
    "print(bolden)"
   ]
  },
  {
   "cell_type": "markdown",
   "id": "b12342f9-9acd-4fb6-b0ef-73f5be77982a",
   "metadata": {
    "editable": true,
    "slideshow": {
     "slide_type": "slide"
    },
    "tags": []
   },
   "source": [
    "## Classes\n",
    "\n",
    "<img src=\"../img/classes-example.png\" style=\"width:85.0%\" />"
   ]
  },
  {
   "cell_type": "code",
   "execution_count": 5,
   "id": "5d35f896-c24e-4828-9e86-19d4c16beab1",
   "metadata": {
    "editable": true,
    "slideshow": {
     "slide_type": "skip"
    },
    "tags": []
   },
   "outputs": [],
   "source": [
    "class reol:\n",
    "    def __init__(self, objects):\n",
    "        self.top_hylde = objects[0]\n",
    "        self.mellem_hylde = objects[1]\n",
    "        self.nederste_hylde = objects[2]\n",
    "\n",
    "b = reol([\"bøger\", \"brætspil\", \"vaser\"])"
   ]
  },
  {
   "cell_type": "code",
   "execution_count": 6,
   "id": "d1f98e50-e751-45f5-8b1c-28ac2396ce82",
   "metadata": {
    "editable": true,
    "slideshow": {
     "slide_type": "slide"
    },
    "tags": []
   },
   "outputs": [
    {
     "data": {
      "text/plain": [
       "'vaser'"
      ]
     },
     "execution_count": 6,
     "metadata": {},
     "output_type": "execute_result"
    }
   ],
   "source": [
    "b.nederste_hylde"
   ]
  },
  {
   "cell_type": "code",
   "execution_count": 7,
   "id": "80257eea-588b-4db4-978d-ae1a4d7862b3",
   "metadata": {
    "editable": true,
    "slideshow": {
     "slide_type": "fragment"
    },
    "tags": []
   },
   "outputs": [
    {
     "ename": "AttributeError",
     "evalue": "'reol' object has no attribute 'nederste_skuffe'",
     "output_type": "error",
     "traceback": [
      "\u001b[0;31m---------------------------------------------------------------------------\u001b[0m",
      "\u001b[0;31mAttributeError\u001b[0m                            Traceback (most recent call last)",
      "Cell \u001b[0;32mIn[7], line 1\u001b[0m\n\u001b[0;32m----> 1\u001b[0m \u001b[43mb\u001b[49m\u001b[38;5;241;43m.\u001b[39;49m\u001b[43mnederste_skuffe\u001b[49m\n",
      "\u001b[0;31mAttributeError\u001b[0m: 'reol' object has no attribute 'nederste_skuffe'"
     ]
    }
   ],
   "source": [
    "b.nederste_skuffe"
   ]
  },
  {
   "cell_type": "markdown",
   "id": "74a56a3e-8f2d-4589-a838-f2c850d6814c",
   "metadata": {
    "editable": true,
    "slideshow": {
     "slide_type": "slide"
    },
    "tags": []
   },
   "source": [
    "# Opfølgning fra e-kursus (Kahoot quiz)"
   ]
  },
  {
   "cell_type": "markdown",
   "id": "b136dc19-3fba-4965-bae1-2e81932b1a65",
   "metadata": {
    "editable": true,
    "slideshow": {
     "slide_type": "slide"
    },
    "tags": []
   },
   "source": [
    "# Opstart af UCloud (live-coding)"
   ]
  },
  {
   "cell_type": "markdown",
   "id": "b046a3df-7c5d-41bd-bfe2-718a5a8c2204",
   "metadata": {
    "editable": true,
    "slideshow": {
     "slide_type": "slide"
    },
    "tags": []
   },
   "source": [
    "## FÆLLES ØVELSE: Simpel problemløsning med Python\n",
    "\n",
    "Hvordan kan vi lave en funktion, der udregner arealet af en cirkel ud fra en given radius?\n",
    "\n",
    "$A = \\pi * r^2$"
   ]
  },
  {
   "cell_type": "markdown",
   "id": "867ce91e-7f31-4493-be06-ecb312803181",
   "metadata": {
    "editable": true,
    "slideshow": {
     "slide_type": "slide"
    },
    "tags": []
   },
   "source": [
    "# Introduktion til pandas data frames"
   ]
  },
  {
   "cell_type": "markdown",
   "id": "9336bf25-850c-4e47-861c-4ef3d7293654",
   "metadata": {
    "editable": true,
    "slideshow": {
     "slide_type": "slide"
    },
    "tags": []
   },
   "source": [
    "## Hvad er en (pandas) data frame?\n",
    "\n",
    "- En datastruktur til tabeldata i python (en repræsentation af data)\n",
    "\n",
    "![df](https://pandas.pydata.org/pandas-docs/stable/_images/01_table_dataframe.svg)\n",
    "\n",
    "- Hver række og kolonne har et *index*\n",
    "- Rækker typisk identificeret ved *index* (rækkenummer - men kan også være andet!)\n",
    "- Kolonner typisk identificeret ved kolonnenavn"
   ]
  },
  {
   "cell_type": "markdown",
   "id": "d229bccd-1e1c-4cc7-ae97-a1ae2105b4ab",
   "metadata": {
    "editable": true,
    "slideshow": {
     "slide_type": "slide"
    },
    "tags": []
   },
   "source": [
    "### Hver kolonne i en data frame er en `Series`\n",
    "\n",
    "- `Series` et enkeltkolonne-format i pandas\n",
    "- Sammenlignet med en python liste, kan en `Series` kun have én type data\n",
    "- Indexes i en `Series` behøver ikke starte ved 0\n",
    "\n",
    "![series](https://pandas.pydata.org/pandas-docs/stable/_images/01_table_series.svg)"
   ]
  },
  {
   "cell_type": "markdown",
   "id": "ea98f78a-c44a-4b4b-a6d5-62a33a6e7fc2",
   "metadata": {
    "editable": true,
    "slideshow": {
     "slide_type": "slide"
    },
    "tags": []
   },
   "source": [
    "## Fra data til data frame\n",
    "\n",
    "- En data frame er blot en repræsentation af data i python\n",
    "- Mange dataformater kan konverteres til en data frame\n",
    "- Data frames er brugbare til mange former for analyse\n",
    "\n",
    "Eksempler på filer, som kan læses til data frames (hvis i korrekt format!): \n",
    "- .csv\n",
    "- .json\n",
    "- .xls (Excel)\n",
    "- .dta (Stata)\n",
    "- .sas7bdat (SAS)"
   ]
  },
  {
   "cell_type": "markdown",
   "id": "34e33a53-30f6-4491-b409-13b4d88a6683",
   "metadata": {
    "editable": true,
    "slideshow": {
     "slide_type": "slide"
    },
    "tags": []
   },
   "source": [
    "# Introduktion til pandas data frames (live coding)"
   ]
  },
  {
   "cell_type": "markdown",
   "id": "811e0688-22df-4c0b-a5d6-aeb3c456c815",
   "metadata": {
    "editable": true,
    "slideshow": {
     "slide_type": "slide"
    },
    "tags": []
   },
   "source": [
    "# Udforskning af data (live coding)"
   ]
  },
  {
   "cell_type": "markdown",
   "id": "a31eac5d-a36d-43c8-a8fb-cc0dfae30381",
   "metadata": {
    "editable": true,
    "slideshow": {
     "slide_type": "slide"
    },
    "tags": []
   },
   "source": [
    "# Basal datahåndtering i pandas"
   ]
  },
  {
   "cell_type": "markdown",
   "id": "ff6b64c9-29b0-490f-968c-df3fb8994811",
   "metadata": {
    "editable": true,
    "slideshow": {
     "slide_type": "slide"
    },
    "tags": []
   },
   "source": [
    "## Vælg kolonner\n",
    "\n",
    "![col](https://pandas.pydata.org/pandas-docs/stable/_images/03_subset_columns.svg)"
   ]
  },
  {
   "cell_type": "code",
   "execution_count": 8,
   "id": "059b0700-cc30-49a0-a3d0-a17998586e0a",
   "metadata": {
    "editable": true,
    "slideshow": {
     "slide_type": ""
    },
    "tags": []
   },
   "outputs": [
    {
     "data": {
      "text/plain": [
       "0      Not at all\n",
       "1          Medium\n",
       "2          Medium\n",
       "3          Medium\n",
       "4          Medium\n",
       "          ...    \n",
       "988        Strong\n",
       "989        Medium\n",
       "990        Strong\n",
       "991        Medium\n",
       "992           Low\n",
       "Name: polintr, Length: 993, dtype: object"
      ]
     },
     "execution_count": 8,
     "metadata": {},
     "output_type": "execute_result"
    }
   ],
   "source": [
    "eurob['polintr']"
   ]
  },
  {
   "cell_type": "markdown",
   "id": "e407a6bc-828b-4ec7-ae4a-4ec2a836aa35",
   "metadata": {
    "editable": true,
    "slideshow": {
     "slide_type": "slide"
    },
    "tags": []
   },
   "source": [
    "## Vælg rækker\n",
    "\n",
    "![rows](https://pandas.pydata.org/pandas-docs/stable/_images/03_subset_rows.svg)"
   ]
  },
  {
   "cell_type": "code",
   "execution_count": 9,
   "id": "5e7058b8-2eb0-4192-b087-03f2cb630e4c",
   "metadata": {
    "editable": true,
    "slideshow": {
     "slide_type": ""
    },
    "tags": []
   },
   "outputs": [
    {
     "data": {
      "text/html": [
       "<div>\n",
       "<style scoped>\n",
       "    .dataframe tbody tr th:only-of-type {\n",
       "        vertical-align: middle;\n",
       "    }\n",
       "\n",
       "    .dataframe tbody tr th {\n",
       "        vertical-align: top;\n",
       "    }\n",
       "\n",
       "    .dataframe thead th {\n",
       "        text-align: right;\n",
       "    }\n",
       "</style>\n",
       "<table border=\"1\" class=\"dataframe\">\n",
       "  <thead>\n",
       "    <tr style=\"text-align: right;\">\n",
       "      <th></th>\n",
       "      <th>uniqid</th>\n",
       "      <th>d11</th>\n",
       "      <th>polintr</th>\n",
       "      <th>qb1</th>\n",
       "      <th>qb3_1</th>\n",
       "      <th>qb3_2</th>\n",
       "      <th>qb3_3</th>\n",
       "      <th>qb3_4</th>\n",
       "      <th>qb3_5</th>\n",
       "      <th>qb3_6</th>\n",
       "      <th>...</th>\n",
       "      <th>d10</th>\n",
       "      <th>d15a</th>\n",
       "      <th>d15b</th>\n",
       "      <th>d25</th>\n",
       "      <th>d63</th>\n",
       "      <th>d1</th>\n",
       "      <th>p1</th>\n",
       "      <th>p2</th>\n",
       "      <th>p3</th>\n",
       "      <th>region_denmark</th>\n",
       "    </tr>\n",
       "  </thead>\n",
       "  <tbody>\n",
       "    <tr>\n",
       "      <th>10</th>\n",
       "      <td>110005583</td>\n",
       "      <td>91.0</td>\n",
       "      <td>Low</td>\n",
       "      <td>Don't know (SPONTANEOUS)</td>\n",
       "      <td>Not mentioned</td>\n",
       "      <td>Not mentioned</td>\n",
       "      <td>Not mentioned</td>\n",
       "      <td>Not mentioned</td>\n",
       "      <td>Not mentioned</td>\n",
       "      <td>Not mentioned</td>\n",
       "      <td>...</td>\n",
       "      <td>Man</td>\n",
       "      <td>Retired, unable to work</td>\n",
       "      <td>Employed position, travelling</td>\n",
       "      <td>Large town</td>\n",
       "      <td>The working class of society</td>\n",
       "      <td>5</td>\n",
       "      <td>17 Sep 21</td>\n",
       "      <td>13 - 16 h</td>\n",
       "      <td>2636</td>\n",
       "      <td>DK05 - Nordjylland</td>\n",
       "    </tr>\n",
       "    <tr>\n",
       "      <th>19</th>\n",
       "      <td>110005592</td>\n",
       "      <td>18.0</td>\n",
       "      <td>Low</td>\n",
       "      <td>Very important</td>\n",
       "      <td>Use of personal data and information by compan...</td>\n",
       "      <td>Not mentioned</td>\n",
       "      <td>Not mentioned</td>\n",
       "      <td>The safety and well-being of children</td>\n",
       "      <td>Not mentioned</td>\n",
       "      <td>The difficulty of disconnecting and finding a ...</td>\n",
       "      <td>...</td>\n",
       "      <td>Woman</td>\n",
       "      <td>Student</td>\n",
       "      <td>Unskilled manual worker, etc.</td>\n",
       "      <td>Rural area or village</td>\n",
       "      <td>The middle class of society</td>\n",
       "      <td>3</td>\n",
       "      <td>17 Sep 21</td>\n",
       "      <td>13 - 16 h</td>\n",
       "      <td>3252</td>\n",
       "      <td>DK04 - Midtjylland</td>\n",
       "    </tr>\n",
       "  </tbody>\n",
       "</table>\n",
       "<p>2 rows × 23 columns</p>\n",
       "</div>"
      ],
      "text/plain": [
       "       uniqid   d11 polintr                       qb1  \\\n",
       "10  110005583  91.0     Low  Don't know (SPONTANEOUS)   \n",
       "19  110005592  18.0     Low            Very important   \n",
       "\n",
       "                                                qb3_1          qb3_2  \\\n",
       "10                                      Not mentioned  Not mentioned   \n",
       "19  Use of personal data and information by compan...  Not mentioned   \n",
       "\n",
       "            qb3_3                                  qb3_4          qb3_5  \\\n",
       "10  Not mentioned                          Not mentioned  Not mentioned   \n",
       "19  Not mentioned  The safety and well-being of children  Not mentioned   \n",
       "\n",
       "                                                qb3_6  ...    d10  \\\n",
       "10                                      Not mentioned  ...    Man   \n",
       "19  The difficulty of disconnecting and finding a ...  ...  Woman   \n",
       "\n",
       "                       d15a                           d15b  \\\n",
       "10  Retired, unable to work  Employed position, travelling   \n",
       "19                  Student  Unskilled manual worker, etc.   \n",
       "\n",
       "                      d25                           d63 d1         p1  \\\n",
       "10             Large town  The working class of society  5  17 Sep 21   \n",
       "19  Rural area or village   The middle class of society  3  17 Sep 21   \n",
       "\n",
       "           p2    p3      region_denmark  \n",
       "10  13 - 16 h  2636  DK05 - Nordjylland  \n",
       "19  13 - 16 h  3252  DK04 - Midtjylland  \n",
       "\n",
       "[2 rows x 23 columns]"
      ]
     },
     "execution_count": 9,
     "metadata": {},
     "output_type": "execute_result"
    }
   ],
   "source": [
    "eurob[eurob['polintr'] == \"Low\"].head(2) #boolean indexing"
   ]
  },
  {
   "cell_type": "markdown",
   "id": "948e5459-e2b3-4c63-a783-ca13bd058063",
   "metadata": {
    "editable": true,
    "slideshow": {
     "slide_type": "slide"
    },
    "tags": []
   },
   "source": [
    "## Subsetting med `.loc[]` og `.iloc[]` (specifikke rækker og kolonner)"
   ]
  },
  {
   "cell_type": "markdown",
   "id": "4c75393c-49b4-43bc-8a51-16878c5a800b",
   "metadata": {
    "editable": true,
    "slideshow": {
     "slide_type": ""
    },
    "tags": []
   },
   "source": [
    "![loc](https://pandas.pydata.org/pandas-docs/stable/_images/03_subset_columns_rows.svg)"
   ]
  },
  {
   "cell_type": "code",
   "execution_count": 10,
   "id": "1b1da811-639f-4e6b-9a41-0466d3378904",
   "metadata": {
    "editable": true,
    "slideshow": {
     "slide_type": ""
    },
    "tags": []
   },
   "outputs": [
    {
     "data": {
      "text/html": [
       "<div>\n",
       "<style scoped>\n",
       "    .dataframe tbody tr th:only-of-type {\n",
       "        vertical-align: middle;\n",
       "    }\n",
       "\n",
       "    .dataframe tbody tr th {\n",
       "        vertical-align: top;\n",
       "    }\n",
       "\n",
       "    .dataframe thead th {\n",
       "        text-align: right;\n",
       "    }\n",
       "</style>\n",
       "<table border=\"1\" class=\"dataframe\">\n",
       "  <thead>\n",
       "    <tr style=\"text-align: right;\">\n",
       "      <th></th>\n",
       "      <th>polintr</th>\n",
       "      <th>d10</th>\n",
       "    </tr>\n",
       "  </thead>\n",
       "  <tbody>\n",
       "    <tr>\n",
       "      <th>10</th>\n",
       "      <td>Low</td>\n",
       "      <td>Man</td>\n",
       "    </tr>\n",
       "    <tr>\n",
       "      <th>19</th>\n",
       "      <td>Low</td>\n",
       "      <td>Woman</td>\n",
       "    </tr>\n",
       "    <tr>\n",
       "      <th>24</th>\n",
       "      <td>Low</td>\n",
       "      <td>Woman</td>\n",
       "    </tr>\n",
       "  </tbody>\n",
       "</table>\n",
       "</div>"
      ],
      "text/plain": [
       "   polintr    d10\n",
       "10     Low    Man\n",
       "19     Low  Woman\n",
       "24     Low  Woman"
      ]
     },
     "execution_count": 10,
     "metadata": {},
     "output_type": "execute_result"
    }
   ],
   "source": [
    "eurob.loc[eurob['polintr'] == \"Low\", ['polintr', 'd10']].head(3) "
   ]
  },
  {
   "cell_type": "markdown",
   "id": "afb114e5-cae4-438d-88cc-0359b9ac46f5",
   "metadata": {
    "editable": true,
    "slideshow": {
     "slide_type": "slide"
    },
    "tags": []
   },
   "source": [
    "## Subsetting med `.loc[]` og `.iloc[]` \n",
    "\n",
    "- `.loc[]`: \"label-based location\" (baseret på navngivningen af rækker og kolonner)\n",
    "- `.iloc[]`: \"index-based location\" (baseret på index for rækker og kolonner)\n",
    "\n",
    "**Syntax:**\n",
    "\n",
    "`.loc[rows,columns]`\n",
    "\n",
    "- `rows` kan specificeres som rækkenavne eller via betingelser (\"boolean indexing\")\n",
    "- `columns` kan specificeres som liste af kolonnenavne"
   ]
  },
  {
   "cell_type": "markdown",
   "id": "c3baee0f-b7ca-4172-b35a-ae4536880efa",
   "metadata": {
    "editable": true,
    "slideshow": {
     "slide_type": "slide"
    },
    "tags": []
   },
   "source": [
    "## Rekodning med `.loc`\n",
    "\n",
    "- Tænk rekodning som, at man lokaliserer specifikke dele af data, som overskrives med en værdi\n",
    "\n",
    "<img src=\"../img/loc_example.png\" style=\"width:50.0%\" />"
   ]
  },
  {
   "cell_type": "markdown",
   "id": "5b1e0520-bd93-488e-a923-532e03c1cff7",
   "metadata": {
    "editable": true,
    "slideshow": {
     "slide_type": ""
    },
    "tags": []
   },
   "source": [
    "```python\n",
    "df.loc[df['v1'] > 10, 'v1'] = 0\n",
    "```"
   ]
  },
  {
   "cell_type": "markdown",
   "id": "0620fdf6-505b-419f-982d-8ee4c765d429",
   "metadata": {
    "editable": true,
    "slideshow": {
     "slide_type": ""
    },
    "tags": []
   },
   "source": [
    "<img src=\"../img/loc_example2.png\" style=\"width:28.0%\" />"
   ]
  },
  {
   "cell_type": "markdown",
   "id": "3410fbb8-6706-4fcf-a7ee-019064c93b66",
   "metadata": {
    "editable": true,
    "slideshow": {
     "slide_type": "slide"
    },
    "tags": []
   },
   "source": [
    "## Rekodning med mappings"
   ]
  },
  {
   "cell_type": "markdown",
   "id": "d1ba907e-f407-4550-8aa7-eb61a28b8f0d",
   "metadata": {
    "editable": true,
    "slideshow": {
     "slide_type": ""
    },
    "tags": []
   },
   "source": [
    "- Ved rekodning af kategorier, kan det være besværligt at bruge `.loc[]`\n",
    "- Alternativt kan man bruge en *mapping*, hvor man angiver, hvilke værdier der skal erstattes med hvad\n",
    "- En mapping kan betragtes som en form for \"søg-og-erstat\" skema, som man anvender på en kolonne\n",
    "- Mapping laves som dictionary med gammel værdi som nøgle og den nye værdi som key:\n",
    "\n",
    "```\n",
    "mapping = {\"old value x\": \"new value x\", \"old value y\": \"new value y\"}\n",
    "```\n",
    "\n",
    "- Mapping kan bruges til at erstatte værdier i en kolonne (eller `Series`) med metoden `.replace()`\n"
   ]
  },
  {
   "cell_type": "markdown",
   "id": "3610e1c9-e9a9-4d4c-9d63-196c327690d6",
   "metadata": {
    "editable": true,
    "slideshow": {
     "slide_type": "slide"
    },
    "tags": []
   },
   "source": [
    "## Rekodning med mappings - eksempel"
   ]
  },
  {
   "cell_type": "code",
   "execution_count": 12,
   "id": "01566c80-5dd1-4ec8-957c-385d9359548b",
   "metadata": {
    "editable": true,
    "slideshow": {
     "slide_type": ""
    },
    "tags": []
   },
   "outputs": [
    {
     "data": {
      "text/plain": [
       "qb1\n",
       "Very important              716\n",
       "Fairly important            191\n",
       "Not very important           44\n",
       "Not at all important         32\n",
       "Don't know (SPONTANEOUS)     10\n",
       "Name: count, dtype: int64"
      ]
     },
     "execution_count": 12,
     "metadata": {},
     "output_type": "execute_result"
    }
   ],
   "source": [
    "eurob['qb1'].value_counts()"
   ]
  },
  {
   "cell_type": "code",
   "execution_count": 13,
   "id": "89f3212b-d6ef-4a5b-8265-60c6e9282321",
   "metadata": {
    "editable": true,
    "slideshow": {
     "slide_type": ""
    },
    "tags": []
   },
   "outputs": [
    {
     "data": {
      "text/plain": [
       "qb1_bin\n",
       "Important        907\n",
       "Not important     76\n",
       "Name: count, dtype: int64"
      ]
     },
     "execution_count": 13,
     "metadata": {},
     "output_type": "execute_result"
    }
   ],
   "source": [
    "qb1_map = {\"Very important\": \"Important\", \n",
    "          \"Fairly important\": \"Important\", \n",
    "          \"Not very important\": \"Not important\",\n",
    "          \"Not at all important\": \"Not important\",\n",
    "          \"Don't know (SPONTANEOUS)\": np.nan}\n",
    "\n",
    "eurob['qb1_bin'] = eurob['qb1'].replace(qb1_map)\n",
    "\n",
    "eurob['qb1_bin'].value_counts()"
   ]
  },
  {
   "cell_type": "markdown",
   "id": "135d31d6-54b5-4c89-a3e2-79fc14d5563d",
   "metadata": {
    "editable": true,
    "slideshow": {
     "slide_type": "slide"
    },
    "tags": []
   },
   "source": [
    "# Opsummering\n",
    "\n",
    "- Python er et programmeringssprog og en fortolker\n",
    "- Python *variable* er navne, man bruger til at kalde information frem\n",
    "- Variable har altid en eller anden *class*\n",
    "- Pandas data frames er en datastruktur i python til at arbejde med data i tabeller\n",
    "- En kolonne i en data frame kaldes en `Series`\n",
    "- Split-apply-combine metoder kan bruges til at opsummere og filtere på gruppeniveau (`.groupby()`)\n",
    "- `.loc[]` bruges til både subsetting og rekodning af data frames"
   ]
  },
  {
   "cell_type": "markdown",
   "id": "b85f6f79-3a8f-41c7-8046-3358369f57bd",
   "metadata": {
    "editable": true,
    "slideshow": {
     "slide_type": "slide"
    },
    "tags": []
   },
   "source": [
    "# LAB ØVELSE: Datahåndtering i Python"
   ]
  }
 ],
 "metadata": {
  "kernelspec": {
   "display_name": "Python 3 (ipykernel)",
   "language": "python",
   "name": "python3"
  },
  "language_info": {
   "codemirror_mode": {
    "name": "ipython",
    "version": 3
   },
   "file_extension": ".py",
   "mimetype": "text/x-python",
   "name": "python",
   "nbconvert_exporter": "python",
   "pygments_lexer": "ipython3",
   "version": "3.8.17"
  }
 },
 "nbformat": 4,
 "nbformat_minor": 5
}
