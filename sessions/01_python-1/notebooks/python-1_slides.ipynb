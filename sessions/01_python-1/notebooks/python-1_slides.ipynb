{
 "cells": [
  {
   "cell_type": "markdown",
   "id": "0a5251a1-0ded-4948-92a0-af8d9ca0066e",
   "metadata": {
    "slideshow": {
     "slide_type": "slide"
    },
    "tags": []
   },
   "source": [
    "# Introduktion til Python I - Data i Python"
   ]
  },
  {
   "cell_type": "markdown",
   "id": "7f51db9a-f86e-491d-8b91-2f6a8a750301",
   "metadata": {
    "slideshow": {
     "slide_type": "slide"
    },
    "tags": []
   },
   "source": [
    "## Program\n",
    "\n",
    "- Hvad er Python? (opfølgning fra e-kursus)\n",
    "- Brug af JupyterLab på UCloud\n",
    "- Data, dataformater og datastrukturer\n",
    "- Introduktion til pandas dataframes\n",
    "- Datahåndtering med pandas\n",
    "- Opsummering af data med pandas"
   ]
  },
  {
   "cell_type": "markdown",
   "id": "dec523e7-5c22-4f68-8533-9b582df638c9",
   "metadata": {
    "slideshow": {
     "slide_type": "slide"
    },
    "tags": []
   },
   "source": [
    "## Hvad er Python?\n",
    "\n",
    "- Python som programmeringssprog \n",
    "- Python som fortolker\n",
    "- Man arbejder med Python gennem kommandoer, som evalueres\n",
    "- \"Objekt-orienteret\": Alt defineres som \"variable\", som kan bruges til forskellige formål afhængigt af typen/klassen"
   ]
  },
  {
   "cell_type": "markdown",
   "id": "060f0092-a9a0-4a87-9dd2-c5a08bb2c75f",
   "metadata": {
    "slideshow": {
     "slide_type": "slide"
    },
    "tags": []
   },
   "source": [
    "## Python som sprog\n",
    "\n",
    "Begrænset vokabular - resten \"opdigtes\"!\n",
    "\n",
    "```\n",
    "and       del       global     not    with\n",
    "as        elif      if         or    yield\n",
    "assert    else      import     pass\n",
    "break     except    in         raise\n",
    "class     finally   is         return\n",
    "continue  for       lambda     try\n",
    "def       from      nonlocal   while\n",
    "```\n"
   ]
  },
  {
   "cell_type": "markdown",
   "id": "b61ce702-c246-4b4e-9879-551ce1b3069a",
   "metadata": {
    "slideshow": {
     "slide_type": "slide"
    },
    "tags": []
   },
   "source": [
    "## Python som fortolker\n",
    "\n",
    "Kommandoer, som er skrevet i Python, evalueres af en \"Python-fortolker\".\n",
    "\n",
    "Meget bogstaveligt sprog: Der gives en fejl, hvis kommandoen ikke er forstået."
   ]
  },
  {
   "cell_type": "markdown",
   "id": "d047084f-58ed-4e1d-9894-02b3a563768b",
   "metadata": {
    "slideshow": {
     "slide_type": "slide"
    },
    "tags": []
   },
   "source": [
    "## Python som \"objekt-orienteret\"\n",
    "\n",
    "Man interagerer med Python ved at definere og redefinere *objekter*.\n",
    "\n",
    "*Objekter* defineres som *variable* - Blot et navn til at kalde objektet frem!\n",
    "\n",
    "Alle *variable* er en eller anden *class*.\n",
    "\n",
    "*Class* sætter betingelser for, hvad *variablen* kan."
   ]
  },
  {
   "cell_type": "markdown",
   "id": "d6720e43-12a3-4bd1-9847-7187ab350903",
   "metadata": {
    "slideshow": {
     "slide_type": "slide"
    },
    "tags": []
   },
   "source": [
    "![dog1](../img/python-dog.png)"
   ]
  },
  {
   "cell_type": "code",
   "execution_count": 1,
   "id": "6934255e-7108-409b-8cc0-51b0ac6e4cdb",
   "metadata": {},
   "outputs": [],
   "source": [
    "bolden = [2, 4, 6, 10, 21]"
   ]
  },
  {
   "cell_type": "markdown",
   "id": "1879fab3-00cd-4c70-92c0-34709a646581",
   "metadata": {
    "slideshow": {
     "slide_type": "slide"
    },
    "tags": []
   },
   "source": [
    "![dog1](../img/conf-dog-text.png)"
   ]
  },
  {
   "cell_type": "code",
   "execution_count": 2,
   "id": "dd8b1eca-d0ed-41aa-b885-10235f733a09",
   "metadata": {},
   "outputs": [
    {
     "ename": "NameError",
     "evalue": "name 'bold' is not defined",
     "output_type": "error",
     "traceback": [
      "\u001b[1;31m---------------------------------------------------------------------------\u001b[0m",
      "\u001b[1;31mNameError\u001b[0m                                 Traceback (most recent call last)",
      "\u001b[1;32m~\\AppData\\Local\\Temp\\ipykernel_28080\\2660089040.py\u001b[0m in \u001b[0;36m<module>\u001b[1;34m\u001b[0m\n\u001b[1;32m----> 1\u001b[1;33m \u001b[0mprint\u001b[0m\u001b[1;33m(\u001b[0m\u001b[0mbold\u001b[0m\u001b[1;33m)\u001b[0m\u001b[1;33m\u001b[0m\u001b[1;33m\u001b[0m\u001b[0m\n\u001b[0m",
      "\u001b[1;31mNameError\u001b[0m: name 'bold' is not defined"
     ]
    }
   ],
   "source": [
    "print(bold)"
   ]
  },
  {
   "cell_type": "markdown",
   "id": "afec9b58-4250-45e2-a284-4565078a925c",
   "metadata": {
    "slideshow": {
     "slide_type": "slide"
    },
    "tags": []
   },
   "source": [
    "![dog1](../img/dog-happy-text.png)"
   ]
  },
  {
   "cell_type": "code",
   "execution_count": 3,
   "id": "392b6920-50d0-414c-8ca6-1e0f3eced7a0",
   "metadata": {},
   "outputs": [
    {
     "name": "stdout",
     "output_type": "stream",
     "text": [
      "[2, 4, 6, 10, 21]\n"
     ]
    }
   ],
   "source": [
    "print(bolden)"
   ]
  },
  {
   "cell_type": "markdown",
   "id": "b12342f9-9acd-4fb6-b0ef-73f5be77982a",
   "metadata": {
    "slideshow": {
     "slide_type": "slide"
    },
    "tags": []
   },
   "source": [
    "## Classes\n",
    "\n",
    "<img src=\"../img/classes-example.png\" style=\"width:85.0%\" />"
   ]
  },
  {
   "cell_type": "code",
   "execution_count": 4,
   "id": "3a0a6a0d-b2b1-4c28-8124-425a14ed292a",
   "metadata": {
    "slideshow": {
     "slide_type": "skip"
    },
    "tags": []
   },
   "outputs": [],
   "source": [
    "b = 2"
   ]
  },
  {
   "cell_type": "code",
   "execution_count": 11,
   "id": "80257eea-588b-4db4-978d-ae1a4d7862b3",
   "metadata": {},
   "outputs": [
    {
     "ename": "AttributeError",
     "evalue": "'int' object has no attribute 'skuffe'",
     "output_type": "error",
     "traceback": [
      "\u001b[1;31m---------------------------------------------------------------------------\u001b[0m",
      "\u001b[1;31mAttributeError\u001b[0m                            Traceback (most recent call last)",
      "\u001b[1;32m~\\AppData\\Local\\Temp\\ipykernel_25952\\2394930224.py\u001b[0m in \u001b[0;36m<module>\u001b[1;34m\u001b[0m\n\u001b[1;32m----> 1\u001b[1;33m \u001b[0mb\u001b[0m\u001b[1;33m.\u001b[0m\u001b[0mskuffe\u001b[0m\u001b[1;33m\u001b[0m\u001b[1;33m\u001b[0m\u001b[0m\n\u001b[0m",
      "\u001b[1;31mAttributeError\u001b[0m: 'int' object has no attribute 'skuffe'"
     ]
    }
   ],
   "source": [
    "b.skuffe"
   ]
  },
  {
   "cell_type": "markdown",
   "id": "74a56a3e-8f2d-4589-a838-f2c850d6814c",
   "metadata": {
    "slideshow": {
     "slide_type": "slide"
    },
    "tags": []
   },
   "source": [
    "# Opfølgning fra e-kursus (Kahoot quiz)"
   ]
  },
  {
   "cell_type": "markdown",
   "id": "b136dc19-3fba-4965-bae1-2e81932b1a65",
   "metadata": {
    "slideshow": {
     "slide_type": "slide"
    },
    "tags": []
   },
   "source": [
    "# Opstart af UCloud (live-coding)"
   ]
  },
  {
   "cell_type": "markdown",
   "id": "b046a3df-7c5d-41bd-bfe2-718a5a8c2204",
   "metadata": {
    "slideshow": {
     "slide_type": "slide"
    },
    "tags": []
   },
   "source": [
    "## FÆLLES ØVELSE: Simpel problemløsning med Python\n",
    "\n",
    "Hvordan kan vi lave en funktion, der udregner arealet af en cirkel ud fra en given radius?\n",
    "\n",
    "$A = \\pi * r^2$"
   ]
  },
  {
   "cell_type": "markdown",
   "id": "1aa80f76-9e77-42f0-9438-2551e114f0d2",
   "metadata": {
    "slideshow": {
     "slide_type": "slide"
    },
    "tags": []
   },
   "source": [
    "# Dataformater og datastrukturer"
   ]
  },
  {
   "cell_type": "markdown",
   "id": "eb2ad151-f9ed-4f2e-ab44-b54e15d2fc5f",
   "metadata": {
    "slideshow": {
     "slide_type": "slide"
    },
    "tags": []
   },
   "source": [
    "## Data -> Datasæt -> Datastruktur"
   ]
  },
  {
   "cell_type": "markdown",
   "id": "7e8d7c28-a24e-4337-ade8-6f2a3c0372ac",
   "metadata": {
    "tags": []
   },
   "source": [
    "![data-structure](../img/data_set_structure.png)"
   ]
  },
  {
   "cell_type": "markdown",
   "id": "eccb8e87-e271-4da8-956a-08b291cd08b1",
   "metadata": {
    "slideshow": {
     "slide_type": "slide"
    },
    "tags": []
   },
   "source": [
    "## Relationel datastruktur\n",
    "\n",
    "- Data i tabeller\n",
    "- Hver tabel har kun 2 dimensioner (rækker og kolonner)\n",
    "\n",
    "![hierarch](../img/expanse_relational.png)"
   ]
  },
  {
   "cell_type": "markdown",
   "id": "a356f290-a49e-4ebf-a1e7-32ea46471a45",
   "metadata": {
    "slideshow": {
     "slide_type": "slide"
    },
    "tags": []
   },
   "source": [
    "## Hierarkisk datastruktur\n",
    "\n",
    "- Data i træ-lignende struktur\n",
    "- Ikke bundet til 2 dimensioner (hver gren kan have så mange undergrene, som  der er behov for)\n",
    "\n",
    "![hierarch](../img/expanse_hierarchical.png)"
   ]
  },
  {
   "cell_type": "markdown",
   "id": "5b881085-0c83-418d-9c5d-bb68bd083806",
   "metadata": {
    "slideshow": {
     "slide_type": "slide"
    },
    "tags": []
   },
   "source": [
    "## Liste af lister"
   ]
  },
  {
   "cell_type": "code",
   "execution_count": 33,
   "id": "f3207e6c-8b7d-43ad-a8c4-f332a97ee591",
   "metadata": {
    "slideshow": {
     "slide_type": "skip"
    },
    "tags": []
   },
   "outputs": [],
   "source": [
    "names = [\"James\", \"Naomi\", \"Alex\", \"Clarissa\"]\n",
    "ethnicities = [\"earther\", \"belter\", \"martian\", \"earter\"]\n",
    "vocation = [\"captain\", \"technician\", \"pilot\", \"mechanic\"]\n",
    "\n",
    "data = [names, ethnicities, vocation]"
   ]
  },
  {
   "cell_type": "code",
   "execution_count": 34,
   "id": "4fb4440c-ffd8-422e-951a-cfab40bb7764",
   "metadata": {
    "tags": []
   },
   "outputs": [
    {
     "data": {
      "text/plain": [
       "[['James', 'Naomi', 'Alex', 'Clarissa'],\n",
       " ['earther', 'belter', 'martian', 'earter'],\n",
       " ['captain', 'technician', 'pilot', 'mechanic']]"
      ]
     },
     "execution_count": 34,
     "metadata": {},
     "output_type": "execute_result"
    }
   ],
   "source": [
    "data"
   ]
  },
  {
   "cell_type": "code",
   "execution_count": 35,
   "id": "e939d9fd-9a02-4aeb-8e5d-a1f2d9da7ae8",
   "metadata": {
    "tags": []
   },
   "outputs": [
    {
     "data": {
      "text/plain": [
       "['James', 'earther', 'captain']"
      ]
     },
     "execution_count": 35,
     "metadata": {},
     "output_type": "execute_result"
    }
   ],
   "source": [
    "[items[0] for items in data]"
   ]
  },
  {
   "cell_type": "markdown",
   "id": "95e98df3-b0ae-430c-946e-da1f3c83f710",
   "metadata": {
    "slideshow": {
     "slide_type": "slide"
    },
    "tags": []
   },
   "source": [
    "## Dictionary (JSON)"
   ]
  },
  {
   "cell_type": "code",
   "execution_count": 36,
   "id": "6d4a79b4-0e1f-466a-9a84-db687a3734f4",
   "metadata": {
    "slideshow": {
     "slide_type": "skip"
    },
    "tags": []
   },
   "outputs": [],
   "source": [
    "data = {\"James\":\n",
    "        {\"ethnicity\": \"earther\", \n",
    "         \"vocation\": \"captain\"},\n",
    "        \"Naomi\":\n",
    "        {\"ethnicity\": \"belter\", \n",
    "         \"vocation\": \"technician\"},\n",
    "        \"Alex\":\n",
    "        {\"ethnicity\": \"martian\", \n",
    "         \"vocation\": \"pilot\"},\n",
    "        \"Clarissa\":\n",
    "        {\"ethnicity\": \"earther\", \n",
    "         \"vocation\": \"mechanic\"}\n",
    "       }"
   ]
  },
  {
   "cell_type": "code",
   "execution_count": 37,
   "id": "8cc288ce-57a2-44d8-92bc-403fa31b5934",
   "metadata": {
    "tags": []
   },
   "outputs": [
    {
     "data": {
      "text/plain": [
       "{'James': {'ethnicity': 'earther', 'vocation': 'captain'},\n",
       " 'Naomi': {'ethnicity': 'belter', 'vocation': 'technician'},\n",
       " 'Alex': {'ethnicity': 'martian', 'vocation': 'pilot'},\n",
       " 'Clarissa': {'ethnicity': 'earther', 'vocation': 'mechanic'}}"
      ]
     },
     "execution_count": 37,
     "metadata": {},
     "output_type": "execute_result"
    }
   ],
   "source": [
    "data"
   ]
  },
  {
   "cell_type": "code",
   "execution_count": 38,
   "id": "6e20612e-00d2-4c45-aabe-3e63009c9929",
   "metadata": {},
   "outputs": [
    {
     "data": {
      "text/plain": [
       "{'ethnicity': 'earther', 'vocation': 'captain'}"
      ]
     },
     "execution_count": 38,
     "metadata": {},
     "output_type": "execute_result"
    }
   ],
   "source": [
    "data[\"James\"]"
   ]
  },
  {
   "cell_type": "markdown",
   "id": "fb65555d-6b73-4c2c-b64a-69cd1641238c",
   "metadata": {
    "slideshow": {
     "slide_type": "slide"
    },
    "tags": []
   },
   "source": [
    "## Liste af dictionaries (JSON records)"
   ]
  },
  {
   "cell_type": "code",
   "execution_count": 45,
   "id": "ead538b7-4059-43da-a828-179e9de4fb13",
   "metadata": {
    "slideshow": {
     "slide_type": "skip"
    },
    "tags": []
   },
   "outputs": [],
   "source": [
    "data = [{\"name\": \"James\", \"ethnicity\": \"earther\", \"vocation\": \"captain\"},\n",
    "        {\"name\": \"Naomi\", \"ethnicity\": \"belter\", \"vocation\": \"technician\"},\n",
    "        {\"name\": \"Alex\", \"ethnicity\": \"martian\", \"vocation\": \"pilot\"},\n",
    "        {\"name\": \"Clarissa\", \"ethnicity\": \"earther\", \"vocation\": \"mechanic\"}\n",
    "       ]"
   ]
  },
  {
   "cell_type": "code",
   "execution_count": 46,
   "id": "ea6624c7-f87b-47ad-badb-44bb0fdf36c9",
   "metadata": {},
   "outputs": [
    {
     "data": {
      "text/plain": [
       "[{'name': 'James', 'ethnicity': 'earther', 'vocation': 'captain'},\n",
       " {'name': 'Naomi', 'ethnicity': 'belter', 'vocation': 'technician'},\n",
       " {'name': 'Alex', 'ethnicity': 'martian', 'vocation': 'pilot'},\n",
       " {'name': 'Clarissa', 'ethnicity': 'earther', 'vocation': 'mechanic'}]"
      ]
     },
     "execution_count": 46,
     "metadata": {},
     "output_type": "execute_result"
    }
   ],
   "source": [
    "data"
   ]
  },
  {
   "cell_type": "code",
   "execution_count": 40,
   "id": "fa3d3be0-b758-4ede-898e-ed9d9cf348b4",
   "metadata": {},
   "outputs": [
    {
     "data": {
      "text/plain": [
       "{'name': 'James', 'ethnicity': 'earther', 'vocation': 'captain'}"
      ]
     },
     "execution_count": 40,
     "metadata": {},
     "output_type": "execute_result"
    }
   ],
   "source": [
    "data[0]"
   ]
  },
  {
   "cell_type": "markdown",
   "id": "2adf87ba-b6f4-42e1-9aee-aa63dfe710fc",
   "metadata": {
    "slideshow": {
     "slide_type": "slide"
    },
    "tags": []
   },
   "source": [
    "## Data frame"
   ]
  },
  {
   "cell_type": "code",
   "execution_count": 41,
   "id": "64ae3c98-a285-4c2c-894a-6f2ec9b59b8a",
   "metadata": {
    "slideshow": {
     "slide_type": "skip"
    },
    "tags": []
   },
   "outputs": [],
   "source": [
    "import pandas as pd\n",
    "\n",
    "data = pd.DataFrame.from_records(data)"
   ]
  },
  {
   "cell_type": "code",
   "execution_count": 42,
   "id": "dd308b00-6fd1-46f3-85ed-7a36aa156c1c",
   "metadata": {
    "tags": []
   },
   "outputs": [
    {
     "data": {
      "text/html": [
       "<div>\n",
       "<style scoped>\n",
       "    .dataframe tbody tr th:only-of-type {\n",
       "        vertical-align: middle;\n",
       "    }\n",
       "\n",
       "    .dataframe tbody tr th {\n",
       "        vertical-align: top;\n",
       "    }\n",
       "\n",
       "    .dataframe thead th {\n",
       "        text-align: right;\n",
       "    }\n",
       "</style>\n",
       "<table border=\"1\" class=\"dataframe\">\n",
       "  <thead>\n",
       "    <tr style=\"text-align: right;\">\n",
       "      <th></th>\n",
       "      <th>name</th>\n",
       "      <th>ethnicity</th>\n",
       "      <th>vocation</th>\n",
       "    </tr>\n",
       "  </thead>\n",
       "  <tbody>\n",
       "    <tr>\n",
       "      <th>0</th>\n",
       "      <td>James</td>\n",
       "      <td>earther</td>\n",
       "      <td>captain</td>\n",
       "    </tr>\n",
       "    <tr>\n",
       "      <th>1</th>\n",
       "      <td>Naomi</td>\n",
       "      <td>belter</td>\n",
       "      <td>technician</td>\n",
       "    </tr>\n",
       "    <tr>\n",
       "      <th>2</th>\n",
       "      <td>Alex</td>\n",
       "      <td>martian</td>\n",
       "      <td>pilot</td>\n",
       "    </tr>\n",
       "    <tr>\n",
       "      <th>3</th>\n",
       "      <td>Clarissa</td>\n",
       "      <td>earther</td>\n",
       "      <td>mechanic</td>\n",
       "    </tr>\n",
       "  </tbody>\n",
       "</table>\n",
       "</div>"
      ],
      "text/plain": [
       "       name ethnicity    vocation\n",
       "0     James   earther     captain\n",
       "1     Naomi    belter  technician\n",
       "2      Alex   martian       pilot\n",
       "3  Clarissa   earther    mechanic"
      ]
     },
     "execution_count": 42,
     "metadata": {},
     "output_type": "execute_result"
    }
   ],
   "source": [
    "data"
   ]
  },
  {
   "cell_type": "code",
   "execution_count": 43,
   "id": "85de9c76-b0ac-4106-938f-0c769e2aa858",
   "metadata": {},
   "outputs": [
    {
     "data": {
      "text/plain": [
       "name           James\n",
       "ethnicity    earther\n",
       "vocation     captain\n",
       "Name: 0, dtype: object"
      ]
     },
     "execution_count": 43,
     "metadata": {},
     "output_type": "execute_result"
    }
   ],
   "source": [
    "data.loc[0, :]"
   ]
  },
  {
   "cell_type": "markdown",
   "id": "186e7880-8424-4f13-ab82-79d4c199376b",
   "metadata": {
    "slideshow": {
     "slide_type": "slide"
    },
    "tags": []
   },
   "source": [
    "## Hyppige dataformater: .csv\n",
    "\n",
    "- csv: \"Comma-separated values\"\n",
    "- Én række per observation\n",
    "- Værdier adskilt med kommaer\n",
    "- To-dimensionel datastruktur\n",
    "\n",
    "```\n",
    "name,ethnicity,vocation\n",
    "James,earther,captain\n",
    "Naomi,belter,technician\n",
    "Alex,martian,pilot\n",
    "Clarissa,earther,mechanic\n",
    "```"
   ]
  },
  {
   "cell_type": "markdown",
   "id": "c48dd8c4-c35f-4b16-9224-59acea74d89c",
   "metadata": {
    "slideshow": {
     "slide_type": "slide"
    },
    "tags": []
   },
   "source": [
    "## Hyppige dataformater: .json\n",
    "\n",
    "- Hierarkisk dataformat\n",
    "- Værdier i nøgle-værdi par\n",
    "- Flere \"grene\" kan tilføjes\n",
    "\n",
    "```\n",
    "{'Nemesis Games': {\n",
    "    \"Characters\": {\n",
    "        \"James Holden\": {\n",
    "            \"Occupation\": \"Captain\", \n",
    "            \"Ethnicity\": \"Earther\", \n",
    "            \"Ship\": {\n",
    "                \"Name\": \"Rocinante\",\n",
    "                \"Class\": \"Corvette\",\n",
    "                \"Owner\": \"James Holden\",\n",
    "                \"Crew-size\": 6\n",
    "            }\n",
    "        },\n",
    "        \"Naomi Nagata\": {\n",
    "            \"Occupation\": \"Technician\", \n",
    "            \"Ethnicity\": \"Belter\",\n",
    "            \"Children\": {\n",
    "                \"Filip Nagata\": {\n",
    "                    \"Name\": \"Filip Nagata\",\n",
    "                    \"Occupation\": \"Unknown\"\n",
    "                }\n",
    "            }\n",
    "        }\n",
    "    }\n",
    "}\n",
    "```"
   ]
  },
  {
   "cell_type": "markdown",
   "id": "867ce91e-7f31-4493-be06-ecb312803181",
   "metadata": {
    "slideshow": {
     "slide_type": "slide"
    },
    "tags": []
   },
   "source": [
    "# Introduktion til pandas data frames"
   ]
  },
  {
   "cell_type": "markdown",
   "id": "9336bf25-850c-4e47-861c-4ef3d7293654",
   "metadata": {
    "slideshow": {
     "slide_type": "slide"
    },
    "tags": []
   },
   "source": [
    "## Hvad er en (pandas) data frame?\n",
    "\n",
    "- En data struktur til tabeldata i python (en repræsentation af data)\n",
    "\n",
    "![df](https://pandas.pydata.org/pandas-docs/stable/_images/01_table_dataframe.svg)\n",
    "\n",
    "- Hver række og kolonne har et *index*\n",
    "- Rækker typisk identificeret ved *index* (rækkenummer - men kan også være andet!)\n",
    "- Kolonner typisk identificeret ved kolonnenavn"
   ]
  },
  {
   "cell_type": "markdown",
   "id": "d229bccd-1e1c-4cc7-ae97-a1ae2105b4ab",
   "metadata": {
    "slideshow": {
     "slide_type": "slide"
    },
    "tags": []
   },
   "source": [
    "### Hver kolonne i en data frame er en `Series`\n",
    "\n",
    "- `Series` et enkeltkolonne-format i pandas\n",
    "- Sammenlignet med en python liste, kan en `Series` kun have én type data\n",
    "- En `Series` indexes behøver ikke starte ved 0\n",
    "\n",
    "![series](https://pandas.pydata.org/pandas-docs/stable/_images/01_table_series.svg)"
   ]
  },
  {
   "cell_type": "markdown",
   "id": "ea98f78a-c44a-4b4b-a6d5-62a33a6e7fc2",
   "metadata": {
    "slideshow": {
     "slide_type": "slide"
    },
    "tags": []
   },
   "source": [
    "## Fra data til data frame\n",
    "\n",
    "- En data frame er blot en repræsentation af data i python\n",
    "- Mange dataformater kan konverteres til en data frame\n",
    "- Data frames er brugbare til mange former for analyse\n",
    "\n",
    "Eksempler på filer, som kan læses til data frames (hvis i korrekt format!): \n",
    "- .csv\n",
    "- .json\n",
    "- .xls (Excel)\n",
    "- .dta (Stata)\n",
    "- .sas7bdat (SAS)"
   ]
  },
  {
   "cell_type": "markdown",
   "id": "34e33a53-30f6-4491-b409-13b4d88a6683",
   "metadata": {
    "slideshow": {
     "slide_type": "slide"
    },
    "tags": []
   },
   "source": [
    "# Introduktion til pandas data frames (live coding)"
   ]
  },
  {
   "cell_type": "markdown",
   "id": "1714cb87-ed2a-4c17-b23d-29fbb69175d1",
   "metadata": {
    "slideshow": {
     "slide_type": "slide"
    },
    "tags": []
   },
   "source": [
    "# Basal datahåndtering i pandas"
   ]
  },
  {
   "cell_type": "markdown",
   "id": "466b91cc-a8b5-49e5-af35-d10080cd1eb1",
   "metadata": {
    "slideshow": {
     "slide_type": "slide"
    },
    "tags": []
   },
   "source": [
    "## Vælg kolonner\n",
    "\n",
    "![col](https://pandas.pydata.org/pandas-docs/stable/_images/03_subset_columns.svg)"
   ]
  },
  {
   "cell_type": "code",
   "execution_count": 20,
   "id": "059b0700-cc30-49a0-a3d0-a17998586e0a",
   "metadata": {},
   "outputs": [
    {
     "data": {
      "text/plain": [
       "0      Not at all\n",
       "1          Medium\n",
       "2          Medium\n",
       "3          Medium\n",
       "4          Medium\n",
       "          ...    \n",
       "988        Strong\n",
       "989        Medium\n",
       "990        Strong\n",
       "991        Medium\n",
       "992           Low\n",
       "Name: polintr, Length: 993, dtype: object"
      ]
     },
     "execution_count": 20,
     "metadata": {},
     "output_type": "execute_result"
    }
   ],
   "source": [
    "eurob['polintr']"
   ]
  },
  {
   "cell_type": "markdown",
   "id": "68ec9c2a-3bdb-4bfa-a919-4500e651a279",
   "metadata": {
    "slideshow": {
     "slide_type": "slide"
    },
    "tags": []
   },
   "source": [
    "## Vælg rækker\n",
    "\n",
    "![rows](https://pandas.pydata.org/pandas-docs/stable/_images/03_subset_rows.svg)"
   ]
  },
  {
   "cell_type": "code",
   "execution_count": 25,
   "id": "5e7058b8-2eb0-4192-b087-03f2cb630e4c",
   "metadata": {},
   "outputs": [
    {
     "data": {
      "text/html": [
       "<div>\n",
       "<style scoped>\n",
       "    .dataframe tbody tr th:only-of-type {\n",
       "        vertical-align: middle;\n",
       "    }\n",
       "\n",
       "    .dataframe tbody tr th {\n",
       "        vertical-align: top;\n",
       "    }\n",
       "\n",
       "    .dataframe thead th {\n",
       "        text-align: right;\n",
       "    }\n",
       "</style>\n",
       "<table border=\"1\" class=\"dataframe\">\n",
       "  <thead>\n",
       "    <tr style=\"text-align: right;\">\n",
       "      <th></th>\n",
       "      <th>uniqid</th>\n",
       "      <th>d11</th>\n",
       "      <th>polintr</th>\n",
       "      <th>qb1</th>\n",
       "      <th>qb3_1</th>\n",
       "      <th>qb3_2</th>\n",
       "      <th>qb3_3</th>\n",
       "      <th>qb3_4</th>\n",
       "      <th>qb3_5</th>\n",
       "      <th>qb3_6</th>\n",
       "      <th>...</th>\n",
       "      <th>d10</th>\n",
       "      <th>d15a</th>\n",
       "      <th>d15b</th>\n",
       "      <th>d25</th>\n",
       "      <th>d63</th>\n",
       "      <th>d1</th>\n",
       "      <th>p1</th>\n",
       "      <th>p2</th>\n",
       "      <th>p3</th>\n",
       "      <th>region_denmark</th>\n",
       "    </tr>\n",
       "  </thead>\n",
       "  <tbody>\n",
       "    <tr>\n",
       "      <th>10</th>\n",
       "      <td>110005583</td>\n",
       "      <td>91.0</td>\n",
       "      <td>Low</td>\n",
       "      <td>Don't know (SPONTANEOUS)</td>\n",
       "      <td>Not mentioned</td>\n",
       "      <td>Not mentioned</td>\n",
       "      <td>Not mentioned</td>\n",
       "      <td>Not mentioned</td>\n",
       "      <td>Not mentioned</td>\n",
       "      <td>Not mentioned</td>\n",
       "      <td>...</td>\n",
       "      <td>Man</td>\n",
       "      <td>Retired, unable to work</td>\n",
       "      <td>Employed position, travelling</td>\n",
       "      <td>Large town</td>\n",
       "      <td>The working class of society</td>\n",
       "      <td>5</td>\n",
       "      <td>17 Sep 21</td>\n",
       "      <td>13 - 16 h</td>\n",
       "      <td>2636</td>\n",
       "      <td>DK05 - Nordjylland</td>\n",
       "    </tr>\n",
       "    <tr>\n",
       "      <th>19</th>\n",
       "      <td>110005592</td>\n",
       "      <td>18.0</td>\n",
       "      <td>Low</td>\n",
       "      <td>Very important</td>\n",
       "      <td>Use of personal data and information by compan...</td>\n",
       "      <td>Not mentioned</td>\n",
       "      <td>Not mentioned</td>\n",
       "      <td>The safety and well-being of children</td>\n",
       "      <td>Not mentioned</td>\n",
       "      <td>The difficulty of disconnecting and finding a ...</td>\n",
       "      <td>...</td>\n",
       "      <td>Woman</td>\n",
       "      <td>Student</td>\n",
       "      <td>Unskilled manual worker, etc.</td>\n",
       "      <td>Rural area or village</td>\n",
       "      <td>The middle class of society</td>\n",
       "      <td>3</td>\n",
       "      <td>17 Sep 21</td>\n",
       "      <td>13 - 16 h</td>\n",
       "      <td>3252</td>\n",
       "      <td>DK04 - Midtjylland</td>\n",
       "    </tr>\n",
       "  </tbody>\n",
       "</table>\n",
       "<p>2 rows × 23 columns</p>\n",
       "</div>"
      ],
      "text/plain": [
       "       uniqid   d11 polintr                       qb1  \\\n",
       "10  110005583  91.0     Low  Don't know (SPONTANEOUS)   \n",
       "19  110005592  18.0     Low            Very important   \n",
       "\n",
       "                                                qb3_1          qb3_2  \\\n",
       "10                                      Not mentioned  Not mentioned   \n",
       "19  Use of personal data and information by compan...  Not mentioned   \n",
       "\n",
       "            qb3_3                                  qb3_4          qb3_5  \\\n",
       "10  Not mentioned                          Not mentioned  Not mentioned   \n",
       "19  Not mentioned  The safety and well-being of children  Not mentioned   \n",
       "\n",
       "                                                qb3_6  ...    d10  \\\n",
       "10                                      Not mentioned  ...    Man   \n",
       "19  The difficulty of disconnecting and finding a ...  ...  Woman   \n",
       "\n",
       "                       d15a                           d15b  \\\n",
       "10  Retired, unable to work  Employed position, travelling   \n",
       "19                  Student  Unskilled manual worker, etc.   \n",
       "\n",
       "                      d25                           d63 d1         p1  \\\n",
       "10             Large town  The working class of society  5  17 Sep 21   \n",
       "19  Rural area or village   The middle class of society  3  17 Sep 21   \n",
       "\n",
       "           p2    p3      region_denmark  \n",
       "10  13 - 16 h  2636  DK05 - Nordjylland  \n",
       "19  13 - 16 h  3252  DK04 - Midtjylland  \n",
       "\n",
       "[2 rows x 23 columns]"
      ]
     },
     "execution_count": 25,
     "metadata": {},
     "output_type": "execute_result"
    }
   ],
   "source": [
    "eurob[eurob['polintr'] == \"Low\"].head(2) #boolean indexing"
   ]
  },
  {
   "cell_type": "markdown",
   "id": "a3837717-4218-49cf-8856-1d667e5533bc",
   "metadata": {
    "slideshow": {
     "slide_type": "slide"
    },
    "tags": []
   },
   "source": [
    "## Subsetting med `.loc[]` og `.iloc[]` (specifikke rækker og kolonner)"
   ]
  },
  {
   "cell_type": "markdown",
   "id": "31ce2b75-06b3-40e3-9a59-06c3a010eab0",
   "metadata": {},
   "source": [
    "![loc](https://pandas.pydata.org/pandas-docs/stable/_images/03_subset_columns_rows.svg)"
   ]
  },
  {
   "cell_type": "code",
   "execution_count": 24,
   "id": "1b1da811-639f-4e6b-9a41-0466d3378904",
   "metadata": {},
   "outputs": [
    {
     "data": {
      "text/html": [
       "<div>\n",
       "<style scoped>\n",
       "    .dataframe tbody tr th:only-of-type {\n",
       "        vertical-align: middle;\n",
       "    }\n",
       "\n",
       "    .dataframe tbody tr th {\n",
       "        vertical-align: top;\n",
       "    }\n",
       "\n",
       "    .dataframe thead th {\n",
       "        text-align: right;\n",
       "    }\n",
       "</style>\n",
       "<table border=\"1\" class=\"dataframe\">\n",
       "  <thead>\n",
       "    <tr style=\"text-align: right;\">\n",
       "      <th></th>\n",
       "      <th>polintr</th>\n",
       "      <th>d10</th>\n",
       "    </tr>\n",
       "  </thead>\n",
       "  <tbody>\n",
       "    <tr>\n",
       "      <th>10</th>\n",
       "      <td>Low</td>\n",
       "      <td>Man</td>\n",
       "    </tr>\n",
       "    <tr>\n",
       "      <th>19</th>\n",
       "      <td>Low</td>\n",
       "      <td>Woman</td>\n",
       "    </tr>\n",
       "    <tr>\n",
       "      <th>24</th>\n",
       "      <td>Low</td>\n",
       "      <td>Woman</td>\n",
       "    </tr>\n",
       "  </tbody>\n",
       "</table>\n",
       "</div>"
      ],
      "text/plain": [
       "   polintr    d10\n",
       "10     Low    Man\n",
       "19     Low  Woman\n",
       "24     Low  Woman"
      ]
     },
     "execution_count": 24,
     "metadata": {},
     "output_type": "execute_result"
    }
   ],
   "source": [
    "eurob.loc[eurob['polintr'] == \"Low\", ['polintr', 'd10']].head(3) "
   ]
  },
  {
   "cell_type": "markdown",
   "id": "0d41c699-a9f1-4e4e-846b-afa8d21f45d5",
   "metadata": {
    "slideshow": {
     "slide_type": "slide"
    },
    "tags": []
   },
   "source": [
    "## Subsetting med `.loc[]` og `.iloc[]` \n",
    "\n",
    "- `.loc[]`: \"label-based location\" (baseret på navngivningen af rækker og kolonner)\n",
    "- `.iloc[]`: \"index-based location\" (baseret på index for rækker og kolonner)\n",
    "\n",
    "**Syntax:**\n",
    "\n",
    "`.loc[rows,columns]`\n",
    "\n",
    "- `rows` kan specificeres som rækkenavne eller via betingelser (\"boolean indexing\")\n",
    "- `columns` kan specificeres som liste af kolonnenavne"
   ]
  },
  {
   "cell_type": "markdown",
   "id": "1598a9bc-261c-4036-86db-b5a6e372ab69",
   "metadata": {
    "slideshow": {
     "slide_type": "slide"
    },
    "tags": []
   },
   "source": [
    "## Rekodning med `.loc`\n",
    "\n",
    "- Tænk rekodning som, at man lokaliserer specifikke dele af data, som overskrives med en værdi\n",
    "\n",
    "<img src=\"../img/loc_example.png\" style=\"width:50.0%\" />"
   ]
  },
  {
   "cell_type": "code",
   "execution_count": null,
   "id": "c385b8c1-10c1-456b-b8ad-a38103a8f07d",
   "metadata": {},
   "outputs": [],
   "source": [
    "df.loc[df['v1'] > 10, 'v1'] = 0"
   ]
  },
  {
   "cell_type": "markdown",
   "id": "bcb84aa9-ee3d-49e7-b8a3-97407e1e2370",
   "metadata": {},
   "source": [
    "<img src=\"../img/loc_example2.png\" style=\"width:28.0%\" />"
   ]
  },
  {
   "cell_type": "markdown",
   "id": "43ca1af4-d307-434f-951f-02f51159bb29",
   "metadata": {
    "slideshow": {
     "slide_type": "slide"
    },
    "tags": []
   },
   "source": [
    "# Basal datahåndtering i pandas (live coding)"
   ]
  },
  {
   "cell_type": "markdown",
   "id": "89622648-9757-4007-9f79-503acc69acd2",
   "metadata": {
    "slideshow": {
     "slide_type": "slide"
    },
    "tags": []
   },
   "source": [
    "# Rekodning med mappings"
   ]
  },
  {
   "cell_type": "markdown",
   "id": "bd7144f3-ca8a-49e2-8c3d-ab36c6c91ab9",
   "metadata": {},
   "source": [
    "- Eksempel: Træls at rekode kategorier med `loc[]`\n",
    "- `.replace()`\n",
    "- Brug af `replace()` ved missing værdier"
   ]
  },
  {
   "cell_type": "markdown",
   "id": "5b20d5df-6cc5-42e0-9092-05f9a6f9ac6c",
   "metadata": {
    "slideshow": {
     "slide_type": "slide"
    },
    "tags": []
   },
   "source": [
    "# Rekodning med mappings (live coding)"
   ]
  },
  {
   "cell_type": "markdown",
   "id": "c6ac5b7f-bfe9-4c68-8a0e-497a2a9e0d01",
   "metadata": {
    "slideshow": {
     "slide_type": "slide"
    },
    "tags": []
   },
   "source": [
    "# Split-apply-combine"
   ]
  },
  {
   "cell_type": "markdown",
   "id": "a96c4303-8075-43c0-9e4c-9c3b29debca0",
   "metadata": {
    "slideshow": {
     "slide_type": "slide"
    },
    "tags": []
   },
   "source": [
    "![sac](https://unlhcc.github.io/r-novice-gapminder/fig/12-plyr-fig1.png)\n",
    "\n",
    "*Billede fra [Software Carpentry](https://unlhcc.github.io/r-novice-gapminder/16-plyr/)*"
   ]
  },
  {
   "cell_type": "markdown",
   "id": "5f8b520b-88fd-45e5-b8d2-dcd1b3d8639b",
   "metadata": {
    "slideshow": {
     "slide_type": "slide"
    },
    "tags": []
   },
   "source": [
    "## Split-apply-combine\n",
    "\n",
    "**Split**: Opdel (split) data i grupper baseret på et eller flere kriterier.\n",
    "\n",
    "**Apply**: Anvend (apply) en funktion (fx en beregning, filtrering eller andet) til hver gruppering.\n",
    "\n",
    "**Combine**: Kombinér (combine) resultaterne til en ny datastruktur."
   ]
  },
  {
   "cell_type": "code",
   "execution_count": 15,
   "id": "58cd6bf5-285e-40d4-8a7b-fd37c4dfe6b0",
   "metadata": {
    "slideshow": {
     "slide_type": "skip"
    },
    "tags": []
   },
   "outputs": [],
   "source": [
    "import pandas as pd\n",
    "import numpy as np\n",
    "\n",
    "data_path = \"C:/Users/kgk/OneDrive - Aalborg Universitet/Undervisning/E22/sds/datasets/eurobarometer-96_dk_subset.csv\"\n",
    "\n",
    "eurob = pd.read_csv(data_path)\n",
    "\n",
    "age_recode = {\"15 years\": 15, \"Refusal\": np.nan}\n",
    "\n",
    "eurob['d11'] = eurob['d11'].replace(age_recode)\n",
    "eurob['d11'] = eurob['d11'].astype('float') # float = floatpoint"
   ]
  },
  {
   "cell_type": "code",
   "execution_count": 11,
   "id": "16d35f0e-01ab-43bd-b18c-dae11d75374c",
   "metadata": {
    "slideshow": {
     "slide_type": "slide"
    },
    "tags": []
   },
   "outputs": [
    {
     "data": {
      "text/html": [
       "<div>\n",
       "<style scoped>\n",
       "    .dataframe tbody tr th:only-of-type {\n",
       "        vertical-align: middle;\n",
       "    }\n",
       "\n",
       "    .dataframe tbody tr th {\n",
       "        vertical-align: top;\n",
       "    }\n",
       "\n",
       "    .dataframe thead th {\n",
       "        text-align: right;\n",
       "    }\n",
       "</style>\n",
       "<table border=\"1\" class=\"dataframe\">\n",
       "  <thead>\n",
       "    <tr style=\"text-align: right;\">\n",
       "      <th></th>\n",
       "      <th>d10</th>\n",
       "      <th>d11</th>\n",
       "    </tr>\n",
       "  </thead>\n",
       "  <tbody>\n",
       "    <tr>\n",
       "      <th>0</th>\n",
       "      <td>Man</td>\n",
       "      <td>56.792233</td>\n",
       "    </tr>\n",
       "    <tr>\n",
       "      <th>1</th>\n",
       "      <td>Woman</td>\n",
       "      <td>54.750524</td>\n",
       "    </tr>\n",
       "  </tbody>\n",
       "</table>\n",
       "</div>"
      ],
      "text/plain": [
       "     d10        d11\n",
       "0    Man  56.792233\n",
       "1  Woman  54.750524"
      ]
     },
     "execution_count": 11,
     "metadata": {},
     "output_type": "execute_result"
    }
   ],
   "source": [
    "eurob.groupby(['d10'])['d11'].mean().to_frame().reset_index()"
   ]
  },
  {
   "cell_type": "markdown",
   "id": "acfa32cf-c60d-4169-97fb-1216e6f2c56b",
   "metadata": {},
   "source": [
    "**Split**: `.groupby()` - Hvilke variable skal der grupperes efter? (her `d10` - køn).\n",
    "\n",
    "**Apply**: `.mean()` - Funktion der anvendes på hver gruppering (her middelværdi for `d11` - alder).\n",
    "\n",
    "**Combine**: Pandas returnerer automatisk en ny datastruktur ved brug af en funktion. Dog kan strukturen tilpasses.\n",
    "- `.to_frame()` - Tving om til data frame\n",
    "- `.reset_index()` - Nulstil index (rækkenavne)"
   ]
  },
  {
   "cell_type": "markdown",
   "id": "2e7d7129-ff80-46cd-b156-e72ec7e84c71",
   "metadata": {
    "slideshow": {
     "slide_type": "slide"
    },
    "tags": []
   },
   "source": [
    "# Udforskning af data (live coding)"
   ]
  },
  {
   "cell_type": "markdown",
   "id": "135d31d6-54b5-4c89-a3e2-79fc14d5563d",
   "metadata": {
    "slideshow": {
     "slide_type": "slide"
    },
    "tags": []
   },
   "source": [
    "## Opsummering"
   ]
  },
  {
   "cell_type": "markdown",
   "id": "b85f6f79-3a8f-41c7-8046-3358369f57bd",
   "metadata": {
    "slideshow": {
     "slide_type": "slide"
    },
    "tags": []
   },
   "source": [
    "# ØVELSE: Datahåndtering i Python"
   ]
  }
 ],
 "metadata": {
  "kernelspec": {
   "display_name": "Python 3",
   "language": "python",
   "name": "python3"
  },
  "language_info": {
   "codemirror_mode": {
    "name": "ipython",
    "version": 3
   },
   "file_extension": ".py",
   "mimetype": "text/x-python",
   "name": "python",
   "nbconvert_exporter": "python",
   "pygments_lexer": "ipython3",
   "version": "3.7.12"
  }
 },
 "nbformat": 4,
 "nbformat_minor": 5
}
