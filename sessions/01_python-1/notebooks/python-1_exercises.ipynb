{
 "cells": [
  {
   "cell_type": "markdown",
   "id": "2d20a30f-ac2a-47d3-b60e-4fa68b8a352c",
   "metadata": {
    "slideshow": {
     "slide_type": "slide"
    },
    "tags": []
   },
   "source": [
    "## FÆLLES ØVELSE: Simpel problemløsning med Python\n",
    "\n",
    "Hvordan kan vi lave en funktion, der udregner arealet af en cirkel ud fra en given radius?\n",
    "\n",
    "$A = \\pi * r^2$"
   ]
  },
  {
   "cell_type": "markdown",
   "id": "a653199d-dd4f-4165-8d9d-6e5c279ffaeb",
   "metadata": {
    "slideshow": {
     "slide_type": "slide"
    },
    "tags": []
   },
   "source": [
    "## ØVELSE: Datahåndtering i Python\n",
    "\n",
    "Vi vil gerne undersøge sammenhængen mellem politisk ståsted (venstre- eller højreorienteret), og hvorvidt man bekymrer sig om digital teknologi og internettet.\n",
    "\n",
    "Kolonnerne `qb3_1-qb3_7` angiver de temaer inden for digital teknologi og internet, som respondenten er bekymret for (hvis der er et svar: bekymret; ellers er de ikke bekymret). \n",
    "\n",
    "1. Dan et indeks for, hvor bekymret man er for digital teknologi og internettet pba. kolonnerne `qb3_1-qb3-7`.\n",
    "- Kolonnerne bør rekodes til dummy-variable, inden de lægges sammen.\n",
    "\n",
    "\n",
    "Kolonnen `d1` indeholder respondents politiske placering på venstre-højre skala (1: venstreorienteret, 2: højreorienteret).\n",
    "\n",
    "2. Konvertér `d1` til en numerisk variabel (kræver rekodning af nogle af værdierne først).\n",
    "\n",
    "3. Undersøg hvorvidt indekset og politisk placering korrelerer (brug evt. [`pd.Series.corr()`](https://pandas.pydata.org/pandas-docs/stable/reference/api/pandas.Series.corr.html#pandas.Series.corr))\n",
    "\n",
    "4. Udforsk forskelle i indekset - fx forskelle mellem køn, uddannelsesniveau, region eller andet\n",
    "\n",
    "**TIP: Pandas har meget udførlig dokumentation, hvor du kan finde hjælp til de forskellige funktioner og metoder: https://pandas.pydata.org/docs/**"
   ]
  }
 ],
 "metadata": {
  "kernelspec": {
   "display_name": "Python 3 ",
   "language": "python",
   "name": "python3"
  },
  "language_info": {
   "codemirror_mode": {
    "name": "ipython",
    "version": 3
   },
   "file_extension": ".py",
   "mimetype": "text/x-python",
   "name": "python",
   "nbconvert_exporter": "python",
   "pygments_lexer": "ipython3",
   "version": "3.10.12"
  }
 },
 "nbformat": 4,
 "nbformat_minor": 5
}
