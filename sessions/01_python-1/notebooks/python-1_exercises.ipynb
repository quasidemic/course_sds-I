{
 "cells": [
  {
   "cell_type": "markdown",
   "id": "2d20a30f-ac2a-47d3-b60e-4fa68b8a352c",
   "metadata": {
    "slideshow": {
     "slide_type": "slide"
    },
    "tags": []
   },
   "source": [
    "## FÆLLES ØVELSE: Simpel problemløsning med Python\n",
    "\n",
    "Hvordan kan vi lave en funktion, der udregner arealet af en cirkel ud fra en given radius?\n",
    "\n",
    "$A = \\pi * r^2$"
   ]
  },
  {
   "cell_type": "markdown",
   "id": "a653199d-dd4f-4165-8d9d-6e5c279ffaeb",
   "metadata": {},
   "source": [
    "<u>Opsummering og øvelse (25 min)</u>"
   ]
  }
 ],
 "metadata": {
  "kernelspec": {
   "display_name": "Python 3",
   "language": "python",
   "name": "python3"
  },
  "language_info": {
   "codemirror_mode": {
    "name": "ipython",
    "version": 3
   },
   "file_extension": ".py",
   "mimetype": "text/x-python",
   "name": "python",
   "nbconvert_exporter": "python",
   "pygments_lexer": "ipython3",
   "version": "3.7.12"
  }
 },
 "nbformat": 4,
 "nbformat_minor": 5
}
