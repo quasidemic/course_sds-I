{
 "cells": [
  {
   "cell_type": "code",
   "execution_count": 1,
   "id": "a726ba65-5e3a-4c61-966d-05c33b0fb72a",
   "metadata": {
    "execution": {
     "iopub.execute_input": "2022-10-10T13:02:40.927297Z",
     "iopub.status.busy": "2022-10-10T13:02:40.926692Z",
     "iopub.status.idle": "2022-10-10T13:02:47.172822Z",
     "shell.execute_reply": "2022-10-10T13:02:47.171919Z",
     "shell.execute_reply.started": "2022-10-10T13:02:40.927242Z"
    },
    "tags": []
   },
   "outputs": [],
   "source": [
    "import pandas as pd\n",
    "import numpy as np\n",
    "import statsmodels.api as sm\n",
    "import matplotlib.pyplot as plt\n",
    "import seaborn as sns\n",
    "sns.set()\n",
    "from sklearn.cluster import KMeans"
   ]
  },
  {
   "cell_type": "code",
   "execution_count": 2,
   "id": "1fb7fa8a-7f1a-488d-bf01-420fa9cc5344",
   "metadata": {
    "execution": {
     "iopub.execute_input": "2022-10-10T13:03:09.496859Z",
     "iopub.status.busy": "2022-10-10T13:03:09.496259Z",
     "iopub.status.idle": "2022-10-10T13:03:09.597442Z",
     "shell.execute_reply": "2022-10-10T13:03:09.596703Z",
     "shell.execute_reply.started": "2022-10-10T13:03:09.496805Z"
    },
    "tags": []
   },
   "outputs": [],
   "source": [
    "df=pd.read_csv(\"https://raw.githubusercontent.com/CALDISS-AAU/sdsphd20/master/datasets/value99_dataset.csv\")"
   ]
  },
  {
   "cell_type": "code",
   "execution_count": 3,
   "id": "700b12f7-4440-48fc-85ee-001020f5d646",
   "metadata": {
    "execution": {
     "iopub.execute_input": "2022-10-10T13:03:10.692608Z",
     "iopub.status.busy": "2022-10-10T13:03:10.691936Z",
     "iopub.status.idle": "2022-10-10T13:03:10.719135Z",
     "shell.execute_reply": "2022-10-10T13:03:10.718529Z",
     "shell.execute_reply.started": "2022-10-10T13:03:10.692549Z"
    },
    "tags": []
   },
   "outputs": [
    {
     "data": {
      "text/html": [
       "<div>\n",
       "<style scoped>\n",
       "    .dataframe tbody tr th:only-of-type {\n",
       "        vertical-align: middle;\n",
       "    }\n",
       "\n",
       "    .dataframe tbody tr th {\n",
       "        vertical-align: top;\n",
       "    }\n",
       "\n",
       "    .dataframe thead th {\n",
       "        text-align: right;\n",
       "    }\n",
       "</style>\n",
       "<table border=\"1\" class=\"dataframe\">\n",
       "  <thead>\n",
       "    <tr style=\"text-align: right;\">\n",
       "      <th></th>\n",
       "      <th>gender</th>\n",
       "      <th>income</th>\n",
       "      <th>criminals</th>\n",
       "      <th>diffrace</th>\n",
       "      <th>leftwings</th>\n",
       "      <th>alcoholics</th>\n",
       "      <th>rightwings</th>\n",
       "      <th>manykids</th>\n",
       "      <th>neurotics</th>\n",
       "      <th>muslims</th>\n",
       "      <th>imigrants</th>\n",
       "      <th>aids</th>\n",
       "      <th>addicts</th>\n",
       "      <th>homoseksuals</th>\n",
       "      <th>jews</th>\n",
       "      <th>gypsies</th>\n",
       "      <th>age</th>\n",
       "      <th>edu</th>\n",
       "      <th>id</th>\n",
       "    </tr>\n",
       "  </thead>\n",
       "  <tbody>\n",
       "    <tr>\n",
       "      <th>0</th>\n",
       "      <td>2</td>\n",
       "      <td>900000</td>\n",
       "      <td>0</td>\n",
       "      <td>0</td>\n",
       "      <td>0</td>\n",
       "      <td>0</td>\n",
       "      <td>1</td>\n",
       "      <td>0</td>\n",
       "      <td>0</td>\n",
       "      <td>0</td>\n",
       "      <td>0</td>\n",
       "      <td>0</td>\n",
       "      <td>0</td>\n",
       "      <td>0</td>\n",
       "      <td>0</td>\n",
       "      <td>0</td>\n",
       "      <td>48</td>\n",
       "      <td>4</td>\n",
       "      <td>1</td>\n",
       "    </tr>\n",
       "    <tr>\n",
       "      <th>1</th>\n",
       "      <td>1</td>\n",
       "      <td>180000</td>\n",
       "      <td>0</td>\n",
       "      <td>0</td>\n",
       "      <td>0</td>\n",
       "      <td>0</td>\n",
       "      <td>1</td>\n",
       "      <td>0</td>\n",
       "      <td>1</td>\n",
       "      <td>0</td>\n",
       "      <td>0</td>\n",
       "      <td>0</td>\n",
       "      <td>0</td>\n",
       "      <td>0</td>\n",
       "      <td>0</td>\n",
       "      <td>0</td>\n",
       "      <td>30</td>\n",
       "      <td>4</td>\n",
       "      <td>2</td>\n",
       "    </tr>\n",
       "    <tr>\n",
       "      <th>2</th>\n",
       "      <td>1</td>\n",
       "      <td>600000</td>\n",
       "      <td>0</td>\n",
       "      <td>0</td>\n",
       "      <td>0</td>\n",
       "      <td>0</td>\n",
       "      <td>0</td>\n",
       "      <td>0</td>\n",
       "      <td>0</td>\n",
       "      <td>0</td>\n",
       "      <td>0</td>\n",
       "      <td>0</td>\n",
       "      <td>0</td>\n",
       "      <td>0</td>\n",
       "      <td>0</td>\n",
       "      <td>0</td>\n",
       "      <td>57</td>\n",
       "      <td>3</td>\n",
       "      <td>3</td>\n",
       "    </tr>\n",
       "    <tr>\n",
       "      <th>3</th>\n",
       "      <td>2</td>\n",
       "      <td>180000</td>\n",
       "      <td>1</td>\n",
       "      <td>0</td>\n",
       "      <td>0</td>\n",
       "      <td>1</td>\n",
       "      <td>0</td>\n",
       "      <td>0</td>\n",
       "      <td>0</td>\n",
       "      <td>0</td>\n",
       "      <td>0</td>\n",
       "      <td>0</td>\n",
       "      <td>1</td>\n",
       "      <td>0</td>\n",
       "      <td>0</td>\n",
       "      <td>0</td>\n",
       "      <td>55</td>\n",
       "      <td>0</td>\n",
       "      <td>4</td>\n",
       "    </tr>\n",
       "    <tr>\n",
       "      <th>4</th>\n",
       "      <td>2</td>\n",
       "      <td>60000</td>\n",
       "      <td>0</td>\n",
       "      <td>0</td>\n",
       "      <td>0</td>\n",
       "      <td>0</td>\n",
       "      <td>0</td>\n",
       "      <td>0</td>\n",
       "      <td>0</td>\n",
       "      <td>0</td>\n",
       "      <td>0</td>\n",
       "      <td>0</td>\n",
       "      <td>1</td>\n",
       "      <td>0</td>\n",
       "      <td>0</td>\n",
       "      <td>0</td>\n",
       "      <td>21</td>\n",
       "      <td>0</td>\n",
       "      <td>5</td>\n",
       "    </tr>\n",
       "  </tbody>\n",
       "</table>\n",
       "</div>"
      ],
      "text/plain": [
       "   gender  income  criminals  diffrace  leftwings  alcoholics  rightwings  \\\n",
       "0       2  900000          0         0          0           0           1   \n",
       "1       1  180000          0         0          0           0           1   \n",
       "2       1  600000          0         0          0           0           0   \n",
       "3       2  180000          1         0          0           1           0   \n",
       "4       2   60000          0         0          0           0           0   \n",
       "\n",
       "   manykids  neurotics  muslims  imigrants  aids  addicts  homoseksuals  jews  \\\n",
       "0         0          0        0          0     0        0             0     0   \n",
       "1         0          1        0          0     0        0             0     0   \n",
       "2         0          0        0          0     0        0             0     0   \n",
       "3         0          0        0          0     0        1             0     0   \n",
       "4         0          0        0          0     0        1             0     0   \n",
       "\n",
       "   gypsies  age  edu  id  \n",
       "0        0   48    4   1  \n",
       "1        0   30    4   2  \n",
       "2        0   57    3   3  \n",
       "3        0   55    0   4  \n",
       "4        0   21    0   5  "
      ]
     },
     "execution_count": 3,
     "metadata": {},
     "output_type": "execute_result"
    }
   ],
   "source": [
    "df.head()"
   ]
  },
  {
   "cell_type": "code",
   "execution_count": 4,
   "id": "737f6646-7b3c-49e8-8156-342694fa5878",
   "metadata": {
    "execution": {
     "iopub.execute_input": "2022-10-10T13:04:32.318287Z",
     "iopub.status.busy": "2022-10-10T13:04:32.317746Z",
     "iopub.status.idle": "2022-10-10T13:04:32.360741Z",
     "shell.execute_reply": "2022-10-10T13:04:32.360113Z",
     "shell.execute_reply.started": "2022-10-10T13:04:32.318231Z"
    },
    "tags": []
   },
   "outputs": [
    {
     "data": {
      "text/html": [
       "<div>\n",
       "<style scoped>\n",
       "    .dataframe tbody tr th:only-of-type {\n",
       "        vertical-align: middle;\n",
       "    }\n",
       "\n",
       "    .dataframe tbody tr th {\n",
       "        vertical-align: top;\n",
       "    }\n",
       "\n",
       "    .dataframe thead th {\n",
       "        text-align: right;\n",
       "    }\n",
       "</style>\n",
       "<table border=\"1\" class=\"dataframe\">\n",
       "  <thead>\n",
       "    <tr style=\"text-align: right;\">\n",
       "      <th></th>\n",
       "      <th></th>\n",
       "      <th>income</th>\n",
       "      <th>criminals</th>\n",
       "      <th>diffrace</th>\n",
       "      <th>leftwings</th>\n",
       "      <th>alcoholics</th>\n",
       "      <th>rightwings</th>\n",
       "      <th>manykids</th>\n",
       "      <th>neurotics</th>\n",
       "      <th>muslims</th>\n",
       "      <th>imigrants</th>\n",
       "      <th>aids</th>\n",
       "      <th>addicts</th>\n",
       "      <th>homoseksuals</th>\n",
       "      <th>jews</th>\n",
       "      <th>gypsies</th>\n",
       "      <th>age</th>\n",
       "      <th>id</th>\n",
       "    </tr>\n",
       "    <tr>\n",
       "      <th>edu</th>\n",
       "      <th>gender</th>\n",
       "      <th></th>\n",
       "      <th></th>\n",
       "      <th></th>\n",
       "      <th></th>\n",
       "      <th></th>\n",
       "      <th></th>\n",
       "      <th></th>\n",
       "      <th></th>\n",
       "      <th></th>\n",
       "      <th></th>\n",
       "      <th></th>\n",
       "      <th></th>\n",
       "      <th></th>\n",
       "      <th></th>\n",
       "      <th></th>\n",
       "      <th></th>\n",
       "      <th></th>\n",
       "    </tr>\n",
       "  </thead>\n",
       "  <tbody>\n",
       "    <tr>\n",
       "      <th rowspan=\"2\" valign=\"top\">0</th>\n",
       "      <th>1</th>\n",
       "      <td>312434.343434</td>\n",
       "      <td>0.292929</td>\n",
       "      <td>0.060606</td>\n",
       "      <td>0.070707</td>\n",
       "      <td>0.262626</td>\n",
       "      <td>0.131313</td>\n",
       "      <td>0.010101</td>\n",
       "      <td>0.111111</td>\n",
       "      <td>0.161616</td>\n",
       "      <td>0.121212</td>\n",
       "      <td>0.040404</td>\n",
       "      <td>0.575758</td>\n",
       "      <td>0.131313</td>\n",
       "      <td>0.030303</td>\n",
       "      <td>0.131313</td>\n",
       "      <td>47.242424</td>\n",
       "      <td>443.404040</td>\n",
       "    </tr>\n",
       "    <tr>\n",
       "      <th>2</th>\n",
       "      <td>295356.433071</td>\n",
       "      <td>0.346457</td>\n",
       "      <td>0.094488</td>\n",
       "      <td>0.078740</td>\n",
       "      <td>0.409449</td>\n",
       "      <td>0.157480</td>\n",
       "      <td>0.055118</td>\n",
       "      <td>0.133858</td>\n",
       "      <td>0.251969</td>\n",
       "      <td>0.188976</td>\n",
       "      <td>0.118110</td>\n",
       "      <td>0.606299</td>\n",
       "      <td>0.110236</td>\n",
       "      <td>0.047244</td>\n",
       "      <td>0.212598</td>\n",
       "      <td>51.055118</td>\n",
       "      <td>454.803150</td>\n",
       "    </tr>\n",
       "    <tr>\n",
       "      <th rowspan=\"2\" valign=\"top\">1</th>\n",
       "      <th>1</th>\n",
       "      <td>395940.289941</td>\n",
       "      <td>0.313609</td>\n",
       "      <td>0.112426</td>\n",
       "      <td>0.112426</td>\n",
       "      <td>0.337278</td>\n",
       "      <td>0.165680</td>\n",
       "      <td>0.011834</td>\n",
       "      <td>0.124260</td>\n",
       "      <td>0.278107</td>\n",
       "      <td>0.118343</td>\n",
       "      <td>0.071006</td>\n",
       "      <td>0.568047</td>\n",
       "      <td>0.136095</td>\n",
       "      <td>0.047337</td>\n",
       "      <td>0.207101</td>\n",
       "      <td>47.224852</td>\n",
       "      <td>450.544379</td>\n",
       "    </tr>\n",
       "    <tr>\n",
       "      <th>2</th>\n",
       "      <td>342100.000000</td>\n",
       "      <td>0.320000</td>\n",
       "      <td>0.070000</td>\n",
       "      <td>0.050000</td>\n",
       "      <td>0.310000</td>\n",
       "      <td>0.160000</td>\n",
       "      <td>0.040000</td>\n",
       "      <td>0.120000</td>\n",
       "      <td>0.120000</td>\n",
       "      <td>0.130000</td>\n",
       "      <td>0.020000</td>\n",
       "      <td>0.560000</td>\n",
       "      <td>0.030000</td>\n",
       "      <td>0.000000</td>\n",
       "      <td>0.130000</td>\n",
       "      <td>45.680000</td>\n",
       "      <td>445.410000</td>\n",
       "    </tr>\n",
       "    <tr>\n",
       "      <th rowspan=\"2\" valign=\"top\">2</th>\n",
       "      <th>1</th>\n",
       "      <td>401923.076923</td>\n",
       "      <td>0.269231</td>\n",
       "      <td>0.076923</td>\n",
       "      <td>0.346154</td>\n",
       "      <td>0.423077</td>\n",
       "      <td>0.269231</td>\n",
       "      <td>0.153846</td>\n",
       "      <td>0.269231</td>\n",
       "      <td>0.192308</td>\n",
       "      <td>0.115385</td>\n",
       "      <td>0.038462</td>\n",
       "      <td>0.576923</td>\n",
       "      <td>0.076923</td>\n",
       "      <td>0.000000</td>\n",
       "      <td>0.115385</td>\n",
       "      <td>42.115385</td>\n",
       "      <td>434.807692</td>\n",
       "    </tr>\n",
       "    <tr>\n",
       "      <th>2</th>\n",
       "      <td>366679.245283</td>\n",
       "      <td>0.490566</td>\n",
       "      <td>0.094340</td>\n",
       "      <td>0.037736</td>\n",
       "      <td>0.396226</td>\n",
       "      <td>0.283019</td>\n",
       "      <td>0.037736</td>\n",
       "      <td>0.207547</td>\n",
       "      <td>0.169811</td>\n",
       "      <td>0.132075</td>\n",
       "      <td>0.037736</td>\n",
       "      <td>0.641509</td>\n",
       "      <td>0.037736</td>\n",
       "      <td>0.018868</td>\n",
       "      <td>0.188679</td>\n",
       "      <td>45.000000</td>\n",
       "      <td>488.113208</td>\n",
       "    </tr>\n",
       "    <tr>\n",
       "      <th rowspan=\"2\" valign=\"top\">3</th>\n",
       "      <th>1</th>\n",
       "      <td>425056.603774</td>\n",
       "      <td>0.216981</td>\n",
       "      <td>0.066038</td>\n",
       "      <td>0.113208</td>\n",
       "      <td>0.386792</td>\n",
       "      <td>0.301887</td>\n",
       "      <td>0.056604</td>\n",
       "      <td>0.132075</td>\n",
       "      <td>0.122642</td>\n",
       "      <td>0.056604</td>\n",
       "      <td>0.028302</td>\n",
       "      <td>0.594340</td>\n",
       "      <td>0.037736</td>\n",
       "      <td>0.018868</td>\n",
       "      <td>0.103774</td>\n",
       "      <td>44.698113</td>\n",
       "      <td>475.150943</td>\n",
       "    </tr>\n",
       "    <tr>\n",
       "      <th>2</th>\n",
       "      <td>466536.742424</td>\n",
       "      <td>0.280303</td>\n",
       "      <td>0.022727</td>\n",
       "      <td>0.075758</td>\n",
       "      <td>0.340909</td>\n",
       "      <td>0.234848</td>\n",
       "      <td>0.030303</td>\n",
       "      <td>0.159091</td>\n",
       "      <td>0.053030</td>\n",
       "      <td>0.053030</td>\n",
       "      <td>0.030303</td>\n",
       "      <td>0.598485</td>\n",
       "      <td>0.015152</td>\n",
       "      <td>0.000000</td>\n",
       "      <td>0.113636</td>\n",
       "      <td>41.545455</td>\n",
       "      <td>438.598485</td>\n",
       "    </tr>\n",
       "    <tr>\n",
       "      <th rowspan=\"2\" valign=\"top\">4</th>\n",
       "      <th>1</th>\n",
       "      <td>452495.918367</td>\n",
       "      <td>0.326531</td>\n",
       "      <td>0.040816</td>\n",
       "      <td>0.102041</td>\n",
       "      <td>0.469388</td>\n",
       "      <td>0.367347</td>\n",
       "      <td>0.061224</td>\n",
       "      <td>0.183673</td>\n",
       "      <td>0.040816</td>\n",
       "      <td>0.040816</td>\n",
       "      <td>0.102041</td>\n",
       "      <td>0.612245</td>\n",
       "      <td>0.102041</td>\n",
       "      <td>0.020408</td>\n",
       "      <td>0.102041</td>\n",
       "      <td>42.877551</td>\n",
       "      <td>469.938776</td>\n",
       "    </tr>\n",
       "    <tr>\n",
       "      <th>2</th>\n",
       "      <td>470897.435897</td>\n",
       "      <td>0.153846</td>\n",
       "      <td>0.000000</td>\n",
       "      <td>0.051282</td>\n",
       "      <td>0.384615</td>\n",
       "      <td>0.256410</td>\n",
       "      <td>0.025641</td>\n",
       "      <td>0.128205</td>\n",
       "      <td>0.000000</td>\n",
       "      <td>0.000000</td>\n",
       "      <td>0.025641</td>\n",
       "      <td>0.666667</td>\n",
       "      <td>0.000000</td>\n",
       "      <td>0.000000</td>\n",
       "      <td>0.076923</td>\n",
       "      <td>38.666667</td>\n",
       "      <td>375.564103</td>\n",
       "    </tr>\n",
       "  </tbody>\n",
       "</table>\n",
       "</div>"
      ],
      "text/plain": [
       "                   income  criminals  diffrace  leftwings  alcoholics  \\\n",
       "edu gender                                                              \n",
       "0   1       312434.343434   0.292929  0.060606   0.070707    0.262626   \n",
       "    2       295356.433071   0.346457  0.094488   0.078740    0.409449   \n",
       "1   1       395940.289941   0.313609  0.112426   0.112426    0.337278   \n",
       "    2       342100.000000   0.320000  0.070000   0.050000    0.310000   \n",
       "2   1       401923.076923   0.269231  0.076923   0.346154    0.423077   \n",
       "    2       366679.245283   0.490566  0.094340   0.037736    0.396226   \n",
       "3   1       425056.603774   0.216981  0.066038   0.113208    0.386792   \n",
       "    2       466536.742424   0.280303  0.022727   0.075758    0.340909   \n",
       "4   1       452495.918367   0.326531  0.040816   0.102041    0.469388   \n",
       "    2       470897.435897   0.153846  0.000000   0.051282    0.384615   \n",
       "\n",
       "            rightwings  manykids  neurotics   muslims  imigrants      aids  \\\n",
       "edu gender                                                                   \n",
       "0   1         0.131313  0.010101   0.111111  0.161616   0.121212  0.040404   \n",
       "    2         0.157480  0.055118   0.133858  0.251969   0.188976  0.118110   \n",
       "1   1         0.165680  0.011834   0.124260  0.278107   0.118343  0.071006   \n",
       "    2         0.160000  0.040000   0.120000  0.120000   0.130000  0.020000   \n",
       "2   1         0.269231  0.153846   0.269231  0.192308   0.115385  0.038462   \n",
       "    2         0.283019  0.037736   0.207547  0.169811   0.132075  0.037736   \n",
       "3   1         0.301887  0.056604   0.132075  0.122642   0.056604  0.028302   \n",
       "    2         0.234848  0.030303   0.159091  0.053030   0.053030  0.030303   \n",
       "4   1         0.367347  0.061224   0.183673  0.040816   0.040816  0.102041   \n",
       "    2         0.256410  0.025641   0.128205  0.000000   0.000000  0.025641   \n",
       "\n",
       "             addicts  homoseksuals      jews   gypsies        age          id  \n",
       "edu gender                                                                     \n",
       "0   1       0.575758      0.131313  0.030303  0.131313  47.242424  443.404040  \n",
       "    2       0.606299      0.110236  0.047244  0.212598  51.055118  454.803150  \n",
       "1   1       0.568047      0.136095  0.047337  0.207101  47.224852  450.544379  \n",
       "    2       0.560000      0.030000  0.000000  0.130000  45.680000  445.410000  \n",
       "2   1       0.576923      0.076923  0.000000  0.115385  42.115385  434.807692  \n",
       "    2       0.641509      0.037736  0.018868  0.188679  45.000000  488.113208  \n",
       "3   1       0.594340      0.037736  0.018868  0.103774  44.698113  475.150943  \n",
       "    2       0.598485      0.015152  0.000000  0.113636  41.545455  438.598485  \n",
       "4   1       0.612245      0.102041  0.020408  0.102041  42.877551  469.938776  \n",
       "    2       0.666667      0.000000  0.000000  0.076923  38.666667  375.564103  "
      ]
     },
     "execution_count": 4,
     "metadata": {},
     "output_type": "execute_result"
    }
   ],
   "source": [
    "df.groupby([\"edu\", \"gender\"]).mean()"
   ]
  },
  {
   "cell_type": "code",
   "execution_count": 5,
   "id": "f6b7ef0a-13ec-429e-a7e8-b3bfd1461d6c",
   "metadata": {
    "execution": {
     "iopub.execute_input": "2022-10-10T13:06:34.958168Z",
     "iopub.status.busy": "2022-10-10T13:06:34.957487Z",
     "iopub.status.idle": "2022-10-10T13:06:34.967676Z",
     "shell.execute_reply": "2022-10-10T13:06:34.966341Z",
     "shell.execute_reply.started": "2022-10-10T13:06:34.958109Z"
    },
    "tags": []
   },
   "outputs": [],
   "source": [
    "X = df[['criminals', 'diffrace', 'leftwings', 'alcoholics', 'rightwings', 'manykids', 'neurotics', 'muslims', 'imigrants', 'aids', 'addicts', 'homoseksuals', 'jews', 'gypsies']]"
   ]
  },
  {
   "cell_type": "code",
   "execution_count": 6,
   "id": "814b6f56-c755-45a1-9db1-ed808ecd6c1b",
   "metadata": {
    "execution": {
     "iopub.execute_input": "2022-10-10T13:06:36.553532Z",
     "iopub.status.busy": "2022-10-10T13:06:36.552915Z",
     "iopub.status.idle": "2022-10-10T13:06:38.566091Z",
     "shell.execute_reply": "2022-10-10T13:06:38.565303Z",
     "shell.execute_reply.started": "2022-10-10T13:06:36.553477Z"
    },
    "tags": []
   },
   "outputs": [
    {
     "data": {
      "text/html": [
       "<style>#sk-container-id-1 {color: black;background-color: white;}#sk-container-id-1 pre{padding: 0;}#sk-container-id-1 div.sk-toggleable {background-color: white;}#sk-container-id-1 label.sk-toggleable__label {cursor: pointer;display: block;width: 100%;margin-bottom: 0;padding: 0.3em;box-sizing: border-box;text-align: center;}#sk-container-id-1 label.sk-toggleable__label-arrow:before {content: \"▸\";float: left;margin-right: 0.25em;color: #696969;}#sk-container-id-1 label.sk-toggleable__label-arrow:hover:before {color: black;}#sk-container-id-1 div.sk-estimator:hover label.sk-toggleable__label-arrow:before {color: black;}#sk-container-id-1 div.sk-toggleable__content {max-height: 0;max-width: 0;overflow: hidden;text-align: left;background-color: #f0f8ff;}#sk-container-id-1 div.sk-toggleable__content pre {margin: 0.2em;color: black;border-radius: 0.25em;background-color: #f0f8ff;}#sk-container-id-1 input.sk-toggleable__control:checked~div.sk-toggleable__content {max-height: 200px;max-width: 100%;overflow: auto;}#sk-container-id-1 input.sk-toggleable__control:checked~label.sk-toggleable__label-arrow:before {content: \"▾\";}#sk-container-id-1 div.sk-estimator input.sk-toggleable__control:checked~label.sk-toggleable__label {background-color: #d4ebff;}#sk-container-id-1 div.sk-label input.sk-toggleable__control:checked~label.sk-toggleable__label {background-color: #d4ebff;}#sk-container-id-1 input.sk-hidden--visually {border: 0;clip: rect(1px 1px 1px 1px);clip: rect(1px, 1px, 1px, 1px);height: 1px;margin: -1px;overflow: hidden;padding: 0;position: absolute;width: 1px;}#sk-container-id-1 div.sk-estimator {font-family: monospace;background-color: #f0f8ff;border: 1px dotted black;border-radius: 0.25em;box-sizing: border-box;margin-bottom: 0.5em;}#sk-container-id-1 div.sk-estimator:hover {background-color: #d4ebff;}#sk-container-id-1 div.sk-parallel-item::after {content: \"\";width: 100%;border-bottom: 1px solid gray;flex-grow: 1;}#sk-container-id-1 div.sk-label:hover label.sk-toggleable__label {background-color: #d4ebff;}#sk-container-id-1 div.sk-serial::before {content: \"\";position: absolute;border-left: 1px solid gray;box-sizing: border-box;top: 0;bottom: 0;left: 50%;z-index: 0;}#sk-container-id-1 div.sk-serial {display: flex;flex-direction: column;align-items: center;background-color: white;padding-right: 0.2em;padding-left: 0.2em;position: relative;}#sk-container-id-1 div.sk-item {position: relative;z-index: 1;}#sk-container-id-1 div.sk-parallel {display: flex;align-items: stretch;justify-content: center;background-color: white;position: relative;}#sk-container-id-1 div.sk-item::before, #sk-container-id-1 div.sk-parallel-item::before {content: \"\";position: absolute;border-left: 1px solid gray;box-sizing: border-box;top: 0;bottom: 0;left: 50%;z-index: -1;}#sk-container-id-1 div.sk-parallel-item {display: flex;flex-direction: column;z-index: 1;position: relative;background-color: white;}#sk-container-id-1 div.sk-parallel-item:first-child::after {align-self: flex-end;width: 50%;}#sk-container-id-1 div.sk-parallel-item:last-child::after {align-self: flex-start;width: 50%;}#sk-container-id-1 div.sk-parallel-item:only-child::after {width: 0;}#sk-container-id-1 div.sk-dashed-wrapped {border: 1px dashed gray;margin: 0 0.4em 0.5em 0.4em;box-sizing: border-box;padding-bottom: 0.4em;background-color: white;}#sk-container-id-1 div.sk-label label {font-family: monospace;font-weight: bold;display: inline-block;line-height: 1.2em;}#sk-container-id-1 div.sk-label-container {text-align: center;}#sk-container-id-1 div.sk-container {/* jupyter's `normalize.less` sets `[hidden] { display: none; }` but bootstrap.min.css set `[hidden] { display: none !important; }` so we also need the `!important` here to be able to override the default hidden behavior on the sphinx rendered scikit-learn.org. See: https://github.com/scikit-learn/scikit-learn/issues/21755 */display: inline-block !important;position: relative;}#sk-container-id-1 div.sk-text-repr-fallback {display: none;}</style><div id=\"sk-container-id-1\" class=\"sk-top-container\"><div class=\"sk-text-repr-fallback\"><pre>KMeans(n_clusters=2)</pre><b>In a Jupyter environment, please rerun this cell to show the HTML representation or trust the notebook. <br />On GitHub, the HTML representation is unable to render, please try loading this page with nbviewer.org.</b></div><div class=\"sk-container\" hidden><div class=\"sk-item\"><div class=\"sk-estimator sk-toggleable\"><input class=\"sk-toggleable__control sk-hidden--visually\" id=\"sk-estimator-id-1\" type=\"checkbox\" checked><label for=\"sk-estimator-id-1\" class=\"sk-toggleable__label sk-toggleable__label-arrow\">KMeans</label><div class=\"sk-toggleable__content\"><pre>KMeans(n_clusters=2)</pre></div></div></div></div></div>"
      ],
      "text/plain": [
       "KMeans(n_clusters=2)"
      ]
     },
     "execution_count": 6,
     "metadata": {},
     "output_type": "execute_result"
    }
   ],
   "source": [
    "kmeans = KMeans(2)\n",
    "kmeans.fit(X)"
   ]
  },
  {
   "cell_type": "code",
   "execution_count": 7,
   "id": "e9fdcf07-9eea-4050-b7a2-f6d75bf7d3ae",
   "metadata": {
    "execution": {
     "iopub.execute_input": "2022-10-10T13:08:00.519456Z",
     "iopub.status.busy": "2022-10-10T13:08:00.518906Z",
     "iopub.status.idle": "2022-10-10T13:08:02.362924Z",
     "shell.execute_reply": "2022-10-10T13:08:02.361890Z",
     "shell.execute_reply.started": "2022-10-10T13:08:00.519402Z"
    },
    "tags": []
   },
   "outputs": [
    {
     "data": {
      "text/plain": [
       "array([1, 1, 1, 0, 1, 0, 0, 0, 0, 1, 1, 0, 0, 1, 0, 0, 1, 1, 0, 1, 1, 0,\n",
       "       1, 0, 1, 0, 1, 0, 0, 1, 0, 1, 1, 0, 0, 1, 1, 0, 0, 0, 0, 0, 1, 1,\n",
       "       0, 0, 1, 1, 0, 0, 1, 1, 1, 0, 1, 1, 1, 1, 0, 0, 0, 0, 0, 1, 1, 1,\n",
       "       0, 1, 0, 1, 0, 0, 0, 1, 1, 0, 0, 0, 0, 0, 0, 1, 0, 0, 0, 0, 0, 0,\n",
       "       1, 1, 1, 1, 0, 1, 1, 0, 1, 1, 0, 0, 0, 0, 1, 1, 0, 0, 1, 1, 1, 1,\n",
       "       0, 0, 0, 0, 0, 0, 1, 1, 1, 0, 0, 0, 1, 0, 0, 1, 1, 1, 1, 0, 1, 1,\n",
       "       1, 1, 0, 1, 1, 0, 0, 0, 1, 1, 1, 1, 1, 0, 0, 1, 1, 1, 1, 0, 1, 1,\n",
       "       0, 0, 0, 1, 1, 1, 1, 1, 0, 0, 0, 0, 0, 0, 1, 0, 0, 1, 1, 0, 1, 1,\n",
       "       0, 0, 1, 1, 1, 1, 1, 0, 1, 1, 0, 1, 0, 0, 1, 1, 0, 1, 1, 1, 1, 1,\n",
       "       1, 1, 1, 1, 1, 1, 1, 1, 1, 1, 1, 1, 1, 1, 1, 1, 1, 0, 0, 1, 0, 1,\n",
       "       0, 0, 1, 1, 0, 0, 1, 1, 1, 1, 1, 0, 0, 1, 0, 1, 1, 0, 0, 1, 0, 0,\n",
       "       1, 0, 0, 0, 0, 0, 0, 1, 1, 1, 1, 1, 1, 0, 0, 0, 1, 0, 1, 1, 1, 0,\n",
       "       1, 1, 1, 1, 1, 1, 1, 0, 1, 1, 1, 0, 1, 0, 0, 1, 0, 0, 0, 1, 1, 0,\n",
       "       1, 1, 1, 1, 0, 1, 0, 0, 1, 0, 1, 0, 1, 1, 1, 0, 0, 0, 0, 1, 0, 0,\n",
       "       1, 0, 0, 1, 0, 1, 0, 0, 0, 0, 0, 1, 0, 0, 1, 0, 1, 1, 1, 1, 1, 0,\n",
       "       0, 0, 0, 0, 0, 1, 1, 1, 1, 0, 0, 1, 1, 1, 1, 0, 1, 0, 1, 1, 0, 1,\n",
       "       0, 1, 0, 1, 1, 0, 0, 1, 1, 1, 1, 0, 1, 1, 0, 0, 1, 1, 1, 1, 1, 0,\n",
       "       1, 1, 1, 0, 1, 1, 0, 0, 1, 0, 1, 1, 0, 1, 1, 0, 1, 0, 1, 1, 1, 1,\n",
       "       1, 0, 0, 1, 1, 1, 1, 0, 0, 0, 0, 0, 1, 0, 0, 0, 1, 0, 0, 1, 1, 1,\n",
       "       0, 1, 0, 1, 0, 0, 1, 0, 1, 0, 1, 0, 1, 0, 1, 0, 1, 1, 1, 0, 1, 0,\n",
       "       1, 1, 1, 1, 1, 0, 0, 1, 0, 0, 1, 1, 1, 0, 1, 0, 0, 1, 1, 0, 0, 1,\n",
       "       0, 1, 1, 1, 1, 1, 0, 0, 1, 1, 1, 1, 0, 1, 1, 0, 1, 0, 0, 0, 0, 1,\n",
       "       1, 0, 0, 1, 1, 1, 1, 1, 0, 1, 0, 1, 1, 0, 0, 1, 0, 0, 1, 1, 1, 1,\n",
       "       1, 1, 1, 1, 1, 0, 0, 0, 1, 1, 1, 1, 1, 0, 1, 1, 1, 1, 0, 0, 0, 1,\n",
       "       0, 1, 0, 0, 0, 0, 1, 0, 0, 1, 1, 0, 0, 1, 0, 1, 0, 1, 0, 1, 1, 1,\n",
       "       0, 1, 1, 0, 1, 1, 0, 1, 0, 1, 0, 1, 1, 1, 0, 1, 1, 1, 0, 1, 1, 1,\n",
       "       0, 1, 0, 0, 0, 0, 1, 1, 0, 1, 0, 1, 1, 0, 1, 0, 0, 0, 0, 0, 1, 0,\n",
       "       0, 1, 1, 1, 0, 1, 1, 1, 1, 0, 0, 1, 1, 0, 0, 1, 1, 1, 0, 1, 1, 1,\n",
       "       1, 1, 0, 0, 0, 0, 0, 1, 0, 1, 0, 1, 0, 1, 0, 1, 1, 1, 0, 1, 0, 1,\n",
       "       1, 1, 0, 0, 1, 0, 1, 1, 1, 1, 1, 1, 1, 1, 1, 1, 1, 1, 0, 1, 0, 1,\n",
       "       1, 1, 0, 1, 0, 1, 1, 1, 1, 0, 0, 1, 1, 1, 1, 1, 1, 1, 1, 1, 1, 0,\n",
       "       0, 0, 1, 1, 1, 1, 0, 1, 0, 1, 1, 1, 1, 0, 1, 1, 0, 0, 1, 1, 0, 1,\n",
       "       1, 1, 1, 0, 1, 0, 1, 1, 0, 1, 1, 0, 1, 1, 0, 1, 1, 1, 1, 1, 1, 1,\n",
       "       1, 1, 1, 1, 1, 1, 1, 0, 1, 0, 1, 0, 1, 1, 1, 1, 1, 1, 1, 1, 0, 1,\n",
       "       1, 1, 1, 0, 1, 0, 0, 0, 0, 0, 0, 1, 1, 1, 1, 1, 1, 0, 1, 1, 0, 1,\n",
       "       1, 1, 0, 1, 0, 0, 0, 0, 0, 1, 1, 0, 0, 0, 1, 1, 1, 0, 1, 1, 1, 1,\n",
       "       1, 1, 1, 1, 1, 1, 1, 1, 1, 1, 0, 1, 0, 1, 1, 1, 0, 0, 0, 0, 0, 1,\n",
       "       1, 0, 0, 0, 0, 1, 0, 1, 0, 0, 0, 0, 0, 1, 1, 1, 0, 1, 1, 0, 0, 0,\n",
       "       1, 1, 1, 0, 1, 0, 1, 1, 1, 0, 0, 1, 1, 0, 0, 0, 0, 0, 1, 1, 1, 0,\n",
       "       1, 1, 0, 1, 0, 1, 0, 1, 0, 0, 0, 0, 0, 1, 1, 1, 0, 0, 1, 0, 0, 0,\n",
       "       0, 0, 0, 0, 0, 0, 0, 0, 1, 1, 1, 0, 0, 0, 0, 0, 1, 0, 1, 0],\n",
       "      dtype=int32)"
      ]
     },
     "execution_count": 7,
     "metadata": {},
     "output_type": "execute_result"
    }
   ],
   "source": [
    "identified_clusters = kmeans.fit_predict(X)\n",
    "identified_clusters"
   ]
  },
  {
   "cell_type": "code",
   "execution_count": 9,
   "id": "78002c54-bc86-4af7-8fa3-8dabbfb45fca",
   "metadata": {
    "execution": {
     "iopub.execute_input": "2022-10-10T13:11:55.857747Z",
     "iopub.status.busy": "2022-10-10T13:11:55.857144Z",
     "iopub.status.idle": "2022-10-10T13:11:55.864960Z",
     "shell.execute_reply": "2022-10-10T13:11:55.863904Z",
     "shell.execute_reply.started": "2022-10-10T13:11:55.857691Z"
    },
    "tags": []
   },
   "outputs": [],
   "source": [
    "data_with_clusters = df.copy()\n",
    "data_with_clusters['Clusters'] = identified_clusters"
   ]
  },
  {
   "cell_type": "code",
   "execution_count": 10,
   "id": "640a0380-e22c-4645-8bd5-94e4ed33e951",
   "metadata": {
    "execution": {
     "iopub.execute_input": "2022-10-10T13:11:56.985843Z",
     "iopub.status.busy": "2022-10-10T13:11:56.985244Z",
     "iopub.status.idle": "2022-10-10T13:11:57.475182Z",
     "shell.execute_reply": "2022-10-10T13:11:57.474498Z",
     "shell.execute_reply.started": "2022-10-10T13:11:56.985774Z"
    },
    "tags": []
   },
   "outputs": [
    {
     "data": {
      "text/plain": [
       "<matplotlib.collections.PathCollection at 0x7ff02874fe20>"
      ]
     },
     "execution_count": 10,
     "metadata": {},
     "output_type": "execute_result"
    },
    {
     "data": {
      "image/png": "[encoded data removed]",
      "text/plain": [
       "<Figure size 432x288 with 1 Axes>"
      ]
     },
     "metadata": {},
     "output_type": "display_data"
    }
   ],
   "source": [
    "plt.scatter(data_with_clusters['age'],data_with_clusters['income'],c=data_with_clusters['Clusters'],cmap='rainbow')"
   ]
  },
  {
   "cell_type": "code",
   "execution_count": 11,
   "id": "036388d5-1b5a-4d36-8985-1cc114ff82d1",
   "metadata": {
    "execution": {
     "iopub.execute_input": "2022-10-10T13:12:35.158826Z",
     "iopub.status.busy": "2022-10-10T13:12:35.158141Z",
     "iopub.status.idle": "2022-10-10T13:12:35.192266Z",
     "shell.execute_reply": "2022-10-10T13:12:35.191119Z",
     "shell.execute_reply.started": "2022-10-10T13:12:35.158750Z"
    },
    "tags": []
   },
   "outputs": [
    {
     "data": {
      "text/html": [
       "<div>\n",
       "<style scoped>\n",
       "    .dataframe tbody tr th:only-of-type {\n",
       "        vertical-align: middle;\n",
       "    }\n",
       "\n",
       "    .dataframe tbody tr th {\n",
       "        vertical-align: top;\n",
       "    }\n",
       "\n",
       "    .dataframe thead th {\n",
       "        text-align: right;\n",
       "    }\n",
       "</style>\n",
       "<table border=\"1\" class=\"dataframe\">\n",
       "  <thead>\n",
       "    <tr style=\"text-align: right;\">\n",
       "      <th></th>\n",
       "      <th>gender</th>\n",
       "      <th>income</th>\n",
       "      <th>criminals</th>\n",
       "      <th>diffrace</th>\n",
       "      <th>leftwings</th>\n",
       "      <th>alcoholics</th>\n",
       "      <th>rightwings</th>\n",
       "      <th>manykids</th>\n",
       "      <th>neurotics</th>\n",
       "      <th>muslims</th>\n",
       "      <th>imigrants</th>\n",
       "      <th>aids</th>\n",
       "      <th>addicts</th>\n",
       "      <th>homoseksuals</th>\n",
       "      <th>jews</th>\n",
       "      <th>gypsies</th>\n",
       "      <th>age</th>\n",
       "      <th>edu</th>\n",
       "      <th>id</th>\n",
       "    </tr>\n",
       "    <tr>\n",
       "      <th>Clusters</th>\n",
       "      <th></th>\n",
       "      <th></th>\n",
       "      <th></th>\n",
       "      <th></th>\n",
       "      <th></th>\n",
       "      <th></th>\n",
       "      <th></th>\n",
       "      <th></th>\n",
       "      <th></th>\n",
       "      <th></th>\n",
       "      <th></th>\n",
       "      <th></th>\n",
       "      <th></th>\n",
       "      <th></th>\n",
       "      <th></th>\n",
       "      <th></th>\n",
       "      <th></th>\n",
       "      <th></th>\n",
       "      <th></th>\n",
       "    </tr>\n",
       "  </thead>\n",
       "  <tbody>\n",
       "    <tr>\n",
       "      <th>0</th>\n",
       "      <td>1.514139</td>\n",
       "      <td>387849.508997</td>\n",
       "      <td>0.622108</td>\n",
       "      <td>0.151671</td>\n",
       "      <td>0.143959</td>\n",
       "      <td>0.773779</td>\n",
       "      <td>0.254499</td>\n",
       "      <td>0.066838</td>\n",
       "      <td>0.236504</td>\n",
       "      <td>0.290488</td>\n",
       "      <td>0.190231</td>\n",
       "      <td>0.110540</td>\n",
       "      <td>0.958869</td>\n",
       "      <td>0.164524</td>\n",
       "      <td>0.048843</td>\n",
       "      <td>0.277635</td>\n",
       "      <td>45.650386</td>\n",
       "      <td>1.676093</td>\n",
       "      <td>442.449871</td>\n",
       "    </tr>\n",
       "    <tr>\n",
       "      <th>1</th>\n",
       "      <td>1.491194</td>\n",
       "      <td>383076.060665</td>\n",
       "      <td>0.060665</td>\n",
       "      <td>0.007828</td>\n",
       "      <td>0.048924</td>\n",
       "      <td>0.041096</td>\n",
       "      <td>0.178082</td>\n",
       "      <td>0.015656</td>\n",
       "      <td>0.070450</td>\n",
       "      <td>0.058708</td>\n",
       "      <td>0.039139</td>\n",
       "      <td>0.011742</td>\n",
       "      <td>0.313112</td>\n",
       "      <td>0.007828</td>\n",
       "      <td>0.003914</td>\n",
       "      <td>0.052838</td>\n",
       "      <td>45.524462</td>\n",
       "      <td>1.645793</td>\n",
       "      <td>456.628180</td>\n",
       "    </tr>\n",
       "  </tbody>\n",
       "</table>\n",
       "</div>"
      ],
      "text/plain": [
       "            gender         income  criminals  diffrace  leftwings  alcoholics  \\\n",
       "Clusters                                                                        \n",
       "0         1.514139  387849.508997   0.622108  0.151671   0.143959    0.773779   \n",
       "1         1.491194  383076.060665   0.060665  0.007828   0.048924    0.041096   \n",
       "\n",
       "          rightwings  manykids  neurotics   muslims  imigrants      aids  \\\n",
       "Clusters                                                                   \n",
       "0           0.254499  0.066838   0.236504  0.290488   0.190231  0.110540   \n",
       "1           0.178082  0.015656   0.070450  0.058708   0.039139  0.011742   \n",
       "\n",
       "           addicts  homoseksuals      jews   gypsies        age       edu  \\\n",
       "Clusters                                                                    \n",
       "0         0.958869      0.164524  0.048843  0.277635  45.650386  1.676093   \n",
       "1         0.313112      0.007828  0.003914  0.052838  45.524462  1.645793   \n",
       "\n",
       "                  id  \n",
       "Clusters              \n",
       "0         442.449871  \n",
       "1         456.628180  "
      ]
     },
     "execution_count": 11,
     "metadata": {},
     "output_type": "execute_result"
    }
   ],
   "source": [
    "data_with_clusters.groupby(['Clusters'])['id'].count()\n",
    "data_with_clusters.groupby(['Clusters']).mean()"
   ]
  },
  {
   "cell_type": "markdown",
   "id": "e8d76e37-f57f-4165-99a8-1f793467fe97",
   "metadata": {},
   "source": [
    "Hurtig note om WCSS - det står for \"Within-cluster sum of squares\" og er den varians der opstår i en klynge"
   ]
  },
  {
   "cell_type": "code",
   "execution_count": 12,
   "id": "c8ab8812-2ec7-4519-b6e3-3881596dcc20",
   "metadata": {
    "execution": {
     "iopub.execute_input": "2022-10-10T13:16:59.557254Z",
     "iopub.status.busy": "2022-10-10T13:16:59.556618Z",
     "iopub.status.idle": "2022-10-10T13:17:12.367890Z",
     "shell.execute_reply": "2022-10-10T13:17:12.366307Z",
     "shell.execute_reply.started": "2022-10-10T13:16:59.557199Z"
    },
    "tags": []
   },
   "outputs": [],
   "source": [
    "wcss=[]\n",
    "for i in range(1,9):\n",
    "    kmeans = KMeans(i)\n",
    "    kmeans.fit(X)\n",
    "    wcss_iter = kmeans.inertia_\n",
    "    wcss.append(wcss_iter)\n",
    "\n"
   ]
  },
  {
   "cell_type": "code",
   "execution_count": 13,
   "id": "6897419c-8a86-40ac-bb73-447ee506a0d8",
   "metadata": {
    "execution": {
     "iopub.execute_input": "2022-10-10T13:17:23.242187Z",
     "iopub.status.busy": "2022-10-10T13:17:23.241703Z",
     "iopub.status.idle": "2022-10-10T13:17:23.402653Z",
     "shell.execute_reply": "2022-10-10T13:17:23.402003Z",
     "shell.execute_reply.started": "2022-10-10T13:17:23.242136Z"
    },
    "tags": []
   },
   "outputs": [
    {
     "data": {
      "text/plain": [
       "Text(0, 0.5, 'WCSS')"
      ]
     },
     "execution_count": 13,
     "metadata": {},
     "output_type": "execute_result"
    },
    {
     "data": {
      "image/png": "[encoded data removed]",
      "text/plain": [
       "<Figure size 432x288 with 1 Axes>"
      ]
     },
     "metadata": {},
     "output_type": "display_data"
    }
   ],
   "source": [
    "number_clusters = range(1,9)\n",
    "plt.plot(number_clusters,wcss)\n",
    "plt.title('Albuen der hjælper os')\n",
    "plt.xlabel('Antallet af klynger')\n",
    "plt.ylabel('WCSS')"
   ]
  },
  {
   "cell_type": "code",
   "execution_count": 14,
   "id": "e33f94d0-5a9c-4937-a1a8-56e0b077f13a",
   "metadata": {
    "execution": {
     "iopub.execute_input": "2022-10-10T13:18:44.935227Z",
     "iopub.status.busy": "2022-10-10T13:18:44.934663Z",
     "iopub.status.idle": "2022-10-10T13:18:48.112403Z",
     "shell.execute_reply": "2022-10-10T13:18:48.111679Z",
     "shell.execute_reply.started": "2022-10-10T13:18:44.935174Z"
    },
    "tags": []
   },
   "outputs": [
    {
     "data": {
      "text/plain": [
       "<matplotlib.collections.PathCollection at 0x7fed51537f10>"
      ]
     },
     "execution_count": 14,
     "metadata": {},
     "output_type": "execute_result"
    },
    {
     "data": {
      "image/png": "[encoded data removed]",
      "text/plain": [
       "<Figure size 432x288 with 1 Axes>"
      ]
     },
     "metadata": {},
     "output_type": "display_data"
    }
   ],
   "source": [
    "kmeans = KMeans(4)\n",
    "kmeans.fit(X)\n",
    "identified_clusters = kmeans.fit_predict(X)\n",
    "data_with_clusters = df.copy()\n",
    "data_with_clusters['Clusters'] = identified_clusters\n",
    "plt.scatter(data_with_clusters['age'],data_with_clusters['income'],c=data_with_clusters['Clusters'],cmap='rainbow')"
   ]
  },
  {
   "cell_type": "code",
   "execution_count": 15,
   "id": "4829f8dc-c709-4b96-8181-ef17f915d529",
   "metadata": {
    "execution": {
     "iopub.execute_input": "2022-10-10T13:19:04.519121Z",
     "iopub.status.busy": "2022-10-10T13:19:04.518517Z",
     "iopub.status.idle": "2022-10-10T13:19:04.546864Z",
     "shell.execute_reply": "2022-10-10T13:19:04.546258Z",
     "shell.execute_reply.started": "2022-10-10T13:19:04.519066Z"
    },
    "tags": []
   },
   "outputs": [
    {
     "data": {
      "text/html": [
       "<div>\n",
       "<style scoped>\n",
       "    .dataframe tbody tr th:only-of-type {\n",
       "        vertical-align: middle;\n",
       "    }\n",
       "\n",
       "    .dataframe tbody tr th {\n",
       "        vertical-align: top;\n",
       "    }\n",
       "\n",
       "    .dataframe thead th {\n",
       "        text-align: right;\n",
       "    }\n",
       "</style>\n",
       "<table border=\"1\" class=\"dataframe\">\n",
       "  <thead>\n",
       "    <tr style=\"text-align: right;\">\n",
       "      <th></th>\n",
       "      <th>gender</th>\n",
       "      <th>income</th>\n",
       "      <th>criminals</th>\n",
       "      <th>diffrace</th>\n",
       "      <th>leftwings</th>\n",
       "      <th>alcoholics</th>\n",
       "      <th>rightwings</th>\n",
       "      <th>manykids</th>\n",
       "      <th>neurotics</th>\n",
       "      <th>muslims</th>\n",
       "      <th>imigrants</th>\n",
       "      <th>aids</th>\n",
       "      <th>addicts</th>\n",
       "      <th>homoseksuals</th>\n",
       "      <th>jews</th>\n",
       "      <th>gypsies</th>\n",
       "      <th>age</th>\n",
       "      <th>edu</th>\n",
       "      <th>id</th>\n",
       "    </tr>\n",
       "    <tr>\n",
       "      <th>Clusters</th>\n",
       "      <th></th>\n",
       "      <th></th>\n",
       "      <th></th>\n",
       "      <th></th>\n",
       "      <th></th>\n",
       "      <th></th>\n",
       "      <th></th>\n",
       "      <th></th>\n",
       "      <th></th>\n",
       "      <th></th>\n",
       "      <th></th>\n",
       "      <th></th>\n",
       "      <th></th>\n",
       "      <th></th>\n",
       "      <th></th>\n",
       "      <th></th>\n",
       "      <th></th>\n",
       "      <th></th>\n",
       "      <th></th>\n",
       "    </tr>\n",
       "  </thead>\n",
       "  <tbody>\n",
       "    <tr>\n",
       "      <th>0</th>\n",
       "      <td>1.508264</td>\n",
       "      <td>423562.227273</td>\n",
       "      <td>0.450413</td>\n",
       "      <td>0.008264</td>\n",
       "      <td>0.066116</td>\n",
       "      <td>1.000000</td>\n",
       "      <td>0.256198</td>\n",
       "      <td>0.037190</td>\n",
       "      <td>0.223140</td>\n",
       "      <td>0.099174</td>\n",
       "      <td>0.033058</td>\n",
       "      <td>0.066116</td>\n",
       "      <td>0.913223</td>\n",
       "      <td>0.066116</td>\n",
       "      <td>0.008264</td>\n",
       "      <td>0.157025</td>\n",
       "      <td>42.938017</td>\n",
       "      <td>1.917355</td>\n",
       "      <td>443.289256</td>\n",
       "    </tr>\n",
       "    <tr>\n",
       "      <th>1</th>\n",
       "      <td>1.525424</td>\n",
       "      <td>382922.457627</td>\n",
       "      <td>0.288136</td>\n",
       "      <td>0.016949</td>\n",
       "      <td>0.080508</td>\n",
       "      <td>0.000000</td>\n",
       "      <td>0.271186</td>\n",
       "      <td>0.004237</td>\n",
       "      <td>0.122881</td>\n",
       "      <td>0.105932</td>\n",
       "      <td>0.076271</td>\n",
       "      <td>0.016949</td>\n",
       "      <td>1.000000</td>\n",
       "      <td>0.038136</td>\n",
       "      <td>0.000000</td>\n",
       "      <td>0.110169</td>\n",
       "      <td>41.724576</td>\n",
       "      <td>1.673729</td>\n",
       "      <td>435.127119</td>\n",
       "    </tr>\n",
       "    <tr>\n",
       "      <th>2</th>\n",
       "      <td>1.448718</td>\n",
       "      <td>315511.538462</td>\n",
       "      <td>0.820513</td>\n",
       "      <td>0.679487</td>\n",
       "      <td>0.423077</td>\n",
       "      <td>0.858974</td>\n",
       "      <td>0.333333</td>\n",
       "      <td>0.217949</td>\n",
       "      <td>0.423077</td>\n",
       "      <td>0.974359</td>\n",
       "      <td>0.730769</td>\n",
       "      <td>0.333333</td>\n",
       "      <td>0.974359</td>\n",
       "      <td>0.538462</td>\n",
       "      <td>0.217949</td>\n",
       "      <td>0.692308</td>\n",
       "      <td>54.923077</td>\n",
       "      <td>1.115385</td>\n",
       "      <td>483.551282</td>\n",
       "    </tr>\n",
       "    <tr>\n",
       "      <th>3</th>\n",
       "      <td>1.491279</td>\n",
       "      <td>375417.636628</td>\n",
       "      <td>0.093023</td>\n",
       "      <td>0.011628</td>\n",
       "      <td>0.037791</td>\n",
       "      <td>0.037791</td>\n",
       "      <td>0.110465</td>\n",
       "      <td>0.020349</td>\n",
       "      <td>0.034884</td>\n",
       "      <td>0.052326</td>\n",
       "      <td>0.031977</td>\n",
       "      <td>0.008721</td>\n",
       "      <td>0.000000</td>\n",
       "      <td>0.002907</td>\n",
       "      <td>0.005814</td>\n",
       "      <td>0.049419</td>\n",
       "      <td>47.962209</td>\n",
       "      <td>1.590116</td>\n",
       "      <td>458.625000</td>\n",
       "    </tr>\n",
       "  </tbody>\n",
       "</table>\n",
       "</div>"
      ],
      "text/plain": [
       "            gender         income  criminals  diffrace  leftwings  alcoholics  \\\n",
       "Clusters                                                                        \n",
       "0         1.508264  423562.227273   0.450413  0.008264   0.066116    1.000000   \n",
       "1         1.525424  382922.457627   0.288136  0.016949   0.080508    0.000000   \n",
       "2         1.448718  315511.538462   0.820513  0.679487   0.423077    0.858974   \n",
       "3         1.491279  375417.636628   0.093023  0.011628   0.037791    0.037791   \n",
       "\n",
       "          rightwings  manykids  neurotics   muslims  imigrants      aids  \\\n",
       "Clusters                                                                   \n",
       "0           0.256198  0.037190   0.223140  0.099174   0.033058  0.066116   \n",
       "1           0.271186  0.004237   0.122881  0.105932   0.076271  0.016949   \n",
       "2           0.333333  0.217949   0.423077  0.974359   0.730769  0.333333   \n",
       "3           0.110465  0.020349   0.034884  0.052326   0.031977  0.008721   \n",
       "\n",
       "           addicts  homoseksuals      jews   gypsies        age       edu  \\\n",
       "Clusters                                                                    \n",
       "0         0.913223      0.066116  0.008264  0.157025  42.938017  1.917355   \n",
       "1         1.000000      0.038136  0.000000  0.110169  41.724576  1.673729   \n",
       "2         0.974359      0.538462  0.217949  0.692308  54.923077  1.115385   \n",
       "3         0.000000      0.002907  0.005814  0.049419  47.962209  1.590116   \n",
       "\n",
       "                  id  \n",
       "Clusters              \n",
       "0         443.289256  \n",
       "1         435.127119  \n",
       "2         483.551282  \n",
       "3         458.625000  "
      ]
     },
     "execution_count": 15,
     "metadata": {},
     "output_type": "execute_result"
    }
   ],
   "source": [
    "data_with_clusters.groupby(['Clusters'])['id'].count()\n",
    "data_with_clusters.groupby(['Clusters']).mean()"
   ]
  },
  {
   "cell_type": "code",
   "execution_count": 17,
   "id": "db6252df-c312-4a36-8bdb-92ba870229b3",
   "metadata": {
    "execution": {
     "iopub.execute_input": "2022-10-10T13:38:13.826489Z",
     "iopub.status.busy": "2022-10-10T13:38:13.825993Z",
     "iopub.status.idle": "2022-10-10T13:38:13.833788Z",
     "shell.execute_reply": "2022-10-10T13:38:13.832631Z",
     "shell.execute_reply.started": "2022-10-10T13:38:13.826435Z"
    },
    "tags": []
   },
   "outputs": [],
   "source": [
    "from sklearn.datasets import load_breast_cancer\n",
    "import numpy as np\n",
    "import pandas as pd\n",
    "from sklearn.preprocessing import StandardScaler\n",
    "from sklearn.decomposition import PCA\n",
    "import matplotlib.pyplot as plt"
   ]
  },
  {
   "cell_type": "code",
   "execution_count": 18,
   "id": "d0e4d7fc-1ea5-4450-8c3b-b304c59c1619",
   "metadata": {
    "execution": {
     "iopub.execute_input": "2022-10-10T13:38:45.795870Z",
     "iopub.status.busy": "2022-10-10T13:38:45.795380Z",
     "iopub.status.idle": "2022-10-10T13:38:45.813069Z",
     "shell.execute_reply": "2022-10-10T13:38:45.812353Z",
     "shell.execute_reply.started": "2022-10-10T13:38:45.795817Z"
    },
    "tags": []
   },
   "outputs": [],
   "source": [
    "breast = load_breast_cancer()\n",
    "breast_data = breast.data\n",
    "breast_labels = breast.target"
   ]
  },
  {
   "cell_type": "code",
   "execution_count": 20,
   "id": "16f15d31-d24e-4698-b70b-054c49a7a56f",
   "metadata": {
    "execution": {
     "iopub.execute_input": "2022-10-10T13:41:17.806972Z",
     "iopub.status.busy": "2022-10-10T13:41:17.806212Z",
     "iopub.status.idle": "2022-10-10T13:41:17.816269Z",
     "shell.execute_reply": "2022-10-10T13:41:17.815139Z",
     "shell.execute_reply.started": "2022-10-10T13:41:17.806885Z"
    },
    "tags": []
   },
   "outputs": [
    {
     "data": {
      "text/plain": [
       "(569, 30)"
      ]
     },
     "execution_count": 20,
     "metadata": {},
     "output_type": "execute_result"
    }
   ],
   "source": [
    "breast_data.shape"
   ]
  },
  {
   "cell_type": "code",
   "execution_count": 21,
   "id": "1dc8bbb6-5427-444b-b651-c34b715982b2",
   "metadata": {
    "execution": {
     "iopub.execute_input": "2022-10-10T13:41:32.231192Z",
     "iopub.status.busy": "2022-10-10T13:41:32.230159Z",
     "iopub.status.idle": "2022-10-10T13:41:32.238785Z",
     "shell.execute_reply": "2022-10-10T13:41:32.237636Z",
     "shell.execute_reply.started": "2022-10-10T13:41:32.231134Z"
    },
    "tags": []
   },
   "outputs": [
    {
     "data": {
      "text/plain": [
       "(569,)"
      ]
     },
     "execution_count": 21,
     "metadata": {},
     "output_type": "execute_result"
    }
   ],
   "source": [
    "breast_labels.shape"
   ]
  },
  {
   "cell_type": "code",
   "execution_count": 22,
   "id": "d03e94e0-bcc9-4421-af4e-b0068c82c1fe",
   "metadata": {
    "execution": {
     "iopub.execute_input": "2022-10-10T13:41:57.971714Z",
     "iopub.status.busy": "2022-10-10T13:41:57.971109Z",
     "iopub.status.idle": "2022-10-10T13:41:57.978926Z",
     "shell.execute_reply": "2022-10-10T13:41:57.977411Z",
     "shell.execute_reply.started": "2022-10-10T13:41:57.971655Z"
    },
    "tags": []
   },
   "outputs": [],
   "source": [
    "labels = np.reshape(breast_labels,(569,1))"
   ]
  },
  {
   "cell_type": "code",
   "execution_count": 23,
   "id": "09dd993e-61f6-4bab-8528-77fdda3ac153",
   "metadata": {
    "execution": {
     "iopub.execute_input": "2022-10-10T13:42:00.970242Z",
     "iopub.status.busy": "2022-10-10T13:42:00.969623Z",
     "iopub.status.idle": "2022-10-10T13:42:00.977090Z",
     "shell.execute_reply": "2022-10-10T13:42:00.975718Z",
     "shell.execute_reply.started": "2022-10-10T13:42:00.970182Z"
    },
    "tags": []
   },
   "outputs": [],
   "source": [
    "final_breast_data = np.concatenate([breast_data,labels],axis=1)"
   ]
  },
  {
   "cell_type": "code",
   "execution_count": 24,
   "id": "dab76269-d32a-48ea-b662-442348fb2e50",
   "metadata": {
    "execution": {
     "iopub.execute_input": "2022-10-10T13:42:56.237055Z",
     "iopub.status.busy": "2022-10-10T13:42:56.235957Z",
     "iopub.status.idle": "2022-10-10T13:42:56.245353Z",
     "shell.execute_reply": "2022-10-10T13:42:56.244162Z",
     "shell.execute_reply.started": "2022-10-10T13:42:56.236990Z"
    },
    "tags": []
   },
   "outputs": [
    {
     "data": {
      "text/plain": [
       "(569, 31)"
      ]
     },
     "execution_count": 24,
     "metadata": {},
     "output_type": "execute_result"
    }
   ],
   "source": [
    "final_breast_data.shape"
   ]
  },
  {
   "cell_type": "code",
   "execution_count": 25,
   "id": "e7771ada-f52a-49c7-9703-b52bbe0c8817",
   "metadata": {
    "execution": {
     "iopub.execute_input": "2022-10-10T13:43:29.686362Z",
     "iopub.status.busy": "2022-10-10T13:43:29.685879Z",
     "iopub.status.idle": "2022-10-10T13:43:29.692565Z",
     "shell.execute_reply": "2022-10-10T13:43:29.691541Z",
     "shell.execute_reply.started": "2022-10-10T13:43:29.686311Z"
    },
    "tags": []
   },
   "outputs": [],
   "source": [
    "breast_dataset = pd.DataFrame(final_breast_data)"
   ]
  },
  {
   "cell_type": "code",
   "execution_count": 27,
   "id": "efdfc6c7-1901-424a-9fec-7d593fb93665",
   "metadata": {
    "execution": {
     "iopub.execute_input": "2022-10-10T13:44:31.520166Z",
     "iopub.status.busy": "2022-10-10T13:44:31.519660Z",
     "iopub.status.idle": "2022-10-10T13:44:31.525995Z",
     "shell.execute_reply": "2022-10-10T13:44:31.524911Z",
     "shell.execute_reply.started": "2022-10-10T13:44:31.520111Z"
    },
    "tags": []
   },
   "outputs": [],
   "source": [
    "features = breast.feature_names"
   ]
  },
  {
   "cell_type": "code",
   "execution_count": 28,
   "id": "829d3576-06d6-48c3-88b9-c4c8238ad875",
   "metadata": {
    "execution": {
     "iopub.execute_input": "2022-10-10T13:44:33.092033Z",
     "iopub.status.busy": "2022-10-10T13:44:33.091342Z",
     "iopub.status.idle": "2022-10-10T13:44:33.099103Z",
     "shell.execute_reply": "2022-10-10T13:44:33.098265Z",
     "shell.execute_reply.started": "2022-10-10T13:44:33.091977Z"
    },
    "tags": []
   },
   "outputs": [
    {
     "data": {
      "text/plain": [
       "array(['mean radius', 'mean texture', 'mean perimeter', 'mean area',\n",
       "       'mean smoothness', 'mean compactness', 'mean concavity',\n",
       "       'mean concave points', 'mean symmetry', 'mean fractal dimension',\n",
       "       'radius error', 'texture error', 'perimeter error', 'area error',\n",
       "       'smoothness error', 'compactness error', 'concavity error',\n",
       "       'concave points error', 'symmetry error',\n",
       "       'fractal dimension error', 'worst radius', 'worst texture',\n",
       "       'worst perimeter', 'worst area', 'worst smoothness',\n",
       "       'worst compactness', 'worst concavity', 'worst concave points',\n",
       "       'worst symmetry', 'worst fractal dimension'], dtype='<U23')"
      ]
     },
     "execution_count": 28,
     "metadata": {},
     "output_type": "execute_result"
    }
   ],
   "source": [
    "features"
   ]
  },
  {
   "cell_type": "code",
   "execution_count": 29,
   "id": "1c7b3b61-d2c6-45c4-9044-d99117756fc4",
   "metadata": {
    "execution": {
     "iopub.execute_input": "2022-10-10T13:44:42.642364Z",
     "iopub.status.busy": "2022-10-10T13:44:42.641610Z",
     "iopub.status.idle": "2022-10-10T13:44:42.649323Z",
     "shell.execute_reply": "2022-10-10T13:44:42.647852Z",
     "shell.execute_reply.started": "2022-10-10T13:44:42.642299Z"
    },
    "tags": []
   },
   "outputs": [],
   "source": [
    "features_labels = np.append(features,'label')"
   ]
  },
  {
   "cell_type": "code",
   "execution_count": 30,
   "id": "197c7e68-84db-41db-9a9a-751b81d4df4f",
   "metadata": {
    "execution": {
     "iopub.execute_input": "2022-10-10T13:44:49.925416Z",
     "iopub.status.busy": "2022-10-10T13:44:49.924823Z",
     "iopub.status.idle": "2022-10-10T13:44:49.931655Z",
     "shell.execute_reply": "2022-10-10T13:44:49.930650Z",
     "shell.execute_reply.started": "2022-10-10T13:44:49.925361Z"
    },
    "tags": []
   },
   "outputs": [],
   "source": [
    "breast_dataset.columns = features_labels"
   ]
  },
  {
   "cell_type": "code",
   "execution_count": 31,
   "id": "c145b52a-0a33-4529-ad66-6c0f6558c5cd",
   "metadata": {
    "execution": {
     "iopub.execute_input": "2022-10-10T13:44:50.872043Z",
     "iopub.status.busy": "2022-10-10T13:44:50.871391Z",
     "iopub.status.idle": "2022-10-10T13:44:50.900692Z",
     "shell.execute_reply": "2022-10-10T13:44:50.900086Z",
     "shell.execute_reply.started": "2022-10-10T13:44:50.871987Z"
    },
    "tags": []
   },
   "outputs": [
    {
     "data": {
      "text/html": [
       "<div>\n",
       "<style scoped>\n",
       "    .dataframe tbody tr th:only-of-type {\n",
       "        vertical-align: middle;\n",
       "    }\n",
       "\n",
       "    .dataframe tbody tr th {\n",
       "        vertical-align: top;\n",
       "    }\n",
       "\n",
       "    .dataframe thead th {\n",
       "        text-align: right;\n",
       "    }\n",
       "</style>\n",
       "<table border=\"1\" class=\"dataframe\">\n",
       "  <thead>\n",
       "    <tr style=\"text-align: right;\">\n",
       "      <th></th>\n",
       "      <th>mean radius</th>\n",
       "      <th>mean texture</th>\n",
       "      <th>mean perimeter</th>\n",
       "      <th>mean area</th>\n",
       "      <th>mean smoothness</th>\n",
       "      <th>mean compactness</th>\n",
       "      <th>mean concavity</th>\n",
       "      <th>mean concave points</th>\n",
       "      <th>mean symmetry</th>\n",
       "      <th>mean fractal dimension</th>\n",
       "      <th>...</th>\n",
       "      <th>worst texture</th>\n",
       "      <th>worst perimeter</th>\n",
       "      <th>worst area</th>\n",
       "      <th>worst smoothness</th>\n",
       "      <th>worst compactness</th>\n",
       "      <th>worst concavity</th>\n",
       "      <th>worst concave points</th>\n",
       "      <th>worst symmetry</th>\n",
       "      <th>worst fractal dimension</th>\n",
       "      <th>label</th>\n",
       "    </tr>\n",
       "  </thead>\n",
       "  <tbody>\n",
       "    <tr>\n",
       "      <th>0</th>\n",
       "      <td>17.99</td>\n",
       "      <td>10.38</td>\n",
       "      <td>122.80</td>\n",
       "      <td>1001.0</td>\n",
       "      <td>0.11840</td>\n",
       "      <td>0.27760</td>\n",
       "      <td>0.3001</td>\n",
       "      <td>0.14710</td>\n",
       "      <td>0.2419</td>\n",
       "      <td>0.07871</td>\n",
       "      <td>...</td>\n",
       "      <td>17.33</td>\n",
       "      <td>184.60</td>\n",
       "      <td>2019.0</td>\n",
       "      <td>0.1622</td>\n",
       "      <td>0.6656</td>\n",
       "      <td>0.7119</td>\n",
       "      <td>0.2654</td>\n",
       "      <td>0.4601</td>\n",
       "      <td>0.11890</td>\n",
       "      <td>0.0</td>\n",
       "    </tr>\n",
       "    <tr>\n",
       "      <th>1</th>\n",
       "      <td>20.57</td>\n",
       "      <td>17.77</td>\n",
       "      <td>132.90</td>\n",
       "      <td>1326.0</td>\n",
       "      <td>0.08474</td>\n",
       "      <td>0.07864</td>\n",
       "      <td>0.0869</td>\n",
       "      <td>0.07017</td>\n",
       "      <td>0.1812</td>\n",
       "      <td>0.05667</td>\n",
       "      <td>...</td>\n",
       "      <td>23.41</td>\n",
       "      <td>158.80</td>\n",
       "      <td>1956.0</td>\n",
       "      <td>0.1238</td>\n",
       "      <td>0.1866</td>\n",
       "      <td>0.2416</td>\n",
       "      <td>0.1860</td>\n",
       "      <td>0.2750</td>\n",
       "      <td>0.08902</td>\n",
       "      <td>0.0</td>\n",
       "    </tr>\n",
       "    <tr>\n",
       "      <th>2</th>\n",
       "      <td>19.69</td>\n",
       "      <td>21.25</td>\n",
       "      <td>130.00</td>\n",
       "      <td>1203.0</td>\n",
       "      <td>0.10960</td>\n",
       "      <td>0.15990</td>\n",
       "      <td>0.1974</td>\n",
       "      <td>0.12790</td>\n",
       "      <td>0.2069</td>\n",
       "      <td>0.05999</td>\n",
       "      <td>...</td>\n",
       "      <td>25.53</td>\n",
       "      <td>152.50</td>\n",
       "      <td>1709.0</td>\n",
       "      <td>0.1444</td>\n",
       "      <td>0.4245</td>\n",
       "      <td>0.4504</td>\n",
       "      <td>0.2430</td>\n",
       "      <td>0.3613</td>\n",
       "      <td>0.08758</td>\n",
       "      <td>0.0</td>\n",
       "    </tr>\n",
       "    <tr>\n",
       "      <th>3</th>\n",
       "      <td>11.42</td>\n",
       "      <td>20.38</td>\n",
       "      <td>77.58</td>\n",
       "      <td>386.1</td>\n",
       "      <td>0.14250</td>\n",
       "      <td>0.28390</td>\n",
       "      <td>0.2414</td>\n",
       "      <td>0.10520</td>\n",
       "      <td>0.2597</td>\n",
       "      <td>0.09744</td>\n",
       "      <td>...</td>\n",
       "      <td>26.50</td>\n",
       "      <td>98.87</td>\n",
       "      <td>567.7</td>\n",
       "      <td>0.2098</td>\n",
       "      <td>0.8663</td>\n",
       "      <td>0.6869</td>\n",
       "      <td>0.2575</td>\n",
       "      <td>0.6638</td>\n",
       "      <td>0.17300</td>\n",
       "      <td>0.0</td>\n",
       "    </tr>\n",
       "    <tr>\n",
       "      <th>4</th>\n",
       "      <td>20.29</td>\n",
       "      <td>14.34</td>\n",
       "      <td>135.10</td>\n",
       "      <td>1297.0</td>\n",
       "      <td>0.10030</td>\n",
       "      <td>0.13280</td>\n",
       "      <td>0.1980</td>\n",
       "      <td>0.10430</td>\n",
       "      <td>0.1809</td>\n",
       "      <td>0.05883</td>\n",
       "      <td>...</td>\n",
       "      <td>16.67</td>\n",
       "      <td>152.20</td>\n",
       "      <td>1575.0</td>\n",
       "      <td>0.1374</td>\n",
       "      <td>0.2050</td>\n",
       "      <td>0.4000</td>\n",
       "      <td>0.1625</td>\n",
       "      <td>0.2364</td>\n",
       "      <td>0.07678</td>\n",
       "      <td>0.0</td>\n",
       "    </tr>\n",
       "  </tbody>\n",
       "</table>\n",
       "<p>5 rows × 31 columns</p>\n",
       "</div>"
      ],
      "text/plain": [
       "   mean radius  mean texture  mean perimeter  mean area  mean smoothness  \\\n",
       "0        17.99         10.38          122.80     1001.0          0.11840   \n",
       "1        20.57         17.77          132.90     1326.0          0.08474   \n",
       "2        19.69         21.25          130.00     1203.0          0.10960   \n",
       "3        11.42         20.38           77.58      386.1          0.14250   \n",
       "4        20.29         14.34          135.10     1297.0          0.10030   \n",
       "\n",
       "   mean compactness  mean concavity  mean concave points  mean symmetry  \\\n",
       "0           0.27760          0.3001              0.14710         0.2419   \n",
       "1           0.07864          0.0869              0.07017         0.1812   \n",
       "2           0.15990          0.1974              0.12790         0.2069   \n",
       "3           0.28390          0.2414              0.10520         0.2597   \n",
       "4           0.13280          0.1980              0.10430         0.1809   \n",
       "\n",
       "   mean fractal dimension  ...  worst texture  worst perimeter  worst area  \\\n",
       "0                 0.07871  ...          17.33           184.60      2019.0   \n",
       "1                 0.05667  ...          23.41           158.80      1956.0   \n",
       "2                 0.05999  ...          25.53           152.50      1709.0   \n",
       "3                 0.09744  ...          26.50            98.87       567.7   \n",
       "4                 0.05883  ...          16.67           152.20      1575.0   \n",
       "\n",
       "   worst smoothness  worst compactness  worst concavity  worst concave points  \\\n",
       "0            0.1622             0.6656           0.7119                0.2654   \n",
       "1            0.1238             0.1866           0.2416                0.1860   \n",
       "2            0.1444             0.4245           0.4504                0.2430   \n",
       "3            0.2098             0.8663           0.6869                0.2575   \n",
       "4            0.1374             0.2050           0.4000                0.1625   \n",
       "\n",
       "   worst symmetry  worst fractal dimension  label  \n",
       "0          0.4601                  0.11890    0.0  \n",
       "1          0.2750                  0.08902    0.0  \n",
       "2          0.3613                  0.08758    0.0  \n",
       "3          0.6638                  0.17300    0.0  \n",
       "4          0.2364                  0.07678    0.0  \n",
       "\n",
       "[5 rows x 31 columns]"
      ]
     },
     "execution_count": 31,
     "metadata": {},
     "output_type": "execute_result"
    }
   ],
   "source": [
    "breast_dataset.head()"
   ]
  },
  {
   "cell_type": "code",
   "execution_count": 32,
   "id": "a1be4f8d-2a97-4fbe-97b0-63d3c8e85541",
   "metadata": {
    "execution": {
     "iopub.execute_input": "2022-10-10T13:45:29.213570Z",
     "iopub.status.busy": "2022-10-10T13:45:29.212970Z",
     "iopub.status.idle": "2022-10-10T13:45:29.223397Z",
     "shell.execute_reply": "2022-10-10T13:45:29.222281Z",
     "shell.execute_reply.started": "2022-10-10T13:45:29.213514Z"
    },
    "tags": []
   },
   "outputs": [],
   "source": [
    "breast_dataset['label'].replace(0, 'Benign',inplace=True)\n",
    "breast_dataset['label'].replace(1, 'Malignant',inplace=True)"
   ]
  },
  {
   "cell_type": "code",
   "execution_count": 33,
   "id": "8b0d280f-6075-4abd-a91a-2ba5bbe737c8",
   "metadata": {
    "execution": {
     "iopub.execute_input": "2022-10-10T13:45:31.240735Z",
     "iopub.status.busy": "2022-10-10T13:45:31.240143Z",
     "iopub.status.idle": "2022-10-10T13:45:31.269339Z",
     "shell.execute_reply": "2022-10-10T13:45:31.268796Z",
     "shell.execute_reply.started": "2022-10-10T13:45:31.240680Z"
    },
    "tags": []
   },
   "outputs": [
    {
     "data": {
      "text/html": [
       "<div>\n",
       "<style scoped>\n",
       "    .dataframe tbody tr th:only-of-type {\n",
       "        vertical-align: middle;\n",
       "    }\n",
       "\n",
       "    .dataframe tbody tr th {\n",
       "        vertical-align: top;\n",
       "    }\n",
       "\n",
       "    .dataframe thead th {\n",
       "        text-align: right;\n",
       "    }\n",
       "</style>\n",
       "<table border=\"1\" class=\"dataframe\">\n",
       "  <thead>\n",
       "    <tr style=\"text-align: right;\">\n",
       "      <th></th>\n",
       "      <th>mean radius</th>\n",
       "      <th>mean texture</th>\n",
       "      <th>mean perimeter</th>\n",
       "      <th>mean area</th>\n",
       "      <th>mean smoothness</th>\n",
       "      <th>mean compactness</th>\n",
       "      <th>mean concavity</th>\n",
       "      <th>mean concave points</th>\n",
       "      <th>mean symmetry</th>\n",
       "      <th>mean fractal dimension</th>\n",
       "      <th>...</th>\n",
       "      <th>worst texture</th>\n",
       "      <th>worst perimeter</th>\n",
       "      <th>worst area</th>\n",
       "      <th>worst smoothness</th>\n",
       "      <th>worst compactness</th>\n",
       "      <th>worst concavity</th>\n",
       "      <th>worst concave points</th>\n",
       "      <th>worst symmetry</th>\n",
       "      <th>worst fractal dimension</th>\n",
       "      <th>label</th>\n",
       "    </tr>\n",
       "  </thead>\n",
       "  <tbody>\n",
       "    <tr>\n",
       "      <th>564</th>\n",
       "      <td>21.56</td>\n",
       "      <td>22.39</td>\n",
       "      <td>142.00</td>\n",
       "      <td>1479.0</td>\n",
       "      <td>0.11100</td>\n",
       "      <td>0.11590</td>\n",
       "      <td>0.24390</td>\n",
       "      <td>0.13890</td>\n",
       "      <td>0.1726</td>\n",
       "      <td>0.05623</td>\n",
       "      <td>...</td>\n",
       "      <td>26.40</td>\n",
       "      <td>166.10</td>\n",
       "      <td>2027.0</td>\n",
       "      <td>0.14100</td>\n",
       "      <td>0.21130</td>\n",
       "      <td>0.4107</td>\n",
       "      <td>0.2216</td>\n",
       "      <td>0.2060</td>\n",
       "      <td>0.07115</td>\n",
       "      <td>Benign</td>\n",
       "    </tr>\n",
       "    <tr>\n",
       "      <th>565</th>\n",
       "      <td>20.13</td>\n",
       "      <td>28.25</td>\n",
       "      <td>131.20</td>\n",
       "      <td>1261.0</td>\n",
       "      <td>0.09780</td>\n",
       "      <td>0.10340</td>\n",
       "      <td>0.14400</td>\n",
       "      <td>0.09791</td>\n",
       "      <td>0.1752</td>\n",
       "      <td>0.05533</td>\n",
       "      <td>...</td>\n",
       "      <td>38.25</td>\n",
       "      <td>155.00</td>\n",
       "      <td>1731.0</td>\n",
       "      <td>0.11660</td>\n",
       "      <td>0.19220</td>\n",
       "      <td>0.3215</td>\n",
       "      <td>0.1628</td>\n",
       "      <td>0.2572</td>\n",
       "      <td>0.06637</td>\n",
       "      <td>Benign</td>\n",
       "    </tr>\n",
       "    <tr>\n",
       "      <th>566</th>\n",
       "      <td>16.60</td>\n",
       "      <td>28.08</td>\n",
       "      <td>108.30</td>\n",
       "      <td>858.1</td>\n",
       "      <td>0.08455</td>\n",
       "      <td>0.10230</td>\n",
       "      <td>0.09251</td>\n",
       "      <td>0.05302</td>\n",
       "      <td>0.1590</td>\n",
       "      <td>0.05648</td>\n",
       "      <td>...</td>\n",
       "      <td>34.12</td>\n",
       "      <td>126.70</td>\n",
       "      <td>1124.0</td>\n",
       "      <td>0.11390</td>\n",
       "      <td>0.30940</td>\n",
       "      <td>0.3403</td>\n",
       "      <td>0.1418</td>\n",
       "      <td>0.2218</td>\n",
       "      <td>0.07820</td>\n",
       "      <td>Benign</td>\n",
       "    </tr>\n",
       "    <tr>\n",
       "      <th>567</th>\n",
       "      <td>20.60</td>\n",
       "      <td>29.33</td>\n",
       "      <td>140.10</td>\n",
       "      <td>1265.0</td>\n",
       "      <td>0.11780</td>\n",
       "      <td>0.27700</td>\n",
       "      <td>0.35140</td>\n",
       "      <td>0.15200</td>\n",
       "      <td>0.2397</td>\n",
       "      <td>0.07016</td>\n",
       "      <td>...</td>\n",
       "      <td>39.42</td>\n",
       "      <td>184.60</td>\n",
       "      <td>1821.0</td>\n",
       "      <td>0.16500</td>\n",
       "      <td>0.86810</td>\n",
       "      <td>0.9387</td>\n",
       "      <td>0.2650</td>\n",
       "      <td>0.4087</td>\n",
       "      <td>0.12400</td>\n",
       "      <td>Benign</td>\n",
       "    </tr>\n",
       "    <tr>\n",
       "      <th>568</th>\n",
       "      <td>7.76</td>\n",
       "      <td>24.54</td>\n",
       "      <td>47.92</td>\n",
       "      <td>181.0</td>\n",
       "      <td>0.05263</td>\n",
       "      <td>0.04362</td>\n",
       "      <td>0.00000</td>\n",
       "      <td>0.00000</td>\n",
       "      <td>0.1587</td>\n",
       "      <td>0.05884</td>\n",
       "      <td>...</td>\n",
       "      <td>30.37</td>\n",
       "      <td>59.16</td>\n",
       "      <td>268.6</td>\n",
       "      <td>0.08996</td>\n",
       "      <td>0.06444</td>\n",
       "      <td>0.0000</td>\n",
       "      <td>0.0000</td>\n",
       "      <td>0.2871</td>\n",
       "      <td>0.07039</td>\n",
       "      <td>Malignant</td>\n",
       "    </tr>\n",
       "  </tbody>\n",
       "</table>\n",
       "<p>5 rows × 31 columns</p>\n",
       "</div>"
      ],
      "text/plain": [
       "     mean radius  mean texture  mean perimeter  mean area  mean smoothness  \\\n",
       "564        21.56         22.39          142.00     1479.0          0.11100   \n",
       "565        20.13         28.25          131.20     1261.0          0.09780   \n",
       "566        16.60         28.08          108.30      858.1          0.08455   \n",
       "567        20.60         29.33          140.10     1265.0          0.11780   \n",
       "568         7.76         24.54           47.92      181.0          0.05263   \n",
       "\n",
       "     mean compactness  mean concavity  mean concave points  mean symmetry  \\\n",
       "564           0.11590         0.24390              0.13890         0.1726   \n",
       "565           0.10340         0.14400              0.09791         0.1752   \n",
       "566           0.10230         0.09251              0.05302         0.1590   \n",
       "567           0.27700         0.35140              0.15200         0.2397   \n",
       "568           0.04362         0.00000              0.00000         0.1587   \n",
       "\n",
       "     mean fractal dimension  ...  worst texture  worst perimeter  worst area  \\\n",
       "564                 0.05623  ...          26.40           166.10      2027.0   \n",
       "565                 0.05533  ...          38.25           155.00      1731.0   \n",
       "566                 0.05648  ...          34.12           126.70      1124.0   \n",
       "567                 0.07016  ...          39.42           184.60      1821.0   \n",
       "568                 0.05884  ...          30.37            59.16       268.6   \n",
       "\n",
       "     worst smoothness  worst compactness  worst concavity  \\\n",
       "564           0.14100            0.21130           0.4107   \n",
       "565           0.11660            0.19220           0.3215   \n",
       "566           0.11390            0.30940           0.3403   \n",
       "567           0.16500            0.86810           0.9387   \n",
       "568           0.08996            0.06444           0.0000   \n",
       "\n",
       "     worst concave points  worst symmetry  worst fractal dimension      label  \n",
       "564                0.2216          0.2060                  0.07115     Benign  \n",
       "565                0.1628          0.2572                  0.06637     Benign  \n",
       "566                0.1418          0.2218                  0.07820     Benign  \n",
       "567                0.2650          0.4087                  0.12400     Benign  \n",
       "568                0.0000          0.2871                  0.07039  Malignant  \n",
       "\n",
       "[5 rows x 31 columns]"
      ]
     },
     "execution_count": 33,
     "metadata": {},
     "output_type": "execute_result"
    }
   ],
   "source": [
    "breast_dataset.tail()"
   ]
  },
  {
   "cell_type": "code",
   "execution_count": 35,
   "id": "d8970b9e-48c8-4ee5-9f5b-4fb734e003ab",
   "metadata": {
    "execution": {
     "iopub.execute_input": "2022-10-10T13:47:10.476414Z",
     "iopub.status.busy": "2022-10-10T13:47:10.475801Z",
     "iopub.status.idle": "2022-10-10T13:47:10.486576Z",
     "shell.execute_reply": "2022-10-10T13:47:10.485556Z",
     "shell.execute_reply.started": "2022-10-10T13:47:10.476360Z"
    },
    "tags": []
   },
   "outputs": [],
   "source": [
    "x = breast_dataset.loc[:, features].values\n",
    "x = StandardScaler().fit_transform(x)"
   ]
  },
  {
   "cell_type": "code",
   "execution_count": 36,
   "id": "1fc5e45a-a32b-4237-b6a1-5937cea8a09d",
   "metadata": {
    "execution": {
     "iopub.execute_input": "2022-10-10T13:47:11.475442Z",
     "iopub.status.busy": "2022-10-10T13:47:11.474858Z",
     "iopub.status.idle": "2022-10-10T13:47:11.727250Z",
     "shell.execute_reply": "2022-10-10T13:47:11.726244Z",
     "shell.execute_reply.started": "2022-10-10T13:47:11.475387Z"
    },
    "tags": []
   },
   "outputs": [
    {
     "data": {
      "text/plain": [
       "(569, 30)"
      ]
     },
     "execution_count": 36,
     "metadata": {},
     "output_type": "execute_result"
    }
   ],
   "source": [
    "x.shape"
   ]
  },
  {
   "cell_type": "code",
   "execution_count": 37,
   "id": "0dfecf9f-d388-43e2-b3df-8a901e99e9e4",
   "metadata": {
    "execution": {
     "iopub.execute_input": "2022-10-10T13:47:16.700009Z",
     "iopub.status.busy": "2022-10-10T13:47:16.699517Z",
     "iopub.status.idle": "2022-10-10T13:47:16.708992Z",
     "shell.execute_reply": "2022-10-10T13:47:16.708049Z",
     "shell.execute_reply.started": "2022-10-10T13:47:16.699957Z"
    },
    "tags": []
   },
   "outputs": [
    {
     "data": {
      "text/plain": [
       "(-6.826538293184326e-17, 1.0)"
      ]
     },
     "execution_count": 37,
     "metadata": {},
     "output_type": "execute_result"
    }
   ],
   "source": [
    "np.mean(x),np.std(x)"
   ]
  },
  {
   "cell_type": "code",
   "execution_count": 38,
   "id": "f63784fa-f74f-486c-9906-6fd220a829d9",
   "metadata": {
    "execution": {
     "iopub.execute_input": "2022-10-10T13:48:00.707359Z",
     "iopub.status.busy": "2022-10-10T13:48:00.706884Z",
     "iopub.status.idle": "2022-10-10T13:48:00.712807Z",
     "shell.execute_reply": "2022-10-10T13:48:00.712058Z",
     "shell.execute_reply.started": "2022-10-10T13:48:00.707317Z"
    },
    "tags": []
   },
   "outputs": [],
   "source": [
    "feat_cols = ['feature'+str(i) for i in range(x.shape[1])]\n",
    "normalised_breast = pd.DataFrame(x,columns=feat_cols)"
   ]
  },
  {
   "cell_type": "code",
   "execution_count": 39,
   "id": "0a5b14bc-c121-4a01-9a78-3aeb6aac954f",
   "metadata": {
    "execution": {
     "iopub.execute_input": "2022-10-10T13:48:32.963482Z",
     "iopub.status.busy": "2022-10-10T13:48:32.963013Z",
     "iopub.status.idle": "2022-10-10T13:48:32.988090Z",
     "shell.execute_reply": "2022-10-10T13:48:32.987325Z",
     "shell.execute_reply.started": "2022-10-10T13:48:32.963451Z"
    },
    "tags": []
   },
   "outputs": [
    {
     "data": {
      "text/html": [
       "<div>\n",
       "<style scoped>\n",
       "    .dataframe tbody tr th:only-of-type {\n",
       "        vertical-align: middle;\n",
       "    }\n",
       "\n",
       "    .dataframe tbody tr th {\n",
       "        vertical-align: top;\n",
       "    }\n",
       "\n",
       "    .dataframe thead th {\n",
       "        text-align: right;\n",
       "    }\n",
       "</style>\n",
       "<table border=\"1\" class=\"dataframe\">\n",
       "  <thead>\n",
       "    <tr style=\"text-align: right;\">\n",
       "      <th></th>\n",
       "      <th>feature0</th>\n",
       "      <th>feature1</th>\n",
       "      <th>feature2</th>\n",
       "      <th>feature3</th>\n",
       "      <th>feature4</th>\n",
       "      <th>feature5</th>\n",
       "      <th>feature6</th>\n",
       "      <th>feature7</th>\n",
       "      <th>feature8</th>\n",
       "      <th>feature9</th>\n",
       "      <th>...</th>\n",
       "      <th>feature20</th>\n",
       "      <th>feature21</th>\n",
       "      <th>feature22</th>\n",
       "      <th>feature23</th>\n",
       "      <th>feature24</th>\n",
       "      <th>feature25</th>\n",
       "      <th>feature26</th>\n",
       "      <th>feature27</th>\n",
       "      <th>feature28</th>\n",
       "      <th>feature29</th>\n",
       "    </tr>\n",
       "  </thead>\n",
       "  <tbody>\n",
       "    <tr>\n",
       "      <th>564</th>\n",
       "      <td>2.110995</td>\n",
       "      <td>0.721473</td>\n",
       "      <td>2.060786</td>\n",
       "      <td>2.343856</td>\n",
       "      <td>1.041842</td>\n",
       "      <td>0.219060</td>\n",
       "      <td>1.947285</td>\n",
       "      <td>2.320965</td>\n",
       "      <td>-0.312589</td>\n",
       "      <td>-0.931027</td>\n",
       "      <td>...</td>\n",
       "      <td>1.901185</td>\n",
       "      <td>0.117700</td>\n",
       "      <td>1.752563</td>\n",
       "      <td>2.015301</td>\n",
       "      <td>0.378365</td>\n",
       "      <td>-0.273318</td>\n",
       "      <td>0.664512</td>\n",
       "      <td>1.629151</td>\n",
       "      <td>-1.360158</td>\n",
       "      <td>-0.709091</td>\n",
       "    </tr>\n",
       "    <tr>\n",
       "      <th>565</th>\n",
       "      <td>1.704854</td>\n",
       "      <td>2.085134</td>\n",
       "      <td>1.615931</td>\n",
       "      <td>1.723842</td>\n",
       "      <td>0.102458</td>\n",
       "      <td>-0.017833</td>\n",
       "      <td>0.693043</td>\n",
       "      <td>1.263669</td>\n",
       "      <td>-0.217664</td>\n",
       "      <td>-1.058611</td>\n",
       "      <td>...</td>\n",
       "      <td>1.536720</td>\n",
       "      <td>2.047399</td>\n",
       "      <td>1.421940</td>\n",
       "      <td>1.494959</td>\n",
       "      <td>-0.691230</td>\n",
       "      <td>-0.394820</td>\n",
       "      <td>0.236573</td>\n",
       "      <td>0.733827</td>\n",
       "      <td>-0.531855</td>\n",
       "      <td>-0.973978</td>\n",
       "    </tr>\n",
       "    <tr>\n",
       "      <th>566</th>\n",
       "      <td>0.702284</td>\n",
       "      <td>2.045574</td>\n",
       "      <td>0.672676</td>\n",
       "      <td>0.577953</td>\n",
       "      <td>-0.840484</td>\n",
       "      <td>-0.038680</td>\n",
       "      <td>0.046588</td>\n",
       "      <td>0.105777</td>\n",
       "      <td>-0.809117</td>\n",
       "      <td>-0.895587</td>\n",
       "      <td>...</td>\n",
       "      <td>0.561361</td>\n",
       "      <td>1.374854</td>\n",
       "      <td>0.579001</td>\n",
       "      <td>0.427906</td>\n",
       "      <td>-0.809587</td>\n",
       "      <td>0.350735</td>\n",
       "      <td>0.326767</td>\n",
       "      <td>0.414069</td>\n",
       "      <td>-1.104549</td>\n",
       "      <td>-0.318409</td>\n",
       "    </tr>\n",
       "    <tr>\n",
       "      <th>567</th>\n",
       "      <td>1.838341</td>\n",
       "      <td>2.336457</td>\n",
       "      <td>1.982524</td>\n",
       "      <td>1.735218</td>\n",
       "      <td>1.525767</td>\n",
       "      <td>3.272144</td>\n",
       "      <td>3.296944</td>\n",
       "      <td>2.658866</td>\n",
       "      <td>2.137194</td>\n",
       "      <td>1.043695</td>\n",
       "      <td>...</td>\n",
       "      <td>1.961239</td>\n",
       "      <td>2.237926</td>\n",
       "      <td>2.303601</td>\n",
       "      <td>1.653171</td>\n",
       "      <td>1.430427</td>\n",
       "      <td>3.904848</td>\n",
       "      <td>3.197605</td>\n",
       "      <td>2.289985</td>\n",
       "      <td>1.919083</td>\n",
       "      <td>2.219635</td>\n",
       "    </tr>\n",
       "    <tr>\n",
       "      <th>568</th>\n",
       "      <td>-1.808401</td>\n",
       "      <td>1.221792</td>\n",
       "      <td>-1.814389</td>\n",
       "      <td>-1.347789</td>\n",
       "      <td>-3.112085</td>\n",
       "      <td>-1.150752</td>\n",
       "      <td>-1.114873</td>\n",
       "      <td>-1.261820</td>\n",
       "      <td>-0.820070</td>\n",
       "      <td>-0.561032</td>\n",
       "      <td>...</td>\n",
       "      <td>-1.410893</td>\n",
       "      <td>0.764190</td>\n",
       "      <td>-1.432735</td>\n",
       "      <td>-1.075813</td>\n",
       "      <td>-1.859019</td>\n",
       "      <td>-1.207552</td>\n",
       "      <td>-1.305831</td>\n",
       "      <td>-1.745063</td>\n",
       "      <td>-0.048138</td>\n",
       "      <td>-0.751207</td>\n",
       "    </tr>\n",
       "  </tbody>\n",
       "</table>\n",
       "<p>5 rows × 30 columns</p>\n",
       "</div>"
      ],
      "text/plain": [
       "     feature0  feature1  feature2  feature3  feature4  feature5  feature6  \\\n",
       "564  2.110995  0.721473  2.060786  2.343856  1.041842  0.219060  1.947285   \n",
       "565  1.704854  2.085134  1.615931  1.723842  0.102458 -0.017833  0.693043   \n",
       "566  0.702284  2.045574  0.672676  0.577953 -0.840484 -0.038680  0.046588   \n",
       "567  1.838341  2.336457  1.982524  1.735218  1.525767  3.272144  3.296944   \n",
       "568 -1.808401  1.221792 -1.814389 -1.347789 -3.112085 -1.150752 -1.114873   \n",
       "\n",
       "     feature7  feature8  feature9  ...  feature20  feature21  feature22  \\\n",
       "564  2.320965 -0.312589 -0.931027  ...   1.901185   0.117700   1.752563   \n",
       "565  1.263669 -0.217664 -1.058611  ...   1.536720   2.047399   1.421940   \n",
       "566  0.105777 -0.809117 -0.895587  ...   0.561361   1.374854   0.579001   \n",
       "567  2.658866  2.137194  1.043695  ...   1.961239   2.237926   2.303601   \n",
       "568 -1.261820 -0.820070 -0.561032  ...  -1.410893   0.764190  -1.432735   \n",
       "\n",
       "     feature23  feature24  feature25  feature26  feature27  feature28  \\\n",
       "564   2.015301   0.378365  -0.273318   0.664512   1.629151  -1.360158   \n",
       "565   1.494959  -0.691230  -0.394820   0.236573   0.733827  -0.531855   \n",
       "566   0.427906  -0.809587   0.350735   0.326767   0.414069  -1.104549   \n",
       "567   1.653171   1.430427   3.904848   3.197605   2.289985   1.919083   \n",
       "568  -1.075813  -1.859019  -1.207552  -1.305831  -1.745063  -0.048138   \n",
       "\n",
       "     feature29  \n",
       "564  -0.709091  \n",
       "565  -0.973978  \n",
       "566  -0.318409  \n",
       "567   2.219635  \n",
       "568  -0.751207  \n",
       "\n",
       "[5 rows x 30 columns]"
      ]
     },
     "execution_count": 39,
     "metadata": {},
     "output_type": "execute_result"
    }
   ],
   "source": [
    "normalised_breast.tail()"
   ]
  },
  {
   "cell_type": "code",
   "execution_count": 40,
   "id": "d2c81842-db8e-4701-ae22-d1d3fefb7abf",
   "metadata": {
    "execution": {
     "iopub.execute_input": "2022-10-10T13:49:40.364211Z",
     "iopub.status.busy": "2022-10-10T13:49:40.363591Z",
     "iopub.status.idle": "2022-10-10T13:49:40.388236Z",
     "shell.execute_reply": "2022-10-10T13:49:40.387617Z",
     "shell.execute_reply.started": "2022-10-10T13:49:40.364155Z"
    },
    "tags": []
   },
   "outputs": [],
   "source": [
    "pca_breast = PCA(n_components=2)\n",
    "principalComponents_breast = pca_breast.fit_transform(x)"
   ]
  },
  {
   "cell_type": "code",
   "execution_count": 41,
   "id": "3d379684-1f84-4095-806f-1040451b4312",
   "metadata": {
    "execution": {
     "iopub.execute_input": "2022-10-10T13:50:03.677306Z",
     "iopub.status.busy": "2022-10-10T13:50:03.676324Z",
     "iopub.status.idle": "2022-10-10T13:50:03.684035Z",
     "shell.execute_reply": "2022-10-10T13:50:03.682849Z",
     "shell.execute_reply.started": "2022-10-10T13:50:03.677248Z"
    },
    "tags": []
   },
   "outputs": [],
   "source": [
    "principal_breast_Df = pd.DataFrame(data = principalComponents_breast\n",
    "             , columns = ['principal component 1', 'principal component 2'])"
   ]
  },
  {
   "cell_type": "code",
   "execution_count": 42,
   "id": "1cbc3753-a81e-49c6-a7fc-fa3941fe51e0",
   "metadata": {
    "execution": {
     "iopub.execute_input": "2022-10-10T13:50:05.417137Z",
     "iopub.status.busy": "2022-10-10T13:50:05.416711Z",
     "iopub.status.idle": "2022-10-10T13:50:05.426557Z",
     "shell.execute_reply": "2022-10-10T13:50:05.425896Z",
     "shell.execute_reply.started": "2022-10-10T13:50:05.417103Z"
    },
    "tags": []
   },
   "outputs": [
    {
     "data": {
      "text/html": [
       "<div>\n",
       "<style scoped>\n",
       "    .dataframe tbody tr th:only-of-type {\n",
       "        vertical-align: middle;\n",
       "    }\n",
       "\n",
       "    .dataframe tbody tr th {\n",
       "        vertical-align: top;\n",
       "    }\n",
       "\n",
       "    .dataframe thead th {\n",
       "        text-align: right;\n",
       "    }\n",
       "</style>\n",
       "<table border=\"1\" class=\"dataframe\">\n",
       "  <thead>\n",
       "    <tr style=\"text-align: right;\">\n",
       "      <th></th>\n",
       "      <th>principal component 1</th>\n",
       "      <th>principal component 2</th>\n",
       "    </tr>\n",
       "  </thead>\n",
       "  <tbody>\n",
       "    <tr>\n",
       "      <th>564</th>\n",
       "      <td>6.439315</td>\n",
       "      <td>-3.576817</td>\n",
       "    </tr>\n",
       "    <tr>\n",
       "      <th>565</th>\n",
       "      <td>3.793382</td>\n",
       "      <td>-3.584048</td>\n",
       "    </tr>\n",
       "    <tr>\n",
       "      <th>566</th>\n",
       "      <td>1.256179</td>\n",
       "      <td>-1.902297</td>\n",
       "    </tr>\n",
       "    <tr>\n",
       "      <th>567</th>\n",
       "      <td>10.374794</td>\n",
       "      <td>1.672010</td>\n",
       "    </tr>\n",
       "    <tr>\n",
       "      <th>568</th>\n",
       "      <td>-5.475243</td>\n",
       "      <td>-0.670637</td>\n",
       "    </tr>\n",
       "  </tbody>\n",
       "</table>\n",
       "</div>"
      ],
      "text/plain": [
       "     principal component 1  principal component 2\n",
       "564               6.439315              -3.576817\n",
       "565               3.793382              -3.584048\n",
       "566               1.256179              -1.902297\n",
       "567              10.374794               1.672010\n",
       "568              -5.475243              -0.670637"
      ]
     },
     "execution_count": 42,
     "metadata": {},
     "output_type": "execute_result"
    }
   ],
   "source": [
    "principal_breast_Df.tail()"
   ]
  },
  {
   "cell_type": "code",
   "execution_count": 43,
   "id": "b684cfc0-56f3-43a4-b464-8098cc44c675",
   "metadata": {
    "execution": {
     "iopub.execute_input": "2022-10-10T13:50:44.989509Z",
     "iopub.status.busy": "2022-10-10T13:50:44.989024Z",
     "iopub.status.idle": "2022-10-10T13:50:44.998008Z",
     "shell.execute_reply": "2022-10-10T13:50:44.996763Z",
     "shell.execute_reply.started": "2022-10-10T13:50:44.989458Z"
    },
    "tags": []
   },
   "outputs": [
    {
     "name": "stdout",
     "output_type": "stream",
     "text": [
      "Explained variation per principal component: [0.44272026 0.18971182]\n"
     ]
    }
   ],
   "source": [
    "print('Explained variation per principal component: {}'.format(pca_breast.explained_variance_ratio_))"
   ]
  },
  {
   "cell_type": "code",
   "execution_count": 44,
   "id": "4e6de81e-8e8b-4d80-a603-11aa3b44c20e",
   "metadata": {
    "execution": {
     "iopub.execute_input": "2022-10-10T13:51:34.132461Z",
     "iopub.status.busy": "2022-10-10T13:51:34.131988Z",
     "iopub.status.idle": "2022-10-10T13:51:34.612441Z",
     "shell.execute_reply": "2022-10-10T13:51:34.611531Z",
     "shell.execute_reply.started": "2022-10-10T13:51:34.132410Z"
    },
    "tags": []
   },
   "outputs": [
    {
     "data": {
      "text/plain": [
       "<matplotlib.legend.Legend at 0x7fed512efd30>"
      ]
     },
     "execution_count": 44,
     "metadata": {},
     "output_type": "execute_result"
    },
    {
     "data": {
      "text/plain": [
       "<Figure size 432x288 with 0 Axes>"
      ]
     },
     "metadata": {},
     "output_type": "display_data"
    },
    {
     "data": {
      "image/png": "[encoded data removed]",
      "text/plain": [
       "<Figure size 720x720 with 1 Axes>"
      ]
     },
     "metadata": {},
     "output_type": "display_data"
    }
   ],
   "source": [
    "plt.figure()\n",
    "plt.figure(figsize=(10,10))\n",
    "plt.xticks(fontsize=12)\n",
    "plt.yticks(fontsize=14)\n",
    "plt.xlabel('Principal Component - 1',fontsize=20)\n",
    "plt.ylabel('Principal Component - 2',fontsize=20)\n",
    "plt.title(\"Principal Component Analysis of Breast Cancer Dataset\",fontsize=20)\n",
    "targets = ['Benign', 'Malignant']\n",
    "colors = ['r', 'g']\n",
    "for target, color in zip(targets,colors):\n",
    "    indicesToKeep = breast_dataset['label'] == target\n",
    "    plt.scatter(principal_breast_Df.loc[indicesToKeep, 'principal component 1']\n",
    "               , principal_breast_Df.loc[indicesToKeep, 'principal component 2'], c = color, s = 50)\n",
    "\n",
    "plt.legend(targets,prop={'size': 15})"
   ]
  },
  {
   "cell_type": "code",
   "execution_count": null,
   "id": "a67b7847-947d-4631-ba9f-da5210860288",
   "metadata": {},
   "outputs": [],
   "source": []
  }
 ],
 "metadata": {
  "kernelspec": {
   "display_name": "Python 3 ",
   "language": "python",
   "name": "python3"
  },
  "language_info": {
   "codemirror_mode": {
    "name": "ipython",
    "version": 3
   },
   "file_extension": ".py",
   "mimetype": "text/x-python",
   "name": "python",
   "nbconvert_exporter": "python",
   "pygments_lexer": "ipython3",
   "version": "3.10.6"
  }
 },
 "nbformat": 4,
 "nbformat_minor": 5
}
