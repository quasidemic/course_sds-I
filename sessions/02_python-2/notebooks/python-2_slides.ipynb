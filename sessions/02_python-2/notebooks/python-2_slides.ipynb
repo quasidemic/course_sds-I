{
 "cells": [
  {
   "cell_type": "code",
   "execution_count": 78,
   "id": "12ea058b-f218-45e9-95d0-ee21c22bde0c",
   "metadata": {
    "slideshow": {
     "slide_type": "skip"
    },
    "tags": []
   },
   "outputs": [],
   "source": [
    "import pandas as pd\n",
    "import re\n",
    "from datetime import datetime\n",
    "\n",
    "text = \"\"\"Der var tre drenge, der skulle ud i skoven. Den ene hed Jakob; de to andre hed Finn. \n",
    "så blev den ene Finn væk, så Jakob sagde til den anden Finn: \"Finn find, Finn\".\n",
    "Finn kiggede mærkelig på Jakob og sagde: 'Jakob Jakob Jakob'.\"\"\""
   ]
  },
  {
   "cell_type": "markdown",
   "id": "6b499482-eeb9-49d4-9680-3d4b234d7f74",
   "metadata": {
    "slideshow": {
     "slide_type": "slide"
    },
    "tags": []
   },
   "source": [
    "# Introduktion til Python II - Tid og tekst i Python"
   ]
  },
  {
   "cell_type": "markdown",
   "id": "c2b9b41d-c888-4c40-b608-5e7ab38aa74c",
   "metadata": {
    "slideshow": {
     "slide_type": "slide"
    },
    "tags": []
   },
   "source": [
    "## Program\n",
    "\n",
    "- Opfølgning fra sidste undervisningsgang\n",
    "- Tekst (strings) i Python\n",
    "- Introduktion til regular expressions\n",
    "- Brug af strings metoder og regular expressions i pandas data frames\n",
    "- Datoer og tid i Python\n",
    "- Datoer og tid i pandas data frames"
   ]
  },
  {
   "cell_type": "markdown",
   "id": "358bbec3-6b58-45db-9141-e4ee98615576",
   "metadata": {
    "slideshow": {
     "slide_type": "slide"
    },
    "tags": []
   },
   "source": [
    "# Opfølgning fra sidste undervisningsgang"
   ]
  },
  {
   "cell_type": "markdown",
   "id": "29ead9cd-8466-4fd6-b4df-dd0ef24425fc",
   "metadata": {
    "slideshow": {
     "slide_type": "slide"
    },
    "tags": []
   },
   "source": [
    "# ØVELSE: Datahåndtering i Python"
   ]
  },
  {
   "cell_type": "markdown",
   "id": "4198f7c0-f15b-4a7d-98ea-35d83874a5a5",
   "metadata": {
    "slideshow": {
     "slide_type": "slide"
    },
    "tags": []
   },
   "source": [
    "## Strings i Python\n",
    "\n",
    "- Strings er også en *class*\n",
    "- Har en lang række indbyggede metoder\n",
    "\n",
    "**Eksempler på string metoder**"
   ]
  },
  {
   "cell_type": "markdown",
   "id": "3d88ce2d-a442-481f-93cc-949ca3c395fe",
   "metadata": {
    "slideshow": {
     "slide_type": "skip"
    },
    "tags": []
   },
   "source": [
    "| Metode | Forklaring | Objekt returneret |\n",
    "| --- | --- | --- |\n",
    "| `.lower()` | Lav om til små bogstaver (lower-case) | String |\n",
    "| `.replace(old, new)` | Erstat tegn i tekst | String |\n",
    "| `.startswith()` | Hvorvidt tekst starter med specifikke tegn | Boolean |\n",
    "| `.split()` | Opdel tekst ved specifikt tegn | Liste |"
   ]
  },
  {
   "cell_type": "markdown",
   "id": "92628265-872f-4ffa-91ff-7e576dd53798",
   "metadata": {
    "jupyter": {
     "source_hidden": true
    },
    "tags": []
   },
   "source": [
    "<table>\n",
    "<thead>\n",
    "<tr><th>Metode</th><th>Forklaring</th><th>Objekt returneret</th></tr></thead>\n",
    "<tbody><tr><td><code>.lower()</code></td><td>Lav om til små bogstaver (lower-case)</td><td>String</td></tr><tr><td><code>.replace(old, new)</code></td><td>Erstat tegn i tekst</td><td>String</td></tr><tr><td><code>.startswith()</code></td><td>Hvorvidt tekst starter med specifikke tegn</td><td>Boolean</td></tr><tr><td><code>.split()</code></td><td>Opdel tekst ved specifikt tegn</td><td>Liste</td></tr></tbody>\n",
    "</table>"
   ]
  },
  {
   "cell_type": "markdown",
   "id": "cd1943b4-b82a-4c74-88aa-1f39990943f3",
   "metadata": {
    "slideshow": {
     "slide_type": "slide"
    },
    "tags": []
   },
   "source": [
    "## `in` operatoren i Python\n",
    "\n",
    "- `in` bruges i flere sammenhænge - er én ting en del af en anden ting?\n",
    "- Returnerer altid boolean"
   ]
  },
  {
   "cell_type": "markdown",
   "id": "29b06d20-a606-4379-9b89-e9d5506d96bf",
   "metadata": {
    "slideshow": {
     "slide_type": "fragment"
    },
    "tags": []
   },
   "source": [
    "**String eksempel**"
   ]
  },
  {
   "cell_type": "code",
   "execution_count": 3,
   "id": "ccce8527-b36e-477f-8b36-a8eec06611e6",
   "metadata": {
    "tags": []
   },
   "outputs": [
    {
     "data": {
      "text/plain": [
       "True"
      ]
     },
     "execution_count": 3,
     "metadata": {},
     "output_type": "execute_result"
    }
   ],
   "source": [
    "\"hello\" in \"hello there\" # er string til vesntre en substring af string til højre?"
   ]
  },
  {
   "cell_type": "markdown",
   "id": "98b4516b-980f-439c-957f-396fabfaf600",
   "metadata": {
    "slideshow": {
     "slide_type": "fragment"
    },
    "tags": []
   },
   "source": [
    "**Liste eksempel**"
   ]
  },
  {
   "cell_type": "code",
   "execution_count": 5,
   "id": "4103a9e5-3141-4525-b3ae-0da3cf154668",
   "metadata": {
    "tags": []
   },
   "outputs": [
    {
     "data": {
      "text/plain": [
       "False"
      ]
     },
     "execution_count": 5,
     "metadata": {},
     "output_type": "execute_result"
    }
   ],
   "source": [
    "\"hello\" in [\"hello there\", \"hello world\"] # er værdien til venstre en af værdierne i listen?"
   ]
  },
  {
   "cell_type": "markdown",
   "id": "99103093-f29b-4e24-b3d8-41138cd4740b",
   "metadata": {
    "slideshow": {
     "slide_type": "fragment"
    },
    "tags": []
   },
   "source": [
    "**Dictionary eksempel**"
   ]
  },
  {
   "cell_type": "code",
   "execution_count": 11,
   "id": "eb2705cb-471e-48f9-afe3-60a426a3e006",
   "metadata": {},
   "outputs": [
    {
     "data": {
      "text/plain": [
       "True"
      ]
     },
     "execution_count": 11,
     "metadata": {},
     "output_type": "execute_result"
    }
   ],
   "source": [
    "\"hello\" in {\"hello\": \"there\", \"goodbye\": \"there\"} # er værdien til venstre en key i dictionary?"
   ]
  },
  {
   "cell_type": "code",
   "execution_count": 12,
   "id": "ee42fe71-e31b-4908-9b2f-fd8396c9fc40",
   "metadata": {},
   "outputs": [
    {
     "data": {
      "text/plain": [
       "False"
      ]
     },
     "execution_count": 12,
     "metadata": {},
     "output_type": "execute_result"
    }
   ],
   "source": [
    "\"you\" in {\"hello\": \"there\", \"goodbye\": \"you\"} # er værdien til venstre en key i dictionary?"
   ]
  },
  {
   "cell_type": "markdown",
   "id": "5ce7f388-7071-4d40-ae86-da69829f9a7f",
   "metadata": {
    "slideshow": {
     "slide_type": "slide"
    },
    "tags": []
   },
   "source": [
    "## String metoder i pandas\n",
    "\n",
    "- De fleste string metoder findes i pandas også\n",
    "- Tilgås under `.str`\n",
    "\n",
    "**Eksempler (base python - pandas)**"
   ]
  },
  {
   "cell_type": "markdown",
   "id": "c4b8deda-e6a4-41aa-8d2b-794efd3638f6",
   "metadata": {
    "slideshow": {
     "slide_type": "skip"
    },
    "tags": []
   },
   "source": [
    "|Base|Pandas|\n",
    "|--|--|\n",
    "|`.lower()`|`.str.lower()`|\n",
    "|`.replace()`|`.str.replace()`|\n",
    "|`.startswith()`|`.str.startswith()`|\n",
    "|`in`|`.str.contains()`|"
   ]
  },
  {
   "cell_type": "markdown",
   "id": "dc4ed614-ac53-4db9-9666-6a1894fc201a",
   "metadata": {
    "jupyter": {
     "source_hidden": true
    },
    "tags": []
   },
   "source": [
    "<table>\n",
    "<thead>\n",
    "<tr><th>Base</th><th>Pandas</th></tr></thead>\n",
    "<tbody><tr><td><code>.lower()</code></td><td><code>.str.lower()</code></td></tr><tr><td><code>.replace()</code></td><td><code>.str.replace()</code></td></tr><tr><td><code>.startswith()</code></td><td><code>.str.startswith()</code></td></tr><tr><td><code>in</code></td><td><code>.str.contains()</code></td></tr></tbody>\n",
    "</table>"
   ]
  },
  {
   "cell_type": "markdown",
   "id": "28425f41-0b2e-4c21-9f8a-0ae1d87d94dc",
   "metadata": {
    "slideshow": {
     "slide_type": "slide"
    },
    "tags": []
   },
   "source": [
    "# String metoder i Python (live coding)"
   ]
  },
  {
   "cell_type": "markdown",
   "id": "a2c041a8-5b5d-4c99-a4ca-fefd1b457868",
   "metadata": {
    "slideshow": {
     "slide_type": "slide"
    },
    "tags": []
   },
   "source": [
    "# Introduktion til regular expressions"
   ]
  },
  {
   "cell_type": "markdown",
   "id": "4f696313-6737-42a5-b223-2b64bedec543",
   "metadata": {
    "slideshow": {
     "slide_type": "slide"
    },
    "tags": []
   },
   "source": [
    "## Hvad er regular expressions?\n",
    "\n",
    "- Samling af tegn der definerer mønster til tekstsøgning\n",
    "- Er ikke specifikt til Python - implementeret i de fleste programmeringssprog\n",
    "- Bruges til specifikke søgninger af ord, tekststykker og tekster\n",
    "\n",
    "**Hvorfor bruge regular expressions?**\n",
    "- Meget effektiv måde at lave søgninger og filtreringer på\n",
    "- Mønstre kan lave utroligt specifikke og sofistikerede\n",
    "- Effektiv til at lave filtreringer af tekststykker (uanset antal)"
   ]
  },
  {
   "cell_type": "markdown",
   "id": "9965fa86-b1d4-407c-acbe-abfc82880181",
   "metadata": {
    "slideshow": {
     "slide_type": "slide"
    },
    "tags": []
   },
   "source": [
    "## Eksempel på regular expression\n",
    "\n",
    "`^[KT]\\w{5,8}\\s[\\d|\\w]+`\n",
    "\n",
    "*Oversat*: Find tekststykker, der starter med ord på 6-9 karakterer, som starter med enten stort K eller stort T, efterfulgt af et mellemrum, efterfulgt af et eller flere tal eller bogstaver.\n",
    "\n",
    "*Eksempelvis*: Torvet 5e"
   ]
  },
  {
   "cell_type": "markdown",
   "id": "d432de2d-1834-45c5-81e1-6fb9405bdc6d",
   "metadata": {
    "slideshow": {
     "slide_type": "slide"
    },
    "tags": []
   },
   "source": [
    "## Regular expressions: Match flere tegn"
   ]
  },
  {
   "cell_type": "markdown",
   "id": "3ddd28db-8e99-47c4-aef6-7692f02b1739",
   "metadata": {
    "slideshow": {
     "slide_type": "skip"
    },
    "tags": []
   },
   "source": [
    "|Forklaring|Tegn|Eksempel mønster|Matcher|\n",
    "|--|--|--|--|\n",
    "|Match flere tegn|`[]`|`[jJ]akob`|jakob, Jakob|\n",
    "|Match flere tegn|`[]`|`[12345]`|Tallene 1-5|\n",
    "|Range af tegn|`[x-y]`|`[A-Z]`|Et stort bogstav|\n",
    "|Range af tegn|`[x-y]`|`[0-9]`|Et enkeltciffer|\n",
    "|Negation|`[^x]`|`[^S]`|Ikke et stort S|\n",
    "|Match flere tegnsamlinger (fx ord)|`\\|`|`Jakob\\|Finn`|Jakob eller Finn|"
   ]
  },
  {
   "cell_type": "markdown",
   "id": "878681c5-40d3-4a35-af75-0880c8491f88",
   "metadata": {
    "jupyter": {
     "source_hidden": true
    },
    "tags": []
   },
   "source": [
    "<table>\n",
    "<thead>\n",
    "<tr><th>Forklaring</th><th>Tegn</th><th>Eksempel mønster</th><th>Matcher</th></tr></thead>\n",
    "<tbody><tr><td>Match flere tegn</td><td><code>[]</code></td><td><code>[jJ]akob</code></td><td>jakob, Jakob</td></tr><tr><td>Match flere tegn</td><td><code>[]</code></td><td><code>[12345]</code></td><td>Tallene 1-5</td></tr><tr><td>Range af tegn</td><td><code>[x-y]</code></td><td><code>[A-Z]</code></td><td>Et stort bogstav</td></tr><tr><td>Range af tegn</td><td><code>[x-y]</code></td><td><code>[0-9]</code></td><td>Et enkeltciffer</td></tr><tr><td>Negation</td><td><code>[^x]</code></td><td><code>[^S]</code></td><td>Ikke et stort S</td></tr><tr><td>Match flere tegnsamlinger (fx ord)</td><td><code>\\|</code></td><td><code>Jakob\\|Finn</code></td><td>Jakob eller Finn</td></tr></tbody>\n",
    "</table>"
   ]
  },
  {
   "cell_type": "markdown",
   "id": "8cdfa526-21b6-4ec1-9601-6022dedfa80e",
   "metadata": {
    "slideshow": {
     "slide_type": "slide"
    },
    "tags": []
   },
   "source": [
    "## Regular expressions: Wildcard-søgninger"
   ]
  },
  {
   "cell_type": "markdown",
   "id": "d41ef4ca-80c4-4134-a870-8b25be56c4c6",
   "metadata": {
    "slideshow": {
     "slide_type": "skip"
    },
    "tags": []
   },
   "source": [
    "|Forklaring|Tegn|Eksempel mønster|Matcher|\n",
    "|--|--|--|--|\n",
    "|Valgfri karakter (match 1 eller 0 gange)|`?`|`Kath?rine`|Kathrine, Katrine|\n",
    "|Match 0 eller flere gange|`*`|`haa*!`|ha!, haa!, haaa!, haaaa!, ...|\n",
    "|Match 1 eller flere gange|`+`|`haa+!`|haa!, haaa!, haaaa!, ...|\n",
    "|Match hvilken som helst karakter|`.`|`.us`|mus, lus, hus, bus|\n",
    "|Match start af string|`^`|`^F`|**F**inn kiggede mærkeligt|\n",
    "|Match enden af string|`$`|`t$`|Finn kiggede mærkelig**t**|\n",
    "|Gentag mønster|`{x,y}`|`Fin{1,2}`|**Fin**n kiggede mærkeligt, **Finn** kiggede mærkeligt|"
   ]
  },
  {
   "cell_type": "markdown",
   "id": "3b94946c-0c09-4483-b8e7-615cdbda5b2f",
   "metadata": {
    "jupyter": {
     "source_hidden": true
    },
    "tags": []
   },
   "source": [
    "<table>\n",
    "<thead>\n",
    "<tr><th>Forklaring</th><th>Tegn</th><th>Eksempel mønster</th><th>Matcher</th></tr></thead>\n",
    "<tbody><tr><td>Valgfri karakter (match 1 eller 0 gange)</td><td><code>?</code></td><td><code>Kath?rine</code></td><td>Kathrine, Katrine</td></tr><tr><td>Match 0 eller flere gange</td><td><code>*</code></td><td><code>haa*!</code></td><td>ha!, haa!, haaa!, haaaa!, ...</td></tr><tr><td>Match 1 eller flere gange</td><td><code>+</code></td><td><code>haa+!</code></td><td>haa!, haaa!, haaaa!, ...</td></tr><tr><td>Match hvilken som helst karakter</td><td><code>.</code></td><td><code>.us</code></td><td>mus, lus, hus, bus</td></tr><tr><td>Match start af string</td><td><code>^</code></td><td><code>^F</code></td><td><strong>F</strong>inn kiggede mærkeligt</td></tr><tr><td>Match enden af string</td><td><code>$</code></td><td><code>t$</code></td><td>Finn kiggede mærkelig<strong>t</strong></td></tr><tr><td>Gentag mønster</td><td><code>{x,y}</code></td><td><code>Fin{1,2}</code></td><td><strong>Fin</strong>n kiggede mærkeligt, <strong>Finn</strong> kiggede mærkeligt</td></tr></tbody>\n",
    "</table>"
   ]
  },
  {
   "cell_type": "markdown",
   "id": "0bbd10dd-6fdb-47d9-b13b-566a8ae860d2",
   "metadata": {
    "slideshow": {
     "slide_type": "slide"
    },
    "tags": []
   },
   "source": [
    "## Regular expressions: Match typer af tegn"
   ]
  },
  {
   "cell_type": "markdown",
   "id": "0379a9f9-7f34-4edb-9d34-4d727f394758",
   "metadata": {
    "slideshow": {
     "slide_type": "skip"
    },
    "tags": []
   },
   "source": [
    "|Forklaring|Tegn|\n",
    "|--|--|\n",
    "|Match \"word character\"|`\\w`|\n",
    "|Match *ikke* \"word character\"|`\\W`|\n",
    "|Match et tal|`\\d`|\n",
    "|Match et \"whitespace\"|`\\s`|\n",
    "|Match *ikke* et \"whitespace\"|`\\S`|\n",
    "|Match et linjeskift|`\\n`|\n",
    "|Match et linjeskift|`\\r`|\n",
    "|Match en ordafgrænsning (tegnsætning, whitespace, linjeskift)|`\\b`|"
   ]
  },
  {
   "cell_type": "markdown",
   "id": "6c2d2505-992c-4eff-8aee-86fe524b0182",
   "metadata": {
    "jupyter": {
     "source_hidden": true
    },
    "tags": []
   },
   "source": [
    "<table>\n",
    "<thead>\n",
    "<tr><th>Forklaring</th><th>Tegn</th></tr></thead>\n",
    "<tbody><tr><td>Match &quot;word character&quot;</td><td><code>\\w</code></td></tr><tr><td>Match <em>ikke</em> &quot;word character&quot;</td><td><code>\\W</code></td></tr><tr><td>Match et tal</td><td><code>\\d</code></td></tr><tr><td>Match et &quot;whitespace&quot;</td><td><code>\\s</code></td></tr><tr><td>Match <em>ikke</em> et &quot;whitespace&quot;</td><td><code>\\S</code></td></tr><tr><td>Match et linjeskift</td><td><code>\\n</code></td></tr><tr><td>Match et linjeskift</td><td><code>\\r</code></td></tr><tr><td>Match en ordafgrænsning (tegnsætning, whitespace, linjeskift)</td><td><code>\\b</code></td></tr></tbody>\n",
    "</table>"
   ]
  },
  {
   "cell_type": "markdown",
   "id": "ae9beb2a-4d2d-4fc6-8a2a-c3f51cea9b57",
   "metadata": {
    "slideshow": {
     "slide_type": "slide"
    },
    "tags": []
   },
   "source": [
    "## Regular expressions: Look ahead / look behind"
   ]
  },
  {
   "cell_type": "markdown",
   "id": "29115a29-58ff-4cd2-9c85-cd920e6b5303",
   "metadata": {
    "slideshow": {
     "slide_type": "skip"
    },
    "tags": []
   },
   "source": [
    "|Forklaring|Tegn|Eksempel mønster|Matcher|\n",
    "|--|--|--|--|\n",
    "|Mønster skal komme efter|`(?=)`|`\\w+(?= kig)`|**Finn** kiggede mærkelig på Jakob|\n",
    "|Mønster skal komme før|`(?<=)`|`(?<=på )\\w+`|Finn kiggede mærkelig på **Jakob**|"
   ]
  },
  {
   "cell_type": "markdown",
   "id": "80d40dd2-145d-4a33-921b-f03c91ea5739",
   "metadata": {
    "jupyter": {
     "source_hidden": true
    },
    "tags": []
   },
   "source": [
    "<table>\n",
    "<thead>\n",
    "<tr><th>Forklaring</th><th>Tegn</th><th>Eksempel mønster</th><th>Matcher</th></tr></thead>\n",
    "<tbody><tr><td>Mønster skal komme efter</td><td><code>(?=)</code></td><td><code>\\w+(?= kig)</code></td><td><strong>Finn</strong> kiggede mærkelig på Jakob</td></tr><tr><td>Mønster skal komme før</td><td><code>(?&lt;=)</code></td><td><code>(?&lt;=på )\\w+</code></td><td>Finn kiggede mærkelig på <strong>Jakob</strong></td></tr></tbody>\n",
    "</table>"
   ]
  },
  {
   "cell_type": "markdown",
   "id": "194d34e3-767e-47b0-adf2-39aafcf67843",
   "metadata": {
    "slideshow": {
     "slide_type": "slide"
    },
    "tags": []
   },
   "source": [
    "## Escaping\n",
    "\n",
    "- *Esccaping* tillader, at man kan danne regular expression, der matcher tegnsætning som \".\", \"?\" og andre tegn brugt i regular expression\n",
    "\n",
    "- Man *escaper* et tegn (dvs. omgår dens betydning i regular expression) ved brug af `\\`\n",
    "\n",
    "**Eksempel**"
   ]
  },
  {
   "cell_type": "markdown",
   "id": "d979127c-6c85-4491-a9c3-b69490b8848a",
   "metadata": {
    "slideshow": {
     "slide_type": "skip"
    },
    "tags": []
   },
   "source": [
    "|Mønster|Matcher|\n",
    "|--|--|\n",
    "|`kat?`|har du en **ka**t?, har du en **kat**?|\n",
    "|`kat\\?`|har du en **kat?**|"
   ]
  },
  {
   "cell_type": "markdown",
   "id": "fe578e0c-6d4f-4daf-896f-b87af3d4ae67",
   "metadata": {
    "jupyter": {
     "source_hidden": true
    },
    "tags": []
   },
   "source": [
    "<table><thead><tr><th><span>Mønster</span></th><th><span>Matcher</span></th></tr></thead><tbody><tr><td><code>kat?</code></td><td><span>har du en </span><strong><span>ka</span></strong><span>t?, har du en </span><strong><span>kat</span></strong><span>?</span></td></tr><tr><td><code>kat\\?</code></td><td><span>har du en </span><strong><span>kat?</span></strong></td></tr></tbody></table>"
   ]
  },
  {
   "cell_type": "markdown",
   "id": "e5272df3-9f48-4a27-9228-5a364a549826",
   "metadata": {
    "slideshow": {
     "slide_type": "slide"
    },
    "tags": []
   },
   "source": [
    "## Grupper\n",
    "\n",
    "- Regular expressions kan opdeles i \"undermønstre\" (mønstre i mønstre) vha. grupper\n",
    "- En regular expression *gruppe* angives med `()`\n",
    "\n",
    "**Eksempel:**\n",
    "\n",
    "`^[A-Z]\\w+ (\\w+)`\n",
    "\n",
    "- Hele mønstret matcher tekst, der starter med et ord med stort forbogstav efterfulgt af et andet ord\n",
    "- Gruppen (gruppe 1) matcher det andet ord"
   ]
  },
  {
   "cell_type": "markdown",
   "id": "4d35fa55-c4a8-437d-bd24-578d1bf6ba40",
   "metadata": {
    "slideshow": {
     "slide_type": "slide"
    },
    "tags": []
   },
   "source": [
    "## Regular expressions i Python\n",
    "\n",
    "- Brug pakken `re` (del af standardbibliotek)\n",
    "\n",
    "*Definér mønster*: `re.compile()` (danner et  regex objekt `re.pattern`)\n",
    "\n",
    "*Find match i start af tekst*: `re.match()`\n",
    "\n",
    "*Find match et eller andet sted i tekst*: `re.search()` (altid det første match)\n",
    "\n",
    "*Find all matches i en tekst*: `re.findall()` (returnerer altid en liste)"
   ]
  },
  {
   "cell_type": "markdown",
   "id": "e36d8163-6140-4d65-bcd4-fac991797bf3",
   "metadata": {
    "slideshow": {
     "slide_type": "slide"
    },
    "tags": []
   },
   "source": [
    "## Regular expressions i Python"
   ]
  },
  {
   "cell_type": "code",
   "execution_count": 73,
   "id": "44c1b5b0-f719-4bab-bcb2-95f8070b7fdd",
   "metadata": {},
   "outputs": [
    {
     "data": {
      "text/plain": [
       "<re.Match object; span=(0, 5), match='Jakob'>"
      ]
     },
     "execution_count": 73,
     "metadata": {},
     "output_type": "execute_result"
    }
   ],
   "source": [
    "import re\n",
    "\n",
    "text = \"Jakob siger: 'Hej med dig, Finn'\"\n",
    "\n",
    "regex = re.compile(\"[A-Z]\\w+\")\n",
    "\n",
    "regex.search(text) # matcher regex med tekst?"
   ]
  },
  {
   "cell_type": "code",
   "execution_count": 74,
   "id": "3957ce93-ab87-473b-b80f-0e947988c31d",
   "metadata": {
    "slideshow": {
     "slide_type": "fragment"
    },
    "tags": []
   },
   "outputs": [
    {
     "data": {
      "text/plain": [
       "['Jakob', 'Hej', 'Finn']"
      ]
     },
     "execution_count": 74,
     "metadata": {},
     "output_type": "execute_result"
    }
   ],
   "source": [
    "regex.findall(text) # hvilke tekststykker matcher?"
   ]
  },
  {
   "cell_type": "markdown",
   "id": "f96756a3-c734-4d37-953d-d1b56c1ff91d",
   "metadata": {
    "slideshow": {
     "slide_type": "slide"
    },
    "tags": []
   },
   "source": [
    "## Regular expressions i Python"
   ]
  },
  {
   "cell_type": "code",
   "execution_count": 75,
   "id": "7651fba6-3217-4e55-adf2-e007d0aeb594",
   "metadata": {},
   "outputs": [
    {
     "data": {
      "text/plain": [
       "'siger'"
      ]
     },
     "execution_count": 75,
     "metadata": {},
     "output_type": "execute_result"
    }
   ],
   "source": [
    "text = \"Jakob siger: 'Hej med dig, Finn'\"\n",
    "\n",
    "regex = re.compile(\"[A-Z]\\w+ (\\w+)\")\n",
    "\n",
    "regex.search(text).group(1) # hvad matcher mønstret i gruppe 1?"
   ]
  },
  {
   "cell_type": "code",
   "execution_count": 76,
   "id": "aff2d1a9-3714-4548-8ce9-90b9f010dff7",
   "metadata": {
    "slideshow": {
     "slide_type": "fragment"
    },
    "tags": []
   },
   "outputs": [
    {
     "data": {
      "text/plain": [
       "['siger', 'med']"
      ]
     },
     "execution_count": 76,
     "metadata": {},
     "output_type": "execute_result"
    }
   ],
   "source": [
    "regex.findall(text) # hvilke tekststykker matcher mønstret i gruppe 1?"
   ]
  },
  {
   "cell_type": "markdown",
   "id": "9f82d5b1-e387-46b0-be5d-4cdfe3d60f10",
   "metadata": {
    "slideshow": {
     "slide_type": "slide"
    },
    "tags": []
   },
   "source": [
    "## Regular expressions i pandas\n",
    "\n",
    "- Flere metoder i pandas understøtter regular expression (fx `.replace()`, `.str.replace()`, `.str.contains()`)\n",
    "- Regular expressions kan også bruges til at udlede text fra én kolonne til en anden (med `.str.extract()`)\n",
    "    - *Bemærk*: Udledning baseret på grupper i regeular expression"
   ]
  },
  {
   "cell_type": "code",
   "execution_count": 58,
   "id": "fb9ab561-27cb-427d-84b3-32dcb6f504c1",
   "metadata": {
    "slideshow": {
     "slide_type": "fragment"
    },
    "tags": []
   },
   "outputs": [
    {
     "data": {
      "text/plain": [
       "0     True\n",
       "1     True\n",
       "2    False\n",
       "dtype: bool"
      ]
     },
     "execution_count": 58,
     "metadata": {},
     "output_type": "execute_result"
    }
   ],
   "source": [
    "s = pd.Series([\"cat\", \"dog\", \"house\"])\n",
    "s.str.contains(\"^\\w{3}$\", regex = True)"
   ]
  },
  {
   "cell_type": "code",
   "execution_count": 57,
   "id": "bd8fe49d-e8a4-4a22-8f96-07b6915fd53e",
   "metadata": {
    "slideshow": {
     "slide_type": "fragment"
    },
    "tags": []
   },
   "outputs": [
    {
     "data": {
      "text/html": [
       "<div>\n",
       "<style scoped>\n",
       "    .dataframe tbody tr th:only-of-type {\n",
       "        vertical-align: middle;\n",
       "    }\n",
       "\n",
       "    .dataframe tbody tr th {\n",
       "        vertical-align: top;\n",
       "    }\n",
       "\n",
       "    .dataframe thead th {\n",
       "        text-align: right;\n",
       "    }\n",
       "</style>\n",
       "<table border=\"1\" class=\"dataframe\">\n",
       "  <thead>\n",
       "    <tr style=\"text-align: right;\">\n",
       "      <th></th>\n",
       "      <th>0</th>\n",
       "    </tr>\n",
       "  </thead>\n",
       "  <tbody>\n",
       "    <tr>\n",
       "      <th>0</th>\n",
       "      <td>James</td>\n",
       "    </tr>\n",
       "    <tr>\n",
       "      <th>1</th>\n",
       "      <td>Bobbie</td>\n",
       "    </tr>\n",
       "  </tbody>\n",
       "</table>\n",
       "</div>"
      ],
      "text/plain": [
       "        0\n",
       "0   James\n",
       "1  Bobbie"
      ]
     },
     "execution_count": 57,
     "metadata": {},
     "output_type": "execute_result"
    }
   ],
   "source": [
    "s = pd.Series([\"James Holden\", \"Bobbie Draper\"])\n",
    "s.str.extract(\"(^[A-Z]\\w+)(?= )\")"
   ]
  },
  {
   "cell_type": "markdown",
   "id": "902b3bf0-8113-4aee-97ef-9412040ed704",
   "metadata": {
    "slideshow": {
     "slide_type": "slide"
    },
    "tags": []
   },
   "source": [
    "# Regular expressions i Python (live-coding)"
   ]
  },
  {
   "cell_type": "markdown",
   "id": "c2fba6dc-c99b-4a53-b51a-7ac46c8000dc",
   "metadata": {
    "slideshow": {
     "slide_type": "slide"
    },
    "tags": []
   },
   "source": [
    "## Indlæsning af filer i Python\n",
    "\n",
    "- Al indlæsning af filder baseret på stier\n",
    "- Absolutte stier\n",
    "- Relative stier\n",
    "- `os` modulet\n",
    "- Brug af `open`"
   ]
  },
  {
   "cell_type": "markdown",
   "id": "d78b529a-5b35-4a5a-a8d1-ba7302f4bb32",
   "metadata": {
    "slideshow": {
     "slide_type": "slide"
    },
    "tags": []
   },
   "source": [
    "# Indlæsning af tekstfiler i Python (live-coding)"
   ]
  },
  {
   "cell_type": "markdown",
   "id": "bf2dea4f-b324-4a2e-aaf8-2b5ec280f06b",
   "metadata": {
    "slideshow": {
     "slide_type": "slide"
    },
    "tags": []
   },
   "source": [
    "# ØVELSE: Regular expression i Python"
   ]
  },
  {
   "cell_type": "markdown",
   "id": "f1f43ae4-d665-47ee-816c-084276de2a1a",
   "metadata": {
    "slideshow": {
     "slide_type": "slide"
    },
    "tags": []
   },
   "source": [
    "# Arbejde med længere tekster i Python (live-coding)"
   ]
  },
  {
   "cell_type": "markdown",
   "id": "04e3448b-dec9-46c1-96ef-652ebc0f7a09",
   "metadata": {
    "slideshow": {
     "slide_type": "slide"
    },
    "tags": []
   },
   "source": [
    "# Datoer og tid i Python"
   ]
  },
  {
   "cell_type": "markdown",
   "id": "7422f004-f6b2-438a-813e-0f0413066efa",
   "metadata": {
    "slideshow": {
     "slide_type": "slide"
    },
    "tags": []
   },
   "source": [
    "## Fra dato-string til dato-objekt\n",
    "\n",
    "- `datetime` objekt (year, month, date, hour)\n",
    "- `timedelta` objekt (days)"
   ]
  },
  {
   "cell_type": "markdown",
   "id": "20c9443a-5c44-469b-99fb-d57e6a341c5f",
   "metadata": {
    "slideshow": {
     "slide_type": "slide"
    },
    "tags": []
   },
   "source": [
    "## Formatkoder til dato og tid\n",
    "\n",
    "https://docs.python.org/3/library/datetime.html#strftime-strptime-behavior"
   ]
  },
  {
   "cell_type": "markdown",
   "id": "3ae7585b-4912-448f-8e15-bbe11997f3df",
   "metadata": {},
   "source": [
    "## Datetime i Python"
   ]
  },
  {
   "cell_type": "code",
   "execution_count": 77,
   "id": "f727a660-6597-4819-970a-a2b4df3e1878",
   "metadata": {},
   "outputs": [
    {
     "data": {
      "text/plain": [
       "-524"
      ]
     },
     "execution_count": 77,
     "metadata": {},
     "output_type": "execute_result"
    }
   ],
   "source": [
    "from datetime import datetime\n",
    "\n",
    "date = '04-12 - 2020'\n",
    "\n",
    "timedif = datetime.strptime(date, \"%d-%m - %Y\") - datetime.strptime(\"2022-05-12\", \"%Y-%m-%d\")\n",
    "timedif.days"
   ]
  },
  {
   "cell_type": "code",
   "execution_count": 43,
   "id": "df76fe68-9733-41ee-8b94-e66c8699d61e",
   "metadata": {},
   "outputs": [
    {
     "data": {
      "text/plain": [
       "datetime.datetime(2020, 12, 4, 0, 0)"
      ]
     },
     "execution_count": 43,
     "metadata": {},
     "output_type": "execute_result"
    }
   ],
   "source": [
    "datetime.strptime(date, \"%d-%m - %Y\")"
   ]
  },
  {
   "cell_type": "markdown",
   "id": "c4c3e5e7-ba17-4b30-8306-a5df80434a5f",
   "metadata": {
    "slideshow": {
     "slide_type": "slide"
    },
    "tags": []
   },
   "source": [
    "## Datetime i pandas"
   ]
  },
  {
   "cell_type": "markdown",
   "id": "9620a4d1-d7eb-4eac-a405-ca6ec409ca98",
   "metadata": {
    "jp-MarkdownHeadingCollapsed": true,
    "slideshow": {
     "slide_type": "slide"
    },
    "tags": []
   },
   "source": [
    "# Datoer og tid i Python (live-coding)"
   ]
  },
  {
   "cell_type": "markdown",
   "id": "59446485-4af8-4623-8ef8-2798c8709ec4",
   "metadata": {
    "slideshow": {
     "slide_type": "slide"
    },
    "tags": []
   },
   "source": [
    "# FÆLLES ØVELSE: Datoer og tid i Python\n",
    "\n",
    "- Lave dato-kolonne i Eurobarometer data om til datoobjekt\n",
    "- Finde ud af, hvor lang tid det tog at samle data fra de danske respondenter"
   ]
  },
  {
   "cell_type": "markdown",
   "id": "c9376047-ff02-4bfe-bd22-5468bb6f532c",
   "metadata": {
    "slideshow": {
     "slide_type": "slide"
    },
    "tags": []
   },
   "source": [
    "## Opsummering"
   ]
  }
 ],
 "metadata": {
  "kernelspec": {
   "display_name": "Python 3",
   "language": "python",
   "name": "python3"
  },
  "language_info": {
   "codemirror_mode": {
    "name": "ipython",
    "version": 3
   },
   "file_extension": ".py",
   "mimetype": "text/x-python",
   "name": "python",
   "nbconvert_exporter": "python",
   "pygments_lexer": "ipython3",
   "version": "3.7.12"
  }
 },
 "nbformat": 4,
 "nbformat_minor": 5
}
