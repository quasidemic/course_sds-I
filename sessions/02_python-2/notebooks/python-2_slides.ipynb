{
 "cells": [
  {
   "cell_type": "code",
   "execution_count": null,
   "id": "12ea058b-f218-45e9-95d0-ee21c22bde0c",
   "metadata": {},
   "outputs": [],
   "source": []
  },
  {
   "cell_type": "markdown",
   "id": "6b499482-eeb9-49d4-9680-3d4b234d7f74",
   "metadata": {
    "slideshow": {
     "slide_type": "slide"
    },
    "tags": []
   },
   "source": [
    "# Introduktion til Python II - Tid og tekst i Python"
   ]
  },
  {
   "cell_type": "markdown",
   "id": "c2b9b41d-c888-4c40-b608-5e7ab38aa74c",
   "metadata": {
    "slideshow": {
     "slide_type": "slide"
    },
    "tags": []
   },
   "source": [
    "## Program\n",
    "\n",
    "- Opfølgning fra sidste undervisningsgang\n",
    "- Tekst (strings) i Python\n",
    "- Introduktion til regular expressions\n",
    "- Brug af strings metoder og regular expressions i pandas data frames\n",
    "- Datoer og tid i Python\n",
    "- Datoer og tid i pandas data frames"
   ]
  },
  {
   "cell_type": "markdown",
   "id": "358bbec3-6b58-45db-9141-e4ee98615576",
   "metadata": {},
   "source": [
    "# Opfølgning fra sidste undervisningsgang (Kahoot)"
   ]
  },
  {
   "cell_type": "markdown",
   "id": "4198f7c0-f15b-4a7d-98ea-35d83874a5a5",
   "metadata": {},
   "source": [
    "## Strings i Python\n",
    "\n",
    "- Strings er også en *class*\n",
    "- Har en lang række indbyggede metoder - ændringer og booleans"
   ]
  },
  {
   "cell_type": "markdown",
   "id": "28425f41-0b2e-4c21-9f8a-0ae1d87d94dc",
   "metadata": {},
   "source": [
    "# String metoder i Python (live coding)\n",
    "- basale string metoder (sub, upper, startswith, split)\n",
    "- string metoder i pandas"
   ]
  },
  {
   "cell_type": "markdown",
   "id": "a2c041a8-5b5d-4c99-a4ca-fefd1b457868",
   "metadata": {},
   "source": [
    "# Introduktion til regular expressions"
   ]
  },
  {
   "cell_type": "markdown",
   "id": "4f696313-6737-42a5-b223-2b64bedec543",
   "metadata": {},
   "source": [
    "## Hvad er regular expressions?"
   ]
  },
  {
   "cell_type": "markdown",
   "id": "d432de2d-1834-45c5-81e1-6fb9405bdc6d",
   "metadata": {},
   "source": [
    "## Specialtegn i regular expressions"
   ]
  },
  {
   "cell_type": "markdown",
   "id": "194d34e3-767e-47b0-adf2-39aafcf67843",
   "metadata": {},
   "source": [
    "## Escaping"
   ]
  },
  {
   "cell_type": "markdown",
   "id": "e5272df3-9f48-4a27-9228-5a364a549826",
   "metadata": {},
   "source": [
    "## Grupper"
   ]
  },
  {
   "cell_type": "markdown",
   "id": "4d35fa55-c4a8-437d-bd24-578d1bf6ba40",
   "metadata": {},
   "source": [
    "## Søgning"
   ]
  },
  {
   "cell_type": "markdown",
   "id": "9f82d5b1-e387-46b0-be5d-4cdfe3d60f10",
   "metadata": {},
   "source": [
    "## Regular expressions i pandas"
   ]
  },
  {
   "cell_type": "markdown",
   "id": "902b3bf0-8113-4aee-97ef-9412040ed704",
   "metadata": {},
   "source": [
    "# Regular expressions i Python (live-coding)"
   ]
  },
  {
   "cell_type": "markdown",
   "id": "c2fba6dc-c99b-4a53-b51a-7ac46c8000dc",
   "metadata": {},
   "source": [
    "## Indlæsning af tekstfiler i Python"
   ]
  },
  {
   "cell_type": "markdown",
   "id": "d78b529a-5b35-4a5a-a8d1-ba7302f4bb32",
   "metadata": {},
   "source": [
    "# Indlæsning af tekstfiler i Python (live-coding)"
   ]
  },
  {
   "cell_type": "markdown",
   "id": "bf2dea4f-b324-4a2e-aaf8-2b5ec280f06b",
   "metadata": {},
   "source": [
    "# ØVELSE: Regular expression i Python"
   ]
  },
  {
   "cell_type": "markdown",
   "id": "f1f43ae4-d665-47ee-816c-084276de2a1a",
   "metadata": {},
   "source": [
    "# Arbejde med længere tekster i Python (live-coding)"
   ]
  },
  {
   "cell_type": "markdown",
   "id": "04e3448b-dec9-46c1-96ef-652ebc0f7a09",
   "metadata": {},
   "source": [
    "# Datoer og tid i Python"
   ]
  },
  {
   "cell_type": "markdown",
   "id": "7422f004-f6b2-438a-813e-0f0413066efa",
   "metadata": {},
   "source": [
    "## Fra dato-string til dato-objekt\n",
    "\n",
    "- `datetime` objekt (year, month, date, hour)\n",
    "- `timedelta` objekt (days)"
   ]
  },
  {
   "cell_type": "markdown",
   "id": "20c9443a-5c44-469b-99fb-d57e6a341c5f",
   "metadata": {},
   "source": [
    "## Datoformater"
   ]
  },
  {
   "cell_type": "markdown",
   "id": "c4c3e5e7-ba17-4b30-8306-a5df80434a5f",
   "metadata": {},
   "source": [
    "## Datetime i pandas"
   ]
  },
  {
   "cell_type": "markdown",
   "id": "9620a4d1-d7eb-4eac-a405-ca6ec409ca98",
   "metadata": {},
   "source": [
    "# Datoer og tid i Python (live-coding)"
   ]
  },
  {
   "cell_type": "markdown",
   "id": "59446485-4af8-4623-8ef8-2798c8709ec4",
   "metadata": {},
   "source": [
    "# FÆLLES ØVELSE: Datoer og tid i Python\n",
    "\n",
    "- Lave dato-kolonne i Eurobarometer data om til datoobjekt\n",
    "- Finde ud af, hvor lang tid det tog at samle data fra de danske respondenter"
   ]
  },
  {
   "cell_type": "markdown",
   "id": "c9376047-ff02-4bfe-bd22-5468bb6f532c",
   "metadata": {},
   "source": [
    "## Opsummering"
   ]
  },
  {
   "cell_type": "markdown",
   "id": "a5b6313f-ad51-4653-9d03-98779b6f6d72",
   "metadata": {},
   "source": [
    "# ØVELSE: Tid og tekst i Python\n",
    "\n",
    "- Horesta data\n",
    "- Dan to sæt: posts fra februar 2020 og posts fra november 2020\n",
    "- Find hvor mange tekster, der diskuterer vaccine i hvert sæt"
   ]
  },
  {
   "cell_type": "code",
   "execution_count": 88,
   "id": "b7c6c158-20ff-46ba-bc07-0730e0b4733d",
   "metadata": {},
   "outputs": [],
   "source": [
    "text = \"\"\"Der var tre drenge, der skulle ud i skoven. Den ene hed Jakob; de to andre hed Finn. \n",
    "så blev den ene Finn væk, så Jakob sagde til den anden Finn: \"Finn find, Finn\".\n",
    "Finn kiggede mærkelig på Jakob og sagde: \"Jakob Jakob Jakob.\"\"\""
   ]
  },
  {
   "cell_type": "code",
   "execution_count": null,
   "id": "c186ea2b-16fb-4bff-a1b2-d20ddf691709",
   "metadata": {},
   "outputs": [],
   "source": [
    "path = \"C:/Users/kgk/OneDrive - Aalborg Universitet/Undervisning/E22/sds/datasets/soaf_characters.txt\"\n",
    "textfile = open(path, 'r')\n",
    "soaf = textfile.read().split('\\n')"
   ]
  },
  {
   "cell_type": "markdown",
   "id": "4750421a-7814-483d-82c2-65e293306cfd",
   "metadata": {},
   "source": [
    "## Regex øvelse\n",
    "\n",
    "Hvor mange karakterer i Song of Ice and Fire bog serien har et efternavn, der starter med \"T\"?"
   ]
  },
  {
   "cell_type": "code",
   "execution_count": 77,
   "id": "98c091b1-c533-4706-a877-cb2d6fd90369",
   "metadata": {},
   "outputs": [],
   "source": [
    "import re \n",
    "\n",
    "lastname_re = re.compile('\\s(T\\w+$)')\n",
    "\n",
    "lastnames = []\n",
    "for name in soaf:\n",
    "    if lastname_re.search(name):\n",
    "        lastnames.append(lastname_re.search(name).group(1))\n",
    "\n",
    "\n",
    "#list(filter(lastname_re.search, soaf))"
   ]
  },
  {
   "cell_type": "code",
   "execution_count": 14,
   "id": "624b78c0-0596-45ea-8d7d-3283408d4838",
   "metadata": {},
   "outputs": [
    {
     "data": {
      "text/plain": [
       "{'url': 'https://horesta.dk/nyheder/2020/december/det-er-tid-til-at-faa-det-lange-lys-paa/?_requestTag=',\n",
       " 'accessed': 1,\n",
       " 'title': 'Det er tid til at få det lange lys på',\n",
       " 'tags': ['coronakrise',\n",
       "  'horesta',\n",
       "  'kirsten munch',\n",
       "  'vaccination',\n",
       "  'hurtigtest'],\n",
       " 'links': [],\n",
       " 'publish_date': '04-12 - 2020',\n",
       " 'access_date': '2020-12-04',\n",
       " 'text': '\\n\\n\\n\\n\\n\\n\\n\\nFra næste måned begynder udrulningen af det statslige vaccinationsprogram.Dermed er der håb om, at den sidste bjergetape er kørt, og vi kan tage hul på de lange og flade strækninger i retning af en genåbning og normalisering af vores samfund.Ruten vil stadig være uforudsigelig og formentlig ujævn og bumlet. Men retningen er den rigtige, og dermed skaber det nye muligheder for at begynde at planlægge, hvordan og hvornår vores erhverv kan begynde at skabe omsætning og indtjening igen. Netop sådan en genåbningsplan efterlyste vis, da regeringen lancerede sin vaccinationsplan. En plan, som kan gøre det muligt for vores erhverv at tænde for det lange lys og begynde at planlægge to, tre og fire måneder frem.Det er oplagt at udnytte de muligheder, vaccinationer i kombination med hurtigtests kan skabe for at lempe på de nuværende restriktioner. Og det bør være muligt i løbet af første halvår af 2021 at lave store events og arrangementer uden begrænsninger på antal eller kvadratmeter ved, at gæsternes ”adgangsbillet” enten er en vaccinationsattest eller en hurtigtest ved indgangen.Som samfund har vi ganske enkelt ikke råd til at lade være. Vi er nødt til at hente gevinsten ved vaccinationsplanen kombineret med valide hurtigtests så tidligt, som det er forsvarligt muligt.\\nFlere politikere har advaret imod, at man kan få et A- og et B-hold, hvis de vaccinerede får bedre muligheder i samfundet end de ikke-vaccinerede. Men netop for at undgå det, giver det mening, at ikke-vaccinerede kan lade sig hurtigteste og få adgang til det samme som de vaccinerede.Lad os tænke nyt, tænke i løsninger og først og fremmest tænke frem.\\nKirsten MunchPolitisk direktørHORESTA\\n\\n \\n\\n\\n\\n\\n'}"
      ]
     },
     "execution_count": 14,
     "metadata": {},
     "output_type": "execute_result"
    }
   ],
   "source": [
    "import json\n",
    "\n",
    "path = \"C:/Users/kgk/OneDrive - Aalborg Universitet/Undervisning/E22/sds/datasets/horesta_posts.json\"\n",
    "\n",
    "with open(path) as f:\n",
    "    posts = json.load(f)\n",
    "    \n",
    "posts[0]"
   ]
  },
  {
   "cell_type": "code",
   "execution_count": 15,
   "id": "1a633bdc-49cf-48d4-b9fb-b3684b9ad776",
   "metadata": {},
   "outputs": [],
   "source": [
    "date = posts[0].get('publish_date')"
   ]
  },
  {
   "cell_type": "code",
   "execution_count": 16,
   "id": "fa66820b-87f5-4465-88f3-cba1b70da14a",
   "metadata": {},
   "outputs": [
    {
     "data": {
      "text/plain": [
       "'04-12 - 2020'"
      ]
     },
     "execution_count": 16,
     "metadata": {},
     "output_type": "execute_result"
    }
   ],
   "source": [
    "date"
   ]
  },
  {
   "cell_type": "code",
   "execution_count": 79,
   "id": "f727a660-6597-4819-970a-a2b4df3e1878",
   "metadata": {},
   "outputs": [
    {
     "data": {
      "text/plain": [
       "-524"
      ]
     },
     "execution_count": 79,
     "metadata": {},
     "output_type": "execute_result"
    }
   ],
   "source": [
    "from datetime import datetime\n",
    "\n",
    "timedif = datetime.strptime(date, \"%d-%m - %Y\") - datetime.strptime(\"2022-05-12\", \"%Y-%m-%d\")\n",
    "timedif.days"
   ]
  },
  {
   "cell_type": "code",
   "execution_count": 43,
   "id": "df76fe68-9733-41ee-8b94-e66c8699d61e",
   "metadata": {},
   "outputs": [
    {
     "data": {
      "text/plain": [
       "datetime.datetime(2020, 12, 4, 0, 0)"
      ]
     },
     "execution_count": 43,
     "metadata": {},
     "output_type": "execute_result"
    }
   ],
   "source": [
    "datetime.strptime(date, \"%d-%m - %Y\")"
   ]
  }
 ],
 "metadata": {
  "kernelspec": {
   "display_name": "Python 3",
   "language": "python",
   "name": "python3"
  },
  "language_info": {
   "codemirror_mode": {
    "name": "ipython",
    "version": 3
   },
   "file_extension": ".py",
   "mimetype": "text/x-python",
   "name": "python",
   "nbconvert_exporter": "python",
   "pygments_lexer": "ipython3",
   "version": "3.7.12"
  }
 },
 "nbformat": 4,
 "nbformat_minor": 5
}
