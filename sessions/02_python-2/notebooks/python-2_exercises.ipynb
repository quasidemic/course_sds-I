{
 "cells": [
  {
   "cell_type": "code",
   "execution_count": null,
   "id": "bd06a40a-b0c8-4dc3-b36e-3de1ca2a82ea",
   "metadata": {},
   "outputs": [],
   "source": []
  },
  {
   "cell_type": "markdown",
   "id": "cbbf682c-1011-4c26-9ce3-3b6114bf042e",
   "metadata": {
    "slideshow": {
     "slide_type": "slide"
    },
    "tags": []
   },
   "source": [
    "# FÆLLES ØVELSE: Datoer og tid i Python\n",
    "\n",
    "- Lave dato-kolonne i Eurobarometer data om til datoobjekt\n",
    "- Finde ud af, hvor lang tid det tog at samle data fra de danske respondenter"
   ]
  },
  {
   "cell_type": "markdown",
   "id": "951c5308-63c3-4925-8df2-cbba1e4e9550",
   "metadata": {},
   "source": [
    "## Regex øvelse\n",
    "\n",
    "Hvor mange karakterer i Song of Ice and Fire bog serien har et efternavn, der starter med \"T\"?"
   ]
  },
  {
   "cell_type": "markdown",
   "id": "078ca33f-8d67-4e18-8146-dc96544b3a03",
   "metadata": {
    "slideshow": {
     "slide_type": "slide"
    },
    "tags": []
   },
   "source": [
    "# FÆLLES ØVELSE: Datoer og tid i Python\n",
    "\n",
    "- Lave dato-kolonne i Eurobarometer data om til datoobjekt\n",
    "- Finde ud af, hvor lang tid det tog at samle data fra de danske respondenter"
   ]
  }
 ],
 "metadata": {
  "kernelspec": {
   "display_name": "Python 3",
   "language": "python",
   "name": "python3"
  },
  "language_info": {
   "codemirror_mode": {
    "name": "ipython",
    "version": 3
   },
   "file_extension": ".py",
   "mimetype": "text/x-python",
   "name": "python",
   "nbconvert_exporter": "python",
   "pygments_lexer": "ipython3",
   "version": "3.7.12"
  }
 },
 "nbformat": 4,
 "nbformat_minor": 5
}
