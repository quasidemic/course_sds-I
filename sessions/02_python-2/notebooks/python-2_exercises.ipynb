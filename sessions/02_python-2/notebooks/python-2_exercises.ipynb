{
 "cells": [
  {
   "cell_type": "markdown",
   "id": "951c5308-63c3-4925-8df2-cbba1e4e9550",
   "metadata": {
    "slideshow": {
     "slide_type": "slide"
    },
    "tags": []
   },
   "source": [
    "## ØVELSE: Regular expressions\n",
    "\n",
    "Filen \"soaf_characters.txt\" i datamappen indeholder en liste over alle karakterer fra bogserien \"A Song of Ice and Fire\".\n",
    "\n",
    "Find ud af hvor mange karakterer i bogserien, der har et efternavn, der starter med \"T\".\n",
    "\n",
    "**Tips:**\n",
    "- Hver karakter er adskilt af et linjeskift i filen. Tekstfilen kan laves om til en liste ved at splitte filen ved linjeskift: `.split('\\n')`\n",
    "- Funktionen `set()` danner et sæt af unikke værdier i en liste"
   ]
  }
 ],
 "metadata": {
  "kernelspec": {
   "display_name": "Python 3 (ipykernel)",
   "language": "python",
   "name": "python3"
  },
  "language_info": {
   "codemirror_mode": {
    "name": "ipython",
    "version": 3
   },
   "file_extension": ".py",
   "mimetype": "text/x-python",
   "name": "python",
   "nbconvert_exporter": "python",
   "pygments_lexer": "ipython3",
   "version": "3.8.17"
  }
 },
 "nbformat": 4,
 "nbformat_minor": 5
}
