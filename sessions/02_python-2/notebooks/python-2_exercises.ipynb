{
 "cells": [
  {
   "cell_type": "markdown",
   "id": "951c5308-63c3-4925-8df2-cbba1e4e9550",
   "metadata": {
    "slideshow": {
     "slide_type": "slide"
    },
    "tags": []
   },
   "source": [
    "## ØVELSE: Regular expressions\n",
    "\n",
    "Filen \"soaf_characters.txt\" i datamappen indeholder en liste over alle karakterer fra bogserien \"A Song of Ice and Fire\".\n",
    "\n",
    "Find ud af hvor mange karakterer i bogserien, der har et efternavn, der starter med \"T\".\n",
    "\n",
    "**Tips:**\n",
    "- Hver karakter er adskilt af et linjeskift i filen. Tekstfilen kan laves om til en liste ved at splitte filen ved linjeskift: `.split('\\n')`\n",
    "- Funktionen `set()` danner et sæt af unikke værdier i en liste"
   ]
  },
  {
   "cell_type": "markdown",
   "id": "cbbf682c-1011-4c26-9ce3-3b6114bf042e",
   "metadata": {
    "slideshow": {
     "slide_type": "slide"
    },
    "tags": []
   },
   "source": [
    "# FÆLLES ØVELSE: Datoer og tid i Python\n",
    "\n",
    "- Lave dato-kolonne i Eurobarometer data om til datoobjekt\n",
    "- Finde ud af, hvor lang tid det tog at samle data fra de danske respondenter"
   ]
  }
 ],
 "metadata": {
  "kernelspec": {
   "display_name": "Python 3",
   "language": "python",
   "name": "python3"
  },
  "language_info": {
   "codemirror_mode": {
    "name": "ipython",
    "version": 3
   },
   "file_extension": ".py",
   "mimetype": "text/x-python",
   "name": "python",
   "nbconvert_exporter": "python",
   "pygments_lexer": "ipython3",
   "version": "3.7.12"
  }
 },
 "nbformat": 4,
 "nbformat_minor": 5
}
