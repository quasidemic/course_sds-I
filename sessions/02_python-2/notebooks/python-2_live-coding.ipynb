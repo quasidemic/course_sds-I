{
 "cells": [
  {
   "cell_type": "code",
   "execution_count": 43,
   "id": "2465013b-956d-446f-a65a-9889f7ac27ed",
   "metadata": {},
   "outputs": [],
   "source": [
    "import pandas as pd\n",
    "import re\n",
    "from datetime import datetime\n",
    "\n",
    "text = \"\"\"Der var tre drenge, der skulle ud i skoven. Den ene hed Jakob; de to andre hed Finn. \n",
    "så blev den ene Finn væk, så Jakob sagde til den anden Finn: \"Finn find, Finn\".\n",
    "Finn kiggede mærkelig på Jakob og sagde: 'Jakob Jakob Jakob'.\"\"\""
   ]
  },
  {
   "cell_type": "markdown",
   "id": "d924bd7b-656a-464d-bbe5-7b6d28e50016",
   "metadata": {
    "tags": []
   },
   "source": [
    "# String metoder i Python (live coding)"
   ]
  },
  {
   "cell_type": "markdown",
   "id": "7af3f78d-6e1f-4c8d-bfc2-ebb28a563ffb",
   "metadata": {},
   "source": [
    "## String metoder\n",
    "\n",
    "En tekstværdi kaldes en \"string\" inden for programmeringssprog. For at arbejde med tekst, er det relevant at vide, hvordan Python arbejder med enkelte tekstværdier.\n",
    "\n",
    "Vi ser herunder nærmere på indbyggede string-metoder i Python\n"
   ]
  },
  {
   "cell_type": "code",
   "execution_count": 3,
   "id": "0bccda67-c264-4693-b833-acbfbbd3c60b",
   "metadata": {},
   "outputs": [
    {
     "name": "stdout",
     "output_type": "stream",
     "text": [
      "Der var tre drenge, der skulle ud i skoven. Den ene hed Jakob; de to andre hed Finn. \n",
      "så blev den ene Finn væk, så Jakob sagde til den anden Finn: \"Finn find, Finn\".\n",
      "Finn kiggede mærkelig på Jakob og sagde: 'Jakob Jakob Jakob'.\n"
     ]
    }
   ],
   "source": [
    "text = \"\"\"Der var tre drenge, der skulle ud i skoven. Den ene hed Jakob; de to andre hed Finn. \n",
    "så blev den ene Finn væk, så Jakob sagde til den anden Finn: \"Finn find, Finn\".\n",
    "Finn kiggede mærkelig på Jakob og sagde: 'Jakob Jakob Jakob'.\"\"\"\n",
    "\n",
    "print(text)"
   ]
  },
  {
   "cell_type": "code",
   "execution_count": 5,
   "id": "3d7ebc3a-6201-4862-a3fa-f3da56c94922",
   "metadata": {},
   "outputs": [
    {
     "data": {
      "text/plain": [
       "str"
      ]
     },
     "execution_count": 5,
     "metadata": {},
     "output_type": "execute_result"
    }
   ],
   "source": [
    "type(text)"
   ]
  },
  {
   "cell_type": "code",
   "execution_count": 6,
   "id": "52de7a95-85cf-4fb7-83d3-1aa4bdc74f45",
   "metadata": {},
   "outputs": [
    {
     "data": {
      "text/plain": [
       "True"
      ]
     },
     "execution_count": 6,
     "metadata": {},
     "output_type": "execute_result"
    }
   ],
   "source": [
    "text.startswith(\"Der\")"
   ]
  },
  {
   "cell_type": "code",
   "execution_count": 8,
   "id": "0f622c18-cf49-4127-a4b2-87b8bc00d44d",
   "metadata": {},
   "outputs": [
    {
     "data": {
      "text/plain": [
       "True"
      ]
     },
     "execution_count": 8,
     "metadata": {},
     "output_type": "execute_result"
    }
   ],
   "source": [
    "text.endswith(\".\")"
   ]
  },
  {
   "cell_type": "code",
   "execution_count": 9,
   "id": "0fa195a5-b98b-4dde-b5d1-00e86970a95d",
   "metadata": {},
   "outputs": [
    {
     "data": {
      "text/plain": [
       "True"
      ]
     },
     "execution_count": 9,
     "metadata": {},
     "output_type": "execute_result"
    }
   ],
   "source": [
    "\"Finn\" in text"
   ]
  },
  {
   "cell_type": "code",
   "execution_count": 10,
   "id": "2d9f5ddd-34aa-41bc-95a2-e11200723036",
   "metadata": {},
   "outputs": [
    {
     "data": {
      "text/plain": [
       "False"
      ]
     },
     "execution_count": 10,
     "metadata": {},
     "output_type": "execute_result"
    }
   ],
   "source": [
    "\"finn\" in text # findes ikke, da \"Finn\" står med stort"
   ]
  },
  {
   "cell_type": "code",
   "execution_count": 11,
   "id": "61b2c823-1ab9-4fad-9df3-01e9d1d19ca0",
   "metadata": {},
   "outputs": [
    {
     "data": {
      "text/plain": [
       "True"
      ]
     },
     "execution_count": 11,
     "metadata": {},
     "output_type": "execute_result"
    }
   ],
   "source": [
    "\"finn\" in text.lower()"
   ]
  },
  {
   "cell_type": "code",
   "execution_count": 13,
   "id": "cb561268-fb21-4434-9cd0-689e26d460eb",
   "metadata": {},
   "outputs": [
    {
     "name": "stdout",
     "output_type": "stream",
     "text": [
      "DER VAR TRE DRENGE, DER SKULLE UD I SKOVEN. DEN ENE HED JAKOB; DE TO ANDRE HED FINN. \n",
      "SÅ BLEV DEN ENE FINN VÆK, SÅ JAKOB SAGDE TIL DEN ANDEN FINN: \"FINN FIND, FINN\".\n",
      "FINN KIGGEDE MÆRKELIG PÅ JAKOB OG SAGDE: 'JAKOB JAKOB JAKOB'.\n"
     ]
    }
   ],
   "source": [
    "print(text.upper())"
   ]
  },
  {
   "cell_type": "markdown",
   "id": "88e76001-52d0-475c-bbe1-e9a332a15df8",
   "metadata": {},
   "source": [
    "## String metoder i pandas\n",
    "\n",
    "Mange string metoder kan anvendes på pandas series - ofte ved at tilføje `.str`"
   ]
  },
  {
   "cell_type": "code",
   "execution_count": 22,
   "id": "8cd211ec-0d1c-42cc-94e2-6a20b13d6a6c",
   "metadata": {},
   "outputs": [
    {
     "data": {
      "text/plain": [
       "0           Retired, unable to work\n",
       "1                           Student\n",
       "2     Unskilled manual worker, etc.\n",
       "3           Retired, unable to work\n",
       "4    Employed position, service job\n",
       "Name: d15a, dtype: object"
      ]
     },
     "execution_count": 22,
     "metadata": {},
     "output_type": "execute_result"
    }
   ],
   "source": [
    "eurob = pd.read_csv(data_path)\n",
    "eurob['d15a'].head()"
   ]
  },
  {
   "cell_type": "code",
   "execution_count": 23,
   "id": "8a4f0d63-0858-4337-95b1-d52523bb9ffc",
   "metadata": {},
   "outputs": [
    {
     "data": {
      "text/plain": [
       "0     True\n",
       "1    False\n",
       "2    False\n",
       "3     True\n",
       "4    False\n",
       "Name: d15a, dtype: bool"
      ]
     },
     "execution_count": 23,
     "metadata": {},
     "output_type": "execute_result"
    }
   ],
   "source": [
    "eurob['d15a'].str.startswith(\"Retired\").head()"
   ]
  },
  {
   "cell_type": "code",
   "execution_count": 24,
   "id": "f93b5049-97f8-4412-9895-ea28759a93a2",
   "metadata": {},
   "outputs": [
    {
     "data": {
      "text/plain": [
       "378"
      ]
     },
     "execution_count": 24,
     "metadata": {},
     "output_type": "execute_result"
    }
   ],
   "source": [
    "eurob['d15a'].str.startswith(\"Retired\").sum() # Hvor mange svar starter med \"Retired\"?"
   ]
  },
  {
   "cell_type": "markdown",
   "id": "9c8dd97c-7fdd-49cc-8a47-e87e144d89be",
   "metadata": {},
   "source": [
    "`str.contains()` på en pandas series svarer til at bruge `in` på en string."
   ]
  },
  {
   "cell_type": "code",
   "execution_count": 25,
   "id": "5a7ca81b-e6a2-4beb-a5c5-c885f6d9d3ef",
   "metadata": {},
   "outputs": [
    {
     "data": {
      "text/plain": [
       "528"
      ]
     },
     "execution_count": 25,
     "metadata": {},
     "output_type": "execute_result"
    }
   ],
   "source": [
    "eurob['d15a'].str.contains(\"work\").sum() # Hvor mange svar indeholder \"work\"?"
   ]
  },
  {
   "cell_type": "markdown",
   "id": "856cf7b9-abd9-4d87-b60d-892ab285486e",
   "metadata": {},
   "source": [
    "Fordi metoder som `str.startswith()` og `str.contains()` returnerer logiske værdier (`True`/`False`), så kan de bruges til subsetting."
   ]
  },
  {
   "cell_type": "code",
   "execution_count": 27,
   "id": "8bef635d-a3e7-4a2c-a10e-ad3a5e6589b6",
   "metadata": {},
   "outputs": [
    {
     "data": {
      "text/html": [
       "<div>\n",
       "<style scoped>\n",
       "    .dataframe tbody tr th:only-of-type {\n",
       "        vertical-align: middle;\n",
       "    }\n",
       "\n",
       "    .dataframe tbody tr th {\n",
       "        vertical-align: top;\n",
       "    }\n",
       "\n",
       "    .dataframe thead th {\n",
       "        text-align: right;\n",
       "    }\n",
       "</style>\n",
       "<table border=\"1\" class=\"dataframe\">\n",
       "  <thead>\n",
       "    <tr style=\"text-align: right;\">\n",
       "      <th></th>\n",
       "      <th>uniqid</th>\n",
       "      <th>d11</th>\n",
       "      <th>polintr</th>\n",
       "      <th>qb1</th>\n",
       "      <th>qb3_1</th>\n",
       "      <th>qb3_2</th>\n",
       "      <th>qb3_3</th>\n",
       "      <th>qb3_4</th>\n",
       "      <th>qb3_5</th>\n",
       "      <th>qb3_6</th>\n",
       "      <th>...</th>\n",
       "      <th>d10</th>\n",
       "      <th>d15a</th>\n",
       "      <th>d15b</th>\n",
       "      <th>d25</th>\n",
       "      <th>d63</th>\n",
       "      <th>d1</th>\n",
       "      <th>p1</th>\n",
       "      <th>p2</th>\n",
       "      <th>p3</th>\n",
       "      <th>region_denmark</th>\n",
       "    </tr>\n",
       "  </thead>\n",
       "  <tbody>\n",
       "    <tr>\n",
       "      <th>0</th>\n",
       "      <td>110005573</td>\n",
       "      <td>71</td>\n",
       "      <td>Not at all</td>\n",
       "      <td>Fairly important</td>\n",
       "      <td>Not mentioned</td>\n",
       "      <td>Not mentioned</td>\n",
       "      <td>Not mentioned</td>\n",
       "      <td>Not mentioned</td>\n",
       "      <td>Not mentioned</td>\n",
       "      <td>Not mentioned</td>\n",
       "      <td>...</td>\n",
       "      <td>Man</td>\n",
       "      <td>Retired, unable to work</td>\n",
       "      <td>Middle management, etc.</td>\n",
       "      <td>Large town</td>\n",
       "      <td>The middle class of society</td>\n",
       "      <td>9</td>\n",
       "      <td>16 Sep 21</td>\n",
       "      <td>13 - 16 h</td>\n",
       "      <td>2099</td>\n",
       "      <td>DK05 - Nordjylland</td>\n",
       "    </tr>\n",
       "    <tr>\n",
       "      <th>2</th>\n",
       "      <td>110005575</td>\n",
       "      <td>53</td>\n",
       "      <td>Medium</td>\n",
       "      <td>Very important</td>\n",
       "      <td>Not mentioned</td>\n",
       "      <td>Cyber-attacks and cybercrime such as theft or ...</td>\n",
       "      <td>The difficulty of learning new digital skills ...</td>\n",
       "      <td>Not mentioned</td>\n",
       "      <td>Not mentioned</td>\n",
       "      <td>Not mentioned</td>\n",
       "      <td>...</td>\n",
       "      <td>Woman</td>\n",
       "      <td>Unskilled manual worker, etc.</td>\n",
       "      <td>Inap. (not 1 to 4 in d15a)</td>\n",
       "      <td>Rural area or village</td>\n",
       "      <td>The middle class of society</td>\n",
       "      <td>8</td>\n",
       "      <td>17 Sep 21</td>\n",
       "      <td>13 - 16 h</td>\n",
       "      <td>1738</td>\n",
       "      <td>DK02 - Sjaelland</td>\n",
       "    </tr>\n",
       "    <tr>\n",
       "      <th>3</th>\n",
       "      <td>110005576</td>\n",
       "      <td>70</td>\n",
       "      <td>Medium</td>\n",
       "      <td>Very important</td>\n",
       "      <td>Not mentioned</td>\n",
       "      <td>Cyber-attacks and cybercrime such as theft or ...</td>\n",
       "      <td>Not mentioned</td>\n",
       "      <td>The safety and well-being of children</td>\n",
       "      <td>The difficulty some people have accessing the ...</td>\n",
       "      <td>Not mentioned</td>\n",
       "      <td>...</td>\n",
       "      <td>Man</td>\n",
       "      <td>Retired, unable to work</td>\n",
       "      <td>Middle management, etc.</td>\n",
       "      <td>Rural area or village</td>\n",
       "      <td>The middle class of society</td>\n",
       "      <td>8</td>\n",
       "      <td>17 Sep 21</td>\n",
       "      <td>13 - 16 h</td>\n",
       "      <td>2759</td>\n",
       "      <td>DK02 - Sjaelland</td>\n",
       "    </tr>\n",
       "    <tr>\n",
       "      <th>5</th>\n",
       "      <td>110005578</td>\n",
       "      <td>66</td>\n",
       "      <td>Medium</td>\n",
       "      <td>Very important</td>\n",
       "      <td>Not mentioned</td>\n",
       "      <td>Cyber-attacks and cybercrime such as theft or ...</td>\n",
       "      <td>The difficulty of learning new digital skills ...</td>\n",
       "      <td>The safety and well-being of children</td>\n",
       "      <td>The difficulty some people have accessing the ...</td>\n",
       "      <td>Not mentioned</td>\n",
       "      <td>...</td>\n",
       "      <td>Woman</td>\n",
       "      <td>Retired, unable to work</td>\n",
       "      <td>Skilled manual worker</td>\n",
       "      <td>Small/middle town</td>\n",
       "      <td>The working class of society</td>\n",
       "      <td>5</td>\n",
       "      <td>17 Sep 21</td>\n",
       "      <td>8 - 12 h</td>\n",
       "      <td>3415</td>\n",
       "      <td>DK05 - Nordjylland</td>\n",
       "    </tr>\n",
       "    <tr>\n",
       "      <th>6</th>\n",
       "      <td>110005579</td>\n",
       "      <td>85</td>\n",
       "      <td>Medium</td>\n",
       "      <td>Not at all important</td>\n",
       "      <td>Not mentioned</td>\n",
       "      <td>Not mentioned</td>\n",
       "      <td>Not mentioned</td>\n",
       "      <td>Not mentioned</td>\n",
       "      <td>Not mentioned</td>\n",
       "      <td>The difficulty of disconnecting and finding a ...</td>\n",
       "      <td>...</td>\n",
       "      <td>Man</td>\n",
       "      <td>Retired, unable to work</td>\n",
       "      <td>Skilled manual worker</td>\n",
       "      <td>Rural area or village</td>\n",
       "      <td>The working class of society</td>\n",
       "      <td>3</td>\n",
       "      <td>17 Sep 21</td>\n",
       "      <td>8 - 12 h</td>\n",
       "      <td>2578</td>\n",
       "      <td>DK05 - Nordjylland</td>\n",
       "    </tr>\n",
       "  </tbody>\n",
       "</table>\n",
       "<p>5 rows × 23 columns</p>\n",
       "</div>"
      ],
      "text/plain": [
       "      uniqid d11     polintr                   qb1          qb3_1  \\\n",
       "0  110005573  71  Not at all      Fairly important  Not mentioned   \n",
       "2  110005575  53      Medium        Very important  Not mentioned   \n",
       "3  110005576  70      Medium        Very important  Not mentioned   \n",
       "5  110005578  66      Medium        Very important  Not mentioned   \n",
       "6  110005579  85      Medium  Not at all important  Not mentioned   \n",
       "\n",
       "                                               qb3_2  \\\n",
       "0                                      Not mentioned   \n",
       "2  Cyber-attacks and cybercrime such as theft or ...   \n",
       "3  Cyber-attacks and cybercrime such as theft or ...   \n",
       "5  Cyber-attacks and cybercrime such as theft or ...   \n",
       "6                                      Not mentioned   \n",
       "\n",
       "                                               qb3_3  \\\n",
       "0                                      Not mentioned   \n",
       "2  The difficulty of learning new digital skills ...   \n",
       "3                                      Not mentioned   \n",
       "5  The difficulty of learning new digital skills ...   \n",
       "6                                      Not mentioned   \n",
       "\n",
       "                                   qb3_4  \\\n",
       "0                          Not mentioned   \n",
       "2                          Not mentioned   \n",
       "3  The safety and well-being of children   \n",
       "5  The safety and well-being of children   \n",
       "6                          Not mentioned   \n",
       "\n",
       "                                               qb3_5  \\\n",
       "0                                      Not mentioned   \n",
       "2                                      Not mentioned   \n",
       "3  The difficulty some people have accessing the ...   \n",
       "5  The difficulty some people have accessing the ...   \n",
       "6                                      Not mentioned   \n",
       "\n",
       "                                               qb3_6  ...    d10  \\\n",
       "0                                      Not mentioned  ...    Man   \n",
       "2                                      Not mentioned  ...  Woman   \n",
       "3                                      Not mentioned  ...    Man   \n",
       "5                                      Not mentioned  ...  Woman   \n",
       "6  The difficulty of disconnecting and finding a ...  ...    Man   \n",
       "\n",
       "                            d15a                        d15b  \\\n",
       "0        Retired, unable to work     Middle management, etc.   \n",
       "2  Unskilled manual worker, etc.  Inap. (not 1 to 4 in d15a)   \n",
       "3        Retired, unable to work     Middle management, etc.   \n",
       "5        Retired, unable to work       Skilled manual worker   \n",
       "6        Retired, unable to work       Skilled manual worker   \n",
       "\n",
       "                     d25                           d63 d1         p1  \\\n",
       "0             Large town   The middle class of society  9  16 Sep 21   \n",
       "2  Rural area or village   The middle class of society  8  17 Sep 21   \n",
       "3  Rural area or village   The middle class of society  8  17 Sep 21   \n",
       "5      Small/middle town  The working class of society  5  17 Sep 21   \n",
       "6  Rural area or village  The working class of society  3  17 Sep 21   \n",
       "\n",
       "          p2    p3      region_denmark  \n",
       "0  13 - 16 h  2099  DK05 - Nordjylland  \n",
       "2  13 - 16 h  1738    DK02 - Sjaelland  \n",
       "3  13 - 16 h  2759    DK02 - Sjaelland  \n",
       "5   8 - 12 h  3415  DK05 - Nordjylland  \n",
       "6   8 - 12 h  2578  DK05 - Nordjylland  \n",
       "\n",
       "[5 rows x 23 columns]"
      ]
     },
     "execution_count": 27,
     "metadata": {},
     "output_type": "execute_result"
    }
   ],
   "source": [
    "eurob_work = eurob.loc[eurob['d15a'].str.contains(\"work\"), :]\n",
    "eurob_work.head()"
   ]
  },
  {
   "cell_type": "markdown",
   "id": "d5706fe4-de5e-44be-a3d5-d471fbb4d665",
   "metadata": {
    "tags": []
   },
   "source": [
    "# Regular expressions i Python (live coding)"
   ]
  },
  {
   "cell_type": "markdown",
   "id": "8486db79-cdca-4dfe-b114-a4370d9f9797",
   "metadata": {},
   "source": [
    "## `re` modulet\n",
    "\n",
    "For at arbejde med regular expressions, bruges typisk `re` modulet.\n",
    "\n",
    "Man danner først regular expression mønster med `re.compile()`. Derefter kan man foretage søgninger i tekst via indbyggede metoder i den dannede regular expression (regex)."
   ]
  },
  {
   "cell_type": "code",
   "execution_count": 31,
   "id": "e29a3472-59a9-4f48-9fa7-0dfa127b6670",
   "metadata": {},
   "outputs": [
    {
     "data": {
      "text/plain": [
       "<re.Match object; span=(148, 163), match='Finn find, Finn'>"
      ]
     },
     "execution_count": 31,
     "metadata": {},
     "output_type": "execute_result"
    }
   ],
   "source": [
    "import re\n",
    "\n",
    "pattern = re.compile(\"[A-Z]\\w+\\s\\w+.?\\s([A-Z]\\w+)\")\n",
    "\n",
    "pattern.search(text)"
   ]
  },
  {
   "cell_type": "markdown",
   "id": "32714cb5-bc1e-44f4-bbc1-22be59f03ff6",
   "metadata": {},
   "source": [
    "Matches i *groups* tilgås via `.group()`\n",
    "- `group(0)`: hele matchet\n",
    "- `group(1)`: match i første gruppe"
   ]
  },
  {
   "cell_type": "code",
   "execution_count": 32,
   "id": "759e88bc-98e0-486d-b82d-b278f21970ce",
   "metadata": {},
   "outputs": [
    {
     "data": {
      "text/plain": [
       "'Finn'"
      ]
     },
     "execution_count": 32,
     "metadata": {},
     "output_type": "execute_result"
    }
   ],
   "source": [
    "pattern.search(text).group(1)"
   ]
  },
  {
   "cell_type": "markdown",
   "id": "b2ef2a42-f209-43ef-accf-f1ae9121ce4d",
   "metadata": {},
   "source": [
    "## Regular expressions i pandas\n",
    "\n",
    "Pandas understøtter regular expressions i flere metoder - bl.a. med `str.contains()`"
   ]
  },
  {
   "cell_type": "code",
   "execution_count": 37,
   "id": "7c83178d-137c-4053-b5d3-1e01a0a88b79",
   "metadata": {},
   "outputs": [
    {
     "data": {
      "text/plain": [
       "0           Retired, unable to work\n",
       "1                           Student\n",
       "2     Unskilled manual worker, etc.\n",
       "3           Retired, unable to work\n",
       "4    Employed position, service job\n",
       "Name: d15a, dtype: object"
      ]
     },
     "execution_count": 37,
     "metadata": {},
     "output_type": "execute_result"
    }
   ],
   "source": [
    "pattern = re.compile(\"work|retired\", re.IGNORECASE)\n",
    "\n",
    "eurob['d15a'].head()"
   ]
  },
  {
   "cell_type": "code",
   "execution_count": 39,
   "id": "885d2739-2e3b-4167-8551-e9461668143b",
   "metadata": {},
   "outputs": [
    {
     "data": {
      "text/plain": [
       "0     True\n",
       "1    False\n",
       "2     True\n",
       "3     True\n",
       "4    False\n",
       "Name: d15a, dtype: bool"
      ]
     },
     "execution_count": 39,
     "metadata": {},
     "output_type": "execute_result"
    }
   ],
   "source": [
    "eurob['d15a'].str.contains(pattern, regex = True).head()"
   ]
  },
  {
   "cell_type": "markdown",
   "id": "2ee64555-ef5f-4027-b373-afbbfb54fb1f",
   "metadata": {
    "jp-MarkdownHeadingCollapsed": true,
    "tags": []
   },
   "source": [
    "# Indlæsning af tekstfiler i Python (live coding)"
   ]
  },
  {
   "cell_type": "markdown",
   "id": "0f975e50-1f77-4cfd-afa4-4661d70a9d39",
   "metadata": {},
   "source": [
    "## Navigér i filsystemer med `os` \n",
    "\n",
    "`os` modulet tillader (blandt andet) at man kan navigere rundt i filsystemer (os: operating system).\n",
    "\n",
    "Fx kan man tjekke ens nuværende arbejdssti:"
   ]
  },
  {
   "cell_type": "code",
   "execution_count": 40,
   "id": "c72da801-ce0a-4921-9119-d6cfe529f5f7",
   "metadata": {},
   "outputs": [
    {
     "data": {
      "text/plain": [
       "'C:\\\\repos\\\\workshops_repos\\\\course_sds-I\\\\sessions\\\\02_python-2\\\\notebooks'"
      ]
     },
     "execution_count": 40,
     "metadata": {},
     "output_type": "execute_result"
    }
   ],
   "source": [
    "import os\n",
    "\n",
    "os.getcwd()"
   ]
  },
  {
   "cell_type": "markdown",
   "id": "6066fa7a-8d2b-4e40-9094-728a3b92fd92",
   "metadata": {},
   "source": [
    "### Filstier med `os`\n",
    "\n",
    "Filstier i Python er i princippet blot strings. Hvis en funktion forventer en filsti, kan denne blot angives som en string.\n",
    "\n",
    "Alternativt kan man også danne stier med `os.path.join()`."
   ]
  },
  {
   "cell_type": "code",
   "execution_count": 46,
   "id": "68a488bd-f7e7-48ca-867a-8d5bcf27f74e",
   "metadata": {},
   "outputs": [],
   "source": [
    "data_dir = os.path.join('..', '..', '..', 'data') # danner sti til datamappe\n",
    "\n",
    "filename = 'soaf_characters.txt'\n",
    "\n",
    "filepath = os.path.join(data_dir, filename)"
   ]
  },
  {
   "cell_type": "markdown",
   "id": "646622c6-e61c-47b6-9252-7ed2411c04e1",
   "metadata": {},
   "source": [
    "## Åben filer med `open`\n",
    "\n",
    "`open` modulet bruges til at åbne tekstfiler i Python. Man kan både skrive og læse tekstfiler gennem `open`.\n",
    "- `'r'`-arugment: læserettighed\n",
    "- `'w'`-argument: skriverettighed"
   ]
  },
  {
   "cell_type": "code",
   "execution_count": 47,
   "id": "c7a1d016-ac93-4224-bf3f-556c9cf2e7ab",
   "metadata": {},
   "outputs": [],
   "source": [
    "with open(filepath, 'r') as f:\n",
    "    soaf_text = f.read()"
   ]
  },
  {
   "cell_type": "markdown",
   "id": "b9ddac08-90f6-441b-9915-66a2017841dc",
   "metadata": {},
   "source": [
    "### Fra tekst til datastruktur\n",
    "\n",
    "Ved at læse en tekstfil ind gennem `.read()` får man blot hele teksten som én lang string. Hvis datafilen har en eller anden struktur, som man kan drage nytte af, må man selv specificerer det, for at tvinge data om til den rigtige struktur."
   ]
  },
  {
   "cell_type": "code",
   "execution_count": 50,
   "id": "feb74b92-fc9f-4980-b89c-ab8ab2c168da",
   "metadata": {},
   "outputs": [
    {
     "data": {
      "text/plain": [
       "'Abelar Hightower\\nAbelon\\nAddam of Duskendale\\nAddam Frey\\nAddam Hightower\\nAddam Marbrand\\nAddam Osgrey\\nA'"
      ]
     },
     "execution_count": 50,
     "metadata": {},
     "output_type": "execute_result"
    }
   ],
   "source": [
    "soaf_text[0:100]"
   ]
  },
  {
   "cell_type": "markdown",
   "id": "d121cf30-c971-4250-a542-9a91ebc67335",
   "metadata": {},
   "source": [
    "I \"soaf_characters.txt\" filen er hver karakter adskilt med linjeskift. `.split()` metoden kan derfor bruges til at omdanne til en liste:"
   ]
  },
  {
   "cell_type": "code",
   "execution_count": 52,
   "id": "7a16ddfd-6dc4-4624-917c-b856ca489931",
   "metadata": {},
   "outputs": [],
   "source": [
    "soaf_char = soaf_text.split('\\n')"
   ]
  },
  {
   "cell_type": "code",
   "execution_count": 53,
   "id": "a2cf9898-0194-4b64-955c-4bd82960507c",
   "metadata": {},
   "outputs": [
    {
     "data": {
      "text/plain": [
       "['Abelar Hightower',\n",
       " 'Abelon',\n",
       " 'Addam of Duskendale',\n",
       " 'Addam Frey',\n",
       " 'Addam Hightower']"
      ]
     },
     "execution_count": 53,
     "metadata": {},
     "output_type": "execute_result"
    }
   ],
   "source": [
    "soaf_char[0:5]"
   ]
  },
  {
   "cell_type": "markdown",
   "id": "ddb5afab-2176-4dfa-af65-382713703154",
   "metadata": {
    "tags": []
   },
   "source": [
    "# Arbejd med længere tekster i Python (live-coding)"
   ]
  },
  {
   "cell_type": "markdown",
   "id": "5071fa25-d76c-4c71-98b8-a045a7bbe374",
   "metadata": {},
   "source": [
    "## Arbejd med længere tekster\n",
    "\n",
    "Der er principielt ingen grænse for, hvor lang én string kan være (udover den begrænsning computerens harware sætter).\n",
    "\n",
    "Når man arbejder med hele tekster, vil disse ikke have en givet datastruktur i forvejen. Derfor er man nødt til at arbejde med dem som hele strings og derfra evt. udlede visse informationer, som kan sættes i struktur."
   ]
  },
  {
   "cell_type": "code",
   "execution_count": 57,
   "id": "8133ede3-0477-451c-aa20-b60f685778e0",
   "metadata": {},
   "outputs": [],
   "source": [
    "# Indlæser referat fra møde i Folketingssalen (fra 25. august 2022)\n",
    "\n",
    "parl_dir = os.path.join(data_dir, 'dk_parl')\n",
    "filename = 'dkpark_125_20220825.txt'\n",
    "filepath = os.path.join(parl_dir, filename)\n",
    "\n",
    "with open(filepath, 'r') as f:\n",
    "    parl_ref = f.read()"
   ]
  },
  {
   "cell_type": "markdown",
   "id": "8a34bdd3-f7bb-4b96-b750-4d83b1709e2f",
   "metadata": {},
   "source": [
    "### Brug af regular expressions på længere tekster\n",
    "\n",
    "Regular expressions virker uanset længden af en string. Det er derfor oplagt at bruge disse til at udlede information fra tekst."
   ]
  },
  {
   "cell_type": "code",
   "execution_count": 62,
   "id": "8b01b60b-74ff-4e0a-af55-4abca747c69f",
   "metadata": {},
   "outputs": [
    {
     "data": {
      "text/plain": [
       "['Valgs PrÃ',\n",
       " 'Kristian Thulesen Dahl',\n",
       " 'Rune Lund',\n",
       " 'Jeppe Bruus',\n",
       " 'Jesper Petersen']"
      ]
     },
     "execution_count": 62,
     "metadata": {},
     "output_type": "execute_result"
    }
   ],
   "source": [
    "import re\n",
    "\n",
    "names_pattern = re.compile('[A-Z]\\w+\\s(?:[A-Z]\\w+\\s)?[A-Z]\\w+')\n",
    "\n",
    "names_pattern.findall(parl_ref)[0:5]"
   ]
  },
  {
   "cell_type": "code",
   "execution_count": 64,
   "id": "fa587802-f6a8-494f-b743-8fb7121b6e9e",
   "metadata": {},
   "outputs": [
    {
     "data": {
      "text/plain": [
       "['43.500 kr.',\n",
       " '44.300 kr.',\n",
       " '2.000 kr.',\n",
       " '8 kr.',\n",
       " '5 kr.',\n",
       " '5 kr.',\n",
       " '10 kr.',\n",
       " '1.900\\nkr.',\n",
       " '1.900\\nkr.',\n",
       " '90.000 kr.',\n",
       " '6.000 kr.',\n",
       " '7.000\\nkr.',\n",
       " '16 kr.',\n",
       " '77 kr.',\n",
       " '19 kr.',\n",
       " '1\\nkr.',\n",
       " '1 kr.',\n",
       " '1 kr.',\n",
       " '10\\nkr.',\n",
       " '4.000 kr.',\n",
       " '4.000 kr.',\n",
       " '4.000 kr.',\n",
       " '4.000 kr.',\n",
       " '4.000 kr.',\n",
       " '4.000 kr.',\n",
       " '4.000 kr.',\n",
       " '5.000 kr.',\n",
       " '2.000 kr.',\n",
       " '2.000 kr.',\n",
       " '2.500 kr.',\n",
       " '2.500 kr.',\n",
       " '5.000 kr.',\n",
       " '2000 kr.',\n",
       " '2.000 kr.',\n",
       " '500 kr.']"
      ]
     },
     "execution_count": 64,
     "metadata": {},
     "output_type": "execute_result"
    }
   ],
   "source": [
    "money_pattern = re.compile('\\d{1,3}\\.?(?:\\d{1,3})?\\.?(?:\\d{1,3})?\\skr\\.?')\n",
    "\n",
    "money_pattern.findall(parl_ref)"
   ]
  },
  {
   "cell_type": "markdown",
   "id": "46e6bc98-5411-479e-9f2c-edfd74f1ecb8",
   "metadata": {
    "jp-MarkdownHeadingCollapsed": true,
    "tags": []
   },
   "source": [
    "# Datoer og tid i Python (live coding)"
   ]
  },
  {
   "cell_type": "markdown",
   "id": "b89d0e1f-ed15-43f5-a614-1b6a2afa311e",
   "metadata": {},
   "source": [
    "## `datetime` modulet\n",
    "\n",
    "`datetime` modulet bruges til at lave strings om til datoer (uden for pandas).\n",
    "\n",
    "*Bemærk*: Alle funktioner ligger i `datetime.datetime`, så man kan med fordel importere med `from datetime import datetime`"
   ]
  },
  {
   "cell_type": "code",
   "execution_count": 65,
   "id": "97931c0c-ffdd-49ad-bbb8-a1650113ca51",
   "metadata": {},
   "outputs": [
    {
     "data": {
      "text/plain": [
       "datetime.date(2022, 9, 12)"
      ]
     },
     "execution_count": 65,
     "metadata": {},
     "output_type": "execute_result"
    }
   ],
   "source": [
    "from datetime import datetime\n",
    "\n",
    "date_today = datetime.now().date()\n",
    "\n",
    "date_today"
   ]
  },
  {
   "cell_type": "code",
   "execution_count": 66,
   "id": "7150523e-ac29-4577-b245-ba26f4196f9b",
   "metadata": {},
   "outputs": [
    {
     "name": "stdout",
     "output_type": "stream",
     "text": [
      "12 9\n"
     ]
    }
   ],
   "source": [
    "print(date_today.day,\n",
    "      date_today.month)"
   ]
  },
  {
   "cell_type": "markdown",
   "id": "8e3cc87c-1952-4b1c-82e9-2d7da7851c74",
   "metadata": {},
   "source": [
    "Man danner datoobjekter fra strings med `datetime.strptime()`."
   ]
  },
  {
   "cell_type": "code",
   "execution_count": 70,
   "id": "0ed2a617-05eb-4d50-b4f5-25b6f5da1cf8",
   "metadata": {},
   "outputs": [
    {
     "data": {
      "text/plain": [
       "datetime.date(2021, 8, 7)"
      ]
     },
     "execution_count": 70,
     "metadata": {},
     "output_type": "execute_result"
    }
   ],
   "source": [
    "datestr = '07 08-2021'\n",
    "\n",
    "date = datetime.strptime(datestr, '%d %m-%Y').date()\n",
    "date"
   ]
  },
  {
   "cell_type": "code",
   "execution_count": 71,
   "id": "01c76cc1-202b-4b25-a820-86671739bda8",
   "metadata": {},
   "outputs": [
    {
     "name": "stdout",
     "output_type": "stream",
     "text": [
      "7 8\n"
     ]
    }
   ],
   "source": [
    "print(date.day,\n",
    "      date.month)"
   ]
  },
  {
   "cell_type": "markdown",
   "id": "aaefd29a-1c06-4781-8ffa-e5d7516fda3a",
   "metadata": {},
   "source": [
    "Ved at trække to datoobjekter fra hinanden, dannes et `timedelta` objekt (tidsdifference)."
   ]
  },
  {
   "cell_type": "code",
   "execution_count": 73,
   "id": "c6998717-9e9f-4513-8540-6a75f1acafc4",
   "metadata": {},
   "outputs": [
    {
     "data": {
      "text/plain": [
       "datetime.timedelta(days=401)"
      ]
     },
     "execution_count": 73,
     "metadata": {},
     "output_type": "execute_result"
    }
   ],
   "source": [
    "timedif = date_today - date\n",
    "\n",
    "timedif"
   ]
  },
  {
   "cell_type": "markdown",
   "id": "6e711c0a-c3db-4978-ac0a-1de0cae53d46",
   "metadata": {},
   "source": [
    "Forskellen kan konverteres til numerisk ved at referere til en tidsenhed som attribute:"
   ]
  },
  {
   "cell_type": "code",
   "execution_count": 77,
   "id": "a42b8d8e-c88e-4c02-bc5b-401a07638ae4",
   "metadata": {},
   "outputs": [
    {
     "data": {
      "text/plain": [
       "401"
      ]
     },
     "execution_count": 77,
     "metadata": {},
     "output_type": "execute_result"
    }
   ],
   "source": [
    "timedif.days"
   ]
  },
  {
   "cell_type": "markdown",
   "id": "42fde51d-529d-446b-9ba7-e24738767622",
   "metadata": {},
   "source": [
    "## Datoer og tid i `pandas`\n",
    "\n",
    "Pandas indeholder en del metoder til at arbejde med datetime, der minder om basismodulet\n",
    "- Tilgås under `.dt`\n",
    "\n",
    "For at konvertere en data frame kolonne til dato, bruges funktionen `pd.to_datetime()` (fungerer meget ligesom `datetime.strptime()`\n",
    "- *Bemærk*: Funktion; ikke metode. Tager en Series med datolignende strings og datoformat som argument"
   ]
  },
  {
   "cell_type": "code",
   "execution_count": 78,
   "id": "60eeb855-6203-4484-b577-aa454d5a2a4e",
   "metadata": {},
   "outputs": [
    {
     "name": "stdout",
     "output_type": "stream",
     "text": [
      "0   2022-08-02\n",
      "1   2022-08-04\n",
      "2   2022-06-30\n",
      "dtype: datetime64[ns]\n"
     ]
    }
   ],
   "source": [
    "dates = pd.Series([\"2022-08-02\", \"2022-08-04\", \"2022-06-30\"])\n",
    "\n",
    "dates = pd.to_datetime(dates, format = \"%Y-%m-%d\")\n",
    "\n",
    "print(dates)"
   ]
  },
  {
   "cell_type": "code",
   "execution_count": 81,
   "id": "2b32b12e-bc86-4fe8-88d9-7e8e73c6c74e",
   "metadata": {},
   "outputs": [
    {
     "data": {
      "text/plain": [
       "0     2\n",
       "1     4\n",
       "2    30\n",
       "dtype: int64"
      ]
     },
     "execution_count": 81,
     "metadata": {},
     "output_type": "execute_result"
    }
   ],
   "source": [
    "dates.dt.day"
   ]
  }
 ],
 "metadata": {
  "kernelspec": {
   "display_name": "Python 3",
   "language": "python",
   "name": "python3"
  },
  "language_info": {
   "codemirror_mode": {
    "name": "ipython",
    "version": 3
   },
   "file_extension": ".py",
   "mimetype": "text/x-python",
   "name": "python",
   "nbconvert_exporter": "python",
   "pygments_lexer": "ipython3",
   "version": "3.7.12"
  }
 },
 "nbformat": 4,
 "nbformat_minor": 5
}
