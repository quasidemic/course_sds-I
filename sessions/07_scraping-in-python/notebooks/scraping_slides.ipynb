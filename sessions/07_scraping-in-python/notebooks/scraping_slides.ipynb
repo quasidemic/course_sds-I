{
 "cells": [
  {
   "cell_type": "markdown",
   "id": "f27c7743-ac00-4dd5-b9ca-6fb6f30ae453",
   "metadata": {
    "slideshow": {
     "slide_type": "slide"
    },
    "tags": []
   },
   "source": [
    "# Scraping og API-kald i Python"
   ]
  },
  {
   "cell_type": "markdown",
   "id": "16afcb9b-2267-4719-bf62-bcdb7f46292c",
   "metadata": {
    "jp-MarkdownHeadingCollapsed": true,
    "slideshow": {
     "slide_type": "slide"
    },
    "tags": []
   },
   "source": [
    "## Program\n",
    "\n",
    "- Opfølgning fra sidste undervisningsgang\n",
    "- At tilgå internettet med Python (\"requests\" i Python)\n",
    "- API-kald i Python (eksempler fra Reddit Pushshift API og Twitter API)\n",
    "- Scraping af HTML med `BeautifulSoup`\n",
    "- Introduktion til crawlers med `scrapy`"
   ]
  },
  {
   "cell_type": "markdown",
   "id": "1ffaa63a-1549-4572-897e-78ec89457ef7",
   "metadata": {
    "slideshow": {
     "slide_type": "slide"
    },
    "tags": []
   },
   "source": [
    "# Opfølgning fra sidste undervisningsgang"
   ]
  },
  {
   "cell_type": "markdown",
   "id": "3b01d93f-b8ec-4a18-8d0f-c76831df736f",
   "metadata": {
    "slideshow": {
     "slide_type": "slide"
    },
    "tags": []
   },
   "source": [
    "![dns](../img/dns.png)"
   ]
  },
  {
   "cell_type": "markdown",
   "id": "7b98b43d-3b40-47b1-a3a2-76bad08d7b77",
   "metadata": {
    "slideshow": {
     "slide_type": "slide"
    },
    "tags": []
   },
   "source": [
    "## At tilgå internettet i Python\n",
    "\n",
    "To skridt involveret i at samle data fra internettet:\n",
    "\n",
    "**1. Send (http) request (GET eller POST)**\n",
    "\n",
    "**2. Behandl indhold**\n",
    "- For scraping: Kildekode (HTML)\n",
    "- For API'er: Afhænger af API (ofte i JSON format)\n",
    "    \n",
    "Ved API'er bruger man længst tid på 1 (hvordan virker API'en, og hvordan formulerer jeg den rigtige forespørgsel?)\n",
    "\n",
    "Ved scraping bruger man længst tid på 2 (hvordan sorterer jeg i hjemmesidens kildekode?)"
   ]
  },
  {
   "cell_type": "markdown",
   "id": "cde2f724-7505-493a-9654-5b20ba0c59af",
   "metadata": {
    "slideshow": {
     "slide_type": "slide"
    },
    "tags": []
   },
   "source": [
    "## HTTP requests\n",
    "\n",
    "<img src=\"https://developer.mozilla.org/en-US/docs/Learn/Getting_started_with_the_web/How_the_Web_works/simple-client-server.png\" style=\"width:50.0%\" />\n",
    "\n",
    "**Request**\n",
    "- Det, som vi afsender\n",
    "- GET requests: Typisk brugt for at *anmode* om information (API og browser)\n",
    "- POST requests: Typisk brugt for at *tilføje* noget\n",
    "    - Grundet begrænsninger ved GET requests, bruges POST requests også nogen gange til at hente information fra API'er\n",
    "\n",
    "**Response**\n",
    "- Det, som returneres\n",
    "- Data af en eller anden form - afhængiger af modtagende server"
   ]
  },
  {
   "cell_type": "markdown",
   "id": "9403f788-2273-48a5-bac3-8e3d3076872c",
   "metadata": {
    "slideshow": {
     "slide_type": "slide"
    },
    "tags": []
   },
   "source": [
    "## Statuskoder\n",
    "\n",
    "En HTTP request returnerer altid en statuskode.\n",
    "\n",
    "- Statuskode der starter med 2 eller 3: Request successful\n",
    "    - 200 = \"OK\"\n",
    "- Statuskode der starter med 4: Request har fejlet (\"client-side\", fx 404).\n",
    "- Statuskode der starter med 5: Request har fejlet (server-side)"
   ]
  },
  {
   "cell_type": "markdown",
   "id": "45fcf50d-35f7-45fa-9242-64e476f4540b",
   "metadata": {
    "slideshow": {
     "slide_type": "slide"
    },
    "tags": []
   },
   "source": [
    "## Requests med `requests`\n",
    "\n",
    "`requests` indeholder funktioner til at sende HTTP requests.\n",
    "\n",
    "En browser sender en GET request, når den skal \"hente\" en hjemmeside:"
   ]
  },
  {
   "cell_type": "code",
   "execution_count": 2,
   "id": "0cdb006a-4059-4830-8348-ef39ba64b4c4",
   "metadata": {
    "slideshow": {
     "slide_type": "fragment"
    },
    "tags": []
   },
   "outputs": [],
   "source": [
    "import requests\n",
    "\n",
    "r = requests.get(\"https://www.aau.dk\")"
   ]
  },
  {
   "cell_type": "markdown",
   "id": "5eb0338f-1112-44c0-9b2d-d42978e30b2b",
   "metadata": {
    "slideshow": {
     "slide_type": "fragment"
    },
    "tags": []
   },
   "source": [
    "`r` er nu en \"response\" class med forskellige attributter; fx `.status_code`:"
   ]
  },
  {
   "cell_type": "code",
   "execution_count": 7,
   "id": "729ce1e7-0726-460f-bd9c-a45be2261311",
   "metadata": {
    "tags": []
   },
   "outputs": [
    {
     "data": {
      "text/plain": [
       "200"
      ]
     },
     "execution_count": 7,
     "metadata": {},
     "output_type": "execute_result"
    }
   ],
   "source": [
    "r.status_code"
   ]
  },
  {
   "cell_type": "markdown",
   "id": "7c4dd45c-6c53-44c9-b762-d7ed3daa5949",
   "metadata": {
    "slideshow": {
     "slide_type": "fragment"
    },
    "tags": []
   },
   "source": [
    "`.content` giver indholdet (her HTML kildekode):"
   ]
  },
  {
   "cell_type": "code",
   "execution_count": 12,
   "id": "5616b111-6a7c-411f-b294-b425b757005f",
   "metadata": {},
   "outputs": [
    {
     "data": {
      "text/plain": [
       "b'<!DOCTYPE html><html><head><link rel=\"stylesheet\" data-href=\"https://fonts.googleapis.com/css2?family=Barlow:ital,wght@0,100;0,200;0,300;0,400;0,500;0,600;0,700;0,800;0,900;1,100;1,200;1,300;1,400;1,500;1,600;1,700;1,800;1,900&amp;family=Montserrat:ital,wght@0,100;0,200;0,300;0,400;0,500;0,600;0,700;0,800;0,900;1,100;1,200;1,300;1,400;1,500;1,600;1,700;1,800;1,900&amp;family=Space+Mono:ital,wght@0,400;0,700;1,400&amp;display=swap\"/><link rel=\"preconnect\" href=\"https://fonts.gstatic.com\" crossorigin /><meta name=\"viewport\" content=\"width=device-width\"/><meta charSet=\"utf-8\"/><title>AAU - Viden for verden - Aalborg Universitet</title><meta name=\"description\" content=\"Aalborg Universitet - Problem- og projektbaseret forskning og uddannelse, der i samspil mellem AAU og omverdenen skaber viden, der forandrer verden.\"/><meta name=\"robots\" content=\"follow, index\"/><link rel=\"canonical\" href=\"https://www.aau.dk/\"/><meta property=\"og:url\" content=\"https://www.aau.dk/\"/><meta property=\"og:type\" '"
      ]
     },
     "execution_count": 12,
     "metadata": {},
     "output_type": "execute_result"
    }
   ],
   "source": [
    "r.content[0:1000]"
   ]
  },
  {
   "cell_type": "markdown",
   "id": "3206d6ca-8e87-4d96-babc-3711e00db843",
   "metadata": {
    "slideshow": {
     "slide_type": "slide"
    },
    "tags": []
   },
   "source": [
    "## API-kald i Python\n",
    "\n",
    "API'er er forskellige men indeholder typisk de samme delkomponenter:\n",
    "\n",
    "**Request:** Brug af API involverer at sende HTTP request (GET eller POST).\n",
    "\n",
    "**Endpoint:** API'er består typisk af flere *endpoints*. Disse er blot URL'er.\n",
    "\n",
    "**Parametre:** Parametre er de *argumetnter*, som endpointet accepterer. Via disse formuleres, hvad der efterspørges af API'en. \n",
    "\n",
    "**Autentificeirng:** Mange API'er kræver autentificering. Dette kan være HTTPS autentificering (brugernavn og kodeord) eller autentificering via *tokens*. Tokens er unikke nøgler, der identificerer, hvem eller hvad der laver request/henvendelse via API'en."
   ]
  },
  {
   "cell_type": "markdown",
   "id": "91fec287-0289-41b2-956e-d773ac5790ba",
   "metadata": {
    "slideshow": {
     "slide_type": "slide"
    },
    "tags": []
   },
   "source": [
    "## API-kald i Python (fiktivt eksempel)\n",
    "\n",
    "```python\n",
    "endpoint = \"https://api.database.com/search\" # hvilken URL har API'en endpoint?\n",
    "\n",
    "authentication = (\"myuser123\", \"!mypass123\") # autentificering - her via brugernavn og adgangskode\n",
    "\n",
    "parameters = {\"date_from\": \"2022-07-10\", # parametre - hvilke oplysninger skal hentes\n",
    "              \"date_to\": \"2022-08-10\",\n",
    "              \"q\": \"popsicles\"\n",
    "             }\n",
    "\n",
    "r = requests.get(endpoint, auth = authentication, params = parameters) # send get request (bemærk at \"auth\" og \"params\" er argumenter til requests.get())\n",
    "```"
   ]
  },
  {
   "cell_type": "markdown",
   "id": "eb3f62c1-cf16-4915-8ca5-fcb13f9470ac",
   "metadata": {
    "slideshow": {
     "slide_type": "slide"
    },
    "tags": []
   },
   "source": [
    "## (Kort) Introduktion til HTML\n",
    "\n",
    "Når man arbejder med \"rå\" web scraping, er materialet man får tilbage i form af rå kildekode.\n",
    "\n",
    "Det ville være meget besværligt at sortere i rå kildekode, som det ser ud. \n",
    "\n",
    "HTML har en struktur, som kan \"udnyttes\" til at filtrere unødvendig information fra."
   ]
  },
  {
   "cell_type": "markdown",
   "id": "4e39b98d-3ec7-409d-857e-160b5c3f3ffd",
   "metadata": {
    "slideshow": {
     "slide_type": "slide"
    },
    "tags": []
   },
   "source": [
    "## (Kort) Introduktion til HTML\n",
    "\n",
    "**Rå HTML**\n",
    "\n",
    "```\n",
    "    <html>\n",
    "        <body>\n",
    "            <div id=\"convo1\">\n",
    "                <p class=\"kenobi\">Hello There!</p>\n",
    "            </div>\n",
    "            <div id=\"convo2\">\n",
    "                <p class=\"grievous\">General Kenobi!</p>\n",
    "            </div>\n",
    "            <div id=\"convo3\">\n",
    "                <p class=\"kenobi\">So Uncivilized!</p>\n",
    "            </div>\n",
    "        </body>\n",
    "    </html>\n",
    "```    \n",
    "\n",
    "**Rendered (som vist på hjemmeside)**\n",
    "\n",
    "```\n",
    "Hello There!\n",
    "\n",
    "General Kenobi!\n",
    "\n",
    "So Uncivilized!\n",
    "```\n",
    "\n",
    "*Hvilken datastruktur minder rå HTML jer om?*"
   ]
  },
  {
   "cell_type": "markdown",
   "id": "5dcdbc78-dc27-4c12-9ad8-629070eb10ae",
   "metadata": {
    "slideshow": {
     "slide_type": "slide"
    },
    "tags": []
   },
   "source": [
    "## (Kort) Introduktion til HTML - Tags\n",
    "\n",
    "HTML står for \"Hyper-Text Markup Language\". Det bruges til at strukturere indhold på hjemmesider. \n",
    "\n",
    "HTML er opbygget af \"tags\" angivet med `<>` og `</>`. Disse fortæller hvilken type indhold, der er tale om. `<p>` er for eksempel \"paragraph\" (tekstafnit).\n",
    "- Typiske tags: `h1` for overskrifter (og `h2`, `h3` osv.), `a` for links og `div` for e \"division\" eller adskillelse.\n",
    "\n",
    "HTML har en træ-lignende struktur. Tags befinder sig inde i andre tags. \n",
    "- \"Siblings\"/\"Søskende\": Tags på samme niveau \n",
    "- \"Children\"/\"Børn\": Tags under/inden i et andet tag\n",
    "- \"Parents\"/\"Forældre\": Tags over/uden for et andet tag"
   ]
  },
  {
   "cell_type": "markdown",
   "id": "a0bb9d6a-349b-4608-9dc8-90e18d332f70",
   "metadata": {
    "slideshow": {
     "slide_type": "slide"
    },
    "tags": []
   },
   "source": [
    "## (Kort) Introduktion til HTML - Attributes\n",
    "\n",
    "HTML bruger \"attributes\" til både at differentiere mellem den samme type tag og til at tilføje yderligere information til et tag.\n",
    "\n",
    "Opbyggeren af en hjemmeside kan selv navngive attributes, men visse standarder går igen:\n",
    "- `id` attribute: Giver tags unikt id (ideelt set) \n",
    "- `class` attribute: Differentiere mellem forskellige tags af samme type - fx for at give forskellig styling/formatering\n",
    "- `href` attribute: Indeholder URL som hyperlink refererer til (typisk en del af et `a` tag)"
   ]
  },
  {
   "cell_type": "markdown",
   "id": "8894dbe2-3de5-4f08-b0f7-00172dc4e1ab",
   "metadata": {
    "slideshow": {
     "slide_type": "slide"
    },
    "tags": []
   },
   "source": [
    "## (Kort) Introduktion til HTML\n",
    "\n",
    "*Uden at søge på tekstindholdet, hvordan kan vi så udlede teksten \"General Kenobi\" af nedenstående HTML-kode?*"
   ]
  },
  {
   "cell_type": "markdown",
   "id": "f40dd396-967e-4dab-a249-0a938c99b04b",
   "metadata": {},
   "source": [
    "```\n",
    "    <html>\n",
    "        <body>\n",
    "            <div id=\"convo1\">\n",
    "                <p class=\"kenobi\">Hello There!</p>\n",
    "            </div>\n",
    "            <div id=\"convo2\">\n",
    "                <p class=\"grievous\">General Kenobi!</p>\n",
    "            </div>\n",
    "            <div id=\"convo3\">\n",
    "                <p class=\"kenobi\">So Uncivilized!</p>\n",
    "            </div>\n",
    "        </body>\n",
    "    </html>\n",
    "``` "
   ]
  },
  {
   "cell_type": "markdown",
   "id": "41f85790-656b-4592-9431-56de30083857",
   "metadata": {
    "slideshow": {
     "slide_type": "slide"
    },
    "tags": []
   },
   "source": [
    "## Håndtering af HTML med `BeautifulSoup`\n",
    "\n",
    "Pakken `BeautifulSoup` gør det nemmere at håndtere og navigere i HTML kode.\n",
    "\n",
    "Pakkens funktioner er bygget op omkring et `soup` objekt.\n",
    "\n",
    "Pakken fungerer ved at konvertere kildekode/HTML fra en hjemmeside (en string) til et `soup` objekt.\n",
    "\n",
    "Man kan bruges HTML tags og attribute til at navigere i et `soup` objekt - blandt andet med metoderne `.find()` og `.find_all()`"
   ]
  },
  {
   "cell_type": "markdown",
   "id": "5b476582-fc8d-49da-8719-007fc412f556",
   "metadata": {
    "slideshow": {
     "slide_type": "slide"
    },
    "tags": []
   },
   "source": [
    "## Håndtering af HTML med `BeautifulSoup`"
   ]
  },
  {
   "cell_type": "code",
   "execution_count": 14,
   "id": "08496943-6a0b-45ed-a9ae-436515c07003",
   "metadata": {},
   "outputs": [],
   "source": [
    "### eksempel"
   ]
  },
  {
   "cell_type": "markdown",
   "id": "25dea8be-4d1e-4263-95af-b783d99e636d",
   "metadata": {
    "slideshow": {
     "slide_type": "slide"
    },
    "tags": []
   },
   "source": [
    "## Introduktion til crawling\n",
    "\n",
    "\"Crawlers\" eller \"spiders\" refererer typisk til programmer eller bots, der er bygget til at bevæge sig rundt på flere hjemmesider.\n",
    "\n",
    "**En crawler består typisk af følgende:**\n",
    "- Startbetingelser: Hvor skal crawleren starte?\n",
    "- Parsing funktioner: Hvad skal crawleren gøre? (typisk en eller flere web scraping funktioner)\n",
    "- Undtagelser: Hvad skal crawleren undgå?\n",
    "- Slutbetingelser: Hvornår skal crawleren stoppe?\n",
    "\n",
    "Grundet internettets opbygning, kan crawlere, der går på tværs af hjemmeider, være meget vanskelige at sætte op."
   ]
  },
  {
   "cell_type": "markdown",
   "id": "c2baba07-8473-4a3e-b303-a59ad94117c7",
   "metadata": {
    "slideshow": {
     "slide_type": "slide"
    },
    "tags": []
   },
   "source": [
    "## Introduktion til crawling\n",
    "\n",
    "*Crawlers bevæger sig altid mod overfladen!*\n",
    "\n",
    "<img src=\"../img/web_sea.png\" style=\"width:90.0% \"/>\n"
   ]
  },
  {
   "cell_type": "markdown",
   "id": "0bb2cd26-5599-43a3-b9a8-88d2090e929b",
   "metadata": {
    "slideshow": {
     "slide_type": "slide"
    },
    "tags": []
   },
   "source": [
    "## Introduktion til crawling\n",
    "\n",
    "En crawler kan sagtens sættes op med basis Python kommandoer:\n",
    "- Definere scraping-funktion (`def`)\n",
    "- Brug `requests` og `BeautifulSoup` til at skaffe og behandle hjemmesideindhold\n",
    "- Gentag scraping, så længe der er flere links (fx med et `while` loop) \n",
    "\n",
    "En crawler kræver dog en del fejlhåndtering:\n",
    "- Hvad skal der ske, hvis der ikke er flere links?\n",
    "- Hvad skal der ske, hvis request fejler?\n",
    "- Hvad skal der ske, hvis hjemmeside ikke indeholder det indhold, som scraper leder efter?\n",
    "- Osv.\n",
    "\n",
    "Derfor kan det ofte svare sig at bruge pakker til at bygge crawlers ud fra (fx `scrapy`)."
   ]
  },
  {
   "cell_type": "markdown",
   "id": "7cce2215-958c-47a7-919a-c15a037da8ec",
   "metadata": {
    "slideshow": {
     "slide_type": "slide"
    },
    "tags": []
   },
   "source": [
    "## Introduktion til crawling - Advarsel!\n",
    "\n",
    "*HUSK!:*\n",
    "\n",
    "<img src=\"https://developer.mozilla.org/en-US/docs/Learn/Getting_started_with_the_web/How_the_Web_works/simple-client-server.png\" style=\"width:50.0%\" />\n",
    "\n",
    "**Dette sker for *hver* henvendelse!**\n",
    "- Scraping af enkelt hjemmeside: én request én gang\n",
    "- Crawler: ??? requests inden for ??? tid\n",
    "\n",
    "En crawler *skal* have forsinkelser indbygget mellem requests - ellers kan det betragtes som et angreb på server (robots.txt vil også nogen gange specificere et \"crawl-delay\")"
   ]
  },
  {
   "cell_type": "markdown",
   "id": "ef7e9625-9d0a-4497-b87f-a54beeb95379",
   "metadata": {
    "slideshow": {
     "slide_type": "slide"
    },
    "tags": []
   },
   "source": [
    "## Introduktion til crawling\n",
    "\n",
    "En simpel måde at skabe forsinkelser er fx med `time.sleep()`"
   ]
  },
  {
   "cell_type": "code",
   "execution_count": 23,
   "id": "4f61cda4-7798-46a4-886c-fd3ff1342e5e",
   "metadata": {},
   "outputs": [
    {
     "name": "stdout",
     "output_type": "stream",
     "text": [
      "Jeg ventede i 5 sekunder!\n"
     ]
    }
   ],
   "source": [
    "from datetime import datetime\n",
    "import time\n",
    "\n",
    "start = datetime.now()\n",
    "\n",
    "time.sleep(5)\n",
    "\n",
    "end = datetime.now()\n",
    "\n",
    "print(f\"Jeg ventede i {(end-start).seconds} sekunder!\")"
   ]
  },
  {
   "cell_type": "markdown",
   "id": "46287660-beff-48f7-a3c6-83095451fd09",
   "metadata": {
    "slideshow": {
     "slide_type": "fragment"
    },
    "tags": []
   },
   "source": [
    "Scrapere fra `scrapy` vil dog have forsinkelse indbygget."
   ]
  }
 ],
 "metadata": {
  "kernelspec": {
   "display_name": "Python 3",
   "language": "python",
   "name": "python3"
  },
  "language_info": {
   "codemirror_mode": {
    "name": "ipython",
    "version": 3
   },
   "file_extension": ".py",
   "mimetype": "text/x-python",
   "name": "python",
   "nbconvert_exporter": "python",
   "pygments_lexer": "ipython3",
   "version": "3.7.12"
  }
 },
 "nbformat": 4,
 "nbformat_minor": 5
}
