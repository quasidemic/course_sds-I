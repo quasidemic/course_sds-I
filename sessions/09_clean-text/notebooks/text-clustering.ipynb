{
 "cells": [
  {
   "cell_type": "code",
   "execution_count": 2,
   "id": "2756df2e-40ed-4650-9fe1-27b3c576ddda",
   "metadata": {
    "execution": {
     "iopub.execute_input": "2022-10-17T11:31:34.940035Z",
     "iopub.status.busy": "2022-10-17T11:31:34.939225Z",
     "iopub.status.idle": "2022-10-17T11:31:42.546298Z",
     "shell.execute_reply": "2022-10-17T11:31:42.544952Z",
     "shell.execute_reply.started": "2022-10-17T11:31:34.939981Z"
    }
   },
   "outputs": [
    {
     "name": "stdout",
     "output_type": "stream",
     "text": [
      "Collecting da-core-news-sm==3.4.0\n",
      "  Downloading https://github.com/explosion/spacy-models/releases/download/da_core_news_sm-3.4.0/da_core_news_sm-3.4.0-py3-none-any.whl (12.4 MB)\n",
      "\u001b[2K     \u001b[90m━━━━━━━━━━━━━━━━━━━━━━━━━━━━━━━━━━━━━━━━\u001b[0m \u001b[32m12.4/12.4 MB\u001b[0m \u001b[31m17.8 MB/s\u001b[0m eta \u001b[36m0:00:00\u001b[0m00:01\u001b[0m0:01\u001b[0m\n",
      "\u001b[?25hRequirement already satisfied: spacy<3.5.0,>=3.4.0 in /opt/conda/lib/python3.10/site-packages (from da-core-news-sm==3.4.0) (3.4.1)\n",
      "Requirement already satisfied: murmurhash<1.1.0,>=0.28.0 in /opt/conda/lib/python3.10/site-packages (from spacy<3.5.0,>=3.4.0->da-core-news-sm==3.4.0) (1.0.9)\n",
      "Requirement already satisfied: srsly<3.0.0,>=2.4.3 in /opt/conda/lib/python3.10/site-packages (from spacy<3.5.0,>=3.4.0->da-core-news-sm==3.4.0) (2.4.4)\n",
      "Requirement already satisfied: cymem<2.1.0,>=2.0.2 in /opt/conda/lib/python3.10/site-packages (from spacy<3.5.0,>=3.4.0->da-core-news-sm==3.4.0) (2.0.7)\n",
      "Requirement already satisfied: preshed<3.1.0,>=3.0.2 in /opt/conda/lib/python3.10/site-packages (from spacy<3.5.0,>=3.4.0->da-core-news-sm==3.4.0) (3.0.8)\n",
      "Requirement already satisfied: tqdm<5.0.0,>=4.38.0 in /opt/conda/lib/python3.10/site-packages (from spacy<3.5.0,>=3.4.0->da-core-news-sm==3.4.0) (4.64.1)\n",
      "Requirement already satisfied: packaging>=20.0 in /opt/conda/lib/python3.10/site-packages (from spacy<3.5.0,>=3.4.0->da-core-news-sm==3.4.0) (21.3)\n",
      "Requirement already satisfied: thinc<8.2.0,>=8.1.0 in /opt/conda/lib/python3.10/site-packages (from spacy<3.5.0,>=3.4.0->da-core-news-sm==3.4.0) (8.1.4)\n",
      "Requirement already satisfied: wasabi<1.1.0,>=0.9.1 in /opt/conda/lib/python3.10/site-packages (from spacy<3.5.0,>=3.4.0->da-core-news-sm==3.4.0) (0.10.1)\n",
      "Requirement already satisfied: langcodes<4.0.0,>=3.2.0 in /opt/conda/lib/python3.10/site-packages (from spacy<3.5.0,>=3.4.0->da-core-news-sm==3.4.0) (3.3.0)\n",
      "Requirement already satisfied: setuptools in /opt/conda/lib/python3.10/site-packages (from spacy<3.5.0,>=3.4.0->da-core-news-sm==3.4.0) (65.3.0)\n",
      "Requirement already satisfied: jinja2 in /opt/conda/lib/python3.10/site-packages (from spacy<3.5.0,>=3.4.0->da-core-news-sm==3.4.0) (3.1.2)\n",
      "Requirement already satisfied: spacy-loggers<2.0.0,>=1.0.0 in /opt/conda/lib/python3.10/site-packages (from spacy<3.5.0,>=3.4.0->da-core-news-sm==3.4.0) (1.0.3)\n",
      "Requirement already satisfied: catalogue<2.1.0,>=2.0.6 in /opt/conda/lib/python3.10/site-packages (from spacy<3.5.0,>=3.4.0->da-core-news-sm==3.4.0) (2.0.8)\n",
      "Requirement already satisfied: numpy>=1.15.0 in /opt/conda/lib/python3.10/site-packages (from spacy<3.5.0,>=3.4.0->da-core-news-sm==3.4.0) (1.23.2)\n",
      "Requirement already satisfied: pydantic!=1.8,!=1.8.1,<1.10.0,>=1.7.4 in /opt/conda/lib/python3.10/site-packages (from spacy<3.5.0,>=3.4.0->da-core-news-sm==3.4.0) (1.9.2)\n",
      "Requirement already satisfied: pathy>=0.3.5 in /opt/conda/lib/python3.10/site-packages (from spacy<3.5.0,>=3.4.0->da-core-news-sm==3.4.0) (0.6.2)\n",
      "Requirement already satisfied: spacy-legacy<3.1.0,>=3.0.9 in /opt/conda/lib/python3.10/site-packages (from spacy<3.5.0,>=3.4.0->da-core-news-sm==3.4.0) (3.0.10)\n",
      "Requirement already satisfied: requests<3.0.0,>=2.13.0 in /opt/conda/lib/python3.10/site-packages (from spacy<3.5.0,>=3.4.0->da-core-news-sm==3.4.0) (2.28.1)\n",
      "Requirement already satisfied: typer<0.5.0,>=0.3.0 in /opt/conda/lib/python3.10/site-packages (from spacy<3.5.0,>=3.4.0->da-core-news-sm==3.4.0) (0.4.2)\n",
      "Requirement already satisfied: pyparsing!=3.0.5,>=2.0.2 in /opt/conda/lib/python3.10/site-packages (from packaging>=20.0->spacy<3.5.0,>=3.4.0->da-core-news-sm==3.4.0) (3.0.9)\n",
      "Requirement already satisfied: smart-open<6.0.0,>=5.2.1 in /opt/conda/lib/python3.10/site-packages (from pathy>=0.3.5->spacy<3.5.0,>=3.4.0->da-core-news-sm==3.4.0) (5.2.1)\n",
      "Requirement already satisfied: typing-extensions>=3.7.4.3 in /opt/conda/lib/python3.10/site-packages (from pydantic!=1.8,!=1.8.1,<1.10.0,>=1.7.4->spacy<3.5.0,>=3.4.0->da-core-news-sm==3.4.0) (4.3.0)\n",
      "Requirement already satisfied: urllib3<1.27,>=1.21.1 in /opt/conda/lib/python3.10/site-packages (from requests<3.0.0,>=2.13.0->spacy<3.5.0,>=3.4.0->da-core-news-sm==3.4.0) (1.26.11)\n",
      "Requirement already satisfied: certifi>=2017.4.17 in /opt/conda/lib/python3.10/site-packages (from requests<3.0.0,>=2.13.0->spacy<3.5.0,>=3.4.0->da-core-news-sm==3.4.0) (2022.6.15)\n",
      "Requirement already satisfied: charset-normalizer<3,>=2 in /opt/conda/lib/python3.10/site-packages (from requests<3.0.0,>=2.13.0->spacy<3.5.0,>=3.4.0->da-core-news-sm==3.4.0) (2.1.1)\n",
      "Requirement already satisfied: idna<4,>=2.5 in /opt/conda/lib/python3.10/site-packages (from requests<3.0.0,>=2.13.0->spacy<3.5.0,>=3.4.0->da-core-news-sm==3.4.0) (3.3)\n",
      "Requirement already satisfied: blis<0.8.0,>=0.7.8 in /opt/conda/lib/python3.10/site-packages (from thinc<8.2.0,>=8.1.0->spacy<3.5.0,>=3.4.0->da-core-news-sm==3.4.0) (0.7.9)\n",
      "Requirement already satisfied: confection<1.0.0,>=0.0.1 in /opt/conda/lib/python3.10/site-packages (from thinc<8.2.0,>=8.1.0->spacy<3.5.0,>=3.4.0->da-core-news-sm==3.4.0) (0.0.3)\n",
      "Requirement already satisfied: click<9.0.0,>=7.1.1 in /opt/conda/lib/python3.10/site-packages (from typer<0.5.0,>=0.3.0->spacy<3.5.0,>=3.4.0->da-core-news-sm==3.4.0) (8.1.3)\n",
      "Requirement already satisfied: MarkupSafe>=2.0 in /opt/conda/lib/python3.10/site-packages (from jinja2->spacy<3.5.0,>=3.4.0->da-core-news-sm==3.4.0) (2.1.1)\n",
      "Installing collected packages: da-core-news-sm\n",
      "Successfully installed da-core-news-sm-3.4.0\n",
      "\u001b[38;5;2m✔ Download and installation successful\u001b[0m\n",
      "You can now load the package via spacy.load('da_core_news_sm')\n"
     ]
    }
   ],
   "source": [
    "# Installér spacy sprogmodel for dansk\n",
    "\n",
    "!python -m spacy download 'da_core_news_sm'"
   ]
  },
  {
   "cell_type": "code",
   "execution_count": 3,
   "id": "58c88fec-a3d1-4a90-8b68-f94e7a967344",
   "metadata": {
    "execution": {
     "iopub.execute_input": "2022-10-17T11:32:34.211201Z",
     "iopub.status.busy": "2022-10-17T11:32:34.210346Z",
     "iopub.status.idle": "2022-10-17T11:32:35.171278Z",
     "shell.execute_reply": "2022-10-17T11:32:35.170158Z",
     "shell.execute_reply.started": "2022-10-17T11:32:34.211145Z"
    },
    "tags": []
   },
   "outputs": [],
   "source": [
    "# indlæs pakker\n",
    "\n",
    "import os\n",
    "import re\n",
    "import pandas as pd\n",
    "\n",
    "from sklearn.cluster import KMeans\n",
    "from sklearn.feature_extraction.text import TfidfVectorizer\n",
    "from sklearn.feature_extraction.text import CountVectorizer\n",
    "from sklearn.decomposition import PCA\n",
    "\n",
    "import plotnine\n",
    "plotnine.options.figure_size = (12, 10)\n",
    "\n",
    "import spacy\n",
    "import nltk\n",
    "\n",
    "nlp = spacy.load('da_core_news_sm')"
   ]
  },
  {
   "cell_type": "code",
   "execution_count": 15,
   "id": "21bae1ab-0244-4d7c-a95f-c4c994451846",
   "metadata": {
    "execution": {
     "iopub.execute_input": "2022-10-17T11:41:18.822742Z",
     "iopub.status.busy": "2022-10-17T11:41:18.821902Z",
     "iopub.status.idle": "2022-10-17T11:41:18.851406Z",
     "shell.execute_reply": "2022-10-17T11:41:18.850624Z",
     "shell.execute_reply.started": "2022-10-17T11:41:18.822684Z"
    },
    "tags": []
   },
   "outputs": [],
   "source": [
    "# indlæs data\n",
    "\n",
    "data_p = os.path.join('/work', '83232', 'data', 'polparties')\n",
    "\n",
    "# sf texts\n",
    "sf = []\n",
    "\n",
    "sf_files = os.listdir(os.path.join(data_p, 'sf'))\n",
    "\n",
    "for filename in sf_files:\n",
    "    text = {}\n",
    "    \n",
    "    text['name'] = filename\n",
    "    text['party'] = 'sf'\n",
    "    text['text'] = open(os.path.join(data_p, 'sf', filename)).read()\n",
    "    \n",
    "    sf.append(text)\n",
    "    \n",
    "# c texts\n",
    "cons = []\n",
    "\n",
    "cons_files = os.listdir(os.path.join(data_p, 'konservative'))\n",
    "\n",
    "for filename in cons_files:\n",
    "    text = {}\n",
    "    \n",
    "    text['name'] = filename\n",
    "    text['party'] = 'konservative'\n",
    "    text['text'] = open(os.path.join(data_p, 'konservative', filename)).read()\n",
    "    \n",
    "    cons.append(text)\n",
    "    \n",
    "# df texts\n",
    "df = []\n",
    "\n",
    "df_files = os.listdir(os.path.join(data_p, 'df'))\n",
    "\n",
    "for filename in df_files:\n",
    "    text = {}\n",
    "    \n",
    "    text['name'] = filename\n",
    "    text['party'] = 'df'\n",
    "    text['text'] = open(os.path.join(data_p, 'df', filename)).read()\n",
    "    \n",
    "    df.append(text)\n",
    "    \n",
    "# combined\n",
    "poltext_data = sf + cons + df\n",
    "\n",
    "# just texts\n",
    "poltexts = [poltext.get('text') for poltext in poltext_data]\n",
    "\n",
    "# as dataframe\n",
    "poltext_df = pd.DataFrame.from_records(poltext_data)"
   ]
  },
  {
   "cell_type": "code",
   "execution_count": 16,
   "id": "3546b924-1981-4ee8-8514-4186ea99e074",
   "metadata": {
    "execution": {
     "iopub.execute_input": "2022-10-17T11:41:31.733866Z",
     "iopub.status.busy": "2022-10-17T11:41:31.733202Z",
     "iopub.status.idle": "2022-10-17T11:41:31.744165Z",
     "shell.execute_reply": "2022-10-17T11:41:31.743234Z",
     "shell.execute_reply.started": "2022-10-17T11:41:31.733813Z"
    },
    "tags": []
   },
   "outputs": [
    {
     "data": {
      "text/plain": [
       "{'name': 'sf-vil-skrotte-epidemiloven-og-starte-forfra.txt',\n",
       " 'party': 'sf',\n",
       " 'text': '\\n Del\\n\\n\\n Del\\n\\nSF vil skrotte epidemiloven og starte forfra\\n13-11-2020\\nI foråret stod vi i en situation, der var helt ny for os alle. SF støttede derfor samfundets nedlukning og haste-vedtagelsen af en ny epidemi-lov, der gav folkestyret de redskaber, der var nødvendige, for at bekæmpe epidemien.\\nSituationen – og vores redskaber til at bekæmpe smitten – har siden ændret sig. Regeringen har lanceret et udkast til en ny epidemi-lov. Udkastet gør i SFs øjne for lidt for at adressere epidemi-lovens demokratiske underskud, og SF er modstandere af tvangsvaccination og andre tvangsmekanismer indlagt i det nye forslag.\\nSF foreslår i stedet at man fuldstændig skrotter epidemiloven og starter forfra med at forhandle en ny lov hjem. Loven skal være langt mere demokratisk forankret og ikke hægte folkestyret af i samme grad, som det er tilfældet lige nu. SF foreslår blandt andet:\\nEn ny politisk styregruppe bestående af flere af Folketingets partier. Udvalget skal have en særligt, skærpet fortrolighed for at sikre at den livsvigtige ensartethed i de oplysninger, der udgår fra myndighederne. Samtidig skal regeringen lade sig rådføre af udvalget, når det tager beslutninger – og for beslutninger, der udvider restriktioner eller lempelser væsentligt, skal regeringen søge flertal i udvalget. Mere demokratisk kontrol er kernen i en ny epidemi-lov, der passer på vores allesammens demokrati.\\nOprettelsen af ny national epidemikommission fuld af epidemi-faglig og økonomisk ekspertise skal sikre en mere effektiv organisation til rådgivning og tværfagligt samarbejde myndigheder imellem.\\nRullende lagre med værnemidler, test og medicin skal sikre, at de regionale myndigheder ikke selv bliver efterladt med ansvaret for indsatsen i en epidemi. Ansvaret for det rullende lager placeres centralt og sikrer, at hele landet er dækket i tilfælde med lokale smittekriser.\\nDomstole skal ikke omfattes af forsamlingsforbud således at retsstaten ikke hæmmes af epidemien. Nye tiltag skal i stedet sikre, at domstolene kan fortsætte deres arbejde på en forsvarlig og smittefri måde.\\nSolnedgangsklausuler skal følge alle bekendtgørelser med baggrund i epidemiloven således at borgerne har et klart overblik over, hvilke restriktioner, der er midlertidige, og hvilke de skal leve med mere permanent.\\n'}"
      ]
     },
     "execution_count": 16,
     "metadata": {},
     "output_type": "execute_result"
    }
   ],
   "source": [
    "# dictionary struktur\n",
    "poltext_data[0]"
   ]
  },
  {
   "cell_type": "code",
   "execution_count": 17,
   "id": "f8a57d37-c1f5-4d77-b49a-550e2532963c",
   "metadata": {
    "execution": {
     "iopub.execute_input": "2022-10-17T11:41:42.774958Z",
     "iopub.status.busy": "2022-10-17T11:41:42.774149Z",
     "iopub.status.idle": "2022-10-17T11:41:42.783652Z",
     "shell.execute_reply": "2022-10-17T11:41:42.782634Z",
     "shell.execute_reply.started": "2022-10-17T11:41:42.774905Z"
    }
   },
   "outputs": [
    {
     "data": {
      "text/plain": [
       "'\\n Del\\n\\n\\n Del\\n\\nSF vil skrotte epidemiloven og starte forfra\\n13-11-2020\\nI foråret stod vi i en situation, der var helt ny for os alle. SF støttede derfor samfundets nedlukning og haste-vedtagelsen af en ny epidemi-lov, der gav folkestyret de redskaber, der var nødvendige, for at bekæmpe epidemien.\\nSituationen – og vores redskaber til at bekæmpe smitten – har siden ændret sig. Regeringen har lanceret et udkast til en ny epidemi-lov. Udkastet gør i SFs øjne for lidt for at adressere epidemi-lovens demokratiske underskud, og SF er modstandere af tvangsvaccination og andre tvangsmekanismer indlagt i det nye forslag.\\nSF foreslår i stedet at man fuldstændig skrotter epidemiloven og starter forfra med at forhandle en ny lov hjem. Loven skal være langt mere demokratisk forankret og ikke hægte folkestyret af i samme grad, som det er tilfældet lige nu. SF foreslår blandt andet:\\nEn ny politisk styregruppe bestående af flere af Folketingets partier. Udvalget skal have en særligt, skærpet fortrolighed for at sikre at den livsvigtige ensartethed i de oplysninger, der udgår fra myndighederne. Samtidig skal regeringen lade sig rådføre af udvalget, når det tager beslutninger – og for beslutninger, der udvider restriktioner eller lempelser væsentligt, skal regeringen søge flertal i udvalget. Mere demokratisk kontrol er kernen i en ny epidemi-lov, der passer på vores allesammens demokrati.\\nOprettelsen af ny national epidemikommission fuld af epidemi-faglig og økonomisk ekspertise skal sikre en mere effektiv organisation til rådgivning og tværfagligt samarbejde myndigheder imellem.\\nRullende lagre med værnemidler, test og medicin skal sikre, at de regionale myndigheder ikke selv bliver efterladt med ansvaret for indsatsen i en epidemi. Ansvaret for det rullende lager placeres centralt og sikrer, at hele landet er dækket i tilfælde med lokale smittekriser.\\nDomstole skal ikke omfattes af forsamlingsforbud således at retsstaten ikke hæmmes af epidemien. Nye tiltag skal i stedet sikre, at domstolene kan fortsætte deres arbejde på en forsvarlig og smittefri måde.\\nSolnedgangsklausuler skal følge alle bekendtgørelser med baggrund i epidemiloven således at borgerne har et klart overblik over, hvilke restriktioner, der er midlertidige, og hvilke de skal leve med mere permanent.\\n'"
      ]
     },
     "execution_count": 17,
     "metadata": {},
     "output_type": "execute_result"
    }
   ],
   "source": [
    "# kun text\n",
    "poltexts[0]"
   ]
  },
  {
   "cell_type": "code",
   "execution_count": 18,
   "id": "215552c5-dcff-4ac5-b932-7413d65795f5",
   "metadata": {
    "execution": {
     "iopub.execute_input": "2022-10-17T11:41:52.038940Z",
     "iopub.status.busy": "2022-10-17T11:41:52.038105Z",
     "iopub.status.idle": "2022-10-17T11:41:52.053572Z",
     "shell.execute_reply": "2022-10-17T11:41:52.052888Z",
     "shell.execute_reply.started": "2022-10-17T11:41:52.038888Z"
    }
   },
   "outputs": [
    {
     "data": {
      "text/html": [
       "<div>\n",
       "<style scoped>\n",
       "    .dataframe tbody tr th:only-of-type {\n",
       "        vertical-align: middle;\n",
       "    }\n",
       "\n",
       "    .dataframe tbody tr th {\n",
       "        vertical-align: top;\n",
       "    }\n",
       "\n",
       "    .dataframe thead th {\n",
       "        text-align: right;\n",
       "    }\n",
       "</style>\n",
       "<table border=\"1\" class=\"dataframe\">\n",
       "  <thead>\n",
       "    <tr style=\"text-align: right;\">\n",
       "      <th></th>\n",
       "      <th>name</th>\n",
       "      <th>party</th>\n",
       "      <th>text</th>\n",
       "    </tr>\n",
       "  </thead>\n",
       "  <tbody>\n",
       "    <tr>\n",
       "      <th>0</th>\n",
       "      <td>sf-vil-skrotte-epidemiloven-og-starte-forfra.txt</td>\n",
       "      <td>sf</td>\n",
       "      <td>\\n Del\\n\\n\\n Del\\n\\nSF vil skrotte epidemilove...</td>\n",
       "    </tr>\n",
       "    <tr>\n",
       "      <th>1</th>\n",
       "      <td>landbrugets-massive-klimaforurening-skal-ned.txt</td>\n",
       "      <td>sf</td>\n",
       "      <td>\\n Del\\n\\n\\n Del\\n\\nLandbrugets massive klimaf...</td>\n",
       "    </tr>\n",
       "    <tr>\n",
       "      <th>2</th>\n",
       "      <td>stop-de-sorte-investeringer-nu.txt</td>\n",
       "      <td>sf</td>\n",
       "      <td>\\n Del\\n\\n\\n Del\\n\\nStop de sorte investeringe...</td>\n",
       "    </tr>\n",
       "    <tr>\n",
       "      <th>3</th>\n",
       "      <td>1-maj-sf-vil-goere-op-med-falske-selvstaendige...</td>\n",
       "      <td>sf</td>\n",
       "      <td>\\n Del\\n\\n\\n Del\\n\\n1. maj – SF vil gøre op me...</td>\n",
       "    </tr>\n",
       "    <tr>\n",
       "      <th>4</th>\n",
       "      <td>sf-vil-investere-massivt-i-de-unge.txt</td>\n",
       "      <td>sf</td>\n",
       "      <td>\\n Del\\n\\n\\n Del\\n\\nDe unge skal ikke bagerst ...</td>\n",
       "    </tr>\n",
       "  </tbody>\n",
       "</table>\n",
       "</div>"
      ],
      "text/plain": [
       "                                                name party  \\\n",
       "0   sf-vil-skrotte-epidemiloven-og-starte-forfra.txt    sf   \n",
       "1   landbrugets-massive-klimaforurening-skal-ned.txt    sf   \n",
       "2                 stop-de-sorte-investeringer-nu.txt    sf   \n",
       "3  1-maj-sf-vil-goere-op-med-falske-selvstaendige...    sf   \n",
       "4             sf-vil-investere-massivt-i-de-unge.txt    sf   \n",
       "\n",
       "                                                text  \n",
       "0  \\n Del\\n\\n\\n Del\\n\\nSF vil skrotte epidemilove...  \n",
       "1  \\n Del\\n\\n\\n Del\\n\\nLandbrugets massive klimaf...  \n",
       "2  \\n Del\\n\\n\\n Del\\n\\nStop de sorte investeringe...  \n",
       "3  \\n Del\\n\\n\\n Del\\n\\n1. maj – SF vil gøre op me...  \n",
       "4  \\n Del\\n\\n\\n Del\\n\\nDe unge skal ikke bagerst ...  "
      ]
     },
     "execution_count": 18,
     "metadata": {},
     "output_type": "execute_result"
    }
   ],
   "source": [
    "# data frame\n",
    "poltext_df.head()"
   ]
  },
  {
   "cell_type": "markdown",
   "id": "745cdc1c-a078-4c54-af8b-5fa1b4a37229",
   "metadata": {},
   "source": [
    "## Klyngeanalyse af tekster: CountVectorizer (rå tællinger af ord)"
   ]
  },
  {
   "cell_type": "code",
   "execution_count": 23,
   "id": "364cbac2-7c6f-44b6-89ff-db3b0a4ff8d6",
   "metadata": {
    "execution": {
     "iopub.execute_input": "2022-10-17T11:48:01.382797Z",
     "iopub.status.busy": "2022-10-17T11:48:01.381743Z",
     "iopub.status.idle": "2022-10-17T11:48:01.473017Z",
     "shell.execute_reply": "2022-10-17T11:48:01.472217Z",
     "shell.execute_reply.started": "2022-10-17T11:48:01.382741Z"
    },
    "tags": []
   },
   "outputs": [],
   "source": [
    "from sklearn.feature_extraction.text import CountVectorizer\n",
    "\n",
    "vectorizer = CountVectorizer(min_df = 0.05, max_df = 0.9) # dan vectorizerfunktion\n",
    "transformed_documents = vectorizer.fit_transform(poltexts) # brug vectorizer på tekster\n",
    "\n",
    "# Konverter fittet vectorizer til array\n",
    "transformed_documents_as_array = transformed_documents.toarray()\n",
    "\n",
    "# Konverter til data frame\n",
    "count_df = pd.DataFrame(transformed_documents_as_array, columns = vectorizer.get_feature_names_out())"
   ]
  },
  {
   "cell_type": "code",
   "execution_count": 27,
   "id": "4f1ecf2f-5457-489d-a1d7-582cca1fc28e",
   "metadata": {
    "execution": {
     "iopub.execute_input": "2022-10-17T11:50:13.628901Z",
     "iopub.status.busy": "2022-10-17T11:50:13.628163Z",
     "iopub.status.idle": "2022-10-17T11:50:16.342720Z",
     "shell.execute_reply": "2022-10-17T11:50:16.341348Z",
     "shell.execute_reply.started": "2022-10-17T11:50:13.628847Z"
    },
    "tags": []
   },
   "outputs": [
    {
     "data": {
      "text/plain": [
       "array([0, 0, 0, 0, 0, 0, 0, 0, 0, 0, 0, 0, 0, 0, 0, 0, 0, 0, 0, 0, 0, 0,\n",
       "       0, 0, 0, 0, 0, 0, 0, 0, 0, 0, 0, 0, 0, 0, 0, 0, 0, 0, 0, 0, 0, 0,\n",
       "       0, 0, 0, 0, 0, 0, 0, 0, 0, 0, 0, 0, 0, 0, 0, 0, 0, 0, 0, 0, 0, 0,\n",
       "       0, 0, 0, 0, 0, 0, 0, 0, 0, 0, 0, 0, 0, 0, 0, 0, 2, 0, 0, 0, 0, 0,\n",
       "       0, 0, 0, 0, 0, 0, 0, 0, 0, 0, 0, 0, 0, 0, 0, 0, 0, 0, 0, 0, 0, 0,\n",
       "       0, 0, 0, 0, 0, 0, 0, 0, 0, 0, 0, 0, 2, 1, 2, 0, 0, 0, 0, 0, 0, 0,\n",
       "       0, 0, 0, 0, 0, 0, 0, 0, 0, 0, 0, 0, 0, 0, 0, 0, 0, 0, 0, 0, 0, 1,\n",
       "       0, 0, 0, 0, 0, 0, 0, 0, 0, 2, 0, 0, 0, 0, 1, 0, 0, 0, 0, 2, 0, 0,\n",
       "       0, 2, 0, 0, 0, 0, 0, 0, 2, 0, 0, 0, 0, 0, 0, 0, 0, 0, 2, 0, 0, 0,\n",
       "       0, 0, 2, 2, 2, 0, 2, 2, 2, 2, 2, 0, 2, 0, 2, 2, 0, 0, 0, 2, 2, 0,\n",
       "       2, 0, 2, 0, 0], dtype=int32)"
      ]
     },
     "execution_count": 27,
     "metadata": {},
     "output_type": "execute_result"
    }
   ],
   "source": [
    "from sklearn.cluster import KMeans\n",
    "kmeans = KMeans(3)\n",
    "\n",
    "identified_clusters = kmeans.fit_predict(count_df)\n",
    "identified_clusters"
   ]
  },
  {
   "cell_type": "code",
   "execution_count": 37,
   "id": "bbe4e562-5b0c-4109-9c86-299612e2ec75",
   "metadata": {
    "execution": {
     "iopub.execute_input": "2022-10-17T11:55:18.380126Z",
     "iopub.status.busy": "2022-10-17T11:55:18.379414Z",
     "iopub.status.idle": "2022-10-17T11:55:18.390483Z",
     "shell.execute_reply": "2022-10-17T11:55:18.389029Z",
     "shell.execute_reply.started": "2022-10-17T11:55:18.380069Z"
    },
    "tags": []
   },
   "outputs": [],
   "source": [
    "poltext_df['cluster_countvec'] = identified_clusters\n",
    "poltext_df['cluster_countvec'] = poltext_df['cluster_countvec'].astype('str') # omdannes til string for at gøre den kategorisk"
   ]
  },
  {
   "cell_type": "code",
   "execution_count": 40,
   "id": "a2944c6d-5c04-4a9e-ae2a-2c09c49e8c92",
   "metadata": {
    "execution": {
     "iopub.execute_input": "2022-10-17T11:55:56.173935Z",
     "iopub.status.busy": "2022-10-17T11:55:56.173116Z",
     "iopub.status.idle": "2022-10-17T11:55:56.190146Z",
     "shell.execute_reply": "2022-10-17T11:55:56.189195Z",
     "shell.execute_reply.started": "2022-10-17T11:55:56.173879Z"
    },
    "tags": []
   },
   "outputs": [
    {
     "data": {
      "text/plain": [
       "party         cluster_countvec\n",
       "df            0                   0.40\n",
       "              2                   0.60\n",
       "konservative  0                   0.90\n",
       "              1                   0.03\n",
       "              2                   0.07\n",
       "sf            0                   0.99\n",
       "              2                   0.01\n",
       "dtype: float64"
      ]
     },
     "execution_count": 40,
     "metadata": {},
     "output_type": "execute_result"
    }
   ],
   "source": [
    "poltext_df.groupby(['party', 'cluster_countvec']).size() / poltext_df.groupby(['party']).size()"
   ]
  },
  {
   "cell_type": "code",
   "execution_count": 39,
   "id": "223c544d-f0ba-4dca-8ec9-bfebe42f5940",
   "metadata": {
    "execution": {
     "iopub.execute_input": "2022-10-17T11:55:20.834422Z",
     "iopub.status.busy": "2022-10-17T11:55:20.833616Z",
     "iopub.status.idle": "2022-10-17T11:55:21.086201Z",
     "shell.execute_reply": "2022-10-17T11:55:21.085526Z",
     "shell.execute_reply.started": "2022-10-17T11:55:20.834367Z"
    },
    "tags": []
   },
   "outputs": [
    {
     "data": {
      "image/png": "[encoded data removed]",
      "text/plain": [
       "<Figure size 1200x1000 with 1 Axes>"
      ]
     },
     "metadata": {},
     "output_type": "display_data"
    },
    {
     "data": {
      "text/plain": [
       "<ggplot: (8774075731536)>"
      ]
     },
     "execution_count": 39,
     "metadata": {},
     "output_type": "execute_result"
    }
   ],
   "source": [
    "from plotnine import ggplot, aes, geom_bar\n",
    "\n",
    "(ggplot(data = poltext_df, mapping = aes(x = 'party', group = 'cluster_countvec', fill = 'cluster_countvec')) \n",
    " + geom_bar())"
   ]
  },
  {
   "cell_type": "markdown",
   "id": "ccc7ff35-0275-4d88-a16f-6591e7aa9d06",
   "metadata": {},
   "source": [
    "## Klyngeanalyse ud fra TfIdf vectorizer (Tf-idf vægtning af ord)"
   ]
  },
  {
   "cell_type": "code",
   "execution_count": 42,
   "id": "aa92d627-78ff-4125-ae57-91d1232db847",
   "metadata": {
    "execution": {
     "iopub.execute_input": "2022-10-17T11:57:00.133859Z",
     "iopub.status.busy": "2022-10-17T11:57:00.133182Z",
     "iopub.status.idle": "2022-10-17T11:57:00.220694Z",
     "shell.execute_reply": "2022-10-17T11:57:00.219883Z",
     "shell.execute_reply.started": "2022-10-17T11:57:00.133806Z"
    },
    "tags": []
   },
   "outputs": [],
   "source": [
    "from sklearn.feature_extraction.text import TfidfVectorizer\n",
    "\n",
    "vectorizer = TfidfVectorizer(min_df = 0.05, max_df = 0.9) # dan vectorizerfunktion\n",
    "transformed_documents = vectorizer.fit_transform(poltexts) # brug vectorizer på tekster\n",
    "\n",
    "# Konverter fittet vectorizer til array\n",
    "transformed_documents_as_array = transformed_documents.toarray()\n",
    "\n",
    "# Konverter til data frame\n",
    "tfidf_df = pd.DataFrame(transformed_documents_as_array, columns = vectorizer.get_feature_names_out())"
   ]
  },
  {
   "cell_type": "code",
   "execution_count": 43,
   "id": "29c4b386-c09e-46a1-8bd5-6ee86eb192f9",
   "metadata": {
    "execution": {
     "iopub.execute_input": "2022-10-17T11:57:00.844183Z",
     "iopub.status.busy": "2022-10-17T11:57:00.843420Z",
     "iopub.status.idle": "2022-10-17T11:57:02.845293Z",
     "shell.execute_reply": "2022-10-17T11:57:02.844121Z",
     "shell.execute_reply.started": "2022-10-17T11:57:00.844118Z"
    },
    "tags": []
   },
   "outputs": [
    {
     "data": {
      "text/plain": [
       "array([0, 0, 0, 0, 0, 0, 0, 0, 0, 0, 0, 0, 0, 0, 0, 0, 0, 0, 0, 1, 0, 0,\n",
       "       0, 0, 0, 0, 0, 0, 0, 0, 0, 0, 0, 0, 0, 0, 0, 0, 0, 0, 0, 0, 0, 0,\n",
       "       0, 0, 0, 0, 0, 0, 0, 0, 0, 0, 0, 0, 0, 0, 0, 0, 0, 0, 0, 0, 0, 0,\n",
       "       0, 0, 0, 0, 0, 0, 0, 0, 0, 0, 0, 0, 0, 0, 0, 0, 1, 0, 0, 0, 0, 0,\n",
       "       0, 0, 0, 0, 0, 0, 0, 0, 0, 0, 0, 0, 2, 1, 2, 2, 2, 2, 2, 2, 1, 1,\n",
       "       2, 1, 2, 2, 1, 1, 1, 2, 2, 2, 1, 2, 2, 1, 1, 1, 2, 2, 1, 2, 0, 2,\n",
       "       2, 2, 2, 2, 2, 2, 1, 1, 2, 2, 2, 2, 2, 2, 2, 1, 1, 2, 2, 1, 2, 1,\n",
       "       2, 2, 2, 2, 2, 2, 2, 1, 2, 2, 2, 2, 2, 2, 1, 2, 2, 2, 2, 2, 1, 2,\n",
       "       2, 1, 2, 2, 2, 2, 2, 1, 2, 2, 1, 1, 2, 2, 2, 2, 1, 2, 1, 2, 2, 2,\n",
       "       1, 2, 1, 1, 1, 1, 1, 1, 1, 1, 1, 1, 1, 1, 1, 1, 1, 1, 1, 1, 1, 1,\n",
       "       1, 1, 1, 1, 1], dtype=int32)"
      ]
     },
     "execution_count": 43,
     "metadata": {},
     "output_type": "execute_result"
    }
   ],
   "source": [
    "from sklearn.cluster import KMeans\n",
    "kmeans = KMeans(3)\n",
    "\n",
    "identified_clusters = kmeans.fit_predict(tfidf_df)\n",
    "identified_clusters"
   ]
  },
  {
   "cell_type": "code",
   "execution_count": 44,
   "id": "a32b956a-e1d4-4164-b3ca-abc0f8288ce4",
   "metadata": {
    "execution": {
     "iopub.execute_input": "2022-10-17T11:57:06.749685Z",
     "iopub.status.busy": "2022-10-17T11:57:06.748976Z",
     "iopub.status.idle": "2022-10-17T11:57:06.759581Z",
     "shell.execute_reply": "2022-10-17T11:57:06.757831Z",
     "shell.execute_reply.started": "2022-10-17T11:57:06.749631Z"
    },
    "tags": []
   },
   "outputs": [],
   "source": [
    "poltext_df['cluster_countvec'] = identified_clusters\n",
    "poltext_df['cluster_countvec'] = poltext_df['cluster_countvec'].astype('str') # omdannes til string for at gøre den kategorisk"
   ]
  },
  {
   "cell_type": "code",
   "execution_count": 45,
   "id": "e465ea37-75db-4f35-9a55-5acc9d7cfb0b",
   "metadata": {
    "execution": {
     "iopub.execute_input": "2022-10-17T11:57:07.750016Z",
     "iopub.status.busy": "2022-10-17T11:57:07.749257Z",
     "iopub.status.idle": "2022-10-17T11:57:07.769302Z",
     "shell.execute_reply": "2022-10-17T11:57:07.768365Z",
     "shell.execute_reply.started": "2022-10-17T11:57:07.749954Z"
    },
    "tags": []
   },
   "outputs": [
    {
     "data": {
      "text/plain": [
       "party         cluster_countvec\n",
       "df            1                   1.00\n",
       "konservative  0                   0.01\n",
       "              1                   0.28\n",
       "              2                   0.71\n",
       "sf            0                   0.98\n",
       "              1                   0.02\n",
       "dtype: float64"
      ]
     },
     "execution_count": 45,
     "metadata": {},
     "output_type": "execute_result"
    }
   ],
   "source": [
    "poltext_df.groupby(['party', 'cluster_countvec']).size() / poltext_df.groupby(['party']).size()"
   ]
  },
  {
   "cell_type": "code",
   "execution_count": 46,
   "id": "119d1fe3-bac9-4822-abaf-27464be91369",
   "metadata": {
    "execution": {
     "iopub.execute_input": "2022-10-17T11:57:13.664299Z",
     "iopub.status.busy": "2022-10-17T11:57:13.663609Z",
     "iopub.status.idle": "2022-10-17T11:57:13.954293Z",
     "shell.execute_reply": "2022-10-17T11:57:13.953408Z",
     "shell.execute_reply.started": "2022-10-17T11:57:13.664244Z"
    },
    "tags": []
   },
   "outputs": [
    {
     "data": {
      "image/png": "[encoded data removed]",
      "text/plain": [
       "<Figure size 1200x1000 with 1 Axes>"
      ]
     },
     "metadata": {},
     "output_type": "display_data"
    },
    {
     "data": {
      "text/plain": [
       "<ggplot: (8774075640418)>"
      ]
     },
     "execution_count": 46,
     "metadata": {},
     "output_type": "execute_result"
    }
   ],
   "source": [
    "import plotnine\n",
    "plotnine.options.figure_size = (12, 10)\n",
    "from plotnine import ggplot, aes, geom_bar\n",
    "\n",
    "(ggplot(data = poltext_df, mapping = aes(x = 'party', group = 'cluster_countvec', fill = 'cluster_countvec')) \n",
    " + geom_bar())"
   ]
  },
  {
   "cell_type": "markdown",
   "id": "bb9c8450-0982-442f-89ac-74ed12bbb0b5",
   "metadata": {},
   "source": [
    "## Klyngeanalyse ud fra egen tokenizer og TfIdf vectorizer"
   ]
  },
  {
   "cell_type": "code",
   "execution_count": 47,
   "id": "123894ec-e0ce-414e-95a9-371a5e1b452a",
   "metadata": {
    "execution": {
     "iopub.execute_input": "2022-10-17T12:23:18.044515Z",
     "iopub.status.busy": "2022-10-17T12:23:18.043790Z",
     "iopub.status.idle": "2022-10-17T12:23:18.056343Z",
     "shell.execute_reply": "2022-10-17T12:23:18.054791Z",
     "shell.execute_reply.started": "2022-10-17T12:23:18.044435Z"
    },
    "tags": []
   },
   "outputs": [],
   "source": [
    "# dan tokenizer\n",
    "\n",
    "def tokenizer(text):\n",
    "    \n",
    "    custom_stops = [\"del\"] # Definerer kontekstspecifikke stopord\n",
    "    default_stopwords = list(nlp.Defaults.stop_words) # Indlæser prædefineret stopordsliste\n",
    "    stop_words = default_stopwords + custom_stops # Danner samlet stopordsliste\n",
    "    \n",
    "    pos_tags = ['PROPN', 'ADJ', 'NOUN'] # Definerer POS-tags som skal bevares: egenavne, adjektiver og navneord\n",
    "\n",
    "    doc = nlp(text)\n",
    "\n",
    "    tokens = []\n",
    "\n",
    "    for word in doc: # Looper igennem hvert ord i tweet\n",
    "        if (len(word.lemma_) < 3): # Ord må ikke være mindre end 3 karakterer - går videre til næste ord, hvis det er\n",
    "            continue\n",
    "        if (word.pos_ in pos_tags) and (word.lemma_ not in stop_words): # Tjek at ordets POS-tag indgår i listen af accepterede tags og at ordet ikke er stopord\n",
    "            tokens.append(word.lemma_) # Tilføj ordets lemma til tokens, hvis if-betingelse er opfyldt\n",
    "                \n",
    "    return(tokens)"
   ]
  },
  {
   "cell_type": "code",
   "execution_count": 48,
   "id": "81bd5a86-7a4f-4d8b-b927-d3db501faa3c",
   "metadata": {
    "execution": {
     "iopub.execute_input": "2022-10-17T12:23:43.223867Z",
     "iopub.status.busy": "2022-10-17T12:23:43.223108Z",
     "iopub.status.idle": "2022-10-17T12:23:55.770379Z",
     "shell.execute_reply": "2022-10-17T12:23:55.769212Z",
     "shell.execute_reply.started": "2022-10-17T12:23:43.223804Z"
    }
   },
   "outputs": [],
   "source": [
    "# vectorizer\n",
    "\n",
    "from sklearn.feature_extraction.text import TfidfVectorizer\n",
    "\n",
    "vectorizer = TfidfVectorizer(min_df = 0.05, max_df = 0.9, tokenizer = tokenizer) # dan vectorizerfunktion\n",
    "transformed_documents = vectorizer.fit_transform(poltexts) # brug vectorizer på tekster\n",
    "\n",
    "# Konverter fittet vectorizer til array\n",
    "transformed_documents_as_array = transformed_documents.toarray()\n",
    "\n",
    "# Konverter til data frame\n",
    "tfidf_tk_df = pd.DataFrame(transformed_documents_as_array, columns = vectorizer.get_feature_names_out())"
   ]
  },
  {
   "cell_type": "code",
   "execution_count": 49,
   "id": "6b130132-a4c5-4538-b7d3-3ae673c507b0",
   "metadata": {
    "execution": {
     "iopub.execute_input": "2022-10-17T12:23:57.550659Z",
     "iopub.status.busy": "2022-10-17T12:23:57.549869Z",
     "iopub.status.idle": "2022-10-17T12:23:59.545532Z",
     "shell.execute_reply": "2022-10-17T12:23:59.544628Z",
     "shell.execute_reply.started": "2022-10-17T12:23:57.550603Z"
    },
    "tags": []
   },
   "outputs": [
    {
     "data": {
      "text/plain": [
       "array([1, 1, 1, 1, 1, 1, 1, 1, 1, 1, 1, 1, 1, 1, 1, 1, 1, 1, 1, 1, 1, 1,\n",
       "       1, 1, 1, 1, 1, 1, 1, 1, 1, 1, 1, 1, 1, 1, 1, 1, 1, 1, 1, 1, 1, 1,\n",
       "       1, 1, 1, 1, 1, 1, 1, 1, 1, 1, 1, 1, 1, 1, 1, 1, 1, 1, 1, 1, 1, 1,\n",
       "       1, 1, 1, 1, 1, 1, 1, 1, 1, 1, 1, 1, 1, 1, 1, 1, 0, 1, 1, 1, 1, 1,\n",
       "       1, 1, 1, 1, 1, 1, 1, 1, 1, 1, 1, 1, 0, 2, 0, 0, 0, 0, 0, 0, 0, 2,\n",
       "       0, 0, 0, 0, 2, 2, 0, 0, 0, 0, 0, 0, 0, 2, 2, 0, 0, 0, 2, 0, 0, 0,\n",
       "       0, 0, 0, 0, 0, 0, 0, 0, 0, 0, 0, 0, 0, 0, 0, 2, 0, 0, 0, 2, 0, 2,\n",
       "       0, 0, 0, 0, 0, 0, 0, 2, 0, 0, 0, 0, 0, 0, 2, 0, 0, 0, 0, 0, 0, 0,\n",
       "       0, 2, 0, 0, 0, 0, 0, 2, 0, 0, 2, 2, 0, 0, 0, 0, 0, 0, 2, 0, 0, 0,\n",
       "       0, 0, 2, 2, 2, 2, 2, 1, 2, 2, 2, 2, 2, 2, 2, 2, 2, 2, 2, 2, 2, 2,\n",
       "       2, 2, 2, 2, 2], dtype=int32)"
      ]
     },
     "execution_count": 49,
     "metadata": {},
     "output_type": "execute_result"
    }
   ],
   "source": [
    "from sklearn.cluster import KMeans\n",
    "kmeans = KMeans(3)\n",
    "\n",
    "identified_clusters = kmeans.fit_predict(tfidf_df)\n",
    "identified_clusters"
   ]
  },
  {
   "cell_type": "code",
   "execution_count": 50,
   "id": "d777d4cd-5fa8-4c1f-bae3-fdc2ca69a552",
   "metadata": {
    "execution": {
     "iopub.execute_input": "2022-10-17T12:24:04.104536Z",
     "iopub.status.busy": "2022-10-17T12:24:04.103850Z",
     "iopub.status.idle": "2022-10-17T12:24:04.113960Z",
     "shell.execute_reply": "2022-10-17T12:24:04.112300Z",
     "shell.execute_reply.started": "2022-10-17T12:24:04.104469Z"
    },
    "tags": []
   },
   "outputs": [],
   "source": [
    "poltext_df['cluster_countvec'] = identified_clusters\n",
    "poltext_df['cluster_countvec'] = poltext_df['cluster_countvec'].astype('str') # omdannes til string for at gøre den kategorisk"
   ]
  },
  {
   "cell_type": "code",
   "execution_count": 51,
   "id": "d2ed10e8-2175-489b-9ef9-f47cd94d0b50",
   "metadata": {
    "execution": {
     "iopub.execute_input": "2022-10-17T12:24:05.797452Z",
     "iopub.status.busy": "2022-10-17T12:24:05.796608Z",
     "iopub.status.idle": "2022-10-17T12:24:05.814005Z",
     "shell.execute_reply": "2022-10-17T12:24:05.813370Z",
     "shell.execute_reply.started": "2022-10-17T12:24:05.797379Z"
    },
    "tags": []
   },
   "outputs": [
    {
     "data": {
      "text/plain": [
       "party         cluster_countvec\n",
       "df            1                   0.04\n",
       "              2                   0.96\n",
       "konservative  0                   0.83\n",
       "              2                   0.17\n",
       "sf            0                   0.01\n",
       "              1                   0.99\n",
       "dtype: float64"
      ]
     },
     "execution_count": 51,
     "metadata": {},
     "output_type": "execute_result"
    }
   ],
   "source": [
    "poltext_df.groupby(['party', 'cluster_countvec']).size() / poltext_df.groupby(['party']).size()"
   ]
  },
  {
   "cell_type": "code",
   "execution_count": 52,
   "id": "fd44706e-2e4a-482c-a03c-5294a8dad040",
   "metadata": {
    "execution": {
     "iopub.execute_input": "2022-10-17T12:24:11.893112Z",
     "iopub.status.busy": "2022-10-17T12:24:11.892417Z",
     "iopub.status.idle": "2022-10-17T12:24:12.147060Z",
     "shell.execute_reply": "2022-10-17T12:24:12.146336Z",
     "shell.execute_reply.started": "2022-10-17T12:24:11.893049Z"
    },
    "tags": []
   },
   "outputs": [
    {
     "data": {
      "image/png": "[encoded data removed]",
      "text/plain": [
       "<Figure size 1200x1000 with 1 Axes>"
      ]
     },
     "metadata": {},
     "output_type": "display_data"
    },
    {
     "data": {
      "text/plain": [
       "<ggplot: (8774075413916)>"
      ]
     },
     "execution_count": 52,
     "metadata": {},
     "output_type": "execute_result"
    }
   ],
   "source": [
    "import plotnine\n",
    "plotnine.options.figure_size = (12, 10)\n",
    "from plotnine import ggplot, aes, geom_bar\n",
    "\n",
    "(ggplot(data = poltext_df, mapping = aes(x = 'party', group = 'cluster_countvec', fill = 'cluster_countvec')) \n",
    " + geom_bar())"
   ]
  },
  {
   "cell_type": "markdown",
   "id": "fcf4046a-2748-4fa0-bb14-ff90393ac02b",
   "metadata": {},
   "source": [
    "## PCA på tekst"
   ]
  },
  {
   "cell_type": "code",
   "execution_count": 61,
   "id": "6c4639be-ddef-4299-805b-c961a1405384",
   "metadata": {
    "execution": {
     "iopub.execute_input": "2022-10-17T13:29:50.075004Z",
     "iopub.status.busy": "2022-10-17T13:29:50.074423Z",
     "iopub.status.idle": "2022-10-17T13:30:12.449260Z",
     "shell.execute_reply": "2022-10-17T13:30:12.446765Z",
     "shell.execute_reply.started": "2022-10-17T13:29:50.074969Z"
    },
    "tags": []
   },
   "outputs": [],
   "source": [
    "from sklearn.decomposition import PCA\n",
    "\n",
    "pca = PCA(n_components=2, random_state=142)\n",
    "\n",
    "pca_vecs = pca.fit_transform(tfidf_tk_df)\n",
    "\n",
    "pca1 = pca_vecs[:, 0]\n",
    "pca2 = pca_vecs[:, 1]\n",
    "\n",
    "poltext_df['pca1'] = pca1\n",
    "poltext_df['pca2'] = pca2"
   ]
  },
  {
   "cell_type": "code",
   "execution_count": 67,
   "id": "146c0276-4f9a-4352-9cb1-397e95ccd74d",
   "metadata": {
    "execution": {
     "iopub.execute_input": "2022-10-17T13:32:56.836563Z",
     "iopub.status.busy": "2022-10-17T13:32:56.835767Z",
     "iopub.status.idle": "2022-10-17T13:32:57.137746Z",
     "shell.execute_reply": "2022-10-17T13:32:57.136874Z",
     "shell.execute_reply.started": "2022-10-17T13:32:56.836489Z"
    },
    "tags": []
   },
   "outputs": [
    {
     "data": {
      "image/png": "[encoded data removed]",
      "text/plain": [
       "<Figure size 1200x1000 with 1 Axes>"
      ]
     },
     "metadata": {},
     "output_type": "display_data"
    },
    {
     "data": {
      "text/plain": [
       "<ggplot: (8774068798705)>"
      ]
     },
     "execution_count": 67,
     "metadata": {},
     "output_type": "execute_result"
    }
   ],
   "source": [
    "from plotnine import ggplot, aes, geom_point\n",
    "\n",
    "(ggplot(data = poltext_df, mapping = aes(x = 'pca1', y = 'pca2', shape = 'cluster_countvec', colour = 'party')) \n",
    " + geom_point())"
   ]
  }
 ],
 "metadata": {
  "kernelspec": {
   "display_name": "Python 3 ",
   "language": "python",
   "name": "python3"
  },
  "language_info": {
   "codemirror_mode": {
    "name": "ipython",
    "version": 3
   },
   "file_extension": ".py",
   "mimetype": "text/x-python",
   "name": "python",
   "nbconvert_exporter": "python",
   "pygments_lexer": "ipython3",
   "version": "3.10.6"
  }
 },
 "nbformat": 4,
 "nbformat_minor": 5
}
