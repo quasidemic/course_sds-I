{
 "cells": [
  {
   "cell_type": "code",
   "execution_count": 1,
   "id": "2756df2e-40ed-4650-9fe1-27b3c576ddda",
   "metadata": {
    "execution": {
     "iopub.execute_input": "2022-10-18T07:23:03.678110Z",
     "iopub.status.busy": "2022-10-18T07:23:03.677294Z",
     "iopub.status.idle": "2022-10-18T07:23:03.684767Z",
     "shell.execute_reply": "2022-10-18T07:23:03.683558Z",
     "shell.execute_reply.started": "2022-10-18T07:23:03.678030Z"
    },
    "tags": []
   },
   "outputs": [],
   "source": [
    "# Installér spacy sprogmodel for dansk (hvis ikke installeret i forvejen)\n",
    "\n",
    "#!python -m spacy download 'da_core_news_sm'"
   ]
  },
  {
   "cell_type": "code",
   "execution_count": 2,
   "id": "58c88fec-a3d1-4a90-8b68-f94e7a967344",
   "metadata": {
    "execution": {
     "iopub.execute_input": "2022-10-18T07:23:04.687486Z",
     "iopub.status.busy": "2022-10-18T07:23:04.686990Z",
     "iopub.status.idle": "2022-10-18T07:23:09.685519Z",
     "shell.execute_reply": "2022-10-18T07:23:09.684691Z",
     "shell.execute_reply.started": "2022-10-18T07:23:04.687461Z"
    },
    "tags": []
   },
   "outputs": [],
   "source": [
    "# indlæs pakker\n",
    "\n",
    "import os\n",
    "import re\n",
    "import pandas as pd\n",
    "\n",
    "from sklearn.cluster import KMeans\n",
    "from sklearn.feature_extraction.text import TfidfVectorizer\n",
    "from sklearn.feature_extraction.text import CountVectorizer\n",
    "from sklearn.decomposition import PCA\n",
    "\n",
    "import plotnine\n",
    "plotnine.options.figure_size = (12, 10)\n",
    "\n",
    "import spacy\n",
    "import nltk\n",
    "\n",
    "nlp = spacy.load('da_core_news_sm')"
   ]
  },
  {
   "cell_type": "code",
   "execution_count": 3,
   "id": "21bae1ab-0244-4d7c-a95f-c4c994451846",
   "metadata": {
    "execution": {
     "iopub.execute_input": "2022-10-18T07:23:10.876875Z",
     "iopub.status.busy": "2022-10-18T07:23:10.876039Z",
     "iopub.status.idle": "2022-10-18T07:23:17.483548Z",
     "shell.execute_reply": "2022-10-18T07:23:17.482061Z",
     "shell.execute_reply.started": "2022-10-18T07:23:10.876820Z"
    },
    "tags": []
   },
   "outputs": [],
   "source": [
    "# indlæs data\n",
    "\n",
    "data_p = os.path.join('/work', '83232', 'data', 'polparties')\n",
    "\n",
    "# sf texts\n",
    "sf = []\n",
    "\n",
    "sf_files = os.listdir(os.path.join(data_p, 'sf'))\n",
    "\n",
    "for filename in sf_files:\n",
    "    text = {}\n",
    "    \n",
    "    text['name'] = filename\n",
    "    text['party'] = 'sf'\n",
    "    text['text'] = open(os.path.join(data_p, 'sf', filename)).read()\n",
    "    \n",
    "    sf.append(text)\n",
    "    \n",
    "# c texts\n",
    "cons = []\n",
    "\n",
    "cons_files = os.listdir(os.path.join(data_p, 'konservative'))\n",
    "\n",
    "for filename in cons_files:\n",
    "    text = {}\n",
    "    \n",
    "    text['name'] = filename\n",
    "    text['party'] = 'konservative'\n",
    "    text['text'] = open(os.path.join(data_p, 'konservative', filename)).read()\n",
    "    \n",
    "    cons.append(text)\n",
    "    \n",
    "# df texts\n",
    "df = []\n",
    "\n",
    "df_files = os.listdir(os.path.join(data_p, 'df'))\n",
    "\n",
    "for filename in df_files:\n",
    "    text = {}\n",
    "    \n",
    "    text['name'] = filename\n",
    "    text['party'] = 'df'\n",
    "    text['text'] = open(os.path.join(data_p, 'df', filename)).read()\n",
    "    \n",
    "    df.append(text)\n",
    "    \n",
    "# combined\n",
    "poltext_data = sf + cons + df\n",
    "\n",
    "# just texts\n",
    "poltexts = [poltext.get('text') for poltext in poltext_data]\n",
    "\n",
    "# as dataframe\n",
    "poltext_df = pd.DataFrame.from_records(poltext_data)"
   ]
  },
  {
   "cell_type": "code",
   "execution_count": 4,
   "id": "3546b924-1981-4ee8-8514-4186ea99e074",
   "metadata": {
    "execution": {
     "iopub.execute_input": "2022-10-18T07:23:17.558939Z",
     "iopub.status.busy": "2022-10-18T07:23:17.558712Z",
     "iopub.status.idle": "2022-10-18T07:23:17.564399Z",
     "shell.execute_reply": "2022-10-18T07:23:17.563757Z",
     "shell.execute_reply.started": "2022-10-18T07:23:17.558919Z"
    },
    "tags": []
   },
   "outputs": [
    {
     "data": {
      "text/plain": [
       "{'name': 'sf-vil-skrotte-epidemiloven-og-starte-forfra.txt',\n",
       " 'party': 'sf',\n",
       " 'text': '\\n Del\\n\\n\\n Del\\n\\nSF vil skrotte epidemiloven og starte forfra\\n13-11-2020\\nI foråret stod vi i en situation, der var helt ny for os alle. SF støttede derfor samfundets nedlukning og haste-vedtagelsen af en ny epidemi-lov, der gav folkestyret de redskaber, der var nødvendige, for at bekæmpe epidemien.\\nSituationen – og vores redskaber til at bekæmpe smitten – har siden ændret sig. Regeringen har lanceret et udkast til en ny epidemi-lov. Udkastet gør i SFs øjne for lidt for at adressere epidemi-lovens demokratiske underskud, og SF er modstandere af tvangsvaccination og andre tvangsmekanismer indlagt i det nye forslag.\\nSF foreslår i stedet at man fuldstændig skrotter epidemiloven og starter forfra med at forhandle en ny lov hjem. Loven skal være langt mere demokratisk forankret og ikke hægte folkestyret af i samme grad, som det er tilfældet lige nu. SF foreslår blandt andet:\\nEn ny politisk styregruppe bestående af flere af Folketingets partier. Udvalget skal have en særligt, skærpet fortrolighed for at sikre at den livsvigtige ensartethed i de oplysninger, der udgår fra myndighederne. Samtidig skal regeringen lade sig rådføre af udvalget, når det tager beslutninger – og for beslutninger, der udvider restriktioner eller lempelser væsentligt, skal regeringen søge flertal i udvalget. Mere demokratisk kontrol er kernen i en ny epidemi-lov, der passer på vores allesammens demokrati.\\nOprettelsen af ny national epidemikommission fuld af epidemi-faglig og økonomisk ekspertise skal sikre en mere effektiv organisation til rådgivning og tværfagligt samarbejde myndigheder imellem.\\nRullende lagre med værnemidler, test og medicin skal sikre, at de regionale myndigheder ikke selv bliver efterladt med ansvaret for indsatsen i en epidemi. Ansvaret for det rullende lager placeres centralt og sikrer, at hele landet er dækket i tilfælde med lokale smittekriser.\\nDomstole skal ikke omfattes af forsamlingsforbud således at retsstaten ikke hæmmes af epidemien. Nye tiltag skal i stedet sikre, at domstolene kan fortsætte deres arbejde på en forsvarlig og smittefri måde.\\nSolnedgangsklausuler skal følge alle bekendtgørelser med baggrund i epidemiloven således at borgerne har et klart overblik over, hvilke restriktioner, der er midlertidige, og hvilke de skal leve med mere permanent.\\n'}"
      ]
     },
     "execution_count": 4,
     "metadata": {},
     "output_type": "execute_result"
    }
   ],
   "source": [
    "# dictionary struktur\n",
    "poltext_data[0]"
   ]
  },
  {
   "cell_type": "code",
   "execution_count": 5,
   "id": "f8a57d37-c1f5-4d77-b49a-550e2532963c",
   "metadata": {
    "execution": {
     "iopub.execute_input": "2022-10-18T07:23:17.566305Z",
     "iopub.status.busy": "2022-10-18T07:23:17.566097Z",
     "iopub.status.idle": "2022-10-18T07:23:17.589137Z",
     "shell.execute_reply": "2022-10-18T07:23:17.588376Z",
     "shell.execute_reply.started": "2022-10-18T07:23:17.566286Z"
    },
    "tags": []
   },
   "outputs": [
    {
     "data": {
      "text/plain": [
       "'\\n Del\\n\\n\\n Del\\n\\nSF vil skrotte epidemiloven og starte forfra\\n13-11-2020\\nI foråret stod vi i en situation, der var helt ny for os alle. SF støttede derfor samfundets nedlukning og haste-vedtagelsen af en ny epidemi-lov, der gav folkestyret de redskaber, der var nødvendige, for at bekæmpe epidemien.\\nSituationen – og vores redskaber til at bekæmpe smitten – har siden ændret sig. Regeringen har lanceret et udkast til en ny epidemi-lov. Udkastet gør i SFs øjne for lidt for at adressere epidemi-lovens demokratiske underskud, og SF er modstandere af tvangsvaccination og andre tvangsmekanismer indlagt i det nye forslag.\\nSF foreslår i stedet at man fuldstændig skrotter epidemiloven og starter forfra med at forhandle en ny lov hjem. Loven skal være langt mere demokratisk forankret og ikke hægte folkestyret af i samme grad, som det er tilfældet lige nu. SF foreslår blandt andet:\\nEn ny politisk styregruppe bestående af flere af Folketingets partier. Udvalget skal have en særligt, skærpet fortrolighed for at sikre at den livsvigtige ensartethed i de oplysninger, der udgår fra myndighederne. Samtidig skal regeringen lade sig rådføre af udvalget, når det tager beslutninger – og for beslutninger, der udvider restriktioner eller lempelser væsentligt, skal regeringen søge flertal i udvalget. Mere demokratisk kontrol er kernen i en ny epidemi-lov, der passer på vores allesammens demokrati.\\nOprettelsen af ny national epidemikommission fuld af epidemi-faglig og økonomisk ekspertise skal sikre en mere effektiv organisation til rådgivning og tværfagligt samarbejde myndigheder imellem.\\nRullende lagre med værnemidler, test og medicin skal sikre, at de regionale myndigheder ikke selv bliver efterladt med ansvaret for indsatsen i en epidemi. Ansvaret for det rullende lager placeres centralt og sikrer, at hele landet er dækket i tilfælde med lokale smittekriser.\\nDomstole skal ikke omfattes af forsamlingsforbud således at retsstaten ikke hæmmes af epidemien. Nye tiltag skal i stedet sikre, at domstolene kan fortsætte deres arbejde på en forsvarlig og smittefri måde.\\nSolnedgangsklausuler skal følge alle bekendtgørelser med baggrund i epidemiloven således at borgerne har et klart overblik over, hvilke restriktioner, der er midlertidige, og hvilke de skal leve med mere permanent.\\n'"
      ]
     },
     "execution_count": 5,
     "metadata": {},
     "output_type": "execute_result"
    }
   ],
   "source": [
    "# kun text\n",
    "poltexts[0]"
   ]
  },
  {
   "cell_type": "code",
   "execution_count": 6,
   "id": "215552c5-dcff-4ac5-b932-7413d65795f5",
   "metadata": {
    "execution": {
     "iopub.execute_input": "2022-10-18T07:23:17.590744Z",
     "iopub.status.busy": "2022-10-18T07:23:17.590175Z",
     "iopub.status.idle": "2022-10-18T07:23:17.616613Z",
     "shell.execute_reply": "2022-10-18T07:23:17.615613Z",
     "shell.execute_reply.started": "2022-10-18T07:23:17.590710Z"
    },
    "tags": []
   },
   "outputs": [
    {
     "data": {
      "text/html": [
       "<div>\n",
       "<style scoped>\n",
       "    .dataframe tbody tr th:only-of-type {\n",
       "        vertical-align: middle;\n",
       "    }\n",
       "\n",
       "    .dataframe tbody tr th {\n",
       "        vertical-align: top;\n",
       "    }\n",
       "\n",
       "    .dataframe thead th {\n",
       "        text-align: right;\n",
       "    }\n",
       "</style>\n",
       "<table border=\"1\" class=\"dataframe\">\n",
       "  <thead>\n",
       "    <tr style=\"text-align: right;\">\n",
       "      <th></th>\n",
       "      <th>name</th>\n",
       "      <th>party</th>\n",
       "      <th>text</th>\n",
       "    </tr>\n",
       "  </thead>\n",
       "  <tbody>\n",
       "    <tr>\n",
       "      <th>0</th>\n",
       "      <td>sf-vil-skrotte-epidemiloven-og-starte-forfra.txt</td>\n",
       "      <td>sf</td>\n",
       "      <td>\\n Del\\n\\n\\n Del\\n\\nSF vil skrotte epidemilove...</td>\n",
       "    </tr>\n",
       "    <tr>\n",
       "      <th>1</th>\n",
       "      <td>landbrugets-massive-klimaforurening-skal-ned.txt</td>\n",
       "      <td>sf</td>\n",
       "      <td>\\n Del\\n\\n\\n Del\\n\\nLandbrugets massive klimaf...</td>\n",
       "    </tr>\n",
       "    <tr>\n",
       "      <th>2</th>\n",
       "      <td>stop-de-sorte-investeringer-nu.txt</td>\n",
       "      <td>sf</td>\n",
       "      <td>\\n Del\\n\\n\\n Del\\n\\nStop de sorte investeringe...</td>\n",
       "    </tr>\n",
       "    <tr>\n",
       "      <th>3</th>\n",
       "      <td>1-maj-sf-vil-goere-op-med-falske-selvstaendige...</td>\n",
       "      <td>sf</td>\n",
       "      <td>\\n Del\\n\\n\\n Del\\n\\n1. maj – SF vil gøre op me...</td>\n",
       "    </tr>\n",
       "    <tr>\n",
       "      <th>4</th>\n",
       "      <td>sf-vil-investere-massivt-i-de-unge.txt</td>\n",
       "      <td>sf</td>\n",
       "      <td>\\n Del\\n\\n\\n Del\\n\\nDe unge skal ikke bagerst ...</td>\n",
       "    </tr>\n",
       "  </tbody>\n",
       "</table>\n",
       "</div>"
      ],
      "text/plain": [
       "                                                name party  \\\n",
       "0   sf-vil-skrotte-epidemiloven-og-starte-forfra.txt    sf   \n",
       "1   landbrugets-massive-klimaforurening-skal-ned.txt    sf   \n",
       "2                 stop-de-sorte-investeringer-nu.txt    sf   \n",
       "3  1-maj-sf-vil-goere-op-med-falske-selvstaendige...    sf   \n",
       "4             sf-vil-investere-massivt-i-de-unge.txt    sf   \n",
       "\n",
       "                                                text  \n",
       "0  \\n Del\\n\\n\\n Del\\n\\nSF vil skrotte epidemilove...  \n",
       "1  \\n Del\\n\\n\\n Del\\n\\nLandbrugets massive klimaf...  \n",
       "2  \\n Del\\n\\n\\n Del\\n\\nStop de sorte investeringe...  \n",
       "3  \\n Del\\n\\n\\n Del\\n\\n1. maj – SF vil gøre op me...  \n",
       "4  \\n Del\\n\\n\\n Del\\n\\nDe unge skal ikke bagerst ...  "
      ]
     },
     "execution_count": 6,
     "metadata": {},
     "output_type": "execute_result"
    }
   ],
   "source": [
    "# data frame\n",
    "poltext_df.head()"
   ]
  },
  {
   "cell_type": "markdown",
   "id": "745cdc1c-a078-4c54-af8b-5fa1b4a37229",
   "metadata": {},
   "source": [
    "## Klyngeanalyse af tekster: CountVectorizer (rå tællinger af ord)"
   ]
  },
  {
   "cell_type": "code",
   "execution_count": 7,
   "id": "364cbac2-7c6f-44b6-89ff-db3b0a4ff8d6",
   "metadata": {
    "execution": {
     "iopub.execute_input": "2022-10-18T07:23:17.618561Z",
     "iopub.status.busy": "2022-10-18T07:23:17.618096Z",
     "iopub.status.idle": "2022-10-18T07:23:17.712308Z",
     "shell.execute_reply": "2022-10-18T07:23:17.711441Z",
     "shell.execute_reply.started": "2022-10-18T07:23:17.618530Z"
    },
    "tags": []
   },
   "outputs": [],
   "source": [
    "from sklearn.feature_extraction.text import CountVectorizer\n",
    "\n",
    "vectorizer = CountVectorizer(min_df = 0.05, max_df = 0.9) # dan vectorizerfunktion\n",
    "transformed_documents = vectorizer.fit_transform(poltexts) # brug vectorizer på tekster\n",
    "\n",
    "# Konverter fittet vectorizer til array\n",
    "transformed_documents_as_array = transformed_documents.toarray()\n",
    "\n",
    "# Konverter til data frame\n",
    "count_df = pd.DataFrame(transformed_documents_as_array, columns = vectorizer.get_feature_names_out())"
   ]
  },
  {
   "cell_type": "code",
   "execution_count": 8,
   "id": "4f1ecf2f-5457-489d-a1d7-582cca1fc28e",
   "metadata": {
    "execution": {
     "iopub.execute_input": "2022-10-18T07:23:17.713546Z",
     "iopub.status.busy": "2022-10-18T07:23:17.713292Z",
     "iopub.status.idle": "2022-10-18T07:23:19.598162Z",
     "shell.execute_reply": "2022-10-18T07:23:19.597143Z",
     "shell.execute_reply.started": "2022-10-18T07:23:17.713524Z"
    },
    "tags": []
   },
   "outputs": [
    {
     "data": {
      "text/plain": [
       "array([1, 1, 1, 1, 1, 1, 1, 1, 1, 1, 1, 1, 1, 1, 1, 1, 1, 1, 1, 1, 1, 1,\n",
       "       1, 1, 1, 1, 1, 1, 1, 1, 1, 1, 1, 1, 1, 1, 1, 1, 1, 1, 1, 1, 1, 1,\n",
       "       1, 1, 1, 1, 1, 1, 1, 1, 1, 1, 1, 1, 1, 1, 1, 1, 1, 1, 1, 1, 1, 1,\n",
       "       1, 1, 1, 1, 1, 1, 1, 1, 1, 1, 1, 1, 1, 1, 1, 1, 1, 1, 1, 1, 1, 1,\n",
       "       1, 1, 1, 1, 1, 1, 1, 1, 1, 1, 1, 1, 1, 1, 1, 1, 1, 1, 1, 1, 1, 1,\n",
       "       1, 1, 1, 1, 1, 1, 1, 1, 1, 1, 1, 1, 2, 0, 1, 1, 1, 1, 1, 1, 1, 1,\n",
       "       1, 1, 1, 1, 1, 1, 1, 1, 1, 1, 1, 1, 1, 1, 1, 1, 1, 1, 1, 1, 1, 0,\n",
       "       1, 1, 1, 1, 1, 1, 1, 1, 1, 1, 1, 1, 1, 1, 0, 1, 1, 1, 1, 1, 1, 1,\n",
       "       1, 1, 1, 1, 1, 1, 1, 1, 2, 1, 1, 1, 1, 1, 1, 1, 1, 1, 1, 1, 1, 1,\n",
       "       1, 1, 1, 1, 1, 1, 1, 1, 1, 1, 1, 1, 1, 1, 1, 1, 1, 1, 1, 1, 1, 1,\n",
       "       1, 1, 1, 1, 1], dtype=int32)"
      ]
     },
     "execution_count": 8,
     "metadata": {},
     "output_type": "execute_result"
    }
   ],
   "source": [
    "from sklearn.cluster import KMeans\n",
    "kmeans = KMeans(3, random_state = 142)\n",
    "\n",
    "identified_clusters = kmeans.fit_predict(count_df)\n",
    "identified_clusters"
   ]
  },
  {
   "cell_type": "code",
   "execution_count": 9,
   "id": "bbe4e562-5b0c-4109-9c86-299612e2ec75",
   "metadata": {
    "execution": {
     "iopub.execute_input": "2022-10-18T07:23:19.600228Z",
     "iopub.status.busy": "2022-10-18T07:23:19.599851Z",
     "iopub.status.idle": "2022-10-18T07:23:19.607456Z",
     "shell.execute_reply": "2022-10-18T07:23:19.606419Z",
     "shell.execute_reply.started": "2022-10-18T07:23:19.600193Z"
    },
    "tags": []
   },
   "outputs": [],
   "source": [
    "poltext_df['cluster_countvec'] = identified_clusters\n",
    "poltext_df['cluster_countvec'] = poltext_df['cluster_countvec'].astype('str') # omdannes til string for at gøre den kategorisk"
   ]
  },
  {
   "cell_type": "code",
   "execution_count": 10,
   "id": "a2944c6d-5c04-4a9e-ae2a-2c09c49e8c92",
   "metadata": {
    "execution": {
     "iopub.execute_input": "2022-10-18T07:23:19.609188Z",
     "iopub.status.busy": "2022-10-18T07:23:19.608824Z",
     "iopub.status.idle": "2022-10-18T07:23:19.636364Z",
     "shell.execute_reply": "2022-10-18T07:23:19.635272Z",
     "shell.execute_reply.started": "2022-10-18T07:23:19.609154Z"
    },
    "tags": []
   },
   "outputs": [
    {
     "data": {
      "text/plain": [
       "party         cluster_countvec\n",
       "df            1                   1.00\n",
       "konservative  0                   0.03\n",
       "              1                   0.95\n",
       "              2                   0.02\n",
       "sf            1                   1.00\n",
       "dtype: float64"
      ]
     },
     "execution_count": 10,
     "metadata": {},
     "output_type": "execute_result"
    }
   ],
   "source": [
    "poltext_df.groupby(['party', 'cluster_countvec']).size() / poltext_df.groupby(['party']).size()"
   ]
  },
  {
   "cell_type": "code",
   "execution_count": 11,
   "id": "223c544d-f0ba-4dca-8ec9-bfebe42f5940",
   "metadata": {
    "execution": {
     "iopub.execute_input": "2022-10-18T07:23:19.641327Z",
     "iopub.status.busy": "2022-10-18T07:23:19.640796Z",
     "iopub.status.idle": "2022-10-18T07:23:20.016938Z",
     "shell.execute_reply": "2022-10-18T07:23:20.016254Z",
     "shell.execute_reply.started": "2022-10-18T07:23:19.641293Z"
    },
    "tags": []
   },
   "outputs": [
    {
     "data": {
      "image/png": "[encoded data removed]",
      "text/plain": [
       "<Figure size 1200x1000 with 1 Axes>"
      ]
     },
     "metadata": {},
     "output_type": "display_data"
    },
    {
     "data": {
      "text/plain": [
       "<ggplot: (8751020613672)>"
      ]
     },
     "execution_count": 11,
     "metadata": {},
     "output_type": "execute_result"
    }
   ],
   "source": [
    "from plotnine import ggplot, aes, geom_bar\n",
    "\n",
    "(ggplot(data = poltext_df, mapping = aes(x = 'party', group = 'cluster_countvec', fill = 'cluster_countvec')) \n",
    " + geom_bar(position = 'fill'))"
   ]
  },
  {
   "cell_type": "markdown",
   "id": "ccc7ff35-0275-4d88-a16f-6591e7aa9d06",
   "metadata": {},
   "source": [
    "## Klyngeanalyse ud fra TfIdf vectorizer (Tf-idf vægtning af ord)"
   ]
  },
  {
   "cell_type": "code",
   "execution_count": 12,
   "id": "aa92d627-78ff-4125-ae57-91d1232db847",
   "metadata": {
    "execution": {
     "iopub.execute_input": "2022-10-18T07:23:20.018346Z",
     "iopub.status.busy": "2022-10-18T07:23:20.017946Z",
     "iopub.status.idle": "2022-10-18T07:23:20.101956Z",
     "shell.execute_reply": "2022-10-18T07:23:20.101025Z",
     "shell.execute_reply.started": "2022-10-18T07:23:20.018324Z"
    },
    "tags": []
   },
   "outputs": [],
   "source": [
    "from sklearn.feature_extraction.text import TfidfVectorizer\n",
    "\n",
    "vectorizer = TfidfVectorizer(min_df = 0.05, max_df = 0.9) # dan vectorizerfunktion\n",
    "transformed_documents = vectorizer.fit_transform(poltexts) # brug vectorizer på tekster\n",
    "\n",
    "# Konverter fittet vectorizer til array\n",
    "transformed_documents_as_array = transformed_documents.toarray()\n",
    "\n",
    "# Konverter til data frame\n",
    "tfidf_df = pd.DataFrame(transformed_documents_as_array, columns = vectorizer.get_feature_names_out())"
   ]
  },
  {
   "cell_type": "code",
   "execution_count": 13,
   "id": "29c4b386-c09e-46a1-8bd5-6ee86eb192f9",
   "metadata": {
    "execution": {
     "iopub.execute_input": "2022-10-18T07:23:20.103256Z",
     "iopub.status.busy": "2022-10-18T07:23:20.102904Z",
     "iopub.status.idle": "2022-10-18T07:23:22.106765Z",
     "shell.execute_reply": "2022-10-18T07:23:22.105576Z",
     "shell.execute_reply.started": "2022-10-18T07:23:20.103232Z"
    },
    "tags": []
   },
   "outputs": [
    {
     "data": {
      "text/plain": [
       "array([0, 0, 0, 0, 0, 0, 0, 0, 0, 0, 0, 0, 0, 0, 0, 0, 0, 0, 0, 0, 0, 0,\n",
       "       0, 0, 0, 0, 0, 0, 0, 0, 0, 0, 0, 0, 0, 0, 0, 0, 2, 0, 0, 0, 0, 0,\n",
       "       0, 0, 0, 0, 0, 0, 0, 0, 0, 0, 0, 0, 0, 0, 0, 0, 0, 0, 0, 0, 0, 0,\n",
       "       0, 0, 0, 0, 0, 0, 0, 0, 0, 0, 0, 0, 0, 0, 0, 0, 1, 0, 0, 0, 0, 0,\n",
       "       0, 0, 0, 0, 0, 0, 0, 0, 0, 0, 0, 0, 2, 1, 2, 2, 2, 2, 2, 2, 1, 1,\n",
       "       2, 1, 2, 2, 1, 1, 1, 2, 2, 2, 2, 2, 2, 1, 1, 1, 2, 2, 1, 2, 0, 2,\n",
       "       2, 2, 2, 2, 2, 2, 2, 1, 2, 2, 2, 2, 2, 2, 2, 1, 1, 2, 2, 1, 2, 1,\n",
       "       2, 2, 2, 2, 2, 2, 2, 1, 2, 2, 2, 2, 2, 2, 1, 2, 2, 2, 2, 2, 2, 2,\n",
       "       2, 1, 2, 2, 2, 2, 2, 1, 2, 2, 1, 1, 2, 2, 2, 2, 1, 2, 1, 2, 2, 2,\n",
       "       2, 2, 1, 1, 1, 1, 1, 1, 1, 1, 1, 1, 1, 1, 1, 1, 1, 1, 1, 1, 1, 1,\n",
       "       1, 1, 1, 1, 1], dtype=int32)"
      ]
     },
     "execution_count": 13,
     "metadata": {},
     "output_type": "execute_result"
    }
   ],
   "source": [
    "from sklearn.cluster import KMeans\n",
    "kmeans = KMeans(3, random_state = 142)\n",
    "\n",
    "identified_clusters = kmeans.fit_predict(tfidf_df)\n",
    "identified_clusters"
   ]
  },
  {
   "cell_type": "code",
   "execution_count": 14,
   "id": "a32b956a-e1d4-4164-b3ca-abc0f8288ce4",
   "metadata": {
    "execution": {
     "iopub.execute_input": "2022-10-18T07:23:22.108260Z",
     "iopub.status.busy": "2022-10-18T07:23:22.107942Z",
     "iopub.status.idle": "2022-10-18T07:23:22.113813Z",
     "shell.execute_reply": "2022-10-18T07:23:22.113038Z",
     "shell.execute_reply.started": "2022-10-18T07:23:22.108234Z"
    },
    "tags": []
   },
   "outputs": [],
   "source": [
    "poltext_df['cluster_tfidfvec'] = identified_clusters\n",
    "poltext_df['cluster_tfidfvec'] = poltext_df['cluster_tfidfvec'].astype('str') # omdannes til string for at gøre den kategorisk"
   ]
  },
  {
   "cell_type": "code",
   "execution_count": 15,
   "id": "e465ea37-75db-4f35-9a55-5acc9d7cfb0b",
   "metadata": {
    "execution": {
     "iopub.execute_input": "2022-10-18T07:23:22.115165Z",
     "iopub.status.busy": "2022-10-18T07:23:22.114788Z",
     "iopub.status.idle": "2022-10-18T07:23:22.133545Z",
     "shell.execute_reply": "2022-10-18T07:23:22.132789Z",
     "shell.execute_reply.started": "2022-10-18T07:23:22.115143Z"
    },
    "tags": []
   },
   "outputs": [
    {
     "data": {
      "text/plain": [
       "party         cluster_tfidfvec\n",
       "df            1                   1.00\n",
       "konservative  0                   0.01\n",
       "              1                   0.24\n",
       "              2                   0.75\n",
       "sf            0                   0.98\n",
       "              1                   0.01\n",
       "              2                   0.01\n",
       "dtype: float64"
      ]
     },
     "execution_count": 15,
     "metadata": {},
     "output_type": "execute_result"
    }
   ],
   "source": [
    "poltext_df.groupby(['party', 'cluster_tfidfvec']).size() / poltext_df.groupby(['party']).size()"
   ]
  },
  {
   "cell_type": "code",
   "execution_count": 16,
   "id": "119d1fe3-bac9-4822-abaf-27464be91369",
   "metadata": {
    "execution": {
     "iopub.execute_input": "2022-10-18T07:23:22.134905Z",
     "iopub.status.busy": "2022-10-18T07:23:22.134470Z",
     "iopub.status.idle": "2022-10-18T07:23:22.448964Z",
     "shell.execute_reply": "2022-10-18T07:23:22.448249Z",
     "shell.execute_reply.started": "2022-10-18T07:23:22.134882Z"
    },
    "tags": []
   },
   "outputs": [
    {
     "data": {
      "image/png": "[encoded data removed]",
      "text/plain": [
       "<Figure size 1200x1000 with 1 Axes>"
      ]
     },
     "metadata": {},
     "output_type": "display_data"
    },
    {
     "data": {
      "text/plain": [
       "<ggplot: (8751011333964)>"
      ]
     },
     "execution_count": 16,
     "metadata": {},
     "output_type": "execute_result"
    }
   ],
   "source": [
    "import plotnine\n",
    "plotnine.options.figure_size = (12, 10)\n",
    "from plotnine import ggplot, aes, geom_bar\n",
    "\n",
    "(ggplot(data = poltext_df, mapping = aes(x = 'party', group = 'cluster_tfidfvec', fill = 'cluster_tfidfvec')) \n",
    " + geom_bar(position = 'fill'))"
   ]
  },
  {
   "cell_type": "markdown",
   "id": "bb9c8450-0982-442f-89ac-74ed12bbb0b5",
   "metadata": {},
   "source": [
    "## Klyngeanalyse ud fra egen tokenizer og TfIdf vectorizer"
   ]
  },
  {
   "cell_type": "code",
   "execution_count": 38,
   "id": "123894ec-e0ce-414e-95a9-371a5e1b452a",
   "metadata": {
    "execution": {
     "iopub.execute_input": "2022-10-18T12:58:51.572404Z",
     "iopub.status.busy": "2022-10-18T12:58:51.571546Z",
     "iopub.status.idle": "2022-10-18T12:58:51.589206Z",
     "shell.execute_reply": "2022-10-18T12:58:51.587938Z",
     "shell.execute_reply.started": "2022-10-18T12:58:51.572346Z"
    },
    "tags": []
   },
   "outputs": [],
   "source": [
    "# dan tokenizer\n",
    "\n",
    "def tokenizer(text):\n",
    "    \n",
    "    custom_stops = [\"del\"] # Definerer kontekstspecifikke stopord\n",
    "    default_stopwords = list(nlp.Defaults.stop_words) # Indlæser prædefineret stopordsliste\n",
    "    stop_words = default_stopwords + custom_stops # Danner samlet stopordsliste\n",
    "    \n",
    "    pos_tags = ['PROPN', 'ADJ', 'NOUN'] # Definerer POS-tags som skal bevares\n",
    "\n",
    "    doc = nlp(text)\n",
    "\n",
    "    tokens = []\n",
    "\n",
    "    for word in doc: # Looper igennem hvert ord i tweet\n",
    "        if (len(word.lemma_) < 3): # Ord må ikke være mindre end 3 karakterer - går videre til næste ord, hvis det er\n",
    "            continue\n",
    "        if (word.pos_ in pos_tags) and (word.lemma_ not in stop_words): # Tjek at ordets POS-tag indgår i listen af accepterede tags og at ordet ikke er stopord\n",
    "            tokens.append(word.lemma_) # Tilføj ordets lemma til tokens, hvis if-betingelse er opfyldt\n",
    "                \n",
    "    return(tokens)"
   ]
  },
  {
   "cell_type": "code",
   "execution_count": 39,
   "id": "81bd5a86-7a4f-4d8b-b927-d3db501faa3c",
   "metadata": {
    "execution": {
     "iopub.execute_input": "2022-10-18T12:58:52.351965Z",
     "iopub.status.busy": "2022-10-18T12:58:52.351200Z",
     "iopub.status.idle": "2022-10-18T12:59:03.644081Z",
     "shell.execute_reply": "2022-10-18T12:59:03.642315Z",
     "shell.execute_reply.started": "2022-10-18T12:58:52.351912Z"
    },
    "tags": []
   },
   "outputs": [],
   "source": [
    "# vectorizer\n",
    "\n",
    "from sklearn.feature_extraction.text import TfidfVectorizer\n",
    "\n",
    "vectorizer = TfidfVectorizer(min_df = 0.05, max_df = 0.9, tokenizer = tokenizer) # dan vectorizerfunktion\n",
    "transformed_documents = vectorizer.fit_transform(poltexts) # brug vectorizer på tekster\n",
    "\n",
    "# Konverter fittet vectorizer til array\n",
    "transformed_documents_as_array = transformed_documents.toarray()\n",
    "\n",
    "# Konverter til data frame\n",
    "tfidf_tk_df = pd.DataFrame(transformed_documents_as_array, columns = vectorizer.get_feature_names_out())"
   ]
  },
  {
   "cell_type": "code",
   "execution_count": 40,
   "id": "6b130132-a4c5-4538-b7d3-3ae673c507b0",
   "metadata": {
    "execution": {
     "iopub.execute_input": "2022-10-18T12:59:03.752957Z",
     "iopub.status.busy": "2022-10-18T12:59:03.752742Z",
     "iopub.status.idle": "2022-10-18T12:59:05.605019Z",
     "shell.execute_reply": "2022-10-18T12:59:05.603880Z",
     "shell.execute_reply.started": "2022-10-18T12:59:03.752938Z"
    },
    "tags": []
   },
   "outputs": [
    {
     "data": {
      "text/plain": [
       "array([1, 1, 0, 1, 2, 1, 0, 1, 0, 0, 0, 0, 0, 0, 2, 0, 1, 0, 1, 1, 0, 0,\n",
       "       1, 1, 1, 0, 0, 1, 0, 2, 0, 2, 0, 2, 0, 0, 2, 0, 2, 0, 1, 2, 1, 0,\n",
       "       0, 2, 1, 1, 0, 0, 1, 0, 1, 0, 2, 1, 0, 1, 0, 1, 2, 1, 0, 0, 1, 0,\n",
       "       2, 0, 0, 2, 1, 0, 0, 0, 1, 0, 0, 2, 2, 0, 1, 2, 1, 2, 2, 0, 2, 2,\n",
       "       1, 0, 0, 0, 0, 0, 2, 0, 1, 2, 1, 2, 2, 1, 1, 1, 1, 1, 1, 1, 2, 1,\n",
       "       1, 1, 1, 1, 1, 1, 1, 2, 1, 1, 1, 1, 1, 1, 1, 1, 1, 2, 1, 1, 2, 1,\n",
       "       1, 1, 1, 1, 1, 1, 1, 2, 1, 1, 2, 1, 1, 1, 1, 1, 2, 1, 1, 1, 1, 1,\n",
       "       1, 1, 1, 2, 1, 1, 1, 1, 1, 1, 1, 1, 1, 1, 2, 1, 1, 1, 1, 1, 2, 1,\n",
       "       1, 1, 1, 1, 1, 1, 1, 1, 1, 1, 1, 1, 1, 1, 0, 1, 1, 1, 1, 1, 1, 0,\n",
       "       1, 1, 1, 1, 1, 1, 1, 1, 1, 1, 1, 1, 1, 2, 0, 1, 1, 1, 1, 1, 1, 1,\n",
       "       1, 1, 1, 1, 1], dtype=int32)"
      ]
     },
     "execution_count": 40,
     "metadata": {},
     "output_type": "execute_result"
    }
   ],
   "source": [
    "from sklearn.cluster import KMeans\n",
    "kmeans = KMeans(3, random_state = 142)\n",
    "\n",
    "identified_clusters = kmeans.fit_predict(tfidf_tk_df)\n",
    "identified_clusters"
   ]
  },
  {
   "cell_type": "code",
   "execution_count": 41,
   "id": "d777d4cd-5fa8-4c1f-bae3-fdc2ca69a552",
   "metadata": {
    "execution": {
     "iopub.execute_input": "2022-10-18T12:59:05.607712Z",
     "iopub.status.busy": "2022-10-18T12:59:05.607261Z",
     "iopub.status.idle": "2022-10-18T12:59:05.617805Z",
     "shell.execute_reply": "2022-10-18T12:59:05.617022Z",
     "shell.execute_reply.started": "2022-10-18T12:59:05.607684Z"
    },
    "tags": []
   },
   "outputs": [],
   "source": [
    "poltext_df['cluster_tfidf_tk'] = identified_clusters\n",
    "poltext_df['cluster_tfidf_tk'] = poltext_df['cluster_tfidf_tk'].astype('str') # omdannes til string for at gøre den kategorisk"
   ]
  },
  {
   "cell_type": "code",
   "execution_count": 42,
   "id": "d2ed10e8-2175-489b-9ef9-f47cd94d0b50",
   "metadata": {
    "execution": {
     "iopub.execute_input": "2022-10-18T12:59:05.618804Z",
     "iopub.status.busy": "2022-10-18T12:59:05.618600Z",
     "iopub.status.idle": "2022-10-18T12:59:05.647409Z",
     "shell.execute_reply": "2022-10-18T12:59:05.646526Z",
     "shell.execute_reply.started": "2022-10-18T12:59:05.618786Z"
    },
    "tags": []
   },
   "outputs": [
    {
     "data": {
      "text/plain": [
       "party         cluster_tfidf_tk\n",
       "df            0                   0.04\n",
       "              1                   0.92\n",
       "              2                   0.04\n",
       "konservative  0                   0.02\n",
       "              1                   0.87\n",
       "              2                   0.11\n",
       "sf            0                   0.47\n",
       "              1                   0.30\n",
       "              2                   0.23\n",
       "dtype: float64"
      ]
     },
     "execution_count": 42,
     "metadata": {},
     "output_type": "execute_result"
    }
   ],
   "source": [
    "poltext_df.groupby(['party', 'cluster_tfidf_tk']).size() / poltext_df.groupby(['party']).size()"
   ]
  },
  {
   "cell_type": "code",
   "execution_count": 43,
   "id": "fd44706e-2e4a-482c-a03c-5294a8dad040",
   "metadata": {
    "execution": {
     "iopub.execute_input": "2022-10-18T12:59:05.648819Z",
     "iopub.status.busy": "2022-10-18T12:59:05.648604Z",
     "iopub.status.idle": "2022-10-18T12:59:05.905804Z",
     "shell.execute_reply": "2022-10-18T12:59:05.904970Z",
     "shell.execute_reply.started": "2022-10-18T12:59:05.648800Z"
    },
    "tags": []
   },
   "outputs": [
    {
     "data": {
      "image/png": "[encoded data removed]",
      "text/plain": [
       "<Figure size 1200x1000 with 1 Axes>"
      ]
     },
     "metadata": {},
     "output_type": "display_data"
    },
    {
     "data": {
      "text/plain": [
       "<ggplot: (8751005973078)>"
      ]
     },
     "execution_count": 43,
     "metadata": {},
     "output_type": "execute_result"
    }
   ],
   "source": [
    "import plotnine\n",
    "plotnine.options.figure_size = (12, 10)\n",
    "from plotnine import ggplot, aes, geom_bar\n",
    "\n",
    "(ggplot(data = poltext_df, mapping = aes(x = 'party', group = 'cluster_tfidf_tk', fill = 'cluster_tfidf_tk')) \n",
    " + geom_bar(position = 'fill'))"
   ]
  },
  {
   "cell_type": "markdown",
   "id": "fcf4046a-2748-4fa0-bb14-ff90393ac02b",
   "metadata": {},
   "source": [
    "## PCA på tekst"
   ]
  },
  {
   "cell_type": "code",
   "execution_count": 45,
   "id": "6c4639be-ddef-4299-805b-c961a1405384",
   "metadata": {
    "execution": {
     "iopub.execute_input": "2022-10-18T13:00:08.793491Z",
     "iopub.status.busy": "2022-10-18T13:00:08.792821Z",
     "iopub.status.idle": "2022-10-18T13:00:18.197459Z",
     "shell.execute_reply": "2022-10-18T13:00:18.195795Z",
     "shell.execute_reply.started": "2022-10-18T13:00:08.793438Z"
    },
    "tags": []
   },
   "outputs": [],
   "source": [
    "from sklearn.decomposition import PCA\n",
    "\n",
    "pca = PCA(n_components=2, random_state=142)\n",
    "\n",
    "pca_vecs = pca.fit_transform(tfidf_tk_df)\n",
    "\n",
    "pca1 = pca_vecs[:, 0]\n",
    "pca2 = pca_vecs[:, 1]\n",
    "\n",
    "poltext_df['pca1'] = pca1\n",
    "poltext_df['pca2'] = pca2"
   ]
  },
  {
   "cell_type": "code",
   "execution_count": 46,
   "id": "146c0276-4f9a-4352-9cb1-397e95ccd74d",
   "metadata": {
    "execution": {
     "iopub.execute_input": "2022-10-18T13:00:18.346808Z",
     "iopub.status.busy": "2022-10-18T13:00:18.346614Z",
     "iopub.status.idle": "2022-10-18T13:00:18.630561Z",
     "shell.execute_reply": "2022-10-18T13:00:18.629903Z",
     "shell.execute_reply.started": "2022-10-18T13:00:18.346791Z"
    },
    "tags": []
   },
   "outputs": [
    {
     "data": {
      "image/png": "[encoded data removed]",
      "text/plain": [
       "<Figure size 1200x1000 with 1 Axes>"
      ]
     },
     "metadata": {},
     "output_type": "display_data"
    },
    {
     "data": {
      "text/plain": [
       "<ggplot: (8751006092078)>"
      ]
     },
     "execution_count": 46,
     "metadata": {},
     "output_type": "execute_result"
    }
   ],
   "source": [
    "from plotnine import ggplot, aes, geom_point\n",
    "\n",
    "(ggplot(data = poltext_df, mapping = aes(x = 'pca1', y = 'pca2', shape = 'cluster_tfidf_tk', colour = 'party')) \n",
    " + geom_point())"
   ]
  }
 ],
 "metadata": {
  "kernelspec": {
   "display_name": "Python 3 ",
   "language": "python",
   "name": "python3"
  },
  "language_info": {
   "codemirror_mode": {
    "name": "ipython",
    "version": 3
   },
   "file_extension": ".py",
   "mimetype": "text/x-python",
   "name": "python",
   "nbconvert_exporter": "python",
   "pygments_lexer": "ipython3",
   "version": "3.10.6"
  }
 },
 "nbformat": 4,
 "nbformat_minor": 5
}
