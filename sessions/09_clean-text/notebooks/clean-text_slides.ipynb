{
 "cells": [
  {
   "cell_type": "code",
   "execution_count": 16,
   "id": "c92141ab-b1d4-4ab1-8f85-b01068ce9c6c",
   "metadata": {
    "execution": {
     "iopub.execute_input": "2022-10-20T13:17:31.446669Z",
     "iopub.status.busy": "2022-10-20T13:17:31.445859Z",
     "iopub.status.idle": "2022-10-20T13:17:32.174305Z",
     "shell.execute_reply": "2022-10-20T13:17:32.173450Z",
     "shell.execute_reply.started": "2022-10-20T13:17:31.446614Z"
    },
    "jupyter": {
     "source_hidden": true
    },
    "slideshow": {
     "slide_type": "skip"
    },
    "tags": []
   },
   "outputs": [],
   "source": [
    "# prep\n",
    "import pandas as pd\n",
    "from sklearn.feature_extraction.text import CountVectorizer\n",
    "from sklearn.feature_extraction.text import TfidfVectorizer\n",
    "import spacy\n",
    "\n",
    "nlp = spacy.load('da_core_news_sm')\n",
    "vectorizer = CountVectorizer() # dan vectorizerfunktion\n",
    "\n",
    "texts = ['Vi er utroligt beærede',\n",
    "         'Vi vil gerne dele prisen med alle', \n",
    "         'Det skal vi have gjort op med.']\n",
    "\n",
    "transformed_documents = vectorizer.fit_transform(texts) # brug vectorizer på tekster\n",
    "\n",
    "# Konverter fittet vectorizer til array\n",
    "transformed_documents_as_array = transformed_documents.toarray()\n",
    "\n",
    "texts_processed = []\n",
    "\n",
    "for c, text in enumerate(texts, start = 1):\n",
    "    doc = nlp(text)\n",
    "    \n",
    "    for i, word in enumerate(doc, start = 1):\n",
    "        word_info = {}\n",
    "        word_info['word'] = word.text\n",
    "        word_info['pos'] = word.pos_\n",
    "        word_info['order'] = i\n",
    "        word_info['id'] = c\n",
    "        \n",
    "        texts_processed.append(word_info)\n",
    "        \n",
    "        \n",
    "tokenizer = nlp.tokenizer\n",
    "\n",
    "df = pd.DataFrame({'text': pd.Series(texts)})\n",
    "df['from'] = df['text'].apply(tokenizer)\n",
    "df['to'] = df['text'].apply(tokenizer)\n",
    "df = df.explode('from')\n",
    "df = df.explode('to')\n",
    "df['from'] = df['from'].astype('str')\n",
    "df['to'] = df['to'].astype('str')\n",
    "\n",
    "df = df.loc[df['from'] != df['to'], ['from', 'to']]"
   ]
  },
  {
   "cell_type": "code",
   "execution_count": 17,
   "id": "0122bb9d-100e-4181-9dae-13e27daf5b6d",
   "metadata": {
    "collapsed": true,
    "execution": {
     "iopub.execute_input": "2022-10-20T13:17:32.187939Z",
     "iopub.status.busy": "2022-10-20T13:17:32.187750Z",
     "iopub.status.idle": "2022-10-20T13:17:32.197781Z",
     "shell.execute_reply": "2022-10-20T13:17:32.197213Z",
     "shell.execute_reply.started": "2022-10-20T13:17:32.187921Z"
    },
    "jupyter": {
     "outputs_hidden": true,
     "source_hidden": true
    },
    "slideshow": {
     "slide_type": "skip"
    },
    "tags": []
   },
   "outputs": [
    {
     "data": {
      "text/html": [
       "<div>\n",
       "<style scoped>\n",
       "    .dataframe tbody tr th:only-of-type {\n",
       "        vertical-align: middle;\n",
       "    }\n",
       "\n",
       "    .dataframe tbody tr th {\n",
       "        vertical-align: top;\n",
       "    }\n",
       "\n",
       "    .dataframe thead th {\n",
       "        text-align: right;\n",
       "    }\n",
       "</style>\n",
       "<table border=\"1\" class=\"dataframe\">\n",
       "  <thead>\n",
       "    <tr style=\"text-align: right;\">\n",
       "      <th></th>\n",
       "      <th>alle</th>\n",
       "      <th>beærede</th>\n",
       "      <th>dele</th>\n",
       "      <th>det</th>\n",
       "      <th>er</th>\n",
       "      <th>gerne</th>\n",
       "      <th>gjort</th>\n",
       "      <th>have</th>\n",
       "      <th>med</th>\n",
       "      <th>op</th>\n",
       "      <th>prisen</th>\n",
       "      <th>skal</th>\n",
       "      <th>utroligt</th>\n",
       "      <th>vi</th>\n",
       "      <th>vil</th>\n",
       "    </tr>\n",
       "  </thead>\n",
       "  <tbody>\n",
       "    <tr>\n",
       "      <th>0</th>\n",
       "      <td>0</td>\n",
       "      <td>1</td>\n",
       "      <td>0</td>\n",
       "      <td>0</td>\n",
       "      <td>1</td>\n",
       "      <td>0</td>\n",
       "      <td>0</td>\n",
       "      <td>0</td>\n",
       "      <td>0</td>\n",
       "      <td>0</td>\n",
       "      <td>0</td>\n",
       "      <td>0</td>\n",
       "      <td>1</td>\n",
       "      <td>1</td>\n",
       "      <td>0</td>\n",
       "    </tr>\n",
       "    <tr>\n",
       "      <th>1</th>\n",
       "      <td>1</td>\n",
       "      <td>0</td>\n",
       "      <td>1</td>\n",
       "      <td>0</td>\n",
       "      <td>0</td>\n",
       "      <td>1</td>\n",
       "      <td>0</td>\n",
       "      <td>0</td>\n",
       "      <td>1</td>\n",
       "      <td>0</td>\n",
       "      <td>1</td>\n",
       "      <td>0</td>\n",
       "      <td>0</td>\n",
       "      <td>1</td>\n",
       "      <td>1</td>\n",
       "    </tr>\n",
       "    <tr>\n",
       "      <th>2</th>\n",
       "      <td>0</td>\n",
       "      <td>0</td>\n",
       "      <td>0</td>\n",
       "      <td>1</td>\n",
       "      <td>0</td>\n",
       "      <td>0</td>\n",
       "      <td>1</td>\n",
       "      <td>1</td>\n",
       "      <td>1</td>\n",
       "      <td>1</td>\n",
       "      <td>0</td>\n",
       "      <td>1</td>\n",
       "      <td>0</td>\n",
       "      <td>1</td>\n",
       "      <td>0</td>\n",
       "    </tr>\n",
       "  </tbody>\n",
       "</table>\n",
       "</div>"
      ],
      "text/plain": [
       "   alle  beærede  dele  det  er  gerne  gjort  have  med  op  prisen  skal  \\\n",
       "0     0        1     0    0   1      0      0     0    0   0       0     0   \n",
       "1     1        0     1    0   0      1      0     0    1   0       1     0   \n",
       "2     0        0     0    1   0      0      1     1    1   1       0     1   \n",
       "\n",
       "   utroligt  vi  vil  \n",
       "0         1   1    0  \n",
       "1         0   1    1  \n",
       "2         0   1    0  "
      ]
     },
     "execution_count": 17,
     "metadata": {},
     "output_type": "execute_result"
    }
   ],
   "source": [
    "pd.DataFrame(transformed_documents_as_array, columns = vectorizer.get_feature_names_out())"
   ]
  },
  {
   "cell_type": "code",
   "execution_count": 18,
   "id": "d4f9b00e-84c1-4154-a0ba-e5bfd973b105",
   "metadata": {
    "collapsed": true,
    "execution": {
     "iopub.execute_input": "2022-10-20T13:17:33.908349Z",
     "iopub.status.busy": "2022-10-20T13:17:33.907545Z",
     "iopub.status.idle": "2022-10-20T13:17:33.927702Z",
     "shell.execute_reply": "2022-10-20T13:17:33.925506Z",
     "shell.execute_reply.started": "2022-10-20T13:17:33.908293Z"
    },
    "jupyter": {
     "outputs_hidden": true,
     "source_hidden": true
    },
    "slideshow": {
     "slide_type": "skip"
    },
    "tags": []
   },
   "outputs": [
    {
     "data": {
      "text/html": [
       "<div>\n",
       "<style scoped>\n",
       "    .dataframe tbody tr th:only-of-type {\n",
       "        vertical-align: middle;\n",
       "    }\n",
       "\n",
       "    .dataframe tbody tr th {\n",
       "        vertical-align: top;\n",
       "    }\n",
       "\n",
       "    .dataframe thead th {\n",
       "        text-align: right;\n",
       "    }\n",
       "</style>\n",
       "<table border=\"1\" class=\"dataframe\">\n",
       "  <thead>\n",
       "    <tr style=\"text-align: right;\">\n",
       "      <th></th>\n",
       "      <th>word</th>\n",
       "      <th>pos</th>\n",
       "      <th>order</th>\n",
       "      <th>id</th>\n",
       "    </tr>\n",
       "  </thead>\n",
       "  <tbody>\n",
       "    <tr>\n",
       "      <th>0</th>\n",
       "      <td>Vi</td>\n",
       "      <td>PRON</td>\n",
       "      <td>1</td>\n",
       "      <td>1</td>\n",
       "    </tr>\n",
       "    <tr>\n",
       "      <th>1</th>\n",
       "      <td>er</td>\n",
       "      <td>AUX</td>\n",
       "      <td>2</td>\n",
       "      <td>1</td>\n",
       "    </tr>\n",
       "    <tr>\n",
       "      <th>2</th>\n",
       "      <td>utroligt</td>\n",
       "      <td>ADV</td>\n",
       "      <td>3</td>\n",
       "      <td>1</td>\n",
       "    </tr>\n",
       "    <tr>\n",
       "      <th>3</th>\n",
       "      <td>beærede</td>\n",
       "      <td>VERB</td>\n",
       "      <td>4</td>\n",
       "      <td>1</td>\n",
       "    </tr>\n",
       "    <tr>\n",
       "      <th>4</th>\n",
       "      <td>Vi</td>\n",
       "      <td>PRON</td>\n",
       "      <td>1</td>\n",
       "      <td>2</td>\n",
       "    </tr>\n",
       "    <tr>\n",
       "      <th>5</th>\n",
       "      <td>vil</td>\n",
       "      <td>AUX</td>\n",
       "      <td>2</td>\n",
       "      <td>2</td>\n",
       "    </tr>\n",
       "    <tr>\n",
       "      <th>6</th>\n",
       "      <td>gerne</td>\n",
       "      <td>ADV</td>\n",
       "      <td>3</td>\n",
       "      <td>2</td>\n",
       "    </tr>\n",
       "    <tr>\n",
       "      <th>7</th>\n",
       "      <td>dele</td>\n",
       "      <td>VERB</td>\n",
       "      <td>4</td>\n",
       "      <td>2</td>\n",
       "    </tr>\n",
       "    <tr>\n",
       "      <th>8</th>\n",
       "      <td>prisen</td>\n",
       "      <td>NOUN</td>\n",
       "      <td>5</td>\n",
       "      <td>2</td>\n",
       "    </tr>\n",
       "    <tr>\n",
       "      <th>9</th>\n",
       "      <td>med</td>\n",
       "      <td>ADP</td>\n",
       "      <td>6</td>\n",
       "      <td>2</td>\n",
       "    </tr>\n",
       "  </tbody>\n",
       "</table>\n",
       "</div>"
      ],
      "text/plain": [
       "       word   pos  order  id\n",
       "0        Vi  PRON      1   1\n",
       "1        er   AUX      2   1\n",
       "2  utroligt   ADV      3   1\n",
       "3   beærede  VERB      4   1\n",
       "4        Vi  PRON      1   2\n",
       "5       vil   AUX      2   2\n",
       "6     gerne   ADV      3   2\n",
       "7      dele  VERB      4   2\n",
       "8    prisen  NOUN      5   2\n",
       "9       med   ADP      6   2"
      ]
     },
     "execution_count": 18,
     "metadata": {},
     "output_type": "execute_result"
    }
   ],
   "source": [
    "pd.DataFrame.from_records(texts_processed).head(10)"
   ]
  },
  {
   "cell_type": "code",
   "execution_count": 19,
   "id": "93761cf8-cc9d-48b4-b688-98304e8bfcc4",
   "metadata": {
    "collapsed": true,
    "execution": {
     "iopub.execute_input": "2022-10-20T13:17:34.574169Z",
     "iopub.status.busy": "2022-10-20T13:17:34.573360Z",
     "iopub.status.idle": "2022-10-20T13:17:34.589672Z",
     "shell.execute_reply": "2022-10-20T13:17:34.588794Z",
     "shell.execute_reply.started": "2022-10-20T13:17:34.574114Z"
    },
    "jupyter": {
     "outputs_hidden": true,
     "source_hidden": true
    },
    "slideshow": {
     "slide_type": "skip"
    },
    "tags": []
   },
   "outputs": [
    {
     "data": {
      "text/html": [
       "<div>\n",
       "<style scoped>\n",
       "    .dataframe tbody tr th:only-of-type {\n",
       "        vertical-align: middle;\n",
       "    }\n",
       "\n",
       "    .dataframe tbody tr th {\n",
       "        vertical-align: top;\n",
       "    }\n",
       "\n",
       "    .dataframe thead th {\n",
       "        text-align: right;\n",
       "    }\n",
       "</style>\n",
       "<table border=\"1\" class=\"dataframe\">\n",
       "  <thead>\n",
       "    <tr style=\"text-align: right;\">\n",
       "      <th></th>\n",
       "      <th>from</th>\n",
       "      <th>to</th>\n",
       "    </tr>\n",
       "  </thead>\n",
       "  <tbody>\n",
       "    <tr>\n",
       "      <th>0</th>\n",
       "      <td>Vi</td>\n",
       "      <td>er</td>\n",
       "    </tr>\n",
       "    <tr>\n",
       "      <th>0</th>\n",
       "      <td>Vi</td>\n",
       "      <td>utroligt</td>\n",
       "    </tr>\n",
       "    <tr>\n",
       "      <th>0</th>\n",
       "      <td>Vi</td>\n",
       "      <td>beærede</td>\n",
       "    </tr>\n",
       "    <tr>\n",
       "      <th>0</th>\n",
       "      <td>er</td>\n",
       "      <td>Vi</td>\n",
       "    </tr>\n",
       "    <tr>\n",
       "      <th>0</th>\n",
       "      <td>er</td>\n",
       "      <td>utroligt</td>\n",
       "    </tr>\n",
       "    <tr>\n",
       "      <th>0</th>\n",
       "      <td>er</td>\n",
       "      <td>beærede</td>\n",
       "    </tr>\n",
       "    <tr>\n",
       "      <th>0</th>\n",
       "      <td>utroligt</td>\n",
       "      <td>Vi</td>\n",
       "    </tr>\n",
       "    <tr>\n",
       "      <th>0</th>\n",
       "      <td>utroligt</td>\n",
       "      <td>er</td>\n",
       "    </tr>\n",
       "    <tr>\n",
       "      <th>0</th>\n",
       "      <td>utroligt</td>\n",
       "      <td>beærede</td>\n",
       "    </tr>\n",
       "    <tr>\n",
       "      <th>0</th>\n",
       "      <td>beærede</td>\n",
       "      <td>Vi</td>\n",
       "    </tr>\n",
       "  </tbody>\n",
       "</table>\n",
       "</div>"
      ],
      "text/plain": [
       "       from        to\n",
       "0        Vi        er\n",
       "0        Vi  utroligt\n",
       "0        Vi   beærede\n",
       "0        er        Vi\n",
       "0        er  utroligt\n",
       "0        er   beærede\n",
       "0  utroligt        Vi\n",
       "0  utroligt        er\n",
       "0  utroligt   beærede\n",
       "0   beærede        Vi"
      ]
     },
     "execution_count": 19,
     "metadata": {},
     "output_type": "execute_result"
    }
   ],
   "source": [
    "df.head(10)"
   ]
  },
  {
   "cell_type": "code",
   "execution_count": 59,
   "id": "10352e0a-6510-4472-9276-ffadea6ffe78",
   "metadata": {
    "execution": {
     "iopub.execute_input": "2022-10-20T13:35:12.148853Z",
     "iopub.status.busy": "2022-10-20T13:35:12.148049Z",
     "iopub.status.idle": "2022-10-20T13:35:12.160890Z",
     "shell.execute_reply": "2022-10-20T13:35:12.159900Z",
     "shell.execute_reply.started": "2022-10-20T13:35:12.148798Z"
    },
    "jupyter": {
     "source_hidden": true
    },
    "slideshow": {
     "slide_type": "skip"
    },
    "tags": []
   },
   "outputs": [],
   "source": [
    "#\n",
    "\n",
    "texts2 = ['Do you like green eggs and ham? I do not like them, Sam-I-am. I do not like green eggs and ham!',\n",
    "          'Would you like them here or there? I would not like them here or there. I would not like them anywhere.',\n",
    "          'I do so like green eggs and ham! Thank you! Thank you, Sam-I-am!']\n",
    "\n",
    "tfidfvectorizer = TfidfVectorizer()\n",
    "\n",
    "texts2_count = vectorizer.fit_transform(texts2) # brug vectorizer på tekster\n",
    "\n",
    "# Konverter fittet vectorizer til array\n",
    "texts2_count = texts2_count.toarray()\n",
    "\n",
    "texts2_tfidf = tfidfvectorizer.fit_transform(texts2) # brug vectorizer på tekster\n",
    "\n",
    "# Konverter fittet vectorizer til array\n",
    "texts2_tfidf = texts2_tfidf.toarray()"
   ]
  },
  {
   "cell_type": "code",
   "execution_count": 60,
   "id": "a7bff44f-e9a1-4973-8396-08bc4f155a2a",
   "metadata": {
    "collapsed": true,
    "execution": {
     "iopub.execute_input": "2022-10-20T13:35:12.313943Z",
     "iopub.status.busy": "2022-10-20T13:35:12.313085Z",
     "iopub.status.idle": "2022-10-20T13:35:13.347512Z",
     "shell.execute_reply": "2022-10-20T13:35:13.346719Z",
     "shell.execute_reply.started": "2022-10-20T13:35:12.313887Z"
    },
    "jupyter": {
     "outputs_hidden": true,
     "source_hidden": true
    },
    "slideshow": {
     "slide_type": "skip"
    },
    "tags": []
   },
   "outputs": [
    {
     "data": {
      "text/html": [
       "<div>\n",
       "<style scoped>\n",
       "    .dataframe tbody tr th:only-of-type {\n",
       "        vertical-align: middle;\n",
       "    }\n",
       "\n",
       "    .dataframe tbody tr th {\n",
       "        vertical-align: top;\n",
       "    }\n",
       "\n",
       "    .dataframe thead th {\n",
       "        text-align: right;\n",
       "    }\n",
       "</style>\n",
       "<table border=\"1\" class=\"dataframe\">\n",
       "  <thead>\n",
       "    <tr style=\"text-align: right;\">\n",
       "      <th></th>\n",
       "      <th>am</th>\n",
       "      <th>and</th>\n",
       "      <th>anywhere</th>\n",
       "      <th>do</th>\n",
       "      <th>eggs</th>\n",
       "      <th>green</th>\n",
       "      <th>ham</th>\n",
       "      <th>here</th>\n",
       "      <th>like</th>\n",
       "      <th>not</th>\n",
       "      <th>or</th>\n",
       "      <th>sam</th>\n",
       "      <th>so</th>\n",
       "      <th>thank</th>\n",
       "      <th>them</th>\n",
       "      <th>there</th>\n",
       "      <th>would</th>\n",
       "      <th>you</th>\n",
       "    </tr>\n",
       "  </thead>\n",
       "  <tbody>\n",
       "    <tr>\n",
       "      <th>0</th>\n",
       "      <td>1</td>\n",
       "      <td>2</td>\n",
       "      <td>0</td>\n",
       "      <td>3</td>\n",
       "      <td>2</td>\n",
       "      <td>2</td>\n",
       "      <td>2</td>\n",
       "      <td>0</td>\n",
       "      <td>3</td>\n",
       "      <td>2</td>\n",
       "      <td>0</td>\n",
       "      <td>1</td>\n",
       "      <td>0</td>\n",
       "      <td>0</td>\n",
       "      <td>1</td>\n",
       "      <td>0</td>\n",
       "      <td>0</td>\n",
       "      <td>1</td>\n",
       "    </tr>\n",
       "    <tr>\n",
       "      <th>1</th>\n",
       "      <td>0</td>\n",
       "      <td>0</td>\n",
       "      <td>1</td>\n",
       "      <td>0</td>\n",
       "      <td>0</td>\n",
       "      <td>0</td>\n",
       "      <td>0</td>\n",
       "      <td>2</td>\n",
       "      <td>3</td>\n",
       "      <td>2</td>\n",
       "      <td>2</td>\n",
       "      <td>0</td>\n",
       "      <td>0</td>\n",
       "      <td>0</td>\n",
       "      <td>3</td>\n",
       "      <td>2</td>\n",
       "      <td>3</td>\n",
       "      <td>1</td>\n",
       "    </tr>\n",
       "    <tr>\n",
       "      <th>2</th>\n",
       "      <td>1</td>\n",
       "      <td>1</td>\n",
       "      <td>0</td>\n",
       "      <td>1</td>\n",
       "      <td>1</td>\n",
       "      <td>1</td>\n",
       "      <td>1</td>\n",
       "      <td>0</td>\n",
       "      <td>1</td>\n",
       "      <td>0</td>\n",
       "      <td>0</td>\n",
       "      <td>1</td>\n",
       "      <td>1</td>\n",
       "      <td>2</td>\n",
       "      <td>0</td>\n",
       "      <td>0</td>\n",
       "      <td>0</td>\n",
       "      <td>2</td>\n",
       "    </tr>\n",
       "  </tbody>\n",
       "</table>\n",
       "</div>"
      ],
      "text/plain": [
       "   am  and  anywhere  do  eggs  green  ham  here  like  not  or  sam  so  \\\n",
       "0   1    2         0   3     2      2    2     0     3    2   0    1   0   \n",
       "1   0    0         1   0     0      0    0     2     3    2   2    0   0   \n",
       "2   1    1         0   1     1      1    1     0     1    0   0    1   1   \n",
       "\n",
       "   thank  them  there  would  you  \n",
       "0      0     1      0      0    1  \n",
       "1      0     3      2      3    1  \n",
       "2      2     0      0      0    2  "
      ]
     },
     "execution_count": 60,
     "metadata": {},
     "output_type": "execute_result"
    }
   ],
   "source": [
    "pd.DataFrame(texts2_count, columns = vectorizer.get_feature_names_out())"
   ]
  },
  {
   "cell_type": "code",
   "execution_count": 61,
   "id": "899c7ef4-7252-4e46-a904-6cf7ac944cde",
   "metadata": {
    "collapsed": true,
    "execution": {
     "iopub.execute_input": "2022-10-20T13:35:13.360771Z",
     "iopub.status.busy": "2022-10-20T13:35:13.360590Z",
     "iopub.status.idle": "2022-10-20T13:35:13.371227Z",
     "shell.execute_reply": "2022-10-20T13:35:13.370641Z",
     "shell.execute_reply.started": "2022-10-20T13:35:13.360754Z"
    },
    "jupyter": {
     "outputs_hidden": true,
     "source_hidden": true
    },
    "slideshow": {
     "slide_type": "skip"
    },
    "tags": []
   },
   "outputs": [
    {
     "data": {
      "text/html": [
       "<div>\n",
       "<style scoped>\n",
       "    .dataframe tbody tr th:only-of-type {\n",
       "        vertical-align: middle;\n",
       "    }\n",
       "\n",
       "    .dataframe tbody tr th {\n",
       "        vertical-align: top;\n",
       "    }\n",
       "\n",
       "    .dataframe thead th {\n",
       "        text-align: right;\n",
       "    }\n",
       "</style>\n",
       "<table border=\"1\" class=\"dataframe\">\n",
       "  <thead>\n",
       "    <tr style=\"text-align: right;\">\n",
       "      <th></th>\n",
       "      <th>am</th>\n",
       "      <th>and</th>\n",
       "      <th>anywhere</th>\n",
       "      <th>do</th>\n",
       "      <th>eggs</th>\n",
       "      <th>green</th>\n",
       "      <th>ham</th>\n",
       "      <th>here</th>\n",
       "      <th>like</th>\n",
       "      <th>not</th>\n",
       "      <th>or</th>\n",
       "      <th>sam</th>\n",
       "      <th>so</th>\n",
       "      <th>thank</th>\n",
       "      <th>them</th>\n",
       "      <th>there</th>\n",
       "      <th>would</th>\n",
       "      <th>you</th>\n",
       "    </tr>\n",
       "  </thead>\n",
       "  <tbody>\n",
       "    <tr>\n",
       "      <th>0</th>\n",
       "      <td>1</td>\n",
       "      <td>1</td>\n",
       "      <td>0</td>\n",
       "      <td>1</td>\n",
       "      <td>1</td>\n",
       "      <td>1</td>\n",
       "      <td>1</td>\n",
       "      <td>0</td>\n",
       "      <td>1</td>\n",
       "      <td>1</td>\n",
       "      <td>0</td>\n",
       "      <td>1</td>\n",
       "      <td>0</td>\n",
       "      <td>0</td>\n",
       "      <td>1</td>\n",
       "      <td>0</td>\n",
       "      <td>0</td>\n",
       "      <td>1</td>\n",
       "    </tr>\n",
       "    <tr>\n",
       "      <th>1</th>\n",
       "      <td>0</td>\n",
       "      <td>0</td>\n",
       "      <td>1</td>\n",
       "      <td>0</td>\n",
       "      <td>0</td>\n",
       "      <td>0</td>\n",
       "      <td>0</td>\n",
       "      <td>1</td>\n",
       "      <td>1</td>\n",
       "      <td>1</td>\n",
       "      <td>1</td>\n",
       "      <td>0</td>\n",
       "      <td>0</td>\n",
       "      <td>0</td>\n",
       "      <td>1</td>\n",
       "      <td>1</td>\n",
       "      <td>1</td>\n",
       "      <td>1</td>\n",
       "    </tr>\n",
       "    <tr>\n",
       "      <th>2</th>\n",
       "      <td>1</td>\n",
       "      <td>1</td>\n",
       "      <td>0</td>\n",
       "      <td>1</td>\n",
       "      <td>1</td>\n",
       "      <td>1</td>\n",
       "      <td>1</td>\n",
       "      <td>0</td>\n",
       "      <td>1</td>\n",
       "      <td>0</td>\n",
       "      <td>0</td>\n",
       "      <td>1</td>\n",
       "      <td>1</td>\n",
       "      <td>1</td>\n",
       "      <td>0</td>\n",
       "      <td>0</td>\n",
       "      <td>0</td>\n",
       "      <td>1</td>\n",
       "    </tr>\n",
       "  </tbody>\n",
       "</table>\n",
       "</div>"
      ],
      "text/plain": [
       "   am  and  anywhere  do  eggs  green  ham  here  like  not  or  sam  so  \\\n",
       "0   1    1         0   1     1      1    1     0     1    1   0    1   0   \n",
       "1   0    0         1   0     0      0    0     1     1    1   1    0   0   \n",
       "2   1    1         0   1     1      1    1     0     1    0   0    1   1   \n",
       "\n",
       "   thank  them  there  would  you  \n",
       "0      0     1      0      0    1  \n",
       "1      0     1      1      1    1  \n",
       "2      1     0      0      0    1  "
      ]
     },
     "execution_count": 61,
     "metadata": {},
     "output_type": "execute_result"
    }
   ],
   "source": [
    "pd.DataFrame(texts2_count, columns = vectorizer.get_feature_names_out())[pd.DataFrame(texts2_count, columns = vectorizer.get_feature_names_out()) > 0] = 1\n",
    "pd.DataFrame(texts2_count, columns = vectorizer.get_feature_names_out())"
   ]
  },
  {
   "cell_type": "code",
   "execution_count": 62,
   "id": "288a4e8f-f40c-4dae-9565-ff561b3ed22c",
   "metadata": {
    "collapsed": true,
    "execution": {
     "iopub.execute_input": "2022-10-20T13:35:13.377716Z",
     "iopub.status.busy": "2022-10-20T13:35:13.377391Z",
     "iopub.status.idle": "2022-10-20T13:35:13.462872Z",
     "shell.execute_reply": "2022-10-20T13:35:13.462240Z",
     "shell.execute_reply.started": "2022-10-20T13:35:13.377700Z"
    },
    "jupyter": {
     "outputs_hidden": true,
     "source_hidden": true
    },
    "slideshow": {
     "slide_type": "skip"
    },
    "tags": []
   },
   "outputs": [
    {
     "data": {
      "text/html": [
       "<div>\n",
       "<style scoped>\n",
       "    .dataframe tbody tr th:only-of-type {\n",
       "        vertical-align: middle;\n",
       "    }\n",
       "\n",
       "    .dataframe tbody tr th {\n",
       "        vertical-align: top;\n",
       "    }\n",
       "\n",
       "    .dataframe thead th {\n",
       "        text-align: right;\n",
       "    }\n",
       "</style>\n",
       "<table border=\"1\" class=\"dataframe\">\n",
       "  <thead>\n",
       "    <tr style=\"text-align: right;\">\n",
       "      <th></th>\n",
       "      <th>am</th>\n",
       "      <th>and</th>\n",
       "      <th>anywhere</th>\n",
       "      <th>do</th>\n",
       "      <th>eggs</th>\n",
       "      <th>green</th>\n",
       "      <th>ham</th>\n",
       "      <th>here</th>\n",
       "      <th>like</th>\n",
       "      <th>not</th>\n",
       "      <th>or</th>\n",
       "      <th>sam</th>\n",
       "      <th>so</th>\n",
       "      <th>thank</th>\n",
       "      <th>them</th>\n",
       "      <th>there</th>\n",
       "      <th>would</th>\n",
       "      <th>you</th>\n",
       "    </tr>\n",
       "  </thead>\n",
       "  <tbody>\n",
       "    <tr>\n",
       "      <th>0</th>\n",
       "      <td>0.162155</td>\n",
       "      <td>0.324311</td>\n",
       "      <td>0.000000</td>\n",
       "      <td>0.486466</td>\n",
       "      <td>0.324311</td>\n",
       "      <td>0.324311</td>\n",
       "      <td>0.324311</td>\n",
       "      <td>0.000000</td>\n",
       "      <td>0.377785</td>\n",
       "      <td>0.324311</td>\n",
       "      <td>0.000000</td>\n",
       "      <td>0.162155</td>\n",
       "      <td>0.00000</td>\n",
       "      <td>0.00000</td>\n",
       "      <td>0.162155</td>\n",
       "      <td>0.000000</td>\n",
       "      <td>0.000000</td>\n",
       "      <td>0.125928</td>\n",
       "    </tr>\n",
       "    <tr>\n",
       "      <th>1</th>\n",
       "      <td>0.000000</td>\n",
       "      <td>0.000000</td>\n",
       "      <td>0.174058</td>\n",
       "      <td>0.000000</td>\n",
       "      <td>0.000000</td>\n",
       "      <td>0.000000</td>\n",
       "      <td>0.000000</td>\n",
       "      <td>0.348116</td>\n",
       "      <td>0.308404</td>\n",
       "      <td>0.264751</td>\n",
       "      <td>0.348116</td>\n",
       "      <td>0.000000</td>\n",
       "      <td>0.00000</td>\n",
       "      <td>0.00000</td>\n",
       "      <td>0.397127</td>\n",
       "      <td>0.348116</td>\n",
       "      <td>0.522174</td>\n",
       "      <td>0.102801</td>\n",
       "    </tr>\n",
       "    <tr>\n",
       "      <th>2</th>\n",
       "      <td>0.231496</td>\n",
       "      <td>0.231496</td>\n",
       "      <td>0.000000</td>\n",
       "      <td>0.231496</td>\n",
       "      <td>0.231496</td>\n",
       "      <td>0.231496</td>\n",
       "      <td>0.231496</td>\n",
       "      <td>0.000000</td>\n",
       "      <td>0.179778</td>\n",
       "      <td>0.000000</td>\n",
       "      <td>0.000000</td>\n",
       "      <td>0.231496</td>\n",
       "      <td>0.30439</td>\n",
       "      <td>0.60878</td>\n",
       "      <td>0.000000</td>\n",
       "      <td>0.000000</td>\n",
       "      <td>0.000000</td>\n",
       "      <td>0.359555</td>\n",
       "    </tr>\n",
       "  </tbody>\n",
       "</table>\n",
       "</div>"
      ],
      "text/plain": [
       "         am       and  anywhere        do      eggs     green       ham  \\\n",
       "0  0.162155  0.324311  0.000000  0.486466  0.324311  0.324311  0.324311   \n",
       "1  0.000000  0.000000  0.174058  0.000000  0.000000  0.000000  0.000000   \n",
       "2  0.231496  0.231496  0.000000  0.231496  0.231496  0.231496  0.231496   \n",
       "\n",
       "       here      like       not        or       sam       so    thank  \\\n",
       "0  0.000000  0.377785  0.324311  0.000000  0.162155  0.00000  0.00000   \n",
       "1  0.348116  0.308404  0.264751  0.348116  0.000000  0.00000  0.00000   \n",
       "2  0.000000  0.179778  0.000000  0.000000  0.231496  0.30439  0.60878   \n",
       "\n",
       "       them     there     would       you  \n",
       "0  0.162155  0.000000  0.000000  0.125928  \n",
       "1  0.397127  0.348116  0.522174  0.102801  \n",
       "2  0.000000  0.000000  0.000000  0.359555  "
      ]
     },
     "execution_count": 62,
     "metadata": {},
     "output_type": "execute_result"
    }
   ],
   "source": [
    "pd.DataFrame(texts2_tfidf, columns = vectorizer.get_feature_names_out())"
   ]
  },
  {
   "cell_type": "markdown",
   "id": "bf6b2501-8a88-4f7d-a708-9ffca5a4dc4b",
   "metadata": {
    "slideshow": {
     "slide_type": "slide"
    },
    "tags": []
   },
   "source": [
    "# Messy data i praksis – Oprydning i tekst"
   ]
  },
  {
   "cell_type": "markdown",
   "id": "d1ca2b89-75d9-4d65-9eb2-780898c4e118",
   "metadata": {
    "slideshow": {
     "slide_type": "slide"
    },
    "tags": []
   },
   "source": [
    "## Program\n",
    "\n",
    "- Bearbejdning af tekst - eksempel med klyngeanalyse\n",
    "- Udfordringer med tekst som data\n",
    "- Tekst og datastruktur\n",
    "- Tekst bearbejdning (pre-processing) (med NLP)\n",
    "- Introduktion til sprogmodeller i spaCy\n",
    "- Ordtællinger med text vectorizers og bag-of-words datastrukturer"
   ]
  },
  {
   "cell_type": "markdown",
   "id": "eb8ba363-b033-40b4-9d07-41378cab3ed7",
   "metadata": {
    "slideshow": {
     "slide_type": "slide"
    },
    "tags": []
   },
   "source": [
    "## Eksempel med tekst pre-processing og klyngeanalyse (live-coding)"
   ]
  },
  {
   "cell_type": "markdown",
   "id": "91030b86-1ba1-4288-8e07-aa0f6d4ddce5",
   "metadata": {
    "slideshow": {
     "slide_type": "slide"
    },
    "tags": []
   },
   "source": [
    "## Tekst som data - Udfordringer\n",
    "\n",
    "**Det skrevne sprog er ikke entydigt**\n",
    "\n",
    "> Jeg elsker politik\n",
    "\n",
    "> Jeg elsker ikke politik\n",
    "\n",
    "> Jeg elsker politik, når folk råber i munden på hinanden\n",
    "\n",
    "> Jeg elsker politik, når folk råber i munden på hinanden. Først da kan jeg mærke, hvor passionerede politikerne er."
   ]
  },
  {
   "cell_type": "markdown",
   "id": "be3d1ed4-be51-49bd-b348-327a36cc8cfb",
   "metadata": {
    "slideshow": {
     "slide_type": "slide"
    },
    "tags": []
   },
   "source": [
    "## Tekst som data - Udfordringer\n",
    "\n",
    "**Det skrevne sprog er ikke entydigt**\n",
    "\n",
    "> Tim valgte kort før Allan.\n",
    "\n",
    "- Valgte Tim kort i et spil, før Allan valgte kort?\n",
    "- Valgte Tim et eller andet lige inden, at Allan valgte noget?\n",
    "- Valgte Tim kort inden han valgte Allan?"
   ]
  },
  {
   "cell_type": "markdown",
   "id": "da63c92e-bb35-45d5-8f5d-0407b92343fc",
   "metadata": {
    "slideshow": {
     "slide_type": "slide"
    },
    "tags": []
   },
   "source": [
    "## Tekst som data - Udfordringer\n",
    "\n",
    "**Tekstdata har altid *høj dimensionalitet* (mange variable)**\n",
    "\n",
    "- Høj dimensionalitet gør det vanskeligere at opsummere data simpelt\n",
    "\n",
    "- Ikke blot ordene i teksten, men også sætningskonstruktion (syntaks) og ordenes betydning (semantik) er nødvendige for at kunne opsummere teksten fyldestgørende\n",
    "\n",
    "- Derudover kan der være faktorer, som går ud over teksten i sig selv, der kan være relevante for, hvordan den skal forstås (historisk kontekst, forfatter, medie osv.)"
   ]
  },
  {
   "cell_type": "markdown",
   "id": "cd3d68b7-72eb-43e6-a9b4-52613c1a87d4",
   "metadata": {
    "slideshow": {
     "slide_type": "slide"
    },
    "tags": []
   },
   "source": [
    "## Tekst som data - Udfordringer\n",
    "\n",
    "**Tekstdata er vanskelige at standardisere**\n",
    "\n",
    "- Gradbøjning - vælge, vælger, valgte\n",
    "- Ens stavemåder - en vælger (navneord), han vælger (verbum)\n",
    "- Alternative stavemåder - ressource, resurse\n",
    "- Synonymer - stille, sagte\n",
    "- Forskellig semantisk \"vægt\" - hvor relevant er ordet for teksten?"
   ]
  },
  {
   "cell_type": "markdown",
   "id": "e8275421-a7a0-41de-8e0b-a35f008a31d4",
   "metadata": {
    "slideshow": {
     "slide_type": "slide"
    },
    "tags": []
   },
   "source": [
    "## Tekst som data - Udfordringer\n",
    "\n",
    "**Tekstdata har ikke en given datastruktur**\n",
    "\n",
    "- Opgjort på ord, sætninger, afsnit?\n",
    "- Tællinger? Vægtning?\n",
    "- Sammenlignes tekster, ord, ordforbindelser, kontekst?"
   ]
  },
  {
   "cell_type": "markdown",
   "id": "a67999ae-2808-46a3-8588-50c4cea9322c",
   "metadata": {
    "slideshow": {
     "slide_type": "slide"
    },
    "tags": []
   },
   "source": [
    "## Tekster og datastrukturer\n",
    "\n",
    "> 'Vi er utroligt beærede'\n",
    "\n",
    "> 'Vi vil gerne dele prisen med alle'\n",
    "\n",
    "> 'Det skal vi have gjort op med.'"
   ]
  },
  {
   "cell_type": "markdown",
   "id": "39b4a22c-028e-4591-8716-22d0ec7ddbe0",
   "metadata": {
    "slideshow": {
     "slide_type": "slide"
    },
    "tags": []
   },
   "source": [
    "## Tekster som matrix (document-term matrix)\n",
    "\n",
    "- En række per tekst, en kolonne per ord, en celle per tælling\n",
    "- (hvis kolonner som ord og rækker som tekst: term-document matrix)\n",
    "\n",
    "<table border=\"1\" class=\"dataframe\">\n",
    "  <thead>\n",
    "    <tr style=\"text-align: right;\">\n",
    "      <th></th>\n",
    "      <th>alle</th>\n",
    "      <th>beærede</th>\n",
    "      <th>dele</th>\n",
    "      <th>det</th>\n",
    "      <th>er</th>\n",
    "      <th>gerne</th>\n",
    "      <th>gjort</th>\n",
    "      <th>have</th>\n",
    "      <th>med</th>\n",
    "      <th>op</th>\n",
    "      <th>prisen</th>\n",
    "      <th>skal</th>\n",
    "      <th>utroligt</th>\n",
    "      <th>vi</th>\n",
    "      <th>vil</th>\n",
    "    </tr>\n",
    "  </thead>\n",
    "  <tbody>\n",
    "    <tr>\n",
    "      <th>0</th>\n",
    "      <td>0</td>\n",
    "      <td>1</td>\n",
    "      <td>0</td>\n",
    "      <td>0</td>\n",
    "      <td>1</td>\n",
    "      <td>0</td>\n",
    "      <td>0</td>\n",
    "      <td>0</td>\n",
    "      <td>0</td>\n",
    "      <td>0</td>\n",
    "      <td>0</td>\n",
    "      <td>0</td>\n",
    "      <td>1</td>\n",
    "      <td>1</td>\n",
    "      <td>0</td>\n",
    "    </tr>\n",
    "    <tr>\n",
    "      <th>1</th>\n",
    "      <td>1</td>\n",
    "      <td>0</td>\n",
    "      <td>1</td>\n",
    "      <td>0</td>\n",
    "      <td>0</td>\n",
    "      <td>1</td>\n",
    "      <td>0</td>\n",
    "      <td>0</td>\n",
    "      <td>1</td>\n",
    "      <td>0</td>\n",
    "      <td>1</td>\n",
    "      <td>0</td>\n",
    "      <td>0</td>\n",
    "      <td>1</td>\n",
    "      <td>1</td>\n",
    "    </tr>\n",
    "    <tr>\n",
    "      <th>2</th>\n",
    "      <td>0</td>\n",
    "      <td>0</td>\n",
    "      <td>0</td>\n",
    "      <td>1</td>\n",
    "      <td>0</td>\n",
    "      <td>0</td>\n",
    "      <td>1</td>\n",
    "      <td>1</td>\n",
    "      <td>1</td>\n",
    "      <td>1</td>\n",
    "      <td>0</td>\n",
    "      <td>1</td>\n",
    "      <td>0</td>\n",
    "      <td>1</td>\n",
    "      <td>0</td>\n",
    "    </tr>\n",
    "  </tbody>\n",
    "</table>"
   ]
  },
  {
   "cell_type": "markdown",
   "id": "c3a1f07e-74bc-4cec-9999-76d1e67bd1b4",
   "metadata": {
    "slideshow": {
     "slide_type": "slide"
    },
    "tags": []
   },
   "source": [
    "## Tekster som ordtabel\n",
    "\n",
    "<table border=\"1\" class=\"dataframe\">\n",
    "  <thead>\n",
    "    <tr style=\"text-align: right;\">\n",
    "      <th></th>\n",
    "      <th>word</th>\n",
    "      <th>pos</th>\n",
    "      <th>order</th>\n",
    "      <th>id</th>\n",
    "    </tr>\n",
    "  </thead>\n",
    "  <tbody>\n",
    "    <tr>\n",
    "      <th>0</th>\n",
    "      <td>Vi</td>\n",
    "      <td>PRON</td>\n",
    "      <td>1</td>\n",
    "      <td>1</td>\n",
    "    </tr>\n",
    "    <tr>\n",
    "      <th>1</th>\n",
    "      <td>er</td>\n",
    "      <td>AUX</td>\n",
    "      <td>2</td>\n",
    "      <td>1</td>\n",
    "    </tr>\n",
    "    <tr>\n",
    "      <th>2</th>\n",
    "      <td>utroligt</td>\n",
    "      <td>ADV</td>\n",
    "      <td>3</td>\n",
    "      <td>1</td>\n",
    "    </tr>\n",
    "    <tr>\n",
    "      <th>3</th>\n",
    "      <td>beærede</td>\n",
    "      <td>VERB</td>\n",
    "      <td>4</td>\n",
    "      <td>1</td>\n",
    "    </tr>\n",
    "    <tr>\n",
    "      <th>4</th>\n",
    "      <td>Vi</td>\n",
    "      <td>PRON</td>\n",
    "      <td>1</td>\n",
    "      <td>2</td>\n",
    "    </tr>\n",
    "    <tr>\n",
    "      <th>5</th>\n",
    "      <td>vil</td>\n",
    "      <td>AUX</td>\n",
    "      <td>2</td>\n",
    "      <td>2</td>\n",
    "    </tr>\n",
    "    <tr>\n",
    "      <th>6</th>\n",
    "      <td>gerne</td>\n",
    "      <td>ADV</td>\n",
    "      <td>3</td>\n",
    "      <td>2</td>\n",
    "    </tr>\n",
    "    <tr>\n",
    "      <th>7</th>\n",
    "      <td>dele</td>\n",
    "      <td>VERB</td>\n",
    "      <td>4</td>\n",
    "      <td>2</td>\n",
    "    </tr>\n",
    "    <tr>\n",
    "      <th>8</th>\n",
    "      <td>prisen</td>\n",
    "      <td>NOUN</td>\n",
    "      <td>5</td>\n",
    "      <td>2</td>\n",
    "    </tr>\n",
    "    <tr>\n",
    "      <th>9</th>\n",
    "      <td>med</td>\n",
    "      <td>ADP</td>\n",
    "      <td>6</td>\n",
    "      <td>2</td>\n",
    "    </tr>\n",
    "  </tbody>\n",
    "</table>"
   ]
  },
  {
   "cell_type": "markdown",
   "id": "7e18e31f-cc99-4c96-a769-e826864f8777",
   "metadata": {
    "slideshow": {
     "slide_type": "slide"
    },
    "tags": []
   },
   "source": [
    "## Tekster som graf/netværk\n",
    "\n",
    "- Hver række udgør en ordforbindelse; kolonne for hver \"ende\" af forbindelsen\n",
    "\n",
    "<table border=\"1\" class=\"dataframe\">\n",
    "  <thead>\n",
    "    <tr style=\"text-align: right;\">\n",
    "      <th></th>\n",
    "      <th>from</th>\n",
    "      <th>to</th>\n",
    "    </tr>\n",
    "  </thead>\n",
    "  <tbody>\n",
    "    <tr>\n",
    "      <th>0</th>\n",
    "      <td>Vi</td>\n",
    "      <td>er</td>\n",
    "    </tr>\n",
    "    <tr>\n",
    "      <th>0</th>\n",
    "      <td>Vi</td>\n",
    "      <td>utroligt</td>\n",
    "    </tr>\n",
    "    <tr>\n",
    "      <th>0</th>\n",
    "      <td>Vi</td>\n",
    "      <td>beærede</td>\n",
    "    </tr>\n",
    "    <tr>\n",
    "      <th>0</th>\n",
    "      <td>er</td>\n",
    "      <td>Vi</td>\n",
    "    </tr>\n",
    "    <tr>\n",
    "      <th>0</th>\n",
    "      <td>er</td>\n",
    "      <td>utroligt</td>\n",
    "    </tr>\n",
    "    <tr>\n",
    "      <th>0</th>\n",
    "      <td>er</td>\n",
    "      <td>beærede</td>\n",
    "    </tr>\n",
    "    <tr>\n",
    "      <th>0</th>\n",
    "      <td>utroligt</td>\n",
    "      <td>Vi</td>\n",
    "    </tr>\n",
    "    <tr>\n",
    "      <th>0</th>\n",
    "      <td>utroligt</td>\n",
    "      <td>er</td>\n",
    "    </tr>\n",
    "    <tr>\n",
    "      <th>0</th>\n",
    "      <td>utroligt</td>\n",
    "      <td>beærede</td>\n",
    "    </tr>\n",
    "    <tr>\n",
    "      <th>0</th>\n",
    "      <td>beærede</td>\n",
    "      <td>Vi</td>\n",
    "    </tr>\n",
    "  </tbody>\n",
    "</table>"
   ]
  },
  {
   "cell_type": "markdown",
   "id": "7ec2d459-d3cc-460f-bc3a-c8ffb6cf103a",
   "metadata": {
    "slideshow": {
     "slide_type": "slide"
    },
    "tags": []
   },
   "source": [
    "## Tekst som data - overvejelser\n",
    "\n",
    "1. Hvordan skal tekst *bearbejdes*? (standardisering, sortering, udvælgelse)\n",
    "2. Hvordan skal tekst *repræsenteres*? (datastruktur)\n",
    "3. Hvordan skal tekst *analyseres*? (anvendte teknikker, metoder, modeller)\n",
    "\n",
    "2 og 3 hænger ofte sammen (repræsentation afhænger af analysen, som skal foretages)."
   ]
  },
  {
   "cell_type": "markdown",
   "id": "bafea897-cfda-4758-9d34-d471f3ca2f0a",
   "metadata": {
    "slideshow": {
     "slide_type": "slide"
    },
    "tags": []
   },
   "source": [
    "## NLP: Natural Language Processing\n",
    "\n",
    "- Behandling og bearbejdning af \"naturligt sprog\" ved hjælp af computerteknologi\n",
    "- Teknikker der involverer statistiske metoder til at forstå tekst - med eller uden lingvistiske indsigter\n",
    "- Et sæt af værktøjer der tillader, at computere kan bearbejde og udlede information fra lingvistisk data (tekst eller tale)\n",
    "- Krydsfelt mellem datalogi og lingvistik\n",
    "- Involverer i stigende grad brug af maskinlæringsteknologi\n",
    "\n",
    "*Eksempler fra hverdagen*: Tale-til-tekst applikationer, tekstforslag i beskeder, autokorrektur, oversættelsestjenester (Google Translate)"
   ]
  },
  {
   "cell_type": "markdown",
   "id": "61916969-62e1-48b6-86b5-8d92a84c3876",
   "metadata": {
    "slideshow": {
     "slide_type": "slide"
    },
    "tags": []
   },
   "source": [
    "## Fra tekst til analyseenheder\n",
    "\n",
    "#### Politiet har givet borgerne råd til, \n",
    "#### hvordan man kan forsøge at jage prærieulvene på flugt \n",
    "#### med larm, vandpistoler og peberspray."
   ]
  },
  {
   "cell_type": "markdown",
   "id": "69a22dc0-ce98-41e6-9e36-f360781acc58",
   "metadata": {
    "slideshow": {
     "slide_type": "slide"
    },
    "tags": []
   },
   "source": [
    "## Tokenization\n",
    "\n",
    "Opdeling af tekst til enkelte \"tokens\" (ordenheder)\n",
    "\n",
    "`'Politiet har givet borgerne råd'` -> `['Politiet', 'har', 'givet', 'borgerne', 'råd']`\n",
    "\n",
    "- Evt. frasortering af tegnsætning\n",
    "- Evt. konvertering til små bogstaver (lower-casing)\n",
    "\n",
    "**Udfordringer**:\n",
    "- Egenavne i flere ord: Høje Taastrup\n",
    "- Sammensatte ord med bindestreger"
   ]
  },
  {
   "cell_type": "markdown",
   "id": "4a0b1670-4377-4f7a-83ae-9d8677ee06fd",
   "metadata": {
    "slideshow": {
     "slide_type": "slide"
    },
    "tags": []
   },
   "source": [
    "## N-gram tokenization\n",
    "\n",
    "Typisk referer tokenization til at opdele tekster i enkeltord.\n",
    "\n",
    "Afhængig af formål, kan det være relevant at se på tokens som \"ordpar\" (bigrams) eller \"ordsamlinger\" (n-grams).\n",
    "\n",
    "*Bigram eksempel:*\n",
    "\n",
    "`'Politiet har givet borgerne råd'` -> `[('Politiet', 'har'), ('har', 'givet'), ('givet', 'borgerne'), ('borgerne', 'råd')]`"
   ]
  },
  {
   "cell_type": "markdown",
   "id": "8cd89183-b6f1-42ad-8c0b-71c18935bcbb",
   "metadata": {
    "slideshow": {
     "slide_type": "slide"
    },
    "tags": []
   },
   "source": [
    "## Stemming - Ord til stammer\n",
    "\n",
    "Typisk vil man ikke behandle ord med forskellig gradbøjning som forskellige ord\n",
    "\n",
    "Simpleste måde at ensrette: omdanne til ordstammen\n",
    "\n",
    "- køre  -> kør\n",
    "- kører -> kør\n",
    "- køren -> kør\n",
    "- kørte -> kørt\n",
    "\n",
    "Flere algoritmer til at lave stemming - *dog ikke altid enige!*\n",
    "- Snowball algoritme (sprogfølsom):     køren -> kør\n",
    "- Porter algoritme (ikke sprogfølsom):  køren -> køren"
   ]
  },
  {
   "cell_type": "markdown",
   "id": "ad3297f6-41a4-4a53-a892-f96445a110b4",
   "metadata": {
    "slideshow": {
     "slide_type": "slide"
    },
    "tags": []
   },
   "source": [
    "## Lemmatization\n",
    "\n",
    "Konverterer ordet til grammtiske stamme (alternativt til stemming)\n",
    "\n",
    "- køre  -> køre\n",
    "- kører -> køre\n",
    "- køren -> køren\n",
    "- kørte -> køre\n",
    "\n",
    "Lemmatizere er af nødvendighed sprogafhængige\n",
    "\n",
    "Findes typisk som \"dictionary-modeller\" (nogen har lavet opgørelser af, hvilke ord har samme grammatiske stamme)"
   ]
  },
  {
   "cell_type": "markdown",
   "id": "691d68c5-22a6-4b01-b486-aa718205260a",
   "metadata": {
    "slideshow": {
     "slide_type": "slide"
    },
    "tags": []
   },
   "source": [
    "## Stopord\n",
    "\n",
    "Mange ord indgår i tekst uanset hvad teksten handler om (bindeord, stedord, forholdsord o.l.)\n",
    "\n",
    "Refereres til som \"stopord\" - frasorteres da de typisk ikke giver indblik i, hvad tekster handler om\n",
    "\n",
    "Stopord kan både være generelle (bindeord, stedord, forholdsord) eller kontekstspecifikke (fx 'ordfører' i referater fra Folketinget)."
   ]
  },
  {
   "cell_type": "markdown",
   "id": "e7786514-c12c-4c5b-accc-08b2a6e321f3",
   "metadata": {
    "slideshow": {
     "slide_type": "slide"
    },
    "tags": []
   },
   "source": [
    "## Part-of-Speech tagging\n",
    "\n",
    "Opdeler ord i ordklasser: navneord, udsagnsord, tillægsord osv.\n",
    "\n",
    "Brugbart til at udlede meningsfulde ord i tekst (tillægsord siger typisk mere om teksten end forholdsord).\n",
    "\n",
    "Er nødt til at være sprogafhængige *og* kontekstafhængige (fleste er baseret på maskinlæring i dag).\n",
    "\n",
    "`'Politiet har givet borgerne råd'` -> `'Politiet_NOUN har_AUX givet_VERB borgerne_NOUN råd_NOUN'`"
   ]
  },
  {
   "cell_type": "markdown",
   "id": "e21806d4-b208-4813-9797-0fcf177412f0",
   "metadata": {
    "slideshow": {
     "slide_type": "slide"
    },
    "tags": []
   },
   "source": [
    "## Sætningskonstruktion (dependency parsing)\n",
    "\n",
    "Udleder sætningskonstruktion: grundled, udsagnsled, genstandsled.\n",
    "\n",
    "Hjælper til at reducere tvetydighed i tekst - \"hvem gjorde hvad til hvem?\"\n",
    "\n",
    "Brugbart til at udlede meningsfulde dele af teksten (fx fokusere på visse ord, der indgår som genstandsled i sætninger).\n",
    "\n",
    "Er nødt til at være sprogafhængige *og* kontekstafhængige (fleste er baseret på maskinlæring i dag).\n",
    "\n",
    "`'Politiet har givet borgerne råd'` -> `'Politiet_nsubj har_aux givet_ROOT borgerne_obj råd_obj'`"
   ]
  },
  {
   "cell_type": "markdown",
   "id": "b3bc3dd6-9bbc-4b3a-8e05-4b0f18918902",
   "metadata": {
    "slideshow": {
     "slide_type": "slide"
    },
    "tags": []
   },
   "source": [
    "## Introduktion til sprogmodeller\n",
    "\n",
    "En sprogmodel (\"language model\") er kort sagt en model til at forudsige ord. Der er tale om modeller, der er trænet til at forstå forskellige sprog, og kan derfor både bruges til at producere tekst på et bestemt sprog eller analysere opbygningen af en tekst.\n",
    "\n",
    "Lidt forsimplet er en sprogmodel en model, som er trænet til at genkende ordtyper, entiteter og sætningskonstruktion, som derved kan prædiktere disse informationer i tekst på det samme sprog."
   ]
  },
  {
   "cell_type": "markdown",
   "id": "1315f199-2148-46f4-9aea-71dbc404215b",
   "metadata": {
    "slideshow": {
     "slide_type": "slide"
    },
    "tags": []
   },
   "source": [
    "## Introduktion til `spaCy` \n",
    "\n",
    "\"spaCy\" indeholder forskellige sprogmodeller - herunder en dansk sprogmodel.\n",
    "\n",
    "Overordnet virker spaCy ved, at man specificerer en sprogmodel samt nogen \"processors\", som modellen skal indeholde. \n",
    "\n",
    "SpaCy's sprogmodeller indeholder blandt andet:\n",
    "- Tokenizer (inddeling i enkeltord)\n",
    "- Lemmatizer (konvertering til navneform)\n",
    "- Part-Of-Speech tagging (POS-tagging) (identificering af ordtyper)\n",
    "- Dependency parsing (sætningskonstruktion)\n",
    "- Named-Entity-Recognition (NER) (udledning af \"named entities\", fx personer og organisationer)"
   ]
  },
  {
   "cell_type": "markdown",
   "id": "a534c926-a600-4fd0-9a9f-b766935c76a9",
   "metadata": {
    "slideshow": {
     "slide_type": "slide"
    },
    "tags": []
   },
   "source": [
    "## Brug af spaCy i Python\n",
    "\n",
    "1. Indlæs sprogmodel\n",
    "2. Analysér tekstykke\n",
    "3. Inspicér resultater"
   ]
  },
  {
   "cell_type": "code",
   "execution_count": 117,
   "id": "63b5aa8e-5982-4e39-af9f-96dd411fc1f6",
   "metadata": {
    "execution": {
     "iopub.execute_input": "2022-10-18T12:12:36.196420Z",
     "iopub.status.busy": "2022-10-18T12:12:36.195558Z",
     "iopub.status.idle": "2022-10-18T12:12:36.748362Z",
     "shell.execute_reply": "2022-10-18T12:12:36.747144Z",
     "shell.execute_reply.started": "2022-10-18T12:12:36.196363Z"
    },
    "tags": []
   },
   "outputs": [],
   "source": [
    "import spacy\n",
    "\n",
    "nlp = spacy.load(\"da_core_news_sm\") # Definerer model\n",
    "\n",
    "doc = nlp('Politiet har givet borgerne råd')"
   ]
  },
  {
   "cell_type": "markdown",
   "id": "6bfc866d-182e-4ec2-b2da-16f7a741d0f3",
   "metadata": {},
   "source": [
    "Når modellen anvendes på et stykke tekst, kan de forskellige værdier og information, som er udledt af teksten, tilgås som attributes (et attribute for token, et for lemma, et for part-of-speech-tag osv.)."
   ]
  },
  {
   "cell_type": "code",
   "execution_count": 118,
   "id": "016d6aa2-0e79-4596-86e4-38b5123d0870",
   "metadata": {
    "execution": {
     "iopub.execute_input": "2022-10-18T12:14:14.445079Z",
     "iopub.status.busy": "2022-10-18T12:14:14.444697Z",
     "iopub.status.idle": "2022-10-18T12:14:14.461803Z",
     "shell.execute_reply": "2022-10-18T12:14:14.460530Z",
     "shell.execute_reply.started": "2022-10-18T12:14:14.445046Z"
    },
    "slideshow": {
     "slide_type": "slide"
    },
    "tags": []
   },
   "outputs": [
    {
     "data": {
      "text/html": [
       "<span class=\"tex2jax_ignore\"><svg xmlns=\"http://www.w3.org/2000/svg\" xmlns:xlink=\"http://www.w3.org/1999/xlink\" xml:lang=\"da\" id=\"64e2e3d369d049c7a7c68ae0283ff732-0\" class=\"displacy\" width=\"925\" height=\"312.0\" direction=\"ltr\" style=\"max-width: none; height: 312.0px; color: #000000; background: #ffffff; font-family: Arial; direction: ltr\">\n",
       "<text class=\"displacy-token\" fill=\"currentColor\" text-anchor=\"middle\" y=\"222.0\">\n",
       "    <tspan class=\"displacy-word\" fill=\"currentColor\" x=\"50\">Politiet</tspan>\n",
       "    <tspan class=\"displacy-tag\" dy=\"2em\" fill=\"currentColor\" x=\"50\">NOUN</tspan>\n",
       "</text>\n",
       "\n",
       "<text class=\"displacy-token\" fill=\"currentColor\" text-anchor=\"middle\" y=\"222.0\">\n",
       "    <tspan class=\"displacy-word\" fill=\"currentColor\" x=\"225\">har</tspan>\n",
       "    <tspan class=\"displacy-tag\" dy=\"2em\" fill=\"currentColor\" x=\"225\">AUX</tspan>\n",
       "</text>\n",
       "\n",
       "<text class=\"displacy-token\" fill=\"currentColor\" text-anchor=\"middle\" y=\"222.0\">\n",
       "    <tspan class=\"displacy-word\" fill=\"currentColor\" x=\"400\">givet</tspan>\n",
       "    <tspan class=\"displacy-tag\" dy=\"2em\" fill=\"currentColor\" x=\"400\">VERB</tspan>\n",
       "</text>\n",
       "\n",
       "<text class=\"displacy-token\" fill=\"currentColor\" text-anchor=\"middle\" y=\"222.0\">\n",
       "    <tspan class=\"displacy-word\" fill=\"currentColor\" x=\"575\">borgerne</tspan>\n",
       "    <tspan class=\"displacy-tag\" dy=\"2em\" fill=\"currentColor\" x=\"575\">NOUN</tspan>\n",
       "</text>\n",
       "\n",
       "<text class=\"displacy-token\" fill=\"currentColor\" text-anchor=\"middle\" y=\"222.0\">\n",
       "    <tspan class=\"displacy-word\" fill=\"currentColor\" x=\"750\">råd</tspan>\n",
       "    <tspan class=\"displacy-tag\" dy=\"2em\" fill=\"currentColor\" x=\"750\">NOUN</tspan>\n",
       "</text>\n",
       "\n",
       "<g class=\"displacy-arrow\">\n",
       "    <path class=\"displacy-arc\" id=\"arrow-64e2e3d369d049c7a7c68ae0283ff732-0-0\" stroke-width=\"2px\" d=\"M70,177.0 C70,2.0 400.0,2.0 400.0,177.0\" fill=\"none\" stroke=\"currentColor\"/>\n",
       "    <text dy=\"1.25em\" style=\"font-size: 0.8em; letter-spacing: 1px\">\n",
       "        <textPath xlink:href=\"#arrow-64e2e3d369d049c7a7c68ae0283ff732-0-0\" class=\"displacy-label\" startOffset=\"50%\" side=\"left\" fill=\"currentColor\" text-anchor=\"middle\">nsubj</textPath>\n",
       "    </text>\n",
       "    <path class=\"displacy-arrowhead\" d=\"M70,179.0 L62,167.0 78,167.0\" fill=\"currentColor\"/>\n",
       "</g>\n",
       "\n",
       "<g class=\"displacy-arrow\">\n",
       "    <path class=\"displacy-arc\" id=\"arrow-64e2e3d369d049c7a7c68ae0283ff732-0-1\" stroke-width=\"2px\" d=\"M245,177.0 C245,89.5 395.0,89.5 395.0,177.0\" fill=\"none\" stroke=\"currentColor\"/>\n",
       "    <text dy=\"1.25em\" style=\"font-size: 0.8em; letter-spacing: 1px\">\n",
       "        <textPath xlink:href=\"#arrow-64e2e3d369d049c7a7c68ae0283ff732-0-1\" class=\"displacy-label\" startOffset=\"50%\" side=\"left\" fill=\"currentColor\" text-anchor=\"middle\">aux</textPath>\n",
       "    </text>\n",
       "    <path class=\"displacy-arrowhead\" d=\"M245,179.0 L237,167.0 253,167.0\" fill=\"currentColor\"/>\n",
       "</g>\n",
       "\n",
       "<g class=\"displacy-arrow\">\n",
       "    <path class=\"displacy-arc\" id=\"arrow-64e2e3d369d049c7a7c68ae0283ff732-0-2\" stroke-width=\"2px\" d=\"M420,177.0 C420,89.5 570.0,89.5 570.0,177.0\" fill=\"none\" stroke=\"currentColor\"/>\n",
       "    <text dy=\"1.25em\" style=\"font-size: 0.8em; letter-spacing: 1px\">\n",
       "        <textPath xlink:href=\"#arrow-64e2e3d369d049c7a7c68ae0283ff732-0-2\" class=\"displacy-label\" startOffset=\"50%\" side=\"left\" fill=\"currentColor\" text-anchor=\"middle\">obj</textPath>\n",
       "    </text>\n",
       "    <path class=\"displacy-arrowhead\" d=\"M570.0,179.0 L578.0,167.0 562.0,167.0\" fill=\"currentColor\"/>\n",
       "</g>\n",
       "\n",
       "<g class=\"displacy-arrow\">\n",
       "    <path class=\"displacy-arc\" id=\"arrow-64e2e3d369d049c7a7c68ae0283ff732-0-3\" stroke-width=\"2px\" d=\"M420,177.0 C420,2.0 750.0,2.0 750.0,177.0\" fill=\"none\" stroke=\"currentColor\"/>\n",
       "    <text dy=\"1.25em\" style=\"font-size: 0.8em; letter-spacing: 1px\">\n",
       "        <textPath xlink:href=\"#arrow-64e2e3d369d049c7a7c68ae0283ff732-0-3\" class=\"displacy-label\" startOffset=\"50%\" side=\"left\" fill=\"currentColor\" text-anchor=\"middle\">obj</textPath>\n",
       "    </text>\n",
       "    <path class=\"displacy-arrowhead\" d=\"M750.0,179.0 L758.0,167.0 742.0,167.0\" fill=\"currentColor\"/>\n",
       "</g>\n",
       "</svg></span>"
      ],
      "text/plain": [
       "<IPython.core.display.HTML object>"
      ]
     },
     "metadata": {},
     "output_type": "display_data"
    }
   ],
   "source": [
    "spacy.displacy.render(doc, style='dep')"
   ]
  },
  {
   "cell_type": "markdown",
   "id": "9585db37-afac-4ca3-9241-1f1cc14fdaf7",
   "metadata": {
    "slideshow": {
     "slide_type": "slide"
    },
    "tags": []
   },
   "source": [
    "## Brug af `spaCy` i Python (live-coding)"
   ]
  },
  {
   "cell_type": "markdown",
   "id": "85561d10-dae9-41e3-bd59-fcb14866eb8a",
   "metadata": {
    "slideshow": {
     "slide_type": "slide"
    },
    "tags": []
   },
   "source": [
    "## Fra tekst til datastruktur\n",
    "\n",
    "Som nævnt er datastrukturer for tekster ikke givet.\n",
    "\n",
    "Datastruktur afhænger både af, hvordan tekst er konverteret til tokens samt af, hvordan ordene skal opgøres (tælles, vægtes eller andet).\n",
    "\n",
    "Man anvender termet \"text vectorization\" til at referere til teknikker, der konverterer tekster til matematiske repræsentationer (datastrukturer, som man kan foretage beregninger på)"
   ]
  },
  {
   "cell_type": "markdown",
   "id": "d0f6fc10-1a3b-4d5e-bf22-4431ebef0514",
   "metadata": {
    "slideshow": {
     "slide_type": "slide"
    },
    "tags": []
   },
   "source": [
    "![bow](../img/bow.JPEG)"
   ]
  },
  {
   "cell_type": "markdown",
   "id": "3a65712e-2fb3-4133-b059-7953213e6e6c",
   "metadata": {
    "slideshow": {
     "slide_type": "slide"
    },
    "tags": []
   },
   "source": [
    "## Bag-of-words repræsentation\n",
    "\n",
    "Mange modeller bygger på \"bag-of-words\" repræsentationer af tekst (bag-of-words modeller).\n",
    "\n",
    "Optales bag-of-words, da denne struktur ikke tager højde for sætningskonstruktion (syntaks) eller semantik.\n",
    "\n",
    "Eksempel på bag-of-words struktur: Document-term matrix:\n",
    "\n",
    "<table border=\"1\" class=\"dataframe\">\n",
    "  <thead>\n",
    "    <tr style=\"text-align: right;\">\n",
    "      <th></th>\n",
    "      <th>alle</th>\n",
    "      <th>beærede</th>\n",
    "      <th>dele</th>\n",
    "      <th>det</th>\n",
    "      <th>er</th>\n",
    "      <th>gerne</th>\n",
    "      <th>gjort</th>\n",
    "      <th>have</th>\n",
    "      <th>med</th>\n",
    "      <th>op</th>\n",
    "      <th>prisen</th>\n",
    "      <th>skal</th>\n",
    "      <th>utroligt</th>\n",
    "      <th>vi</th>\n",
    "      <th>vil</th>\n",
    "    </tr>\n",
    "  </thead>\n",
    "  <tbody>\n",
    "    <tr>\n",
    "      <th>0</th>\n",
    "      <td>0</td>\n",
    "      <td>1</td>\n",
    "      <td>0</td>\n",
    "      <td>0</td>\n",
    "      <td>1</td>\n",
    "      <td>0</td>\n",
    "      <td>0</td>\n",
    "      <td>0</td>\n",
    "      <td>0</td>\n",
    "      <td>0</td>\n",
    "      <td>0</td>\n",
    "      <td>0</td>\n",
    "      <td>1</td>\n",
    "      <td>1</td>\n",
    "      <td>0</td>\n",
    "    </tr>\n",
    "    <tr>\n",
    "      <th>1</th>\n",
    "      <td>1</td>\n",
    "      <td>0</td>\n",
    "      <td>1</td>\n",
    "      <td>0</td>\n",
    "      <td>0</td>\n",
    "      <td>1</td>\n",
    "      <td>0</td>\n",
    "      <td>0</td>\n",
    "      <td>1</td>\n",
    "      <td>0</td>\n",
    "      <td>1</td>\n",
    "      <td>0</td>\n",
    "      <td>0</td>\n",
    "      <td>1</td>\n",
    "      <td>1</td>\n",
    "    </tr>\n",
    "    <tr>\n",
    "      <th>2</th>\n",
    "      <td>0</td>\n",
    "      <td>0</td>\n",
    "      <td>0</td>\n",
    "      <td>1</td>\n",
    "      <td>0</td>\n",
    "      <td>0</td>\n",
    "      <td>1</td>\n",
    "      <td>1</td>\n",
    "      <td>1</td>\n",
    "      <td>1</td>\n",
    "      <td>0</td>\n",
    "      <td>1</td>\n",
    "      <td>0</td>\n",
    "      <td>1</td>\n",
    "      <td>0</td>\n",
    "    </tr>\n",
    "  </tbody>\n",
    "</table>\n",
    "\n",
    "\n",
    "**Udfordringer med bag-of-words repræsentation**\n",
    "\n",
    "- Tager ikke højde for sætningskonstruktion og semantik\n",
    "- Giver ofte datastrukturer med høj \"sparsity\" (mange tomme celler)."
   ]
  },
  {
   "cell_type": "markdown",
   "id": "733927fb-5f29-4ef9-90d9-15dc88458be0",
   "metadata": {
    "slideshow": {
     "slide_type": "slide"
    },
    "tags": []
   },
   "source": [
    "## Ordtællinger\n",
    "\n",
    "Simpleste måde at opgøre ord (eller tokens) i tekst: hvor mange gange er ordet nævnt i teksten?\n",
    "\n",
    "<table border=\"1\" class=\"dataframe\">\n",
    "  <thead>\n",
    "    <tr style=\"text-align: right;\">\n",
    "      <th></th>\n",
    "      <th>am</th>\n",
    "      <th>and</th>\n",
    "      <th>anywhere</th>\n",
    "      <th>do</th>\n",
    "      <th>eggs</th>\n",
    "      <th>green</th>\n",
    "      <th>ham</th>\n",
    "      <th>here</th>\n",
    "      <th>like</th>\n",
    "      <th>not</th>\n",
    "      <th>or</th>\n",
    "      <th>sam</th>\n",
    "      <th>so</th>\n",
    "      <th>thank</th>\n",
    "      <th>them</th>\n",
    "      <th>there</th>\n",
    "      <th>would</th>\n",
    "      <th>you</th>\n",
    "    </tr>\n",
    "  </thead>\n",
    "  <tbody>\n",
    "    <tr>\n",
    "      <th>0</th>\n",
    "      <td>1</td>\n",
    "      <td>2</td>\n",
    "      <td>0</td>\n",
    "      <td>3</td>\n",
    "      <td>2</td>\n",
    "      <td>2</td>\n",
    "      <td>2</td>\n",
    "      <td>0</td>\n",
    "      <td>3</td>\n",
    "      <td>2</td>\n",
    "      <td>0</td>\n",
    "      <td>1</td>\n",
    "      <td>0</td>\n",
    "      <td>0</td>\n",
    "      <td>1</td>\n",
    "      <td>0</td>\n",
    "      <td>0</td>\n",
    "      <td>1</td>\n",
    "    </tr>\n",
    "    <tr>\n",
    "      <th>1</th>\n",
    "      <td>0</td>\n",
    "      <td>0</td>\n",
    "      <td>1</td>\n",
    "      <td>0</td>\n",
    "      <td>0</td>\n",
    "      <td>0</td>\n",
    "      <td>0</td>\n",
    "      <td>2</td>\n",
    "      <td>3</td>\n",
    "      <td>2</td>\n",
    "      <td>2</td>\n",
    "      <td>0</td>\n",
    "      <td>0</td>\n",
    "      <td>0</td>\n",
    "      <td>3</td>\n",
    "      <td>2</td>\n",
    "      <td>3</td>\n",
    "      <td>1</td>\n",
    "    </tr>\n",
    "    <tr>\n",
    "      <th>2</th>\n",
    "      <td>1</td>\n",
    "      <td>1</td>\n",
    "      <td>0</td>\n",
    "      <td>1</td>\n",
    "      <td>1</td>\n",
    "      <td>1</td>\n",
    "      <td>1</td>\n",
    "      <td>0</td>\n",
    "      <td>1</td>\n",
    "      <td>0</td>\n",
    "      <td>0</td>\n",
    "      <td>1</td>\n",
    "      <td>1</td>\n",
    "      <td>2</td>\n",
    "      <td>0</td>\n",
    "      <td>0</td>\n",
    "      <td>0</td>\n",
    "      <td>2</td>\n",
    "    </tr>\n",
    "  </tbody>\n",
    "</table>"
   ]
  },
  {
   "cell_type": "markdown",
   "id": "9021636b-a46b-4bc6-8ec5-00f75d267a46",
   "metadata": {
    "slideshow": {
     "slide_type": "slide"
    },
    "tags": []
   },
   "source": [
    "## Binær tælling\n",
    "\n",
    "Binær tælling: 1 hvis term indgår i tekst, ellers 0.\n",
    "\n",
    "<table border=\"1\" class=\"dataframe\">\n",
    "  <thead>\n",
    "    <tr style=\"text-align: right;\">\n",
    "      <th></th>\n",
    "      <th>am</th>\n",
    "      <th>and</th>\n",
    "      <th>anywhere</th>\n",
    "      <th>do</th>\n",
    "      <th>eggs</th>\n",
    "      <th>green</th>\n",
    "      <th>ham</th>\n",
    "      <th>here</th>\n",
    "      <th>like</th>\n",
    "      <th>not</th>\n",
    "      <th>or</th>\n",
    "      <th>sam</th>\n",
    "      <th>so</th>\n",
    "      <th>thank</th>\n",
    "      <th>them</th>\n",
    "      <th>there</th>\n",
    "      <th>would</th>\n",
    "      <th>you</th>\n",
    "    </tr>\n",
    "  </thead>\n",
    "  <tbody>\n",
    "    <tr>\n",
    "      <th>0</th>\n",
    "      <td>1</td>\n",
    "      <td>1</td>\n",
    "      <td>0</td>\n",
    "      <td>1</td>\n",
    "      <td>1</td>\n",
    "      <td>1</td>\n",
    "      <td>1</td>\n",
    "      <td>0</td>\n",
    "      <td>1</td>\n",
    "      <td>1</td>\n",
    "      <td>0</td>\n",
    "      <td>1</td>\n",
    "      <td>0</td>\n",
    "      <td>0</td>\n",
    "      <td>1</td>\n",
    "      <td>0</td>\n",
    "      <td>0</td>\n",
    "      <td>1</td>\n",
    "    </tr>\n",
    "    <tr>\n",
    "      <th>1</th>\n",
    "      <td>0</td>\n",
    "      <td>0</td>\n",
    "      <td>1</td>\n",
    "      <td>0</td>\n",
    "      <td>0</td>\n",
    "      <td>0</td>\n",
    "      <td>0</td>\n",
    "      <td>1</td>\n",
    "      <td>1</td>\n",
    "      <td>1</td>\n",
    "      <td>1</td>\n",
    "      <td>0</td>\n",
    "      <td>0</td>\n",
    "      <td>0</td>\n",
    "      <td>1</td>\n",
    "      <td>1</td>\n",
    "      <td>1</td>\n",
    "      <td>1</td>\n",
    "    </tr>\n",
    "    <tr>\n",
    "      <th>2</th>\n",
    "      <td>1</td>\n",
    "      <td>1</td>\n",
    "      <td>0</td>\n",
    "      <td>1</td>\n",
    "      <td>1</td>\n",
    "      <td>1</td>\n",
    "      <td>1</td>\n",
    "      <td>0</td>\n",
    "      <td>1</td>\n",
    "      <td>0</td>\n",
    "      <td>0</td>\n",
    "      <td>1</td>\n",
    "      <td>1</td>\n",
    "      <td>1</td>\n",
    "      <td>0</td>\n",
    "      <td>0</td>\n",
    "      <td>0</td>\n",
    "      <td>1</td>\n",
    "    </tr>\n",
    "  </tbody>\n",
    "</table>"
   ]
  },
  {
   "cell_type": "markdown",
   "id": "60039df0-9e93-455d-85d8-44540dd85b82",
   "metadata": {
    "slideshow": {
     "slide_type": "slide"
    },
    "tags": []
   },
   "source": [
    "## Tf-idf vægtning af ord\n",
    "\n",
    "En udbredt måde at opgør ord/tokens er med tf-idf: *term frequency-inverse document frequency*.\n",
    "\n",
    "Dette mål udregner, hvor ofte ordet fremgår i en tekst set i forhold til, hvor mange tekster ordet fremgår i. \n",
    "\n",
    "I udregningen vægtes ord, som fremgår i få tekster, op. Dette ud fra en antagelse om, at ord, der fremgår i få tekster, er mere sigende for indholdet af de tekster, som ordet indgår i.\n",
    "\n",
    "**tf-idf udregnes som:**\n",
    "\n",
    "<center>$tfidf = tf(t, d) * idf(t, D)$</center>\n",
    "\n",
    "*hvor:*\n",
    "\n",
    "$tf(t, d)$: antal gange term $t$ er nævnt i dokument $d$,\n",
    "\n",
    "$idf(t, D) = log(\\frac{D}{|\\{d \\in D : t \\in d\\}|})$: logaritmen af antal dokumenter i alt ($D$) divideret med antal dokumenter, der indeholder termet ($\\{d \\in D : t \\in d\\}$)\n",
    "\n",
    "*Obs: Der kan være variationer i, hvordan tf og idf udregnes samt forskelle i brug af standardisering mellem funktioner*"
   ]
  },
  {
   "cell_type": "markdown",
   "id": "1c078eae-30f7-46f7-8bd4-07a53efcb55c",
   "metadata": {
    "slideshow": {
     "slide_type": "slide"
    },
    "tags": []
   },
   "source": [
    "## Tf-idf vægtning af ord\n",
    "\n",
    "<table border=\"1\" class=\"dataframe\">\n",
    "  <thead>\n",
    "    <tr style=\"text-align: right;\">\n",
    "      <th></th>\n",
    "      <th>am</th>\n",
    "      <th>and</th>\n",
    "      <th>anywhere</th>\n",
    "      <th>do</th>\n",
    "      <th>eggs</th>\n",
    "      <th>green</th>\n",
    "      <th>ham</th>\n",
    "      <th>here</th>\n",
    "      <th>like</th>\n",
    "      <th>not</th>\n",
    "      <th>or</th>\n",
    "      <th>sam</th>\n",
    "      <th>so</th>\n",
    "      <th>thank</th>\n",
    "      <th>them</th>\n",
    "      <th>there</th>\n",
    "      <th>would</th>\n",
    "      <th>you</th>\n",
    "    </tr>\n",
    "  </thead>\n",
    "  <tbody>\n",
    "    <tr>\n",
    "      <th>0</th>\n",
    "      <td>0.162155</td>\n",
    "      <td>0.324311</td>\n",
    "      <td>0.000000</td>\n",
    "      <td>0.486466</td>\n",
    "      <td>0.324311</td>\n",
    "      <td>0.324311</td>\n",
    "      <td>0.324311</td>\n",
    "      <td>0.000000</td>\n",
    "      <td>0.377785</td>\n",
    "      <td>0.324311</td>\n",
    "      <td>0.000000</td>\n",
    "      <td>0.162155</td>\n",
    "      <td>0.00000</td>\n",
    "      <td>0.00000</td>\n",
    "      <td>0.162155</td>\n",
    "      <td>0.000000</td>\n",
    "      <td>0.000000</td>\n",
    "      <td>0.125928</td>\n",
    "    </tr>\n",
    "    <tr>\n",
    "      <th>1</th>\n",
    "      <td>0.000000</td>\n",
    "      <td>0.000000</td>\n",
    "      <td>0.174058</td>\n",
    "      <td>0.000000</td>\n",
    "      <td>0.000000</td>\n",
    "      <td>0.000000</td>\n",
    "      <td>0.000000</td>\n",
    "      <td>0.348116</td>\n",
    "      <td>0.308404</td>\n",
    "      <td>0.264751</td>\n",
    "      <td>0.348116</td>\n",
    "      <td>0.000000</td>\n",
    "      <td>0.00000</td>\n",
    "      <td>0.00000</td>\n",
    "      <td>0.397127</td>\n",
    "      <td>0.348116</td>\n",
    "      <td>0.522174</td>\n",
    "      <td>0.102801</td>\n",
    "    </tr>\n",
    "    <tr>\n",
    "      <th>2</th>\n",
    "      <td>0.231496</td>\n",
    "      <td>0.231496</td>\n",
    "      <td>0.000000</td>\n",
    "      <td>0.231496</td>\n",
    "      <td>0.231496</td>\n",
    "      <td>0.231496</td>\n",
    "      <td>0.231496</td>\n",
    "      <td>0.000000</td>\n",
    "      <td>0.179778</td>\n",
    "      <td>0.000000</td>\n",
    "      <td>0.000000</td>\n",
    "      <td>0.231496</td>\n",
    "      <td>0.30439</td>\n",
    "      <td>0.60878</td>\n",
    "      <td>0.000000</td>\n",
    "      <td>0.000000</td>\n",
    "      <td>0.000000</td>\n",
    "      <td>0.359555</td>\n",
    "    </tr>\n",
    "  </tbody>\n",
    "</table>"
   ]
  },
  {
   "cell_type": "markdown",
   "id": "647b3f0b-6d15-4e3a-94e2-b3be5dc81476",
   "metadata": {
    "slideshow": {
     "slide_type": "slide"
    },
    "tags": []
   },
   "source": [
    "## Vectorizers i Python (live-coding)"
   ]
  }
 ],
 "metadata": {
  "kernelspec": {
   "display_name": "Python 3 ",
   "language": "python",
   "name": "python3"
  },
  "language_info": {
   "codemirror_mode": {
    "name": "ipython",
    "version": 3
   },
   "file_extension": ".py",
   "mimetype": "text/x-python",
   "name": "python",
   "nbconvert_exporter": "python",
   "pygments_lexer": "ipython3",
   "version": "3.10.6"
  }
 },
 "nbformat": 4,
 "nbformat_minor": 5
}
