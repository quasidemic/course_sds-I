{
 "cells": [
  {
   "cell_type": "markdown",
   "id": "12df754c-ea74-4201-864a-edf764dedf71",
   "metadata": {},
   "source": [
    "## Introduktion til `spaCy` \n",
    "\n",
    "\"spaCy\" indeholder forskellige sprogmodeller - herunder en dansk sprogmodel.\n",
    "\n",
    "Overordnet virker spaCy ved, at man specificerer en sprogmodel samt nogen \"processors\", som modellen skal indeholde. \n",
    "\n",
    "SpaCy's sprogmodeller indeholder blandt andet:\n",
    "- Tokenizer (inddeling i enkeltord)\n",
    "- Lemmatizer (konvertering til navneform)\n",
    "- Part-Of-Speech tagging (POS-tagging) (identificering af ordtyper)\n",
    "- Dependency parsing (sætningskonstruktion)\n",
    "- Named-Entity-Recognition (NER) (udledning af \"named entities\", fx personer og organisationer)"
   ]
  },
  {
   "cell_type": "markdown",
   "id": "6cde3b52-f3df-444d-aea9-1a34b958b3fb",
   "metadata": {},
   "source": [
    "## Brug af spaCy i Python\n",
    "\n",
    "1. Indlæs sprogmodel\n",
    "2. Analysér tekstykke\n",
    "3. Inspicér resultater"
   ]
  },
  {
   "cell_type": "code",
   "execution_count": 1,
   "id": "d6d1ace3-ef6f-4c1b-9281-84d9c5062257",
   "metadata": {
    "execution": {
     "iopub.execute_input": "2022-10-18T12:16:28.848259Z",
     "iopub.status.busy": "2022-10-18T12:16:28.847570Z",
     "iopub.status.idle": "2022-10-18T12:16:30.276675Z",
     "shell.execute_reply": "2022-10-18T12:16:30.275489Z",
     "shell.execute_reply.started": "2022-10-18T12:16:28.848200Z"
    },
    "tags": []
   },
   "outputs": [],
   "source": [
    "import spacy\n",
    "\n",
    "#!python -m spacy download 'da_core_news_sm' # evt. installer sprogmodel"
   ]
  },
  {
   "cell_type": "markdown",
   "id": "ae5ad79f-3504-45dd-9b11-d6fbceabddb0",
   "metadata": {},
   "source": [
    "Når sprogmodellen er hentet, kan vi bruge den ved at indlæse modellen. Som standard indlæses modellen med alle processerne, men det er muligt at aktivere/deaktivere specifikke processer.\n",
    "\n",
    "Efter modellen er defineret, kan man lade sprogmodellen analysere tekst."
   ]
  },
  {
   "cell_type": "code",
   "execution_count": 2,
   "id": "96aa5839-983a-4324-9a88-41f47a1a52bf",
   "metadata": {
    "execution": {
     "iopub.execute_input": "2022-10-18T12:16:54.256132Z",
     "iopub.status.busy": "2022-10-18T12:16:54.255435Z",
     "iopub.status.idle": "2022-10-18T12:16:54.883302Z",
     "shell.execute_reply": "2022-10-18T12:16:54.882631Z",
     "shell.execute_reply.started": "2022-10-18T12:16:54.256047Z"
    }
   },
   "outputs": [],
   "source": [
    "nlp = spacy.load(\"da_core_news_sm\") # Definerer model\n",
    "\n",
    "doc = nlp('Politiet har givet borgerne råd') # Analyserer tekst med model"
   ]
  },
  {
   "cell_type": "markdown",
   "id": "9a88b6fb-bf12-4301-90ca-9ab4f8482682",
   "metadata": {},
   "source": [
    "Når modellen anvendes på et stykke tekst, behandler den tekststykket med de forskellige processors, som er en del af sprogmodellen (som standard for dansk: tokenizer, part-of-speech tagging, lemmatizer og dependency parsing).\n",
    "\n",
    "Outputtet (`doc`) indeholder de forskellige værdier, som er udledt af teksten, som attributes (et attribute for token, et for lemma, et for POS-tag osv.).\n",
    "\n",
    "Vi kan fx visualisere sætningskonstruktionen med funktionen `displacy`:"
   ]
  },
  {
   "cell_type": "code",
   "execution_count": 3,
   "id": "0b38ed78-8515-4ada-89e9-326b8b527368",
   "metadata": {
    "execution": {
     "iopub.execute_input": "2022-10-18T12:16:56.017504Z",
     "iopub.status.busy": "2022-10-18T12:16:56.016621Z",
     "iopub.status.idle": "2022-10-18T12:16:56.027336Z",
     "shell.execute_reply": "2022-10-18T12:16:56.026588Z",
     "shell.execute_reply.started": "2022-10-18T12:16:56.017432Z"
    },
    "tags": []
   },
   "outputs": [
    {
     "data": {
      "text/html": [
       "<span class=\"tex2jax_ignore\"><svg xmlns=\"http://www.w3.org/2000/svg\" xmlns:xlink=\"http://www.w3.org/1999/xlink\" xml:lang=\"da\" id=\"5d7366d93992434187e2f78f7417d761-0\" class=\"displacy\" width=\"925\" height=\"312.0\" direction=\"ltr\" style=\"max-width: none; height: 312.0px; color: #000000; background: #ffffff; font-family: Arial; direction: ltr\">\n",
       "<text class=\"displacy-token\" fill=\"currentColor\" text-anchor=\"middle\" y=\"222.0\">\n",
       "    <tspan class=\"displacy-word\" fill=\"currentColor\" x=\"50\">Politiet</tspan>\n",
       "    <tspan class=\"displacy-tag\" dy=\"2em\" fill=\"currentColor\" x=\"50\">NOUN</tspan>\n",
       "</text>\n",
       "\n",
       "<text class=\"displacy-token\" fill=\"currentColor\" text-anchor=\"middle\" y=\"222.0\">\n",
       "    <tspan class=\"displacy-word\" fill=\"currentColor\" x=\"225\">har</tspan>\n",
       "    <tspan class=\"displacy-tag\" dy=\"2em\" fill=\"currentColor\" x=\"225\">AUX</tspan>\n",
       "</text>\n",
       "\n",
       "<text class=\"displacy-token\" fill=\"currentColor\" text-anchor=\"middle\" y=\"222.0\">\n",
       "    <tspan class=\"displacy-word\" fill=\"currentColor\" x=\"400\">givet</tspan>\n",
       "    <tspan class=\"displacy-tag\" dy=\"2em\" fill=\"currentColor\" x=\"400\">VERB</tspan>\n",
       "</text>\n",
       "\n",
       "<text class=\"displacy-token\" fill=\"currentColor\" text-anchor=\"middle\" y=\"222.0\">\n",
       "    <tspan class=\"displacy-word\" fill=\"currentColor\" x=\"575\">borgerne</tspan>\n",
       "    <tspan class=\"displacy-tag\" dy=\"2em\" fill=\"currentColor\" x=\"575\">NOUN</tspan>\n",
       "</text>\n",
       "\n",
       "<text class=\"displacy-token\" fill=\"currentColor\" text-anchor=\"middle\" y=\"222.0\">\n",
       "    <tspan class=\"displacy-word\" fill=\"currentColor\" x=\"750\">råd</tspan>\n",
       "    <tspan class=\"displacy-tag\" dy=\"2em\" fill=\"currentColor\" x=\"750\">NOUN</tspan>\n",
       "</text>\n",
       "\n",
       "<g class=\"displacy-arrow\">\n",
       "    <path class=\"displacy-arc\" id=\"arrow-5d7366d93992434187e2f78f7417d761-0-0\" stroke-width=\"2px\" d=\"M70,177.0 C70,2.0 400.0,2.0 400.0,177.0\" fill=\"none\" stroke=\"currentColor\"/>\n",
       "    <text dy=\"1.25em\" style=\"font-size: 0.8em; letter-spacing: 1px\">\n",
       "        <textPath xlink:href=\"#arrow-5d7366d93992434187e2f78f7417d761-0-0\" class=\"displacy-label\" startOffset=\"50%\" side=\"left\" fill=\"currentColor\" text-anchor=\"middle\">nsubj</textPath>\n",
       "    </text>\n",
       "    <path class=\"displacy-arrowhead\" d=\"M70,179.0 L62,167.0 78,167.0\" fill=\"currentColor\"/>\n",
       "</g>\n",
       "\n",
       "<g class=\"displacy-arrow\">\n",
       "    <path class=\"displacy-arc\" id=\"arrow-5d7366d93992434187e2f78f7417d761-0-1\" stroke-width=\"2px\" d=\"M245,177.0 C245,89.5 395.0,89.5 395.0,177.0\" fill=\"none\" stroke=\"currentColor\"/>\n",
       "    <text dy=\"1.25em\" style=\"font-size: 0.8em; letter-spacing: 1px\">\n",
       "        <textPath xlink:href=\"#arrow-5d7366d93992434187e2f78f7417d761-0-1\" class=\"displacy-label\" startOffset=\"50%\" side=\"left\" fill=\"currentColor\" text-anchor=\"middle\">aux</textPath>\n",
       "    </text>\n",
       "    <path class=\"displacy-arrowhead\" d=\"M245,179.0 L237,167.0 253,167.0\" fill=\"currentColor\"/>\n",
       "</g>\n",
       "\n",
       "<g class=\"displacy-arrow\">\n",
       "    <path class=\"displacy-arc\" id=\"arrow-5d7366d93992434187e2f78f7417d761-0-2\" stroke-width=\"2px\" d=\"M420,177.0 C420,89.5 570.0,89.5 570.0,177.0\" fill=\"none\" stroke=\"currentColor\"/>\n",
       "    <text dy=\"1.25em\" style=\"font-size: 0.8em; letter-spacing: 1px\">\n",
       "        <textPath xlink:href=\"#arrow-5d7366d93992434187e2f78f7417d761-0-2\" class=\"displacy-label\" startOffset=\"50%\" side=\"left\" fill=\"currentColor\" text-anchor=\"middle\">obj</textPath>\n",
       "    </text>\n",
       "    <path class=\"displacy-arrowhead\" d=\"M570.0,179.0 L578.0,167.0 562.0,167.0\" fill=\"currentColor\"/>\n",
       "</g>\n",
       "\n",
       "<g class=\"displacy-arrow\">\n",
       "    <path class=\"displacy-arc\" id=\"arrow-5d7366d93992434187e2f78f7417d761-0-3\" stroke-width=\"2px\" d=\"M420,177.0 C420,2.0 750.0,2.0 750.0,177.0\" fill=\"none\" stroke=\"currentColor\"/>\n",
       "    <text dy=\"1.25em\" style=\"font-size: 0.8em; letter-spacing: 1px\">\n",
       "        <textPath xlink:href=\"#arrow-5d7366d93992434187e2f78f7417d761-0-3\" class=\"displacy-label\" startOffset=\"50%\" side=\"left\" fill=\"currentColor\" text-anchor=\"middle\">obj</textPath>\n",
       "    </text>\n",
       "    <path class=\"displacy-arrowhead\" d=\"M750.0,179.0 L758.0,167.0 742.0,167.0\" fill=\"currentColor\"/>\n",
       "</g>\n",
       "</svg></span>"
      ],
      "text/plain": [
       "<IPython.core.display.HTML object>"
      ]
     },
     "metadata": {},
     "output_type": "display_data"
    }
   ],
   "source": [
    "spacy.displacy.render(doc, style='dep')"
   ]
  },
  {
   "cell_type": "markdown",
   "id": "11e7afbf-4f67-47d0-b9fc-cb373a4cc290",
   "metadata": {},
   "source": [
    "## Lemmatizing\n",
    "\n",
    "Et ords \"lemma\" er dets grammatiske stamme (fx \"er\"->\"være\", \"spiste\"->\"spise\"). SpaCy's sprogmodeller indeholder typisk en indbygget ordbog til at finde stammen for de enkelte ord. Et ords \"lemma\" er gem under attributtet `.lemma_` for hvert ord:"
   ]
  },
  {
   "cell_type": "code",
   "execution_count": 10,
   "id": "602c77ac-1f93-4aad-905e-0a01c6654d7f",
   "metadata": {
    "execution": {
     "iopub.execute_input": "2022-10-18T12:20:10.386531Z",
     "iopub.status.busy": "2022-10-18T12:20:10.385776Z",
     "iopub.status.idle": "2022-10-18T12:20:10.394715Z",
     "shell.execute_reply": "2022-10-18T12:20:10.393405Z",
     "shell.execute_reply.started": "2022-10-18T12:20:10.386466Z"
    },
    "tags": []
   },
   "outputs": [
    {
     "name": "stdout",
     "output_type": "stream",
     "text": [
      "Politiet        politi\n",
      "har             have\n",
      "givet           give\n",
      "borgerne        borger\n",
      "råd             råd\n"
     ]
    }
   ],
   "source": [
    "for word in doc:\n",
    "    print(f'{word.text:<15} {word.lemma_}')"
   ]
  },
  {
   "cell_type": "markdown",
   "id": "cc25dccf-d22e-49e1-81db-495353f9d684",
   "metadata": {},
   "source": [
    "## Part-of-speech tags\n",
    "\n",
    "SpaCy tagger automatisk hvert ord med sin ordklasse (\"part-of-speech\"-tag/POS-tag). Disse er gemt under attributtet `.pos_` for hvert ord:"
   ]
  },
  {
   "cell_type": "code",
   "execution_count": 11,
   "id": "a32e3b3c-2fb7-4d22-8e4d-7dae8fd82cd5",
   "metadata": {
    "execution": {
     "iopub.execute_input": "2022-10-18T12:20:35.404110Z",
     "iopub.status.busy": "2022-10-18T12:20:35.403419Z",
     "iopub.status.idle": "2022-10-18T12:20:35.411690Z",
     "shell.execute_reply": "2022-10-18T12:20:35.410702Z",
     "shell.execute_reply.started": "2022-10-18T12:20:35.404029Z"
    }
   },
   "outputs": [
    {
     "name": "stdout",
     "output_type": "stream",
     "text": [
      "Politiet        NOUN\n",
      "har             AUX\n",
      "givet           VERB\n",
      "borgerne        NOUN\n",
      "råd             NOUN\n"
     ]
    }
   ],
   "source": [
    "for word in doc:\n",
    "    print(f'{word.text:<15} {word.pos_}')"
   ]
  },
  {
   "cell_type": "markdown",
   "id": "680ffb0f-388c-4e5b-9574-e53bb7dd52d3",
   "metadata": {},
   "source": [
    "Part-of-speech tagging virker ved, at modellen i forvejen er trænet på danske tekster, og derfor har \"set\" de forskellige ord i kontekst før. Som det kan ses, er modellen dog ikke perfekt (fx \"trygge\" er angivet som navneord (NOUN), selvom der her er tale om et tillægsord (ADJ)).\n",
    "\n",
    "Part-of-speech tagging tillader fx at isolere visse ord i et stykke tekst:"
   ]
  },
  {
   "cell_type": "code",
   "execution_count": 12,
   "id": "c3b6e233-757b-4146-b890-95ecc2c1d4ae",
   "metadata": {
    "execution": {
     "iopub.execute_input": "2022-10-18T12:20:55.833946Z",
     "iopub.status.busy": "2022-10-18T12:20:55.833228Z",
     "iopub.status.idle": "2022-10-18T12:20:55.843572Z",
     "shell.execute_reply": "2022-10-18T12:20:55.842586Z",
     "shell.execute_reply.started": "2022-10-18T12:20:55.833885Z"
    }
   },
   "outputs": [
    {
     "name": "stdout",
     "output_type": "stream",
     "text": [
      "Politiet        NOUN\n",
      "borgerne        NOUN\n",
      "råd             NOUN\n"
     ]
    }
   ],
   "source": [
    "keep_tags = ['NOUN', 'ADJ', 'PROPN']\n",
    "keep_words = []\n",
    "\n",
    "for word in doc:\n",
    "    if word.pos_ in keep_tags:\n",
    "        keep_words.append(word)\n",
    "\n",
    "for word in keep_words:\n",
    "    print(f'{word.text:<15} {word.pos_}')"
   ]
  },
  {
   "cell_type": "markdown",
   "id": "ab7c8c35-f967-495d-924e-ac3d735d1119",
   "metadata": {},
   "source": [
    "## Dependency parsing\n",
    "\n",
    "SpaCy laver også analyse af sætningskonstruktion (dependency parsing). Hvilken del af sætningen, som ordene er analyseret frem til, kan tilgås af attribut `.dep_`."
   ]
  },
  {
   "cell_type": "code",
   "execution_count": 13,
   "id": "f68e5599-d664-4ce2-91d3-9e9344346ee6",
   "metadata": {
    "execution": {
     "iopub.execute_input": "2022-10-18T12:21:28.812665Z",
     "iopub.status.busy": "2022-10-18T12:21:28.811985Z",
     "iopub.status.idle": "2022-10-18T12:21:28.820713Z",
     "shell.execute_reply": "2022-10-18T12:21:28.819525Z",
     "shell.execute_reply.started": "2022-10-18T12:21:28.812609Z"
    }
   },
   "outputs": [
    {
     "name": "stdout",
     "output_type": "stream",
     "text": [
      "Politiet        nsubj\n",
      "har             aux\n",
      "givet           ROOT\n",
      "borgerne        obj\n",
      "råd             obj\n"
     ]
    }
   ],
   "source": [
    "for word in doc:\n",
    "    print(f'{word.text:<15} {word.dep_}')"
   ]
  },
  {
   "cell_type": "markdown",
   "id": "8bac7f0e-e5d8-4e97-b040-ff4827e2bea6",
   "metadata": {},
   "source": [
    "## Named entities\n",
    "\n",
    "\"Named entities\" kan groft sagt forstås som \"meningsfulde enheder\" i teksten. Det kan fx være personer, organisationer eller steder. Ligesom ved part-of-speech tagging, fungerer \"named entity recognition\" ved, at modellen enten har set disse enheder før eller er bekendt med, hvordan sådanne enheder fremgår i sætningen (hvor er de i sætningskonstruktionen, hvilke ordklasser er de associeret med).\n",
    "\n",
    "Alle ord i en tekst er ikke en \"named entity\". Named entities kan tilgås gennem attributtet `ents` for det behandlede stykke tekst (`doc`). Fra dette kan ses, hvilke enheder er udledt, og hvordan de er kategoriseret:"
   ]
  },
  {
   "cell_type": "code",
   "execution_count": 17,
   "id": "57bb9d87-0289-43b3-a6c9-82e335303006",
   "metadata": {
    "execution": {
     "iopub.execute_input": "2022-10-18T12:27:29.587410Z",
     "iopub.status.busy": "2022-10-18T12:27:29.586667Z",
     "iopub.status.idle": "2022-10-18T12:27:29.611614Z",
     "shell.execute_reply": "2022-10-18T12:27:29.610779Z",
     "shell.execute_reply.started": "2022-10-18T12:27:29.587349Z"
    },
    "tags": []
   },
   "outputs": [
    {
     "name": "stdout",
     "output_type": "stream",
     "text": [
      "Marie Serup     PER\n",
      "Løkke           LOC\n",
      "DR's            ORG\n"
     ]
    }
   ],
   "source": [
    "doc = nlp(\"Søs Marie Serup, politisk kommentator og tidligere særlig rådgiver for Løkke, fortalte i fredags i DR's nyhedspodcast 'Genstart' om hans evne til altid at komme tilbage i politik.\")\n",
    "\n",
    "for ent in doc.ents:\n",
    "    print(f'{ent.text:<15} {ent.label_}')"
   ]
  },
  {
   "cell_type": "markdown",
   "id": "68ec1f35-59ce-461a-8f21-8ce64ec3afa4",
   "metadata": {},
   "source": [
    "Denne sprogmodel arbejder med fire named entity tags:\n",
    "- LOC: Steder\n",
    "- ORG: Organisationer\n",
    "- PER: Personer\n",
    "- MISC: Andet\n",
    "\n",
    "Af ovenstående ses, at modellen identificerer \"DR\" som en organisation, hvilket er meget passende. Derudover genkender den \"Marie Serup\" som person, men har udeladt fornavnet \"Søs\". Dog er \"Løkke\" fejlklassificeret som et sted (LOC)."
   ]
  }
 ],
 "metadata": {
  "kernelspec": {
   "display_name": "Python 3 ",
   "language": "python",
   "name": "python3"
  },
  "language_info": {
   "codemirror_mode": {
    "name": "ipython",
    "version": 3
   },
   "file_extension": ".py",
   "mimetype": "text/x-python",
   "name": "python",
   "nbconvert_exporter": "python",
   "pygments_lexer": "ipython3",
   "version": "3.10.6"
  }
 },
 "nbformat": 4,
 "nbformat_minor": 5
}
