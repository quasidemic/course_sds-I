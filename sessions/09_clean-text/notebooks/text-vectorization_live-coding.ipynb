{
 "cells": [
  {
   "cell_type": "code",
   "execution_count": 2,
   "id": "1745b686-f3f2-459f-9ab0-07b40543b4a5",
   "metadata": {
    "execution": {
     "iopub.execute_input": "2022-10-18T12:51:07.402939Z",
     "iopub.status.busy": "2022-10-18T12:51:07.402056Z",
     "iopub.status.idle": "2022-10-18T12:51:07.957191Z",
     "shell.execute_reply": "2022-10-18T12:51:07.956459Z",
     "shell.execute_reply.started": "2022-10-18T12:51:07.402879Z"
    },
    "tags": []
   },
   "outputs": [
    {
     "data": {
      "text/plain": [
       "[Politiet, har, givet, borgerne, råd]"
      ]
     },
     "execution_count": 2,
     "metadata": {},
     "output_type": "execute_result"
    }
   ],
   "source": [
    "import spacy\n",
    "\n",
    "nlp = spacy.load('da_core_news_sm')\n",
    "\n",
    "tokenizer = nlp.tokenizer\n",
    "\n",
    "list(tokenizer('Politiet har givet borgerne råd'))"
   ]
  },
  {
   "cell_type": "code",
   "execution_count": 15,
   "id": "36b497d7-72bb-4774-bb6c-47ffcf90acc2",
   "metadata": {
    "execution": {
     "iopub.execute_input": "2022-10-18T12:56:31.183800Z",
     "iopub.status.busy": "2022-10-18T12:56:31.182940Z",
     "iopub.status.idle": "2022-10-18T12:56:31.204938Z",
     "shell.execute_reply": "2022-10-18T12:56:31.204215Z",
     "shell.execute_reply.started": "2022-10-18T12:56:31.183744Z"
    },
    "tags": []
   },
   "outputs": [
    {
     "data": {
      "text/plain": [
       "['politi', 'give', 'borger', 'råd']"
      ]
     },
     "execution_count": 15,
     "metadata": {},
     "output_type": "execute_result"
    }
   ],
   "source": [
    "def tokenizer(text):\n",
    "    \n",
    "    custom_stops = [\"\"] # Definerer kontekstspecifikke stopord\n",
    "    default_stopwords = list(nlp.Defaults.stop_words) # Indlæser prædefineret stopordsliste\n",
    "    stop_words = default_stopwords + custom_stops # Danner samlet stopordsliste\n",
    "    \n",
    "    pos_tags = ['PROPN', 'ADJ', 'NOUN', 'VERB'] # Definerer POS-tags som skal bevares: egenavne, adjektiver og navneord\n",
    "\n",
    "    doc = nlp(text)\n",
    "\n",
    "    tokens = []\n",
    "\n",
    "    for word in doc: # Looper igennem hvert ord i tweet\n",
    "        if (len(word.lemma_) < 3): # Ord må ikke være mindre end 3 karakterer - går videre til næste ord, hvis det er\n",
    "            continue\n",
    "        if (word.pos_ in pos_tags) and (word.lemma_ not in stop_words): # Tjek at ordets POS-tag indgår i listen af accepterede tags og at ordet ikke er stopord\n",
    "            tokens.append(word.lemma_) # Tilføj ordets lemma til tokens, hvis if-betingelse er opfyldt\n",
    "                \n",
    "    return(tokens)\n",
    "\n",
    "tokenizer('Politiet har givet borgerne råd')"
   ]
  },
  {
   "cell_type": "code",
   "execution_count": 16,
   "id": "1d3ccbfd-aa23-4050-a707-9b76c2c372c0",
   "metadata": {
    "execution": {
     "iopub.execute_input": "2022-10-18T12:56:33.033256Z",
     "iopub.status.busy": "2022-10-18T12:56:33.032568Z",
     "iopub.status.idle": "2022-10-18T12:56:33.041034Z",
     "shell.execute_reply": "2022-10-18T12:56:33.039452Z",
     "shell.execute_reply.started": "2022-10-18T12:56:33.033198Z"
    },
    "tags": []
   },
   "outputs": [],
   "source": [
    "texts = ['Vi er utroligt beærede',\n",
    "         'Vi vil gerne dele prisen med alle',\n",
    "         'Det skal vi have gjort op med.']"
   ]
  },
  {
   "cell_type": "code",
   "execution_count": 17,
   "id": "b3123818-32f7-420b-a4ef-726e02b5ad31",
   "metadata": {
    "execution": {
     "iopub.execute_input": "2022-10-18T12:56:33.512172Z",
     "iopub.status.busy": "2022-10-18T12:56:33.511481Z",
     "iopub.status.idle": "2022-10-18T12:56:33.531428Z",
     "shell.execute_reply": "2022-10-18T12:56:33.530620Z",
     "shell.execute_reply.started": "2022-10-18T12:56:33.512114Z"
    },
    "tags": []
   },
   "outputs": [
    {
     "data": {
      "text/html": [
       "<div>\n",
       "<style scoped>\n",
       "    .dataframe tbody tr th:only-of-type {\n",
       "        vertical-align: middle;\n",
       "    }\n",
       "\n",
       "    .dataframe tbody tr th {\n",
       "        vertical-align: top;\n",
       "    }\n",
       "\n",
       "    .dataframe thead th {\n",
       "        text-align: right;\n",
       "    }\n",
       "</style>\n",
       "<table border=\"1\" class=\"dataframe\">\n",
       "  <thead>\n",
       "    <tr style=\"text-align: right;\">\n",
       "      <th></th>\n",
       "      <th>alle</th>\n",
       "      <th>beærede</th>\n",
       "      <th>dele</th>\n",
       "      <th>det</th>\n",
       "      <th>er</th>\n",
       "      <th>gerne</th>\n",
       "      <th>gjort</th>\n",
       "      <th>have</th>\n",
       "      <th>med</th>\n",
       "      <th>op</th>\n",
       "      <th>prisen</th>\n",
       "      <th>skal</th>\n",
       "      <th>utroligt</th>\n",
       "      <th>vi</th>\n",
       "      <th>vil</th>\n",
       "    </tr>\n",
       "  </thead>\n",
       "  <tbody>\n",
       "    <tr>\n",
       "      <th>0</th>\n",
       "      <td>0</td>\n",
       "      <td>1</td>\n",
       "      <td>0</td>\n",
       "      <td>0</td>\n",
       "      <td>1</td>\n",
       "      <td>0</td>\n",
       "      <td>0</td>\n",
       "      <td>0</td>\n",
       "      <td>0</td>\n",
       "      <td>0</td>\n",
       "      <td>0</td>\n",
       "      <td>0</td>\n",
       "      <td>1</td>\n",
       "      <td>1</td>\n",
       "      <td>0</td>\n",
       "    </tr>\n",
       "    <tr>\n",
       "      <th>1</th>\n",
       "      <td>1</td>\n",
       "      <td>0</td>\n",
       "      <td>1</td>\n",
       "      <td>0</td>\n",
       "      <td>0</td>\n",
       "      <td>1</td>\n",
       "      <td>0</td>\n",
       "      <td>0</td>\n",
       "      <td>1</td>\n",
       "      <td>0</td>\n",
       "      <td>1</td>\n",
       "      <td>0</td>\n",
       "      <td>0</td>\n",
       "      <td>1</td>\n",
       "      <td>1</td>\n",
       "    </tr>\n",
       "    <tr>\n",
       "      <th>2</th>\n",
       "      <td>0</td>\n",
       "      <td>0</td>\n",
       "      <td>0</td>\n",
       "      <td>1</td>\n",
       "      <td>0</td>\n",
       "      <td>0</td>\n",
       "      <td>1</td>\n",
       "      <td>1</td>\n",
       "      <td>1</td>\n",
       "      <td>1</td>\n",
       "      <td>0</td>\n",
       "      <td>1</td>\n",
       "      <td>0</td>\n",
       "      <td>1</td>\n",
       "      <td>0</td>\n",
       "    </tr>\n",
       "  </tbody>\n",
       "</table>\n",
       "</div>"
      ],
      "text/plain": [
       "   alle  beærede  dele  det  er  gerne  gjort  have  med  op  prisen  skal  \\\n",
       "0     0        1     0    0   1      0      0     0    0   0       0     0   \n",
       "1     1        0     1    0   0      1      0     0    1   0       1     0   \n",
       "2     0        0     0    1   0      0      1     1    1   1       0     1   \n",
       "\n",
       "   utroligt  vi  vil  \n",
       "0         1   1    0  \n",
       "1         0   1    1  \n",
       "2         0   1    0  "
      ]
     },
     "execution_count": 17,
     "metadata": {},
     "output_type": "execute_result"
    }
   ],
   "source": [
    "import pandas as pd\n",
    "from sklearn.feature_extraction.text import CountVectorizer\n",
    "\n",
    "vectorizer = CountVectorizer() # dan vectorizerfunktion\n",
    "transformed_documents = vectorizer.fit_transform(texts) # brug vectorizer på tekster\n",
    "\n",
    "# Konverter fittet vectorizer til array\n",
    "transformed_documents_as_array = transformed_documents.toarray()\n",
    "\n",
    "# Konverter til data frame\n",
    "count_df = pd.DataFrame(transformed_documents_as_array, columns = vectorizer.get_feature_names_out())\n",
    "\n",
    "count_df"
   ]
  },
  {
   "cell_type": "code",
   "execution_count": 18,
   "id": "d90e4552-b58f-4ec6-93c7-24495cd7bd9d",
   "metadata": {
    "execution": {
     "iopub.execute_input": "2022-10-18T12:56:33.680311Z",
     "iopub.status.busy": "2022-10-18T12:56:33.680050Z",
     "iopub.status.idle": "2022-10-18T12:56:33.697354Z",
     "shell.execute_reply": "2022-10-18T12:56:33.696601Z",
     "shell.execute_reply.started": "2022-10-18T12:56:33.680289Z"
    },
    "tags": []
   },
   "outputs": [
    {
     "data": {
      "text/html": [
       "<div>\n",
       "<style scoped>\n",
       "    .dataframe tbody tr th:only-of-type {\n",
       "        vertical-align: middle;\n",
       "    }\n",
       "\n",
       "    .dataframe tbody tr th {\n",
       "        vertical-align: top;\n",
       "    }\n",
       "\n",
       "    .dataframe thead th {\n",
       "        text-align: right;\n",
       "    }\n",
       "</style>\n",
       "<table border=\"1\" class=\"dataframe\">\n",
       "  <thead>\n",
       "    <tr style=\"text-align: right;\">\n",
       "      <th></th>\n",
       "      <th>alle</th>\n",
       "      <th>beærede</th>\n",
       "      <th>dele</th>\n",
       "      <th>det</th>\n",
       "      <th>er</th>\n",
       "      <th>gerne</th>\n",
       "      <th>gjort</th>\n",
       "      <th>have</th>\n",
       "      <th>med</th>\n",
       "      <th>op</th>\n",
       "      <th>prisen</th>\n",
       "      <th>skal</th>\n",
       "      <th>utroligt</th>\n",
       "      <th>vi</th>\n",
       "      <th>vil</th>\n",
       "    </tr>\n",
       "  </thead>\n",
       "  <tbody>\n",
       "    <tr>\n",
       "      <th>0</th>\n",
       "      <td>0.000000</td>\n",
       "      <td>0.546454</td>\n",
       "      <td>0.000000</td>\n",
       "      <td>0.000000</td>\n",
       "      <td>0.546454</td>\n",
       "      <td>0.000000</td>\n",
       "      <td>0.000000</td>\n",
       "      <td>0.000000</td>\n",
       "      <td>0.000000</td>\n",
       "      <td>0.000000</td>\n",
       "      <td>0.000000</td>\n",
       "      <td>0.000000</td>\n",
       "      <td>0.546454</td>\n",
       "      <td>0.322745</td>\n",
       "      <td>0.000000</td>\n",
       "    </tr>\n",
       "    <tr>\n",
       "      <th>1</th>\n",
       "      <td>0.410747</td>\n",
       "      <td>0.000000</td>\n",
       "      <td>0.410747</td>\n",
       "      <td>0.000000</td>\n",
       "      <td>0.000000</td>\n",
       "      <td>0.410747</td>\n",
       "      <td>0.000000</td>\n",
       "      <td>0.000000</td>\n",
       "      <td>0.312384</td>\n",
       "      <td>0.000000</td>\n",
       "      <td>0.410747</td>\n",
       "      <td>0.000000</td>\n",
       "      <td>0.000000</td>\n",
       "      <td>0.242594</td>\n",
       "      <td>0.410747</td>\n",
       "    </tr>\n",
       "    <tr>\n",
       "      <th>2</th>\n",
       "      <td>0.000000</td>\n",
       "      <td>0.000000</td>\n",
       "      <td>0.000000</td>\n",
       "      <td>0.410747</td>\n",
       "      <td>0.000000</td>\n",
       "      <td>0.000000</td>\n",
       "      <td>0.410747</td>\n",
       "      <td>0.410747</td>\n",
       "      <td>0.312384</td>\n",
       "      <td>0.410747</td>\n",
       "      <td>0.000000</td>\n",
       "      <td>0.410747</td>\n",
       "      <td>0.000000</td>\n",
       "      <td>0.242594</td>\n",
       "      <td>0.000000</td>\n",
       "    </tr>\n",
       "  </tbody>\n",
       "</table>\n",
       "</div>"
      ],
      "text/plain": [
       "       alle   beærede      dele       det        er     gerne     gjort  \\\n",
       "0  0.000000  0.546454  0.000000  0.000000  0.546454  0.000000  0.000000   \n",
       "1  0.410747  0.000000  0.410747  0.000000  0.000000  0.410747  0.000000   \n",
       "2  0.000000  0.000000  0.000000  0.410747  0.000000  0.000000  0.410747   \n",
       "\n",
       "       have       med        op    prisen      skal  utroligt        vi  \\\n",
       "0  0.000000  0.000000  0.000000  0.000000  0.000000  0.546454  0.322745   \n",
       "1  0.000000  0.312384  0.000000  0.410747  0.000000  0.000000  0.242594   \n",
       "2  0.410747  0.312384  0.410747  0.000000  0.410747  0.000000  0.242594   \n",
       "\n",
       "        vil  \n",
       "0  0.000000  \n",
       "1  0.410747  \n",
       "2  0.000000  "
      ]
     },
     "execution_count": 18,
     "metadata": {},
     "output_type": "execute_result"
    }
   ],
   "source": [
    "from sklearn.feature_extraction.text import TfidfVectorizer\n",
    "\n",
    "vectorizer = TfidfVectorizer() # dan vectorizerfunktion\n",
    "transformed_documents = vectorizer.fit_transform(texts) # brug vectorizer på tekster\n",
    "\n",
    "# Konverter fittet vectorizer til array\n",
    "transformed_documents_as_array = transformed_documents.toarray()\n",
    "\n",
    "# Konverter til data frame\n",
    "tfidf_df = pd.DataFrame(transformed_documents_as_array, columns = vectorizer.get_feature_names_out())\n",
    "\n",
    "tfidf_df"
   ]
  },
  {
   "cell_type": "code",
   "execution_count": 19,
   "id": "b4767832-4c67-48b0-b0a7-887d99a65d91",
   "metadata": {
    "execution": {
     "iopub.execute_input": "2022-10-18T12:56:33.809239Z",
     "iopub.status.busy": "2022-10-18T12:56:33.808642Z",
     "iopub.status.idle": "2022-10-18T12:56:33.847273Z",
     "shell.execute_reply": "2022-10-18T12:56:33.846533Z",
     "shell.execute_reply.started": "2022-10-18T12:56:33.809187Z"
    },
    "tags": []
   },
   "outputs": [
    {
     "data": {
      "text/html": [
       "<div>\n",
       "<style scoped>\n",
       "    .dataframe tbody tr th:only-of-type {\n",
       "        vertical-align: middle;\n",
       "    }\n",
       "\n",
       "    .dataframe tbody tr th {\n",
       "        vertical-align: top;\n",
       "    }\n",
       "\n",
       "    .dataframe thead th {\n",
       "        text-align: right;\n",
       "    }\n",
       "</style>\n",
       "<table border=\"1\" class=\"dataframe\">\n",
       "  <thead>\n",
       "    <tr style=\"text-align: right;\">\n",
       "      <th></th>\n",
       "      <th>beære</th>\n",
       "      <th>dele</th>\n",
       "      <th>pris</th>\n",
       "    </tr>\n",
       "  </thead>\n",
       "  <tbody>\n",
       "    <tr>\n",
       "      <th>0</th>\n",
       "      <td>1.0</td>\n",
       "      <td>0.000000</td>\n",
       "      <td>0.000000</td>\n",
       "    </tr>\n",
       "    <tr>\n",
       "      <th>1</th>\n",
       "      <td>0.0</td>\n",
       "      <td>0.707107</td>\n",
       "      <td>0.707107</td>\n",
       "    </tr>\n",
       "    <tr>\n",
       "      <th>2</th>\n",
       "      <td>0.0</td>\n",
       "      <td>0.000000</td>\n",
       "      <td>0.000000</td>\n",
       "    </tr>\n",
       "  </tbody>\n",
       "</table>\n",
       "</div>"
      ],
      "text/plain": [
       "   beære      dele      pris\n",
       "0    1.0  0.000000  0.000000\n",
       "1    0.0  0.707107  0.707107\n",
       "2    0.0  0.000000  0.000000"
      ]
     },
     "execution_count": 19,
     "metadata": {},
     "output_type": "execute_result"
    }
   ],
   "source": [
    "from sklearn.feature_extraction.text import TfidfVectorizer\n",
    "\n",
    "vectorizer = TfidfVectorizer(tokenizer = tokenizer) # dan vectorizerfunktion med egen tokenizer\n",
    "transformed_documents = vectorizer.fit_transform(texts) # brug vectorizer på tekster\n",
    "\n",
    "# Konverter fittet vectorizer til array\n",
    "transformed_documents_as_array = transformed_documents.toarray()\n",
    "\n",
    "# Konverter til data frame\n",
    "tfidf_df = pd.DataFrame(transformed_documents_as_array, columns = vectorizer.get_feature_names_out())\n",
    "\n",
    "tfidf_df"
   ]
  }
 ],
 "metadata": {
  "kernelspec": {
   "display_name": "Python 3 ",
   "language": "python",
   "name": "python3"
  },
  "language_info": {
   "codemirror_mode": {
    "name": "ipython",
    "version": 3
   },
   "file_extension": ".py",
   "mimetype": "text/x-python",
   "name": "python",
   "nbconvert_exporter": "python",
   "pygments_lexer": "ipython3",
   "version": "3.10.6"
  }
 },
 "nbformat": 4,
 "nbformat_minor": 5
}
