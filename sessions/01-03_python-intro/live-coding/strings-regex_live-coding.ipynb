{
 "cells": [
  {
   "cell_type": "markdown",
   "id": "6eac1bcf-303c-4b10-b4b5-6cfa7b1d8d35",
   "metadata": {
    "tags": []
   },
   "source": [
    "# String metoder i Python (live coding)"
   ]
  },
  {
   "cell_type": "markdown",
   "id": "40d8ea8b-b836-47e3-9818-14e9e640bd17",
   "metadata": {},
   "source": [
    "## String metoder\n",
    "\n",
    "En tekstværdi kaldes en \"string\" inden for programmeringssprog. For at arbejde med tekst, er det relevant at vide, hvordan Python arbejder med enkelte tekstværdier.\n",
    "\n",
    "Vi ser herunder nærmere på indbyggede string-metoder i Python\n"
   ]
  },
  {
   "cell_type": "code",
   "execution_count": null,
   "id": "08b09bbe-8532-4b7d-bf4b-e27bae0b6b8b",
   "metadata": {},
   "outputs": [],
   "source": [
    "text = \"\"\"Der var tre drenge, der skulle ud i skoven. Den ene hed Jakob; de to andre hed Finn. \n",
    "så blev den ene Finn væk, så Jakob sagde til den anden Finn: \"Finn find, Finn\".\n",
    "Finn kiggede mærkelig på Jakob og sagde: 'Jakob Jakob Jakob'.\"\"\"\n",
    "\n",
    "print(text)"
   ]
  },
  {
   "cell_type": "code",
   "execution_count": null,
   "id": "29c52c14-6c2f-4f08-9b70-935a64902ce4",
   "metadata": {},
   "outputs": [],
   "source": [
    "type(text)"
   ]
  },
  {
   "cell_type": "code",
   "execution_count": null,
   "id": "3a9b99fa-a761-438f-9213-b47f9e06e53a",
   "metadata": {},
   "outputs": [],
   "source": [
    "text.startswith(\"Der\")"
   ]
  },
  {
   "cell_type": "code",
   "execution_count": null,
   "id": "c6cf3443-ca19-4d10-b841-ecb1cb4ced26",
   "metadata": {},
   "outputs": [],
   "source": [
    "text.endswith(\".\")"
   ]
  },
  {
   "cell_type": "code",
   "execution_count": null,
   "id": "6447a522-a875-4572-820d-df605707b6e2",
   "metadata": {},
   "outputs": [],
   "source": [
    "\"Finn\" in text"
   ]
  },
  {
   "cell_type": "code",
   "execution_count": null,
   "id": "819d47df-a8ef-4939-86b9-eba3966582b9",
   "metadata": {},
   "outputs": [],
   "source": [
    "\"finn\" in text # findes ikke, da \"Finn\" står med stort"
   ]
  },
  {
   "cell_type": "code",
   "execution_count": null,
   "id": "ac32d78c-2582-4e5c-bf9d-437f1edc241b",
   "metadata": {},
   "outputs": [],
   "source": [
    "\"finn\" in text.lower()"
   ]
  },
  {
   "cell_type": "code",
   "execution_count": null,
   "id": "af89571b-c769-4358-b47e-6cb95a2bc89a",
   "metadata": {},
   "outputs": [],
   "source": [
    "print(text.upper())"
   ]
  },
  {
   "cell_type": "markdown",
   "id": "f887d9c0-d7a4-4dbf-81b4-9f336711df72",
   "metadata": {},
   "source": [
    "## String metoder i pandas\n",
    "\n",
    "Mange string metoder kan anvendes på pandas series - ofte ved at tilføje `.str`"
   ]
  },
  {
   "cell_type": "code",
   "execution_count": null,
   "id": "fab976a8-209c-45d9-858f-7c636e5e387c",
   "metadata": {},
   "outputs": [],
   "source": [
    "eurob = pd.read_csv(data_path)\n",
    "eurob['d15a'].head()"
   ]
  },
  {
   "cell_type": "code",
   "execution_count": null,
   "id": "3c70077d-d919-48cb-b235-08cf66b9f1cd",
   "metadata": {},
   "outputs": [],
   "source": [
    "eurob['d15a'].str.startswith(\"Retired\").head()"
   ]
  },
  {
   "cell_type": "code",
   "execution_count": null,
   "id": "f93afae3-d3ef-498e-834e-7eccdd587835",
   "metadata": {},
   "outputs": [],
   "source": [
    "eurob['d15a'].str.startswith(\"Retired\").sum() # Hvor mange svar starter med \"Retired\"?"
   ]
  },
  {
   "cell_type": "markdown",
   "id": "bed05219-d4fb-484e-94e8-962c18364fc4",
   "metadata": {},
   "source": [
    "`str.contains()` på en pandas series svarer til at bruge `in` på en string."
   ]
  },
  {
   "cell_type": "code",
   "execution_count": null,
   "id": "7691dcff-90f8-4ec1-9c0f-aa23b4323182",
   "metadata": {},
   "outputs": [],
   "source": [
    "eurob['d15a'].str.contains(\"work\").sum() # Hvor mange svar indeholder \"work\"?"
   ]
  },
  {
   "cell_type": "markdown",
   "id": "a4adebad-1d9a-48ec-a7ce-a071351a3a99",
   "metadata": {},
   "source": [
    "Fordi metoder som `str.startswith()` og `str.contains()` returnerer logiske værdier (`True`/`False`), så kan de bruges til subsetting."
   ]
  },
  {
   "cell_type": "code",
   "execution_count": null,
   "id": "652d90b5-0224-42b4-ae48-ea90e449daef",
   "metadata": {},
   "outputs": [],
   "source": [
    "eurob_work = eurob.loc[eurob['d15a'].str.contains(\"work\"), :]\n",
    "eurob_work.head()"
   ]
  },
  {
   "cell_type": "markdown",
   "id": "380c4c05-94b3-4396-bb35-db9cebd66144",
   "metadata": {
    "tags": []
   },
   "source": [
    "# Regular expressions i Python (live coding)"
   ]
  },
  {
   "cell_type": "markdown",
   "id": "4e3659e6-8550-407c-bc74-f18fd1acff8d",
   "metadata": {},
   "source": [
    "## `re` modulet\n",
    "\n",
    "For at arbejde med regular expressions, bruges typisk `re` modulet.\n",
    "\n",
    "Man danner først regular expression mønster med `re.compile()`. Derefter kan man foretage søgninger i tekst via indbyggede metoder i den dannede regular expression (regex)."
   ]
  },
  {
   "cell_type": "code",
   "execution_count": null,
   "id": "3f0fd944-233e-4a4a-8e40-33b4004fdb99",
   "metadata": {},
   "outputs": [],
   "source": [
    "import re\n",
    "\n",
    "pattern = re.compile(\"[A-Z]\\w+\\s\\w+.?\\s([A-Z]\\w+)\")\n",
    "\n",
    "pattern.search(text)"
   ]
  },
  {
   "cell_type": "markdown",
   "id": "fbfd39a1-0aff-44e4-baa3-1f62b23de490",
   "metadata": {},
   "source": [
    "Matches i *groups* tilgås via `.group()`\n",
    "- `group(0)`: hele matchet\n",
    "- `group(1)`: match i første gruppe"
   ]
  },
  {
   "cell_type": "code",
   "execution_count": null,
   "id": "d145b7fe-59c3-42c2-be4b-401da28c5393",
   "metadata": {},
   "outputs": [],
   "source": [
    "pattern.search(text).group(1)"
   ]
  },
  {
   "cell_type": "markdown",
   "id": "df38d82d-228f-4ff7-b912-6ce9eafed4eb",
   "metadata": {},
   "source": [
    "## Regular expressions i pandas\n",
    "\n",
    "Pandas understøtter regular expressions i flere metoder - bl.a. med `str.contains()`"
   ]
  },
  {
   "cell_type": "code",
   "execution_count": null,
   "id": "4a02352f-5058-468c-af6b-0c40b2dbdbf3",
   "metadata": {},
   "outputs": [],
   "source": [
    "pattern = re.compile(\"work|retired\", re.IGNORECASE)\n",
    "\n",
    "eurob['d15a'].head()"
   ]
  },
  {
   "cell_type": "code",
   "execution_count": null,
   "id": "461bf781-8d60-44ce-bb30-418a1f7c8516",
   "metadata": {},
   "outputs": [],
   "source": [
    "eurob['d15a'].str.contains(pattern, regex = True).head()"
   ]
  },
  {
   "cell_type": "markdown",
   "id": "7e562148-65c4-4682-96db-0df9dcd07b96",
   "metadata": {
    "tags": []
   },
   "source": [
    "# Arbejd med længere tekster i Python (live-coding)"
   ]
  },
  {
   "cell_type": "markdown",
   "id": "e60315ab-9f2e-46de-bbee-7919531a39a9",
   "metadata": {},
   "source": [
    "## Arbejd med længere tekster\n",
    "\n",
    "Der er principielt ingen grænse for, hvor lang én string kan være (udover den begrænsning computerens harware sætter).\n",
    "\n",
    "Når man arbejder med hele tekster, vil disse ikke have en givet datastruktur i forvejen. Derfor er man nødt til at arbejde med dem som hele strings og derfra evt. udlede visse informationer, som kan sættes i struktur."
   ]
  },
  {
   "cell_type": "code",
   "execution_count": null,
   "id": "d3b39ac3-8d4b-40f1-827f-f6a0d4d7218c",
   "metadata": {},
   "outputs": [],
   "source": [
    "# Indlæser referat fra møde i Folketingssalen (fra 25. august 2022)\n",
    "\n",
    "parl_dir = os.path.join(data_dir, 'dk_parl')\n",
    "filename = 'dkpark_125_20220825.txt'\n",
    "filepath = os.path.join(parl_dir, filename)\n",
    "\n",
    "with open(filepath, 'r') as f:\n",
    "    parl_ref = f.read()"
   ]
  },
  {
   "cell_type": "markdown",
   "id": "240a109f-68ff-4319-a419-df56435fc6a1",
   "metadata": {},
   "source": [
    "### Brug af regular expressions på længere tekster\n",
    "\n",
    "Regular expressions virker uanset længden af en string. Det er derfor oplagt at bruge disse til at udlede information fra tekst."
   ]
  },
  {
   "cell_type": "code",
   "execution_count": null,
   "id": "a6e5027c-c917-49b4-95b5-27c37d926b9d",
   "metadata": {},
   "outputs": [],
   "source": [
    "import re\n",
    "\n",
    "names_pattern = re.compile('[A-Z]\\w+\\s(?:[A-Z]\\w+\\s)?[A-Z]\\w+')\n",
    "\n",
    "names_pattern.findall(parl_ref)[0:5]"
   ]
  },
  {
   "cell_type": "code",
   "execution_count": null,
   "id": "3b0655a9-ac0d-4104-a9b4-9fdaef1ce7f5",
   "metadata": {},
   "outputs": [],
   "source": [
    "money_pattern = re.compile('\\d{1,3}\\.?(?:\\d{1,3})?\\.?(?:\\d{1,3})?\\skr\\.?')\n",
    "\n",
    "money_pattern.findall(parl_ref)"
   ]
  }
 ],
 "metadata": {
  "kernelspec": {
   "display_name": "Python 3 (ipykernel)",
   "language": "python",
   "name": "python3"
  },
  "language_info": {
   "codemirror_mode": {
    "name": "ipython",
    "version": 3
   },
   "file_extension": ".py",
   "mimetype": "text/x-python",
   "name": "python",
   "nbconvert_exporter": "python",
   "pygments_lexer": "ipython3",
   "version": "3.12.3"
  }
 },
 "nbformat": 4,
 "nbformat_minor": 5
}
