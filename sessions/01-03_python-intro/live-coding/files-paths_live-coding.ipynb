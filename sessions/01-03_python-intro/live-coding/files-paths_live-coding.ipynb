{
 "cells": [
  {
   "cell_type": "markdown",
   "id": "4d974c8d-aa21-4f80-9938-055e4b1b2bd8",
   "metadata": {
    "tags": []
   },
   "source": [
    "# Indlæsning af tekstfiler i Python (live coding)"
   ]
  },
  {
   "cell_type": "markdown",
   "id": "13c85477-b7d8-417e-b8a7-d2341ddc9376",
   "metadata": {},
   "source": [
    "## Navigér i filsystemer med `os` \n",
    "\n",
    "`os` modulet tillader (blandt andet) at man kan navigere rundt i filsystemer (os: operating system).\n",
    "\n",
    "Fx kan man tjekke ens nuværende arbejdssti:"
   ]
  },
  {
   "cell_type": "code",
   "execution_count": null,
   "id": "eaa126bd-f3e1-429f-b71e-d246dcf65ab3",
   "metadata": {},
   "outputs": [],
   "source": [
    "import os\n",
    "\n",
    "os.getcwd()"
   ]
  },
  {
   "cell_type": "markdown",
   "id": "8e35f6ef-3abd-4a5d-b8dc-5adab555b625",
   "metadata": {},
   "source": [
    "### Filstier med `os`\n",
    "\n",
    "Filstier i Python er i princippet blot strings. Hvis en funktion forventer en filsti, kan denne blot angives som en string.\n",
    "\n",
    "Alternativt kan man også danne stier med `os.path.join()`."
   ]
  },
  {
   "cell_type": "code",
   "execution_count": null,
   "id": "72370fe8-73be-419a-85b7-abe7d3e5df76",
   "metadata": {},
   "outputs": [],
   "source": [
    "data_dir = os.path.join('..', '..', '..', 'data') # danner sti til datamappe\n",
    "\n",
    "filename = 'soaf_characters.txt'\n",
    "\n",
    "filepath = os.path.join(data_dir, filename)"
   ]
  },
  {
   "cell_type": "markdown",
   "id": "e06ad8c7-ef23-4557-92fc-0a6356b9d72a",
   "metadata": {},
   "source": [
    "## Åben filer med `open`\n",
    "\n",
    "`open` modulet bruges til at åbne tekstfiler i Python. Man kan både skrive og læse tekstfiler gennem `open`.\n",
    "- `'r'`-arugment: læserettighed\n",
    "- `'w'`-argument: skriverettighed"
   ]
  },
  {
   "cell_type": "code",
   "execution_count": null,
   "id": "1b558923-5c6c-44cf-a105-e2e6e3241002",
   "metadata": {},
   "outputs": [],
   "source": [
    "with open(filepath, 'r') as f:\n",
    "    soaf_text = f.read()"
   ]
  },
  {
   "cell_type": "markdown",
   "id": "b63e5c31-07f4-4159-a9e7-7b950e6f4791",
   "metadata": {},
   "source": [
    "### Fra tekst til datastruktur\n",
    "\n",
    "Ved at læse en tekstfil ind gennem `.read()` får man blot hele teksten som én lang string. Hvis datafilen har en eller anden struktur, som man kan drage nytte af, må man selv specificerer det, for at tvinge data om til den rigtige struktur."
   ]
  },
  {
   "cell_type": "code",
   "execution_count": null,
   "id": "80d401b7-5938-492c-8447-1cd1af95cb74",
   "metadata": {},
   "outputs": [],
   "source": [
    "soaf_text[0:100]"
   ]
  },
  {
   "cell_type": "markdown",
   "id": "ab9cb757-73ef-4927-a5c5-93deb6e1abaa",
   "metadata": {},
   "source": [
    "I \"soaf_characters.txt\" filen er hver karakter adskilt med linjeskift. `.split()` metoden kan derfor bruges til at omdanne til en liste:"
   ]
  },
  {
   "cell_type": "code",
   "execution_count": null,
   "id": "b7baa970-2235-48ce-86df-2848a6ee6e8c",
   "metadata": {},
   "outputs": [],
   "source": [
    "soaf_char = soaf_text.split('\\n')"
   ]
  },
  {
   "cell_type": "code",
   "execution_count": null,
   "id": "6c92eb26-1623-415d-ba13-d72269154c41",
   "metadata": {},
   "outputs": [],
   "source": [
    "soaf_char[0:5]"
   ]
  }
 ],
 "metadata": {
  "kernelspec": {
   "display_name": "Python 3 (ipykernel)",
   "language": "python",
   "name": "python3"
  },
  "language_info": {
   "codemirror_mode": {
    "name": "ipython",
    "version": 3
   },
   "file_extension": ".py",
   "mimetype": "text/x-python",
   "name": "python",
   "nbconvert_exporter": "python",
   "pygments_lexer": "ipython3",
   "version": "3.12.3"
  }
 },
 "nbformat": 4,
 "nbformat_minor": 5
}
