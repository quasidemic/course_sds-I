{
 "cells": [
  {
   "cell_type": "markdown",
   "id": "74324c56-90ae-4089-9f06-07b0f4a38a58",
   "metadata": {
    "editable": true,
    "jp-MarkdownHeadingCollapsed": true,
    "slideshow": {
     "slide_type": ""
    },
    "tags": []
   },
   "source": [
    "# Introduktion til pandas data frames (live coding)"
   ]
  },
  {
   "cell_type": "markdown",
   "id": "0ef9f08a-287f-4dd6-b638-e6dfdeffa343",
   "metadata": {
    "tags": []
   },
   "source": [
    "Pakken `pandas` (https://pandas.pydata.org/) er et Python bibliotek til datahåndtering og dataanalyse. Pandas egner sig særligt til data i tabeller struktureret i rækker og kolonner. En datatabel kaldes inden for pandas en \"DataFrame\"; et bestemt Python objekt specifikt til at lagre og bearbejde data i tabeller.\n",
    "\n",
    "Denne lektion gennemgår diverse basale funktioner til at indlæse, udforske og håndtere en pandas data frame. Se også den officielle dokumentation for flere guides, introduktioner og beskrivelser til at arbejde med pandas: https://pandas.pydata.org/docs/\n",
    "\n",
    "## Indlæs data med `pandas`\n",
    "\n",
    "`pandas` pakken indeholder funktioner til at indlæse data i forskellige formater; herunder CSV, JSON, Excel, Stata, SAS osv.\n",
    "\n",
    "I det nedenstående indlæses pandas biblioteket, hvorefter datasættet \"eurobarometer-96_dk_subset.csv\" indlæses."
   ]
  },
  {
   "cell_type": "code",
   "execution_count": null,
   "id": "e87ec74c-6b55-45e1-b794-36d0d2ac0518",
   "metadata": {},
   "outputs": [],
   "source": [
    "import pandas as pd\n",
    "\n",
    "eurob = pd.read_csv(\"\")"
   ]
  },
  {
   "cell_type": "markdown",
   "id": "600bc931-e7e4-4892-9ebd-05121a66a58a",
   "metadata": {},
   "source": [
    "*Bemærk importkonventionerne for `pandas`. `pandas` typisk som `pd`.*\n",
    "\n",
    "**Navngivning af datasæt**\n",
    "\n",
    "Der er forskellige præferencer og holdninger til, hvordan man bør navngive sine objekter. \n",
    "\n",
    "Som hovedregel bør man gå efter navne, som både er relativt korte (man kan ende med at skulle skrive det mange gange) og som er sigende for, hvad objektet indeholder.\n",
    "\n",
    "Dog kan man også argumentere for at navngive meget generisk, sådan at ens kode kan anvendes på andet data."
   ]
  },
  {
   "cell_type": "markdown",
   "id": "5ae2de1d-dbb5-41eb-8ac6-8eae152ecf4e",
   "metadata": {},
   "source": [
    "### Om datasættet\n",
    "Datasættet, som indlæses her, er et uddrag af datasættet fra Eurobarometer 96.1 fra 2021 (https://search.gesis.org/research_data/ZA7846).\n",
    "\n",
    "Eurobarometer er en gentaget holdningsundersøgelse, der både indeholder standardrunder og \"specialrunder\", hvor der sættes fokus på specifikke temaer. I Eurobarometer 96.1 sættes bl.a. fokus på \"Future of Europe, and Digital rights and principles \". I dette uddrag er der kun inkluderet de danske respondenter og et mindre udpluk variable.\n",
    "\n",
    "I kan finde en variabel-beskrivelse i fællesmappen på UCloud under mappen \"doc\": `varlist_eurobarometer-96_dk_subset.pdf`."
   ]
  },
  {
   "cell_type": "markdown",
   "id": "b789c5e9-ee9a-4da0-b231-a75492bbe4f0",
   "metadata": {},
   "source": [
    "## Inspicer data med `pandas`\n",
    "\n",
    "Datasættet er nu indlæst som et dataframe objekt i Python, som man kan interagere med. \n",
    "\n",
    "Metoden `.head()` printer de første fem rækker af datasættet:"
   ]
  },
  {
   "cell_type": "code",
   "execution_count": null,
   "id": "8479e135-5469-40b0-b6d3-44df86bdca59",
   "metadata": {},
   "outputs": [],
   "source": [
    "eurob.head()"
   ]
  },
  {
   "cell_type": "markdown",
   "id": "c5dd2e92-0ef4-48a1-bea7-c0ef9f873cfb",
   "metadata": {},
   "source": [
    "Dataframes er et tabulært dataformat. Når en fil indlæses som en pandas dataframe, skal filen derfor være i et format, der kan konverteres til tabelformat (data i rækker og kolonner).\n",
    "\n",
    "I dette datasæt udgør observationerne (rækkerne) enkeltpersoner, som har besvaret spørgeskemaet. De enkelte kolonner indeholder oplysninger om de enkelte personer. "
   ]
  },
  {
   "cell_type": "markdown",
   "id": "5a120701-b054-4463-b933-b3ed5437cc46",
   "metadata": {},
   "source": [
    "### Kolonner/variable \n",
    "\n",
    "En dataframe består af en samling af kolonner. En kolonne i en dataframe kaldes en `series`.\n",
    "\n",
    "Navnene på kolonnerne, som en dataframe indeholder, kan ses af attributen `.columns`:"
   ]
  },
  {
   "cell_type": "code",
   "execution_count": null,
   "id": "fc43052d-0f00-4440-ae4d-b9bc5e1c626f",
   "metadata": {},
   "outputs": [],
   "source": [
    "eurob.columns"
   ]
  },
  {
   "cell_type": "markdown",
   "id": "5a799051-7004-4efe-be9b-fa90befbc811",
   "metadata": {},
   "source": [
    "## Inspicer variable\n",
    "\n",
    "En enkelt variabel/kolonne i datasættet referes til med `[]`:"
   ]
  },
  {
   "cell_type": "code",
   "execution_count": null,
   "id": "aed06ab5-a402-4856-bc74-13f30f3b2716",
   "metadata": {},
   "outputs": [],
   "source": [
    "eurob['polintr'].head()"
   ]
  },
  {
   "cell_type": "markdown",
   "id": "b1a721d9-9ec0-4a16-b3d8-677918f3de99",
   "metadata": {},
   "source": [
    "Vi kan bruge en metode som `.value_counts()` til at optælle værdierne inden for én kolonne:"
   ]
  },
  {
   "cell_type": "code",
   "execution_count": null,
   "id": "4326db6c-9cf9-4dda-adf0-2cff6fabd910",
   "metadata": {},
   "outputs": [],
   "source": [
    "eurob['polintr'].value_counts()"
   ]
  },
  {
   "cell_type": "markdown",
   "id": "cee940a7-2e70-43df-9b7d-948fd496b5c9",
   "metadata": {
    "editable": true,
    "jp-MarkdownHeadingCollapsed": true,
    "slideshow": {
     "slide_type": ""
    },
    "tags": []
   },
   "source": [
    "# Udforskning af data (live coding)"
   ]
  },
  {
   "cell_type": "markdown",
   "id": "4a4e8774-9fb3-42c1-9c8a-6bd2d4f00e60",
   "metadata": {},
   "source": [
    "## Visualisering med `pandas`\n",
    "\n",
    "`pandas` dataframes har en række indbyggede metoder til at plotte enkelte variable. "
   ]
  },
  {
   "cell_type": "markdown",
   "id": "c33d651c-a2fa-4794-87ba-2e2ad28a3c2e",
   "metadata": {},
   "source": [
    "Vi kan fx bruge metoden `.plot.hist()` til at lave et histogram:"
   ]
  },
  {
   "cell_type": "code",
   "execution_count": null,
   "id": "5570af2d-27e4-4450-8eb8-7479bd04c590",
   "metadata": {},
   "outputs": [],
   "source": [
    "eurob['d11_num'] = pd.to_numeric(eurob['d11'], errors = \"coerce\")\n",
    "\n",
    "eurob['d11_num'].plot.hist(bins = 30)"
   ]
  },
  {
   "cell_type": "markdown",
   "id": "03ba7dc4-4d8a-4e61-bdd5-85e5df62c1ce",
   "metadata": {},
   "source": [
    "`.plot.bar()` kan bruges til at lave søjlediagrammer over optællinger fra `.value_counts()` :"
   ]
  },
  {
   "cell_type": "code",
   "execution_count": null,
   "id": "321d15f5-48b0-4209-a663-0b932d922a1e",
   "metadata": {},
   "outputs": [],
   "source": [
    "eurob['polintr'].value_counts().plot.bar()"
   ]
  },
  {
   "cell_type": "markdown",
   "id": "e655b1cf-79df-4ee9-a080-8eb37375895f",
   "metadata": {
    "editable": true,
    "slideshow": {
     "slide_type": ""
    },
    "tags": []
   },
   "source": [
    "## Deskriptive mål\n",
    "\n",
    "Metoden `.describe()` danner deskriptive mål for alle (kompatible) variable i datasættet:"
   ]
  },
  {
   "cell_type": "code",
   "execution_count": null,
   "id": "18a19ba7-0ef3-44dd-8076-319f007625c9",
   "metadata": {
    "editable": true,
    "slideshow": {
     "slide_type": ""
    },
    "tags": []
   },
   "outputs": [],
   "source": [
    "eurob.describe()"
   ]
  },
  {
   "cell_type": "markdown",
   "id": "839da735-83e7-48d7-8d89-93ca521ca6ed",
   "metadata": {},
   "source": [
    "Metoden fungerer også på enkeltvariable:"
   ]
  },
  {
   "cell_type": "code",
   "execution_count": null,
   "id": "1e4dc5b6-6280-4382-b156-5e1efca64305",
   "metadata": {},
   "outputs": [],
   "source": [
    "eurob['d11_num'].describe()"
   ]
  },
  {
   "cell_type": "markdown",
   "id": "8c9011a8-f2e9-4e97-9ac5-39da787bfbe7",
   "metadata": {},
   "source": [
    "`.describe()` danner følgende mål:\n",
    "- `count`: Antal svar ekskl. missing\n",
    "- `mean`: Middelværdien\n",
    "- `std`: Standardafvigelsen\n",
    "- `min`: Minimumværdien\n",
    "- `25%`: 1. kvartil\n",
    "- `50%`: 2. kvartil\n",
    "- `75%`: 3. kvartil\n",
    "- `max`: Maksimumværdien"
   ]
  },
  {
   "cell_type": "markdown",
   "id": "57411b00-859d-4fe3-8a33-9d4c6b03cb2f",
   "metadata": {},
   "source": [
    "Der knytter sig også en række metoder til at danne de enkelte deskriptive mål.\n",
    "\n",
    "Herunder printes fx middelværdien, standardafvigelsen, minimums- og maksimumsværdien for variablen `weight`:"
   ]
  },
  {
   "cell_type": "code",
   "execution_count": null,
   "id": "a2078cc3-d904-4d19-9f3d-88b5bd01121f",
   "metadata": {
    "editable": true,
    "slideshow": {
     "slide_type": ""
    },
    "tags": []
   },
   "outputs": [],
   "source": [
    "print(eurob['d11_num'].mean())\n",
    "print(eurob['d11_num'].std())\n",
    "print(eurob['d11_num'].min())\n",
    "print(eurob['d11_num'].max())"
   ]
  },
  {
   "cell_type": "markdown",
   "id": "9acfd873-2f81-4427-a45f-f14e50476ad8",
   "metadata": {
    "editable": true,
    "slideshow": {
     "slide_type": "slide"
    },
    "tags": []
   },
   "source": [
    "## Split-apply-combine"
   ]
  },
  {
   "cell_type": "markdown",
   "id": "3fee6ba2-a065-42d9-9f42-793a89beae6c",
   "metadata": {
    "editable": true,
    "slideshow": {
     "slide_type": "slide"
    },
    "tags": []
   },
   "source": [
    "![sac](https://unlhcc.github.io/r-novice-gapminder/fig/12-plyr-fig1.png)\n",
    "\n",
    "*Billede fra [Software Carpentry](https://unlhcc.github.io/r-novice-gapminder/16-plyr/)*"
   ]
  },
  {
   "cell_type": "markdown",
   "id": "17d397db-bc62-4591-bbb4-368216afe22b",
   "metadata": {
    "editable": true,
    "slideshow": {
     "slide_type": "slide"
    },
    "tags": []
   },
   "source": [
    "## Split-apply-combine\n",
    "\n",
    "**Split**: Opdel (split) data i grupper baseret på et eller flere kriterier.\n",
    "\n",
    "**Apply**: Anvend (apply) en funktion (fx en beregning, filtrering eller andet) til hver gruppering.\n",
    "\n",
    "**Combine**: Kombinér (combine) resultaterne til en ny datastruktur."
   ]
  },
  {
   "cell_type": "code",
   "execution_count": null,
   "id": "4f8d1a64-83e7-4078-8b95-8feec23ddde6",
   "metadata": {
    "editable": true,
    "slideshow": {
     "slide_type": "slide"
    },
    "tags": []
   },
   "outputs": [],
   "source": [
    "eurob.groupby(['d10'])['d11_num'].mean().to_frame().reset_index()"
   ]
  },
  {
   "cell_type": "markdown",
   "id": "85a0b440-a41f-48cb-97a7-f0c8a761c069",
   "metadata": {
    "editable": true,
    "slideshow": {
     "slide_type": ""
    },
    "tags": []
   },
   "source": [
    "**Split**: `.groupby()` - Hvilke variable skal der grupperes efter? (her `d10` - køn).\n",
    "\n",
    "**Apply**: `.mean()` - Funktion der anvendes på hver gruppering (her middelværdi for `d11` - alder).\n",
    "\n",
    "**Combine**: Pandas returnerer automatisk en ny datastruktur ved brug af en funktion. Dog kan strukturen tilpasses.\n",
    "- `.to_frame()` - Tving om til data frame\n",
    "- `.reset_index()` - Nulstil index (rækkenavne)"
   ]
  },
  {
   "cell_type": "markdown",
   "id": "8f13bc6c-8677-4988-8158-ac21823ae37b",
   "metadata": {
    "editable": true,
    "slideshow": {
     "slide_type": ""
    },
    "tags": []
   },
   "source": [
    "## Split-apply-combine med pandas (groupby)"
   ]
  },
  {
   "cell_type": "markdown",
   "id": "e6d7b9b4-c5dc-4a35-881e-02df8e323da8",
   "metadata": {
    "editable": true,
    "slideshow": {
     "slide_type": ""
    },
    "tags": []
   },
   "source": [
    "Her skal vi se på nogen forskellige måder, hvor der kan udregnes deskriptive mål og dannes visualiseringer for grupper i data\n",
    "\n",
    "Vi starter med at indlæse de nødvendige pakker og data. Aldersvariablen (som også blev tilføjet i lektion 3) tilføjes igen:"
   ]
  },
  {
   "cell_type": "markdown",
   "id": "6cb92ca9-66eb-40b4-985d-157c5f8f46b4",
   "metadata": {
    "editable": true,
    "slideshow": {
     "slide_type": ""
    },
    "tags": []
   },
   "source": [
    "### Brug af split-apply til at opsummere data (aggregeringer)\n",
    "\n",
    "Metoden `.groupby()` grupperer datasæt efter de givne variable:"
   ]
  },
  {
   "cell_type": "code",
   "execution_count": null,
   "id": "a7c79fe6-0cf6-4d17-b3bd-d433671366b4",
   "metadata": {},
   "outputs": [],
   "source": [
    "grouped_df = eurob.groupby(['d10'])"
   ]
  },
  {
   "cell_type": "markdown",
   "id": "631a222a-173a-4aea-ade9-f9a96c2fa748",
   "metadata": {},
   "source": [
    "Selve objektet, som bliver dannet, indeholder ikke information, der bare kan kaldes frem direkte:"
   ]
  },
  {
   "cell_type": "code",
   "execution_count": null,
   "id": "d3723401-8ac0-4786-9dcf-e536f6b293d9",
   "metadata": {},
   "outputs": [],
   "source": [
    "grouped_df"
   ]
  },
  {
   "cell_type": "markdown",
   "id": "7e9c8e72-55ac-4677-b5bc-19b8ea8cd0df",
   "metadata": {},
   "source": [
    "Dog kan vi danne de samme deskriptive mål, som vi kan for hele datasættet, men hvor de opsummeres på gruppeniveauet:"
   ]
  },
  {
   "cell_type": "code",
   "execution_count": null,
   "id": "b12e2f24-3af9-460c-ad28-694251f0b283",
   "metadata": {},
   "outputs": [],
   "source": [
    "grouped_df.describe()"
   ]
  },
  {
   "cell_type": "markdown",
   "id": "218d71a6-f994-42e4-b4e7-add6ccef0325",
   "metadata": {},
   "source": [
    "Det samme kan gøres for enkeltvariable:"
   ]
  },
  {
   "cell_type": "code",
   "execution_count": null,
   "id": "26d5b4bf-ef72-4320-ac30-9f643992e6f4",
   "metadata": {},
   "outputs": [],
   "source": [
    "grouped_df['d11_num'].describe()"
   ]
  },
  {
   "cell_type": "markdown",
   "id": "e68158a6-790e-493e-94d9-dcc3c8104553",
   "metadata": {},
   "source": [
    "En lang række metoder kan bruges på grupperede data. Se dem alle her: https://pandas.pydata.org/pandas-docs/stable/user_guide/groupby.html.\n",
    "\n",
    "- `mean()`: Middelværdi for grupperne\n",
    "\n",
    "- `size()`: Størrelse af grupperne\n",
    "\n",
    "- `count()`: Tællinger inden for grupperne\n",
    "\n",
    "- `describe()`: Deskriptive mål inden for grupperne\n",
    "\n",
    "- `min()`: Minimum for grupperne\n",
    "\n",
    "- `max()`: Maximum for grupperne"
   ]
  },
  {
   "cell_type": "markdown",
   "id": "db2675fb-d1f8-44c7-9a34-6a24eefe4f1c",
   "metadata": {},
   "source": [
    "Metoden `value_counts()` kan bruges til at lave optællinger af kategoriske inden for grupperne.\n",
    "\n",
    "Herunder laves optælling for variablen `vote` fordelt på køn:"
   ]
  },
  {
   "cell_type": "code",
   "execution_count": null,
   "id": "e538a072-dc94-4d13-9157-ac9f43be7a7b",
   "metadata": {},
   "outputs": [],
   "source": [
    "grouped_df['polintr'].value_counts()"
   ]
  },
  {
   "cell_type": "markdown",
   "id": "bd708a7c-b13c-44a5-9e4e-0aa7f1ef0e25",
   "metadata": {},
   "source": [
    "### Brug af split-apply til at filtrere data\n",
    "\n",
    "Split-apply kan også bruges til at filtrere data - fx ved kun at beholde grupper over en vis størrelse:"
   ]
  },
  {
   "cell_type": "code",
   "execution_count": null,
   "id": "0bc82967-5ad7-47c5-af1f-cbbca8853343",
   "metadata": {},
   "outputs": [],
   "source": [
    "eurob['d9b'].value_counts() # Enkelte uddannelsesgrupper meget små"
   ]
  },
  {
   "cell_type": "code",
   "execution_count": null,
   "id": "92d1d2cf-3d97-486e-918e-b43aa262c91c",
   "metadata": {},
   "outputs": [],
   "source": [
    "eurob_groupfilter = eurob.groupby('d9b').filter(lambda x: len(x) > 20)"
   ]
  },
  {
   "cell_type": "code",
   "execution_count": null,
   "id": "1d153adc-36a2-49f5-9327-3394b064e541",
   "metadata": {},
   "outputs": [],
   "source": [
    "eurob_groupfilter['d9b'].value_counts()"
   ]
  },
  {
   "cell_type": "markdown",
   "id": "f976f5f9-23ea-4222-85d8-27880095cf2b",
   "metadata": {
    "jp-MarkdownHeadingCollapsed": true,
    "tags": []
   },
   "source": [
    "# Basal datahåndtering i pandas (live coding)"
   ]
  },
  {
   "cell_type": "markdown",
   "id": "2a246e5f-1cf8-4c08-8256-150ad31cf661",
   "metadata": {},
   "source": [
    "## Subsetting\n",
    "\n",
    "\"Subsetting\" vil sige at udvælge specifikke dele af data.\n",
    "\n",
    "Man subsetter pandas med metoderne `.loc()` og `.iloc()`. `.loc()` bruges til at subsette ud fra række- og kolonnenavne, mens `.iloc()` bruges til at subsette ud fra række- og kolnneindeks.\n",
    "\n",
    "Format for subsetting: `data.loc[rækker, kolonner]`\n",
    "\n",
    "Selekter bestemte rækker:"
   ]
  },
  {
   "cell_type": "code",
   "execution_count": null,
   "id": "16f802e3-89d7-4549-93ff-0e680bf6f64d",
   "metadata": {},
   "outputs": [],
   "source": [
    "eurob.loc[2:10, :]"
   ]
  },
  {
   "cell_type": "markdown",
   "id": "f58135d2-9291-4bd9-8cdc-65099e5f1144",
   "metadata": {},
   "source": [
    "Selekter bestemte kolonner (specificeres som en liste):"
   ]
  },
  {
   "cell_type": "code",
   "execution_count": null,
   "id": "7fd57453-1ace-4bb5-887f-572139de97d4",
   "metadata": {},
   "outputs": [],
   "source": [
    "eurob.loc[:, ['d10', 'polintr']].head()"
   ]
  },
  {
   "cell_type": "markdown",
   "id": "05b51168-eae9-4511-850a-26e2e283f0f0",
   "metadata": {},
   "source": [
    "Selekter bestemte rækker og kolonner:"
   ]
  },
  {
   "cell_type": "code",
   "execution_count": null,
   "id": "67cc3d61-3d5e-49ca-8507-f808223c233d",
   "metadata": {},
   "outputs": [],
   "source": [
    "eurob.loc[2:10, ['d10', 'polintr']]"
   ]
  },
  {
   "cell_type": "markdown",
   "id": "14ee300d-9e07-4c56-946c-da58a276ab36",
   "metadata": {},
   "source": [
    "Selekter ud fra kolonneindeks:"
   ]
  },
  {
   "cell_type": "code",
   "execution_count": null,
   "id": "353a224d-6c11-42ac-b911-367f68984174",
   "metadata": {},
   "outputs": [],
   "source": [
    "eurob.iloc[2:10, [8, 5]]"
   ]
  },
  {
   "cell_type": "markdown",
   "id": "734d34ae-0e06-4de2-a2e6-a578f9e9b42d",
   "metadata": {},
   "source": [
    "### Dan subset\n",
    "\n",
    "Bemærk at datasæt ikke ændres. Hvis subset skal gemmes, skal det gemmes i et nyt objekt (ny dataframe):"
   ]
  },
  {
   "cell_type": "code",
   "execution_count": null,
   "id": "81b812cc-6981-43e6-afbe-884d5931b39b",
   "metadata": {},
   "outputs": [],
   "source": [
    "eurob_subset = eurob.loc[2:10, ['d10', 'polintr']]\n",
    "\n",
    "eurob_subset.head()"
   ]
  },
  {
   "cell_type": "markdown",
   "id": "e5d2d12c-aa36-4b3a-8a47-a51c4af23086",
   "metadata": {},
   "source": [
    "### Subsetting med booleans (logiske værdier)\n",
    "\n",
    "I stedet for at specificere indeksnumrene, kan man i stedet specificere betingelser:"
   ]
  },
  {
   "cell_type": "code",
   "execution_count": null,
   "id": "4efb27f9-62dc-44d3-8da5-0a551cf221ee",
   "metadata": {},
   "outputs": [],
   "source": [
    "eurob.loc[eurob['polintr'] == \"Low\", :].head()"
   ]
  },
  {
   "cell_type": "code",
   "execution_count": null,
   "id": "db310efc-2133-4538-b22c-1e7c30f88015",
   "metadata": {},
   "outputs": [],
   "source": [
    "eurob.loc[(eurob['polintr'] == \"Low\") & (eurob['d10'] == 'Woman'), :].head()"
   ]
  },
  {
   "cell_type": "markdown",
   "id": "d6566963-7e30-4349-b5f2-78ededb09d9b",
   "metadata": {},
   "source": [
    "## Nye variable\n",
    "\n",
    "Ofte har man brug for at tilføje oplysninger til et datasæt i form af nye variable.\n",
    "\n",
    "Man danner en ny variabel blot ved at referere til et kolonnenavn, som endnu ikke er brugt.\n",
    "\n",
    "I nedenstående dannes en variabel for interviewlængde i minutter:"
   ]
  },
  {
   "cell_type": "code",
   "execution_count": null,
   "id": "beaa4de3-08fd-457c-8f06-87b0129493d7",
   "metadata": {},
   "outputs": [],
   "source": [
    "eurob['inwtm'] = eurob['p3'] / 60\n",
    "\n",
    "eurob.head()"
   ]
  },
  {
   "cell_type": "markdown",
   "id": "3b440dfc-fe8c-41cc-805b-ea8e1b0b625b",
   "metadata": {},
   "source": [
    "## Rekodning\n",
    "\n",
    "Ofte har man brug for at rekode variable.\n",
    "\n",
    "Variable rekodes ved at overskrive værdier i en eksisterende variabel.\n",
    "\n",
    "Det er god praksis ikke at rekode de oprindelige variable i datasættet, så man vil i stedet lave en kopi af variablen og så rekode den i stedet.\n",
    "\n",
    "Hvis man fx vil rekode en kontinuerlig variabel til kategorisk, kan man gøre brug af booleans. \n",
    "\n",
    "I nedenstående dannes en kategorisk variabel over interviewlængde:"
   ]
  },
  {
   "cell_type": "code",
   "execution_count": null,
   "id": "6742e246-83fb-4689-8b29-9684a73335f2",
   "metadata": {},
   "outputs": [],
   "source": [
    "eurob['intl_cat'] = np.nan # Danner en \"tom\" variabel bestående af missing\n",
    "\n",
    "eurob.loc[eurob['inwtm'] <= 40, 'intl_cat'] = \"short interview\"\n",
    "eurob.loc[eurob['inwtm'] > 40, 'intl_cat'] = \"long interview\"\n",
    "\n",
    "eurob.head()"
   ]
  },
  {
   "cell_type": "code",
   "execution_count": null,
   "id": "99013c83-dd22-443b-a331-58d4db599bdf",
   "metadata": {},
   "outputs": [],
   "source": [
    "eurob['intl_cat'].value_counts()"
   ]
  },
  {
   "cell_type": "markdown",
   "id": "a5d98cd2-1e3b-45fe-86d6-f4af4c7a076b",
   "metadata": {},
   "source": [
    "## Datatyper\n",
    "\n",
    "Pandas adskiller mellem forskellige typer af information i kolonnerne i en data frame. Ligesom at variable i Python har forskellige *classes*, der dikterer, hvad der er muligt, dikterer datatypen for en kolonne i en data frame, hvad der kan lade sig gøre.\n",
    "\n",
    "Man kan inspicere datatypen for en kolonne via attribute `.dtypes` (virker både på hel data frame eller enkelt kolonne / series):"
   ]
  },
  {
   "cell_type": "code",
   "execution_count": null,
   "id": "453ae973-6e36-4f85-a224-7efdb151b237",
   "metadata": {},
   "outputs": [],
   "source": [
    "eurob['d11'].dtypes"
   ]
  },
  {
   "cell_type": "markdown",
   "id": "5ca91b0e-2775-4d1f-ad9a-2ee6b1930789",
   "metadata": {},
   "source": [
    "Datatype `'O'` står for `object`. Denne kan betragtes som en midlertidig type, da det ikke er angivet, hvilken type data det er (tal, tekst, dato eller andet)."
   ]
  },
  {
   "cell_type": "markdown",
   "id": "3b32fe50-0d86-4cdd-9a20-09b4cc0f9c2e",
   "metadata": {},
   "source": [
    "### Typecasting\n",
    "\n",
    "Typecasting (dvs. at tvinge en datatype om til en anden) kan gøres på flere måder i pandas. Den mest generelle er metoden `.astype()`, hvor man angiver datatypen som argument.\n",
    "\n",
    "Ellers findes der også specifikke funktioner til at tvinge datatypen om. Herunder bruges funktionen `pd.to_numeric()` til at tvinge datatypen for `d11` om. **BEMÆRK**: I nedenstående tvinges ikke gyldige værdier om til missing:"
   ]
  },
  {
   "cell_type": "code",
   "execution_count": null,
   "id": "94b0e3a4-4c43-4b65-8d4b-c082440b4252",
   "metadata": {},
   "outputs": [],
   "source": [
    "eurob['d11_num'] = pd.to_numeric(eurob['d11'], errors = \"coerce\")"
   ]
  },
  {
   "cell_type": "markdown",
   "id": "0a5d514a-397c-4fff-be6c-d9f9ecac7778",
   "metadata": {
    "jp-MarkdownHeadingCollapsed": true,
    "tags": []
   },
   "source": [
    "# Rekodning med mappings (live coding)"
   ]
  },
  {
   "cell_type": "markdown",
   "id": "8eaf0e82-965c-4829-b1b5-154c67e67aff",
   "metadata": {},
   "source": [
    "## Missingværdier: NaN\n",
    "\n",
    "`NaN` angiver missingværdi. En missingværdi er en ikke-gyldig værdi; fx hvis en person ikke svarer, informationen ikke har været muligt at skaffe eller andet.\n",
    "\n",
    "For at man kan kode med missing, skal selve missingværdien importeres. Denne kan hents fra pakken `numpy`:"
   ]
  },
  {
   "cell_type": "code",
   "execution_count": null,
   "id": "1364ef1e-2944-40bd-bd1c-341b6a012b54",
   "metadata": {},
   "outputs": [],
   "source": [
    "import numpy as np\n",
    "\n",
    "print(np.nan)"
   ]
  },
  {
   "cell_type": "markdown",
   "id": "1df5b970-b9d6-42d5-b920-3879644cd8be",
   "metadata": {},
   "source": [
    "## Rekodning med mapping\n",
    "\n",
    "Tidligere blev der dannet en numerisk udgave af `d11` (alder) ved brug af typecasting. Her blev ikke-gyldige værdier blot tvunget om til missing.\n",
    "\n",
    "Som det ses af nedenstående, var dette ikke hensigtsmæssigt:"
   ]
  },
  {
   "cell_type": "code",
   "execution_count": null,
   "id": "c5108a13-06de-4202-a5b4-bdbe543c45a0",
   "metadata": {},
   "outputs": [],
   "source": [
    "eurob['d11'].unique()"
   ]
  },
  {
   "cell_type": "markdown",
   "id": "3f80b168-600b-4f36-98c0-db251d5d1999",
   "metadata": {},
   "source": [
    "`\"15 years\"` indgår som svar, så denne skal rekodes manuelt. Dette kunne fx gøres med en mapping:"
   ]
  },
  {
   "cell_type": "code",
   "execution_count": null,
   "id": "85277f3a-8832-4146-a089-6cb167ce04de",
   "metadata": {},
   "outputs": [],
   "source": [
    "age_recode = {\"15 years\": 15, \"Refusal\": np.nan}"
   ]
  },
  {
   "cell_type": "markdown",
   "id": "efd22c7e-e241-4a95-810b-f730de912b9a",
   "metadata": {},
   "source": [
    "Metoden `.replace()` bruges til at rekode ved brug af en mapping. Derefter kan kolonnen igen laves om til numerisk:"
   ]
  },
  {
   "cell_type": "code",
   "execution_count": null,
   "id": "448114b8-ef8c-4d1f-b93f-27ca820712e6",
   "metadata": {},
   "outputs": [],
   "source": [
    "eurob['d11'] = eurob['d11'].replace(age_recode)\n",
    "eurob['d11'] = eurob['d11'].astype('float') # float = floatpoint\n",
    "\n",
    "print(eurob['d11'].dtypes)"
   ]
  }
 ],
 "metadata": {
  "kernelspec": {
   "display_name": "Python 3 (ipykernel)",
   "language": "python",
   "name": "python3"
  },
  "language_info": {
   "codemirror_mode": {
    "name": "ipython",
    "version": 3
   },
   "file_extension": ".py",
   "mimetype": "text/x-python",
   "name": "python",
   "nbconvert_exporter": "python",
   "pygments_lexer": "ipython3",
   "version": "3.12.3"
  }
 },
 "nbformat": 4,
 "nbformat_minor": 5
}
