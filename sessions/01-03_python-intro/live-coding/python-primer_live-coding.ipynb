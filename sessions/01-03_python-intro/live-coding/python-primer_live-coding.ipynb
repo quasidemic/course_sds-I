{
 "cells": [
  {
   "cell_type": "markdown",
   "id": "60d1d76b-5df8-4397-95d5-52696c0b1790",
   "metadata": {
    "editable": true,
    "slideshow": {
     "slide_type": ""
    },
    "tags": []
   },
   "source": [
    "# I gang med Python (live coding)"
   ]
  },
  {
   "cell_type": "markdown",
   "id": "2f328b3e-4b1d-4668-8b10-a22bcdcaf5f0",
   "metadata": {},
   "source": [
    "## Fundamentale koncepter i Python\n",
    "\n",
    "Som nævnt arbejder man med Python ved at skrive kommandoer i Python sproget. Kommandoer bliver “evalueret” af fortolkeren. Hvis koden forstås, bliver den kørt, og der gives et output, en ændring eller andet afhængigt af, hvad man beder om."
   ]
  },
  {
   "cell_type": "code",
   "execution_count": null,
   "id": "0d7ccebe-9d80-4f04-b969-08a6fa7f3756",
   "metadata": {},
   "outputs": [],
   "source": [
    "42 + 4"
   ]
  },
  {
   "cell_type": "markdown",
   "id": "28292d51-8012-4306-9d90-31ac01a1f40b",
   "metadata": {},
   "source": [
    "### Objekter/varaible\n",
    "\n",
    "Python er et objekt-orienteret programmeringssprog. Dette indebærer, at man kontinuerligt arbejder med forskellige objekter, som indeholder en eller anden for for information.\n",
    "\n",
    "I Python kaldes objekter “variable”. Dette er ikke at forveksle med en variabel, som forstået i statistik som en egenskab ved en observation, da en variabel i Python blot er en beholder for en eller anden form for information."
   ]
  },
  {
   "cell_type": "code",
   "execution_count": null,
   "id": "0b7519fd-56b5-4f1b-8c61-e5813eb07cbd",
   "metadata": {},
   "outputs": [],
   "source": [
    "number = 42\n",
    "print(number + 2)"
   ]
  },
  {
   "cell_type": "code",
   "execution_count": null,
   "id": "b1bc10cf-eed5-452a-8b6d-d4563539f24d",
   "metadata": {},
   "outputs": [],
   "source": [
    "name = \"kenobi\"\n",
    "print(name)"
   ]
  },
  {
   "cell_type": "markdown",
   "id": "ce7d7a78-2086-4344-85f1-066ed4f7e853",
   "metadata": {},
   "source": [
    "### Funktioner\n",
    "\n",
    "En central del af det at arbejde med et programmeringssprog er at bruge funktioner. Funktioner tager et eller flere input (kaldet “argumenter”), foretager et eller andet med disse og returnerer (for det meste) et output.\n",
    "\n",
    "Funktioner i Python har følgende format:\n",
    "\n",
    "```\n",
    "function(argument1, argument2, ...)\n",
    "```\n"
   ]
  },
  {
   "cell_type": "code",
   "execution_count": null,
   "id": "b8cf8746-e396-4342-ac42-521ecda4abd6",
   "metadata": {},
   "outputs": [],
   "source": [
    "print(\"hello\", \"there\", sep = \", \")"
   ]
  },
  {
   "cell_type": "markdown",
   "id": "b5e8fbcc-1d02-4077-b6c8-a4aa0f43960e",
   "metadata": {},
   "source": [
    "### Metoder\n",
    "\n",
    "Udover funktioner i Python findes der også “metoder”. Lig funktioner tager metoder også en form for input og returnerer et output.\n",
    "\n",
    "I modsætning til funktioner er metoder bundet op på bestemte variabeltyper. Det vil sige at variablen skal være en bestemt type for, at metoden kan bruges. Metoder kaldes med `variabel.method(option1 = something)`. Tekstværdier (strings) har fx en række metoder tilknyttet til at ændre teksten:"
   ]
  },
  {
   "cell_type": "code",
   "execution_count": null,
   "id": "0580861b-3b01-4a9f-bc31-044662e75f14",
   "metadata": {},
   "outputs": [],
   "source": [
    "name = \"kenobi\"\n",
    "name.upper()"
   ]
  },
  {
   "cell_type": "markdown",
   "id": "2155aaea-7d12-4e08-9ac8-b34108902a83",
   "metadata": {},
   "source": [
    "### Pakker\n",
    "\n",
    "Pakker i Python er samlinger af funktioner, metoder, værdier osv. Selvom man kan meget i Python, så når man ikke særlig langt uden at importere pakker.\n",
    "\n",
    "Funktioner, metoder, værdier osv. fra pakker kan nemt indlæses ved at importere dem. Så snart pakken er importeret, er pakkens indhold tilgængeligt."
   ]
  },
  {
   "cell_type": "code",
   "execution_count": null,
   "id": "fb4b3fcd-51a4-4950-b9a6-d5a497c79728",
   "metadata": {},
   "outputs": [],
   "source": [
    "import math\n",
    "\n",
    "print(math.pi)"
   ]
  }
 ],
 "metadata": {
  "kernelspec": {
   "display_name": "Python 3 (ipykernel)",
   "language": "python",
   "name": "python3"
  },
  "language_info": {
   "codemirror_mode": {
    "name": "ipython",
    "version": 3
   },
   "file_extension": ".py",
   "mimetype": "text/x-python",
   "name": "python",
   "nbconvert_exporter": "python",
   "pygments_lexer": "ipython3",
   "version": "3.12.3"
  }
 },
 "nbformat": 4,
 "nbformat_minor": 5
}
