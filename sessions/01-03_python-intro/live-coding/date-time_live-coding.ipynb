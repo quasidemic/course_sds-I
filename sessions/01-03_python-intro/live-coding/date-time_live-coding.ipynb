{
 "cells": [
  {
   "cell_type": "markdown",
   "id": "f5f52ce8-a6ad-47ca-bc8a-bb3e9377b746",
   "metadata": {
    "tags": []
   },
   "source": [
    "# Datoer og tid i Python (live coding)"
   ]
  },
  {
   "cell_type": "markdown",
   "id": "4844f6c5-0c23-4480-a238-44f6aa8432dd",
   "metadata": {},
   "source": [
    "## `datetime` modulet\n",
    "\n",
    "`datetime` modulet bruges til at lave strings om til datoer (uden for pandas).\n",
    "\n",
    "*Bemærk*: Alle funktioner ligger i `datetime.datetime`, så man kan med fordel importere med `from datetime import datetime`"
   ]
  },
  {
   "cell_type": "code",
   "execution_count": null,
   "id": "81369826-d4c8-4b5d-abe5-c8a8452fa8eb",
   "metadata": {},
   "outputs": [],
   "source": [
    "from datetime import datetime\n",
    "\n",
    "date_today = datetime.now().date()\n",
    "\n",
    "date_today"
   ]
  },
  {
   "cell_type": "code",
   "execution_count": null,
   "id": "d6249752-573f-454b-bb08-a7d0d958e843",
   "metadata": {},
   "outputs": [],
   "source": [
    "print(date_today.day,\n",
    "      date_today.month)"
   ]
  },
  {
   "cell_type": "markdown",
   "id": "cb47041a-47fb-45e7-83c6-433a8a9dfefb",
   "metadata": {},
   "source": [
    "Man danner datoobjekter fra strings med `datetime.strptime()`."
   ]
  },
  {
   "cell_type": "code",
   "execution_count": null,
   "id": "a04a6d48-88ca-48f5-9a0b-4d536496ceb3",
   "metadata": {},
   "outputs": [],
   "source": [
    "datestr = '07 08-2021'\n",
    "\n",
    "date = datetime.strptime(datestr, '%d %m-%Y').date()\n",
    "date"
   ]
  },
  {
   "cell_type": "code",
   "execution_count": null,
   "id": "282f697a-5dcb-47d2-9886-37a64eaba8d8",
   "metadata": {},
   "outputs": [],
   "source": [
    "print(date.day,\n",
    "      date.month)"
   ]
  },
  {
   "cell_type": "markdown",
   "id": "effe229b-a4c4-4768-b200-dc14e2eecde7",
   "metadata": {},
   "source": [
    "Ved at trække to datoobjekter fra hinanden, dannes et `timedelta` objekt (tidsdifference)."
   ]
  },
  {
   "cell_type": "code",
   "execution_count": null,
   "id": "da1e53b0-3b51-4491-91e6-29fd4bd0167e",
   "metadata": {},
   "outputs": [],
   "source": [
    "timedif = date_today - date\n",
    "\n",
    "timedif"
   ]
  },
  {
   "cell_type": "markdown",
   "id": "6d6e24a4-b122-4eed-8f51-f20bc875f870",
   "metadata": {},
   "source": [
    "Forskellen kan konverteres til numerisk ved at referere til en tidsenhed som attribute:"
   ]
  },
  {
   "cell_type": "code",
   "execution_count": null,
   "id": "8cc75e56-3a53-4f31-bae7-59fee3969542",
   "metadata": {},
   "outputs": [],
   "source": [
    "timedif.days"
   ]
  },
  {
   "cell_type": "markdown",
   "id": "80a351c4-8f15-4463-bebd-390059dcc382",
   "metadata": {},
   "source": [
    "## Datoer og tid i `pandas`\n",
    "\n",
    "Pandas indeholder en del metoder til at arbejde med datetime, der minder om basismodulet\n",
    "- Tilgås under `.dt`\n",
    "\n",
    "For at konvertere en data frame kolonne til dato, bruges funktionen `pd.to_datetime()` (fungerer meget ligesom `datetime.strptime()`\n",
    "- *Bemærk*: Funktion; ikke metode. Tager en Series med datolignende strings og datoformat som argument"
   ]
  },
  {
   "cell_type": "code",
   "execution_count": null,
   "id": "a42b472b-fdc4-44a2-bd6f-adbd52e8a70e",
   "metadata": {},
   "outputs": [],
   "source": [
    "dates = pd.Series([\"2022-08-02\", \"2022-08-04\", \"2022-06-30\"])\n",
    "\n",
    "dates = pd.to_datetime(dates, format = \"%Y-%m-%d\")\n",
    "\n",
    "print(dates)"
   ]
  },
  {
   "cell_type": "code",
   "execution_count": null,
   "id": "d1e73fe5-6729-4890-858b-902419246d7e",
   "metadata": {},
   "outputs": [],
   "source": [
    "dates.dt.day"
   ]
  }
 ],
 "metadata": {
  "kernelspec": {
   "display_name": "Python 3 (ipykernel)",
   "language": "python",
   "name": "python3"
  },
  "language_info": {
   "codemirror_mode": {
    "name": "ipython",
    "version": 3
   },
   "file_extension": ".py",
   "mimetype": "text/x-python",
   "name": "python",
   "nbconvert_exporter": "python",
   "pygments_lexer": "ipython3",
   "version": "3.12.3"
  }
 },
 "nbformat": 4,
 "nbformat_minor": 5
}
