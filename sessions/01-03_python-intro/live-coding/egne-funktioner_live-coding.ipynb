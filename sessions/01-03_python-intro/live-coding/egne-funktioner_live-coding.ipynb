{
 "cells": [
  {
   "cell_type": "code",
   "execution_count": null,
   "id": "c1fe9bf3-cd43-4cde-bf3d-9ce6490ba7e2",
   "metadata": {
    "editable": true,
    "slideshow": {
     "slide_type": ""
    },
    "tags": []
   },
   "outputs": [],
   "source": [
    "# Prep\n",
    "import pandas as pd\n",
    "import re\n",
    "import os\n",
    "from os.path import join\n",
    "\n",
    "data_dir = ''\n",
    "parl_dir = join(data_dir, 'dk_parl')\n",
    "eurob_path = join(data_dir, 'eurobarometer-96_dk_subset.csv')\n",
    "parl_path = join(parl_dir, 'dkparl_125_20220825.txt')\n",
    "\n",
    "with open(parl_path, 'r', encoding = 'utf-8') as f:\n",
    "    parl_ref = f.read()\n",
    "    \n",
    "eurob = pd.read_csv(eurob_path)"
   ]
  },
  {
   "cell_type": "markdown",
   "id": "4ee14457-154e-4d19-9415-80a481748d16",
   "metadata": {},
   "source": [
    "## Brug af egne funktioner\n",
    "\n",
    "Fordelen ved at skrive egne funktioner er, at man kan lave funktioner, der er helt specifikke til de datasæt, man sidder med, og de datahåndtering, som man har brug for.\n",
    "\n",
    "Egne funktioner kan have flere anvendelser, fx:\n",
    "- Specifik datahåndteringsfunktion, som skal bruges på flere kolonner/datasæt (fx med mange betingelser)\n",
    "- Behandling af bestemt type fil (fx tekstfil)\n",
    "- Konvertering fra en datastruktur til en anden"
   ]
  },
  {
   "cell_type": "markdown",
   "id": "c436cdd6-cd5d-4605-a541-83cb4c71046d",
   "metadata": {},
   "source": [
    "### Funktion til at behandle tekst\n",
    "\n",
    "Tidligere arbejdede vi lidt med et referat fra et møde i Folketinget. Strukturen i dokumentet tillader, at vi kan dele det op i dagsordenspunkter:"
   ]
  },
  {
   "cell_type": "code",
   "execution_count": null,
   "id": "e55f2b34-34f7-4eb2-8dda-b5b4b49448c1",
   "metadata": {},
   "outputs": [],
   "source": [
    "import re\n",
    "\n",
    "point_pattern = re.compile(\"---+\")\n",
    "\n",
    "parlref_points = point_pattern.split(parl_ref)\n",
    "\n",
    "parlref_points[2]"
   ]
  },
  {
   "cell_type": "markdown",
   "id": "6ba40649-f7bb-4ee6-b560-ba842c2437e2",
   "metadata": {},
   "source": [
    "Derfra kunne vi være interesseret i at udlede titlerne for punkterne. For at gøre dette laver laver vi en dictionary for hvert punkt (de to første elementer i listen er ikke dagsordenspunkter)."
   ]
  },
  {
   "cell_type": "code",
   "execution_count": null,
   "id": "e5db17b6-b0df-46ab-accf-e807b33554a2",
   "metadata": {},
   "outputs": [],
   "source": [
    "point_t_re = re.compile(\"(?<=\\n)\\d\\) .*?(?=:?\\n)\")\n",
    "\n",
    "parlref_pointsdata = []\n",
    "\n",
    "for point in parlref_points[2:len(parlref_points)]:\n",
    "    if point_t_re.search(point):\n",
    "        point_t = point_t_re.search(point).group(0)\n",
    "    else:\n",
    "        point_t = \"\"\n",
    "    \n",
    "    point_dict = {\"title\": point_t, \"text\": point}\n",
    "    \n",
    "    parlref_pointsdata.append(point_dict)"
   ]
  },
  {
   "cell_type": "code",
   "execution_count": null,
   "id": "3f9b8b72-c21f-4bde-82b0-4ea2b5c2c305",
   "metadata": {},
   "outputs": [],
   "source": [
    "parlref_pointsdata[0]"
   ]
  },
  {
   "cell_type": "code",
   "execution_count": null,
   "id": "52c92374-7a1c-49e5-9ff4-da6128d06d62",
   "metadata": {},
   "outputs": [],
   "source": [
    "[point.get('title') for point in parlref_pointsdata]"
   ]
  },
  {
   "cell_type": "markdown",
   "id": "2666b3c3-9837-4f2f-ab1c-8a4a156dc58e",
   "metadata": {},
   "source": [
    "Ovenstående kunne også laves til en funktion. Med denne har man en funktion, der kan anvendes på referater af møder i Folketinget generelt:"
   ]
  },
  {
   "cell_type": "code",
   "execution_count": null,
   "id": "3ed430b4-725b-42d9-b0f4-cb160984a6cf",
   "metadata": {},
   "outputs": [],
   "source": [
    "def create_parlpointsdata(parlreftext):\n",
    "    \n",
    "    #regex\n",
    "    point_pattern = re.compile(\"---+\")\n",
    "    point_t_re = re.compile(\"(?<=\\n)\\d\\) .*?(?=:?\\n)\")\n",
    "    \n",
    "    #split into points\n",
    "    parlref_points = point_pattern.split(parlreftext)\n",
    "    \n",
    "    #create dataset (key for title and text)\n",
    "    parlref_pointsdata = []\n",
    "\n",
    "    for point in parlref_points[2:len(parlref_points)]:\n",
    "        if point_t_re.search(point):\n",
    "            point_t = point_t_re.search(point).group(0)\n",
    "        else:\n",
    "            point_t = \"\"\n",
    "\n",
    "        point_dict = {\"title\": point_t, \"text\": point}\n",
    "\n",
    "        parlref_pointsdata.append(point_dict)\n",
    "        \n",
    "    return(parlref_pointsdata)"
   ]
  },
  {
   "cell_type": "code",
   "execution_count": null,
   "id": "f291c8cf-588c-4cd0-ac6c-befa18f87bec",
   "metadata": {},
   "outputs": [],
   "source": [
    "parlref_points_test = create_parlpointsdata(parl_ref)\n",
    "\n",
    "parlref_points_test[0]"
   ]
  },
  {
   "cell_type": "markdown",
   "id": "9a37f1fe-4b5c-47ed-83ed-c23ec3675903",
   "metadata": {},
   "source": [
    "### Brug af egne funktioner i pandas\n",
    "\n",
    "Pandas tillader også, at man kan anvende sine egne funktioner. Dette gøres med metoden `apply()`.\n",
    "\n",
    "`.apply()` tager en funktion som input. Denne funktion skal gerne virke med en enkelt værdi som input (en værdi fra en kolonne), da `.apply()` så sørger for at anvende den på alle værdierne i kolonnen."
   ]
  },
  {
   "cell_type": "code",
   "execution_count": null,
   "id": "5b06bbf2-e2cf-4bf3-826a-40bd8f99ade5",
   "metadata": {},
   "outputs": [],
   "source": [
    "eurob.head()"
   ]
  },
  {
   "cell_type": "code",
   "execution_count": null,
   "id": "c07116d1-9985-403c-be5c-cb0e5df30bf4",
   "metadata": {},
   "outputs": [],
   "source": [
    "def replacer(cat):\n",
    "    if cat == \"Not mentioned\":\n",
    "        value = 0\n",
    "    else:\n",
    "        value = 1\n",
    "        \n",
    "    return(value)\n",
    "        \n",
    "eurob['qb3_1_bin'] = eurob['qb3_1'].apply(replacer)\n",
    "\n",
    "eurob.head()"
   ]
  }
 ],
 "metadata": {
  "kernelspec": {
   "display_name": "Python 3 (ipykernel)",
   "language": "python",
   "name": "python3"
  },
  "language_info": {
   "codemirror_mode": {
    "name": "ipython",
    "version": 3
   },
   "file_extension": ".py",
   "mimetype": "text/x-python",
   "name": "python",
   "nbconvert_exporter": "python",
   "pygments_lexer": "ipython3",
   "version": "3.12.3"
  }
 },
 "nbformat": 4,
 "nbformat_minor": 5
}
