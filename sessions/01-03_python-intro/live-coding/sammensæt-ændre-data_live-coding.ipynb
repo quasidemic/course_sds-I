{
 "cells": [
  {
   "cell_type": "code",
   "execution_count": null,
   "id": "57cc6d7e-ee9b-433a-9347-d3562ae7f737",
   "metadata": {},
   "outputs": [],
   "source": [
    "# Prep\n",
    "import pandas as pd\n",
    "import os\n",
    "from os.path import join\n",
    "\n",
    "data_dir = ''\n",
    "ess_dir = join(data_dir, 'ess2014')\n",
    "eurob_path = join(data_dir, 'eurobarometer-96_dk_subset.csv')"
   ]
  },
  {
   "cell_type": "markdown",
   "id": "ea2bad6f-5026-4c4b-a0fd-b79cd6636035",
   "metadata": {},
   "source": [
    "## Sammensætning af data\n",
    "\n",
    "Man kan adskille mellem to overordnede måder at sammensætte data på:\n",
    "\n",
    "- Concatentation/appending: Datasæt \"klaskes\" sammen uden videre\n",
    "- Merge/joins: Datasæt sammensættes på baggrund af en nøgle (fx personnummer)\n",
    "\n",
    "I denne notebook ses eksempler på, hvordan man sammensætter data på disse måder med `pandas`."
   ]
  },
  {
   "cell_type": "markdown",
   "id": "a29b64b3-efb6-4a92-b773-260022151140",
   "metadata": {},
   "source": [
    "### Concatenation/appending\n",
    "\n",
    "Concatenation/appending bruges til at sætte datasæt sammen - typisk uden nogen form for validering. Det kan fx bruges, når man har to datasæt med samme variable, men forskellige observationer.\n",
    "\n",
    "I `pandas` bruges `pd.concat()` til at sammensætte data på denne måde. Funktionen forventer en liste af dataframes, som skal slås sammen.\n",
    "\n",
    "*BEMÆRK*: Funktionen tillader, at man kan sammensætte langs begge akser (rækker eller kolonner). Som standard antager funktionen, at det er datasættenes rækker, som skal slås sammen (`axis = 0`)."
   ]
  },
  {
   "cell_type": "code",
   "execution_count": null,
   "id": "ae75b821-6280-4fa5-af42-a654934e945f",
   "metadata": {},
   "outputs": [],
   "source": [
    "# stier til data\n",
    "\n",
    "ess14_1_path = join(ess_dir, 'ess2014_mainsub_p1.csv')\n",
    "ess14_2_path = join(ess_dir, 'ess2014_mainsub_p2.csv')\n",
    "\n",
    "# indlæs datasæt\n",
    "ess14_1 = pd.read_csv(ess14_1_path)\n",
    "ess14_2 = pd.read_csv(ess14_2_path)"
   ]
  },
  {
   "cell_type": "code",
   "execution_count": null,
   "id": "bc27e089-3a9e-4052-8f67-b6addf5fdc5f",
   "metadata": {},
   "outputs": [],
   "source": [
    "ess14_1.head()"
   ]
  },
  {
   "cell_type": "code",
   "execution_count": null,
   "id": "e1e41e0d-8746-408a-99b5-f7895e21b660",
   "metadata": {},
   "outputs": [],
   "source": [
    "ess14_1.shape"
   ]
  },
  {
   "cell_type": "code",
   "execution_count": null,
   "id": "cd425367-056c-4386-b077-ad7e040b8c20",
   "metadata": {},
   "outputs": [],
   "source": [
    "ess14_2.head()"
   ]
  },
  {
   "cell_type": "code",
   "execution_count": null,
   "id": "d8814e15-de30-4249-8a77-e8abe4eed46a",
   "metadata": {},
   "outputs": [],
   "source": [
    "ess14_2.shape"
   ]
  },
  {
   "cell_type": "code",
   "execution_count": null,
   "id": "c33d4568-0876-4bea-ae16-e4dcb8df0b08",
   "metadata": {},
   "outputs": [],
   "source": [
    "# sammensæt data med pd.concat\n",
    "ess14_comb = pd.concat([ess14_1, ess14_2])"
   ]
  },
  {
   "cell_type": "code",
   "execution_count": null,
   "id": "7f8b788b-e39a-4f72-9900-f686829d5470",
   "metadata": {},
   "outputs": [],
   "source": [
    "ess14_comb.shape"
   ]
  },
  {
   "cell_type": "markdown",
   "id": "774ec8a8-5957-4e14-b23d-c4e6ce2c1ac3",
   "metadata": {},
   "source": [
    "### Merge/joins\n",
    "\n",
    "Merge/joins bruges til at sammensætte variable fra flere datasæt på baggrund af en eller flere nøglevariable, som optræder i de datasæt, som skal slås sammen. Det kan fx være et personnummer eller andet id-nummer. I visse tilfælde bruges flere nøglevariable, hvis fx hver række unikt identificeres ved kombinationen af flere variable (fx vejnavn og postnummer). \n",
    "\n",
    "Der findes forskellige typer af joins, alt efter hvordan data skal slås sammen:\n",
    "- left/right: behold rækker i et datasæt\n",
    "- outer: behold alle rækker\n",
    "- inner: behold rækker, som optræder i begge datasæt\n",
    "\n",
    "I `pandas` bruges funktionen `pd.merge()` til at joine data. Funktionen forventer to datasæt (et \"left\" datasæt og et \"right\" datasæt). Man styrer, hvilken type join det er med argumentet `how`. Nøglevariable sættes med argumentet `on`. Hvis variable har forskellige navne i de to datasæt, kan man angive navnet for hhv. det venstre og højre datasæt (`left_on`/`right_on`). \n",
    "\n",
    "*BEMÆRK*: Som standard antager funktionen, at der skal foretages et inner join (behold rækker, som optræder i begge datasæt)."
   ]
  },
  {
   "cell_type": "code",
   "execution_count": null,
   "id": "959402cd-5ca0-4ee8-b86e-ef48b0deac7d",
   "metadata": {},
   "outputs": [],
   "source": [
    "# sti til data\n",
    "ess14_trst_path = join(ess_dir, 'ess2014_trstsub.csv')\n",
    "\n",
    "# indlæs data\n",
    "ess14_trst = pd.read_csv(ess14_trst_path)"
   ]
  },
  {
   "cell_type": "code",
   "execution_count": null,
   "id": "9da33cb7-d5b3-47d8-acf2-630fbfce4f59",
   "metadata": {},
   "outputs": [],
   "source": [
    "ess14_trst.head()"
   ]
  },
  {
   "cell_type": "code",
   "execution_count": null,
   "id": "1b89f48e-bfea-4e00-a263-5a86c240f13c",
   "metadata": {},
   "outputs": [],
   "source": [
    "ess14_trst.shape"
   ]
  },
  {
   "cell_type": "code",
   "execution_count": null,
   "id": "61c89f82-c3c7-4b03-aa6c-d99b4a1a7e99",
   "metadata": {},
   "outputs": [],
   "source": [
    "# left join\n",
    "\n",
    "ess14_joined1 = pd.merge(ess14_1, ess14_trst, how = 'left', on = 'idno')"
   ]
  },
  {
   "cell_type": "code",
   "execution_count": null,
   "id": "dfcf4cbe-45c8-4451-8730-5c9918250ab7",
   "metadata": {},
   "outputs": [],
   "source": [
    "ess14_joined1.head()"
   ]
  },
  {
   "cell_type": "code",
   "execution_count": null,
   "id": "0bf9f986-a96c-44a2-8862-abe522187a1f",
   "metadata": {},
   "outputs": [],
   "source": [
    "# right join\n",
    "\n",
    "ess14_joined2 = pd.merge(ess14_1, ess14_trst, how = 'right', on = 'idno')"
   ]
  },
  {
   "cell_type": "code",
   "execution_count": null,
   "id": "63c1aaa5-f4f9-45c5-bccf-1c8f0cf844f2",
   "metadata": {},
   "outputs": [],
   "source": [
    "ess14_joined2.head()"
   ]
  },
  {
   "cell_type": "markdown",
   "id": "c0d62596-ef52-4459-8ba0-9bc6eac3d083",
   "metadata": {},
   "source": [
    "## Ændring af dataformat\n",
    "\n",
    "Datasæt kan have forskellige formater og strukturer. Det kan ofte være nødvendigt at ændre på datas format - enten for at det passer med den metode/funktion/model, som det skal bruges i, eller fordi det skal sættes sammen med andre datasæt.\n",
    "\n",
    "For datasæt i en tabelstruktur (rækker og kolonner), kan man overordnet adskille mellem to formater:\n",
    "- wide: én række per observeret enhed (fx person), hvor hver oplysning/variabel har sin egen kolonne\n",
    "- long: en observeret enhed kan have flere rækker, hvor en variabel indikerer, hvilken oplysning der er tale om for enheden\n",
    "\n",
    "Man støder ofte på det ene eller andet format i forbindelse med tidsserier, hvor man har gentagne målinger for de samme enheder. I wide-format vil man typisk adskille mellem tidsenheder i kolonnerne for at bevare én række per enhed. I long-format vil man adskille mellem tidsenheder i en variabel, så hver enhed ender med flere rækker.\n",
    "\n",
    "I `pandas` bruges funktionen `melt()` til at konvertere wide-long og `pivot()` til at konvertere long-wide."
   ]
  },
  {
   "cell_type": "markdown",
   "id": "b54b5614-5f61-4b9b-a45a-397b77397de5",
   "metadata": {},
   "source": [
    "### Wide-long konvertering (`melt()`)\n",
    "\n",
    "I en wide-long konvertering, laver man kolonnenavne om til en variabel, sådan at man finder en unik værdi i datasættet ud fra en nøglevariabel, den nye kolonnevariabel samt den variabel, som man er interesseret i.\n",
    "\n",
    "For at foretage konverteringen skal man som mininmum angive følgende: \n",
    "- En nøglevariabel: Hvordan findes unikke observationer? (`id_vars`)\n",
    "- Kolonner, som skal formateres om (`value_vars`)\n",
    "- Navn på variabel, som skal indeholde kolonnenavne (`var_name`)\n",
    "- Navn på variabel, som skal indeholde værdierne (`value_name`)"
   ]
  },
  {
   "cell_type": "code",
   "execution_count": null,
   "id": "e53f6d4a-2805-4a8e-8838-f9240f79f4ef",
   "metadata": {},
   "outputs": [],
   "source": [
    "# sti til data\n",
    "\n",
    "dream_path = join(data_dir, 'bef_dream_2015_sim.csv')\n",
    "\n",
    "# indlæs data\n",
    "\n",
    "dream_df = pd.read_csv(dream_path)"
   ]
  },
  {
   "cell_type": "code",
   "execution_count": null,
   "id": "01619824-1905-440f-a087-e6bb27bba17d",
   "metadata": {},
   "outputs": [],
   "source": [
    "dream_df.head()"
   ]
  },
  {
   "cell_type": "code",
   "execution_count": null,
   "id": "953d6173-5f5a-4d4e-b54e-2c35dcfe6c29",
   "metadata": {},
   "outputs": [],
   "source": [
    "# columns to reshape\n",
    "\n",
    "cols_reshape = dream_df.columns[dream_df.columns.str.startswith('br')]\n",
    "\n",
    "# reshape\n",
    "dream_long = dream_df.melt(id_vars = 'PNR', value_vars = cols_reshape, var_name = 'month_year', value_name = 'branche')\n",
    "dream_long = dream_long.sort_values(['PNR', 'month_year'])"
   ]
  },
  {
   "cell_type": "code",
   "execution_count": null,
   "id": "598a2723-f852-441a-8433-21d7cee4643c",
   "metadata": {},
   "outputs": [],
   "source": [
    "dream_long.dropna().head(10)"
   ]
  },
  {
   "cell_type": "markdown",
   "id": "225e1a66-3cc0-4b83-bfcf-65eafe07ec82",
   "metadata": {},
   "source": [
    "### Long-wide konvertering (`pivot()`)\n",
    "\n",
    "I en long-wide konvertering, laver man værdier i en variabel om til kolonnenavne, som tager sin værdi fra en anden variabel. På den måde får hver enhed i data sin egen række, hvor man adskiller mellem værdierne i kolonnerne.\n",
    "\n",
    "For at foretage konverteringen skal man som mininmum angive følgende: \n",
    "- En nøglevariabel: Hvordan findes unikke observationer? (`index`)\n",
    "- Navn på variabel, som skal laves til kolonnenavne (`columns`)\n",
    "- Navn på variabel, som indeholder værdier til de nye kolonner (`values`)"
   ]
  },
  {
   "cell_type": "code",
   "execution_count": null,
   "id": "21fa96d5-2e56-40c6-a031-24059275834a",
   "metadata": {},
   "outputs": [],
   "source": [
    "# reshape back\n",
    "\n",
    "dream_wide = dream_long.pivot(index = 'PNR', columns = 'month_year', values = 'branche')"
   ]
  },
  {
   "cell_type": "code",
   "execution_count": null,
   "id": "7d9613d4-09d9-4a39-be1e-fc93a39e0608",
   "metadata": {},
   "outputs": [],
   "source": [
    "dream_wide.head()"
   ]
  }
 ],
 "metadata": {
  "kernelspec": {
   "display_name": "Python 3 (ipykernel)",
   "language": "python",
   "name": "python3"
  },
  "language_info": {
   "codemirror_mode": {
    "name": "ipython",
    "version": 3
   },
   "file_extension": ".py",
   "mimetype": "text/x-python",
   "name": "python",
   "nbconvert_exporter": "python",
   "pygments_lexer": "ipython3",
   "version": "3.12.3"
  }
 },
 "nbformat": 4,
 "nbformat_minor": 5
}
