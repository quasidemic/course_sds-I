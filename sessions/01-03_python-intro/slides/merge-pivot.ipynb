{
 "cells": [
  {
   "cell_type": "markdown",
   "id": "29c1f4d3-839b-4cba-97c3-09c303c20702",
   "metadata": {
    "editable": true,
    "slideshow": {
     "slide_type": "slide"
    },
    "tags": []
   },
   "source": [
    "# Sammensætning af data"
   ]
  },
  {
   "cell_type": "markdown",
   "id": "ee52328d-c70d-494e-9da9-7bbe9d1ddfe4",
   "metadata": {
    "editable": true,
    "slideshow": {
     "slide_type": "slide"
    },
    "tags": []
   },
   "source": [
    "## Sammensætning af data\n",
    "\n",
    "Man kan af forskellige årsager have behov for at sammensætte datasæt. \n",
    "\n",
    "Man adskiller typsik mellem at udvide med flere *observationer* eller med flere *variable/oplysninger*.\n",
    "\n",
    "**Udvide med flere observationer**\n",
    "- Data indsamlet over flere omgange\n",
    "- Løbende opdatering af data\n",
    "\n",
    "**Udvide med flere variable/oplysninger**\n",
    "- Data samles på tværs af flere kilder\n",
    "- Oplysninger på forskellige enhedsniveauer"
   ]
  },
  {
   "cell_type": "markdown",
   "id": "a1ed3654-5004-4034-bce4-7a5eea1a049c",
   "metadata": {
    "editable": true,
    "slideshow": {
     "slide_type": "slide"
    },
    "tags": []
   },
   "source": [
    "## Udvid med flere observationer - appending/concatenating\n",
    "\n",
    "At udvide data med flere observationer kaldes typisk *appending* eller *concatenating* (for tabulær data).\n",
    "\n",
    "Bruges typisk når datasæt har samme kolonner, men forskellige rækker.\n",
    "\n",
    "![concat](https://pandas.pydata.org/pandas-docs/stable/_images/merging_concat_basic.png)\n",
    "\n",
    "*Source: pandas.pydata.org/*"
   ]
  },
  {
   "cell_type": "markdown",
   "id": "c05b1fc0-b839-4e47-a612-a705db95ea25",
   "metadata": {
    "editable": true,
    "slideshow": {
     "slide_type": "slide"
    },
    "tags": []
   },
   "source": [
    "## Udvid med flere variable/oplysninger - join/merge\n",
    "\n",
    "At udvide data med flere variable/oplysninger kaldes typisk for *join* eller *merge* (for tabulær data).\n",
    "\n",
    "Bruges typisk når datasæt deler nogle af de samme observationer, men har forskellige variable/oplysninger.\n",
    "\n",
    "Man *joiner* typisk to datasæt ad gangen. De to datasæt, som joines, kaldes typisk *left* og *right* (terminologien kommer fra SQL - et databasesprog).\n",
    "\n",
    "Datasæt joines ud fra en eller flere *nøglevariable* - noget som unikt identificerer observationen/enheden.\n",
    "\n",
    "![join](https://pandas.pydata.org/pandas-docs/stable/_images/merging_merge_on_key.png)\n",
    "\n",
    "*Source: pandas.pydata.org/*"
   ]
  },
  {
   "cell_type": "markdown",
   "id": "51b2abc2-2345-44c1-938c-8d26a158f4f4",
   "metadata": {
    "editable": true,
    "slideshow": {
     "slide_type": "slide"
    },
    "tags": []
   },
   "source": [
    "## Typer af joins\n",
    "\n",
    "![join-types](https://learnsql.fr/blog/comment-apprendre-les-jointures-sql/2.png)\n",
    "\n",
    "*Source: learnsql.fr*"
   ]
  },
  {
   "cell_type": "markdown",
   "id": "10303216-a33b-4682-8ec3-a5c9b96e26ab",
   "metadata": {
    "editable": true,
    "slideshow": {
     "slide_type": "slide"
    },
    "tags": []
   },
   "source": [
    "# Dataformater (wide-long)"
   ]
  },
  {
   "cell_type": "markdown",
   "id": "0bdaa8f0-9c88-470e-874a-7acc03d9f47e",
   "metadata": {
    "editable": true,
    "slideshow": {
     "slide_type": "slide"
    },
    "tags": []
   },
   "source": [
    "## Dataformater (wide-long)\n",
    "\n",
    "Datasæt kan have forskellige formater og strukturer. Det kan ofte være nødvendigt at ændre på datas format - enten for at det passer med den metode/funktion/model, som det skal bruges i, eller fordi det skal sættes sammen med andre datasæt.\n",
    "\n",
    "For datasæt i en tabelstruktur (rækker og kolonner), kan man overordnet adskille mellem to formater:\n",
    "- wide: én række per observeret enhed (fx person), hvor hver oplysning/variabel har sin egen kolonne\n",
    "- long: en observeret enhed kan have flere rækker, hvor en variabel indikerer, hvilken oplysning der er tale om for enheden\n",
    "\n",
    "Man støder ofte på det ene eller andet format i forbindelse med tidsserier, hvor man har gentagne målinger for de samme enheder. "
   ]
  },
  {
   "cell_type": "code",
   "execution_count": 14,
   "id": "3b6e1518-4ad4-474f-a952-c347e7c67d6a",
   "metadata": {
    "editable": true,
    "slideshow": {
     "slide_type": "skip"
    },
    "tags": []
   },
   "outputs": [],
   "source": [
    "import pandas as pd\n",
    "import random\n",
    "\n",
    "wide_df = pd.DataFrame({'person': ['A', 'B', 'C'],\n",
    "                        '2010': random.sample(range(0,100), 3),\n",
    "                        '2011': random.sample(range(0,100), 3),\n",
    "                        '2012': random.sample(range(0,100), 3),\n",
    "                       }\n",
    "                      )\n",
    "\n",
    "wide2_df = pd.DataFrame({'person': ['A', 'B', 'C', 'D'],\n",
    "                         'age': [22, 53, 36, 42],\n",
    "                         'car_colour': ['red', 'white', 'blue', 'orange']\n",
    "                        }\n",
    "                       )\n",
    "\n",
    "long_df = pd.melt(wide_df, id_vars = ['person'], var_name = 'year', value_name = 'train_rides')\n",
    "long2_df = pd.melt(wide2_df, id_vars = ['person'], var_name = 'variable', value_name = 'value')"
   ]
  },
  {
   "cell_type": "markdown",
   "id": "1cda4ef8-4530-46dd-a0ce-023e17c76fcd",
   "metadata": {
    "editable": true,
    "slideshow": {
     "slide_type": "slide"
    },
    "tags": []
   },
   "source": [
    "### Fra wide til long - eksempel 1"
   ]
  },
  {
   "cell_type": "code",
   "execution_count": 15,
   "id": "1d3bf97e-47c4-4435-bbd7-a153d4ed9c29",
   "metadata": {
    "editable": true,
    "slideshow": {
     "slide_type": "fragment"
    },
    "tags": []
   },
   "outputs": [
    {
     "data": {
      "text/html": [
       "<div>\n",
       "<style scoped>\n",
       "    .dataframe tbody tr th:only-of-type {\n",
       "        vertical-align: middle;\n",
       "    }\n",
       "\n",
       "    .dataframe tbody tr th {\n",
       "        vertical-align: top;\n",
       "    }\n",
       "\n",
       "    .dataframe thead th {\n",
       "        text-align: right;\n",
       "    }\n",
       "</style>\n",
       "<table border=\"1\" class=\"dataframe\">\n",
       "  <thead>\n",
       "    <tr style=\"text-align: right;\">\n",
       "      <th></th>\n",
       "      <th>person</th>\n",
       "      <th>2010</th>\n",
       "      <th>2011</th>\n",
       "      <th>2012</th>\n",
       "    </tr>\n",
       "  </thead>\n",
       "  <tbody>\n",
       "    <tr>\n",
       "      <th>0</th>\n",
       "      <td>A</td>\n",
       "      <td>32</td>\n",
       "      <td>16</td>\n",
       "      <td>30</td>\n",
       "    </tr>\n",
       "    <tr>\n",
       "      <th>1</th>\n",
       "      <td>B</td>\n",
       "      <td>83</td>\n",
       "      <td>37</td>\n",
       "      <td>8</td>\n",
       "    </tr>\n",
       "    <tr>\n",
       "      <th>2</th>\n",
       "      <td>C</td>\n",
       "      <td>8</td>\n",
       "      <td>55</td>\n",
       "      <td>55</td>\n",
       "    </tr>\n",
       "  </tbody>\n",
       "</table>\n",
       "</div>"
      ],
      "text/plain": [
       "  person  2010  2011  2012\n",
       "0      A    32    16    30\n",
       "1      B    83    37     8\n",
       "2      C     8    55    55"
      ]
     },
     "execution_count": 15,
     "metadata": {},
     "output_type": "execute_result"
    }
   ],
   "source": [
    "wide_df"
   ]
  },
  {
   "cell_type": "code",
   "execution_count": 16,
   "id": "09918e8d-aec7-41a3-bc9f-3cc074c61623",
   "metadata": {
    "editable": true,
    "slideshow": {
     "slide_type": "fragment"
    },
    "tags": []
   },
   "outputs": [
    {
     "data": {
      "text/html": [
       "<div>\n",
       "<style scoped>\n",
       "    .dataframe tbody tr th:only-of-type {\n",
       "        vertical-align: middle;\n",
       "    }\n",
       "\n",
       "    .dataframe tbody tr th {\n",
       "        vertical-align: top;\n",
       "    }\n",
       "\n",
       "    .dataframe thead th {\n",
       "        text-align: right;\n",
       "    }\n",
       "</style>\n",
       "<table border=\"1\" class=\"dataframe\">\n",
       "  <thead>\n",
       "    <tr style=\"text-align: right;\">\n",
       "      <th></th>\n",
       "      <th>person</th>\n",
       "      <th>year</th>\n",
       "      <th>train_rides</th>\n",
       "    </tr>\n",
       "  </thead>\n",
       "  <tbody>\n",
       "    <tr>\n",
       "      <th>0</th>\n",
       "      <td>A</td>\n",
       "      <td>2010</td>\n",
       "      <td>32</td>\n",
       "    </tr>\n",
       "    <tr>\n",
       "      <th>1</th>\n",
       "      <td>B</td>\n",
       "      <td>2010</td>\n",
       "      <td>83</td>\n",
       "    </tr>\n",
       "    <tr>\n",
       "      <th>2</th>\n",
       "      <td>C</td>\n",
       "      <td>2010</td>\n",
       "      <td>8</td>\n",
       "    </tr>\n",
       "    <tr>\n",
       "      <th>3</th>\n",
       "      <td>A</td>\n",
       "      <td>2011</td>\n",
       "      <td>16</td>\n",
       "    </tr>\n",
       "    <tr>\n",
       "      <th>4</th>\n",
       "      <td>B</td>\n",
       "      <td>2011</td>\n",
       "      <td>37</td>\n",
       "    </tr>\n",
       "    <tr>\n",
       "      <th>5</th>\n",
       "      <td>C</td>\n",
       "      <td>2011</td>\n",
       "      <td>55</td>\n",
       "    </tr>\n",
       "    <tr>\n",
       "      <th>6</th>\n",
       "      <td>A</td>\n",
       "      <td>2012</td>\n",
       "      <td>30</td>\n",
       "    </tr>\n",
       "    <tr>\n",
       "      <th>7</th>\n",
       "      <td>B</td>\n",
       "      <td>2012</td>\n",
       "      <td>8</td>\n",
       "    </tr>\n",
       "    <tr>\n",
       "      <th>8</th>\n",
       "      <td>C</td>\n",
       "      <td>2012</td>\n",
       "      <td>55</td>\n",
       "    </tr>\n",
       "  </tbody>\n",
       "</table>\n",
       "</div>"
      ],
      "text/plain": [
       "  person  year  train_rides\n",
       "0      A  2010           32\n",
       "1      B  2010           83\n",
       "2      C  2010            8\n",
       "3      A  2011           16\n",
       "4      B  2011           37\n",
       "5      C  2011           55\n",
       "6      A  2012           30\n",
       "7      B  2012            8\n",
       "8      C  2012           55"
      ]
     },
     "execution_count": 16,
     "metadata": {},
     "output_type": "execute_result"
    }
   ],
   "source": [
    "long_df"
   ]
  },
  {
   "cell_type": "markdown",
   "id": "14234ec1-183f-4ea2-9dda-9fc1e09da3b7",
   "metadata": {
    "editable": true,
    "slideshow": {
     "slide_type": "slide"
    },
    "tags": []
   },
   "source": [
    "### Fra wide til long - eksempel 2"
   ]
  },
  {
   "cell_type": "code",
   "execution_count": 17,
   "id": "f2e10bc6-40e1-484f-aa23-69bc98631322",
   "metadata": {
    "editable": true,
    "slideshow": {
     "slide_type": "fragment"
    },
    "tags": []
   },
   "outputs": [
    {
     "data": {
      "text/html": [
       "<div>\n",
       "<style scoped>\n",
       "    .dataframe tbody tr th:only-of-type {\n",
       "        vertical-align: middle;\n",
       "    }\n",
       "\n",
       "    .dataframe tbody tr th {\n",
       "        vertical-align: top;\n",
       "    }\n",
       "\n",
       "    .dataframe thead th {\n",
       "        text-align: right;\n",
       "    }\n",
       "</style>\n",
       "<table border=\"1\" class=\"dataframe\">\n",
       "  <thead>\n",
       "    <tr style=\"text-align: right;\">\n",
       "      <th></th>\n",
       "      <th>person</th>\n",
       "      <th>age</th>\n",
       "      <th>car_colour</th>\n",
       "    </tr>\n",
       "  </thead>\n",
       "  <tbody>\n",
       "    <tr>\n",
       "      <th>0</th>\n",
       "      <td>A</td>\n",
       "      <td>22</td>\n",
       "      <td>red</td>\n",
       "    </tr>\n",
       "    <tr>\n",
       "      <th>1</th>\n",
       "      <td>B</td>\n",
       "      <td>53</td>\n",
       "      <td>white</td>\n",
       "    </tr>\n",
       "    <tr>\n",
       "      <th>2</th>\n",
       "      <td>C</td>\n",
       "      <td>36</td>\n",
       "      <td>blue</td>\n",
       "    </tr>\n",
       "    <tr>\n",
       "      <th>3</th>\n",
       "      <td>D</td>\n",
       "      <td>42</td>\n",
       "      <td>orange</td>\n",
       "    </tr>\n",
       "  </tbody>\n",
       "</table>\n",
       "</div>"
      ],
      "text/plain": [
       "  person  age car_colour\n",
       "0      A   22        red\n",
       "1      B   53      white\n",
       "2      C   36       blue\n",
       "3      D   42     orange"
      ]
     },
     "execution_count": 17,
     "metadata": {},
     "output_type": "execute_result"
    }
   ],
   "source": [
    "wide2_df"
   ]
  },
  {
   "cell_type": "code",
   "execution_count": 18,
   "id": "1e94dcb8-fe24-4361-818e-39674be5fe86",
   "metadata": {
    "editable": true,
    "slideshow": {
     "slide_type": "fragment"
    },
    "tags": []
   },
   "outputs": [
    {
     "data": {
      "text/html": [
       "<div>\n",
       "<style scoped>\n",
       "    .dataframe tbody tr th:only-of-type {\n",
       "        vertical-align: middle;\n",
       "    }\n",
       "\n",
       "    .dataframe tbody tr th {\n",
       "        vertical-align: top;\n",
       "    }\n",
       "\n",
       "    .dataframe thead th {\n",
       "        text-align: right;\n",
       "    }\n",
       "</style>\n",
       "<table border=\"1\" class=\"dataframe\">\n",
       "  <thead>\n",
       "    <tr style=\"text-align: right;\">\n",
       "      <th></th>\n",
       "      <th>person</th>\n",
       "      <th>variable</th>\n",
       "      <th>value</th>\n",
       "    </tr>\n",
       "  </thead>\n",
       "  <tbody>\n",
       "    <tr>\n",
       "      <th>0</th>\n",
       "      <td>A</td>\n",
       "      <td>age</td>\n",
       "      <td>22</td>\n",
       "    </tr>\n",
       "    <tr>\n",
       "      <th>1</th>\n",
       "      <td>B</td>\n",
       "      <td>age</td>\n",
       "      <td>53</td>\n",
       "    </tr>\n",
       "    <tr>\n",
       "      <th>2</th>\n",
       "      <td>C</td>\n",
       "      <td>age</td>\n",
       "      <td>36</td>\n",
       "    </tr>\n",
       "    <tr>\n",
       "      <th>3</th>\n",
       "      <td>D</td>\n",
       "      <td>age</td>\n",
       "      <td>42</td>\n",
       "    </tr>\n",
       "    <tr>\n",
       "      <th>4</th>\n",
       "      <td>A</td>\n",
       "      <td>car_colour</td>\n",
       "      <td>red</td>\n",
       "    </tr>\n",
       "    <tr>\n",
       "      <th>5</th>\n",
       "      <td>B</td>\n",
       "      <td>car_colour</td>\n",
       "      <td>white</td>\n",
       "    </tr>\n",
       "    <tr>\n",
       "      <th>6</th>\n",
       "      <td>C</td>\n",
       "      <td>car_colour</td>\n",
       "      <td>blue</td>\n",
       "    </tr>\n",
       "    <tr>\n",
       "      <th>7</th>\n",
       "      <td>D</td>\n",
       "      <td>car_colour</td>\n",
       "      <td>orange</td>\n",
       "    </tr>\n",
       "  </tbody>\n",
       "</table>\n",
       "</div>"
      ],
      "text/plain": [
       "  person    variable   value\n",
       "0      A         age      22\n",
       "1      B         age      53\n",
       "2      C         age      36\n",
       "3      D         age      42\n",
       "4      A  car_colour     red\n",
       "5      B  car_colour   white\n",
       "6      C  car_colour    blue\n",
       "7      D  car_colour  orange"
      ]
     },
     "execution_count": 18,
     "metadata": {},
     "output_type": "execute_result"
    }
   ],
   "source": [
    "long2_df"
   ]
  },
  {
   "cell_type": "markdown",
   "id": "67787e46-799c-4411-b210-0ad557693074",
   "metadata": {
    "editable": true,
    "slideshow": {
     "slide_type": "slide"
    },
    "tags": []
   },
   "source": [
    "# Sammensætning af data og ændring af dataformat (live-coding)"
   ]
  },
  {
   "cell_type": "markdown",
   "id": "8d5221d7-0ed5-453e-a507-d6c8ebbdb4da",
   "metadata": {
    "editable": true,
    "slideshow": {
     "slide_type": "slide"
    },
    "tags": []
   },
   "source": [
    "# Opsummering\n",
    "\n",
    "- Datasæt kan sammensættes på forskellig vis\n",
    "    - Sammensætning af *rækker* kaldes typisk *appending* eller *concatenating* for tabulær data\n",
    "    - Sammensætning af *varible* kaldes typisk *join* eller *merge* for tabulær data\n",
    "- Tabulær data kan være i forskellige formater\n",
    "    - Data i *wide* format indeholder én række per enhed\n",
    "    - Data i *long* format kan indeholde flere rækker per enhed (fx ved tidsserier)"
   ]
  }
 ],
 "metadata": {
  "kernelspec": {
   "display_name": "Python 3 (ipykernel)",
   "language": "python",
   "name": "python3"
  },
  "language_info": {
   "codemirror_mode": {
    "name": "ipython",
    "version": 3
   },
   "file_extension": ".py",
   "mimetype": "text/x-python",
   "name": "python",
   "nbconvert_exporter": "python",
   "pygments_lexer": "ipython3",
   "version": "3.12.3"
  }
 },
 "nbformat": 4,
 "nbformat_minor": 5
}
