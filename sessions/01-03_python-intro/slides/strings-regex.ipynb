{
 "cells": [
  {
   "cell_type": "code",
   "execution_count": 78,
   "id": "866f9f70-b489-45fc-a229-2f595c1cba4e",
   "metadata": {
    "editable": true,
    "slideshow": {
     "slide_type": "skip"
    },
    "tags": []
   },
   "outputs": [],
   "source": [
    "# prep\n",
    "\n",
    "import pandas as pd\n",
    "import re\n",
    "from datetime import datetime\n",
    "\n",
    "text = \"\"\"Der var tre drenge, der skulle ud i skoven. Den ene hed Jakob; de to andre hed Finn. \n",
    "så blev den ene Finn væk, så Jakob sagde til den anden Finn: \"Finn find, Finn\".\n",
    "Finn kiggede mærkelig på Jakob og sagde: 'Jakob Jakob Jakob'.\"\"\""
   ]
  },
  {
   "cell_type": "markdown",
   "id": "c12d3c34-8fa1-42d3-80da-516e0ad46b82",
   "metadata": {
    "slideshow": {
     "slide_type": "slide"
    },
    "tags": []
   },
   "source": [
    "# Introduktion til Python II - Tid og tekst i Python"
   ]
  },
  {
   "cell_type": "markdown",
   "id": "6bd8bd9b-e77a-4419-9c4b-9404160a50ed",
   "metadata": {
    "slideshow": {
     "slide_type": "slide"
    },
    "tags": []
   },
   "source": [
    "## Program\n",
    "\n",
    "- Opfølgning fra sidste undervisningsgang\n",
    "- Tekst (strings) i Python\n",
    "- Introduktion til regular expressions\n",
    "- Brug af strings metoder og regular expressions i pandas data frames\n",
    "- Datoer og tid i Python\n",
    "- Datoer og tid i pandas data frames"
   ]
  },
  {
   "cell_type": "markdown",
   "id": "2507919c-c196-4438-acad-de273c72aef6",
   "metadata": {
    "slideshow": {
     "slide_type": "slide"
    },
    "tags": []
   },
   "source": [
    "# Opfølgning fra sidste undervisningsgang"
   ]
  },
  {
   "cell_type": "markdown",
   "id": "ceb25d08-c98c-450b-adfd-8da241736f14",
   "metadata": {
    "slideshow": {
     "slide_type": "slide"
    },
    "tags": []
   },
   "source": [
    "## Strings i Python\n",
    "\n",
    "- Strings er også en *class*\n",
    "- Har en lang række indbyggede metoder\n",
    "\n",
    "**Eksempler på string metoder**"
   ]
  },
  {
   "cell_type": "markdown",
   "id": "46a93818-5705-4c52-bdef-8a7acaaa9d57",
   "metadata": {
    "slideshow": {
     "slide_type": "skip"
    },
    "tags": []
   },
   "source": [
    "| Metode | Forklaring | Objekt returneret |\n",
    "| --- | --- | --- |\n",
    "| `.lower()` | Lav om til små bogstaver (lower-case) | String |\n",
    "| `.replace(old, new)` | Erstat tegn i tekst | String |\n",
    "| `.startswith()` | Hvorvidt tekst starter med specifikke tegn | Boolean |\n",
    "| `.split()` | Opdel tekst ved specifikt tegn | Liste |"
   ]
  },
  {
   "cell_type": "markdown",
   "id": "798d0704-46e6-46a3-8a8a-bb4390698afe",
   "metadata": {
    "tags": []
   },
   "source": [
    "<table>\n",
    "<thead>\n",
    "<tr><th>Metode</th><th>Forklaring</th><th>Objekt returneret</th></tr></thead>\n",
    "<tbody><tr><td><code>.lower()</code></td><td>Lav om til små bogstaver (lower-case)</td><td>String</td></tr><tr><td><code>.replace(old, new)</code></td><td>Erstat tegn i tekst</td><td>String</td></tr><tr><td><code>.startswith()</code></td><td>Hvorvidt tekst starter med specifikke tegn</td><td>Boolean</td></tr><tr><td><code>.split()</code></td><td>Opdel tekst ved specifikt tegn</td><td>Liste</td></tr></tbody>\n",
    "</table>"
   ]
  },
  {
   "cell_type": "markdown",
   "id": "9a66e176-fb2c-4bec-914e-9c15556d4813",
   "metadata": {
    "slideshow": {
     "slide_type": "slide"
    },
    "tags": []
   },
   "source": [
    "## `in` operatoren i Python\n",
    "\n",
    "- `in` bruges i flere sammenhænge - er én ting en del af en anden ting?\n",
    "- Returnerer altid boolean"
   ]
  },
  {
   "cell_type": "markdown",
   "id": "81ae9b0f-141d-4ac0-9a11-28c873e49b2b",
   "metadata": {
    "slideshow": {
     "slide_type": "fragment"
    },
    "tags": []
   },
   "source": [
    "**String eksempel**"
   ]
  },
  {
   "cell_type": "code",
   "execution_count": 3,
   "id": "b9883b3e-1823-4537-926c-b2716b039fe6",
   "metadata": {
    "tags": []
   },
   "outputs": [
    {
     "data": {
      "text/plain": [
       "True"
      ]
     },
     "execution_count": 3,
     "metadata": {},
     "output_type": "execute_result"
    }
   ],
   "source": [
    "\"hello\" in \"hello there\" # er string til vesntre en substring af string til højre?"
   ]
  },
  {
   "cell_type": "markdown",
   "id": "294eacad-8b42-4bb4-a58e-81af62976c00",
   "metadata": {
    "slideshow": {
     "slide_type": "fragment"
    },
    "tags": []
   },
   "source": [
    "**Liste eksempel**"
   ]
  },
  {
   "cell_type": "code",
   "execution_count": 5,
   "id": "b6d19ddf-b95b-4b38-8a1a-3f9bec186e27",
   "metadata": {
    "tags": []
   },
   "outputs": [
    {
     "data": {
      "text/plain": [
       "False"
      ]
     },
     "execution_count": 5,
     "metadata": {},
     "output_type": "execute_result"
    }
   ],
   "source": [
    "\"hello\" in [\"hello there\", \"hello world\"] # er værdien til venstre en af værdierne i listen?"
   ]
  },
  {
   "cell_type": "markdown",
   "id": "f47a5126-c805-4cf8-9e0a-328e4156c4b0",
   "metadata": {
    "slideshow": {
     "slide_type": "fragment"
    },
    "tags": []
   },
   "source": [
    "**Dictionary eksempel**"
   ]
  },
  {
   "cell_type": "code",
   "execution_count": 11,
   "id": "5a316cbf-7ae4-41e0-988c-13e4eaab8e29",
   "metadata": {},
   "outputs": [
    {
     "data": {
      "text/plain": [
       "True"
      ]
     },
     "execution_count": 11,
     "metadata": {},
     "output_type": "execute_result"
    }
   ],
   "source": [
    "\"hello\" in {\"hello\": \"there\", \"goodbye\": \"there\"} # er værdien til venstre en key i dictionary?"
   ]
  },
  {
   "cell_type": "code",
   "execution_count": 12,
   "id": "78364f8a-f1b0-4910-bf48-26722fa3a061",
   "metadata": {},
   "outputs": [
    {
     "data": {
      "text/plain": [
       "False"
      ]
     },
     "execution_count": 12,
     "metadata": {},
     "output_type": "execute_result"
    }
   ],
   "source": [
    "\"you\" in {\"hello\": \"there\", \"goodbye\": \"you\"} # er værdien til venstre en key i dictionary?"
   ]
  },
  {
   "cell_type": "markdown",
   "id": "d14cee99-a875-41c3-8388-2e0c1819fcf5",
   "metadata": {
    "slideshow": {
     "slide_type": "slide"
    },
    "tags": []
   },
   "source": [
    "## String metoder i pandas\n",
    "\n",
    "- De fleste string metoder findes i pandas også\n",
    "- Tilgås under `.str`\n",
    "\n",
    "**Eksempler (base python - pandas)**"
   ]
  },
  {
   "cell_type": "markdown",
   "id": "d0c1dfb8-108f-4d28-a277-91d83e5a1118",
   "metadata": {
    "slideshow": {
     "slide_type": "skip"
    },
    "tags": []
   },
   "source": [
    "|Base|Pandas|\n",
    "|--|--|\n",
    "|`.lower()`|`.str.lower()`|\n",
    "|`.replace()`|`.str.replace()`|\n",
    "|`.startswith()`|`.str.startswith()`|\n",
    "|`in`|`.str.contains()`|"
   ]
  },
  {
   "cell_type": "markdown",
   "id": "c9ca8cc5-b7ba-466c-8016-2311945ccc0d",
   "metadata": {
    "jupyter": {
     "source_hidden": true
    },
    "tags": []
   },
   "source": [
    "<table>\n",
    "<thead>\n",
    "<tr><th>Base</th><th>Pandas</th></tr></thead>\n",
    "<tbody><tr><td><code>.lower()</code></td><td><code>.str.lower()</code></td></tr><tr><td><code>.replace()</code></td><td><code>.str.replace()</code></td></tr><tr><td><code>.startswith()</code></td><td><code>.str.startswith()</code></td></tr><tr><td><code>in</code></td><td><code>.str.contains()</code></td></tr></tbody>\n",
    "</table>"
   ]
  },
  {
   "cell_type": "markdown",
   "id": "db29b9a4-050c-4707-a132-f550d8723318",
   "metadata": {
    "slideshow": {
     "slide_type": "slide"
    },
    "tags": []
   },
   "source": [
    "# String metoder i Python (live coding)"
   ]
  },
  {
   "cell_type": "markdown",
   "id": "1e06eb42-af28-42b1-bd93-3ea31bf99409",
   "metadata": {
    "slideshow": {
     "slide_type": "slide"
    },
    "tags": []
   },
   "source": [
    "# Introduktion til regular expressions\n",
    "\n",
    "https://www.regexpal.com/"
   ]
  },
  {
   "cell_type": "markdown",
   "id": "31f240eb-5d60-45dd-bb0d-ed8bd944da4a",
   "metadata": {
    "slideshow": {
     "slide_type": "slide"
    },
    "tags": []
   },
   "source": [
    "## Hvad er regular expressions?\n",
    "\n",
    "- Samling af tegn der definerer mønster til tekstsøgning\n",
    "- Er ikke specifikt til Python - implementeret i de fleste programmeringssprog\n",
    "- Bruges til specifikke søgninger af ord, tekststykker og tekster\n",
    "\n",
    "**Hvorfor bruge regular expressions?**\n",
    "- Meget effektiv måde at lave søgninger og filtreringer på\n",
    "- Mønstre kan lave utroligt specifikke og sofistikerede\n",
    "- Effektiv til at lave filtreringer af tekststykker (uanset antal)"
   ]
  },
  {
   "cell_type": "markdown",
   "id": "062977ac-09ca-4240-8f55-4192031fc709",
   "metadata": {
    "slideshow": {
     "slide_type": "slide"
    },
    "tags": []
   },
   "source": [
    "## Eksempel på regular expression\n",
    "\n",
    "`^[KT]\\w{5,8}\\s[\\d|\\w]+`\n",
    "\n",
    "*Oversat*: Find tekststykker, der starter med ord på 6-9 karakterer, som starter med enten stort K eller stort T, efterfulgt af et mellemrum, efterfulgt af et eller flere tal eller bogstaver.\n",
    "\n",
    "*Eksempelvis*: Torvet 5e"
   ]
  },
  {
   "cell_type": "markdown",
   "id": "364cc57c-e992-47f4-be05-a11500df4672",
   "metadata": {
    "slideshow": {
     "slide_type": "slide"
    },
    "tags": []
   },
   "source": [
    "## Regular expressions: Match flere tegn"
   ]
  },
  {
   "cell_type": "markdown",
   "id": "c4a57a0d-eea2-4b7f-b83b-afab10601a72",
   "metadata": {
    "slideshow": {
     "slide_type": "skip"
    },
    "tags": []
   },
   "source": [
    "|Forklaring|Tegn|Eksempel mønster|Matcher|\n",
    "|--|--|--|--|\n",
    "|Match flere tegn|`[]`|`[jJ]akob`|jakob, Jakob|\n",
    "|Match flere tegn|`[]`|`[12345]`|Tallene 1-5|\n",
    "|Range af tegn|`[x-y]`|`[A-Z]`|Et stort bogstav|\n",
    "|Range af tegn|`[x-y]`|`[0-9]`|Et enkeltciffer|\n",
    "|Negation|`[^x]`|`[^S]`|Ikke et stort S|\n",
    "|Match flere tegnsamlinger (fx ord)|`\\|`|`Jakob\\|Finn`|Jakob eller Finn|"
   ]
  },
  {
   "cell_type": "markdown",
   "id": "e63955d7-84f3-4e6a-bcb6-b15c0d383353",
   "metadata": {
    "tags": []
   },
   "source": [
    "<table>\n",
    "<thead>\n",
    "<tr><th>Forklaring</th><th>Tegn</th><th>Eksempel mønster</th><th>Matcher</th></tr></thead>\n",
    "<tbody><tr><td>Match flere tegn</td><td><code>[]</code></td><td><code>[jJ]akob</code></td><td>jakob, Jakob</td></tr><tr><td>Match flere tegn</td><td><code>[]</code></td><td><code>[12345]</code></td><td>Tallene 1-5</td></tr><tr><td>Range af tegn</td><td><code>[x-y]</code></td><td><code>[A-Z]</code></td><td>Et stort bogstav</td></tr><tr><td>Range af tegn</td><td><code>[x-y]</code></td><td><code>[0-9]</code></td><td>Et enkeltciffer</td></tr><tr><td>Negation</td><td><code>[^x]</code></td><td><code>[^S]</code></td><td>Ikke et stort S</td></tr><tr><td>Match flere tegnsamlinger (fx ord)</td><td><code>\\|</code></td><td><code>Jakob\\|Finn</code></td><td>Jakob eller Finn</td></tr></tbody>\n",
    "</table>"
   ]
  },
  {
   "cell_type": "markdown",
   "id": "6bcdb0db-79af-4c85-ad68-9ffa833fb2b1",
   "metadata": {
    "slideshow": {
     "slide_type": "slide"
    },
    "tags": []
   },
   "source": [
    "## Regular expressions: Wildcard-søgninger"
   ]
  },
  {
   "cell_type": "markdown",
   "id": "bc260245-a691-46dc-9111-d58bf2fe4841",
   "metadata": {
    "slideshow": {
     "slide_type": "skip"
    },
    "tags": []
   },
   "source": [
    "|Forklaring|Tegn|Eksempel mønster|Matcher|\n",
    "|--|--|--|--|\n",
    "|Valgfri karakter (match 1 eller 0 gange)|`?`|`Kath?rine`|Kathrine, Katrine|\n",
    "|Match 0 eller flere gange|`*`|`haa*!`|ha!, haa!, haaa!, haaaa!, ...|\n",
    "|Match 1 eller flere gange|`+`|`haa+!`|haa!, haaa!, haaaa!, ...|\n",
    "|Match hvilken som helst karakter|`.`|`.us`|mus, lus, hus, bus|\n",
    "|Match start af string|`^`|`^F`|**F**inn kiggede mærkeligt|\n",
    "|Match enden af string|`$`|`t$`|Finn kiggede mærkelig**t**|\n",
    "|Gentag mønster|`{x,y}`|`Fin{1,2}`|**Fin**n kiggede mærkeligt, **Finn** kiggede mærkeligt|"
   ]
  },
  {
   "cell_type": "markdown",
   "id": "6e8a769a-07bf-4d6c-b76d-33ee36865bfa",
   "metadata": {
    "jupyter": {
     "source_hidden": true
    },
    "tags": []
   },
   "source": [
    "<table>\n",
    "<thead>\n",
    "<tr><th>Forklaring</th><th>Tegn</th><th>Eksempel mønster</th><th>Matcher</th></tr></thead>\n",
    "<tbody><tr><td>Valgfri karakter (match 1 eller 0 gange)</td><td><code>?</code></td><td><code>Kath?rine</code></td><td>Kathrine, Katrine</td></tr><tr><td>Match 0 eller flere gange</td><td><code>*</code></td><td><code>haa*!</code></td><td>ha!, haa!, haaa!, haaaa!, ...</td></tr><tr><td>Match 1 eller flere gange</td><td><code>+</code></td><td><code>haa+!</code></td><td>haa!, haaa!, haaaa!, ...</td></tr><tr><td>Match hvilken som helst karakter</td><td><code>.</code></td><td><code>.us</code></td><td>mus, lus, hus, bus</td></tr><tr><td>Match start af string</td><td><code>^</code></td><td><code>^F</code></td><td><strong>F</strong>inn kiggede mærkeligt</td></tr><tr><td>Match enden af string</td><td><code>$</code></td><td><code>t$</code></td><td>Finn kiggede mærkelig<strong>t</strong></td></tr><tr><td>Gentag mønster</td><td><code>{x,y}</code></td><td><code>Fin{1,2}</code></td><td><strong>Fin</strong>n kiggede mærkeligt, <strong>Finn</strong> kiggede mærkeligt</td></tr></tbody>\n",
    "</table>"
   ]
  },
  {
   "cell_type": "markdown",
   "id": "b5bc805c-7d8c-429c-b1e8-3f15a23b3f62",
   "metadata": {
    "slideshow": {
     "slide_type": "slide"
    },
    "tags": []
   },
   "source": [
    "## Regular expressions: Match typer af tegn"
   ]
  },
  {
   "cell_type": "markdown",
   "id": "d1cca56f-e313-4918-bf2f-700b568fa8e7",
   "metadata": {
    "slideshow": {
     "slide_type": "skip"
    },
    "tags": []
   },
   "source": [
    "|Forklaring|Tegn|\n",
    "|--|--|\n",
    "|Match \"word character\"|`\\w`|\n",
    "|Match *ikke* \"word character\"|`\\W`|\n",
    "|Match et tal|`\\d`|\n",
    "|Match et \"whitespace\"|`\\s`|\n",
    "|Match *ikke* et \"whitespace\"|`\\S`|\n",
    "|Match et linjeskift|`\\n`|\n",
    "|Match et linjeskift|`\\r`|\n",
    "|Match en ordafgrænsning (tegnsætning, whitespace, linjeskift)|`\\b`|"
   ]
  },
  {
   "cell_type": "markdown",
   "id": "39062ca8-9fc7-4195-b1e1-8633afa13ae4",
   "metadata": {
    "jupyter": {
     "source_hidden": true
    },
    "tags": []
   },
   "source": [
    "<table>\n",
    "<thead>\n",
    "<tr><th>Forklaring</th><th>Tegn</th></tr></thead>\n",
    "<tbody><tr><td>Match &quot;word character&quot;</td><td><code>\\w</code></td></tr><tr><td>Match <em>ikke</em> &quot;word character&quot;</td><td><code>\\W</code></td></tr><tr><td>Match et tal</td><td><code>\\d</code></td></tr><tr><td>Match et &quot;whitespace&quot;</td><td><code>\\s</code></td></tr><tr><td>Match <em>ikke</em> et &quot;whitespace&quot;</td><td><code>\\S</code></td></tr><tr><td>Match et linjeskift</td><td><code>\\n</code></td></tr><tr><td>Match et linjeskift</td><td><code>\\r</code></td></tr><tr><td>Match en ordafgrænsning (tegnsætning, whitespace, linjeskift)</td><td><code>\\b</code></td></tr></tbody>\n",
    "</table>"
   ]
  },
  {
   "cell_type": "markdown",
   "id": "d5b1026b-0e20-4b74-8fcb-be4007c58775",
   "metadata": {
    "slideshow": {
     "slide_type": "slide"
    },
    "tags": []
   },
   "source": [
    "## Regular expressions: Look ahead / look behind"
   ]
  },
  {
   "cell_type": "markdown",
   "id": "f87abd68-16a6-4e9d-bd1b-fd5c8108f792",
   "metadata": {
    "slideshow": {
     "slide_type": "skip"
    },
    "tags": []
   },
   "source": [
    "|Forklaring|Tegn|Eksempel mønster|Matcher|\n",
    "|--|--|--|--|\n",
    "|Mønster skal komme efter|`(?=)`|`\\w+(?= kig)`|**Finn** kiggede mærkelig på Jakob|\n",
    "|Mønster skal komme før|`(?<=)`|`(?<=på )\\w+`|Finn kiggede mærkelig på **Jakob**|"
   ]
  },
  {
   "cell_type": "markdown",
   "id": "cb92f54c-9d3e-486a-a621-656deb8fa596",
   "metadata": {
    "jupyter": {
     "source_hidden": true
    },
    "tags": []
   },
   "source": [
    "<table>\n",
    "<thead>\n",
    "<tr><th>Forklaring</th><th>Tegn</th><th>Eksempel mønster</th><th>Matcher</th></tr></thead>\n",
    "<tbody><tr><td>Mønster skal komme efter</td><td><code>(?=)</code></td><td><code>\\w+(?= kig)</code></td><td><strong>Finn</strong> kiggede mærkelig på Jakob</td></tr><tr><td>Mønster skal komme før</td><td><code>(?&lt;=)</code></td><td><code>(?&lt;=på )\\w+</code></td><td>Finn kiggede mærkelig på <strong>Jakob</strong></td></tr></tbody>\n",
    "</table>"
   ]
  },
  {
   "cell_type": "markdown",
   "id": "7cf2b65c-ae98-47c4-b5be-f97a6d71a328",
   "metadata": {
    "slideshow": {
     "slide_type": "slide"
    },
    "tags": []
   },
   "source": [
    "## Escaping\n",
    "\n",
    "- *Esccaping* tillader, at man kan danne regular expression, der matcher tegnsætning som \".\", \"?\" og andre tegn brugt i regular expression\n",
    "\n",
    "- Man *escaper* et tegn (dvs. omgår dens betydning i regular expression) ved brug af `\\`\n",
    "\n",
    "**Eksempel**"
   ]
  },
  {
   "cell_type": "markdown",
   "id": "a04f954e-5c8d-4ab7-a6f3-37807c371137",
   "metadata": {
    "slideshow": {
     "slide_type": "skip"
    },
    "tags": []
   },
   "source": [
    "|Mønster|Matcher|\n",
    "|--|--|\n",
    "|`kat?`|har du en **ka**t?, har du en **kat**?|\n",
    "|`kat\\?`|har du en **kat?**|"
   ]
  },
  {
   "cell_type": "markdown",
   "id": "eb76ff25-b2dd-4184-b37f-8a87805cf8ad",
   "metadata": {
    "jupyter": {
     "source_hidden": true
    },
    "tags": []
   },
   "source": [
    "<table><thead><tr><th><span>Mønster</span></th><th><span>Matcher</span></th></tr></thead><tbody><tr><td><code>kat?</code></td><td><span>har du en </span><strong><span>ka</span></strong><span>t?, har du en </span><strong><span>kat</span></strong><span>?</span></td></tr><tr><td><code>kat\\?</code></td><td><span>har du en </span><strong><span>kat?</span></strong></td></tr></tbody></table>"
   ]
  },
  {
   "cell_type": "markdown",
   "id": "863e3785-05d1-433a-a007-38d0caedcdcb",
   "metadata": {
    "slideshow": {
     "slide_type": "slide"
    },
    "tags": []
   },
   "source": [
    "## Grupper\n",
    "\n",
    "- Regular expressions kan opdeles i \"undermønstre\" (mønstre i mønstre) vha. grupper\n",
    "- En regular expression *gruppe* angives med `()`\n",
    "\n",
    "**Eksempel:**\n",
    "\n",
    "`^[A-Z]\\w+ (\\w+)`\n",
    "\n",
    "- Hele mønstret matcher tekst, der starter med et ord med stort forbogstav efterfulgt af et andet ord\n",
    "- Gruppen (gruppe 1) matcher det andet ord"
   ]
  },
  {
   "cell_type": "markdown",
   "id": "d2e506ff-6e95-4b03-bce6-1394266bc558",
   "metadata": {
    "slideshow": {
     "slide_type": "slide"
    },
    "tags": []
   },
   "source": [
    "## Regular expressions i Python\n",
    "\n",
    "- Brug pakken `re` (del af standardbibliotek)\n",
    "\n",
    "*Definér mønster*: `re.compile()` (danner et  regex objekt `re.pattern`)\n",
    "\n",
    "*Find match i start af tekst*: `re.match()`\n",
    "\n",
    "*Find match et eller andet sted i tekst*: `re.search()` (altid det første match)\n",
    "\n",
    "*Find all matches i en tekst*: `re.findall()` (returnerer altid en liste)"
   ]
  },
  {
   "cell_type": "markdown",
   "id": "723237bb-611c-4b6c-9a85-54b225a90c8c",
   "metadata": {
    "slideshow": {
     "slide_type": "slide"
    },
    "tags": []
   },
   "source": [
    "## Regular expressions i Python"
   ]
  },
  {
   "cell_type": "code",
   "execution_count": 73,
   "id": "551bb0ae-3e94-446c-9cb2-0656cd16ecc1",
   "metadata": {},
   "outputs": [
    {
     "data": {
      "text/plain": [
       "<re.Match object; span=(0, 5), match='Jakob'>"
      ]
     },
     "execution_count": 73,
     "metadata": {},
     "output_type": "execute_result"
    }
   ],
   "source": [
    "import re\n",
    "\n",
    "text = \"Jakob siger: 'Hej med dig, Finn'\"\n",
    "\n",
    "regex = re.compile(\"[A-Z]\\w+\")\n",
    "\n",
    "regex.search(text) # matcher regex med tekst?"
   ]
  },
  {
   "cell_type": "code",
   "execution_count": 74,
   "id": "1049d6df-53d5-4858-bf5c-f59c620186f4",
   "metadata": {
    "slideshow": {
     "slide_type": "fragment"
    },
    "tags": []
   },
   "outputs": [
    {
     "data": {
      "text/plain": [
       "['Jakob', 'Hej', 'Finn']"
      ]
     },
     "execution_count": 74,
     "metadata": {},
     "output_type": "execute_result"
    }
   ],
   "source": [
    "regex.findall(text) # hvilke tekststykker matcher?"
   ]
  },
  {
   "cell_type": "markdown",
   "id": "17a0e474-2c39-4496-8e0f-528cb637b69d",
   "metadata": {
    "slideshow": {
     "slide_type": "slide"
    },
    "tags": []
   },
   "source": [
    "## Regular expressions i Python"
   ]
  },
  {
   "cell_type": "code",
   "execution_count": 75,
   "id": "4181292f-e1d9-42a7-ae0c-54fb6c38d643",
   "metadata": {},
   "outputs": [
    {
     "data": {
      "text/plain": [
       "'siger'"
      ]
     },
     "execution_count": 75,
     "metadata": {},
     "output_type": "execute_result"
    }
   ],
   "source": [
    "text = \"Jakob siger: 'Hej med dig, Finn'\"\n",
    "\n",
    "regex = re.compile(\"[A-Z]\\w+ (\\w+)\")\n",
    "\n",
    "regex.search(text).group(1) # hvad matcher mønstret i gruppe 1?"
   ]
  },
  {
   "cell_type": "code",
   "execution_count": 76,
   "id": "e90c384f-fd68-48d4-b020-7852c53fdf90",
   "metadata": {
    "slideshow": {
     "slide_type": "fragment"
    },
    "tags": []
   },
   "outputs": [
    {
     "data": {
      "text/plain": [
       "['siger', 'med']"
      ]
     },
     "execution_count": 76,
     "metadata": {},
     "output_type": "execute_result"
    }
   ],
   "source": [
    "regex.findall(text) # hvilke tekststykker matcher mønstret i gruppe 1?"
   ]
  },
  {
   "cell_type": "markdown",
   "id": "bb82cc1c-07c6-4165-af9b-f0322c70af37",
   "metadata": {
    "slideshow": {
     "slide_type": "slide"
    },
    "tags": []
   },
   "source": [
    "## Regular expressions i pandas\n",
    "\n",
    "- Flere metoder i pandas understøtter regular expression (fx `.replace()`, `.str.replace()`, `.str.contains()`)\n",
    "- Regular expressions kan også bruges til at udlede text fra én kolonne til en anden (med `.str.extract()`)\n",
    "    - *Bemærk*: Udledning baseret på grupper i regeular expression"
   ]
  },
  {
   "cell_type": "code",
   "execution_count": 58,
   "id": "f1d5007c-5def-44bc-9d66-792c12ae2c76",
   "metadata": {
    "slideshow": {
     "slide_type": "fragment"
    },
    "tags": []
   },
   "outputs": [
    {
     "data": {
      "text/plain": [
       "0     True\n",
       "1     True\n",
       "2    False\n",
       "dtype: bool"
      ]
     },
     "execution_count": 58,
     "metadata": {},
     "output_type": "execute_result"
    }
   ],
   "source": [
    "s = pd.Series([\"cat\", \"dog\", \"house\"])\n",
    "s.str.contains(\"^\\w{3}$\", regex = True)"
   ]
  },
  {
   "cell_type": "code",
   "execution_count": 57,
   "id": "8a423bdb-b38f-478c-8eca-098815cb7cd2",
   "metadata": {
    "slideshow": {
     "slide_type": "fragment"
    },
    "tags": []
   },
   "outputs": [
    {
     "data": {
      "text/html": [
       "<div>\n",
       "<style scoped>\n",
       "    .dataframe tbody tr th:only-of-type {\n",
       "        vertical-align: middle;\n",
       "    }\n",
       "\n",
       "    .dataframe tbody tr th {\n",
       "        vertical-align: top;\n",
       "    }\n",
       "\n",
       "    .dataframe thead th {\n",
       "        text-align: right;\n",
       "    }\n",
       "</style>\n",
       "<table border=\"1\" class=\"dataframe\">\n",
       "  <thead>\n",
       "    <tr style=\"text-align: right;\">\n",
       "      <th></th>\n",
       "      <th>0</th>\n",
       "    </tr>\n",
       "  </thead>\n",
       "  <tbody>\n",
       "    <tr>\n",
       "      <th>0</th>\n",
       "      <td>James</td>\n",
       "    </tr>\n",
       "    <tr>\n",
       "      <th>1</th>\n",
       "      <td>Bobbie</td>\n",
       "    </tr>\n",
       "  </tbody>\n",
       "</table>\n",
       "</div>"
      ],
      "text/plain": [
       "        0\n",
       "0   James\n",
       "1  Bobbie"
      ]
     },
     "execution_count": 57,
     "metadata": {},
     "output_type": "execute_result"
    }
   ],
   "source": [
    "s = pd.Series([\"James Holden\", \"Bobbie Draper\"])\n",
    "s.str.extract(\"(^[A-Z]\\w+)(?= )\")"
   ]
  },
  {
   "cell_type": "markdown",
   "id": "fc651d34-48a4-4d10-8d80-983ac8816a12",
   "metadata": {
    "slideshow": {
     "slide_type": "slide"
    },
    "tags": []
   },
   "source": [
    "# Regular expressions i Python (live-coding)"
   ]
  },
  {
   "cell_type": "markdown",
   "id": "064e763c-f442-48aa-90d5-96f54c3e00d3",
   "metadata": {
    "slideshow": {
     "slide_type": "slide"
    },
    "tags": []
   },
   "source": [
    "# ØVELSE: Regular expression i Python"
   ]
  },
  {
   "cell_type": "markdown",
   "id": "487f3dd5-5d66-497e-9e2d-21a94bf2bd0f",
   "metadata": {
    "slideshow": {
     "slide_type": "slide"
    },
    "tags": []
   },
   "source": [
    "# Arbejd med længere tekster i Python (live-coding)"
   ]
  },
  {
   "cell_type": "markdown",
   "id": "c2075049-66d6-477d-8140-6f8525b423da",
   "metadata": {},
   "source": [
    "## Opsummering\n",
    "\n",
    "- *Strings* i Python er en class, som har en række indbyggede metoder\n",
    "- *Regular expressions* (`re` modulet) kan bruges til at lave søgninger på tekstmønstre frem for blot ord\n",
    "- Regular expressions har mange anvendelser"
   ]
  }
 ],
 "metadata": {
  "kernelspec": {
   "display_name": "Python 3 (ipykernel)",
   "language": "python",
   "name": "python3"
  },
  "language_info": {
   "codemirror_mode": {
    "name": "ipython",
    "version": 3
   },
   "file_extension": ".py",
   "mimetype": "text/x-python",
   "name": "python",
   "nbconvert_exporter": "python",
   "pygments_lexer": "ipython3",
   "version": "3.12.3"
  }
 },
 "nbformat": 4,
 "nbformat_minor": 5
}
