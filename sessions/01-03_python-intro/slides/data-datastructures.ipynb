{
 "cells": [
  {
   "cell_type": "markdown",
   "id": "ad6d2a45-8525-4a36-b12b-e261b3180658",
   "metadata": {
    "editable": true,
    "slideshow": {
     "slide_type": "slide"
    },
    "tags": []
   },
   "source": [
    "# Dataformater og datastrukturer"
   ]
  },
  {
   "cell_type": "markdown",
   "id": "43da89e8-02fc-476d-86f8-c1792c79c889",
   "metadata": {
    "editable": true,
    "slideshow": {
     "slide_type": "slide"
    },
    "tags": []
   },
   "source": [
    "## Data -> Datasæt -> Datastruktur"
   ]
  },
  {
   "cell_type": "markdown",
   "id": "d82d946d-04cc-4030-9ab4-b3078c129795",
   "metadata": {
    "editable": true,
    "slideshow": {
     "slide_type": ""
    },
    "tags": []
   },
   "source": [
    "![data-structure](../img/data_set_structure.png)"
   ]
  },
  {
   "cell_type": "markdown",
   "id": "e1c144ae-17a9-474c-b96b-ef5c1b8d1407",
   "metadata": {
    "editable": true,
    "slideshow": {
     "slide_type": "slide"
    },
    "tags": []
   },
   "source": [
    "## Relationel datastruktur\n",
    "\n",
    "- Data i tabeller\n",
    "- Hver tabel har kun 2 dimensioner (rækker og kolonner)\n",
    "\n",
    "![hierarch](../img/expanse_relational.png)"
   ]
  },
  {
   "cell_type": "markdown",
   "id": "3d5f9764-2a5a-4729-9e63-303ceca3ad3c",
   "metadata": {
    "editable": true,
    "slideshow": {
     "slide_type": "slide"
    },
    "tags": []
   },
   "source": [
    "## Hierarkisk datastruktur\n",
    "\n",
    "- Data i træ-lignende struktur\n",
    "- Ikke bundet til 2 dimensioner (hver gren kan have så mange undergrene, som  der er behov for)\n",
    "\n",
    "![hierarch](../img/expanse_hierarchical.png)"
   ]
  },
  {
   "cell_type": "markdown",
   "id": "4c3229c9-5f5b-4a87-aea8-cc6141828df9",
   "metadata": {
    "editable": true,
    "slideshow": {
     "slide_type": "slide"
    },
    "tags": []
   },
   "source": [
    "## Hyppige datafilformater: .csv\n",
    "\n",
    "- csv: \"Comma-separated values\"\n",
    "- Én række per observation\n",
    "- Værdier adskilt med kommaer\n",
    "- To-dimensionel datastruktur\n",
    "\n",
    "```\n",
    "name,ethnicity,vocation\n",
    "James,earther,captain\n",
    "Naomi,belter,technician\n",
    "Alex,martian,pilot\n",
    "Clarissa,earther,mechanic\n",
    "```"
   ]
  },
  {
   "cell_type": "markdown",
   "id": "9d9fe3ed-d143-4f2f-be0c-b570d46c530d",
   "metadata": {
    "editable": true,
    "slideshow": {
     "slide_type": "slide"
    },
    "tags": []
   },
   "source": [
    "## Hyppige datafilformater: .json\n",
    "\n",
    "- Hierarkisk dataformat\n",
    "- Værdier i nøgle-værdi par\n",
    "- Flere \"grene\" kan tilføjes\n",
    "\n",
    "```\n",
    "{'Nemesis Games': {\n",
    "    \"Characters\": {\n",
    "        \"James Holden\": {\n",
    "            \"Occupation\": \"Captain\", \n",
    "            \"Ethnicity\": \"Earther\", \n",
    "            \"Ship\": {\n",
    "                \"Name\": \"Rocinante\",\n",
    "                \"Class\": \"Corvette\",\n",
    "                \"Owner\": \"James Holden\",\n",
    "                \"Crew-size\": 6\n",
    "            }\n",
    "        },\n",
    "        \"Naomi Nagata\": {\n",
    "            \"Occupation\": \"Technician\", \n",
    "            \"Ethnicity\": \"Belter\",\n",
    "            \"Children\": {\n",
    "                \"Filip Nagata\": {\n",
    "                    \"Name\": \"Filip Nagata\",\n",
    "                    \"Occupation\": \"Unknown\"\n",
    "                }\n",
    "            }\n",
    "        }\n",
    "    }\n",
    "}\n",
    "```"
   ]
  },
  {
   "cell_type": "markdown",
   "id": "e586f4ff-763e-47fd-aa19-7e420d932e27",
   "metadata": {
    "editable": true,
    "slideshow": {
     "slide_type": "slide"
    },
    "tags": []
   },
   "source": [
    "## Datastruktur i Python: Liste af lister"
   ]
  },
  {
   "cell_type": "code",
   "execution_count": 2,
   "id": "3e3f545e-76ab-4656-929c-df25c047a3b8",
   "metadata": {
    "editable": true,
    "slideshow": {
     "slide_type": "skip"
    },
    "tags": []
   },
   "outputs": [],
   "source": [
    "names = [\"James\", \"Naomi\", \"Alex\", \"Clarissa\"]\n",
    "ethnicities = [\"earther\", \"belter\", \"martian\", \"earter\"]\n",
    "vocation = [\"captain\", \"technician\", \"pilot\", \"mechanic\"]\n",
    "\n",
    "data = [names, ethnicities, vocation]"
   ]
  },
  {
   "cell_type": "code",
   "execution_count": 3,
   "id": "64171b26-d62b-4fc7-8275-4d508d9f4066",
   "metadata": {
    "editable": true,
    "slideshow": {
     "slide_type": ""
    },
    "tags": []
   },
   "outputs": [
    {
     "data": {
      "text/plain": [
       "[['James', 'Naomi', 'Alex', 'Clarissa'],\n",
       " ['earther', 'belter', 'martian', 'earter'],\n",
       " ['captain', 'technician', 'pilot', 'mechanic']]"
      ]
     },
     "execution_count": 3,
     "metadata": {},
     "output_type": "execute_result"
    }
   ],
   "source": [
    "data"
   ]
  },
  {
   "cell_type": "code",
   "execution_count": 4,
   "id": "f333fc0f-7c0f-462f-a578-a29ea037bdcc",
   "metadata": {
    "editable": true,
    "slideshow": {
     "slide_type": ""
    },
    "tags": []
   },
   "outputs": [
    {
     "data": {
      "text/plain": [
       "['James', 'earther', 'captain']"
      ]
     },
     "execution_count": 4,
     "metadata": {},
     "output_type": "execute_result"
    }
   ],
   "source": [
    "[items[0] for items in data]"
   ]
  },
  {
   "cell_type": "markdown",
   "id": "556f3e4b-92ff-4e13-b55b-c6bf61e33af8",
   "metadata": {
    "editable": true,
    "slideshow": {
     "slide_type": "slide"
    },
    "tags": []
   },
   "source": [
    "## Datastruktur i Python: Dictionary (JSON)"
   ]
  },
  {
   "cell_type": "code",
   "execution_count": 5,
   "id": "dfe1c7a3-0066-4b3c-be51-2c0fbd20e94c",
   "metadata": {
    "editable": true,
    "slideshow": {
     "slide_type": "skip"
    },
    "tags": []
   },
   "outputs": [],
   "source": [
    "data = {\n",
    "    \"James\": {\"ethnicity\": \"earther\", \"vocation\": \"captain\"},\n",
    "    \"Naomi\": {\"ethnicity\": \"belter\", \"vocation\": \"technician\"},\n",
    "    \"Alex\": {\"ethnicity\": \"martian\", \"vocation\": \"pilot\"},\n",
    "    \"Clarissa\": {\"ethnicity\": \"earther\", \"vocation\": \"mechanic\"},\n",
    "}"
   ]
  },
  {
   "cell_type": "code",
   "execution_count": 6,
   "id": "eef8124d-b855-49dc-a5df-0b76cb019bb9",
   "metadata": {
    "editable": true,
    "slideshow": {
     "slide_type": ""
    },
    "tags": []
   },
   "outputs": [
    {
     "data": {
      "text/plain": [
       "{'James': {'ethnicity': 'earther', 'vocation': 'captain'},\n",
       " 'Naomi': {'ethnicity': 'belter', 'vocation': 'technician'},\n",
       " 'Alex': {'ethnicity': 'martian', 'vocation': 'pilot'},\n",
       " 'Clarissa': {'ethnicity': 'earther', 'vocation': 'mechanic'}}"
      ]
     },
     "execution_count": 6,
     "metadata": {},
     "output_type": "execute_result"
    }
   ],
   "source": [
    "data"
   ]
  },
  {
   "cell_type": "code",
   "execution_count": 7,
   "id": "bf641d1b-8158-486b-bcc1-663d7bbc7ff9",
   "metadata": {
    "editable": true,
    "slideshow": {
     "slide_type": ""
    },
    "tags": []
   },
   "outputs": [
    {
     "data": {
      "text/plain": [
       "{'ethnicity': 'earther', 'vocation': 'captain'}"
      ]
     },
     "execution_count": 7,
     "metadata": {},
     "output_type": "execute_result"
    }
   ],
   "source": [
    "data[\"James\"]"
   ]
  },
  {
   "cell_type": "markdown",
   "id": "4f119517-ac7d-40a9-92fd-012c28eea17d",
   "metadata": {
    "editable": true,
    "slideshow": {
     "slide_type": "slide"
    },
    "tags": []
   },
   "source": [
    "## Datastruktur i Python: Liste af dictionaries (JSON records)"
   ]
  },
  {
   "cell_type": "code",
   "execution_count": 8,
   "id": "140993d0-31d1-4bea-8253-a92f5c3666a7",
   "metadata": {
    "editable": true,
    "slideshow": {
     "slide_type": "skip"
    },
    "tags": []
   },
   "outputs": [],
   "source": [
    "data = [\n",
    "    {\"name\": \"James\", \"ethnicity\": \"earther\", \"vocation\": \"captain\"},\n",
    "    {\"name\": \"Naomi\", \"ethnicity\": \"belter\", \"vocation\": \"technician\"},\n",
    "    {\"name\": \"Alex\", \"ethnicity\": \"martian\", \"vocation\": \"pilot\"},\n",
    "    {\"name\": \"Clarissa\", \"ethnicity\": \"earther\", \"vocation\": \"mechanic\"},\n",
    "]"
   ]
  },
  {
   "cell_type": "code",
   "execution_count": 9,
   "id": "6e5b0aed-17eb-4830-9744-9286907a7f5d",
   "metadata": {
    "editable": true,
    "slideshow": {
     "slide_type": ""
    },
    "tags": []
   },
   "outputs": [
    {
     "data": {
      "text/plain": [
       "[{'name': 'James', 'ethnicity': 'earther', 'vocation': 'captain'},\n",
       " {'name': 'Naomi', 'ethnicity': 'belter', 'vocation': 'technician'},\n",
       " {'name': 'Alex', 'ethnicity': 'martian', 'vocation': 'pilot'},\n",
       " {'name': 'Clarissa', 'ethnicity': 'earther', 'vocation': 'mechanic'}]"
      ]
     },
     "execution_count": 9,
     "metadata": {},
     "output_type": "execute_result"
    }
   ],
   "source": [
    "data"
   ]
  },
  {
   "cell_type": "code",
   "execution_count": 10,
   "id": "652779e3-5db7-4c5b-a4d5-32fcfbbbe0c4",
   "metadata": {
    "editable": true,
    "slideshow": {
     "slide_type": ""
    },
    "tags": []
   },
   "outputs": [
    {
     "data": {
      "text/plain": [
       "{'name': 'James', 'ethnicity': 'earther', 'vocation': 'captain'}"
      ]
     },
     "execution_count": 10,
     "metadata": {},
     "output_type": "execute_result"
    }
   ],
   "source": [
    "data[0]"
   ]
  },
  {
   "cell_type": "markdown",
   "id": "65318492-b425-4fa0-9baf-ddb776d085e9",
   "metadata": {
    "editable": true,
    "slideshow": {
     "slide_type": "slide"
    },
    "tags": []
   },
   "source": [
    "## Datastruktur i Python: (pandas) Data frame"
   ]
  },
  {
   "cell_type": "code",
   "execution_count": 11,
   "id": "eb94af59-cd91-408b-ba6f-b2312d304875",
   "metadata": {
    "editable": true,
    "slideshow": {
     "slide_type": "skip"
    },
    "tags": []
   },
   "outputs": [],
   "source": [
    "import pandas as pd\n",
    "\n",
    "data = pd.DataFrame.from_records(data)"
   ]
  },
  {
   "cell_type": "code",
   "execution_count": 12,
   "id": "fd019663-ad66-4a53-97ec-e993c186e243",
   "metadata": {
    "editable": true,
    "slideshow": {
     "slide_type": ""
    },
    "tags": []
   },
   "outputs": [
    {
     "data": {
      "text/html": [
       "<div>\n",
       "<style scoped>\n",
       "    .dataframe tbody tr th:only-of-type {\n",
       "        vertical-align: middle;\n",
       "    }\n",
       "\n",
       "    .dataframe tbody tr th {\n",
       "        vertical-align: top;\n",
       "    }\n",
       "\n",
       "    .dataframe thead th {\n",
       "        text-align: right;\n",
       "    }\n",
       "</style>\n",
       "<table border=\"1\" class=\"dataframe\">\n",
       "  <thead>\n",
       "    <tr style=\"text-align: right;\">\n",
       "      <th></th>\n",
       "      <th>name</th>\n",
       "      <th>ethnicity</th>\n",
       "      <th>vocation</th>\n",
       "    </tr>\n",
       "  </thead>\n",
       "  <tbody>\n",
       "    <tr>\n",
       "      <th>0</th>\n",
       "      <td>James</td>\n",
       "      <td>earther</td>\n",
       "      <td>captain</td>\n",
       "    </tr>\n",
       "    <tr>\n",
       "      <th>1</th>\n",
       "      <td>Naomi</td>\n",
       "      <td>belter</td>\n",
       "      <td>technician</td>\n",
       "    </tr>\n",
       "    <tr>\n",
       "      <th>2</th>\n",
       "      <td>Alex</td>\n",
       "      <td>martian</td>\n",
       "      <td>pilot</td>\n",
       "    </tr>\n",
       "    <tr>\n",
       "      <th>3</th>\n",
       "      <td>Clarissa</td>\n",
       "      <td>earther</td>\n",
       "      <td>mechanic</td>\n",
       "    </tr>\n",
       "  </tbody>\n",
       "</table>\n",
       "</div>"
      ],
      "text/plain": [
       "       name ethnicity    vocation\n",
       "0     James   earther     captain\n",
       "1     Naomi    belter  technician\n",
       "2      Alex   martian       pilot\n",
       "3  Clarissa   earther    mechanic"
      ]
     },
     "execution_count": 12,
     "metadata": {},
     "output_type": "execute_result"
    }
   ],
   "source": [
    "data"
   ]
  },
  {
   "cell_type": "code",
   "execution_count": 13,
   "id": "a811f0c1-0998-471d-9dc0-4ea6065e6a65",
   "metadata": {
    "editable": true,
    "slideshow": {
     "slide_type": ""
    },
    "tags": []
   },
   "outputs": [
    {
     "data": {
      "text/plain": [
       "name           James\n",
       "ethnicity    earther\n",
       "vocation     captain\n",
       "Name: 0, dtype: object"
      ]
     },
     "execution_count": 13,
     "metadata": {},
     "output_type": "execute_result"
    }
   ],
   "source": [
    "data.loc[0, :]"
   ]
  },
  {
   "cell_type": "markdown",
   "id": "0abecf69-f427-4a74-931e-be8041abd3b4",
   "metadata": {
    "editable": true,
    "slideshow": {
     "slide_type": "slide"
    },
    "tags": []
   },
   "source": [
    "## ØVELSE: Datastrukturer i Python\n",
    "\n",
    "Udled relevante oplysninger af nedenstående sætninger og sæt dem i en datastruktur, som du selv synes giver mening. Man skal kunne kalde alle oplysninger frem ved at kalde èn variabel.\n",
    "\n",
    "    For at blive klogere på deres kundebase, har SuperGroce ansat en konsulent til at observere, hvad kunderne køber i deres supermarked. Der blev observeret følgende:\n",
    "\n",
    "    Emily, en 32-årig grafisk designer, fyldte sin kurv med avocadoer, mandelmælk, grønkål, quinoa og mørk chokolade, mens hendes loyale golden retriever, Max, tålmodigt ventede ved hendes side.\n",
    "\n",
    "    Anders, en 45-årig arkæolog, købte fin-spidsede penne, kaffebønner, pitabrød og hummus, mens han forestillede sig sin aften med forskning sammen med sin nysgerrige papegøje, Luna.\n",
    "\n",
    "    Liam, en 28-årig fitness-træner, greb hurtigt kyllingebryster, spinat, proteinbarer, bananer og græsk yoghurt. Han kunne ikke vente med at komme i træningscenteret efter at have taget sin energiske australske hyrdehund, Bella, med på en løbetur.\n",
    "\n",
    "    60-årig pensionist Eleanor samlede i sin kurv tomater, mozzarella, basilikum, olivenolie og baguetter for at skabe hendes signaturret, caprese-salat, alt imens hendes kat, Whiskers, slappede af i hendes indkøbsvogn.\n",
    "\n",
    "    Pavel, en 42-årig børnelæge, valgte omhyggeligt babymad, bleer, æblemos, gulerødder og fuldkornskiks og forventede en weekend sammen med familien.\n",
    "\n",
    "    Alex, en 19-årig universitetsstuderende, fyldte op med instant nudler, energidrikke, mikrobølgepopcorn, peanutbutter og brød. Sene studie-sessioner og hans stille guldfisk, Bubbles, ventede hjemme på kollegieværelset.\n",
    "\n",
    "    Kokken Ramirez, en 50-årig kulinarisk ekspert, gik gennem gangene og valgte frisk basilikum, modne tomater, hvidløg, pasta og olivenolie for at tilberede en skøn pastaret, alt imens hans frække kæledyrsilder, Tango, kiggede ud fra hans skuldertaske.\n",
    "\n",
    "    35-årig astronaut Thomas tog astronaut-is, tørret frugt, proteinbarer, vakuum-pakket kylling og tortillas i sin kurv.\n",
    "\n",
    "    Sarah, en 25-årig romanforfatter, overvejede sine plot-ideer, mens hun valgte sort te, honning, mandler, blåbær og mørk chokolade, forestillede sig en hyggelig skrive-session forude, med hendes pjuskede kæledyrskat, Oliver, puttet op tæt ved."
   ]
  },
  {
   "cell_type": "markdown",
   "id": "bc1b81ec-2ef6-4ccd-953a-938474f0e1bf",
   "metadata": {
    "editable": true,
    "slideshow": {
     "slide_type": "slide"
    },
    "tags": []
   },
   "source": [
    "## ØVELSE: Datastrukturer i Python\n",
    "\n",
    "Udled af data hvilke kæledyr personerne over 40 år har."
   ]
  },
  {
   "cell_type": "markdown",
   "id": "2deee877-f547-4af7-b589-6023c1b1a5bd",
   "metadata": {},
   "source": [
    "# Opsummering\n",
    "\n",
    "- Data kan struktureres i forskellige formater og strukturer\n",
    "    - *Relationel* datastruktur er data i tabeller, som er begrænset til to dimensioner\n",
    "    - *Hierarkisk* datastruktur er data i træ-lignende struktur\n",
    "    - Valg af datastruktur hænger sammen med, hvad data skal bruges til"
   ]
  }
 ],
 "metadata": {
  "kernelspec": {
   "display_name": "Python 3 (ipykernel)",
   "language": "python",
   "name": "python3"
  },
  "language_info": {
   "codemirror_mode": {
    "name": "ipython",
    "version": 3
   },
   "file_extension": ".py",
   "mimetype": "text/x-python",
   "name": "python",
   "nbconvert_exporter": "python",
   "pygments_lexer": "ipython3",
   "version": "3.12.3"
  }
 },
 "nbformat": 4,
 "nbformat_minor": 5
}
