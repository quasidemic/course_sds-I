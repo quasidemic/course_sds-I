{
 "cells": [
  {
   "cell_type": "markdown",
   "id": "b9ef2297-343a-470a-9300-38c7b85d6dd6",
   "metadata": {
    "editable": true,
    "slideshow": {
     "slide_type": "slide"
    },
    "tags": []
   },
   "source": [
    "# Introduktion til Python I"
   ]
  },
  {
   "cell_type": "markdown",
   "id": "b1d164d6-c9be-4169-b770-6edfa2c76edc",
   "metadata": {
    "editable": true,
    "slideshow": {
     "slide_type": "slide"
    },
    "tags": []
   },
   "source": [
    "## Program\n",
    "\n",
    "- Hvad er Python? (opfølgning fra e-kursus)\n",
    "- Brug af JupyterLab på UCloud\n",
    "- Introduktion til pandas dataframes\n",
    "- Datahåndtering med pandas\n",
    "- Opsummering af data med pandas"
   ]
  },
  {
   "cell_type": "markdown",
   "id": "6308ebf8-5c56-4fa7-b62c-50f860d2654f",
   "metadata": {
    "editable": true,
    "slideshow": {
     "slide_type": "slide"
    },
    "tags": []
   },
   "source": [
    "## Hvad er Python?\n",
    "\n",
    "- Python som programmeringssprog \n",
    "- Python som fortolker\n",
    "- Man arbejder med Python gennem kommandoer, som evalueres\n",
    "- \"Objekt-orienteret\": Alt defineres som \"variable\", som kan bruges til forskellige formål afhængigt af typen/klassen"
   ]
  },
  {
   "cell_type": "markdown",
   "id": "4cb4a5f9-682d-4798-8e47-6dadec593a42",
   "metadata": {
    "editable": true,
    "slideshow": {
     "slide_type": "slide"
    },
    "tags": []
   },
   "source": [
    "## Python som sprog\n",
    "\n",
    "Begrænset vokabular - resten \"opdigtes\"!\n",
    "\n",
    "```\n",
    "and       del       global     not    with\n",
    "as        elif      if         or    yield\n",
    "assert    else      import     pass\n",
    "break     except    in         raise\n",
    "class     finally   is         return\n",
    "continue  for       lambda     try\n",
    "def       from      nonlocal   while\n",
    "```\n"
   ]
  },
  {
   "cell_type": "markdown",
   "id": "2af0c665-8532-45ad-81cd-4dab1083ada2",
   "metadata": {
    "editable": true,
    "slideshow": {
     "slide_type": "slide"
    },
    "tags": []
   },
   "source": [
    "## Python som fortolker\n",
    "\n",
    "Kommandoer, som er skrevet i Python, evalueres af en \"Python-fortolker\".\n",
    "\n",
    "Meget bogstaveligt sprog: Der gives en fejl, hvis kommandoen ikke er forstået."
   ]
  },
  {
   "cell_type": "markdown",
   "id": "45205d63-b6c7-4230-b232-6befc3973747",
   "metadata": {
    "editable": true,
    "slideshow": {
     "slide_type": "slide"
    },
    "tags": []
   },
   "source": [
    "## Python som \"objekt-orienteret\"\n",
    "\n",
    "Man interagerer med Python ved at definere og redefinere *objekter*.\n",
    "\n",
    "*Objekter* defineres som *variable* - Blot et navn til at kalde objektet frem!\n",
    "\n",
    "Alle *variable* er en eller anden *class*.\n",
    "\n",
    "*Class* sætter betingelser for, hvad *variablen* kan."
   ]
  },
  {
   "cell_type": "markdown",
   "id": "5cdb8be9-1eb9-463e-a18d-30f7fe07ad27",
   "metadata": {
    "editable": true,
    "slideshow": {
     "slide_type": "slide"
    },
    "tags": []
   },
   "source": [
    "![dog1](../img/python-dog.png)"
   ]
  },
  {
   "cell_type": "code",
   "execution_count": 2,
   "id": "8608ffed-d985-49b9-a145-7e95d23acf03",
   "metadata": {
    "editable": true,
    "slideshow": {
     "slide_type": ""
    },
    "tags": []
   },
   "outputs": [],
   "source": [
    "bolden = [2, 4, 6, 10, 21]"
   ]
  },
  {
   "cell_type": "markdown",
   "id": "1d53fa7b-233d-4b69-8e1c-6291a301fd9b",
   "metadata": {
    "editable": true,
    "slideshow": {
     "slide_type": "slide"
    },
    "tags": []
   },
   "source": [
    "![dog1](../img/conf-dog-text.png)"
   ]
  },
  {
   "cell_type": "code",
   "execution_count": 3,
   "id": "3ee69a81-1d08-4006-aa28-801d566c7685",
   "metadata": {
    "editable": true,
    "slideshow": {
     "slide_type": ""
    },
    "tags": []
   },
   "outputs": [
    {
     "ename": "NameError",
     "evalue": "name 'bold' is not defined",
     "output_type": "error",
     "traceback": [
      "\u001b[0;31m---------------------------------------------------------------------------\u001b[0m",
      "\u001b[0;31mNameError\u001b[0m                                 Traceback (most recent call last)",
      "Cell \u001b[0;32mIn[3], line 1\u001b[0m\n\u001b[0;32m----> 1\u001b[0m \u001b[38;5;28mprint\u001b[39m(\u001b[43mbold\u001b[49m)\n",
      "\u001b[0;31mNameError\u001b[0m: name 'bold' is not defined"
     ]
    }
   ],
   "source": [
    "print(bold)"
   ]
  },
  {
   "cell_type": "markdown",
   "id": "66b8bee3-5512-4bc2-93c2-3909f76959ea",
   "metadata": {
    "editable": true,
    "slideshow": {
     "slide_type": "slide"
    },
    "tags": []
   },
   "source": [
    "![dog1](../img/dog-happy-text.png)"
   ]
  },
  {
   "cell_type": "code",
   "execution_count": 4,
   "id": "3c61ebb5-5e63-4c6f-aa5a-11a346026d46",
   "metadata": {
    "editable": true,
    "slideshow": {
     "slide_type": ""
    },
    "tags": []
   },
   "outputs": [
    {
     "name": "stdout",
     "output_type": "stream",
     "text": [
      "[2, 4, 6, 10, 21]\n"
     ]
    }
   ],
   "source": [
    "print(bolden)"
   ]
  },
  {
   "cell_type": "markdown",
   "id": "c94542af-1788-466c-a854-a22dc4717335",
   "metadata": {
    "editable": true,
    "slideshow": {
     "slide_type": "slide"
    },
    "tags": []
   },
   "source": [
    "## Classes\n",
    "\n",
    "<img src=\"../img/classes-example.png\" style=\"width:85.0%\" />"
   ]
  },
  {
   "cell_type": "code",
   "execution_count": 5,
   "id": "982e621d-69e9-47b6-a2ac-603b8ff9db11",
   "metadata": {
    "editable": true,
    "slideshow": {
     "slide_type": "skip"
    },
    "tags": []
   },
   "outputs": [],
   "source": [
    "class reol:\n",
    "    def __init__(self, objects):\n",
    "        self.top_hylde = objects[0]\n",
    "        self.mellem_hylde = objects[1]\n",
    "        self.nederste_hylde = objects[2]\n",
    "\n",
    "b = reol([\"bøger\", \"brætspil\", \"vaser\"])"
   ]
  },
  {
   "cell_type": "code",
   "execution_count": 6,
   "id": "33b1bf4e-0e42-4611-80ae-b3fe6efa9d93",
   "metadata": {
    "editable": true,
    "slideshow": {
     "slide_type": "slide"
    },
    "tags": []
   },
   "outputs": [
    {
     "data": {
      "text/plain": [
       "'vaser'"
      ]
     },
     "execution_count": 6,
     "metadata": {},
     "output_type": "execute_result"
    }
   ],
   "source": [
    "b.nederste_hylde"
   ]
  },
  {
   "cell_type": "code",
   "execution_count": 7,
   "id": "7f9af9a2-a1fc-462d-98f6-4406221095b1",
   "metadata": {
    "editable": true,
    "slideshow": {
     "slide_type": "fragment"
    },
    "tags": []
   },
   "outputs": [
    {
     "ename": "AttributeError",
     "evalue": "'reol' object has no attribute 'nederste_skuffe'",
     "output_type": "error",
     "traceback": [
      "\u001b[0;31m---------------------------------------------------------------------------\u001b[0m",
      "\u001b[0;31mAttributeError\u001b[0m                            Traceback (most recent call last)",
      "Cell \u001b[0;32mIn[7], line 1\u001b[0m\n\u001b[0;32m----> 1\u001b[0m \u001b[43mb\u001b[49m\u001b[38;5;241;43m.\u001b[39;49m\u001b[43mnederste_skuffe\u001b[49m\n",
      "\u001b[0;31mAttributeError\u001b[0m: 'reol' object has no attribute 'nederste_skuffe'"
     ]
    }
   ],
   "source": [
    "b.nederste_skuffe"
   ]
  },
  {
   "cell_type": "markdown",
   "id": "9c498a82-5e8c-4529-8ed2-ae8b5fc451eb",
   "metadata": {
    "editable": true,
    "slideshow": {
     "slide_type": "slide"
    },
    "tags": []
   },
   "source": [
    "# Opfølgning fra e-kursus (Kahoot quiz)"
   ]
  },
  {
   "cell_type": "markdown",
   "id": "0fd443bb-7c6f-44ef-a65e-663caa74e3f6",
   "metadata": {
    "editable": true,
    "slideshow": {
     "slide_type": "slide"
    },
    "tags": []
   },
   "source": [
    "# Opstart af UCloud (live-coding)"
   ]
  },
  {
   "cell_type": "markdown",
   "id": "91ef6629-08c9-45d5-895e-23762df92804",
   "metadata": {
    "editable": true,
    "slideshow": {
     "slide_type": "slide"
    },
    "tags": []
   },
   "source": [
    "## FÆLLES ØVELSE: Simpel problemløsning med Python\n",
    "\n",
    "Hvordan kan vi lave en funktion, der udregner arealet af en cirkel ud fra en given radius?\n",
    "\n",
    "$A = \\pi * r^2$"
   ]
  },
  {
   "cell_type": "markdown",
   "id": "e4f4734b-598d-4d46-9801-de85018d876c",
   "metadata": {},
   "source": [
    "# Opsummering\n",
    "\n",
    "- Python er et programmeringssprog og en fortolker\n",
    "- Python *variable* er navne, man bruger til at kalde information frem\n",
    "- Variable har altid en eller anden *class*"
   ]
  }
 ],
 "metadata": {
  "kernelspec": {
   "display_name": "Python 3 (ipykernel)",
   "language": "python",
   "name": "python3"
  },
  "language_info": {
   "codemirror_mode": {
    "name": "ipython",
    "version": 3
   },
   "file_extension": ".py",
   "mimetype": "text/x-python",
   "name": "python",
   "nbconvert_exporter": "python",
   "pygments_lexer": "ipython3",
   "version": "3.12.3"
  }
 },
 "nbformat": 4,
 "nbformat_minor": 5
}
