{
 "cells": [
  {
   "cell_type": "markdown",
   "id": "c0c9a045-12e1-4735-b205-85279d044fa2",
   "metadata": {
    "slideshow": {
     "slide_type": "slide"
    },
    "tags": []
   },
   "source": [
    "# Indlæsning af filer i Python"
   ]
  },
  {
   "cell_type": "markdown",
   "id": "81668030-57d0-4ea4-a12f-061a6872b1e1",
   "metadata": {
    "slideshow": {
     "slide_type": "slide"
    },
    "tags": []
   },
   "source": [
    "## Indlæsning af filer i Python\n",
    "\n",
    "- Al indlæsning af filer i Python er baseret på *filstier*\n",
    "- En *filsti* angiver placeringen af en fil på en computer (kaldt en *file path* på engelsk og omtales typisk *path* i programmering)\n",
    "- En filsti angiver, hvordan computeren skal navigere igennem mapper (*directories*) for at finde en bestemt fil"
   ]
  },
  {
   "cell_type": "markdown",
   "id": "13293544-97c6-41ab-b147-63484dcd0c24",
   "metadata": {
    "slideshow": {
     "slide_type": "slide"
    },
    "tags": []
   },
   "source": [
    "## Indlæsning af filer i Python\n",
    "\n",
    "**Absolutte filstier**\n",
    "\n",
    "- Angiver *hele* filstien fra compuerens \"rod\" (*root*)\n",
    "\n",
    "*Eksempler*: \n",
    "- Windows: `C:\\Users\\kgk\\data\\datafil.csv`\n",
    "- Mac: `/Users/kgk/data/datafil.csv`\n",
    "- Linux: `/usr/kgk/data/datafil.csv`"
   ]
  },
  {
   "cell_type": "markdown",
   "id": "0db11be5-b304-4b7d-8cfd-9d53f3e4537a",
   "metadata": {
    "slideshow": {
     "slide_type": "fragment"
    },
    "tags": []
   },
   "source": [
    "**Relative filstier**\n",
    "\n",
    "- Angiver filstien fra *arbejssti* til filen\n",
    "- *Arbejdssti* typisk den fil, som koden køres fra, men arbejdssti kan også ændres i koden\n",
    "- `..`: Gå et niveau \"op\"\n",
    "- `.`: Den nuværende directory\n",
    "\n",
    "*Eksempel*: `../../data/datafil.csv`"
   ]
  },
  {
   "cell_type": "markdown",
   "id": "69ef5f92-f97b-4150-950b-8a7d56ca6d2b",
   "metadata": {
    "slideshow": {
     "slide_type": "slide"
    },
    "tags": []
   },
   "source": [
    "## Filstier i Python\n",
    "\n",
    "- Filstier angives blot som strings:\n",
    "\n",
    "```python\n",
    "path = \"../../data/datafil.csv\"\n",
    "```\n",
    "\n",
    "- Hvis en funktion forventer en filsti, skal denne blot angives som string:\n",
    "\n",
    "```python\n",
    "df = pd.read_csv(path)\n",
    "```"
   ]
  },
  {
   "cell_type": "markdown",
   "id": "68309c4b-5e02-472a-b6bb-643331740512",
   "metadata": {
    "slideshow": {
     "slide_type": "slide"
    },
    "tags": []
   },
   "source": [
    "## `os` modulet\n",
    "\n",
    "`os` modulet indeholder (blandt andet) en række funktioner til at navigere i filsystemer\n",
    "- `os.getcwd()` - print nuværende arbejdsmappe (\"cwd\": current working directory)\n",
    "- `os.chdir()` - ændr arbejdsmappe \n",
    "\n",
    "`os` indeholder også funktionen `join` (`os.path.join()`). Denne gør det muligt at lave systemuafhængige filstier.\n",
    "- Sti som string: `path = \"../../data/datafil.csv\"`\n",
    "- Sti via `os`-modulet: `path = os.path.join(\"..\", \"..\", \"data\", \"datafil.csv\")`\n"
   ]
  },
  {
   "cell_type": "markdown",
   "id": "06d58a7c-4042-4237-bdd4-d38a1c179fdc",
   "metadata": {
    "slideshow": {
     "slide_type": "fragment"
    },
    "tags": []
   },
   "source": [
    "Fordi filstier i princippet blot er sammensatte strings, kan man med fordel arbejde med variable, der angiver placeringen til mapper, som bruges flere gange (fx datamappe, outputmappe eller andet):\n",
    "\n",
    "```python\n",
    "datadir = \"../../data\"\n",
    "datafile = \"datafil.csv\"\n",
    "datapath = os.path.join(datadir, datafile)\n",
    "```"
   ]
  },
  {
   "cell_type": "markdown",
   "id": "0d430d31-d30d-4aa9-827c-1a6b1961bc8a",
   "metadata": {
    "slideshow": {
     "slide_type": "slide"
    },
    "tags": []
   },
   "source": [
    "## `open` funktionen \n",
    "\n",
    "Hvordan filer indlæses i Python afhænger både af, hvilken filtype det er samt hvilken datastruktur, det skal læses ind i.\n",
    "\n",
    "Funktionen `open` er en basisfunktion til at åbne tekstfiler i Python - enten til at skrive eller læse\n",
    "1. Åben filen via filens sti\n",
    "2. Angiv funktion(er) for at læse filen ind i korrekt datastruktur\n",
    "\n",
    "```python\n",
    "filepath = \"../../data/tekstfil.txt\"\n",
    "fileconn = open(filepath, \"r\") # \"r\" angiver at filen åbnes i læsetilstand\n",
    "\n",
    "with fileconn as f:\n",
    "    data = f.read()\n",
    "```"
   ]
  },
  {
   "cell_type": "markdown",
   "id": "ff10da62-95c7-4b93-96bb-1353086e3f72",
   "metadata": {
    "slideshow": {
     "slide_type": "slide"
    },
    "tags": []
   },
   "source": [
    "# Indlæsning af tekstfiler i Python (live-coding)"
   ]
  },
  {
   "cell_type": "markdown",
   "id": "09b0b1c3-6849-4dec-8f33-2aa710b293bf",
   "metadata": {},
   "source": [
    "## Opsummering\n",
    "\n",
    "- Al data indlæses via *filstier*\n",
    "- `os` modulet bruges til at navigere i filsystemer\n",
    "- `open` funktionen bruges til at åbne filer"
   ]
  }
 ],
 "metadata": {
  "kernelspec": {
   "display_name": "Python 3 (ipykernel)",
   "language": "python",
   "name": "python3"
  },
  "language_info": {
   "codemirror_mode": {
    "name": "ipython",
    "version": 3
   },
   "file_extension": ".py",
   "mimetype": "text/x-python",
   "name": "python",
   "nbconvert_exporter": "python",
   "pygments_lexer": "ipython3",
   "version": "3.12.3"
  }
 },
 "nbformat": 4,
 "nbformat_minor": 5
}
