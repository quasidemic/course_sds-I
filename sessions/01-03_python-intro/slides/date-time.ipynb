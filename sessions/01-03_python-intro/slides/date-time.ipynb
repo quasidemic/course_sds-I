{
 "cells": [
  {
   "cell_type": "markdown",
   "id": "4680de9c-93cb-4953-904e-e95562e38225",
   "metadata": {
    "slideshow": {
     "slide_type": "slide"
    },
    "tags": []
   },
   "source": [
    "# Datoer og tid i Python"
   ]
  },
  {
   "cell_type": "markdown",
   "id": "f3aeb784-9875-4f35-93ba-554a3608c297",
   "metadata": {
    "slideshow": {
     "slide_type": "slide"
    },
    "tags": []
   },
   "source": [
    "## Datoer og tid i Python\n",
    "\n",
    "Indtil Python er fortalt andet, er datoer også blot strings\n",
    "\n",
    "En dato giver ikke sig selv! Overvej fx en dato skrevet: \"07/08/12\"\n",
    "\n",
    "    - 12. august 2007?\n",
    "    - 7. august 2012?\n",
    "    - 8. december 2007?\n",
    "    - 8. juli 2012?\n",
    "\n",
    "Python skal derfor informeres om et dato- og tidsformat, for at kunne behandle noget som tid\n",
    "\n",
    "- `datetime` objekt (year, month, date, hour)\n",
    "- `timedelta` objekt (days)"
   ]
  },
  {
   "cell_type": "markdown",
   "id": "4bcabfa2-1f1f-4c04-8133-1e2eeda0e358",
   "metadata": {
    "slideshow": {
     "slide_type": "slide"
    },
    "tags": []
   },
   "source": [
    "## Fra dato-string til dato-objekt\n",
    "\n",
    "Basismodulet `datetime` kan bruges til at arbejde med datoer og tid."
   ]
  },
  {
   "cell_type": "code",
   "execution_count": 25,
   "id": "a7ac7cd9-e530-4774-ad3c-ba69f1a78e0c",
   "metadata": {},
   "outputs": [
    {
     "name": "stdout",
     "output_type": "stream",
     "text": [
      "2022-09-11 22:30:39.807528\n"
     ]
    }
   ],
   "source": [
    "from datetime import datetime\n",
    "\n",
    "now = datetime.now()\n",
    "print(now)"
   ]
  },
  {
   "cell_type": "markdown",
   "id": "d9c6c44f-2bef-4b8c-bee8-8973b31bc472",
   "metadata": {
    "slideshow": {
     "slide_type": "fragment"
    },
    "tags": []
   },
   "source": [
    "Fra et `datetime` objekt kan hvert enkelt tidsenhed tilgås som attribute:"
   ]
  },
  {
   "cell_type": "code",
   "execution_count": 26,
   "id": "85a72061-27da-400a-b6c3-9940892f6f6f",
   "metadata": {},
   "outputs": [
    {
     "name": "stdout",
     "output_type": "stream",
     "text": [
      "2022\n",
      "9\n",
      "11\n",
      "22\n",
      "30\n",
      "39\n"
     ]
    }
   ],
   "source": [
    "print(\n",
    "    now.year,\n",
    "    now.month,\n",
    "    now.day,\n",
    "    now.hour,\n",
    "    now.minute,\n",
    "    now.second,\n",
    "    sep = \"\\n\"\n",
    ")"
   ]
  },
  {
   "cell_type": "markdown",
   "id": "474cb624-1f2f-45a0-9a2d-20c7e9340da0",
   "metadata": {
    "slideshow": {
     "slide_type": "slide"
    },
    "tags": []
   },
   "source": [
    "## Fra dato-string til dato-objekt\n",
    "\n",
    "Funktionen `datetime.strptime()` bruges til at konvertere en string til et datetime-objekt."
   ]
  },
  {
   "cell_type": "code",
   "execution_count": 24,
   "id": "1c9a9d79-8b22-478a-ad23-f43c58b82d85",
   "metadata": {},
   "outputs": [
    {
     "name": "stdout",
     "output_type": "stream",
     "text": [
      "2022-09-12 00:00:00\n"
     ]
    }
   ],
   "source": [
    "datestring = \"12/09-22\"\n",
    "date = datetime.strptime(datestring, \"%d/%m-%y\")\n",
    "\n",
    "print(date)"
   ]
  },
  {
   "cell_type": "markdown",
   "id": "5912b8df-b6cf-4236-b85d-6e63b3d2c65e",
   "metadata": {
    "slideshow": {
     "slide_type": "fragment"
    },
    "tags": []
   },
   "source": [
    "Python fortælles datoformatet via en række specialtegn (`%d`, `%m`, `%Y` osv.).\n",
    "\n",
    "**Eksempler:**"
   ]
  },
  {
   "cell_type": "markdown",
   "id": "63c47640-08f2-4f7a-b502-88e576baf8f3",
   "metadata": {
    "slideshow": {
     "slide_type": "skip"
    },
    "tags": []
   },
   "source": [
    "|Tegn|Betydning|Eksempel|\n",
    "|--|--|--|\n",
    "|`%d`|Dag i måneden (tocifret)|04, 10, 21|\n",
    "|`%m`|Månede som tal (tocifret|02, 06, 11|\n",
    "|`%b`|Forkortet måned (baseret på sprogindstilling)|Jan, Mar, Jun|\n",
    "|`%y`|Tocifret årstal|88, 99, 22|\n",
    "|`%Y`|Firecifret årstal|1988, 1999, 2022|"
   ]
  },
  {
   "cell_type": "markdown",
   "id": "4934cc45-515d-4f6a-b07a-6b978f72e347",
   "metadata": {
    "jupyter": {
     "source_hidden": true
    },
    "tags": []
   },
   "source": [
    "<table>\n",
    "<thead>\n",
    "<tr><th>Tegn</th><th>Betydning</th><th>Eksempel</th></tr></thead>\n",
    "<tbody><tr><td><code>%d</code></td><td>Dag i måneden (tocifret)</td><td>04, 10, 21</td></tr><tr><td><code>%m</code></td><td>Månede som tal (tocifret</td><td>02, 06, 11</td></tr><tr><td><code>%b</code></td><td>Forkortet måned (baseret på sprogindstilling)</td><td>Jan, Mar, Jun</td></tr><tr><td><code>%y</code></td><td>Tocifret årstal</td><td>88, 99, 22</td></tr><tr><td><code>%Y</code></td><td>Firecifret årstal</td><td>1988, 1999, 2022</td></tr></tbody>\n",
    "</table>"
   ]
  },
  {
   "cell_type": "markdown",
   "id": "c4dc3538-672f-49c1-8fe6-4caea169f755",
   "metadata": {},
   "source": [
    "Se oversigt over formatkoder her: https://docs.python.org/3/library/datetime.html#strftime-strptime-behavior"
   ]
  },
  {
   "cell_type": "markdown",
   "id": "bb34e3fe-2974-4ec8-9f86-b99f471c7eff",
   "metadata": {
    "slideshow": {
     "slide_type": "slide"
    },
    "tags": []
   },
   "source": [
    "## Tidsdifferencer\n",
    "\n",
    "- Python kan arbejde med tidsdifferencer\n",
    "- Ved at udregne differnece baseret på to datetime-objekter, dannes et \"timedelta\" objekt:"
   ]
  },
  {
   "cell_type": "code",
   "execution_count": 33,
   "id": "7c736435-107a-45af-85ba-d759bc72bad8",
   "metadata": {},
   "outputs": [
    {
     "data": {
      "text/plain": [
       "10"
      ]
     },
     "execution_count": 33,
     "metadata": {},
     "output_type": "execute_result"
    }
   ],
   "source": [
    "date1 = datetime.strptime('01-09-2022', '%d-%m-%Y').date()\n",
    "datenow = datetime.now().date()\n",
    "\n",
    "timedif = datenow - date1\n",
    "\n",
    "timedif.days"
   ]
  },
  {
   "cell_type": "markdown",
   "id": "e51d5a1a-dc2c-40c6-9938-01d201ff28e5",
   "metadata": {
    "slideshow": {
     "slide_type": "slide"
    },
    "tags": []
   },
   "source": [
    "## Datetime i pandas\n",
    "\n",
    "Pandas indeholder en del metoder til at arbejde med datetime, der minder om basismodulet\n",
    "- Tilgås under `.dt`\n",
    "\n",
    "For at konvertere en data frame kolonne til dato, bruges funktionen `pd.to_datetime()` (fungerer meget ligesom `datetime.strptime()`\n",
    "- *Bemærk*: Funktion; ikke metode. Tager en Series med datolignende strings og datoformat som argument"
   ]
  },
  {
   "cell_type": "code",
   "execution_count": 5,
   "id": "b7165d6f-cc35-42b9-b41c-5a693d78d720",
   "metadata": {},
   "outputs": [
    {
     "name": "stdout",
     "output_type": "stream",
     "text": [
      "0   2022-08-02\n",
      "1   2022-08-04\n",
      "2   2022-06-30\n",
      "dtype: datetime64[ns]\n"
     ]
    }
   ],
   "source": [
    "dates = pd.Series([\"2022-08-02\", \"2022-08-04\", \"2022-06-30\"])\n",
    "\n",
    "dates = pd.to_datetime(dates, format = \"%Y-%m-%d\")\n",
    "\n",
    "print(dates)"
   ]
  },
  {
   "cell_type": "markdown",
   "id": "fdf47469-8a18-4ab9-9608-a128baf92531",
   "metadata": {
    "slideshow": {
     "slide_type": "fragment"
    },
    "tags": []
   },
   "source": [
    "Efter at kolonnen er konverteret, kan datetime-metoderne under `.dt` tilgås:"
   ]
  },
  {
   "cell_type": "code",
   "execution_count": 7,
   "id": "7ef0df0f-8136-4785-86fc-ebd8389e9768",
   "metadata": {},
   "outputs": [
    {
     "name": "stdout",
     "output_type": "stream",
     "text": [
      "0     2\n",
      "1     4\n",
      "2    30\n",
      "dtype: int64\n"
     ]
    }
   ],
   "source": [
    "print(dates.dt.day)"
   ]
  },
  {
   "cell_type": "markdown",
   "id": "6fe4610b-dfa0-4353-8fc1-1cecf6d4741c",
   "metadata": {
    "slideshow": {
     "slide_type": "slide"
    },
    "tags": []
   },
   "source": [
    "# Datoer og tid i Python (live-coding)"
   ]
  },
  {
   "cell_type": "markdown",
   "id": "cfa25b06-59dd-449a-b08b-00e9cc8a442c",
   "metadata": {
    "slideshow": {
     "slide_type": "slide"
    },
    "tags": []
   },
   "source": [
    "## FÆLLES ØVELSE: Datoer og tid i Python\n",
    "\n",
    "I Eurobarometer-datasættet indeholder kolonnen `p1` datoen for dataindsamlingen for respondenten.\n",
    "\n",
    "Hvordan kan det undersøges, hvor lang tid det tog at samle data fra de danske respondenter?"
   ]
  },
  {
   "cell_type": "markdown",
   "id": "8153a514-948f-49c6-a191-08727c7b8608",
   "metadata": {},
   "source": [
    "## Opsummering\n",
    "\n",
    "- Datoer i Python er strings, indtil Python er fortalt andet\n",
    "- `datetime` modulet bruges til at konvertere strings til datoer *uden for pandas*\n",
    "    - I pandas bruges `pd.to_datetime()`"
   ]
  }
 ],
 "metadata": {
  "kernelspec": {
   "display_name": "Python 3 (ipykernel)",
   "language": "python",
   "name": "python3"
  },
  "language_info": {
   "codemirror_mode": {
    "name": "ipython",
    "version": 3
   },
   "file_extension": ".py",
   "mimetype": "text/x-python",
   "name": "python",
   "nbconvert_exporter": "python",
   "pygments_lexer": "ipython3",
   "version": "3.12.3"
  }
 },
 "nbformat": 4,
 "nbformat_minor": 5
}
