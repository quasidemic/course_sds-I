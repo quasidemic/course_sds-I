{
 "cells": [
  {
   "cell_type": "code",
   "execution_count": null,
   "id": "30607d92-cf3a-4f01-b5db-cd4da7115b9f",
   "metadata": {},
   "outputs": [],
   "source": [
    "# prep\n",
    "import pandas as pd\n",
    "import numpy as np\n",
    "\n",
    "data_path = \"/work/809805/data/eurobarometer-96_dk_subset.csv\"\n",
    "\n",
    "eurob = pd.read_csv(data_path)\n",
    "\n",
    "age_recode = {\"15 years\": 15, \"Refusal\": np.nan}\n",
    "\n",
    "eurob['d11'] = eurob['d11'].replace(age_recode)\n",
    "eurob['d11'] = eurob['d11'].astype('float') # float = floatpoint"
   ]
  },
  {
   "cell_type": "markdown",
   "id": "049f6460-8e2a-4ccf-960a-4660b94f8b80",
   "metadata": {
    "editable": true,
    "slideshow": {
     "slide_type": "slide"
    },
    "tags": []
   },
   "source": [
    "# Introduktion til pandas data frames"
   ]
  },
  {
   "cell_type": "markdown",
   "id": "5394d0fa-d7e8-47ac-905c-d1745f0668d7",
   "metadata": {
    "editable": true,
    "slideshow": {
     "slide_type": "slide"
    },
    "tags": []
   },
   "source": [
    "## Hvad er en (pandas) data frame?\n",
    "\n",
    "- En datastruktur til tabeldata i python (en repræsentation af data)\n",
    "\n",
    "![df](https://pandas.pydata.org/pandas-docs/stable/_images/01_table_dataframe.svg)\n",
    "\n",
    "- Hver række og kolonne har et *index*\n",
    "- Rækker typisk identificeret ved *index* (rækkenummer - men kan også være andet!)\n",
    "- Kolonner typisk identificeret ved kolonnenavn"
   ]
  },
  {
   "cell_type": "markdown",
   "id": "da7e4b9e-8b4d-4577-a275-41790c8bbc95",
   "metadata": {
    "editable": true,
    "slideshow": {
     "slide_type": "slide"
    },
    "tags": []
   },
   "source": [
    "### Hver kolonne i en data frame er en `Series`\n",
    "\n",
    "- `Series` et enkeltkolonne-format i pandas\n",
    "- Sammenlignet med en python liste, kan en `Series` kun have én type data\n",
    "- Indexes i en `Series` behøver ikke starte ved 0\n",
    "\n",
    "![series](https://pandas.pydata.org/pandas-docs/stable/_images/01_table_series.svg)"
   ]
  },
  {
   "cell_type": "markdown",
   "id": "7f9f4e0f-e670-4ea5-8973-64be79a931e2",
   "metadata": {
    "editable": true,
    "slideshow": {
     "slide_type": "slide"
    },
    "tags": []
   },
   "source": [
    "## Fra data til data frame\n",
    "\n",
    "- En data frame er blot en repræsentation af data i python\n",
    "- Mange dataformater kan konverteres til en data frame\n",
    "- Data frames er brugbare til mange former for analyse\n",
    "\n",
    "Eksempler på filer, som kan læses til data frames (hvis i korrekt format!): \n",
    "- .csv\n",
    "- .json\n",
    "- .xls (Excel)\n",
    "- .dta (Stata)\n",
    "- .sas7bdat (SAS)"
   ]
  },
  {
   "cell_type": "markdown",
   "id": "ebe8deb9-6cda-4cb2-96d4-d1d41a5eced1",
   "metadata": {
    "editable": true,
    "slideshow": {
     "slide_type": "slide"
    },
    "tags": []
   },
   "source": [
    "# Introduktion til pandas data frames (live coding)"
   ]
  },
  {
   "cell_type": "markdown",
   "id": "6f8fba42-a334-400d-b463-99f32d41c498",
   "metadata": {
    "editable": true,
    "slideshow": {
     "slide_type": "slide"
    },
    "tags": []
   },
   "source": [
    "# Udforskning af data (live coding)"
   ]
  },
  {
   "cell_type": "markdown",
   "id": "ed0b2620-1395-481c-8255-291ae6b5755c",
   "metadata": {
    "editable": true,
    "slideshow": {
     "slide_type": "slide"
    },
    "tags": []
   },
   "source": [
    "# Basal datahåndtering i pandas"
   ]
  },
  {
   "cell_type": "markdown",
   "id": "65557270-48fb-4823-b476-35ead464fe07",
   "metadata": {
    "editable": true,
    "slideshow": {
     "slide_type": "slide"
    },
    "tags": []
   },
   "source": [
    "## Vælg kolonner\n",
    "\n",
    "![col](https://pandas.pydata.org/pandas-docs/stable/_images/03_subset_columns.svg)"
   ]
  },
  {
   "cell_type": "code",
   "execution_count": 8,
   "id": "55b73d9f-2af5-4629-a98d-54535a669e76",
   "metadata": {
    "editable": true,
    "slideshow": {
     "slide_type": ""
    },
    "tags": []
   },
   "outputs": [
    {
     "data": {
      "text/plain": [
       "0      Not at all\n",
       "1          Medium\n",
       "2          Medium\n",
       "3          Medium\n",
       "4          Medium\n",
       "          ...    \n",
       "988        Strong\n",
       "989        Medium\n",
       "990        Strong\n",
       "991        Medium\n",
       "992           Low\n",
       "Name: polintr, Length: 993, dtype: object"
      ]
     },
     "execution_count": 8,
     "metadata": {},
     "output_type": "execute_result"
    }
   ],
   "source": [
    "eurob['polintr']"
   ]
  },
  {
   "cell_type": "markdown",
   "id": "da9e09a6-b35c-4605-b4f1-7fd91ed10b9a",
   "metadata": {
    "editable": true,
    "slideshow": {
     "slide_type": "slide"
    },
    "tags": []
   },
   "source": [
    "## Vælg rækker\n",
    "\n",
    "![rows](https://pandas.pydata.org/pandas-docs/stable/_images/03_subset_rows.svg)"
   ]
  },
  {
   "cell_type": "code",
   "execution_count": 9,
   "id": "689b3c45-a512-49ae-882a-b2a90c13eed8",
   "metadata": {
    "editable": true,
    "slideshow": {
     "slide_type": ""
    },
    "tags": []
   },
   "outputs": [
    {
     "data": {
      "text/html": [
       "<div>\n",
       "<style scoped>\n",
       "    .dataframe tbody tr th:only-of-type {\n",
       "        vertical-align: middle;\n",
       "    }\n",
       "\n",
       "    .dataframe tbody tr th {\n",
       "        vertical-align: top;\n",
       "    }\n",
       "\n",
       "    .dataframe thead th {\n",
       "        text-align: right;\n",
       "    }\n",
       "</style>\n",
       "<table border=\"1\" class=\"dataframe\">\n",
       "  <thead>\n",
       "    <tr style=\"text-align: right;\">\n",
       "      <th></th>\n",
       "      <th>uniqid</th>\n",
       "      <th>d11</th>\n",
       "      <th>polintr</th>\n",
       "      <th>qb1</th>\n",
       "      <th>qb3_1</th>\n",
       "      <th>qb3_2</th>\n",
       "      <th>qb3_3</th>\n",
       "      <th>qb3_4</th>\n",
       "      <th>qb3_5</th>\n",
       "      <th>qb3_6</th>\n",
       "      <th>...</th>\n",
       "      <th>d10</th>\n",
       "      <th>d15a</th>\n",
       "      <th>d15b</th>\n",
       "      <th>d25</th>\n",
       "      <th>d63</th>\n",
       "      <th>d1</th>\n",
       "      <th>p1</th>\n",
       "      <th>p2</th>\n",
       "      <th>p3</th>\n",
       "      <th>region_denmark</th>\n",
       "    </tr>\n",
       "  </thead>\n",
       "  <tbody>\n",
       "    <tr>\n",
       "      <th>10</th>\n",
       "      <td>110005583</td>\n",
       "      <td>91.0</td>\n",
       "      <td>Low</td>\n",
       "      <td>Don't know (SPONTANEOUS)</td>\n",
       "      <td>Not mentioned</td>\n",
       "      <td>Not mentioned</td>\n",
       "      <td>Not mentioned</td>\n",
       "      <td>Not mentioned</td>\n",
       "      <td>Not mentioned</td>\n",
       "      <td>Not mentioned</td>\n",
       "      <td>...</td>\n",
       "      <td>Man</td>\n",
       "      <td>Retired, unable to work</td>\n",
       "      <td>Employed position, travelling</td>\n",
       "      <td>Large town</td>\n",
       "      <td>The working class of society</td>\n",
       "      <td>5</td>\n",
       "      <td>17 Sep 21</td>\n",
       "      <td>13 - 16 h</td>\n",
       "      <td>2636</td>\n",
       "      <td>DK05 - Nordjylland</td>\n",
       "    </tr>\n",
       "    <tr>\n",
       "      <th>19</th>\n",
       "      <td>110005592</td>\n",
       "      <td>18.0</td>\n",
       "      <td>Low</td>\n",
       "      <td>Very important</td>\n",
       "      <td>Use of personal data and information by compan...</td>\n",
       "      <td>Not mentioned</td>\n",
       "      <td>Not mentioned</td>\n",
       "      <td>The safety and well-being of children</td>\n",
       "      <td>Not mentioned</td>\n",
       "      <td>The difficulty of disconnecting and finding a ...</td>\n",
       "      <td>...</td>\n",
       "      <td>Woman</td>\n",
       "      <td>Student</td>\n",
       "      <td>Unskilled manual worker, etc.</td>\n",
       "      <td>Rural area or village</td>\n",
       "      <td>The middle class of society</td>\n",
       "      <td>3</td>\n",
       "      <td>17 Sep 21</td>\n",
       "      <td>13 - 16 h</td>\n",
       "      <td>3252</td>\n",
       "      <td>DK04 - Midtjylland</td>\n",
       "    </tr>\n",
       "  </tbody>\n",
       "</table>\n",
       "<p>2 rows × 23 columns</p>\n",
       "</div>"
      ],
      "text/plain": [
       "       uniqid   d11 polintr                       qb1  \\\n",
       "10  110005583  91.0     Low  Don't know (SPONTANEOUS)   \n",
       "19  110005592  18.0     Low            Very important   \n",
       "\n",
       "                                                qb3_1          qb3_2  \\\n",
       "10                                      Not mentioned  Not mentioned   \n",
       "19  Use of personal data and information by compan...  Not mentioned   \n",
       "\n",
       "            qb3_3                                  qb3_4          qb3_5  \\\n",
       "10  Not mentioned                          Not mentioned  Not mentioned   \n",
       "19  Not mentioned  The safety and well-being of children  Not mentioned   \n",
       "\n",
       "                                                qb3_6  ...    d10  \\\n",
       "10                                      Not mentioned  ...    Man   \n",
       "19  The difficulty of disconnecting and finding a ...  ...  Woman   \n",
       "\n",
       "                       d15a                           d15b  \\\n",
       "10  Retired, unable to work  Employed position, travelling   \n",
       "19                  Student  Unskilled manual worker, etc.   \n",
       "\n",
       "                      d25                           d63 d1         p1  \\\n",
       "10             Large town  The working class of society  5  17 Sep 21   \n",
       "19  Rural area or village   The middle class of society  3  17 Sep 21   \n",
       "\n",
       "           p2    p3      region_denmark  \n",
       "10  13 - 16 h  2636  DK05 - Nordjylland  \n",
       "19  13 - 16 h  3252  DK04 - Midtjylland  \n",
       "\n",
       "[2 rows x 23 columns]"
      ]
     },
     "execution_count": 9,
     "metadata": {},
     "output_type": "execute_result"
    }
   ],
   "source": [
    "eurob[eurob['polintr'] == \"Low\"].head(2) #boolean indexing"
   ]
  },
  {
   "cell_type": "markdown",
   "id": "8dc2ff33-3048-4955-a769-de4884378db3",
   "metadata": {
    "editable": true,
    "slideshow": {
     "slide_type": "slide"
    },
    "tags": []
   },
   "source": [
    "## Subsetting med `.loc[]` og `.iloc[]` (specifikke rækker og kolonner)"
   ]
  },
  {
   "cell_type": "markdown",
   "id": "db893147-5741-41d8-a4f6-0826c4468abb",
   "metadata": {
    "editable": true,
    "slideshow": {
     "slide_type": ""
    },
    "tags": []
   },
   "source": [
    "![loc](https://pandas.pydata.org/pandas-docs/stable/_images/03_subset_columns_rows.svg)"
   ]
  },
  {
   "cell_type": "code",
   "execution_count": 10,
   "id": "cdc71c10-d619-42c0-bff9-821cbaf277e3",
   "metadata": {
    "editable": true,
    "slideshow": {
     "slide_type": ""
    },
    "tags": []
   },
   "outputs": [
    {
     "data": {
      "text/html": [
       "<div>\n",
       "<style scoped>\n",
       "    .dataframe tbody tr th:only-of-type {\n",
       "        vertical-align: middle;\n",
       "    }\n",
       "\n",
       "    .dataframe tbody tr th {\n",
       "        vertical-align: top;\n",
       "    }\n",
       "\n",
       "    .dataframe thead th {\n",
       "        text-align: right;\n",
       "    }\n",
       "</style>\n",
       "<table border=\"1\" class=\"dataframe\">\n",
       "  <thead>\n",
       "    <tr style=\"text-align: right;\">\n",
       "      <th></th>\n",
       "      <th>polintr</th>\n",
       "      <th>d10</th>\n",
       "    </tr>\n",
       "  </thead>\n",
       "  <tbody>\n",
       "    <tr>\n",
       "      <th>10</th>\n",
       "      <td>Low</td>\n",
       "      <td>Man</td>\n",
       "    </tr>\n",
       "    <tr>\n",
       "      <th>19</th>\n",
       "      <td>Low</td>\n",
       "      <td>Woman</td>\n",
       "    </tr>\n",
       "    <tr>\n",
       "      <th>24</th>\n",
       "      <td>Low</td>\n",
       "      <td>Woman</td>\n",
       "    </tr>\n",
       "  </tbody>\n",
       "</table>\n",
       "</div>"
      ],
      "text/plain": [
       "   polintr    d10\n",
       "10     Low    Man\n",
       "19     Low  Woman\n",
       "24     Low  Woman"
      ]
     },
     "execution_count": 10,
     "metadata": {},
     "output_type": "execute_result"
    }
   ],
   "source": [
    "eurob.loc[eurob['polintr'] == \"Low\", ['polintr', 'd10']].head(3) "
   ]
  },
  {
   "cell_type": "markdown",
   "id": "cff75137-9d3c-4fdd-bbf1-8d8163af1678",
   "metadata": {
    "editable": true,
    "slideshow": {
     "slide_type": "slide"
    },
    "tags": []
   },
   "source": [
    "## Subsetting med `.loc[]` og `.iloc[]` \n",
    "\n",
    "- `.loc[]`: \"label-based location\" (baseret på navngivningen af rækker og kolonner)\n",
    "- `.iloc[]`: \"index-based location\" (baseret på index for rækker og kolonner)\n",
    "\n",
    "**Syntax:**\n",
    "\n",
    "`.loc[rows,columns]`\n",
    "\n",
    "- `rows` kan specificeres som rækkenavne eller via betingelser (\"boolean indexing\")\n",
    "- `columns` kan specificeres som liste af kolonnenavne"
   ]
  },
  {
   "cell_type": "markdown",
   "id": "e46d9f57-3a21-4e07-9960-1a6b299ceacc",
   "metadata": {
    "editable": true,
    "slideshow": {
     "slide_type": "slide"
    },
    "tags": []
   },
   "source": [
    "## Rekodning med `.loc`\n",
    "\n",
    "- Tænk rekodning som, at man lokaliserer specifikke dele af data, som overskrives med en værdi\n",
    "\n",
    "<img src=\"../img/loc_example.png\" style=\"width:50.0%\" />"
   ]
  },
  {
   "cell_type": "markdown",
   "id": "c1401434-e359-474f-9c69-6b1a190322a6",
   "metadata": {
    "editable": true,
    "slideshow": {
     "slide_type": ""
    },
    "tags": []
   },
   "source": [
    "```python\n",
    "df.loc[df['v1'] > 10, 'v1'] = 0\n",
    "```"
   ]
  },
  {
   "cell_type": "markdown",
   "id": "9b630e25-3de3-4fd1-b572-9888719fdeff",
   "metadata": {
    "editable": true,
    "slideshow": {
     "slide_type": ""
    },
    "tags": []
   },
   "source": [
    "<img src=\"../img/loc_example2.png\" style=\"width:28.0%\" />"
   ]
  },
  {
   "cell_type": "markdown",
   "id": "d275d44b-85fd-48d3-905c-b49c8c0a9b16",
   "metadata": {
    "editable": true,
    "slideshow": {
     "slide_type": "slide"
    },
    "tags": []
   },
   "source": [
    "## Rekodning med mappings"
   ]
  },
  {
   "cell_type": "markdown",
   "id": "ccf4aa52-8825-4077-aeb7-49ed1170f6c8",
   "metadata": {
    "editable": true,
    "slideshow": {
     "slide_type": ""
    },
    "tags": []
   },
   "source": [
    "- Ved rekodning af kategorier, kan det være besværligt at bruge `.loc[]`\n",
    "- Alternativt kan man bruge en *mapping*, hvor man angiver, hvilke værdier der skal erstattes med hvad\n",
    "- En mapping kan betragtes som en form for \"søg-og-erstat\" skema, som man anvender på en kolonne\n",
    "- Mapping laves som dictionary med gammel værdi som nøgle og den nye værdi som key:\n",
    "\n",
    "```\n",
    "mapping = {\"old value x\": \"new value x\", \"old value y\": \"new value y\"}\n",
    "```\n",
    "\n",
    "- Mapping kan bruges til at erstatte værdier i en kolonne (eller `Series`) med metoden `.replace()`\n"
   ]
  },
  {
   "cell_type": "markdown",
   "id": "a5a6689d-2bb9-4a53-ba5b-a7e03da6faaf",
   "metadata": {
    "editable": true,
    "slideshow": {
     "slide_type": "slide"
    },
    "tags": []
   },
   "source": [
    "## Rekodning med mappings - eksempel"
   ]
  },
  {
   "cell_type": "code",
   "execution_count": 12,
   "id": "891a3308-560b-4ba1-b31f-9b84f2027238",
   "metadata": {
    "editable": true,
    "slideshow": {
     "slide_type": ""
    },
    "tags": []
   },
   "outputs": [
    {
     "data": {
      "text/plain": [
       "qb1\n",
       "Very important              716\n",
       "Fairly important            191\n",
       "Not very important           44\n",
       "Not at all important         32\n",
       "Don't know (SPONTANEOUS)     10\n",
       "Name: count, dtype: int64"
      ]
     },
     "execution_count": 12,
     "metadata": {},
     "output_type": "execute_result"
    }
   ],
   "source": [
    "eurob['qb1'].value_counts()"
   ]
  },
  {
   "cell_type": "code",
   "execution_count": 13,
   "id": "48466ea7-6b3c-43f5-9021-0fe62db47884",
   "metadata": {
    "editable": true,
    "slideshow": {
     "slide_type": ""
    },
    "tags": []
   },
   "outputs": [
    {
     "data": {
      "text/plain": [
       "qb1_bin\n",
       "Important        907\n",
       "Not important     76\n",
       "Name: count, dtype: int64"
      ]
     },
     "execution_count": 13,
     "metadata": {},
     "output_type": "execute_result"
    }
   ],
   "source": [
    "qb1_map = {\"Very important\": \"Important\", \n",
    "          \"Fairly important\": \"Important\", \n",
    "          \"Not very important\": \"Not important\",\n",
    "          \"Not at all important\": \"Not important\",\n",
    "          \"Don't know (SPONTANEOUS)\": np.nan}\n",
    "\n",
    "eurob['qb1_bin'] = eurob['qb1'].replace(qb1_map)\n",
    "\n",
    "eurob['qb1_bin'].value_counts()"
   ]
  },
  {
   "cell_type": "markdown",
   "id": "b178eb01-2812-4a49-8b20-ecbae2b712b6",
   "metadata": {
    "editable": true,
    "slideshow": {
     "slide_type": "slide"
    },
    "tags": []
   },
   "source": [
    "# Opsummering\n",
    "\n",
    "- Pandas data frames er en datastruktur i python til at arbejde med data i tabeller\n",
    "- En kolonne i en data frame kaldes en `Series`\n",
    "- Split-apply-combine metoder kan bruges til at opsummere og filtere på gruppeniveau (`.groupby()`)\n",
    "- `.loc[]` bruges til både subsetting og rekodning af data frames"
   ]
  },
  {
   "cell_type": "markdown",
   "id": "d5afa40a-fd71-4f5f-9083-e220a81688dd",
   "metadata": {
    "editable": true,
    "slideshow": {
     "slide_type": "slide"
    },
    "tags": []
   },
   "source": [
    "# LAB ØVELSE: Datahåndtering i Python"
   ]
  }
 ],
 "metadata": {
  "kernelspec": {
   "display_name": "Python 3 (ipykernel)",
   "language": "python",
   "name": "python3"
  },
  "language_info": {
   "codemirror_mode": {
    "name": "ipython",
    "version": 3
   },
   "file_extension": ".py",
   "mimetype": "text/x-python",
   "name": "python",
   "nbconvert_exporter": "python",
   "pygments_lexer": "ipython3",
   "version": "3.12.3"
  }
 },
 "nbformat": 4,
 "nbformat_minor": 5
}
