{
 "cells": [
  {
   "cell_type": "code",
   "execution_count": null,
   "id": "2756df2e-40ed-4650-9fe1-27b3c576ddda",
   "metadata": {
    "tags": []
   },
   "outputs": [],
   "source": [
    "# Installér spacy sprogmodel for dansk (hvis ikke installeret i forvejen)\n",
    "\n",
    "#!python -m spacy download 'da_core_news_sm'"
   ]
  },
  {
   "cell_type": "code",
   "execution_count": null,
   "id": "58c88fec-a3d1-4a90-8b68-f94e7a967344",
   "metadata": {
    "tags": []
   },
   "outputs": [],
   "source": [
    "# indlæs pakker\n",
    "\n",
    "import os\n",
    "from os.path import join\n",
    "import re\n",
    "import pandas as pd\n",
    "\n",
    "from sklearn.cluster import KMeans\n",
    "from sklearn.feature_extraction.text import TfidfVectorizer\n",
    "from sklearn.feature_extraction.text import CountVectorizer\n",
    "from sklearn.decomposition import PCA\n",
    "\n",
    "import plotnine\n",
    "plotnine.options.figure_size = (12, 10)\n",
    "\n",
    "import spacy\n",
    "\n",
    "nlp = spacy.load('da_core_news_sm')"
   ]
  },
  {
   "cell_type": "code",
   "execution_count": null,
   "id": "21bae1ab-0244-4d7c-a95f-c4c994451846",
   "metadata": {
    "tags": []
   },
   "outputs": [],
   "source": [
    "# indlæs data\n",
    "\n",
    "data_p = join('/work', 'teaching-materials', 'data', 'polparties')\n",
    "\n",
    "# sf texts\n",
    "sf = []\n",
    "\n",
    "sf_files = os.listdir(join(data_p, 'sf'))\n",
    "\n",
    "for filename in sf_files:\n",
    "    if filename.endswith('.txt'):\n",
    "        text = {}\n",
    "        \n",
    "        text['name'] = filename\n",
    "        text['party'] = 'sf'\n",
    "        text['text'] = open(join(data_p, 'sf', filename)).read()\n",
    "        \n",
    "        sf.append(text)\n",
    "        \n",
    "# c texts\n",
    "cons = []\n",
    "\n",
    "cons_files = os.listdir(join(data_p, 'konservative'))\n",
    "\n",
    "for filename in cons_files:\n",
    "    if filename.endswith('.txt'):\n",
    "        text = {}\n",
    "        \n",
    "        text['name'] = filename\n",
    "        text['party'] = 'konservative'\n",
    "        text['text'] = open(join(data_p, 'konservative', filename)).read()\n",
    "        \n",
    "        cons.append(text)\n",
    "        \n",
    "# df texts\n",
    "df = []\n",
    "\n",
    "df_files = os.listdir(join(data_p, 'df'))\n",
    "\n",
    "for filename in df_files:\n",
    "    if filename.endswith('.txt'):\n",
    "        text = {}\n",
    "        \n",
    "        text['name'] = filename\n",
    "        text['party'] = 'df'\n",
    "        text['text'] = open(join(data_p, 'df', filename)).read()\n",
    "        \n",
    "        df.append(text)\n",
    "        \n",
    "# combined\n",
    "poltext_data = sf + cons + df\n",
    "\n",
    "# just texts\n",
    "poltexts = [poltext.get('text') for poltext in poltext_data]\n",
    "\n",
    "# as dataframe\n",
    "poltext_df = pd.DataFrame.from_records(poltext_data)"
   ]
  },
  {
   "cell_type": "code",
   "execution_count": null,
   "id": "3546b924-1981-4ee8-8514-4186ea99e074",
   "metadata": {
    "tags": []
   },
   "outputs": [],
   "source": [
    "# dictionary struktur\n",
    "poltext_data[0]"
   ]
  },
  {
   "cell_type": "code",
   "execution_count": null,
   "id": "f8a57d37-c1f5-4d77-b49a-550e2532963c",
   "metadata": {
    "tags": []
   },
   "outputs": [],
   "source": [
    "# kun text\n",
    "poltexts[0]"
   ]
  },
  {
   "cell_type": "code",
   "execution_count": null,
   "id": "215552c5-dcff-4ac5-b932-7413d65795f5",
   "metadata": {
    "tags": []
   },
   "outputs": [],
   "source": [
    "# data frame\n",
    "poltext_df.head()"
   ]
  },
  {
   "cell_type": "markdown",
   "id": "745cdc1c-a078-4c54-af8b-5fa1b4a37229",
   "metadata": {},
   "source": [
    "## Klyngeanalyse af tekster: CountVectorizer (rå tællinger af ord)"
   ]
  },
  {
   "cell_type": "code",
   "execution_count": null,
   "id": "364cbac2-7c6f-44b6-89ff-db3b0a4ff8d6",
   "metadata": {
    "tags": []
   },
   "outputs": [],
   "source": [
    "from sklearn.feature_extraction.text import CountVectorizer\n",
    "\n",
    "vectorizer = CountVectorizer(min_df = 0.05, max_df = 0.9) # dan vectorizerfunktion\n",
    "transformed_documents = vectorizer.fit_transform(poltexts) # brug vectorizer på tekster\n",
    "\n",
    "# Konverter fittet vectorizer til array\n",
    "transformed_documents_as_array = transformed_documents.toarray()\n",
    "\n",
    "# Konverter til data frame\n",
    "count_df = pd.DataFrame(transformed_documents_as_array, columns = vectorizer.get_feature_names_out())"
   ]
  },
  {
   "cell_type": "code",
   "execution_count": null,
   "id": "4f1ecf2f-5457-489d-a1d7-582cca1fc28e",
   "metadata": {
    "tags": []
   },
   "outputs": [],
   "source": [
    "from sklearn.cluster import KMeans\n",
    "kmeans = KMeans(3, random_state = 142)\n",
    "\n",
    "identified_clusters = kmeans.fit_predict(count_df)\n",
    "identified_clusters"
   ]
  },
  {
   "cell_type": "code",
   "execution_count": null,
   "id": "bbe4e562-5b0c-4109-9c86-299612e2ec75",
   "metadata": {
    "tags": []
   },
   "outputs": [],
   "source": [
    "poltext_df['cluster_countvec'] = identified_clusters\n",
    "poltext_df['cluster_countvec'] = poltext_df['cluster_countvec'].astype('str') # omdannes til string for at gøre den kategorisk"
   ]
  },
  {
   "cell_type": "code",
   "execution_count": null,
   "id": "a2944c6d-5c04-4a9e-ae2a-2c09c49e8c92",
   "metadata": {
    "tags": []
   },
   "outputs": [],
   "source": [
    "poltext_df.groupby(['party', 'cluster_countvec']).size() / poltext_df.groupby(['party']).size()"
   ]
  },
  {
   "cell_type": "code",
   "execution_count": null,
   "id": "223c544d-f0ba-4dca-8ec9-bfebe42f5940",
   "metadata": {
    "tags": []
   },
   "outputs": [],
   "source": [
    "from plotnine import ggplot, aes, geom_bar\n",
    "\n",
    "(ggplot(data = poltext_df, mapping = aes(x = 'party', group = 'cluster_countvec', fill = 'cluster_countvec')) \n",
    " + geom_bar(position = 'fill'))"
   ]
  },
  {
   "cell_type": "markdown",
   "id": "ccc7ff35-0275-4d88-a16f-6591e7aa9d06",
   "metadata": {},
   "source": [
    "## Klyngeanalyse ud fra TfIdf vectorizer (Tf-idf vægtning af ord)"
   ]
  },
  {
   "cell_type": "code",
   "execution_count": null,
   "id": "aa92d627-78ff-4125-ae57-91d1232db847",
   "metadata": {
    "tags": []
   },
   "outputs": [],
   "source": [
    "from sklearn.feature_extraction.text import TfidfVectorizer\n",
    "\n",
    "vectorizer = TfidfVectorizer(min_df = 0.05, max_df = 0.9) # dan vectorizerfunktion\n",
    "transformed_documents = vectorizer.fit_transform(poltexts) # brug vectorizer på tekster\n",
    "\n",
    "# Konverter fittet vectorizer til array\n",
    "transformed_documents_as_array = transformed_documents.toarray()\n",
    "\n",
    "# Konverter til data frame\n",
    "tfidf_df = pd.DataFrame(transformed_documents_as_array, columns = vectorizer.get_feature_names_out())"
   ]
  },
  {
   "cell_type": "code",
   "execution_count": null,
   "id": "29c4b386-c09e-46a1-8bd5-6ee86eb192f9",
   "metadata": {
    "tags": []
   },
   "outputs": [],
   "source": [
    "from sklearn.cluster import KMeans\n",
    "kmeans = KMeans(3, random_state = 142)\n",
    "\n",
    "identified_clusters = kmeans.fit_predict(tfidf_df)\n",
    "identified_clusters"
   ]
  },
  {
   "cell_type": "code",
   "execution_count": null,
   "id": "a32b956a-e1d4-4164-b3ca-abc0f8288ce4",
   "metadata": {
    "tags": []
   },
   "outputs": [],
   "source": [
    "poltext_df['cluster_tfidfvec'] = identified_clusters\n",
    "poltext_df['cluster_tfidfvec'] = poltext_df['cluster_tfidfvec'].astype('str') # omdannes til string for at gøre den kategorisk"
   ]
  },
  {
   "cell_type": "code",
   "execution_count": null,
   "id": "e465ea37-75db-4f35-9a55-5acc9d7cfb0b",
   "metadata": {
    "tags": []
   },
   "outputs": [],
   "source": [
    "poltext_df.groupby(['party', 'cluster_tfidfvec']).size() / poltext_df.groupby(['party']).size()"
   ]
  },
  {
   "cell_type": "code",
   "execution_count": null,
   "id": "119d1fe3-bac9-4822-abaf-27464be91369",
   "metadata": {
    "tags": []
   },
   "outputs": [],
   "source": [
    "import plotnine\n",
    "plotnine.options.figure_size = (12, 10)\n",
    "from plotnine import ggplot, aes, geom_bar\n",
    "\n",
    "(ggplot(data = poltext_df, mapping = aes(x = 'party', group = 'cluster_tfidfvec', fill = 'cluster_tfidfvec')) \n",
    " + geom_bar(position = 'fill'))"
   ]
  },
  {
   "cell_type": "markdown",
   "id": "bb9c8450-0982-442f-89ac-74ed12bbb0b5",
   "metadata": {},
   "source": [
    "## Klyngeanalyse ud fra egen tokenizer og TfIdf vectorizer"
   ]
  },
  {
   "cell_type": "code",
   "execution_count": null,
   "id": "123894ec-e0ce-414e-95a9-371a5e1b452a",
   "metadata": {
    "tags": []
   },
   "outputs": [],
   "source": [
    "# dan tokenizer\n",
    "\n",
    "def tokenizer(text):\n",
    "    \n",
    "    custom_stops = [\"del\"] # Definerer kontekstspecifikke stopord\n",
    "    default_stopwords = list(nlp.Defaults.stop_words) # Indlæser prædefineret stopordsliste\n",
    "    stop_words = default_stopwords + custom_stops # Danner samlet stopordsliste\n",
    "    \n",
    "    pos_tags = ['PROPN', 'ADJ', 'NOUN'] # Definerer POS-tags som skal bevares\n",
    "\n",
    "    doc = nlp(text)\n",
    "\n",
    "    tokens = []\n",
    "\n",
    "    for word in doc: # Looper igennem hvert ord i tweet\n",
    "        if (len(word.lemma_) < 3): # Ord må ikke være mindre end 3 karakterer - går videre til næste ord, hvis det er\n",
    "            continue\n",
    "        if (word.pos_ in pos_tags) and (word.lemma_ not in stop_words): # Tjek at ordets POS-tag indgår i listen af accepterede tags og at ordet ikke er stopord\n",
    "            tokens.append(word.lemma_) # Tilføj ordets lemma til tokens, hvis if-betingelse er opfyldt\n",
    "                \n",
    "    return(tokens)"
   ]
  },
  {
   "cell_type": "code",
   "execution_count": null,
   "id": "81bd5a86-7a4f-4d8b-b927-d3db501faa3c",
   "metadata": {
    "tags": []
   },
   "outputs": [],
   "source": [
    "# vectorizer\n",
    "\n",
    "from sklearn.feature_extraction.text import TfidfVectorizer\n",
    "\n",
    "vectorizer = TfidfVectorizer(min_df = 0.05, max_df = 0.9, tokenizer = tokenizer) # dan vectorizerfunktion\n",
    "transformed_documents = vectorizer.fit_transform(poltexts) # brug vectorizer på tekster\n",
    "\n",
    "# Konverter fittet vectorizer til array\n",
    "transformed_documents_as_array = transformed_documents.toarray()\n",
    "\n",
    "# Konverter til data frame\n",
    "tfidf_tk_df = pd.DataFrame(transformed_documents_as_array, columns = vectorizer.get_feature_names_out())"
   ]
  },
  {
   "cell_type": "code",
   "execution_count": null,
   "id": "6b130132-a4c5-4538-b7d3-3ae673c507b0",
   "metadata": {
    "tags": []
   },
   "outputs": [],
   "source": [
    "from sklearn.cluster import KMeans\n",
    "kmeans = KMeans(3, random_state = 142)\n",
    "\n",
    "identified_clusters = kmeans.fit_predict(tfidf_tk_df)\n",
    "identified_clusters"
   ]
  },
  {
   "cell_type": "code",
   "execution_count": null,
   "id": "d777d4cd-5fa8-4c1f-bae3-fdc2ca69a552",
   "metadata": {
    "tags": []
   },
   "outputs": [],
   "source": [
    "poltext_df['cluster_tfidf_tk'] = identified_clusters\n",
    "poltext_df['cluster_tfidf_tk'] = poltext_df['cluster_tfidf_tk'].astype('str') # omdannes til string for at gøre den kategorisk"
   ]
  },
  {
   "cell_type": "code",
   "execution_count": null,
   "id": "d2ed10e8-2175-489b-9ef9-f47cd94d0b50",
   "metadata": {
    "tags": []
   },
   "outputs": [],
   "source": [
    "poltext_df.groupby(['party', 'cluster_tfidf_tk']).size() / poltext_df.groupby(['party']).size()"
   ]
  },
  {
   "cell_type": "code",
   "execution_count": null,
   "id": "fd44706e-2e4a-482c-a03c-5294a8dad040",
   "metadata": {
    "tags": []
   },
   "outputs": [],
   "source": [
    "import plotnine\n",
    "plotnine.options.figure_size = (12, 10)\n",
    "from plotnine import ggplot, aes, geom_bar\n",
    "\n",
    "(ggplot(data = poltext_df, mapping = aes(x = 'party', group = 'cluster_tfidf_tk', fill = 'cluster_tfidf_tk')) \n",
    " + geom_bar(position = 'fill'))"
   ]
  },
  {
   "cell_type": "markdown",
   "id": "fcf4046a-2748-4fa0-bb14-ff90393ac02b",
   "metadata": {},
   "source": [
    "## PCA på tekst"
   ]
  },
  {
   "cell_type": "code",
   "execution_count": null,
   "id": "6c4639be-ddef-4299-805b-c961a1405384",
   "metadata": {
    "tags": []
   },
   "outputs": [],
   "source": [
    "from sklearn.decomposition import PCA\n",
    "\n",
    "pca = PCA(n_components=2, random_state=142)\n",
    "\n",
    "pca_vecs = pca.fit_transform(tfidf_tk_df)\n",
    "\n",
    "pca1 = pca_vecs[:, 0]\n",
    "pca2 = pca_vecs[:, 1]\n",
    "\n",
    "poltext_df['pca1'] = pca1\n",
    "poltext_df['pca2'] = pca2"
   ]
  },
  {
   "cell_type": "code",
   "execution_count": null,
   "id": "146c0276-4f9a-4352-9cb1-397e95ccd74d",
   "metadata": {
    "tags": []
   },
   "outputs": [],
   "source": [
    "from plotnine import ggplot, aes, geom_point\n",
    "\n",
    "(ggplot(data = poltext_df, mapping = aes(x = 'pca1', y = 'pca2', shape = 'cluster_tfidf_tk', colour = 'party')) \n",
    " + geom_point())"
   ]
  }
 ],
 "metadata": {
  "kernelspec": {
   "display_name": "Python 3 ",
   "language": "python",
   "name": "python3"
  },
  "language_info": {
   "codemirror_mode": {
    "name": "ipython",
    "version": 3
   },
   "file_extension": ".py",
   "mimetype": "text/x-python",
   "name": "python",
   "nbconvert_exporter": "python",
   "pygments_lexer": "ipython3",
   "version": "3.10.14"
  }
 },
 "nbformat": 4,
 "nbformat_minor": 5
}
