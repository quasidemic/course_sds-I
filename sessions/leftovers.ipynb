{
 "cells": [
  {
   "cell_type": "markdown",
   "id": "130b2845-2436-409a-b933-5aa9b970124d",
   "metadata": {},
   "source": [
    "# Sammensætning af tabeldata (joins)"
   ]
  },
  {
   "cell_type": "markdown",
   "id": "9db936b6-4ab8-4a9f-9ad2-0e5010c1e9b8",
   "metadata": {},
   "source": [
    "## Hvad er joins?\n",
    "\n",
    "\"Joins\" stammer oprindeligt fra SQL (databasesprog) og referer til kommandoer til at sammensætte data på baggrund af delt information.\n",
    "\n",
    "*Eksempler*:\n",
    "- Sammensæt spørgeskemadata fra flere runder ud fra identnummer\n",
    "- Tilføje baggrundsoplysninger (fx data om kommune, virksomhed eller andet)\n",
    "- Filtrere data til kun at indeholde observationer, der findes i flere datasæt\n",
    "\n",
    "![joins](https://i.stack.imgur.com/0iHiL.png)"
   ]
  },
  {
   "cell_type": "markdown",
   "id": "f16be8f7-a0b2-4248-b5ba-ab5d600ff294",
   "metadata": {},
   "source": [
    "# Ændring af tabeldatastruktur (wide-long)"
   ]
  }
 ],
 "metadata": {
  "kernelspec": {
   "display_name": "Python 3",
   "language": "python",
   "name": "python3"
  },
  "language_info": {
   "codemirror_mode": {
    "name": "ipython",
    "version": 3
   },
   "file_extension": ".py",
   "mimetype": "text/x-python",
   "name": "python",
   "nbconvert_exporter": "python",
   "pygments_lexer": "ipython3",
   "version": "3.7.12"
  }
 },
 "nbformat": 4,
 "nbformat_minor": 5
}
