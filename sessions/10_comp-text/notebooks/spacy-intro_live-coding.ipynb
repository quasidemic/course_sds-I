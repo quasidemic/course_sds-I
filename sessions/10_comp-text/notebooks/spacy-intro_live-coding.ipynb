{
 "cells": [
  {
   "cell_type": "markdown",
   "id": "12df754c-ea74-4201-864a-edf764dedf71",
   "metadata": {},
   "source": [
    "# Introduktion til `spaCy` \n",
    "\n",
    "\"spaCy\" indeholder forskellige sprogmodeller - herunder en dansk sprogmodel.\n",
    "\n",
    "Overordnet virker spaCy ved, at man specificerer en sprogmodel samt nogen \"processors\", som modellen skal indeholde. \n",
    "\n",
    "SpaCy's sprogmodeller indeholder blandt andet:\n",
    "- Tokenizer (inddeling i enkeltord)\n",
    "- Lemmatizer (konvertering til navneform)\n",
    "- Part-Of-Speech tagging (POS-tagging) (identificering af ordtyper)\n",
    "- Dependency parsing (sætningskonstruktion)\n",
    "- Named-Entity-Recognition (NER) (udledning af \"named entities\", fx personer og organisationer)"
   ]
  },
  {
   "cell_type": "markdown",
   "id": "6cde3b52-f3df-444d-aea9-1a34b958b3fb",
   "metadata": {},
   "source": [
    "## Brug af spaCy i Python\n",
    "\n",
    "1. Indlæs sprogmodel\n",
    "2. Analysér tekstykke\n",
    "3. Inspicér resultater"
   ]
  },
  {
   "cell_type": "code",
   "execution_count": 1,
   "id": "d6d1ace3-ef6f-4c1b-9281-84d9c5062257",
   "metadata": {
    "tags": []
   },
   "outputs": [],
   "source": [
    "import spacy\n",
    "\n",
    "#!python -m spacy download 'da_core_news_sm' # evt. installer sprogmodel"
   ]
  },
  {
   "cell_type": "markdown",
   "id": "ae5ad79f-3504-45dd-9b11-d6fbceabddb0",
   "metadata": {},
   "source": [
    "Når sprogmodellen er hentet, kan vi bruge den ved at indlæse modellen. Som standard indlæses modellen med alle processerne, men det er muligt at aktivere/deaktivere specifikke processer.\n",
    "\n",
    "Efter modellen er defineret, kan man lade sprogmodellen analysere tekst."
   ]
  },
  {
   "cell_type": "code",
   "execution_count": 2,
   "id": "96aa5839-983a-4324-9a88-41f47a1a52bf",
   "metadata": {},
   "outputs": [],
   "source": [
    "nlp = spacy.load(\"da_core_news_sm\") # Definerer model\n",
    "\n",
    "doc = nlp('Politiet har givet borgerne råd') # Analyserer tekst med model"
   ]
  },
  {
   "cell_type": "markdown",
   "id": "9a88b6fb-bf12-4301-90ca-9ab4f8482682",
   "metadata": {},
   "source": [
    "Når modellen anvendes på et stykke tekst, behandler den tekststykket med de forskellige processors, som er en del af sprogmodellen (som standard for dansk: tokenizer, part-of-speech tagging, lemmatizer og dependency parsing).\n",
    "\n",
    "Outputtet (`doc`) indeholder de forskellige værdier, som er udledt af teksten, som attributes (et attribute for token, et for lemma, et for POS-tag osv.).\n",
    "\n",
    "Vi kan fx visualisere sætningskonstruktionen med funktionen `displacy`:"
   ]
  },
  {
   "cell_type": "code",
   "execution_count": 3,
   "id": "0b38ed78-8515-4ada-89e9-326b8b527368",
   "metadata": {
    "tags": []
   },
   "outputs": [
    {
     "data": {
      "text/html": [
       "<span class=\"tex2jax_ignore\"><svg xmlns=\"http://www.w3.org/2000/svg\" xmlns:xlink=\"http://www.w3.org/1999/xlink\" xml:lang=\"da\" id=\"aaac42080fda480dabe5bb40542714f5-0\" class=\"displacy\" width=\"925\" height=\"312.0\" direction=\"ltr\" style=\"max-width: none; height: 312.0px; color: #000000; background: #ffffff; font-family: Arial; direction: ltr\">\n",
       "<text class=\"displacy-token\" fill=\"currentColor\" text-anchor=\"middle\" y=\"222.0\">\n",
       "    <tspan class=\"displacy-word\" fill=\"currentColor\" x=\"50\">Politiet</tspan>\n",
       "    <tspan class=\"displacy-tag\" dy=\"2em\" fill=\"currentColor\" x=\"50\">NOUN</tspan>\n",
       "</text>\n",
       "\n",
       "<text class=\"displacy-token\" fill=\"currentColor\" text-anchor=\"middle\" y=\"222.0\">\n",
       "    <tspan class=\"displacy-word\" fill=\"currentColor\" x=\"225\">har</tspan>\n",
       "    <tspan class=\"displacy-tag\" dy=\"2em\" fill=\"currentColor\" x=\"225\">AUX</tspan>\n",
       "</text>\n",
       "\n",
       "<text class=\"displacy-token\" fill=\"currentColor\" text-anchor=\"middle\" y=\"222.0\">\n",
       "    <tspan class=\"displacy-word\" fill=\"currentColor\" x=\"400\">givet</tspan>\n",
       "    <tspan class=\"displacy-tag\" dy=\"2em\" fill=\"currentColor\" x=\"400\">VERB</tspan>\n",
       "</text>\n",
       "\n",
       "<text class=\"displacy-token\" fill=\"currentColor\" text-anchor=\"middle\" y=\"222.0\">\n",
       "    <tspan class=\"displacy-word\" fill=\"currentColor\" x=\"575\">borgerne</tspan>\n",
       "    <tspan class=\"displacy-tag\" dy=\"2em\" fill=\"currentColor\" x=\"575\">NOUN</tspan>\n",
       "</text>\n",
       "\n",
       "<text class=\"displacy-token\" fill=\"currentColor\" text-anchor=\"middle\" y=\"222.0\">\n",
       "    <tspan class=\"displacy-word\" fill=\"currentColor\" x=\"750\">råd</tspan>\n",
       "    <tspan class=\"displacy-tag\" dy=\"2em\" fill=\"currentColor\" x=\"750\">NOUN</tspan>\n",
       "</text>\n",
       "\n",
       "<g class=\"displacy-arrow\">\n",
       "    <path class=\"displacy-arc\" id=\"arrow-aaac42080fda480dabe5bb40542714f5-0-0\" stroke-width=\"2px\" d=\"M70,177.0 C70,2.0 400.0,2.0 400.0,177.0\" fill=\"none\" stroke=\"currentColor\"/>\n",
       "    <text dy=\"1.25em\" style=\"font-size: 0.8em; letter-spacing: 1px\">\n",
       "        <textPath xlink:href=\"#arrow-aaac42080fda480dabe5bb40542714f5-0-0\" class=\"displacy-label\" startOffset=\"50%\" side=\"left\" fill=\"currentColor\" text-anchor=\"middle\">nsubj</textPath>\n",
       "    </text>\n",
       "    <path class=\"displacy-arrowhead\" d=\"M70,179.0 L62,167.0 78,167.0\" fill=\"currentColor\"/>\n",
       "</g>\n",
       "\n",
       "<g class=\"displacy-arrow\">\n",
       "    <path class=\"displacy-arc\" id=\"arrow-aaac42080fda480dabe5bb40542714f5-0-1\" stroke-width=\"2px\" d=\"M245,177.0 C245,89.5 395.0,89.5 395.0,177.0\" fill=\"none\" stroke=\"currentColor\"/>\n",
       "    <text dy=\"1.25em\" style=\"font-size: 0.8em; letter-spacing: 1px\">\n",
       "        <textPath xlink:href=\"#arrow-aaac42080fda480dabe5bb40542714f5-0-1\" class=\"displacy-label\" startOffset=\"50%\" side=\"left\" fill=\"currentColor\" text-anchor=\"middle\">aux</textPath>\n",
       "    </text>\n",
       "    <path class=\"displacy-arrowhead\" d=\"M245,179.0 L237,167.0 253,167.0\" fill=\"currentColor\"/>\n",
       "</g>\n",
       "\n",
       "<g class=\"displacy-arrow\">\n",
       "    <path class=\"displacy-arc\" id=\"arrow-aaac42080fda480dabe5bb40542714f5-0-2\" stroke-width=\"2px\" d=\"M420,177.0 C420,89.5 570.0,89.5 570.0,177.0\" fill=\"none\" stroke=\"currentColor\"/>\n",
       "    <text dy=\"1.25em\" style=\"font-size: 0.8em; letter-spacing: 1px\">\n",
       "        <textPath xlink:href=\"#arrow-aaac42080fda480dabe5bb40542714f5-0-2\" class=\"displacy-label\" startOffset=\"50%\" side=\"left\" fill=\"currentColor\" text-anchor=\"middle\">iobj</textPath>\n",
       "    </text>\n",
       "    <path class=\"displacy-arrowhead\" d=\"M570.0,179.0 L578.0,167.0 562.0,167.0\" fill=\"currentColor\"/>\n",
       "</g>\n",
       "\n",
       "<g class=\"displacy-arrow\">\n",
       "    <path class=\"displacy-arc\" id=\"arrow-aaac42080fda480dabe5bb40542714f5-0-3\" stroke-width=\"2px\" d=\"M420,177.0 C420,2.0 750.0,2.0 750.0,177.0\" fill=\"none\" stroke=\"currentColor\"/>\n",
       "    <text dy=\"1.25em\" style=\"font-size: 0.8em; letter-spacing: 1px\">\n",
       "        <textPath xlink:href=\"#arrow-aaac42080fda480dabe5bb40542714f5-0-3\" class=\"displacy-label\" startOffset=\"50%\" side=\"left\" fill=\"currentColor\" text-anchor=\"middle\">obj</textPath>\n",
       "    </text>\n",
       "    <path class=\"displacy-arrowhead\" d=\"M750.0,179.0 L758.0,167.0 742.0,167.0\" fill=\"currentColor\"/>\n",
       "</g>\n",
       "</svg></span>"
      ],
      "text/plain": [
       "<IPython.core.display.HTML object>"
      ]
     },
     "metadata": {},
     "output_type": "display_data"
    }
   ],
   "source": [
    "from spacy import displacy # skal indlæses separat\n",
    "\n",
    "displacy.render(doc, style='dep')"
   ]
  },
  {
   "cell_type": "markdown",
   "id": "11e7afbf-4f67-47d0-b9fc-cb373a4cc290",
   "metadata": {},
   "source": [
    "## Lemmatizing\n",
    "\n",
    "Et ords \"lemma\" er dets grammatiske stamme (fx \"er\"->\"være\", \"spiste\"->\"spise\"). SpaCy's sprogmodeller indeholder typisk en indbygget ordbog til at finde stammen for de enkelte ord. Et ords \"lemma\" er gem under attributtet `.lemma_` for hvert ord:"
   ]
  },
  {
   "cell_type": "code",
   "execution_count": 4,
   "id": "602c77ac-1f93-4aad-905e-0a01c6654d7f",
   "metadata": {
    "tags": []
   },
   "outputs": [
    {
     "name": "stdout",
     "output_type": "stream",
     "text": [
      "Politiet        politi\n",
      "har             have\n",
      "givet           give\n",
      "borgerne        borger\n",
      "råd             råd\n"
     ]
    }
   ],
   "source": [
    "for word in doc:\n",
    "    print(f'{word.text:<15} {word.lemma_}')"
   ]
  },
  {
   "cell_type": "markdown",
   "id": "cc25dccf-d22e-49e1-81db-495353f9d684",
   "metadata": {},
   "source": [
    "## Part-of-speech tags\n",
    "\n",
    "SpaCy tagger automatisk hvert ord med sin ordklasse (\"part-of-speech\"-tag/POS-tag). Disse er gemt under attributtet `.pos_` for hvert ord:"
   ]
  },
  {
   "cell_type": "code",
   "execution_count": 5,
   "id": "a32e3b3c-2fb7-4d22-8e4d-7dae8fd82cd5",
   "metadata": {},
   "outputs": [
    {
     "name": "stdout",
     "output_type": "stream",
     "text": [
      "Politiet        NOUN\n",
      "har             AUX\n",
      "givet           VERB\n",
      "borgerne        NOUN\n",
      "råd             NOUN\n"
     ]
    }
   ],
   "source": [
    "for word in doc:\n",
    "    print(f'{word.text:<15} {word.pos_}')"
   ]
  },
  {
   "cell_type": "markdown",
   "id": "680ffb0f-388c-4e5b-9574-e53bb7dd52d3",
   "metadata": {},
   "source": [
    "Part-of-speech tagging virker ved, at modellen i forvejen er trænet på danske tekster, og derfor har \"set\" de forskellige ord i kontekst før. Som det kan ses, er modellen dog ikke perfekt (fx \"trygge\" er angivet som navneord (NOUN), selvom der her er tale om et tillægsord (ADJ)).\n",
    "\n",
    "Part-of-speech tagging tillader fx at isolere visse ord i et stykke tekst:"
   ]
  },
  {
   "cell_type": "code",
   "execution_count": 6,
   "id": "c3b6e233-757b-4146-b890-95ecc2c1d4ae",
   "metadata": {},
   "outputs": [
    {
     "name": "stdout",
     "output_type": "stream",
     "text": [
      "Politiet        NOUN\n",
      "borgerne        NOUN\n",
      "råd             NOUN\n"
     ]
    }
   ],
   "source": [
    "keep_tags = ['NOUN', 'ADJ', 'PROPN']\n",
    "keep_words = []\n",
    "\n",
    "for word in doc:\n",
    "    if word.pos_ in keep_tags:\n",
    "        keep_words.append(word)\n",
    "\n",
    "for word in keep_words:\n",
    "    print(f'{word.text:<15} {word.pos_}')"
   ]
  },
  {
   "cell_type": "markdown",
   "id": "ab7c8c35-f967-495d-924e-ac3d735d1119",
   "metadata": {},
   "source": [
    "## Dependency parsing\n",
    "\n",
    "SpaCy laver også analyse af sætningskonstruktion (dependency parsing). Hvilken del af sætningen, som ordene er analyseret frem til, kan tilgås af attribut `.dep_`."
   ]
  },
  {
   "cell_type": "code",
   "execution_count": 7,
   "id": "f68e5599-d664-4ce2-91d3-9e9344346ee6",
   "metadata": {},
   "outputs": [
    {
     "name": "stdout",
     "output_type": "stream",
     "text": [
      "Politiet        nsubj\n",
      "har             aux\n",
      "givet           ROOT\n",
      "borgerne        iobj\n",
      "råd             obj\n"
     ]
    }
   ],
   "source": [
    "for word in doc:\n",
    "    print(f'{word.text:<15} {word.dep_}')"
   ]
  },
  {
   "cell_type": "markdown",
   "id": "8bac7f0e-e5d8-4e97-b040-ff4827e2bea6",
   "metadata": {},
   "source": [
    "## Named entities\n",
    "\n",
    "\"Named entities\" kan groft sagt forstås som \"meningsfulde enheder\" i teksten. Det kan fx være personer, organisationer eller steder. Ligesom ved part-of-speech tagging, fungerer \"named entity recognition\" ved, at modellen enten har set disse enheder før eller er bekendt med, hvordan sådanne enheder fremgår i sætningen (hvor er de i sætningskonstruktionen, hvilke ordklasser er de associeret med).\n",
    "\n",
    "Alle ord i en tekst er ikke en \"named entity\". Named entities kan tilgås gennem attributtet `ents` for det behandlede stykke tekst (`doc`). Fra dette kan ses, hvilke enheder er udledt, og hvordan de er kategoriseret:"
   ]
  },
  {
   "cell_type": "code",
   "execution_count": 8,
   "id": "57bb9d87-0289-43b3-a6c9-82e335303006",
   "metadata": {
    "tags": []
   },
   "outputs": [
    {
     "name": "stdout",
     "output_type": "stream",
     "text": [
      "Marie Serup     PER\n",
      "Løkke           LOC\n",
      "DR's            ORG\n"
     ]
    }
   ],
   "source": [
    "doc = nlp(\"Søs Marie Serup, politisk kommentator og tidligere særlig rådgiver for Løkke, fortalte i fredags i DR's nyhedspodcast 'Genstart' om hans evne til altid at komme tilbage i politik.\")\n",
    "\n",
    "for ent in doc.ents:\n",
    "    print(f'{ent.text:<15} {ent.label_}')"
   ]
  },
  {
   "cell_type": "markdown",
   "id": "68ec1f35-59ce-461a-8f21-8ce64ec3afa4",
   "metadata": {},
   "source": [
    "Denne sprogmodel arbejder med fire named entity tags:\n",
    "- LOC: Steder\n",
    "- ORG: Organisationer\n",
    "- PER: Personer\n",
    "- MISC: Andet\n",
    "\n",
    "Af ovenstående ses, at modellen identificerer \"DR\" som en organisation, hvilket er meget passende. Derudover genkender den \"Marie Serup\" som person, men har udeladt fornavnet \"Søs\". Dog er \"Løkke\" fejlklassificeret som et sted (LOC)."
   ]
  },
  {
   "cell_type": "markdown",
   "id": "33454436-b903-4997-a4c6-155b93c7e9ce",
   "metadata": {},
   "source": [
    "## Tilpas spaCy pipeline\n",
    "\n",
    "Når man definerer `nlp`-funktionen (sit spaCy pipeline) med en sprogmodel (`spacy.load()`), inkluderes alle komponenter som standard. Hvis man kun er interesseret i specifikke komponenter, kan man slå dele af pipeline til eller fra. \n",
    "\n",
    "Se de forskellige komponenter her: [https://spacy.io/usage/processing-pipelines#built-in](https://spacy.io/usage/processing-pipelines#built-in).\n",
    "\n",
    "Når man arbejder med store mængder tekstdata, kan det give mening at forsimple funktionen for at spare beregningstid."
   ]
  },
  {
   "cell_type": "markdown",
   "id": "067c87f1-9904-436e-b3dd-77cb4de9abd2",
   "metadata": {},
   "source": [
    "### Slå komponenter fra\n",
    "\n",
    "Man slår komponenter fra ved brug af argumentet `disable`, når man indlæser modellen."
   ]
  },
  {
   "cell_type": "code",
   "execution_count": 9,
   "id": "66b57d8f-dac2-410c-9ad5-5f48d57495ac",
   "metadata": {},
   "outputs": [],
   "source": [
    "nlp = spacy.load(\"da_core_news_sm\", disable = ['parser'])\n",
    "\n",
    "doc = nlp('Politiet har givet borgerne råd') # analysér tekststykke med nyt pipeline"
   ]
  },
  {
   "cell_type": "markdown",
   "id": "3a78e761-5259-4002-8a0d-95225b490667",
   "metadata": {},
   "source": [
    "`doc` indeholder stadig lemma, da lemmatizer stadig er slået til."
   ]
  },
  {
   "cell_type": "code",
   "execution_count": 10,
   "id": "b27130be-a3ce-4d03-b4a0-aba72c3f52c9",
   "metadata": {},
   "outputs": [
    {
     "name": "stdout",
     "output_type": "stream",
     "text": [
      "Politiet        politi\n",
      "har             have\n",
      "givet           give\n",
      "borgerne        borger\n",
      "råd             råd\n"
     ]
    }
   ],
   "source": [
    "for word in doc:\n",
    "    print(f'{word.text:<15} {word.lemma_}')"
   ]
  },
  {
   "cell_type": "markdown",
   "id": "c7a6c074-2e6e-4a83-b797-8637097e4562",
   "metadata": {},
   "source": [
    "Der er ikke længere nogen dependency labels, da `parser` er slået fra (returnerer None)."
   ]
  },
  {
   "cell_type": "code",
   "execution_count": 11,
   "id": "ba76f18c-5bb0-46b2-aec7-8e6d8e939285",
   "metadata": {},
   "outputs": [
    {
     "name": "stdout",
     "output_type": "stream",
     "text": [
      "Politiet        \n",
      "har             \n",
      "givet           \n",
      "borgerne        \n",
      "råd             \n"
     ]
    }
   ],
   "source": [
    "for word in doc:\n",
    "    print(f'{word.text:<15} {word.dep_}')"
   ]
  },
  {
   "cell_type": "markdown",
   "id": "735b4c1b-7b05-4468-adbe-39276e63c0ca",
   "metadata": {},
   "source": [
    "### Slå komponenter til\n",
    "\n",
    "Man slår komponenter til ved brug af argumentet `enable`, når man indlæser modellen. Alle komponenter, som ikke listes, slås fra."
   ]
  },
  {
   "cell_type": "code",
   "execution_count": 12,
   "id": "2ceb9cc4-df6f-423d-8997-cc9162355e69",
   "metadata": {},
   "outputs": [],
   "source": [
    "nlp = spacy.load(\"da_core_news_sm\", enable = ['parser'])\n",
    "\n",
    "doc = nlp('Politiet har givet borgerne råd') # analysér tekststykke med nyt pipeline"
   ]
  },
  {
   "cell_type": "markdown",
   "id": "32a77756-20b3-4384-b9be-f87d0d6b42da",
   "metadata": {},
   "source": [
    "`doc` indeholder nu ikke lemma, da kun parser er slået til."
   ]
  },
  {
   "cell_type": "code",
   "execution_count": 13,
   "id": "e2dcfc0b-8cc8-427b-9a01-19ce7ac60c48",
   "metadata": {},
   "outputs": [
    {
     "name": "stdout",
     "output_type": "stream",
     "text": [
      "Politiet        \n",
      "har             \n",
      "givet           \n",
      "borgerne        \n",
      "råd             \n"
     ]
    }
   ],
   "source": [
    "for word in doc:\n",
    "    print(f'{word.text:<15} {word.lemma_}')"
   ]
  },
  {
   "cell_type": "markdown",
   "id": "48d2f094-c34b-4e2a-a490-188fc678e0bb",
   "metadata": {},
   "source": [
    "Der er dependency labels, da parser er slået til."
   ]
  },
  {
   "cell_type": "code",
   "execution_count": 14,
   "id": "85911460-8bab-4161-b45e-60b63fa6cc60",
   "metadata": {},
   "outputs": [
    {
     "name": "stdout",
     "output_type": "stream",
     "text": [
      "Politiet        ROOT\n",
      "har             nsubj\n",
      "givet           punct\n",
      "borgerne        ROOT\n",
      "råd             ROOT\n"
     ]
    }
   ],
   "source": [
    "for word in doc:\n",
    "    print(f'{word.text:<15} {word.dep_}')"
   ]
  },
  {
   "cell_type": "markdown",
   "id": "5383ed55-4104-49e8-9cce-831c8cb1cd63",
   "metadata": {},
   "source": [
    "### Tokenizer som særskilt funktion\n",
    "\n",
    "Hvis man blot vil bruge tokenizeren, kan denne tilgås direkte."
   ]
  },
  {
   "cell_type": "code",
   "execution_count": 15,
   "id": "a5167a45-3bc3-41c8-a3b0-38b115540c5a",
   "metadata": {},
   "outputs": [],
   "source": [
    "nlp = spacy.load(\"da_core_news_sm\")\n",
    "\n",
    "tokenizer = nlp.tokenizer"
   ]
  },
  {
   "cell_type": "code",
   "execution_count": 16,
   "id": "efe4bf5d-53c9-4be9-8398-dc65b36068bd",
   "metadata": {},
   "outputs": [
    {
     "data": {
      "text/plain": [
       "Politiet har givet borgerne råd"
      ]
     },
     "execution_count": 16,
     "metadata": {},
     "output_type": "execute_result"
    }
   ],
   "source": [
    "tokenizer('Politiet har givet borgerne råd')"
   ]
  },
  {
   "cell_type": "markdown",
   "id": "e983f760-b3f8-430c-87ef-d6d3597336a7",
   "metadata": {},
   "source": [
    "Tokenizeren returnerer stadig et `doc` objekt, men da den kun giver tokens tilbage, kan man tvinge output om til en liste:"
   ]
  },
  {
   "cell_type": "code",
   "execution_count": 17,
   "id": "2aa64de1-7555-4d2c-9994-375a0e26dcae",
   "metadata": {},
   "outputs": [
    {
     "data": {
      "text/plain": [
       "[Politiet, har, givet, borgerne, råd]"
      ]
     },
     "execution_count": 17,
     "metadata": {},
     "output_type": "execute_result"
    }
   ],
   "source": [
    "list(tokenizer('Politiet har givet borgerne råd'))"
   ]
  },
  {
   "cell_type": "markdown",
   "id": "211ea42f-2a61-4ba9-a891-b51f25d4a9b7",
   "metadata": {},
   "source": [
    "## spaCy pipeline på flere stykker tekst\n",
    "\n",
    "Pipeline-funktionen (`nlp`) virker kun på ét stykke tekst. Afhængig af datastruktur, kan man anvende pipeline på flere stykker tekst."
   ]
  },
  {
   "cell_type": "code",
   "execution_count": 18,
   "id": "46e737a0-263d-4ed6-99b4-f1c26f24a240",
   "metadata": {},
   "outputs": [],
   "source": [
    "texts = [\n",
    "    'Smileyordningen får stor makeover: Kontrolrapporten forsvinder og en QR-kode kommer til',\n",
    "    'Bro skal rives ned: Motorvej spærres i 14 timer',\n",
    "    'Indonesien er klar med Sydøstasiens første højhastighedstog',\n",
    "    'Politiet dropper efterforskning af hospital og region efter kræftskandale',\n",
    "    'Hvad foregår der i Ikast? De kom med på et wildcard, og nu topper de hele baduljen'\n",
    "]"
   ]
  },
  {
   "cell_type": "markdown",
   "id": "7ea6b682-9a23-42d7-9b73-37cad9582b39",
   "metadata": {},
   "source": [
    "### Lister\n",
    "\n",
    "Hvis tekster er i en liste, kan man bruge metoden `.pipe()` til at anvende pipeline på flere tekststykker.\n",
    "\n",
    "`.pipe()` returnerer et \"generator object\". Dette er en speciel type objekt i Python, som kun giver et output, når den bliver kaldt (en måde at spare hukommelse). Hvis vi fx vil have teksterne tilbage som en liste af `doc`-objekter, kan man tvinge output om til en liste:"
   ]
  },
  {
   "cell_type": "code",
   "execution_count": 19,
   "id": "6db7ced2-3962-4baf-b521-b117c21402c0",
   "metadata": {},
   "outputs": [],
   "source": [
    "docs = list(nlp.pipe(texts))"
   ]
  },
  {
   "cell_type": "code",
   "execution_count": 20,
   "id": "70b74d4a-e1b2-4610-80ad-fb46f49f4fc7",
   "metadata": {},
   "outputs": [
    {
     "name": "stdout",
     "output_type": "stream",
     "text": [
      "Smileyordningen      NOUN\n",
      "får                  VERB\n",
      "stor                 ADJ\n",
      "makeover             ADP\n",
      ":                    PUNCT\n",
      "Kontrolrapporten     NOUN\n",
      "forsvinder           VERB\n",
      "og                   CCONJ\n",
      "en                   DET\n",
      "QR-kode              NOUN\n",
      "kommer               VERB\n",
      "til                  ADP\n"
     ]
    }
   ],
   "source": [
    "for word in docs[0]:\n",
    "    print(f'{word.text:<20} {word.pos_}')"
   ]
  },
  {
   "cell_type": "code",
   "execution_count": 21,
   "id": "b5e97969-e3da-4098-b69f-4a075e3189dc",
   "metadata": {},
   "outputs": [
    {
     "name": "stdout",
     "output_type": "stream",
     "text": [
      "Bro                  ADV\n",
      "skal                 AUX\n",
      "rives                VERB\n",
      "ned                  ADV\n",
      ":                    PUNCT\n",
      "Motorvej             PROPN\n",
      "spærres              VERB\n",
      "i                    ADP\n",
      "14                   NUM\n",
      "timer                NOUN\n"
     ]
    }
   ],
   "source": [
    "for word in docs[1]:\n",
    "    print(f'{word.text:<20} {word.pos_}')"
   ]
  },
  {
   "cell_type": "markdown",
   "id": "9b4ae38f-dbab-4979-b611-aab0eef86df0",
   "metadata": {},
   "source": [
    "### Pandas Series\n",
    "\n",
    "Hvis tekster er i en pandas Series, kan man bruge metoden `.apply()` i pandas. Dog forventer `.apply()`, at der kun gives ét output. Derfor bør man lave en wrapper-funktion, så man kan udpege, hvad der skal gives som output:"
   ]
  },
  {
   "cell_type": "code",
   "execution_count": 22,
   "id": "38ba6e71-fbac-4afa-8a01-2e8abeff06ce",
   "metadata": {},
   "outputs": [],
   "source": [
    "# dan funktion til at hente named entities\n",
    "\n",
    "def get_ents(text):\n",
    "    doc = nlp(text)\n",
    "\n",
    "    ents = list(doc.ents)\n",
    "\n",
    "    return(ents)"
   ]
  },
  {
   "cell_type": "code",
   "execution_count": 23,
   "id": "b7f763b4-ee6d-4b15-886a-403385d95280",
   "metadata": {},
   "outputs": [
    {
     "data": {
      "text/plain": [
       "0                       [(QR-kode)]\n",
       "1                                []\n",
       "2    [(Indonesien), (Sydøstasiens)]\n",
       "3                                []\n",
       "4                         [(Ikast)]\n",
       "dtype: object"
      ]
     },
     "execution_count": 23,
     "metadata": {},
     "output_type": "execute_result"
    }
   ],
   "source": [
    "import pandas as pd\n",
    "\n",
    "texts_s = pd.Series(texts) # konvertér liste til series\n",
    "\n",
    "texts_s.apply(get_ents) # anvend funktion på series"
   ]
  }
 ],
 "metadata": {
  "kernelspec": {
   "display_name": "Python 3 (ipykernel)",
   "language": "python",
   "name": "python3"
  },
  "language_info": {
   "codemirror_mode": {
    "name": "ipython",
    "version": 3
   },
   "file_extension": ".py",
   "mimetype": "text/x-python",
   "name": "python",
   "nbconvert_exporter": "python",
   "pygments_lexer": "ipython3",
   "version": "3.8.17"
  }
 },
 "nbformat": 4,
 "nbformat_minor": 5
}
