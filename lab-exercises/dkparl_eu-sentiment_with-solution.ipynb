{
 "cells": [
  {
   "cell_type": "markdown",
   "metadata": {},
   "source": [
    "## LAB ØVELSE: Sentiment analyse i Python\n",
    "\n",
    "### Om øvelsen\n",
    "\n",
    "I denne øvelse skal I anvende sentiment analyse på sætninger i refereater fra Folketinget. I opfordres til at bruge `asent` til at undersøge sentiment, men hvordan I inddeler tekststykkerne og udleder dem, er op til jer.\n",
    "\n",
    "Som sædvanligt med disse \"lab øvelser\" er der ikke én bestemt måde at gøre tingene på, så overvej selv, hvilken fremgangsmåde, som er mest hensigtsmæssig og som giver mest mening for jer.\n",
    "\n",
    "\n",
    "**Formål**\n",
    "\n",
    "Vi vil gerne undersøge udviklingen i, hvordan man omtaler \"EU\" i Folketinget. \n",
    "\n",
    "### Om datasættet\n",
    "\n",
    "Datasættet består af referater fra møder i Folketingssalen fra 2008-2022. Data er scrapet fra [https://www.ft.dk/da/dokumenter/dokumentlister/referater](https://www.ft.dk/da/dokumenter/dokumentlister/referater) i december 2022. \n",
    "\n",
    "I finder datasæt i mappen \"data/dk_parl\". Der findes to version:\n",
    "\n",
    "- `dkparl_parsed_20221216.json`: Rådata der indeholder al information, som kan udledes af mødereferaters HTML.\n",
    "- `dkparl_simple_20221216.json`: Simplificeret udgave, der blot indeholder dato for mødetidspunkt og tekststykker for hvert dagsordenspunkt (uden titel).\n",
    "\n",
    "*Det anbefales, at I bruger `dkparl_simple_20221216.json`*.\n",
    "\n",
    "**Datasættets struktur**\n",
    "\n",
    "`dkparl_simple_20221216.json` er en JSON-fil i \"records\"-format. Hver linje i data er et møde i Folketingssalen. Hver linje indeholder dato for mødet samt liste af referater af de enkelte punkter (som strings):\n",
    "\n",
    "```\n",
    "{'DateOfSitting': dato,\n",
    " 'items': [tekst1, tekst2, ..., tekstN]}\n",
    "{'DateOfSitting': dato,\n",
    " 'items': [tekst1, tekst2, ..., tekstN]}\n",
    "{'DateOfSitting': dato,\n",
    " 'items': [tekst1, tekst2, ..., tekstN]}\n",
    "{'DateOfSitting': dato,\n",
    " 'items': [tekst1, tekst2, ..., tekstN]}\n",
    "```\n",
    "\n",
    "**1.**\n",
    "\n",
    "Indlæs datasættet i Python. Overvej hvilken datastruktur som datasættet passer ind i. (se evt. `json.load()` funktionen fra pakken `json`: https://docs.python.org/3.8/library/json.html#json.load eller brug pandas: https://pandas.pydata.org/pandas-docs/stable/reference/api/pandas.read_json.html (`orient = 'records'`)).\n",
    "\n",
    "\n",
    "**2.**\n",
    "\n",
    "Overvej hvad data siger noget om. Hvad kan data bruges til i en samfundsanalytisk kontekst?\n",
    "\n",
    "\n",
    "**3.**\n",
    "\n",
    "Udled tekststykker (afsnit, sætninger eller andet), hvor EU italesættes (ud fra token, regex eller string matching).\n",
    "\n",
    "\n",
    "**4.**\n",
    "\n",
    "Anvend sentiment analyse på de udledte tekststykker. \n",
    "\n",
    "Det er altid en god ide at se, om man kan få funktionen til at virke på et enkelt tekststykke, før man skalerer op. \n",
    "\n",
    "Når sentiment analyse skal skaleres op (altså anvendes på flere tekststykker), kan det være en fordel at skrive en wrapper funktion (en funktion der tager et tekststykke som input og giver en samlet polaritetsscore som output).\n",
    "\n",
    "\n",
    "**5.**\n",
    "\n",
    "Undersøg udviklingen i sentiment ift. EU."
   ]
  },
  {
   "cell_type": "code",
   "execution_count": 15,
   "metadata": {
    "execution": {
     "iopub.execute_input": "2023-03-08T14:14:21.215082Z",
     "iopub.status.busy": "2023-03-08T14:14:21.214348Z",
     "iopub.status.idle": "2023-03-08T14:14:22.770999Z",
     "shell.execute_reply": "2023-03-08T14:14:22.770208Z",
     "shell.execute_reply.started": "2023-03-08T14:14:21.215025Z"
    },
    "tags": []
   },
   "outputs": [
    {
     "data": {
      "text/plain": [
       "<asent.component.Asent at 0x7f9b8e29eac0>"
      ]
     },
     "execution_count": 15,
     "metadata": {},
     "output_type": "execute_result"
    }
   ],
   "source": [
    "# indlæser pakker\n",
    "\n",
    "import os\n",
    "from os.path import join\n",
    "import json\n",
    "import pandas as pd\n",
    "import spacy\n",
    "from datetime import datetime\n",
    "import re\n",
    "from tqdm import tqdm\n",
    "from plotnine import ggplot, aes, geom_smooth, scale_x_date, labs, theme, element_text\n",
    "\n",
    "import spacy\n",
    "import asent\n",
    "\n",
    "# indlæs spacy sprogmodel og pipeline\n",
    "nlp = spacy.load('da_core_news_md') # sprogmodel skal være hentet inden, at den kan indlæses\n",
    "\n",
    "# tilføj sentiment model til pipeline\n",
    "nlp.add_pipe('asent_da_v1')"
   ]
  },
  {
   "cell_type": "code",
   "execution_count": 2,
   "metadata": {},
   "outputs": [
    {
     "data": {
      "text/html": [
       "<div>\n",
       "<style scoped>\n",
       "    .dataframe tbody tr th:only-of-type {\n",
       "        vertical-align: middle;\n",
       "    }\n",
       "\n",
       "    .dataframe tbody tr th {\n",
       "        vertical-align: top;\n",
       "    }\n",
       "\n",
       "    .dataframe thead th {\n",
       "        text-align: right;\n",
       "    }\n",
       "</style>\n",
       "<table border=\"1\" class=\"dataframe\">\n",
       "  <thead>\n",
       "    <tr style=\"text-align: right;\">\n",
       "      <th></th>\n",
       "      <th>DateOfSitting</th>\n",
       "      <th>items</th>\n",
       "      <th>date</th>\n",
       "    </tr>\n",
       "  </thead>\n",
       "  <tbody>\n",
       "    <tr>\n",
       "      <th>0</th>\n",
       "      <td>2008-11-04T13:00:00</td>\n",
       "      <td>\\nMødet er åbnet.\\nMedlemmer af Folketinget Pe...</td>\n",
       "      <td>2008-11-04 13:00:00</td>\n",
       "    </tr>\n",
       "    <tr>\n",
       "      <th>1</th>\n",
       "      <td>2008-11-04T13:00:00</td>\n",
       "      <td>1) 2. behandling af lovforslag nr. L 31:\\nFors...</td>\n",
       "      <td>2008-11-04 13:00:00</td>\n",
       "    </tr>\n",
       "    <tr>\n",
       "      <th>2</th>\n",
       "      <td>2008-11-04T13:00:00</td>\n",
       "      <td>2) 2. behandling af lovforslag nr. L 37:\\nFors...</td>\n",
       "      <td>2008-11-04 13:00:00</td>\n",
       "    </tr>\n",
       "    <tr>\n",
       "      <th>3</th>\n",
       "      <td>2008-11-04T13:00:00</td>\n",
       "      <td>3) 1. behandling af beslutningsforslag nr. B 1...</td>\n",
       "      <td>2008-11-04 13:00:00</td>\n",
       "    </tr>\n",
       "    <tr>\n",
       "      <th>4</th>\n",
       "      <td>2008-11-04T13:00:00</td>\n",
       "      <td>4) 1. behandling af beslutningsforslag nr. B 2...</td>\n",
       "      <td>2008-11-04 13:00:00</td>\n",
       "    </tr>\n",
       "  </tbody>\n",
       "</table>\n",
       "</div>"
      ],
      "text/plain": [
       "         DateOfSitting                                              items  \\\n",
       "0  2008-11-04T13:00:00  \\nMødet er åbnet.\\nMedlemmer af Folketinget Pe...   \n",
       "1  2008-11-04T13:00:00  1) 2. behandling af lovforslag nr. L 31:\\nFors...   \n",
       "2  2008-11-04T13:00:00  2) 2. behandling af lovforslag nr. L 37:\\nFors...   \n",
       "3  2008-11-04T13:00:00  3) 1. behandling af beslutningsforslag nr. B 1...   \n",
       "4  2008-11-04T13:00:00  4) 1. behandling af beslutningsforslag nr. B 2...   \n",
       "\n",
       "                 date  \n",
       "0 2008-11-04 13:00:00  \n",
       "1 2008-11-04 13:00:00  \n",
       "2 2008-11-04 13:00:00  \n",
       "3 2008-11-04 13:00:00  \n",
       "4 2008-11-04 13:00:00  "
      ]
     },
     "execution_count": 2,
     "metadata": {},
     "output_type": "execute_result"
    }
   ],
   "source": [
    "file_p = join('/work', '83232', 'data', 'dk_parl', 'dkparl_simple_20221216.json') # sti til data\n",
    "parldata = pd.read_json(file_p, orient = 'records') # indlæs med pandas\n",
    "\n",
    "parldata = parldata.explode('items').reset_index(drop = True) # omdan lister af tekster til rækker - en række per tekst\n",
    "parldata = parldata.dropna() # fjerner missing\n",
    "parldata['date'] = pd.to_datetime(parldata['DateOfSitting']) # konverter datoformat\n",
    "parldata['items'] = parldata['items'].astype(str) # tvinger til string\n",
    "\n",
    "parldata.head()"
   ]
  },
  {
   "cell_type": "code",
   "execution_count": 3,
   "metadata": {},
   "outputs": [
    {
     "data": {
      "text/plain": [
       "(27106, 3)"
      ]
     },
     "execution_count": 3,
     "metadata": {},
     "output_type": "execute_result"
    }
   ],
   "source": [
    "parldata.shape"
   ]
  },
  {
   "cell_type": "code",
   "execution_count": 4,
   "metadata": {
    "execution": {
     "iopub.execute_input": "2023-03-08T14:45:09.674433Z",
     "iopub.status.busy": "2023-03-08T14:45:09.674246Z",
     "iopub.status.idle": "2023-03-08T14:45:09.678515Z",
     "shell.execute_reply": "2023-03-08T14:45:09.677937Z",
     "shell.execute_reply.started": "2023-03-08T14:45:09.674416Z"
    },
    "tags": []
   },
   "outputs": [],
   "source": [
    "# funktion til at udlede sætninger om EU - her som sætninger som indeholder \"EU\" adskilt med punktummer\n",
    "# (bruger funktion og apply da pandas string metode gav fejl)\n",
    "\n",
    "def eu_extract(text):\n",
    "    regex_ruler = re.compile(r'(?<=\\.)([^\\.]*\\bEU\\b[^\\.]*)(?=\\.)', flags = re.MULTILINE | re.DOTALL)\n",
    "\n",
    "    matches = regex_ruler.findall(text)\n",
    "\n",
    "    return(matches)\n",
    "\n",
    "# anvend funktion til at udlede sætninger\n",
    "parldata['eu_matches'] = parldata['items'].apply(eu_extract)"
   ]
  },
  {
   "cell_type": "code",
   "execution_count": 5,
   "metadata": {
    "execution": {
     "iopub.execute_input": "2023-03-08T14:45:09.679869Z",
     "iopub.status.busy": "2023-03-08T14:45:09.679699Z",
     "iopub.status.idle": "2023-03-08T14:45:24.468101Z",
     "shell.execute_reply": "2023-03-08T14:45:24.466972Z",
     "shell.execute_reply.started": "2023-03-08T14:45:09.679854Z"
    },
    "tags": []
   },
   "outputs": [
    {
     "data": {
      "text/html": [
       "<div>\n",
       "<style scoped>\n",
       "    .dataframe tbody tr th:only-of-type {\n",
       "        vertical-align: middle;\n",
       "    }\n",
       "\n",
       "    .dataframe tbody tr th {\n",
       "        vertical-align: top;\n",
       "    }\n",
       "\n",
       "    .dataframe thead th {\n",
       "        text-align: right;\n",
       "    }\n",
       "</style>\n",
       "<table border=\"1\" class=\"dataframe\">\n",
       "  <thead>\n",
       "    <tr style=\"text-align: right;\">\n",
       "      <th></th>\n",
       "      <th>DateOfSitting</th>\n",
       "      <th>items</th>\n",
       "      <th>date</th>\n",
       "      <th>eu_matches</th>\n",
       "    </tr>\n",
       "  </thead>\n",
       "  <tbody>\n",
       "    <tr>\n",
       "      <th>0</th>\n",
       "      <td>2008-11-04T13:00:00</td>\n",
       "      <td>3) 1. behandling af beslutningsforslag nr. B 1...</td>\n",
       "      <td>2008-11-04 13:00:00</td>\n",
       "      <td>Stabilitet på Balkan er en meget vigtig målsæ...</td>\n",
       "    </tr>\n",
       "    <tr>\n",
       "      <th>1</th>\n",
       "      <td>2008-11-04T13:00:00</td>\n",
       "      <td>3) 1. behandling af beslutningsforslag nr. B 1...</td>\n",
       "      <td>2008-11-04 13:00:00</td>\n",
       "      <td>Landets reformvillighed har taget en fornufti...</td>\n",
       "    </tr>\n",
       "    <tr>\n",
       "      <th>2</th>\n",
       "      <td>2010-04-14T13:00:00</td>\n",
       "      <td>Spm. nr. US 111\\nNår man ser på den diskussion...</td>\n",
       "      <td>2010-04-14 13:00:00</td>\n",
       "      <td>Det er nemlig helt åbenlyst, at vi er i en li...</td>\n",
       "    </tr>\n",
       "    <tr>\n",
       "      <th>3</th>\n",
       "      <td>2014-02-06T10:00:00</td>\n",
       "      <td>2) 3. behandling af lovforslag nr. L 91:\\nFors...</td>\n",
       "      <td>2014-02-06 10:00:00</td>\n",
       "      <td>(Henstand med exitskat ved selskabers overfør...</td>\n",
       "    </tr>\n",
       "    <tr>\n",
       "      <th>4</th>\n",
       "      <td>2014-02-06T10:00:00</td>\n",
       "      <td>9) 1. behandling af lovforslag nr. L 121:\\nFor...</td>\n",
       "      <td>2014-02-06 10:00:00</td>\n",
       "      <td>(Implementering af EU’s energieffektivitetsdi...</td>\n",
       "    </tr>\n",
       "  </tbody>\n",
       "</table>\n",
       "</div>"
      ],
      "text/plain": [
       "         DateOfSitting                                              items  \\\n",
       "0  2008-11-04T13:00:00  3) 1. behandling af beslutningsforslag nr. B 1...   \n",
       "1  2008-11-04T13:00:00  3) 1. behandling af beslutningsforslag nr. B 1...   \n",
       "2  2010-04-14T13:00:00  Spm. nr. US 111\\nNår man ser på den diskussion...   \n",
       "3  2014-02-06T10:00:00  2) 3. behandling af lovforslag nr. L 91:\\nFors...   \n",
       "4  2014-02-06T10:00:00  9) 1. behandling af lovforslag nr. L 121:\\nFor...   \n",
       "\n",
       "                 date                                         eu_matches  \n",
       "0 2008-11-04 13:00:00   Stabilitet på Balkan er en meget vigtig målsæ...  \n",
       "1 2008-11-04 13:00:00   Landets reformvillighed har taget en fornufti...  \n",
       "2 2010-04-14 13:00:00   Det er nemlig helt åbenlyst, at vi er i en li...  \n",
       "3 2014-02-06 10:00:00   (Henstand med exitskat ved selskabers overfør...  \n",
       "4 2014-02-06 10:00:00   (Implementering af EU’s energieffektivitetsdi...  "
      ]
     },
     "execution_count": 5,
     "metadata": {},
     "output_type": "execute_result"
    }
   ],
   "source": [
    "# udvid data igen - en række per sætning og fjern missing.\n",
    "eu_s = parldata.explode('eu_matches').dropna().reset_index(drop = True) \n",
    "eu_s.head()"
   ]
  },
  {
   "cell_type": "code",
   "execution_count": 6,
   "metadata": {
    "execution": {
     "iopub.execute_input": "2023-03-08T14:46:13.411442Z",
     "iopub.status.busy": "2023-03-08T14:46:13.411219Z",
     "iopub.status.idle": "2023-03-08T14:46:13.416978Z",
     "shell.execute_reply": "2023-03-08T14:46:13.416357Z",
     "shell.execute_reply.started": "2023-03-08T14:46:13.411424Z"
    },
    "tags": []
   },
   "outputs": [],
   "source": [
    "# sentiment wrapper - blot en sum af samlet polarity (compound) for sætningerne.\n",
    "\n",
    "def simple_asent(doc):\n",
    "\n",
    "    compound_polarity = sum([sentence._.polarity.compound for sentence in doc.sents])\n",
    "\n",
    "    return(compound_polarity)"
   ]
  },
  {
   "cell_type": "code",
   "execution_count": 7,
   "metadata": {},
   "outputs": [],
   "source": [
    "# udled sentiment af sætningerne - samles i liste for at kunne bruge nlp.pipe (hurtigere bearbejdning af tekst)\n",
    "\n",
    "sentiments = []\n",
    "\n",
    "for doc in nlp.pipe(eu_s['eu_matches']): \n",
    "    sentiment = simple_asent(doc)\n",
    "\n",
    "    sentiments.append(sentiment)"
   ]
  },
  {
   "cell_type": "code",
   "execution_count": 8,
   "metadata": {},
   "outputs": [],
   "source": [
    "# tilføj til dataframe\n",
    "\n",
    "eu_s['sentiment'] = pd.Series(sentiments)"
   ]
  },
  {
   "cell_type": "code",
   "execution_count": 9,
   "metadata": {},
   "outputs": [
    {
     "data": {
      "text/html": [
       "<div>\n",
       "<style scoped>\n",
       "    .dataframe tbody tr th:only-of-type {\n",
       "        vertical-align: middle;\n",
       "    }\n",
       "\n",
       "    .dataframe tbody tr th {\n",
       "        vertical-align: top;\n",
       "    }\n",
       "\n",
       "    .dataframe thead th {\n",
       "        text-align: right;\n",
       "    }\n",
       "</style>\n",
       "<table border=\"1\" class=\"dataframe\">\n",
       "  <thead>\n",
       "    <tr style=\"text-align: right;\">\n",
       "      <th></th>\n",
       "      <th>DateOfSitting</th>\n",
       "      <th>items</th>\n",
       "      <th>date</th>\n",
       "      <th>eu_matches</th>\n",
       "      <th>sentiment</th>\n",
       "    </tr>\n",
       "  </thead>\n",
       "  <tbody>\n",
       "    <tr>\n",
       "      <th>0</th>\n",
       "      <td>2008-11-04T13:00:00</td>\n",
       "      <td>3) 1. behandling af beslutningsforslag nr. B 1...</td>\n",
       "      <td>2008-11-04 13:00:00</td>\n",
       "      <td>Stabilitet på Balkan er en meget vigtig målsæ...</td>\n",
       "      <td>0.187672</td>\n",
       "    </tr>\n",
       "    <tr>\n",
       "      <th>1</th>\n",
       "      <td>2008-11-04T13:00:00</td>\n",
       "      <td>3) 1. behandling af beslutningsforslag nr. B 1...</td>\n",
       "      <td>2008-11-04 13:00:00</td>\n",
       "      <td>Landets reformvillighed har taget en fornufti...</td>\n",
       "      <td>0.000000</td>\n",
       "    </tr>\n",
       "    <tr>\n",
       "      <th>2</th>\n",
       "      <td>2010-04-14T13:00:00</td>\n",
       "      <td>Spm. nr. US 111\\nNår man ser på den diskussion...</td>\n",
       "      <td>2010-04-14 13:00:00</td>\n",
       "      <td>Det er nemlig helt åbenlyst, at vi er i en li...</td>\n",
       "      <td>0.250000</td>\n",
       "    </tr>\n",
       "    <tr>\n",
       "      <th>3</th>\n",
       "      <td>2014-02-06T10:00:00</td>\n",
       "      <td>2) 3. behandling af lovforslag nr. L 91:\\nFors...</td>\n",
       "      <td>2014-02-06 10:00:00</td>\n",
       "      <td>(Henstand med exitskat ved selskabers overfør...</td>\n",
       "      <td>0.458831</td>\n",
       "    </tr>\n",
       "    <tr>\n",
       "      <th>4</th>\n",
       "      <td>2014-02-06T10:00:00</td>\n",
       "      <td>9) 1. behandling af lovforslag nr. L 121:\\nFor...</td>\n",
       "      <td>2014-02-06 10:00:00</td>\n",
       "      <td>(Implementering af EU’s energieffektivitetsdi...</td>\n",
       "      <td>0.000000</td>\n",
       "    </tr>\n",
       "  </tbody>\n",
       "</table>\n",
       "</div>"
      ],
      "text/plain": [
       "         DateOfSitting                                              items  \\\n",
       "0  2008-11-04T13:00:00  3) 1. behandling af beslutningsforslag nr. B 1...   \n",
       "1  2008-11-04T13:00:00  3) 1. behandling af beslutningsforslag nr. B 1...   \n",
       "2  2010-04-14T13:00:00  Spm. nr. US 111\\nNår man ser på den diskussion...   \n",
       "3  2014-02-06T10:00:00  2) 3. behandling af lovforslag nr. L 91:\\nFors...   \n",
       "4  2014-02-06T10:00:00  9) 1. behandling af lovforslag nr. L 121:\\nFor...   \n",
       "\n",
       "                 date                                         eu_matches  \\\n",
       "0 2008-11-04 13:00:00   Stabilitet på Balkan er en meget vigtig målsæ...   \n",
       "1 2008-11-04 13:00:00   Landets reformvillighed har taget en fornufti...   \n",
       "2 2010-04-14 13:00:00   Det er nemlig helt åbenlyst, at vi er i en li...   \n",
       "3 2014-02-06 10:00:00   (Henstand med exitskat ved selskabers overfør...   \n",
       "4 2014-02-06 10:00:00   (Implementering af EU’s energieffektivitetsdi...   \n",
       "\n",
       "   sentiment  \n",
       "0   0.187672  \n",
       "1   0.000000  \n",
       "2   0.250000  \n",
       "3   0.458831  \n",
       "4   0.000000  "
      ]
     },
     "execution_count": 9,
     "metadata": {},
     "output_type": "execute_result"
    }
   ],
   "source": [
    "eu_s.head()"
   ]
  },
  {
   "cell_type": "code",
   "execution_count": 16,
   "metadata": {},
   "outputs": [
    {
     "data": {
      "image/png": "[encoded data removed]",
      "text/plain": [
       "<Figure size 640x480 with 1 Axes>"
      ]
     },
     "metadata": {},
     "output_type": "display_data"
    },
    {
     "data": {
      "text/plain": [
       "<ggplot: (8769129814781)>"
      ]
     },
     "execution_count": 16,
     "metadata": {},
     "output_type": "execute_result"
    }
   ],
   "source": [
    "# dan visualisering\n",
    "\n",
    "(ggplot(data = eu_s, mapping = aes(x = 'date', y = 'sentiment')) + \n",
    " geom_smooth(method = 'lm') + \n",
    " scale_x_date(date_breaks = '1 year', date_labels = '%Y') + \n",
    " labs(x = 'Tid', y = 'Sentiment', title = 'Udvikling i sentiment om EU over tid') + \n",
    " theme(axis_text_x = element_text(angle=45, hjust=1)))"
   ]
  }
 ],
 "metadata": {
  "kernelspec": {
   "display_name": "Python 3 (ipykernel)",
   "language": "python",
   "name": "python3"
  },
  "language_info": {
   "codemirror_mode": {
    "name": "ipython",
    "version": 3
   },
   "file_extension": ".py",
   "mimetype": "text/x-python",
   "name": "python",
   "nbconvert_exporter": "python",
   "pygments_lexer": "ipython3",
   "version": "3.8.17"
  },
  "vscode": {
   "interpreter": {
    "hash": "767d51c1340bd893661ea55ea3124f6de3c7a262a8b4abca0554b478b1e2ff90"
   }
  }
 },
 "nbformat": 4,
 "nbformat_minor": 4
}
