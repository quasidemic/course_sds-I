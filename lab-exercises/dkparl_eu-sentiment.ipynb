{
 "cells": [
  {
   "cell_type": "markdown",
   "metadata": {},
   "source": [
    "## LAB ØVELSE: Sentiment analyse i Python\n",
    "\n",
    "### Om øvelsen\n",
    "\n",
    "I denne øvelse skal I anvende sentiment analyse på sætninger i refereater fra Folketinget. I opfordres til at bruge `asent` til at undersøge sentiment, men hvordan I inddeler tekststykkerne og udleder dem, er op til jer.\n",
    "\n",
    "Som sædvanligt med disse \"lab øvelser\" er der ikke én bestemt måde at gøre tingene på, så overvej selv, hvilken fremgangsmåde, som er mest hensigtsmæssig og som giver mest mening for jer.\n",
    "\n",
    "\n",
    "**Formål**\n",
    "\n",
    "Vi vil gerne undersøge udviklingen i, hvordan man omtaler \"EU\" i Folketinget. \n",
    "\n",
    "### Om datasættet\n",
    "\n",
    "Datasættet består af referater fra møder i Folketingssalen fra 2008-2022. Data er scrapet fra [https://www.ft.dk/da/dokumenter/dokumentlister/referater](https://www.ft.dk/da/dokumenter/dokumentlister/referater) i december 2022. \n",
    "\n",
    "I finder datasæt i mappen \"data/dk_parl\". Der findes to version:\n",
    "\n",
    "- `dkparl_parsed_20221216.json`: Rådata der indeholder al information, som kan udledes af mødereferaters HTML.\n",
    "- `dkparl_simple_20221216.json`: Simplificeret udgave, der blot indeholder dato for mødetidspunkt og tekststykker for hvert dagsordenspunkt (uden titel).\n",
    "\n",
    "*Det anbefales, at I bruger `dkparl_simple_20221216.json`*.\n",
    "\n",
    "**Datasættets struktur**\n",
    "\n",
    "`dkparl_simple_20221216.json` er en JSON-fil i \"records\"-format. Hver linje i data er et møde i Folketingssalen. Hver linje indeholder dato for mødet samt liste af referater af de enkelte punkter (som strings):\n",
    "\n",
    "```\n",
    "{'DateOfSitting': dato,\n",
    " 'items': [tekst1, tekst2, ..., tekstN]}\n",
    "{'DateOfSitting': dato,\n",
    " 'items': [tekst1, tekst2, ..., tekstN]}\n",
    "{'DateOfSitting': dato,\n",
    " 'items': [tekst1, tekst2, ..., tekstN]}\n",
    "{'DateOfSitting': dato,\n",
    " 'items': [tekst1, tekst2, ..., tekstN]}\n",
    "```\n",
    "\n",
    "**1.**\n",
    "\n",
    "Indlæs datasættet i Python. Overvej hvilken datastruktur som datasættet passer ind i. (se evt. `json.load()` funktionen fra pakken `json`: https://docs.python.org/3.8/library/json.html#json.load eller brug pandas: https://pandas.pydata.org/pandas-docs/stable/reference/api/pandas.read_json.html (`orient = 'records'`)).\n",
    "\n",
    "\n",
    "**2.**\n",
    "\n",
    "Overvej hvad data siger noget om. Hvad kan data bruges til i en samfundsanalytisk kontekst?\n",
    "\n",
    "\n",
    "**3.**\n",
    "\n",
    "Udled tekststykker (afsnit, sætninger eller andet), hvor EU italesættes (ud fra token, regex eller string matching).\n",
    "\n",
    "\n",
    "**4.**\n",
    "\n",
    "Anvend sentiment analyse på de udledte tekststykker. \n",
    "\n",
    "Det er altid en god ide at se, om man kan få funktionen til at virke på et enkelt tekststykke, før man skalerer op. \n",
    "\n",
    "Når sentiment analyse skal skaleres op (altså anvendes på flere tekststykker), kan det være en fordel at skrive en wrapper funktion (en funktion der tager et tekststykke som input og giver en samlet polaritetsscore som output).\n",
    "\n",
    "\n",
    "**5.**\n",
    "\n",
    "Undersøg udviklingen i sentiment ift. EU."
   ]
  }
 ],
 "metadata": {
  "kernelspec": {
   "display_name": "Python 3 (ipykernel)",
   "language": "python",
   "name": "python3"
  },
  "language_info": {
   "codemirror_mode": {
    "name": "ipython",
    "version": 3
   },
   "file_extension": ".py",
   "mimetype": "text/x-python",
   "name": "python",
   "nbconvert_exporter": "python",
   "pygments_lexer": "ipython3",
   "version": "3.8.17"
  },
  "vscode": {
   "interpreter": {
    "hash": "767d51c1340bd893661ea55ea3124f6de3c7a262a8b4abca0554b478b1e2ff90"
   }
  }
 },
 "nbformat": 4,
 "nbformat_minor": 4
}
