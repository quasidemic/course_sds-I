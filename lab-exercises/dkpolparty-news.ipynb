{
 "cells": [
  {
   "cell_type": "markdown",
   "id": "ab9ba751-f4fa-4ad7-a744-a1cbe9b225b0",
   "metadata": {},
   "source": [
    "## LAB ØVELSE: Hvad skriver de danske politiske partier om?\n",
    "\n",
    "**Om øvelsen**\n",
    "\n",
    "I denne øvelse skal I anvende teknikker til at rydde op i tekstdata, for at kunne danne et generelt overblik over, hvad forskellige nyheder og blogindlæg fra danske politiske partier handler om. I må meget gerne forsøge med forskellige måder at tokenize samt forskellige måder at optælle/vægte for at se, om det gør en forskel for det, som I når frem til.\n",
    "\n",
    "**Formål**\n",
    "\n",
    "Vi vil gerne undersøge, om der er forskel på, hvad partierne Dansk Folkeparti, Konservative og Socialistisk Folkeparti skriver om på deres hjemmesider. Vi laver simpel nøgleordsanalyse (hyppigst brugte ord) for at udlede, hvad partierne skriver om.\n",
    "\n",
    "**Om data**\n",
    "\n",
    "Data består af de 100 seneste nyheder (hentet 17/10-2022) fra sf.dk og konservative.dk samt de seneste 25 nyheder fra danskfolkeparti.dk (hentet 17/10-2022).\n",
    "\n",
    "Data ligger som enkelte tekstfiler med én mappe per parti med én tekstfil per nyhed. \n",
    "\n",
    "**1.**\n",
    "\n",
    "Indlæs data i Python. Sørg for at indlæse data på en måde, så I kan adskille mellem partierne (se evt. notebook `text_clusering` for et eksempel).\n",
    "\n",
    "**2.**\n",
    "\n",
    "Dan en tokenizer (tag evt. udgangspunkt i tokenizer fra notebooken `text-vectorization_live-coding`).  \n",
    "Sørg for at teste jeres tokenizer på enkelte tekststykker for at sikre, at den fungerer som forventet.\n",
    "\n",
    "**3.**\n",
    "\n",
    "Udled de fremtrædende/vigtigste ord for hhv. DF, Konservative og SF med brug af jeres tokenizer og evt. vectorizers fra `sklearn`.  \n",
    "\n",
    "*Tip*: Man kan også bruge tokenizers direkte på en pandas dataframe med `.apply()` (se: https://pandas.pydata.org/pandas-docs/stable/reference/api/pandas.DataFrame.apply.html).  \n",
    "Rækker kan derefter konverteres til enkeltord med `.explode()` (se: https://pandas.pydata.org/pandas-docs/stable/reference/api/pandas.DataFrame.explode.html?highlight=explode#pandas.DataFrame.explode).\n",
    "\n",
    "**4.**\n",
    "\n",
    "Eksperimentér med alternative vægtninger (tællinger, tf-idf, min. og maks. antal dokumenter, andre regler i tokenizer eller andet). Ændrer det resultatet?"
   ]
  }
 ],
 "metadata": {
  "kernelspec": {
   "display_name": "Python 3 ",
   "language": "python",
   "name": "python3"
  },
  "language_info": {
   "codemirror_mode": {
    "name": "ipython",
    "version": 3
   },
   "file_extension": ".py",
   "mimetype": "text/x-python",
   "name": "python",
   "nbconvert_exporter": "python",
   "pygments_lexer": "ipython3",
   "version": "3.10.6"
  }
 },
 "nbformat": 4,
 "nbformat_minor": 5
}
