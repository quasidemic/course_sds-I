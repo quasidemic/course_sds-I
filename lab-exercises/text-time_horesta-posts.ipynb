{
 "cells": [
  {
   "cell_type": "markdown",
   "id": "9df07dc2-3073-40b3-9d0c-6d1fe1fae81e",
   "metadata": {},
   "source": [
    "## LAB ØVELSE: Tid og tekst i Python\n",
    "\n",
    "**Om øvelsen**\n",
    "\n",
    "I denne øvelse skal anvendes teknikker inden for håndtering af tekstdata og datoer i Python. Øvelserne kan enten løses med basismoduler (fx `datetime`) eller via metoder i pandas. Der er flere måder at løse øvelserne på, men de vil kunne løses med de teknikker, som blev introduceret i de første tre Python sessioner i kurset.\n",
    "\n",
    "**Formål**\n",
    "\n",
    "Vi vil gerne undersøge udviklingen i, hvordan COVID-19 bliver diskuteret. Som case har vi udvalgt brancheforeningen Horesta (https://horesta.dk/). Som et første skridt i undersøgelsen, skal vi havde udvalgt de nyheder, som omhandler COVID-19.\n",
    "\n",
    "**Om datasættet**\n",
    "\n",
    "Datasættet består af alle nyheder fra Horesta fra april 2018 til starten af december 2020. Nyhederne er scrapet fra Horestas hjemmeside i starten af december 2020.\n",
    "\n",
    "I finder datasættet i \"data\" mappen med navn \"horesta_posts.json\".\n",
    "\n",
    "**1.**\n",
    "\n",
    "Indlæs datasættet i Python. Overvej hvilken datastruktur som datasættet passer ind i. (se evt. `json.load()` funktionen fra pakken `json`: https://docs.python.org/3.8/library/json.html#json.load).\n",
    "\n",
    "**2.**\n",
    "\n",
    "Definér passende tekstsøgnigsstrenge (evt. med regular expressions), der kan bruges til at udvælge relevante tekster om COVID-19.\n",
    "\n",
    "*Overvej*: COVID-19 nævnes ikke nødvendigvis eksplicit i alle tekster, der handler om COVID-19.\n",
    "\n",
    "**3.**\n",
    "\n",
    "Undersøg udviklingen i, hvor mange tekster, der handler om COVID-19 over tid.\n",
    "\n",
    "*Bemærk*: Hver post i datasættet har en \"publish_date\" key. Denne indeholder datoen nyheden blev lagt op.\n",
    "\n",
    "*Husk*: Grupperinger i data kan også foretages pba. tidsenheder."
   ]
  }
 ],
 "metadata": {
  "kernelspec": {
   "display_name": "Python 3 ",
   "language": "python",
   "name": "python3"
  },
  "language_info": {
   "codemirror_mode": {
    "name": "ipython",
    "version": 3
   },
   "file_extension": ".py",
   "mimetype": "text/x-python",
   "name": "python",
   "nbconvert_exporter": "python",
   "pygments_lexer": "ipython3",
   "version": "3.10.6"
  }
 },
 "nbformat": 4,
 "nbformat_minor": 5
}
