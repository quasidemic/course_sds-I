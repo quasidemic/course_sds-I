{
 "cells": [
  {
   "cell_type": "markdown",
   "id": "9df07dc2-3073-40b3-9d0c-6d1fe1fae81e",
   "metadata": {},
   "source": [
    "## LAB ØVELSE: Tid og tekst i Python\n",
    "\n",
    "**Om øvelsen**\n",
    "\n",
    "I denne øvelse skal anvendes teknikker inden for håndtering af tekstdata og datoer i Python. Øvelserne kan enten løses med basismoduler (fx `datetime`) eller via metoder i pandas. Der er flere måder at løse øvelserne på, men de vil kunne løses med de teknikker, som blev introduceret i de første tre Python sessioner i kurset.\n",
    "\n",
    "**Formål**\n",
    "\n",
    "Vi vil gerne undersøge udviklingen i, hvordan COVID-19 bliver diskuteret. Som case har vi udvalgt brancheforeningen Horesta (https://horesta.dk/). Som et første skridt i undersøgelsen, skal vi havde udvalgt de nyheder, som omhandler COVID-19.\n",
    "\n",
    "**Om datasættet**\n",
    "\n",
    "Datasættet består af alle nyheder fra Horesta fra april 2018 til starten af december 2020. Nyhederne er scrapet fra Horestas hjemmeside i starten af december 2020.\n",
    "\n",
    "I finder datasættet i \"data\" mappen med navn \"horesta_posts.json\".\n",
    "\n",
    "**1.**\n",
    "\n",
    "Indlæs datasættet i Python. Overvej hvilken datastruktur som datasættet passer ind i. (se evt. `json.load()` funktionen fra pakken `json`: https://docs.python.org/3.8/library/json.html#json.load).\n",
    "\n",
    "**2.**\n",
    "\n",
    "Definér passende tekstsøgnigsstrenge (evt. med regular expressions), der kan bruges til at udvælge relevante tekster om COVID-19.\n",
    "\n",
    "*Overvej*: COVID-19 nævnes ikke nødvendigvis eksplicit i alle tekster, der handler om COVID-19.\n",
    "\n",
    "**3.**\n",
    "\n",
    "Undersøg udviklingen i, hvor mange tekster, der handler om COVID-19 over tid.\n",
    "\n",
    "*Bemærk*: Hver post i datasættet har en \"publish_date\" key. Denne indeholder datoen nyheden blev lagt op.\n",
    "\n",
    "*Husk*: Grupperinger i data kan også foretages pba. tidsenheder."
   ]
  },
  {
   "cell_type": "markdown",
   "id": "82642d4c-385d-4f3e-b09a-fab0cab45f17",
   "metadata": {},
   "source": [
    "## Løsningsforslag"
   ]
  },
  {
   "cell_type": "code",
   "execution_count": null,
   "id": "21b681ab-1bea-4858-8d1b-f734c94c2533",
   "metadata": {
    "tags": []
   },
   "outputs": [],
   "source": [
    "# indlæs pakker og sæt stier\n",
    "import pandas as pd\n",
    "from os.path import join\n",
    "from datetime import datetime\n",
    "import json\n",
    "import re\n",
    "\n",
    "data_dir = \"/work/teaching-materials/data/horesta/horesta-posts_2018-2021.json\" # absolut sti\n",
    "#data_dir = join(\"..\", \"teaching-materials\", \"data\", \"horesta\", \"horesta-posts_2018-2021.json\")  # relativ sti"
   ]
  },
  {
   "cell_type": "markdown",
   "id": "da28da93-9e9d-40be-b5a0-5b2f7cb21c03",
   "metadata": {},
   "source": [
    "### 1 - indlæs data"
   ]
  },
  {
   "cell_type": "code",
   "execution_count": null,
   "id": "8e955452-2a1b-4a3d-83de-152c17d04655",
   "metadata": {
    "tags": []
   },
   "outputs": [],
   "source": [
    "# indlæs data\n",
    "\n",
    "with open(data_dir, 'r') as f:\n",
    "    posts = json.load(f)"
   ]
  },
  {
   "cell_type": "code",
   "execution_count": null,
   "id": "6a3838c1-e289-4fc8-a240-5081c5896a46",
   "metadata": {
    "tags": []
   },
   "outputs": [],
   "source": [
    "# hvad er det for noget? JSON records\n",
    "posts[0]"
   ]
  },
  {
   "cell_type": "code",
   "execution_count": null,
   "id": "d7ca8c31-b302-4804-a267-611465d415fa",
   "metadata": {
    "tags": []
   },
   "outputs": [],
   "source": [
    "type(posts) # datasættet er en liste"
   ]
  },
  {
   "cell_type": "code",
   "execution_count": null,
   "id": "e6767c63-eadb-4c9d-a8d1-ffa66c37cdf5",
   "metadata": {
    "tags": []
   },
   "outputs": [],
   "source": [
    "type(posts[0]) # hver indlæg i datasættet er en dictionary"
   ]
  },
  {
   "cell_type": "code",
   "execution_count": null,
   "id": "30119992-12a5-47c2-b0c9-fd0b42e018bf",
   "metadata": {
    "tags": []
   },
   "outputs": [],
   "source": [
    "len(posts) # 1351 indlæg"
   ]
  },
  {
   "cell_type": "markdown",
   "id": "bdfcbaec-830a-408b-8aa2-2514ccff5808",
   "metadata": {},
   "source": [
    "#### Sidenote - skriv til fil i python\n",
    "\n",
    "- \"open\" bruges til at skabe en filforbindelse\n",
    "- 'r' bruges til at læse/åbne\n",
    "- 'w' bruges til at skrive\n",
    "- nedenstående danner filen 'mytext.txt' og skriver \"Hello\" og \"Is this on?\" ind i filen\n",
    "- (der er sat betingelse rundt om, så I ikke ender med at skrive til filen, bare fordi I kører celler igennem)"
   ]
  },
  {
   "cell_type": "code",
   "execution_count": null,
   "id": "480ed5a9-5253-4d3b-8f6f-71a490fe0156",
   "metadata": {},
   "outputs": [],
   "source": [
    "# sådan skriver man til fil\n",
    "\n",
    "write_to_file = False\n",
    "\n",
    "if write_to_file:\n",
    "    with open('mytext.txt', 'w') as f:\n",
    "        f.write('Hello')\n",
    "        f.write('Is this on?')"
   ]
  },
  {
   "cell_type": "markdown",
   "id": "7cbff7d4-0d78-4d75-b770-2ed5417481bd",
   "metadata": {},
   "source": [
    "### 2 - Søgning efter COVID-19"
   ]
  },
  {
   "cell_type": "code",
   "execution_count": null,
   "id": "06aabc4f-10e1-4b68-9271-203916376e68",
   "metadata": {},
   "outputs": [],
   "source": [
    "pattern = re.compile(r\"covid|corona|lockdown|vaccin|pandemi\", re.IGNORECASE) # regex mønster\n",
    "\n",
    "print(pattern.search(posts[0].get('text'))) # hvad indeholder søgningen?\n",
    "\n",
    "print(bool(pattern.search(posts[0].get('text')))) # tvunget om til boolean - True/False"
   ]
  },
  {
   "cell_type": "code",
   "execution_count": null,
   "id": "21811d01-8e19-4eba-89ba-31765879083e",
   "metadata": {
    "tags": []
   },
   "outputs": [],
   "source": [
    "# filtrering af data baseret på regex\n",
    "\n",
    "posts_filtered = [] # tom liste\n",
    "\n",
    "for post in posts: # loop igennem opslag/data\n",
    "    if pattern.search(post.get('text')): # hvis mønsteret er i teksten, tilføj til liste\n",
    "        posts_filtered.append(post)"
   ]
  },
  {
   "cell_type": "code",
   "execution_count": null,
   "id": "a50a34cc-3f9b-4aff-84bd-2bc8290f598b",
   "metadata": {
    "tags": []
   },
   "outputs": [],
   "source": [
    "len(posts_filtered) # 291 matcher mønsteret"
   ]
  },
  {
   "cell_type": "markdown",
   "id": "2bb7e072-08d1-4276-955b-44ffcac248cf",
   "metadata": {},
   "source": [
    "### 2 (data frame alternativ)"
   ]
  },
  {
   "cell_type": "code",
   "execution_count": null,
   "id": "7bea396d-636d-4e10-994d-5c1fcfee91de",
   "metadata": {
    "tags": []
   },
   "outputs": [],
   "source": [
    "posts_df = pd.DataFrame.from_records(posts) # datasæt er i JSON records format - kan dannes om til dataframe med denne funktion\n",
    "posts_df.head()"
   ]
  },
  {
   "cell_type": "code",
   "execution_count": null,
   "id": "e2329c41-7d62-44d0-a596-2772ddac7689",
   "metadata": {
    "tags": []
   },
   "outputs": [],
   "source": [
    "posts_filter_df = posts_df[posts_df['text'].str.contains(pattern, regex = True)] # bruger regex som filter\n",
    "posts_filter_df.shape # også her matcher 291 mønsteret"
   ]
  },
  {
   "cell_type": "code",
   "execution_count": null,
   "id": "fe694943-86c7-4d8e-ba0c-39938a744e88",
   "metadata": {},
   "outputs": [],
   "source": [
    "posts_filter_df.head()"
   ]
  },
  {
   "cell_type": "markdown",
   "id": "48ef905a-bd8b-40f4-86f0-6ef73b864f1f",
   "metadata": {},
   "source": [
    "#### Sidenote - brug af `.get()` i dictionaries\n",
    "\n",
    "Man kan tilgå nøgler på to måder i dictionaries:\n",
    "1. Tilgå nøglen med `[key]`\n",
    "2. Tilgå nøglen med `.get(key)`\n",
    "\n",
    "Forskellen er, at hvor 1 giver fejl, hvis nøglen ikke findes, så returnerer 2 None. 2 kan være en fordel, hvis man ved, at nøglen ikke findes i alle observationer i data. På den måde undgår man, at en kørsel afbrydes midt i det hele, fordi en nøgle mangler."
   ]
  },
  {
   "cell_type": "code",
   "execution_count": null,
   "id": "661c520e-cf9f-4a9d-aabe-5775bf269de2",
   "metadata": {},
   "outputs": [],
   "source": [
    "posts[0]['ting'] # ting findes ikke - giver fejl"
   ]
  },
  {
   "cell_type": "code",
   "execution_count": null,
   "id": "03d86c5c-3e9b-4027-a0c5-5d386f3aa0fa",
   "metadata": {},
   "outputs": [],
   "source": [
    "posts[0].get('ting') # ting findes ikke - returnerer None"
   ]
  },
  {
   "cell_type": "markdown",
   "id": "c9796a9d-8a80-46cd-9c3a-0e3435da3dff",
   "metadata": {},
   "source": [
    "#### Sidenote - datoer i Python\n",
    "\n",
    "Python skal fortælles, at noget er en dato. Læses blot som strings.\n",
    "\n",
    "Datoer er tvetydige og findes i mange formater. Man konverterer string til dato ved at specificere dato formatet."
   ]
  },
  {
   "cell_type": "code",
   "execution_count": null,
   "id": "e6714e0e-a733-48ab-9cf9-0e4d37706c40",
   "metadata": {},
   "outputs": [],
   "source": [
    "datestring = \"12/09 -22\" # dato string - bemærk brug af /, - og mellemrum\n",
    "\n",
    "date = datetime.strptime(datestring, \"%d/%m -%y\") # konverterer til dato med datetime.strptime - bemærk at /, - og mellemrum skal stå i formatet også"
   ]
  },
  {
   "cell_type": "code",
   "execution_count": null,
   "id": "ac7b7a69-f29c-4848-a244-fb2b754ae264",
   "metadata": {},
   "outputs": [],
   "source": [
    "date.month # tilgå deloplysning i dato - månedstal"
   ]
  },
  {
   "cell_type": "markdown",
   "id": "70aed50a-f9a6-4ee2-a0d8-8aab5ec791ba",
   "metadata": {},
   "source": [
    "### 3 - Udvikling over tid\n",
    "\n",
    "Nedenstående fortæller python, at 'publish_date' feltet er en dato. Derefter laves felt for år-månedsværdier, så der kan optælles per måned.\n",
    "\n",
    "Feltet for år-månedsværdier dannes ved at sætte år og måned sammen som en string; fx `'2019' + '02' = '201902'`"
   ]
  },
  {
   "cell_type": "code",
   "execution_count": null,
   "id": "4c7a6b98-846d-4701-b707-0b04795bc0c3",
   "metadata": {
    "tags": []
   },
   "outputs": [],
   "source": [
    "# konverter datofelt til dato\n",
    "\n",
    "for post in posts_filtered:  # loop igennem data\n",
    "    parsed_date = datetime.strptime(post.get('publish_date'), '%d-%m - %Y') # omdanner til dato (format: dag-måned - år, fx \"04-12 - 2020\")\n",
    "    \n",
    "    post['publish_date'] = parsed_date # overskriver med formateret dato\n",
    "    \n",
    "    post['publish_yearmonth'] = str(parsed_date.year) + str(parsed_date.month).rjust(2, '0') # danner yearmonth oplysning (fx 201904). rjust sikrer, at string har karakterlængde på 2"
   ]
  },
  {
   "cell_type": "code",
   "execution_count": null,
   "id": "2793131a-b96c-4ec2-af48-82160e2c7a05",
   "metadata": {
    "tags": []
   },
   "outputs": [],
   "source": [
    "# tælling af nyheder over tid\n",
    "\n",
    "# danner liste af unikke år-månedsværdier (set) og sorterer i rækkefølge\n",
    "t_units = list(set([post.get('publish_yearmonth') for post in posts_filtered])) # set af tidsenheder \n",
    "t_units.sort() # sæt i rækkefølge\n",
    "\n",
    "for yearmonth in t_units: # looper igennem hver tidsenhed\n",
    "    \n",
    "    t_collection = [post for post in posts_filtered if post.get('publish_yearmonth') == yearmonth] # samler indlæg fra pågældende år-månedsværdi i liste\n",
    "    \n",
    "    print(f'I {yearmonth} var der {len(t_collection)} nyheder på Horesta.dk omhandlende COVID-19') # danner print. antal opslag svarer til længden af listen\n",
    "    "
   ]
  },
  {
   "cell_type": "markdown",
   "id": "7ad7d5ab-a5ad-4664-ae16-480f559ace43",
   "metadata": {
    "execution": {
     "iopub.execute_input": "2022-09-16T14:58:15.886301Z",
     "iopub.status.busy": "2022-09-16T14:58:15.885540Z",
     "iopub.status.idle": "2022-09-16T14:58:15.893609Z",
     "shell.execute_reply": "2022-09-16T14:58:15.892267Z",
     "shell.execute_reply.started": "2022-09-16T14:58:15.886243Z"
    },
    "tags": []
   },
   "source": [
    "### 3 (data frame alternativ)"
   ]
  },
  {
   "cell_type": "code",
   "execution_count": null,
   "id": "3b79fcf6-3810-4f3a-84cc-0b15f4521421",
   "metadata": {
    "tags": []
   },
   "outputs": [],
   "source": [
    "# omdanner publish_date til datoformat med pd.to_datetime\n",
    "# BEMÆRK: Koden giver en advarsel. Det er ikke en fejl. Lige denne advarsel (SettingWithCopyWarning) kan typisk ignoreres.\n",
    "\n",
    "posts_filter_df['publish_date'] = pd.to_datetime(posts_filter_df['publish_date'], format = '%d-%m - %Y') # omdanner til dato "
   ]
  },
  {
   "cell_type": "code",
   "execution_count": null,
   "id": "7dc7a00e-3f93-4647-8935-e7e4e4be9196",
   "metadata": {},
   "outputs": [],
   "source": [
    "# eksmpel på at tilgå oplysinger i kolonne konverteret til datetime - .dt attributes\n",
    "posts_filter_df['publish_date'].dt.month"
   ]
  },
  {
   "cell_type": "code",
   "execution_count": null,
   "id": "106c6b94-4327-410f-8e91-180f23436c9a",
   "metadata": {},
   "outputs": [],
   "source": [
    "posts_filter_df['publish_date'].dt.year"
   ]
  },
  {
   "cell_type": "code",
   "execution_count": null,
   "id": "2a187376-a3dd-496b-b1a5-c7bc93a89722",
   "metadata": {},
   "outputs": [],
   "source": [
    "posts_filter_df['publish_date'].dt.quarter"
   ]
  },
  {
   "cell_type": "code",
   "execution_count": null,
   "id": "2939a21b-d6eb-4fd9-9b03-2dc768efeb70",
   "metadata": {},
   "outputs": [],
   "source": [
    "# nyeste dato svarer til højeste værdi\n",
    "posts_filter_df['publish_date'].max()"
   ]
  },
  {
   "cell_type": "code",
   "execution_count": null,
   "id": "3cfa9391-4f51-4f41-a7dd-d63de5822991",
   "metadata": {
    "tags": []
   },
   "outputs": [],
   "source": [
    "# danner grupperet dataframe, hvor data grupperes efter år og måned\n",
    "\n",
    "posts_yearmonth_grouped = posts_filter_df.groupby([posts_filter_df['publish_date'].dt.year, posts_filter_df['publish_date'].dt.month]) # grupperer efter år-måned"
   ]
  },
  {
   "cell_type": "code",
   "execution_count": null,
   "id": "1930921d-0dfb-41bc-b15d-6b83aa4b5b00",
   "metadata": {},
   "outputs": [],
   "source": [
    "posts_yearmonth_grouped.size() # antal tekster i år-måned svarer til gruppestørrelsen "
   ]
  },
  {
   "cell_type": "code",
   "execution_count": null,
   "id": "588cab60-01b5-42bd-8c41-5c29de22a45b",
   "metadata": {},
   "outputs": [],
   "source": [
    "# kan visualiseres som barplot med .plot.bar()\n",
    "\n",
    "posts_yearmonth_grouped.size().plot.bar() # ovenstående som søjlediagram"
   ]
  }
 ],
 "metadata": {
  "kernelspec": {
   "display_name": "Python 3 ",
   "language": "python",
   "name": "python3"
  },
  "language_info": {
   "codemirror_mode": {
    "name": "ipython",
    "version": 3
   },
   "file_extension": ".py",
   "mimetype": "text/x-python",
   "name": "python",
   "nbconvert_exporter": "python",
   "pygments_lexer": "ipython3",
   "version": "3.10.14"
  }
 },
 "nbformat": 4,
 "nbformat_minor": 5
}
