{
 "cells": [
  {
   "cell_type": "markdown",
   "id": "9d42e4a2-e535-4fef-844b-04e399c0da56",
   "metadata": {},
   "source": [
    "## LAB ØVELSE: Datahåndtering i Python\n",
    "\n",
    "**Om øvelsen**\n",
    "\n",
    "I denne øvelse skal du bruge forskellige datahåndteringsteknikker fra Python og særligt fra `pandas` pakken. Der er flere måder at løse øvelserne på, men de kan løses med de teknikker, som indgår i materialet til første Python session. Derudover kan man altid finde hjælp og vejledninger til de forskellige pandas funktioner fra pandas dokumentationen: https://pandas.pydata.org/docs/.\n",
    "\n",
    "**Formål**\n",
    "\n",
    "Vi vil gerne undersøge sammenhængen mellem politisk ståsted (venstre- eller højreorienteret), og hvorvidt man bekymrer sig om digital teknologi og internettet. Eurobarometer-sættet indeholder data, som kan bruges til at undersøge dette. Datasættet er dog ikke med det samme klar til at foretage denne undersøgelse.\n",
    "\n",
    "**1.**\n",
    "\n",
    "Indlæs Eurobarometer-sættet som en pandas data frame. Datasættet kan findes i mappen \"data\" i kursusmaterialet på UCloud. Filen hedder \"eurobarometer-96_dk_subset.csv\". Variabeloversigt findes i mappen \"doc\" i kursusmaterialet.\n",
    "\n",
    "*Bemærk*: Datasættet er en .csv-fil.\n",
    "\n",
    "**2.**\n",
    "\n",
    "Der skal bruges et mål for respondenternes bekymring om digital teknologi. Kolonnerne `qb3_1-qb3_7` angiver områder inden for digital teknologi og internet, som respondenten er bekymret for (hvis der er et svar: bekymret; ellers er de ikke bekymret). \n",
    "\n",
    "Dan et indeks for, hvor bekymret man er for digital teknologi og internettet ud fra kolonnerne `qb3_1-qb3-7`.\n",
    "\n",
    "*Bemærk:* Kolonnerne bør rekodes til dummy-variable (0/1), inden de lægges sammen. (se evt. afsnittet om rekodning med mappings fra første python session og dokumentationen for pandas metoden `.replace()`: https://pandas.pydata.org/pandas-docs/stable/reference/api/pandas.DataFrame.replace.html).\n",
    "\n",
    "**3.**\n",
    "\n",
    "Datasættet indeholder allerede et mål for politisk ståsted. Kolonnen `d1` indeholder respondents politiske placering på venstre-højre skala (1: venstreorienteret, 10: højreorienteret). Python genkender dog ikke denne som en numerisk kolonne.\n",
    "\n",
    "Konvertér `d1` til en numerisk variabel. \n",
    "\n",
    "*Bemærk*: Nogle af værdierne skal rekodes, før den kan laves om til numerisk. Derudover skal kolonnens *datatype* tvinges om til numerisk (se evt. afsnit om typecasting fra første python session og dokumentation for pandas metoden `.astype()`: https://pandas.pydata.org/pandas-docs/stable/reference/api/pandas.Series.astype.html?highlight=astype#pandas.Series.astype).\n",
    "\n",
    "**4.**\n",
    "\n",
    "Undersøg hvorvidt indekset for bekymring om digitale teknologier og politisk placering korrelerer (brug evt. `pd.Series.corr()`: https://pandas.pydata.org/pandas-docs/stable/reference/api/pandas.Series.corr.html#pandas.Series.corr).\n",
    "\n",
    "\n",
    "**5.**\n",
    "\n",
    "Udforsk forskelle i indekset - fx forskelle mellem køn, uddannelsesniveau, region eller andet"
   ]
  }
 ],
 "metadata": {
  "kernelspec": {
   "display_name": "Python 3 (ipykernel)",
   "language": "python",
   "name": "python3"
  },
  "language_info": {
   "codemirror_mode": {
    "name": "ipython",
    "version": 3
   },
   "file_extension": ".py",
   "mimetype": "text/x-python",
   "name": "python",
   "nbconvert_exporter": "python",
   "pygments_lexer": "ipython3",
   "version": "3.12.3"
  }
 },
 "nbformat": 4,
 "nbformat_minor": 5
}
